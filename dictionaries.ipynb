{
 "cells": [
  {
   "cell_type": "code",
   "execution_count": 1,
   "metadata": {},
   "outputs": [
    {
     "name": "stdout",
     "output_type": "stream",
     "text": [
      "[11, 12, 13, 14]\n"
     ]
    }
   ],
   "source": [
    "l=[1,2,3,4]\n",
    "print [i+10 for i in l]"
   ]
  },
  {
   "cell_type": "code",
   "execution_count": 2,
   "metadata": {},
   "outputs": [
    {
     "name": "stdout",
     "output_type": "stream",
     "text": [
      "[11, 12, 13, 14]\n",
      "<generator object <genexpr> at 0x7fbb09d4d960>\n"
     ]
    }
   ],
   "source": [
    "l=[1,2,3,4]\n",
    "print [i+10 for i in l]\n",
    "print (i+10 for i in l)"
   ]
  },
  {
   "cell_type": "code",
   "execution_count": 3,
   "metadata": {},
   "outputs": [
    {
     "name": "stdout",
     "output_type": "stream",
     "text": [
      "11\n",
      "12\n",
      "13\n",
      "14\n",
      "********************\n",
      "11\n",
      "12\n",
      "13\n",
      "14\n"
     ]
    }
   ],
   "source": [
    "l=[1,2,3,4]\n",
    "res1 = [i+10 for i in l]\n",
    "res2 = (i+10 for i in l)\n",
    "for i in res1:\n",
    "    print i\n",
    "print \"*\"*20\n",
    "for i in res2:\n",
    "    print i"
   ]
  },
  {
   "cell_type": "code",
   "execution_count": 4,
   "metadata": {},
   "outputs": [
    {
     "name": "stdout",
     "output_type": "stream",
     "text": [
      "[1, 2, 3, 4]\n",
      "(1, 2, 3, 4)\n",
      "{'adhar': 'sdfgfdgwqer32', 'age': 23, 'name': 'anil kumar', 'pan': 'sdfwer324', 'sal': 2142345}\n"
     ]
    }
   ],
   "source": [
    "l=[1,2,3,4]\n",
    "t=(1,2,3,4)\n",
    "person = {\"name\":\"anil kumar\",\"age\":23,\"sal\":2142345,\"pan\":\"sdfwer324\",\"adhar\":\"sdfgfdgwqer32\"}\n",
    "print l\n",
    "print t\n",
    "print person"
   ]
  },
  {
   "cell_type": "code",
   "execution_count": 5,
   "metadata": {},
   "outputs": [
    {
     "name": "stdout",
     "output_type": "stream",
     "text": [
      "[1, 2, 3, 4]\n",
      "(1, 2, 3, 4)\n",
      "{'adhar': 'sdfgfdgwqer32', 'age': 23, 'name': 'anil kumar', 'pan': 'sdfwer324', 'sal': 2142345}\n",
      "1\n",
      "2\n",
      "3\n",
      "4\n",
      "1\n",
      "2\n",
      "3\n",
      "4\n",
      "adhar\n",
      "age\n",
      "name\n",
      "pan\n",
      "sal\n"
     ]
    }
   ],
   "source": [
    "l=[1,2,3,4]\n",
    "t=(1,2,3,4)\n",
    "person = {\"name\":\"anil kumar\",\"age\":23,\"sal\":2142345,\"pan\":\"sdfwer324\",\"adhar\":\"sdfgfdgwqer32\"}\n",
    "print l\n",
    "print t\n",
    "print person\n",
    "for i in l:\n",
    "    print i\n",
    "for i in t:\n",
    "    print i\n",
    "for i in person:\n",
    "    print i"
   ]
  },
  {
   "cell_type": "code",
   "execution_count": 6,
   "metadata": {},
   "outputs": [
    {
     "name": "stdout",
     "output_type": "stream",
     "text": [
      "{'adhar': 'sdfgfdgwqer32', 'age': 23, 'name': 'Ajay kumar', 'pan': 'sdfwer324', 'sal': 2142345}\n"
     ]
    }
   ],
   "source": [
    "person = {\"name\":\"anil kumar\",\"age\":23,\"sal\":2142345,\"pan\":\"sdfwer324\",\"adhar\":\"sdfgfdgwqer32\"}\n",
    "person[\"name\"]=\"Ajay kumar\"\n",
    "print person"
   ]
  },
  {
   "cell_type": "code",
   "execution_count": 7,
   "metadata": {},
   "outputs": [
    {
     "name": "stdout",
     "output_type": "stream",
     "text": [
      "{'name': 'anil kumar', 'sal': 2142345, 'age': 23, 'phone': '9676622023', 'adhar': 'sdfgfdgwqer32', 'pan': 'sdfwer324'}\n"
     ]
    }
   ],
   "source": [
    "person = {\"name\":\"anil kumar\",\"age\":23,\"sal\":2142345,\"pan\":\"sdfwer324\",\"adhar\":\"sdfgfdgwqer32\"}\n",
    "person[\"phone\"]=\"9676622023\"\n",
    "print person"
   ]
  },
  {
   "cell_type": "code",
   "execution_count": 8,
   "metadata": {},
   "outputs": [
    {
     "ename": "TypeError",
     "evalue": "unsupported operand type(s) for +: 'dict' and 'dict'",
     "output_type": "error",
     "traceback": [
      "\u001b[0;31m---------------------------------------------------------------------------\u001b[0m",
      "\u001b[0;31mTypeError\u001b[0m                                 Traceback (most recent call last)",
      "\u001b[0;32m<ipython-input-8-46b4a095b3e1>\u001b[0m in \u001b[0;36m<module>\u001b[0;34m()\u001b[0m\n\u001b[1;32m      1\u001b[0m \u001b[0mperson\u001b[0m \u001b[0;34m=\u001b[0m \u001b[0;34m{\u001b[0m\u001b[0;34m\"name\"\u001b[0m\u001b[0;34m:\u001b[0m\u001b[0;34m\"anil kumar\"\u001b[0m\u001b[0;34m,\u001b[0m\u001b[0;34m\"age\"\u001b[0m\u001b[0;34m:\u001b[0m\u001b[0;36m23\u001b[0m\u001b[0;34m,\u001b[0m\u001b[0;34m\"sal\"\u001b[0m\u001b[0;34m:\u001b[0m\u001b[0;36m2142345\u001b[0m\u001b[0;34m,\u001b[0m\u001b[0;34m\"pan\"\u001b[0m\u001b[0;34m:\u001b[0m\u001b[0;34m\"sdfwer324\"\u001b[0m\u001b[0;34m,\u001b[0m\u001b[0;34m\"adhar\"\u001b[0m\u001b[0;34m:\u001b[0m\u001b[0;34m\"sdfgfdgwqer32\"\u001b[0m\u001b[0;34m}\u001b[0m\u001b[0;34m\u001b[0m\u001b[0m\n\u001b[1;32m      2\u001b[0m \u001b[0maddress\u001b[0m \u001b[0;34m=\u001b[0m \u001b[0;34m{\u001b[0m\u001b[0;34m\"street\"\u001b[0m\u001b[0;34m:\u001b[0m\u001b[0;34m\"maithrivanam\"\u001b[0m\u001b[0;34m,\u001b[0m\u001b[0;34m\"landmark\"\u001b[0m\u001b[0;34m:\u001b[0m \u001b[0;34m\"Near Krithunga\"\u001b[0m\u001b[0;34m}\u001b[0m\u001b[0;34m\u001b[0m\u001b[0m\n\u001b[0;32m----> 3\u001b[0;31m \u001b[0;32mprint\u001b[0m \u001b[0mperson\u001b[0m\u001b[0;34m+\u001b[0m\u001b[0maddress\u001b[0m\u001b[0;34m\u001b[0m\u001b[0m\n\u001b[0m",
      "\u001b[0;31mTypeError\u001b[0m: unsupported operand type(s) for +: 'dict' and 'dict'"
     ]
    }
   ],
   "source": [
    "person = {\"name\":\"anil kumar\",\"age\":23,\"sal\":2142345,\"pan\":\"sdfwer324\",\"adhar\":\"sdfgfdgwqer32\"}\n",
    "address = {\"street\":\"maithrivanam\",\"landmark\": \"Near Krithunga\"}\n",
    "print person+address"
   ]
  },
  {
   "cell_type": "code",
   "execution_count": 9,
   "metadata": {},
   "outputs": [
    {
     "ename": "NameError",
     "evalue": "name 'ddress' is not defined",
     "output_type": "error",
     "traceback": [
      "\u001b[0;31m---------------------------------------------------------------------------\u001b[0m",
      "\u001b[0;31mNameError\u001b[0m                                 Traceback (most recent call last)",
      "\u001b[0;32m<ipython-input-9-69f8b180f443>\u001b[0m in \u001b[0;36m<module>\u001b[0;34m()\u001b[0m\n\u001b[1;32m      1\u001b[0m \u001b[0mperson\u001b[0m \u001b[0;34m=\u001b[0m \u001b[0;34m{\u001b[0m\u001b[0;34m\"name\"\u001b[0m\u001b[0;34m:\u001b[0m\u001b[0;34m\"anil kumar\"\u001b[0m\u001b[0;34m,\u001b[0m\u001b[0;34m\"age\"\u001b[0m\u001b[0;34m:\u001b[0m\u001b[0;36m23\u001b[0m\u001b[0;34m,\u001b[0m\u001b[0;34m\"sal\"\u001b[0m\u001b[0;34m:\u001b[0m\u001b[0;36m2142345\u001b[0m\u001b[0;34m,\u001b[0m\u001b[0;34m\"pan\"\u001b[0m\u001b[0;34m:\u001b[0m\u001b[0;34m\"sdfwer324\"\u001b[0m\u001b[0;34m,\u001b[0m\u001b[0;34m\"adhar\"\u001b[0m\u001b[0;34m:\u001b[0m\u001b[0;34m\"sdfgfdgwqer32\"\u001b[0m\u001b[0;34m}\u001b[0m\u001b[0;34m\u001b[0m\u001b[0m\n\u001b[1;32m      2\u001b[0m \u001b[0maddress\u001b[0m \u001b[0;34m=\u001b[0m \u001b[0;34m{\u001b[0m\u001b[0;34m\"street\"\u001b[0m\u001b[0;34m:\u001b[0m\u001b[0;34m\"maithrivanam\"\u001b[0m\u001b[0;34m,\u001b[0m\u001b[0;34m\"landmark\"\u001b[0m\u001b[0;34m:\u001b[0m \u001b[0;34m\"Near Krithunga\"\u001b[0m\u001b[0;34m}\u001b[0m\u001b[0;34m\u001b[0m\u001b[0m\n\u001b[0;32m----> 3\u001b[0;31m \u001b[0;32mprint\u001b[0m \u001b[0mperson\u001b[0m\u001b[0;34m-\u001b[0m\u001b[0mddress\u001b[0m\u001b[0;34m\u001b[0m\u001b[0m\n\u001b[0m",
      "\u001b[0;31mNameError\u001b[0m: name 'ddress' is not defined"
     ]
    }
   ],
   "source": [
    "person = {\"name\":\"anil kumar\",\"age\":23,\"sal\":2142345,\"pan\":\"sdfwer324\",\"adhar\":\"sdfgfdgwqer32\"}\n",
    "address = {\"street\":\"maithrivanam\",\"landmark\": \"Near Krithunga\"}\n",
    "print person-ddress"
   ]
  },
  {
   "cell_type": "code",
   "execution_count": 10,
   "metadata": {},
   "outputs": [
    {
     "ename": "TypeError",
     "evalue": "unsupported operand type(s) for *: 'dict' and 'dict'",
     "output_type": "error",
     "traceback": [
      "\u001b[0;31m---------------------------------------------------------------------------\u001b[0m",
      "\u001b[0;31mTypeError\u001b[0m                                 Traceback (most recent call last)",
      "\u001b[0;32m<ipython-input-10-c52b41fdbbd1>\u001b[0m in \u001b[0;36m<module>\u001b[0;34m()\u001b[0m\n\u001b[1;32m      1\u001b[0m \u001b[0mperson\u001b[0m \u001b[0;34m=\u001b[0m \u001b[0;34m{\u001b[0m\u001b[0;34m\"name\"\u001b[0m\u001b[0;34m:\u001b[0m\u001b[0;34m\"anil kumar\"\u001b[0m\u001b[0;34m,\u001b[0m\u001b[0;34m\"age\"\u001b[0m\u001b[0;34m:\u001b[0m\u001b[0;36m23\u001b[0m\u001b[0;34m,\u001b[0m\u001b[0;34m\"sal\"\u001b[0m\u001b[0;34m:\u001b[0m\u001b[0;36m2142345\u001b[0m\u001b[0;34m,\u001b[0m\u001b[0;34m\"pan\"\u001b[0m\u001b[0;34m:\u001b[0m\u001b[0;34m\"sdfwer324\"\u001b[0m\u001b[0;34m,\u001b[0m\u001b[0;34m\"adhar\"\u001b[0m\u001b[0;34m:\u001b[0m\u001b[0;34m\"sdfgfdgwqer32\"\u001b[0m\u001b[0;34m}\u001b[0m\u001b[0;34m\u001b[0m\u001b[0m\n\u001b[1;32m      2\u001b[0m \u001b[0maddress\u001b[0m \u001b[0;34m=\u001b[0m \u001b[0;34m{\u001b[0m\u001b[0;34m\"street\"\u001b[0m\u001b[0;34m:\u001b[0m\u001b[0;34m\"maithrivanam\"\u001b[0m\u001b[0;34m,\u001b[0m\u001b[0;34m\"landmark\"\u001b[0m\u001b[0;34m:\u001b[0m \u001b[0;34m\"Near Krithunga\"\u001b[0m\u001b[0;34m}\u001b[0m\u001b[0;34m\u001b[0m\u001b[0m\n\u001b[0;32m----> 3\u001b[0;31m \u001b[0;32mprint\u001b[0m \u001b[0mperson\u001b[0m\u001b[0;34m*\u001b[0m\u001b[0maddress\u001b[0m\u001b[0;34m\u001b[0m\u001b[0m\n\u001b[0m",
      "\u001b[0;31mTypeError\u001b[0m: unsupported operand type(s) for *: 'dict' and 'dict'"
     ]
    }
   ],
   "source": [
    "person = {\"name\":\"anil kumar\",\"age\":23,\"sal\":2142345,\"pan\":\"sdfwer324\",\"adhar\":\"sdfgfdgwqer32\"}\n",
    "address = {\"street\":\"maithrivanam\",\"landmark\": \"Near Krithunga\"}\n",
    "print person*address"
   ]
  },
  {
   "cell_type": "code",
   "execution_count": 11,
   "metadata": {},
   "outputs": [
    {
     "ename": "TypeError",
     "evalue": "unsupported operand type(s) for /: 'dict' and 'dict'",
     "output_type": "error",
     "traceback": [
      "\u001b[0;31m---------------------------------------------------------------------------\u001b[0m",
      "\u001b[0;31mTypeError\u001b[0m                                 Traceback (most recent call last)",
      "\u001b[0;32m<ipython-input-11-82fe35b72ceb>\u001b[0m in \u001b[0;36m<module>\u001b[0;34m()\u001b[0m\n\u001b[1;32m      1\u001b[0m \u001b[0mperson\u001b[0m \u001b[0;34m=\u001b[0m \u001b[0;34m{\u001b[0m\u001b[0;34m\"name\"\u001b[0m\u001b[0;34m:\u001b[0m\u001b[0;34m\"anil kumar\"\u001b[0m\u001b[0;34m,\u001b[0m\u001b[0;34m\"age\"\u001b[0m\u001b[0;34m:\u001b[0m\u001b[0;36m23\u001b[0m\u001b[0;34m,\u001b[0m\u001b[0;34m\"sal\"\u001b[0m\u001b[0;34m:\u001b[0m\u001b[0;36m2142345\u001b[0m\u001b[0;34m,\u001b[0m\u001b[0;34m\"pan\"\u001b[0m\u001b[0;34m:\u001b[0m\u001b[0;34m\"sdfwer324\"\u001b[0m\u001b[0;34m,\u001b[0m\u001b[0;34m\"adhar\"\u001b[0m\u001b[0;34m:\u001b[0m\u001b[0;34m\"sdfgfdgwqer32\"\u001b[0m\u001b[0;34m}\u001b[0m\u001b[0;34m\u001b[0m\u001b[0m\n\u001b[1;32m      2\u001b[0m \u001b[0maddress\u001b[0m \u001b[0;34m=\u001b[0m \u001b[0;34m{\u001b[0m\u001b[0;34m\"street\"\u001b[0m\u001b[0;34m:\u001b[0m\u001b[0;34m\"maithrivanam\"\u001b[0m\u001b[0;34m,\u001b[0m\u001b[0;34m\"landmark\"\u001b[0m\u001b[0;34m:\u001b[0m \u001b[0;34m\"Near Krithunga\"\u001b[0m\u001b[0;34m}\u001b[0m\u001b[0;34m\u001b[0m\u001b[0m\n\u001b[0;32m----> 3\u001b[0;31m \u001b[0;32mprint\u001b[0m \u001b[0mperson\u001b[0m\u001b[0;34m/\u001b[0m\u001b[0maddress\u001b[0m\u001b[0;34m\u001b[0m\u001b[0m\n\u001b[0m",
      "\u001b[0;31mTypeError\u001b[0m: unsupported operand type(s) for /: 'dict' and 'dict'"
     ]
    }
   ],
   "source": [
    "person = {\"name\":\"anil kumar\",\"age\":23,\"sal\":2142345,\"pan\":\"sdfwer324\",\"adhar\":\"sdfgfdgwqer32\"}\n",
    "address = {\"street\":\"maithrivanam\",\"landmark\": \"Near Krithunga\"}\n",
    "print person/address"
   ]
  },
  {
   "cell_type": "code",
   "execution_count": 12,
   "metadata": {},
   "outputs": [
    {
     "name": "stdout",
     "output_type": "stream",
     "text": [
      "True\n"
     ]
    }
   ],
   "source": [
    "person = {\"name\":\"anil kumar\",\"age\":23,\"sal\":2142345,\"pan\":\"sdfwer324\",\"adhar\":\"sdfgfdgwqer32\"}\n",
    "address = {\"street\":\"maithrivanam\",\"landmark\": \"Near Krithunga\"}\n",
    "print person>address"
   ]
  },
  {
   "cell_type": "code",
   "execution_count": 13,
   "metadata": {},
   "outputs": [
    {
     "name": "stdout",
     "output_type": "stream",
     "text": [
      "False\n"
     ]
    }
   ],
   "source": [
    "person = {\"name\":\"anil kumar\",\"age\":23,\"sal\":2142345,\"pan\":\"sdfwer324\",\"adhar\":\"sdfgfdgwqer32\"}\n",
    "address = {\"street\":\"maithrivanam\",\"landmark\": \"Near Krithunga\"}\n",
    "print person==address"
   ]
  },
  {
   "cell_type": "code",
   "execution_count": 14,
   "metadata": {},
   "outputs": [
    {
     "data": {
      "text/plain": [
       "True"
      ]
     },
     "execution_count": 14,
     "metadata": {},
     "output_type": "execute_result"
    }
   ],
   "source": [
    "d1={1:2,3:4}\n",
    "d2={1:2,3:4}\n",
    "d1==d2"
   ]
  },
  {
   "cell_type": "code",
   "execution_count": 15,
   "metadata": {},
   "outputs": [
    {
     "data": {
      "text/plain": [
       "True"
      ]
     },
     "execution_count": 15,
     "metadata": {},
     "output_type": "execute_result"
    }
   ],
   "source": [
    "d1={1:2,3:4}\n",
    "d2={3:4,1:2}\n",
    "d1==d2"
   ]
  },
  {
   "cell_type": "code",
   "execution_count": 16,
   "metadata": {},
   "outputs": [
    {
     "data": {
      "text/plain": [
       "True"
      ]
     },
     "execution_count": 16,
     "metadata": {},
     "output_type": "execute_result"
    }
   ],
   "source": [
    "d1={1:2,3:4}\n",
    "d2={2:3,3:4}\n",
    "d1<d2"
   ]
  },
  {
   "cell_type": "code",
   "execution_count": 17,
   "metadata": {},
   "outputs": [
    {
     "data": {
      "text/plain": [
       "True"
      ]
     },
     "execution_count": 17,
     "metadata": {},
     "output_type": "execute_result"
    }
   ],
   "source": [
    "d1={1:2,3:4}\n",
    "d2={1:3,3:4}\n",
    "d1<d2"
   ]
  },
  {
   "cell_type": "code",
   "execution_count": 18,
   "metadata": {},
   "outputs": [
    {
     "data": {
      "text/plain": [
       "False"
      ]
     },
     "execution_count": 18,
     "metadata": {},
     "output_type": "execute_result"
    }
   ],
   "source": [
    "d1={1:4,3:4}\n",
    "d2={1:3,3:4}\n",
    "d1<d2"
   ]
  },
  {
   "cell_type": "code",
   "execution_count": 19,
   "metadata": {},
   "outputs": [
    {
     "ename": "TypeError",
     "evalue": "unsupported operand type(s) for &: 'dict' and 'dict'",
     "output_type": "error",
     "traceback": [
      "\u001b[0;31m---------------------------------------------------------------------------\u001b[0m",
      "\u001b[0;31mTypeError\u001b[0m                                 Traceback (most recent call last)",
      "\u001b[0;32m<ipython-input-19-eedd71254ef5>\u001b[0m in \u001b[0;36m<module>\u001b[0;34m()\u001b[0m\n\u001b[0;32m----> 1\u001b[0;31m \u001b[0md1\u001b[0m \u001b[0;34m&\u001b[0m \u001b[0md2\u001b[0m\u001b[0;34m\u001b[0m\u001b[0m\n\u001b[0m",
      "\u001b[0;31mTypeError\u001b[0m: unsupported operand type(s) for &: 'dict' and 'dict'"
     ]
    }
   ],
   "source": [
    "d1 & d2"
   ]
  },
  {
   "cell_type": "code",
   "execution_count": 20,
   "metadata": {
    "collapsed": true
   },
   "outputs": [],
   "source": [
    "person = {\"name\":\"anil kumar\",\"age\":23,\"sal\":2142345,\"pan\":\"sdfwer324\",\"adhar\":\"sdfgfdgwqer32\",\"name\":\"Ajay kumar\"}"
   ]
  },
  {
   "cell_type": "code",
   "execution_count": 21,
   "metadata": {},
   "outputs": [
    {
     "name": "stdout",
     "output_type": "stream",
     "text": [
      "{'adhar': 'sdfgfdgwqer32', 'age': 23, 'name': 'Ajay kumar', 'pan': 'sdfwer324', 'sal': 2142345}\n"
     ]
    }
   ],
   "source": [
    "print person"
   ]
  },
  {
   "cell_type": "code",
   "execution_count": 22,
   "metadata": {},
   "outputs": [
    {
     "name": "stdout",
     "output_type": "stream",
     "text": [
      "{'age': 23, 'sal': 2142345, 'adhar': 'sdfgfdgwqer32', 'pan': 'sdfwer324', 'name': 'JAYARAM'}\n",
      "{'age': 23, 'sal': 2142345, 'adhar': 'sdfgfdgwqer32', 'pan': 'sdfwer324', 'name': 'JAYARAM'}\n"
     ]
    }
   ],
   "source": [
    "per = {'adhar': 'sdfgfdgwqer32', 'age': 23, 'name': 'Ajay kumar', 'pan': 'sdfwer324', 'sal': 2142345}\n",
    "per1=per\n",
    "per1[\"name\"]=\"JAYARAM\"\n",
    "print per1\n",
    "print per"
   ]
  },
  {
   "cell_type": "code",
   "execution_count": 23,
   "metadata": {},
   "outputs": [
    {
     "name": "stdout",
     "output_type": "stream",
     "text": [
      "{'age': 23, 'sal': 2142345, 'adhar': 'sdfgfdgwqer32', 'pan': 'sdfwer324', 'name': 'JAYARAM'}\n",
      "{'age': 23, 'sal': 2142345, 'adhar': 'sdfgfdgwqer32', 'pan': 'sdfwer324', 'name': 'Ajay kumar'}\n"
     ]
    }
   ],
   "source": [
    "per = {'adhar': 'sdfgfdgwqer32', 'age': 23, 'name': 'Ajay kumar', 'pan': 'sdfwer324', 'sal': 2142345}\n",
    "per1={'adhar': 'sdfgfdgwqer32', 'age': 23, 'name': 'Ajay kumar', 'pan': 'sdfwer324', 'sal': 2142345}\n",
    "per1[\"name\"]=\"JAYARAM\"\n",
    "print per1\n",
    "print per"
   ]
  },
  {
   "cell_type": "code",
   "execution_count": 24,
   "metadata": {},
   "outputs": [
    {
     "name": "stdout",
     "output_type": "stream",
     "text": [
      "{}\n"
     ]
    }
   ],
   "source": [
    "per = {'adhar': 'sdfgfdgwqer32', 'age': 23, 'name': 'Ajay kumar', 'pan': 'sdfwer324', 'sal': 2142345}\n",
    "per.clear()\n",
    "print per"
   ]
  },
  {
   "cell_type": "code",
   "execution_count": 25,
   "metadata": {},
   "outputs": [
    {
     "name": "stdout",
     "output_type": "stream",
     "text": [
      "{}\n",
      "{}\n"
     ]
    }
   ],
   "source": [
    "per = {'adhar': 'sdfgfdgwqer32', 'age': 23, 'name': 'Ajay kumar', 'pan': 'sdfwer324', 'sal': 2142345}\n",
    "per1=per\n",
    "per.clear()\n",
    "print per\n",
    "print per1"
   ]
  },
  {
   "cell_type": "code",
   "execution_count": 26,
   "metadata": {},
   "outputs": [
    {
     "name": "stdout",
     "output_type": "stream",
     "text": [
      "{}\n",
      "{'age': 23, 'sal': 2142345, 'adhar': 'sdfgfdgwqer32', 'pan': 'sdfwer324', 'name': 'Ajay kumar'}\n"
     ]
    }
   ],
   "source": [
    "per = {'adhar': 'sdfgfdgwqer32', 'age': 23, 'name': 'Ajay kumar', 'pan': 'sdfwer324', 'sal': 2142345}\n",
    "per1={'adhar': 'sdfgfdgwqer32', 'age': 23, 'name': 'Ajay kumar', 'pan': 'sdfwer324', 'sal': 2142345}\n",
    "per.clear()\n",
    "print per\n",
    "print per1"
   ]
  },
  {
   "cell_type": "code",
   "execution_count": 27,
   "metadata": {},
   "outputs": [
    {
     "name": "stdout",
     "output_type": "stream",
     "text": [
      "{}\n",
      "{}\n",
      "{'name': 'Ajay kumar', 'age': 23, 'adhar': 'sdfgfdgwqer32', 'pan': 'sdfwer324', 'sal': 2142345}\n"
     ]
    }
   ],
   "source": [
    "per = {'adhar': 'sdfgfdgwqer32', 'age': 23, 'name': 'Ajay kumar', 'pan': 'sdfwer324', 'sal': 2142345}\n",
    "per1=per.copy()\n",
    "per2=per\n",
    "per.clear()\n",
    "print per\n",
    "print per2\n",
    "print per1"
   ]
  },
  {
   "cell_type": "code",
   "execution_count": 28,
   "metadata": {},
   "outputs": [
    {
     "name": "stdout",
     "output_type": "stream",
     "text": [
      "age\n",
      "sal\n",
      "adhar\n",
      "pan\n",
      "name\n"
     ]
    }
   ],
   "source": [
    "per = {'adhar': 'sdfgfdgwqer32', 'age': 23, 'name': 'Ajay kumar', 'pan': 'sdfwer324', 'sal': 2142345}\n",
    "for i in per:\n",
    "    print i"
   ]
  },
  {
   "cell_type": "code",
   "execution_count": 29,
   "metadata": {},
   "outputs": [
    {
     "name": "stdout",
     "output_type": "stream",
     "text": [
      "age 23\n",
      "sal 2142345\n",
      "adhar sdfgfdgwqer32\n",
      "pan sdfwer324\n",
      "name Ajay kumar\n"
     ]
    }
   ],
   "source": [
    "per = {'adhar': 'sdfgfdgwqer32', 'age': 23, 'name': 'Ajay kumar', 'pan': 'sdfwer324', 'sal': 2142345}\n",
    "for i in per:\n",
    "    print i,per[i]"
   ]
  },
  {
   "cell_type": "code",
   "execution_count": 30,
   "metadata": {},
   "outputs": [
    {
     "name": "stdout",
     "output_type": "stream",
     "text": [
      "Ajay kumar\n"
     ]
    }
   ],
   "source": [
    "per = {'adhar': 'sdfgfdgwqer32', 'age': 23, 'name': 'Ajay kumar', 'pan': 'sdfwer324', 'sal': 2142345}\n",
    "print per[\"name\"]"
   ]
  },
  {
   "cell_type": "code",
   "execution_count": 31,
   "metadata": {},
   "outputs": [
    {
     "name": "stdout",
     "output_type": "stream",
     "text": [
      "Ajay kumar 23\n"
     ]
    }
   ],
   "source": [
    "per = {'adhar': 'sdfgfdgwqer32', 'age': 23, 'name': 'Ajay kumar', 'pan': 'sdfwer324', 'sal': 2142345}\n",
    "print per[\"name\"],per[\"age\"]"
   ]
  },
  {
   "cell_type": "code",
   "execution_count": 32,
   "metadata": {},
   "outputs": [
    {
     "ename": "KeyError",
     "evalue": "'phone'",
     "output_type": "error",
     "traceback": [
      "\u001b[0;31m---------------------------------------------------------------------------\u001b[0m",
      "\u001b[0;31mKeyError\u001b[0m                                  Traceback (most recent call last)",
      "\u001b[0;32m<ipython-input-32-e3bc262aee5c>\u001b[0m in \u001b[0;36m<module>\u001b[0;34m()\u001b[0m\n\u001b[1;32m      1\u001b[0m \u001b[0mper\u001b[0m \u001b[0;34m=\u001b[0m \u001b[0;34m{\u001b[0m\u001b[0;34m'adhar'\u001b[0m\u001b[0;34m:\u001b[0m \u001b[0;34m'sdfgfdgwqer32'\u001b[0m\u001b[0;34m,\u001b[0m \u001b[0;34m'age'\u001b[0m\u001b[0;34m:\u001b[0m \u001b[0;36m23\u001b[0m\u001b[0;34m,\u001b[0m \u001b[0;34m'name'\u001b[0m\u001b[0;34m:\u001b[0m \u001b[0;34m'Ajay kumar'\u001b[0m\u001b[0;34m,\u001b[0m \u001b[0;34m'pan'\u001b[0m\u001b[0;34m:\u001b[0m \u001b[0;34m'sdfwer324'\u001b[0m\u001b[0;34m,\u001b[0m \u001b[0;34m'sal'\u001b[0m\u001b[0;34m:\u001b[0m \u001b[0;36m2142345\u001b[0m\u001b[0;34m}\u001b[0m\u001b[0;34m\u001b[0m\u001b[0m\n\u001b[0;32m----> 2\u001b[0;31m \u001b[0;32mprint\u001b[0m \u001b[0mper\u001b[0m\u001b[0;34m[\u001b[0m\u001b[0;34m\"phone\"\u001b[0m\u001b[0;34m]\u001b[0m\u001b[0;34m\u001b[0m\u001b[0m\n\u001b[0m",
      "\u001b[0;31mKeyError\u001b[0m: 'phone'"
     ]
    }
   ],
   "source": [
    "per = {'adhar': 'sdfgfdgwqer32', 'age': 23, 'name': 'Ajay kumar', 'pan': 'sdfwer324', 'sal': 2142345}\n",
    "print per[\"phone\"]"
   ]
  },
  {
   "cell_type": "code",
   "execution_count": 34,
   "metadata": {},
   "outputs": [
    {
     "name": "stdout",
     "output_type": "stream",
     "text": [
      "Ajay kumar\n",
      "Ajay kumar\n"
     ]
    }
   ],
   "source": [
    "per = {'adhar': 'sdfgfdgwqer32', 'age': 23, 'name': 'Ajay kumar', 'pan': 'sdfwer324', 'sal': 2142345}\n",
    "print per.get(\"name\")\n",
    "print per[\"name\"]"
   ]
  },
  {
   "cell_type": "code",
   "execution_count": 35,
   "metadata": {},
   "outputs": [
    {
     "name": "stdout",
     "output_type": "stream",
     "text": [
      "None\n"
     ]
    },
    {
     "ename": "KeyError",
     "evalue": "'phone'",
     "output_type": "error",
     "traceback": [
      "\u001b[0;31m---------------------------------------------------------------------------\u001b[0m",
      "\u001b[0;31mKeyError\u001b[0m                                  Traceback (most recent call last)",
      "\u001b[0;32m<ipython-input-35-b7d1c348800e>\u001b[0m in \u001b[0;36m<module>\u001b[0;34m()\u001b[0m\n\u001b[1;32m      1\u001b[0m \u001b[0mper\u001b[0m \u001b[0;34m=\u001b[0m \u001b[0;34m{\u001b[0m\u001b[0;34m'adhar'\u001b[0m\u001b[0;34m:\u001b[0m \u001b[0;34m'sdfgfdgwqer32'\u001b[0m\u001b[0;34m,\u001b[0m \u001b[0;34m'age'\u001b[0m\u001b[0;34m:\u001b[0m \u001b[0;36m23\u001b[0m\u001b[0;34m,\u001b[0m \u001b[0;34m'name'\u001b[0m\u001b[0;34m:\u001b[0m \u001b[0;34m'Ajay kumar'\u001b[0m\u001b[0;34m,\u001b[0m \u001b[0;34m'pan'\u001b[0m\u001b[0;34m:\u001b[0m \u001b[0;34m'sdfwer324'\u001b[0m\u001b[0;34m,\u001b[0m \u001b[0;34m'sal'\u001b[0m\u001b[0;34m:\u001b[0m \u001b[0;36m2142345\u001b[0m\u001b[0;34m}\u001b[0m\u001b[0;34m\u001b[0m\u001b[0m\n\u001b[1;32m      2\u001b[0m \u001b[0;32mprint\u001b[0m \u001b[0mper\u001b[0m\u001b[0;34m.\u001b[0m\u001b[0mget\u001b[0m\u001b[0;34m(\u001b[0m\u001b[0;34m\"phone\"\u001b[0m\u001b[0;34m)\u001b[0m\u001b[0;34m\u001b[0m\u001b[0m\n\u001b[0;32m----> 3\u001b[0;31m \u001b[0;32mprint\u001b[0m \u001b[0mper\u001b[0m\u001b[0;34m[\u001b[0m\u001b[0;34m\"phone\"\u001b[0m\u001b[0;34m]\u001b[0m\u001b[0;34m\u001b[0m\u001b[0m\n\u001b[0m",
      "\u001b[0;31mKeyError\u001b[0m: 'phone'"
     ]
    }
   ],
   "source": [
    "per = {'adhar': 'sdfgfdgwqer32', 'age': 23, 'name': 'Ajay kumar', 'pan': 'sdfwer324', 'sal': 2142345}\n",
    "print per.get(\"phone\")\n",
    "print per[\"phone\"]"
   ]
  },
  {
   "cell_type": "code",
   "execution_count": 36,
   "metadata": {},
   "outputs": [
    {
     "name": "stdout",
     "output_type": "stream",
     "text": [
      "0000000000\n"
     ]
    },
    {
     "ename": "KeyError",
     "evalue": "'phone'",
     "output_type": "error",
     "traceback": [
      "\u001b[0;31m---------------------------------------------------------------------------\u001b[0m",
      "\u001b[0;31mKeyError\u001b[0m                                  Traceback (most recent call last)",
      "\u001b[0;32m<ipython-input-36-8c941b216445>\u001b[0m in \u001b[0;36m<module>\u001b[0;34m()\u001b[0m\n\u001b[1;32m      1\u001b[0m \u001b[0mper\u001b[0m \u001b[0;34m=\u001b[0m \u001b[0;34m{\u001b[0m\u001b[0;34m'adhar'\u001b[0m\u001b[0;34m:\u001b[0m \u001b[0;34m'sdfgfdgwqer32'\u001b[0m\u001b[0;34m,\u001b[0m \u001b[0;34m'age'\u001b[0m\u001b[0;34m:\u001b[0m \u001b[0;36m23\u001b[0m\u001b[0;34m,\u001b[0m \u001b[0;34m'name'\u001b[0m\u001b[0;34m:\u001b[0m \u001b[0;34m'Ajay kumar'\u001b[0m\u001b[0;34m,\u001b[0m \u001b[0;34m'pan'\u001b[0m\u001b[0;34m:\u001b[0m \u001b[0;34m'sdfwer324'\u001b[0m\u001b[0;34m,\u001b[0m \u001b[0;34m'sal'\u001b[0m\u001b[0;34m:\u001b[0m \u001b[0;36m2142345\u001b[0m\u001b[0;34m}\u001b[0m\u001b[0;34m\u001b[0m\u001b[0m\n\u001b[1;32m      2\u001b[0m \u001b[0;32mprint\u001b[0m \u001b[0mper\u001b[0m\u001b[0;34m.\u001b[0m\u001b[0mget\u001b[0m\u001b[0;34m(\u001b[0m\u001b[0;34m\"phone\"\u001b[0m\u001b[0;34m,\u001b[0m\u001b[0;34m\"0000000000\"\u001b[0m\u001b[0;34m)\u001b[0m\u001b[0;34m\u001b[0m\u001b[0m\n\u001b[0;32m----> 3\u001b[0;31m \u001b[0;32mprint\u001b[0m \u001b[0mper\u001b[0m\u001b[0;34m[\u001b[0m\u001b[0;34m\"phone\"\u001b[0m\u001b[0;34m]\u001b[0m\u001b[0;34m\u001b[0m\u001b[0m\n\u001b[0m",
      "\u001b[0;31mKeyError\u001b[0m: 'phone'"
     ]
    }
   ],
   "source": [
    "per = {'adhar': 'sdfgfdgwqer32', 'age': 23, 'name': 'Ajay kumar', 'pan': 'sdfwer324', 'sal': 2142345}\n",
    "print per.get(\"phone\",\"0000000000\")\n",
    "print per[\"phone\"]"
   ]
  },
  {
   "cell_type": "code",
   "execution_count": 37,
   "metadata": {},
   "outputs": [
    {
     "name": "stdout",
     "output_type": "stream",
     "text": [
      "{0: 'Default value', 1: 'Default value', 2: 'Default value', 3: 'Default value', 4: 'Default value', 5: 'Default value', 6: 'Default value', 7: 'Default value', 8: 'Default value', 9: 'Default value'}\n"
     ]
    }
   ],
   "source": [
    "keys=range(10)\n",
    "d={}\n",
    "d1=d.fromkeys(keys,\"Default value\")\n",
    "print d1"
   ]
  },
  {
   "cell_type": "code",
   "execution_count": 38,
   "metadata": {},
   "outputs": [
    {
     "name": "stdout",
     "output_type": "stream",
     "text": [
      "\n"
     ]
    }
   ],
   "source": [
    "per = {'adhar': 'sdfgfdgwqer32', 'age': 23, 'name': 'Ajay kumar', 'pan': 'sdfwer324', 'sal': 2142345}\n",
    "if \"phone\" in per:\n",
    "    print per[\"phone\"]\n",
    "else:\n",
    "    print \"\""
   ]
  },
  {
   "cell_type": "code",
   "execution_count": 39,
   "metadata": {},
   "outputs": [
    {
     "name": "stdout",
     "output_type": "stream",
     "text": [
      "\n"
     ]
    }
   ],
   "source": [
    "per = {'adhar': 'sdfgfdgwqer32', 'age': 23, 'name': 'Ajay kumar', 'pan': 'sdfwer324', 'sal': 2142345}\n",
    "if 23 in per:\n",
    "    print per[\"phone\"]\n",
    "else:\n",
    "    print \"\""
   ]
  },
  {
   "cell_type": "code",
   "execution_count": 40,
   "metadata": {},
   "outputs": [
    {
     "name": "stdout",
     "output_type": "stream",
     "text": [
      "Ajay kumar\n"
     ]
    }
   ],
   "source": [
    "per = {'adhar': 'sdfgfdgwqer32', 'age': 23, 'name': 'Ajay kumar', 'pan': 'sdfwer324', 'sal': 2142345}\n",
    "if \"name\" in per:\n",
    "    print per[\"name\"]\n",
    "else:\n",
    "    print \"\""
   ]
  },
  {
   "cell_type": "code",
   "execution_count": 41,
   "metadata": {},
   "outputs": [
    {
     "data": {
      "text/plain": [
       "['age', 'sal', 'adhar', 'pan', 'name']"
      ]
     },
     "execution_count": 41,
     "metadata": {},
     "output_type": "execute_result"
    }
   ],
   "source": [
    "per.keys()"
   ]
  },
  {
   "cell_type": "code",
   "execution_count": 42,
   "metadata": {},
   "outputs": [
    {
     "data": {
      "text/plain": [
       "True"
      ]
     },
     "execution_count": 42,
     "metadata": {},
     "output_type": "execute_result"
    }
   ],
   "source": [
    "per.has_key(\"name\")"
   ]
  },
  {
   "cell_type": "code",
   "execution_count": 43,
   "metadata": {},
   "outputs": [
    {
     "data": {
      "text/plain": [
       "False"
      ]
     },
     "execution_count": 43,
     "metadata": {},
     "output_type": "execute_result"
    }
   ],
   "source": [
    "per.has_key(\"phone\")"
   ]
  },
  {
   "cell_type": "code",
   "execution_count": 44,
   "metadata": {},
   "outputs": [
    {
     "data": {
      "text/plain": [
       "[23, 2142345, 'sdfgfdgwqer32', 'sdfwer324', 'Ajay kumar']"
      ]
     },
     "execution_count": 44,
     "metadata": {},
     "output_type": "execute_result"
    }
   ],
   "source": [
    "per.values()"
   ]
  },
  {
   "cell_type": "code",
   "execution_count": 45,
   "metadata": {},
   "outputs": [
    {
     "data": {
      "text/plain": [
       "True"
      ]
     },
     "execution_count": 45,
     "metadata": {},
     "output_type": "execute_result"
    }
   ],
   "source": [
    "23 in per.values()"
   ]
  },
  {
   "cell_type": "code",
   "execution_count": 47,
   "metadata": {},
   "outputs": [
    {
     "name": "stdout",
     "output_type": "stream",
     "text": [
      "{'age': 23, 'sal': 2142345, 'adhar': 'sdfgfdgwqer32', 'pan': 'sdfwer324', 'name': 'Ajay kumar'}\n"
     ]
    }
   ],
   "source": [
    "print per"
   ]
  },
  {
   "cell_type": "code",
   "execution_count": 48,
   "metadata": {},
   "outputs": [
    {
     "data": {
      "text/plain": [
       "[('age', 23),\n",
       " ('sal', 2142345),\n",
       " ('adhar', 'sdfgfdgwqer32'),\n",
       " ('pan', 'sdfwer324'),\n",
       " ('name', 'Ajay kumar')]"
      ]
     },
     "execution_count": 48,
     "metadata": {},
     "output_type": "execute_result"
    }
   ],
   "source": [
    "per.items()"
   ]
  },
  {
   "cell_type": "code",
   "execution_count": 49,
   "metadata": {},
   "outputs": [
    {
     "name": "stdout",
     "output_type": "stream",
     "text": [
      "age\n",
      "sal\n",
      "adhar\n",
      "pan\n",
      "name\n"
     ]
    }
   ],
   "source": [
    "for i in per:\n",
    "    print i"
   ]
  },
  {
   "cell_type": "code",
   "execution_count": 50,
   "metadata": {},
   "outputs": [
    {
     "name": "stdout",
     "output_type": "stream",
     "text": [
      "('age', 23)\n",
      "('sal', 2142345)\n",
      "('adhar', 'sdfgfdgwqer32')\n",
      "('pan', 'sdfwer324')\n",
      "('name', 'Ajay kumar')\n"
     ]
    }
   ],
   "source": [
    "for i in per.items():\n",
    "    print i"
   ]
  },
  {
   "cell_type": "code",
   "execution_count": 51,
   "metadata": {},
   "outputs": [
    {
     "name": "stdout",
     "output_type": "stream",
     "text": [
      "age 23\n",
      "sal 2142345\n",
      "adhar sdfgfdgwqer32\n",
      "pan sdfwer324\n",
      "name Ajay kumar\n"
     ]
    }
   ],
   "source": [
    "for i in per.items():\n",
    "    key,value = i\n",
    "    print key, value"
   ]
  },
  {
   "cell_type": "code",
   "execution_count": 52,
   "metadata": {},
   "outputs": [
    {
     "name": "stdout",
     "output_type": "stream",
     "text": [
      "age 23\n",
      "sal 2142345\n",
      "adhar sdfgfdgwqer32\n",
      "pan sdfwer324\n",
      "name Ajay kumar\n"
     ]
    }
   ],
   "source": [
    "for key,value in per.items():\n",
    "    print key, value"
   ]
  },
  {
   "cell_type": "code",
   "execution_count": 53,
   "metadata": {},
   "outputs": [
    {
     "name": "stdout",
     "output_type": "stream",
     "text": [
      "{'city': 'hyderabad', 'name': 'Ajay kumar', 'sal': 2142345, 'age': 23, 'phone': 4567890, 'adhar': 'sdfgfdgwqer32', 'pan': 'sdfwer324'}\n"
     ]
    }
   ],
   "source": [
    "per = {'age': 23, 'sal': 2142345, 'adhar': 'sdfgfdgwqer32', 'pan': 'sdfwer324', 'name': 'Ajay kumar'}\n",
    "per[\"phone\"]=4567890\n",
    "per.setdefault(\"city\",\"hyderabad\")\n",
    "print per"
   ]
  },
  {
   "cell_type": "code",
   "execution_count": 54,
   "metadata": {},
   "outputs": [
    {
     "name": "stdout",
     "output_type": "stream",
     "text": [
      "{'name': 'Ajay kumar', 'sal': 2142345, 'age': 23, 'adhar': 'sdfgfdgwqer32', 'address': {'city': 'HYD', 'state': 'TS', 'street': ',aithrivanam'}, 'pan': 'sdfwer324'}\n"
     ]
    }
   ],
   "source": [
    "per = {'age': 23, 'sal': 2142345, 'adhar': 'sdfgfdgwqer32', 'pan': 'sdfwer324', 'name': 'Ajay kumar'}\n",
    "address = {\"street\":\",aithrivanam\",\"city\":\"HYD\",\"state\":\"TS\"}\n",
    "per.setdefault(\"address\",address)\n",
    "print per"
   ]
  },
  {
   "cell_type": "code",
   "execution_count": 55,
   "metadata": {},
   "outputs": [
    {
     "name": "stdout",
     "output_type": "stream",
     "text": [
      "{'city': 'HYD', 'name': 'Ajay kumar', 'sal': 2142345, 'age': 23, 'state': 'TS', 'street': ',aithrivanam', 'adhar': 'sdfgfdgwqer32', 'pan': 'sdfwer324'}\n",
      "{'city': 'HYD', 'state': 'TS', 'street': ',aithrivanam'}\n"
     ]
    }
   ],
   "source": [
    "per = {'age': 23, 'sal': 2142345, 'adhar': 'sdfgfdgwqer32', 'pan': 'sdfwer324', 'name': 'Ajay kumar'}\n",
    "address = {\"street\":\",aithrivanam\",\"city\":\"HYD\",\"state\":\"TS\"}\n",
    "per.update(address)\n",
    "print per\n",
    "print address"
   ]
  },
  {
   "cell_type": "code",
   "execution_count": 56,
   "metadata": {},
   "outputs": [
    {
     "name": "stdout",
     "output_type": "stream",
     "text": [
      "name Ajay kumar\n",
      "age 23\n",
      "adhar sdfgfdgwqer32\n",
      "pan sdfwer324\n",
      "sal 2142345\n",
      "********************\n",
      "name Ajay kumar\n",
      "age 23\n",
      "adhar sdfgfdgwqer32\n",
      "pan sdfwer324\n",
      "sal 2142345\n",
      "********************\n",
      "name Ajay kumar\n",
      "age 23\n",
      "adhar sdfgfdgwqer32\n",
      "pan sdfwer324\n",
      "sal 2142345\n",
      "********************\n"
     ]
    }
   ],
   "source": [
    "per = {'age': 23, 'sal': 2142345, 'adhar': 'sdfgfdgwqer32', 'pan': 'sdfwer324', 'name': 'Ajay kumar'}\n",
    "for key,value in per.items():\n",
    "    print key, value\n",
    "print \"*\"*20\n",
    "for key,value in per.iteritems():\n",
    "    print key, value\n",
    "print \"*\"*20\n",
    "for key,value in per.viewitems():\n",
    "    print key, value\n",
    "print \"*\"*20\n"
   ]
  },
  {
   "cell_type": "code",
   "execution_count": 57,
   "metadata": {
    "collapsed": true
   },
   "outputs": [],
   "source": [
    "d={\"int\":1,\"float\":1.2,\"list\":[1,2,3,4],\"tuple\":(1,2,3,4),\"dict\":{1:2,3:4,5:6},\"complex\":1+2j,\"boolean\":True}"
   ]
  },
  {
   "cell_type": "code",
   "execution_count": null,
   "metadata": {
    "collapsed": true
   },
   "outputs": [],
   "source": []
  }
 ],
 "metadata": {
  "kernelspec": {
   "display_name": "Python 2",
   "language": "python",
   "name": "python2"
  },
  "language_info": {
   "codemirror_mode": {
    "name": "ipython",
    "version": 2
   },
   "file_extension": ".py",
   "mimetype": "text/x-python",
   "name": "python",
   "nbconvert_exporter": "python",
   "pygments_lexer": "ipython2",
   "version": "2.7.14"
  }
 },
 "nbformat": 4,
 "nbformat_minor": 2
}
