{
 "cells": [
  {
   "cell_type": "code",
   "execution_count": 1,
   "metadata": {},
   "outputs": [
    {
     "name": "stdout",
     "output_type": "stream",
     "text": [
      "Mobiles avaailable in store:\n",
      "\t1.Android\n",
      "\t2.Windows\n",
      "\t3.Mac\n"
     ]
    }
   ],
   "source": [
    "\"\"\"\n",
    "Mobiles avaailable in store:\n",
    "    1. Android\n",
    "    2. Windows\n",
    "    3. Mac\n",
    "\"\"\"\n",
    "print \"Mobiles avaailable in store:\\n\\t1.Android\\n\\t2.Windows\\n\\t3.Mac\""
   ]
  },
  {
   "cell_type": "code",
   "execution_count": 2,
   "metadata": {},
   "outputs": [
    {
     "name": "stdout",
     "output_type": "stream",
     "text": [
      "Mobiles avaailable in store:\n",
      "\t1.Android\n",
      "\t2.Windows\n",
      "\t3.Mac\n",
      "Select an option:1\n"
     ]
    }
   ],
   "source": [
    "\"\"\"\n",
    "Mobiles avaailable in store:\n",
    "    1. Android\n",
    "    2. Windows\n",
    "    3. Mac\n",
    "\"\"\"\n",
    "print \"Mobiles avaailable in store:\\n\\t1.Android\\n\\t2.Windows\\n\\t3.Mac\"\n",
    "opt=raw_input(\"Select an option:\")"
   ]
  },
  {
   "cell_type": "code",
   "execution_count": 3,
   "metadata": {},
   "outputs": [
    {
     "name": "stdout",
     "output_type": "stream",
     "text": [
      "1\n"
     ]
    }
   ],
   "source": [
    "print opt"
   ]
  },
  {
   "cell_type": "code",
   "execution_count": 4,
   "metadata": {},
   "outputs": [
    {
     "name": "stdout",
     "output_type": "stream",
     "text": [
      "Welcome\n",
      "Mobiles avaailable in store:\n",
      "\t1.Android\n",
      "\t2.Windows\n",
      "\t3.Mac\n",
      "Select an option:1\n",
      "Goto First floor to buy Android os mobiles\n",
      "Goto second floor to buy windows os mobiles\n",
      "Goto third floor to buy Mac os mobiles\n",
      "Happy shoping\n"
     ]
    }
   ],
   "source": [
    "\"\"\"\n",
    "Mobiles avaailable in store:\n",
    "    1. Android\n",
    "    2. Windows\n",
    "    3. Mac\n",
    "\"\"\"\n",
    "print \"Welcome\"\n",
    "print \"Mobiles avaailable in store:\\n\\t1.Android\\n\\t2.Windows\\n\\t3.Mac\"\n",
    "opt=raw_input(\"Select an option:\")\n",
    "print \"Goto First floor to buy Android os mobiles\"\n",
    "print \"Goto second floor to buy windows os mobiles\"\n",
    "print \"Goto third floor to buy Mac os mobiles\"\n",
    "print \"Happy shoping\""
   ]
  },
  {
   "cell_type": "code",
   "execution_count": 7,
   "metadata": {},
   "outputs": [
    {
     "name": "stdout",
     "output_type": "stream",
     "text": [
      "Welcome\n",
      "Mobiles avaailable in store:\n",
      "\t1.Android\n",
      "\t2.Windows\n",
      "\t3.Mac\n",
      "Select an option:1\n",
      "Happy shoping\n"
     ]
    }
   ],
   "source": [
    "\"\"\"\n",
    "Mobiles avaailable in store:\n",
    "    1. Android\n",
    "    2. Windows\n",
    "    3. Mac\n",
    "\"\"\"\n",
    "print \"Welcome\"\n",
    "print \"Mobiles avaailable in store:\\n\\t1.Android\\n\\t2.Windows\\n\\t3.Mac\"\n",
    "opt=raw_input(\"Select an option:\")\n",
    "if opt==1:\n",
    "    print \"Goto First floor to buy Android os mobiles\"\n",
    "if opt==2:\n",
    "    print \"Goto second floor to buy windows os mobiles\"\n",
    "if opt==3:\n",
    "    print \"Goto third floor to buy Mac os mobiles\"\n",
    "print \"Happy shoping\""
   ]
  },
  {
   "cell_type": "code",
   "execution_count": 8,
   "metadata": {},
   "outputs": [
    {
     "data": {
      "text/plain": [
       "False"
      ]
     },
     "execution_count": 8,
     "metadata": {},
     "output_type": "execute_result"
    }
   ],
   "source": [
    "\"1\"==1"
   ]
  },
  {
   "cell_type": "code",
   "execution_count": 9,
   "metadata": {},
   "outputs": [
    {
     "data": {
      "text/plain": [
       "True"
      ]
     },
     "execution_count": 9,
     "metadata": {},
     "output_type": "execute_result"
    }
   ],
   "source": [
    "\"2\">20004995"
   ]
  },
  {
   "cell_type": "code",
   "execution_count": 10,
   "metadata": {},
   "outputs": [
    {
     "data": {
      "text/plain": [
       "True"
      ]
     },
     "execution_count": 10,
     "metadata": {},
     "output_type": "execute_result"
    }
   ],
   "source": [
    "\"1\"==\"1\""
   ]
  },
  {
   "cell_type": "code",
   "execution_count": 11,
   "metadata": {},
   "outputs": [
    {
     "name": "stdout",
     "output_type": "stream",
     "text": [
      "Welcome\n",
      "Mobiles avaailable in store:\n",
      "\t1.Android\n",
      "\t2.Windows\n",
      "\t3.Mac\n",
      "Select an option:1\n",
      "Goto First floor to buy Android os mobiles\n",
      "Happy shoping\n"
     ]
    }
   ],
   "source": [
    "\"\"\"\n",
    "Mobiles avaailable in store:\n",
    "    1. Android\n",
    "    2. Windows\n",
    "    3. Mac\n",
    "\"\"\"\n",
    "print \"Welcome\"\n",
    "print \"Mobiles avaailable in store:\\n\\t1.Android\\n\\t2.Windows\\n\\t3.Mac\"\n",
    "opt=raw_input(\"Select an option:\")\n",
    "if opt==\"1\":\n",
    "    print \"Goto First floor to buy Android os mobiles\"\n",
    "if opt==\"2\":\n",
    "    print \"Goto second floor to buy windows os mobiles\"\n",
    "if opt==\"3\":\n",
    "    print \"Goto third floor to buy Mac os mobiles\"\n",
    "print \"Happy shoping\""
   ]
  },
  {
   "cell_type": "code",
   "execution_count": 12,
   "metadata": {},
   "outputs": [
    {
     "name": "stdout",
     "output_type": "stream",
     "text": [
      "Welcome\n",
      "Mobiles avaailable in store:\n",
      "\t1.Android\n",
      "\t2.Windows\n",
      "\t3.Mac\n",
      "Select an option:2\n",
      "Goto second floor to buy windows os mobiles\n",
      "Happy shoping\n"
     ]
    }
   ],
   "source": [
    "\"\"\"\n",
    "Mobiles avaailable in store:\n",
    "    1. Android\n",
    "    2. Windows\n",
    "    3. Mac\n",
    "\"\"\"\n",
    "print \"Welcome\"\n",
    "print \"Mobiles avaailable in store:\\n\\t1.Android\\n\\t2.Windows\\n\\t3.Mac\"\n",
    "opt=raw_input(\"Select an option:\")\n",
    "if opt==\"1\":\n",
    "    print \"Goto First floor to buy Android os mobiles\"\n",
    "if opt==\"2\":\n",
    "    print \"Goto second floor to buy windows os mobiles\"\n",
    "if opt==\"3\":\n",
    "    print \"Goto third floor to buy Mac os mobiles\"\n",
    "print \"Happy shoping\""
   ]
  },
  {
   "cell_type": "code",
   "execution_count": 13,
   "metadata": {},
   "outputs": [
    {
     "name": "stdout",
     "output_type": "stream",
     "text": [
      "Welcome\n",
      "Mobiles avaailable in store:\n",
      "\t1.Android\n",
      "\t2.Windows\n",
      "\t3.Mac\n",
      "Select an option:3\n",
      "Goto third floor to buy Mac os mobiles\n",
      "Happy shoping\n"
     ]
    }
   ],
   "source": [
    "\"\"\"\n",
    "Mobiles avaailable in store:\n",
    "    1. Android\n",
    "    2. Windows\n",
    "    3. Mac\n",
    "\"\"\"\n",
    "print \"Welcome\"\n",
    "print \"Mobiles avaailable in store:\\n\\t1.Android\\n\\t2.Windows\\n\\t3.Mac\"\n",
    "opt=raw_input(\"Select an option:\")\n",
    "if opt==\"1\":\n",
    "    print \"Goto First floor to buy Android os mobiles\"\n",
    "if opt==\"2\":\n",
    "    print \"Goto second floor to buy windows os mobiles\"\n",
    "if opt==\"3\":\n",
    "    print \"Goto third floor to buy Mac os mobiles\"\n",
    "print \"Happy shoping\""
   ]
  },
  {
   "cell_type": "code",
   "execution_count": 14,
   "metadata": {},
   "outputs": [
    {
     "name": "stdout",
     "output_type": "stream",
     "text": [
      "Welcome\n",
      "Mobiles avaailable in store:\n",
      "\t1.Android\n",
      "\t2.Windows\n",
      "\t3.Mac\n",
      "Select an option:4\n",
      "Happy shoping\n"
     ]
    }
   ],
   "source": [
    "\"\"\"\n",
    "Mobiles avaailable in store:\n",
    "    1. Android\n",
    "    2. Windows\n",
    "    3. Mac\n",
    "\"\"\"\n",
    "print \"Welcome\"\n",
    "print \"Mobiles avaailable in store:\\n\\t1.Android\\n\\t2.Windows\\n\\t3.Mac\"\n",
    "opt=raw_input(\"Select an option:\")\n",
    "if opt==\"1\":\n",
    "    print \"Goto First floor to buy Android os mobiles\"\n",
    "if opt==\"2\":\n",
    "    print \"Goto second floor to buy windows os mobiles\"\n",
    "if opt==\"3\":\n",
    "    print \"Goto third floor to buy Mac os mobiles\"\n",
    "print \"Happy shoping\""
   ]
  },
  {
   "cell_type": "code",
   "execution_count": 15,
   "metadata": {},
   "outputs": [
    {
     "name": "stdout",
     "output_type": "stream",
     "text": [
      "Welcome\n",
      "Mobiles avaailable in store:\n",
      "\t1.Android\n",
      "\t2.Windows\n",
      "\t3.Mac\n",
      "Select an option:4\n",
      "Have only three floors. Select 1 or 2 or 3.\n",
      "Happy shoping\n"
     ]
    }
   ],
   "source": [
    "\"\"\"\n",
    "Mobiles avaailable in store:\n",
    "    1. Android\n",
    "    2. Windows\n",
    "    3. Mac\n",
    "\"\"\"\n",
    "print \"Welcome\"\n",
    "print \"Mobiles avaailable in store:\\n\\t1.Android\\n\\t2.Windows\\n\\t3.Mac\"\n",
    "opt=raw_input(\"Select an option:\")\n",
    "if opt==\"1\":\n",
    "    print \"Goto First floor to buy Android os mobiles\"\n",
    "if opt==\"2\":\n",
    "    print \"Goto second floor to buy windows os mobiles\"\n",
    "if opt==\"3\":\n",
    "    print \"Goto third floor to buy Mac os mobiles\"\n",
    "else:\n",
    "    print \"Have only three floors. Select 1 or 2 or 3.\"\n",
    "print \"Happy shoping\""
   ]
  },
  {
   "cell_type": "code",
   "execution_count": 16,
   "metadata": {},
   "outputs": [
    {
     "name": "stdout",
     "output_type": "stream",
     "text": [
      "Welcome\n",
      "Mobiles avaailable in store:\n",
      "\t1.Android\n",
      "\t2.Windows\n",
      "\t3.Mac\n",
      "Select an option:3\n",
      "Goto third floor to buy Mac os mobiles\n",
      "Happy shoping\n"
     ]
    }
   ],
   "source": [
    "\"\"\"\n",
    "Mobiles avaailable in store:\n",
    "    1. Android\n",
    "    2. Windows\n",
    "    3. Mac\n",
    "\"\"\"\n",
    "print \"Welcome\"\n",
    "print \"Mobiles avaailable in store:\\n\\t1.Android\\n\\t2.Windows\\n\\t3.Mac\"\n",
    "opt=raw_input(\"Select an option:\")\n",
    "if opt==\"1\":\n",
    "    print \"Goto First floor to buy Android os mobiles\"\n",
    "if opt==\"2\":\n",
    "    print \"Goto second floor to buy windows os mobiles\"\n",
    "if opt==\"3\":\n",
    "    print \"Goto third floor to buy Mac os mobiles\"\n",
    "else:\n",
    "    print \"Have only three floors. Select 1 or 2 or 3.\"\n",
    "print \"Happy shoping\""
   ]
  },
  {
   "cell_type": "code",
   "execution_count": 17,
   "metadata": {},
   "outputs": [
    {
     "name": "stdout",
     "output_type": "stream",
     "text": [
      "Welcome\n",
      "Mobiles avaailable in store:\n",
      "\t1.Android\n",
      "\t2.Windows\n",
      "\t3.Mac\n",
      "Select an option:2\n",
      "Goto second floor to buy windows os mobiles\n",
      "Have only three floors. Select 1 or 2 or 3.\n",
      "Happy shoping\n"
     ]
    }
   ],
   "source": [
    "\"\"\"\n",
    "Mobiles avaailable in store:\n",
    "    1. Android\n",
    "    2. Windows\n",
    "    3. Mac\n",
    "\"\"\"\n",
    "print \"Welcome\"\n",
    "print \"Mobiles avaailable in store:\\n\\t1.Android\\n\\t2.Windows\\n\\t3.Mac\"\n",
    "opt=raw_input(\"Select an option:\")\n",
    "if opt==\"1\":\n",
    "    print \"Goto First floor to buy Android os mobiles\"\n",
    "if opt==\"2\":\n",
    "    print \"Goto second floor to buy windows os mobiles\"\n",
    "if opt==\"3\":\n",
    "    print \"Goto third floor to buy Mac os mobiles\"\n",
    "else:\n",
    "    print \"Have only three floors. Select 1 or 2 or 3.\"\n",
    "print \"Happy shoping\""
   ]
  },
  {
   "cell_type": "code",
   "execution_count": 18,
   "metadata": {},
   "outputs": [
    {
     "name": "stdout",
     "output_type": "stream",
     "text": [
      "Welcome\n",
      "Mobiles avaailable in store:\n",
      "\t1.Android\n",
      "\t2.Windows\n",
      "\t3.Mac\n",
      "Select an option:1\n",
      "Goto First floor to buy Android os mobiles\n",
      "Have only three floors. Select 1 or 2 or 3\n",
      "Happy shoping\n"
     ]
    }
   ],
   "source": [
    "\"\"\"\n",
    "Mobiles avaailable in store:\n",
    "    1. Android\n",
    "    2. Windows\n",
    "    3. Mac\n",
    "\"\"\"\n",
    "print \"Welcome\"\n",
    "print \"Mobiles avaailable in store:\\n\\t1.Android\\n\\t2.Windows\\n\\t3.Mac\"\n",
    "opt=raw_input(\"Select an option:\")\n",
    "if opt==\"1\":\n",
    "    print \"Goto First floor to buy Android os mobiles\"\n",
    "if opt==\"2\":\n",
    "    print \"Goto second floor to buy windows os mobiles\"\n",
    "if opt==\"3\":\n",
    "    print \"Goto third floor to buy Mac os mobiles\"\n",
    "if opt!=1 and opt!=2 and opt!=3:\n",
    "    print \"Have only three floors. Select 1 or 2 or 3\"\n",
    "    \n",
    "    \n",
    "    \n",
    "print \"Happy shoping\""
   ]
  },
  {
   "cell_type": "code",
   "execution_count": 19,
   "metadata": {},
   "outputs": [
    {
     "name": "stdout",
     "output_type": "stream",
     "text": [
      "Welcome\n",
      "Mobiles avaailable in store:\n",
      "\t1.Android\n",
      "\t2.Windows\n",
      "\t3.Mac\n",
      "Select an option:1\n",
      "Goto First floor to buy Android os mobiles\n",
      "Happy shoping\n"
     ]
    }
   ],
   "source": [
    "\"\"\"\n",
    "Mobiles avaailable in store:\n",
    "    1. Android\n",
    "    2. Windows\n",
    "    3. Mac\n",
    "\"\"\"\n",
    "print \"Welcome\"\n",
    "print \"Mobiles avaailable in store:\\n\\t1.Android\\n\\t2.Windows\\n\\t3.Mac\"\n",
    "opt=raw_input(\"Select an option:\")\n",
    "if opt==\"1\":\n",
    "    print \"Goto First floor to buy Android os mobiles\"\n",
    "if opt==\"2\":\n",
    "    print \"Goto second floor to buy windows os mobiles\"\n",
    "if opt==\"3\":\n",
    "    print \"Goto third floor to buy Mac os mobiles\"\n",
    "if opt!=\"1\" and opt!=\"2\" and opt!=\"3\":\n",
    "    print \"Have only three floors. Select 1 or 2 or 3\"\n",
    "    \n",
    "    \n",
    "    \n",
    "print \"Happy shoping\""
   ]
  },
  {
   "cell_type": "code",
   "execution_count": 20,
   "metadata": {},
   "outputs": [
    {
     "name": "stdout",
     "output_type": "stream",
     "text": [
      "Welcome\n",
      "Mobiles avaailable in store:\n",
      "\t1.Android\n",
      "\t2.Windows\n",
      "\t3.Mac\n",
      "Select an option:2\n",
      "Goto second floor to buy windows os mobiles\n",
      "Happy shoping\n"
     ]
    }
   ],
   "source": [
    "\"\"\"\n",
    "Mobiles avaailable in store:\n",
    "    1. Android\n",
    "    2. Windows\n",
    "    3. Mac\n",
    "\"\"\"\n",
    "print \"Welcome\"\n",
    "print \"Mobiles avaailable in store:\\n\\t1.Android\\n\\t2.Windows\\n\\t3.Mac\"\n",
    "opt=raw_input(\"Select an option:\")\n",
    "if opt==\"1\":\n",
    "    print \"Goto First floor to buy Android os mobiles\"\n",
    "if opt==\"2\":\n",
    "    print \"Goto second floor to buy windows os mobiles\"\n",
    "if opt==\"3\":\n",
    "    print \"Goto third floor to buy Mac os mobiles\"\n",
    "if opt!=\"1\" and opt!=\"2\" and opt!=\"3\":\n",
    "    print \"Have only three floors. Select 1 or 2 or 3\"\n",
    "    \n",
    "    \n",
    "    \n",
    "print \"Happy shoping\""
   ]
  },
  {
   "cell_type": "code",
   "execution_count": 21,
   "metadata": {},
   "outputs": [
    {
     "name": "stdout",
     "output_type": "stream",
     "text": [
      "Welcome\n",
      "Mobiles avaailable in store:\n",
      "\t1.Android\n",
      "\t2.Windows\n",
      "\t3.Mac\n",
      "Select an option:3\n",
      "Goto third floor to buy Mac os mobiles\n",
      "Happy shoping\n"
     ]
    }
   ],
   "source": [
    "\"\"\"\n",
    "Mobiles avaailable in store:\n",
    "    1. Android\n",
    "    2. Windows\n",
    "    3. Mac\n",
    "\"\"\"\n",
    "print \"Welcome\"\n",
    "print \"Mobiles avaailable in store:\\n\\t1.Android\\n\\t2.Windows\\n\\t3.Mac\"\n",
    "opt=raw_input(\"Select an option:\")\n",
    "if opt==\"1\":\n",
    "    print \"Goto First floor to buy Android os mobiles\"\n",
    "if opt==\"2\":\n",
    "    print \"Goto second floor to buy windows os mobiles\"\n",
    "if opt==\"3\":\n",
    "    print \"Goto third floor to buy Mac os mobiles\"\n",
    "if opt!=\"1\" and opt!=\"2\" and opt!=\"3\":\n",
    "    print \"Have only three floors. Select 1 or 2 or 3\"\n",
    "    \n",
    "    \n",
    "    \n",
    "print \"Happy shoping\""
   ]
  },
  {
   "cell_type": "code",
   "execution_count": 22,
   "metadata": {},
   "outputs": [
    {
     "name": "stdout",
     "output_type": "stream",
     "text": [
      "Welcome\n",
      "Mobiles avaailable in store:\n",
      "\t1.Android\n",
      "\t2.Windows\n",
      "\t3.Mac\n",
      "Select an option:5\n",
      "Have only three floors. Select 1 or 2 or 3\n",
      "Happy shoping\n"
     ]
    }
   ],
   "source": [
    "\"\"\"\n",
    "Mobiles avaailable in store:\n",
    "    1. Android\n",
    "    2. Windows\n",
    "    3. Mac\n",
    "\"\"\"\n",
    "print \"Welcome\"\n",
    "print \"Mobiles avaailable in store:\\n\\t1.Android\\n\\t2.Windows\\n\\t3.Mac\"\n",
    "opt=raw_input(\"Select an option:\")\n",
    "if opt==\"1\":\n",
    "    print \"Goto First floor to buy Android os mobiles\"\n",
    "if opt==\"2\":\n",
    "    print \"Goto second floor to buy windows os mobiles\"\n",
    "if opt==\"3\":\n",
    "    print \"Goto third floor to buy Mac os mobiles\"\n",
    "if opt!=\"1\" and opt!=\"2\" and opt!=\"3\":\n",
    "    print \"Have only three floors. Select 1 or 2 or 3\"\n",
    "print \"Happy shoping\""
   ]
  },
  {
   "cell_type": "code",
   "execution_count": 23,
   "metadata": {},
   "outputs": [
    {
     "name": "stdout",
     "output_type": "stream",
     "text": [
      "Welcome\n",
      "Mobiles avaailable in store:\n",
      "\t1.Android\n",
      "\t2.Windows\n",
      "\t3.Mac\n",
      "Select an option:1\n",
      "Goto First floor to buy Android os mobiles\n",
      "Happy shoping\n"
     ]
    }
   ],
   "source": [
    "\"\"\"\n",
    "Mobiles avaailable in store:\n",
    "    1. Android\n",
    "    2. Windows\n",
    "    3. Mac\n",
    "\"\"\"\n",
    "print \"Welcome\"\n",
    "print \"Mobiles avaailable in store:\\n\\t1.Android\\n\\t2.Windows\\n\\t3.Mac\"\n",
    "opt=raw_input(\"Select an option:\")\n",
    "if opt==\"1\":\n",
    "    print \"Goto First floor to buy Android os mobiles\"\n",
    "elif opt==\"2\":\n",
    "    print \"Goto second floor to buy windows os mobiles\"\n",
    "elif opt==\"3\":\n",
    "    print \"Goto third floor to buy Mac os mobiles\"\n",
    "else:\n",
    "    print \"Have only three floors. Select 1 or 2 or 3\"\n",
    "print \"Happy shoping\""
   ]
  },
  {
   "cell_type": "code",
   "execution_count": 24,
   "metadata": {},
   "outputs": [
    {
     "name": "stdout",
     "output_type": "stream",
     "text": [
      "Welcome\n",
      "Mobiles avaailable in store:\n",
      "\t1.Android\n",
      "\t2.Windows\n",
      "\t3.Mac\n",
      "Select an option:2\n",
      "Goto second floor to buy windows os mobiles\n",
      "Happy shoping\n"
     ]
    }
   ],
   "source": [
    "\"\"\"\n",
    "Mobiles avaailable in store:\n",
    "    1. Android\n",
    "    2. Windows\n",
    "    3. Mac\n",
    "\"\"\"\n",
    "print \"Welcome\"\n",
    "print \"Mobiles avaailable in store:\\n\\t1.Android\\n\\t2.Windows\\n\\t3.Mac\"\n",
    "opt=raw_input(\"Select an option:\")\n",
    "if opt==\"1\":\n",
    "    print \"Goto First floor to buy Android os mobiles\"\n",
    "elif opt==\"2\":\n",
    "    print \"Goto second floor to buy windows os mobiles\"\n",
    "elif opt==\"3\":\n",
    "    print \"Goto third floor to buy Mac os mobiles\"\n",
    "else:\n",
    "    print \"Have only three floors. Select 1 or 2 or 3\"\n",
    "print \"Happy shoping\""
   ]
  },
  {
   "cell_type": "code",
   "execution_count": 25,
   "metadata": {},
   "outputs": [
    {
     "name": "stdout",
     "output_type": "stream",
     "text": [
      "Welcome\n",
      "Mobiles avaailable in store:\n",
      "\t1.Android\n",
      "\t2.Windows\n",
      "\t3.Mac\n",
      "Select an option:3\n",
      "Goto third floor to buy Mac os mobiles\n",
      "Happy shoping\n"
     ]
    }
   ],
   "source": [
    "\"\"\"\n",
    "Mobiles avaailable in store:\n",
    "    1. Android\n",
    "    2. Windows\n",
    "    3. Mac\n",
    "\"\"\"\n",
    "print \"Welcome\"\n",
    "print \"Mobiles avaailable in store:\\n\\t1.Android\\n\\t2.Windows\\n\\t3.Mac\"\n",
    "opt=raw_input(\"Select an option:\")\n",
    "if opt==\"1\":\n",
    "    print \"Goto First floor to buy Android os mobiles\"\n",
    "elif opt==\"2\":\n",
    "    print \"Goto second floor to buy windows os mobiles\"\n",
    "elif opt==\"3\":\n",
    "    print \"Goto third floor to buy Mac os mobiles\"\n",
    "else:\n",
    "    print \"Have only three floors. Select 1 or 2 or 3\"\n",
    "print \"Happy shoping\""
   ]
  },
  {
   "cell_type": "code",
   "execution_count": 26,
   "metadata": {},
   "outputs": [
    {
     "name": "stdout",
     "output_type": "stream",
     "text": [
      "Welcome\n",
      "Mobiles avaailable in store:\n",
      "\t1.Android\n",
      "\t2.Windows\n",
      "\t3.Mac\n",
      "Select an option:6\n",
      "Have only three floors. Select 1 or 2 or 3\n",
      "Happy shoping\n"
     ]
    }
   ],
   "source": [
    "\"\"\"\n",
    "Mobiles avaailable in store:\n",
    "    1. Android\n",
    "    2. Windows\n",
    "    3. Mac\n",
    "\"\"\"\n",
    "print \"Welcome\"\n",
    "print \"Mobiles avaailable in store:\\n\\t1.Android\\n\\t2.Windows\\n\\t3.Mac\"\n",
    "opt=raw_input(\"Select an option:\")\n",
    "if opt==\"1\":\n",
    "    print \"Goto First floor to buy Android os mobiles\"\n",
    "elif opt==\"2\":\n",
    "    print \"Goto second floor to buy windows os mobiles\"\n",
    "elif opt==\"3\":\n",
    "    print \"Goto third floor to buy Mac os mobiles\"\n",
    "else:\n",
    "    print \"Have only three floors. Select 1 or 2 or 3\"\n",
    "print \"Happy shoping\""
   ]
  },
  {
   "cell_type": "code",
   "execution_count": 27,
   "metadata": {},
   "outputs": [
    {
     "name": "stdout",
     "output_type": "stream",
     "text": [
      "b is big.\n"
     ]
    }
   ],
   "source": [
    "a=10\n",
    "b=20\n",
    "if a>b:\n",
    "    print \"a is big.\"\n",
    "else:\n",
    "    print \"b is big.\""
   ]
  },
  {
   "cell_type": "code",
   "execution_count": 28,
   "metadata": {
    "collapsed": true
   },
   "outputs": [],
   "source": [
    "a=10\n",
    "b=20\n",
    "if a>b:\n",
    "    print \"a is big.\"\n"
   ]
  },
  {
   "cell_type": "code",
   "execution_count": 29,
   "metadata": {},
   "outputs": [
    {
     "ename": "IndentationError",
     "evalue": "expected an indented block (<ipython-input-29-72bb8063e06b>, line 5)",
     "output_type": "error",
     "traceback": [
      "\u001b[0;36m  File \u001b[0;32m\"<ipython-input-29-72bb8063e06b>\"\u001b[0;36m, line \u001b[0;32m5\u001b[0m\n\u001b[0;31m    else:\u001b[0m\n\u001b[0m         ^\u001b[0m\n\u001b[0;31mIndentationError\u001b[0m\u001b[0;31m:\u001b[0m expected an indented block\n"
     ]
    }
   ],
   "source": [
    "a=10\n",
    "b=20\n",
    "if a>b:\n",
    "    print \"a is big.\"\n",
    "else:"
   ]
  },
  {
   "cell_type": "code",
   "execution_count": 30,
   "metadata": {
    "collapsed": true
   },
   "outputs": [],
   "source": [
    "a=10\n",
    "b=20\n",
    "if a>b:\n",
    "    print \"a is big.\"\n",
    "else:\n",
    "    pass"
   ]
  },
  {
   "cell_type": "code",
   "execution_count": 31,
   "metadata": {},
   "outputs": [
    {
     "name": "stdout",
     "output_type": "stream",
     "text": [
      "a is big.\n"
     ]
    }
   ],
   "source": [
    "a=100\n",
    "b=20\n",
    "if a>b:\n",
    "    print \"a is big.\"\n",
    "else:\n",
    "    pass\n",
    "    print \"b is big\""
   ]
  },
  {
   "cell_type": "code",
   "execution_count": 32,
   "metadata": {},
   "outputs": [
    {
     "name": "stdout",
     "output_type": "stream",
     "text": [
      "b is big\n"
     ]
    }
   ],
   "source": [
    "a=10\n",
    "b=20\n",
    "if a>b:\n",
    "    print \"a is big.\"\n",
    "else:\n",
    "    pass\n",
    "    print \"b is big\""
   ]
  },
  {
   "cell_type": "code",
   "execution_count": 33,
   "metadata": {},
   "outputs": [
    {
     "name": "stdout",
     "output_type": "stream",
     "text": [
      "hello\n",
      "hi\n"
     ]
    }
   ],
   "source": [
    "print \"hello\"\n",
    "print \"hi\""
   ]
  },
  {
   "cell_type": "code",
   "execution_count": 34,
   "metadata": {},
   "outputs": [
    {
     "name": "stdout",
     "output_type": "stream",
     "text": [
      "hello\n",
      "hi\n"
     ]
    }
   ],
   "source": [
    "print \"hello\";print \"hi\""
   ]
  },
  {
   "cell_type": "code",
   "execution_count": 35,
   "metadata": {},
   "outputs": [
    {
     "ename": "SyntaxError",
     "evalue": "EOL while scanning string literal (<ipython-input-35-c76602760d54>, line 1)",
     "output_type": "error",
     "traceback": [
      "\u001b[0;36m  File \u001b[0;32m\"<ipython-input-35-c76602760d54>\"\u001b[0;36m, line \u001b[0;32m1\u001b[0m\n\u001b[0;31m    s=\"lkdgk.,gklerjgrejgjgffffffffffffffffffffffffffffffffff\u001b[0m\n\u001b[0m                                                            ^\u001b[0m\n\u001b[0;31mSyntaxError\u001b[0m\u001b[0;31m:\u001b[0m EOL while scanning string literal\n"
     ]
    }
   ],
   "source": [
    "s=\"lkdgk.,gklerjgrejgjgffffffffffffffffffffffffffffffffff\n",
    "    ffffffffffffffffffffffff\""
   ]
  },
  {
   "cell_type": "code",
   "execution_count": 36,
   "metadata": {
    "collapsed": true
   },
   "outputs": [],
   "source": [
    "s=\"lkdgk.,gklerjgrejgjgffffffffffffffffffffffffffffffffff\\\n",
    "    ffffffffffffffffffffffff\""
   ]
  },
  {
   "cell_type": "code",
   "execution_count": 37,
   "metadata": {},
   "outputs": [
    {
     "name": "stdout",
     "output_type": "stream",
     "text": [
      "c is big\n"
     ]
    }
   ],
   "source": [
    "a=10\n",
    "b=20\n",
    "c=30\n",
    "if a>b:\n",
    "    if a>c:\n",
    "        print \"a ia big\"\n",
    "if b>a:\n",
    "    if b>c:\n",
    "        print \"b is big\"\n",
    "if c>a:\n",
    "    if c>b:\n",
    "        print \"c is big\""
   ]
  },
  {
   "cell_type": "code",
   "execution_count": 38,
   "metadata": {},
   "outputs": [
    {
     "name": "stdout",
     "output_type": "stream",
     "text": [
      "c is big\n"
     ]
    }
   ],
   "source": [
    "a=10\n",
    "b=20\n",
    "c=30\n",
    "if a>b and a>c:\n",
    "    \n",
    "        print \"a ia big\"\n",
    "        \n",
    "if b>a and b>c:\n",
    "        print \"b is big\"\n",
    "if c>a and c>b:\n",
    "\n",
    "        print \"c is big\""
   ]
  },
  {
   "cell_type": "code",
   "execution_count": 39,
   "metadata": {},
   "outputs": [
    {
     "name": "stdout",
     "output_type": "stream",
     "text": [
      "program started\n",
      "some statements\n",
      "if block\n",
      "if block ended\n",
      "other statements in program\n",
      "program ended\n"
     ]
    }
   ],
   "source": [
    "print \"program started\"\n",
    "a=10\n",
    "b=20\n",
    "if a<b:\n",
    "    print \"some statements\"\n",
    "    print \"if block\"\n",
    "    print \"if block ended\"\n",
    "print \"other statements in program\"\n",
    "print \"program ended\""
   ]
  },
  {
   "cell_type": "code",
   "execution_count": null,
   "metadata": {
    "collapsed": true
   },
   "outputs": [],
   "source": [
    "print \"program started\"\n",
    "a=10\n",
    "b=20\n",
    "while a<b:\n",
    "    print \"some statements\"\n",
    "    print \"while block\"\n",
    "print \"other statements in program\"\n",
    "print \"program ended\""
   ]
  },
  {
   "cell_type": "code",
   "execution_count": 40,
   "metadata": {},
   "outputs": [
    {
     "name": "stdout",
     "output_type": "stream",
     "text": [
      "program started\n",
      "other statements in program\n",
      "program ended\n"
     ]
    }
   ],
   "source": [
    "print \"program started\"\n",
    "a=10\n",
    "b=20\n",
    "while a>b:\n",
    "    print \"some statements\"\n",
    "    print \"while block\"\n",
    "print \"other statements in program\"\n",
    "print \"program ended\""
   ]
  },
  {
   "cell_type": "code",
   "execution_count": null,
   "metadata": {
    "collapsed": true
   },
   "outputs": [],
   "source": [
    "print \"program started\"\n",
    "i=0\n",
    "while i<10:\n",
    "    print \"some statements\"\n",
    "    print \"while block\"\n",
    "print \"other statements in program\"\n",
    "print \"program ended\""
   ]
  },
  {
   "cell_type": "code",
   "execution_count": 41,
   "metadata": {},
   "outputs": [
    {
     "name": "stdout",
     "output_type": "stream",
     "text": [
      "program started\n",
      "some statements\n",
      "while block\n",
      "0\n",
      "some statements\n",
      "while block\n",
      "1\n",
      "some statements\n",
      "while block\n",
      "2\n",
      "some statements\n",
      "while block\n",
      "3\n",
      "some statements\n",
      "while block\n",
      "4\n",
      "some statements\n",
      "while block\n",
      "5\n",
      "some statements\n",
      "while block\n",
      "6\n",
      "some statements\n",
      "while block\n",
      "7\n",
      "some statements\n",
      "while block\n",
      "8\n",
      "some statements\n",
      "while block\n",
      "9\n",
      "other statements in program\n",
      "program ended\n"
     ]
    }
   ],
   "source": [
    "print \"program started\"\n",
    "i=0\n",
    "while i<10:\n",
    "    print \"some statements\"\n",
    "    print \"while block\"\n",
    "    print i\n",
    "    i=i+1\n",
    "print \"other statements in program\"\n",
    "print \"program ended\""
   ]
  },
  {
   "cell_type": "code",
   "execution_count": 1,
   "metadata": {},
   "outputs": [
    {
     "name": "stdout",
     "output_type": "stream",
     "text": [
      "program started\n",
      "0\n",
      "1\n",
      "2\n",
      "other statements in program\n",
      "program ended\n"
     ]
    }
   ],
   "source": [
    "print \"program started\"\n",
    "i=0\n",
    "while i<3:\n",
    "    print i\n",
    "    i=i+1\n",
    "print \"other statements in program\"\n",
    "print \"program ended\""
   ]
  },
  {
   "cell_type": "code",
   "execution_count": 2,
   "metadata": {},
   "outputs": [
    {
     "name": "stdout",
     "output_type": "stream",
     "text": [
      "program started\n",
      "0\n",
      "1\n",
      "2\n",
      "3\n",
      "other statements in program\n",
      "program ended\n"
     ]
    }
   ],
   "source": [
    "print \"program started\"\n",
    "i=0\n",
    "while i<=3:\n",
    "    print i\n",
    "    i=i+1\n",
    "print \"other statements in program\"\n",
    "print \"program ended\""
   ]
  },
  {
   "cell_type": "code",
   "execution_count": null,
   "metadata": {
    "collapsed": true
   },
   "outputs": [],
   "source": []
  }
 ],
 "metadata": {
  "kernelspec": {
   "display_name": "Python 2",
   "language": "python",
   "name": "python2"
  },
  "language_info": {
   "codemirror_mode": {
    "name": "ipython",
    "version": 2
   },
   "file_extension": ".py",
   "mimetype": "text/x-python",
   "name": "python",
   "nbconvert_exporter": "python",
   "pygments_lexer": "ipython2",
   "version": "2.7.14"
  }
 },
 "nbformat": 4,
 "nbformat_minor": 2
}
