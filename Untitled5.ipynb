{
 "cells": [
  {
   "cell_type": "code",
   "execution_count": 8,
   "metadata": {},
   "outputs": [
    {
     "name": "stdout",
     "output_type": "stream",
     "text": [
      "['[', '1', '0', ',', ' ', '2', '0', ',', ' ', '3', '0', ',', ' ', '[', '4', '0', ',', ' ', '5', '0', ',', ' ', '6', '0', ']', ',', ' ', '7', '0', ',', ' ', '[', '8', '0', ',', ' ', '9', '0', ',', ' ', '2', '0', ']', ']']\n"
     ]
    }
   ],
   "source": [
    "l=[10,20,30,[40,50,60],70,[80,90,20]]\n",
    "l=str(l)\n",
    "l1=[]\n",
    "for i in l:\n",
    "    if isinstance(l,list)==True:\n",
    "        l1.extend(i)\n",
    "    else:\n",
    "        l1.append(i)\n",
    "print l1"
   ]
  },
  {
   "cell_type": "code",
   "execution_count": null,
   "metadata": {
    "collapsed": true
   },
   "outputs": [],
   "source": [
    "s=raw_input(\"enter a number\") \n",
    "s=int(s) \n",
    "r=[] \n",
    "for i in range(1,s): \n",
    "    if s%i==0: \n",
    "        r.append(i) \n",
    "print sum(r)"
   ]
  },
  {
   "cell_type": "code",
   "execution_count": null,
   "metadata": {
    "collapsed": true
   },
   "outputs": [],
   "source": [
    "a=[]\n",
    "b=[]\n",
    "c=[a]\n",
    "d=[b]\n",
    "e=[c]\n",
    "f=[a,b]\n",
    "g=[b,c]\n",
    "h=[c,a]\n",
    "i=[a,b,c]\n",
    "print a+b+c+d+e+f+g+h+i"
   ]
  },
  {
   "cell_type": "code",
   "execution_count": null,
   "metadata": {
    "collapsed": true
   },
   "outputs": [],
   "source": [
    "l=[1,2,3,2,3,4,1,3,4]\n",
    "for i in l:\n",
    "    if l.count(i)>0:\n",
    "       l.remove(i)\n",
    "    print l\n",
    "print l"
   ]
  }
 ],
 "metadata": {
  "kernelspec": {
   "display_name": "Python 2",
   "language": "python",
   "name": "python2"
  },
  "language_info": {
   "codemirror_mode": {
    "name": "ipython",
    "version": 2
   },
   "file_extension": ".py",
   "mimetype": "text/x-python",
   "name": "python",
   "nbconvert_exporter": "python",
   "pygments_lexer": "ipython2",
   "version": "2.7.14"
  }
 },
 "nbformat": 4,
 "nbformat_minor": 2
}
