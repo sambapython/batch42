{
 "cells": [
  {
   "cell_type": "code",
   "execution_count": 1,
   "metadata": {},
   "outputs": [
    {
     "name": "stdout",
     "output_type": "stream",
     "text": [
      "enter total number of people250\n",
      "enter number of buses20\n",
      "enter number of seats20\n",
      "there are sufficient number of buses\n"
     ]
    }
   ],
   "source": [
    "people=float(raw_input(\"enter total number of people\"))\n",
    "buses=float(raw_input(\"enter number of buses\"))\n",
    "seat=float(raw_input(\"enter number of seats\"))\n",
    "total_seats=buses*seat\n",
    "if people>total_seats:\n",
    "    a=(people-total_seats)/seat\n",
    "    print\"extra buses required are:\",a\n",
    "else:\n",
    "    print\"there are sufficient number of buses\""
   ]
  },
  {
   "cell_type": "code",
   "execution_count": 2,
   "metadata": {},
   "outputs": [
    {
     "name": "stdout",
     "output_type": "stream",
     "text": [
      "enter total number of people400\n",
      "enter number of buses5\n",
      "enter number of seats30\n",
      "extra buses required are: 8.33333333333\n"
     ]
    }
   ],
   "source": [
    "people=float(raw_input(\"enter total number of people\"))\n",
    "buses=float(raw_input(\"enter number of buses\"))\n",
    "seat=float(raw_input(\"enter number of seats\"))\n",
    "total_seats=buses*seat\n",
    "if people>total_seats:\n",
    "    a=(people-total_seats)/seat\n",
    "    print\"extra buses required are:\",a\n",
    "else:\n",
    "    print\"there are sufficient number of buses\""
   ]
  },
  {
   "cell_type": "code",
   "execution_count": 3,
   "metadata": {},
   "outputs": [
    {
     "name": "stdout",
     "output_type": "stream",
     "text": [
      "enter total number of people400\n",
      "enter number of buses5\n",
      "enter number of seats30\n",
      "extra buses required are: 8\n"
     ]
    }
   ],
   "source": [
    "people=float(raw_input(\"enter total number of people\"))\n",
    "buses=float(raw_input(\"enter number of buses\"))\n",
    "seat=float(raw_input(\"enter number of seats\"))\n",
    "total_seats=buses*seat\n",
    "if people>total_seats:\n",
    "    a=(people-total_seats)/seat\n",
    "    print\"extra buses required are:\",int(a)\n",
    "else:\n",
    "    print\"there are sufficient number of buses\""
   ]
  },
  {
   "cell_type": "code",
   "execution_count": null,
   "metadata": {
    "collapsed": true
   },
   "outputs": [],
   "source": [
    "people=float(raw_input(\"enter total number of people\"))\n",
    "buses=float(raw_input(\"enter number of buses\"))\n",
    "seat=float(raw_input(\"enter number of seats\"))\n",
    "total_seats=buses*seat\n",
    "if people>total_seats:\n",
    "    a=(people-total_seats)/seat\n",
    "    print\"extra buses required are:\",int(a)\n",
    "else:\n",
    "    print\"there are sufficient number of buses\""
   ]
  }
 ],
 "metadata": {
  "kernelspec": {
   "display_name": "Python 2",
   "language": "python",
   "name": "python2"
  },
  "language_info": {
   "codemirror_mode": {
    "name": "ipython",
    "version": 2
   },
   "file_extension": ".py",
   "mimetype": "text/x-python",
   "name": "python",
   "nbconvert_exporter": "python",
   "pygments_lexer": "ipython2",
   "version": "2.7.14"
  }
 },
 "nbformat": 4,
 "nbformat_minor": 2
}
