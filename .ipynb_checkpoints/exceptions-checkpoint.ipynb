{
 "cells": [
  {
   "cell_type": "code",
   "execution_count": 1,
   "metadata": {},
   "outputs": [
    {
     "name": "stdout",
     "output_type": "stream",
     "text": [
      "program started\n",
      "Enter a number:12\n",
      "Enter b number:6\n",
      "res= 2\n",
      "other statements in program\n",
      "program ended\n"
     ]
    }
   ],
   "source": [
    "print \"program started\"\n",
    "a=raw_input(\"Enter a number:\")\n",
    "b=raw_input(\"Enter b number:\")\n",
    "a=int(a)\n",
    "b=int(b)\n",
    "res=a/b\n",
    "print \"res=\",res\n",
    "print \"other statements in program\"\n",
    "print \"program ended\""
   ]
  },
  {
   "cell_type": "code",
   "execution_count": 2,
   "metadata": {},
   "outputs": [
    {
     "name": "stdout",
     "output_type": "stream",
     "text": [
      "program started\n",
      "Enter a number:25\n",
      "Enter b number:5\n",
      "res= 5\n",
      "other statements in program\n",
      "program ended\n"
     ]
    }
   ],
   "source": [
    "print \"program started\"\n",
    "a=raw_input(\"Enter a number:\")\n",
    "b=raw_input(\"Enter b number:\")\n",
    "a=int(a)\n",
    "b=int(b)\n",
    "res=a/b\n",
    "print \"res=\",res\n",
    "print \"other statements in program\"\n",
    "print \"program ended\""
   ]
  },
  {
   "cell_type": "code",
   "execution_count": 3,
   "metadata": {},
   "outputs": [
    {
     "name": "stdout",
     "output_type": "stream",
     "text": [
      "program started\n",
      "Enter a number:1.2\n",
      "Enter b number:0.6\n"
     ]
    },
    {
     "ename": "ValueError",
     "evalue": "invalid literal for int() with base 10: '1.2'",
     "output_type": "error",
     "traceback": [
      "\u001b[0;31m---------------------------------------------------------------------------\u001b[0m",
      "\u001b[0;31mValueError\u001b[0m                                Traceback (most recent call last)",
      "\u001b[0;32m<ipython-input-3-2bb3025e9122>\u001b[0m in \u001b[0;36m<module>\u001b[0;34m()\u001b[0m\n\u001b[1;32m      2\u001b[0m \u001b[0ma\u001b[0m\u001b[0;34m=\u001b[0m\u001b[0mraw_input\u001b[0m\u001b[0;34m(\u001b[0m\u001b[0;34m\"Enter a number:\"\u001b[0m\u001b[0;34m)\u001b[0m\u001b[0;34m\u001b[0m\u001b[0m\n\u001b[1;32m      3\u001b[0m \u001b[0mb\u001b[0m\u001b[0;34m=\u001b[0m\u001b[0mraw_input\u001b[0m\u001b[0;34m(\u001b[0m\u001b[0;34m\"Enter b number:\"\u001b[0m\u001b[0;34m)\u001b[0m\u001b[0;34m\u001b[0m\u001b[0m\n\u001b[0;32m----> 4\u001b[0;31m \u001b[0ma\u001b[0m\u001b[0;34m=\u001b[0m\u001b[0mint\u001b[0m\u001b[0;34m(\u001b[0m\u001b[0ma\u001b[0m\u001b[0;34m)\u001b[0m\u001b[0;34m\u001b[0m\u001b[0m\n\u001b[0m\u001b[1;32m      5\u001b[0m \u001b[0mb\u001b[0m\u001b[0;34m=\u001b[0m\u001b[0mint\u001b[0m\u001b[0;34m(\u001b[0m\u001b[0mb\u001b[0m\u001b[0;34m)\u001b[0m\u001b[0;34m\u001b[0m\u001b[0m\n\u001b[1;32m      6\u001b[0m \u001b[0mres\u001b[0m\u001b[0;34m=\u001b[0m\u001b[0ma\u001b[0m\u001b[0;34m/\u001b[0m\u001b[0mb\u001b[0m\u001b[0;34m\u001b[0m\u001b[0m\n",
      "\u001b[0;31mValueError\u001b[0m: invalid literal for int() with base 10: '1.2'"
     ]
    }
   ],
   "source": [
    "print \"program started\"\n",
    "a=raw_input(\"Enter a number:\")\n",
    "b=raw_input(\"Enter b number:\")\n",
    "a=int(a)\n",
    "b=int(b)\n",
    "res=a/b\n",
    "print \"res=\",res\n",
    "print \"other statements in program\"\n",
    "print \"program ended\""
   ]
  },
  {
   "cell_type": "code",
   "execution_count": 4,
   "metadata": {},
   "outputs": [
    {
     "name": "stdout",
     "output_type": "stream",
     "text": [
      "program started\n",
      "Enter a number:1.2\n",
      "Enter b number:0.6\n",
      "a=1.2, b=0.6\n"
     ]
    },
    {
     "ename": "ValueError",
     "evalue": "invalid literal for int() with base 10: '1.2'",
     "output_type": "error",
     "traceback": [
      "\u001b[0;31m---------------------------------------------------------------------------\u001b[0m",
      "\u001b[0;31mValueError\u001b[0m                                Traceback (most recent call last)",
      "\u001b[0;32m<ipython-input-4-49038f0b11f9>\u001b[0m in \u001b[0;36m<module>\u001b[0;34m()\u001b[0m\n\u001b[1;32m      3\u001b[0m \u001b[0mb\u001b[0m\u001b[0;34m=\u001b[0m\u001b[0mraw_input\u001b[0m\u001b[0;34m(\u001b[0m\u001b[0;34m\"Enter b number:\"\u001b[0m\u001b[0;34m)\u001b[0m\u001b[0;34m\u001b[0m\u001b[0m\n\u001b[1;32m      4\u001b[0m \u001b[0;32mprint\u001b[0m \u001b[0;34m\"a=%s, b=%s\"\u001b[0m\u001b[0;34m%\u001b[0m\u001b[0;34m(\u001b[0m\u001b[0ma\u001b[0m\u001b[0;34m,\u001b[0m\u001b[0mb\u001b[0m\u001b[0;34m)\u001b[0m\u001b[0;34m\u001b[0m\u001b[0m\n\u001b[0;32m----> 5\u001b[0;31m \u001b[0ma\u001b[0m\u001b[0;34m=\u001b[0m\u001b[0mint\u001b[0m\u001b[0;34m(\u001b[0m\u001b[0ma\u001b[0m\u001b[0;34m)\u001b[0m\u001b[0;34m\u001b[0m\u001b[0m\n\u001b[0m\u001b[1;32m      6\u001b[0m \u001b[0mb\u001b[0m\u001b[0;34m=\u001b[0m\u001b[0mint\u001b[0m\u001b[0;34m(\u001b[0m\u001b[0mb\u001b[0m\u001b[0;34m)\u001b[0m\u001b[0;34m\u001b[0m\u001b[0m\n\u001b[1;32m      7\u001b[0m \u001b[0;32mprint\u001b[0m \u001b[0;34m\"after conversion a=%s, b=%s\"\u001b[0m\u001b[0;34m%\u001b[0m\u001b[0;34m(\u001b[0m\u001b[0ma\u001b[0m\u001b[0;34m,\u001b[0m\u001b[0mb\u001b[0m\u001b[0;34m)\u001b[0m\u001b[0;34m\u001b[0m\u001b[0m\n",
      "\u001b[0;31mValueError\u001b[0m: invalid literal for int() with base 10: '1.2'"
     ]
    }
   ],
   "source": [
    "print \"program started\"\n",
    "a=raw_input(\"Enter a number:\")\n",
    "b=raw_input(\"Enter b number:\")\n",
    "print \"a=%s, b=%s\"%(a,b)\n",
    "a=int(a)\n",
    "b=int(b)\n",
    "print \"after conversion a=%s, b=%s\"%(a,b)\n",
    "res=a/b\n",
    "print \"res=\",res\n",
    "print \"other statements in program\"\n",
    "print \"program ended\""
   ]
  },
  {
   "cell_type": "code",
   "execution_count": 5,
   "metadata": {},
   "outputs": [
    {
     "ename": "ValueError",
     "evalue": "invalid literal for int() with base 10: '1.2'",
     "output_type": "error",
     "traceback": [
      "\u001b[0;31m---------------------------------------------------------------------------\u001b[0m",
      "\u001b[0;31mValueError\u001b[0m                                Traceback (most recent call last)",
      "\u001b[0;32m<ipython-input-5-b441890430b0>\u001b[0m in \u001b[0;36m<module>\u001b[0;34m()\u001b[0m\n\u001b[0;32m----> 1\u001b[0;31m \u001b[0mint\u001b[0m\u001b[0;34m(\u001b[0m\u001b[0;34m\"1.2\"\u001b[0m\u001b[0;34m)\u001b[0m\u001b[0;34m\u001b[0m\u001b[0m\n\u001b[0m",
      "\u001b[0;31mValueError\u001b[0m: invalid literal for int() with base 10: '1.2'"
     ]
    }
   ],
   "source": [
    "int(\"1.2\")"
   ]
  },
  {
   "cell_type": "code",
   "execution_count": 6,
   "metadata": {},
   "outputs": [
    {
     "data": {
      "text/plain": [
       "1.2"
      ]
     },
     "execution_count": 6,
     "metadata": {},
     "output_type": "execute_result"
    }
   ],
   "source": [
    "float(\"1.2\")"
   ]
  },
  {
   "cell_type": "code",
   "execution_count": 7,
   "metadata": {},
   "outputs": [
    {
     "data": {
      "text/plain": [
       "1.0"
      ]
     },
     "execution_count": 7,
     "metadata": {},
     "output_type": "execute_result"
    }
   ],
   "source": [
    "float(\"1\")"
   ]
  },
  {
   "cell_type": "code",
   "execution_count": 8,
   "metadata": {},
   "outputs": [
    {
     "name": "stdout",
     "output_type": "stream",
     "text": [
      "program started\n",
      "Enter a number:12\n",
      "Enter b number:6\n",
      "a=12, b=6\n",
      "after conversion a=12.0, b=6.0\n",
      "res= 2.0\n",
      "other statements in program\n",
      "program ended\n"
     ]
    }
   ],
   "source": [
    "print \"program started\"\n",
    "a=raw_input(\"Enter a number:\")\n",
    "b=raw_input(\"Enter b number:\")\n",
    "print \"a=%s, b=%s\"%(a,b)\n",
    "a=float(a)\n",
    "b=float(b)\n",
    "print \"after conversion a=%s, b=%s\"%(a,b)\n",
    "res=a/b\n",
    "print \"res=\",res\n",
    "print \"other statements in program\"\n",
    "print \"program ended\""
   ]
  },
  {
   "cell_type": "code",
   "execution_count": 9,
   "metadata": {},
   "outputs": [
    {
     "name": "stdout",
     "output_type": "stream",
     "text": [
      "program started\n",
      "Enter a number:23\n",
      "Enter b number:9\n",
      "a=23, b=9\n",
      "after conversion a=23.0, b=9.0\n",
      "res= 2.55555555556\n",
      "other statements in program\n",
      "program ended\n"
     ]
    }
   ],
   "source": [
    "print \"program started\"\n",
    "a=raw_input(\"Enter a number:\")\n",
    "b=raw_input(\"Enter b number:\")\n",
    "print \"a=%s, b=%s\"%(a,b)\n",
    "a=float(a)\n",
    "b=float(b)\n",
    "print \"after conversion a=%s, b=%s\"%(a,b)\n",
    "res=a/b\n",
    "print \"res=\",res\n",
    "print \"other statements in program\"\n",
    "print \"program ended\""
   ]
  },
  {
   "cell_type": "code",
   "execution_count": 10,
   "metadata": {},
   "outputs": [
    {
     "name": "stdout",
     "output_type": "stream",
     "text": [
      "program started\n",
      "Enter a number:12\n",
      "Enter b number:0\n",
      "a=12, b=0\n",
      "after conversion a=12.0, b=0.0\n"
     ]
    },
    {
     "ename": "ZeroDivisionError",
     "evalue": "float division by zero",
     "output_type": "error",
     "traceback": [
      "\u001b[0;31m---------------------------------------------------------------------------\u001b[0m",
      "\u001b[0;31mZeroDivisionError\u001b[0m                         Traceback (most recent call last)",
      "\u001b[0;32m<ipython-input-10-3306854db28f>\u001b[0m in \u001b[0;36m<module>\u001b[0;34m()\u001b[0m\n\u001b[1;32m      6\u001b[0m \u001b[0mb\u001b[0m\u001b[0;34m=\u001b[0m\u001b[0mfloat\u001b[0m\u001b[0;34m(\u001b[0m\u001b[0mb\u001b[0m\u001b[0;34m)\u001b[0m\u001b[0;34m\u001b[0m\u001b[0m\n\u001b[1;32m      7\u001b[0m \u001b[0;32mprint\u001b[0m \u001b[0;34m\"after conversion a=%s, b=%s\"\u001b[0m\u001b[0;34m%\u001b[0m\u001b[0;34m(\u001b[0m\u001b[0ma\u001b[0m\u001b[0;34m,\u001b[0m\u001b[0mb\u001b[0m\u001b[0;34m)\u001b[0m\u001b[0;34m\u001b[0m\u001b[0m\n\u001b[0;32m----> 8\u001b[0;31m \u001b[0mres\u001b[0m\u001b[0;34m=\u001b[0m\u001b[0ma\u001b[0m\u001b[0;34m/\u001b[0m\u001b[0mb\u001b[0m\u001b[0;34m\u001b[0m\u001b[0m\n\u001b[0m\u001b[1;32m      9\u001b[0m \u001b[0;32mprint\u001b[0m \u001b[0;34m\"res=\"\u001b[0m\u001b[0;34m,\u001b[0m\u001b[0mres\u001b[0m\u001b[0;34m\u001b[0m\u001b[0m\n\u001b[1;32m     10\u001b[0m \u001b[0;32mprint\u001b[0m \u001b[0;34m\"other statements in program\"\u001b[0m\u001b[0;34m\u001b[0m\u001b[0m\n",
      "\u001b[0;31mZeroDivisionError\u001b[0m: float division by zero"
     ]
    }
   ],
   "source": [
    "print \"program started\"\n",
    "a=raw_input(\"Enter a number:\")\n",
    "b=raw_input(\"Enter b number:\")\n",
    "print \"a=%s, b=%s\"%(a,b)\n",
    "a=float(a)\n",
    "b=float(b)\n",
    "print \"after conversion a=%s, b=%s\"%(a,b)\n",
    "res=a/b\n",
    "print \"res=\",res\n",
    "print \"other statements in program\"\n",
    "print \"program ended\""
   ]
  },
  {
   "cell_type": "code",
   "execution_count": 11,
   "metadata": {},
   "outputs": [
    {
     "name": "stdout",
     "output_type": "stream",
     "text": [
      "program started\n",
      "Enter a number:12\n",
      "Enter b number:6\n",
      "a=12, b=6\n",
      "after conversion a=12.0, b=6.0\n",
      "res= 2.0\n",
      "other statements in program\n",
      "program ended\n"
     ]
    }
   ],
   "source": [
    "try:\n",
    "    print \"program started\"\n",
    "    a=raw_input(\"Enter a number:\")\n",
    "    b=raw_input(\"Enter b number:\")\n",
    "    print \"a=%s, b=%s\"%(a,b)\n",
    "    a=float(a)\n",
    "    b=float(b)\n",
    "    print \"after conversion a=%s, b=%s\"%(a,b)\n",
    "    res=a/b\n",
    "    print \"res=\",res\n",
    "    print \"other statements in program\"\n",
    "    print \"program ended\"\n",
    "except:\n",
    "    print \"some issue\""
   ]
  },
  {
   "cell_type": "code",
   "execution_count": 12,
   "metadata": {},
   "outputs": [
    {
     "name": "stdout",
     "output_type": "stream",
     "text": [
      "program started\n",
      "Enter a number:12\n",
      "Enter b number:0\n",
      "a=12, b=0\n",
      "after conversion a=12.0, b=0.0\n",
      "some issue\n"
     ]
    }
   ],
   "source": [
    "try:\n",
    "    print \"program started\"\n",
    "    a=raw_input(\"Enter a number:\")\n",
    "    b=raw_input(\"Enter b number:\")\n",
    "    print \"a=%s, b=%s\"%(a,b)\n",
    "    a=float(a)\n",
    "    b=float(b)\n",
    "    print \"after conversion a=%s, b=%s\"%(a,b)\n",
    "    res=a/b\n",
    "    print \"res=\",res\n",
    "    print \"other statements in program\"\n",
    "    print \"program ended\"\n",
    "except:\n",
    "    print \"some issue\""
   ]
  },
  {
   "cell_type": "code",
   "execution_count": 13,
   "metadata": {},
   "outputs": [
    {
     "name": "stdout",
     "output_type": "stream",
     "text": [
      "program started\n",
      "Enter a number:qwer\n",
      "Enter b number:qwert\n",
      "a=qwer, b=qwert\n",
      "some issue\n"
     ]
    }
   ],
   "source": [
    "try:\n",
    "    print \"program started\"\n",
    "    a=raw_input(\"Enter a number:\")\n",
    "    b=raw_input(\"Enter b number:\")\n",
    "    print \"a=%s, b=%s\"%(a,b)\n",
    "    a=float(a)\n",
    "    b=float(b)\n",
    "    print \"after conversion a=%s, b=%s\"%(a,b)\n",
    "    res=a/b\n",
    "    print \"res=\",res\n",
    "    print \"other statements in program\"\n",
    "    print \"program ended\"\n",
    "except:\n",
    "    print \"some issue\""
   ]
  },
  {
   "cell_type": "code",
   "execution_count": 14,
   "metadata": {},
   "outputs": [
    {
     "name": "stdout",
     "output_type": "stream",
     "text": [
      "program started\n",
      "Enter a number:12\n",
      "Enter b number:6\n",
      "a=12, b=6\n",
      "after conversion a=12.0, b=6.0\n",
      "res= 2.0\n",
      "other statements in program\n",
      "program ended\n"
     ]
    }
   ],
   "source": [
    "print \"program started\"\n",
    "a=raw_input(\"Enter a number:\")\n",
    "b=raw_input(\"Enter b number:\")\n",
    "print \"a=%s, b=%s\"%(a,b)\n",
    "try:\n",
    "    a=float(a)\n",
    "    b=float(b)\n",
    "    print \"after conversion a=%s, b=%s\"%(a,b)\n",
    "    res=a/b\n",
    "    print \"res=\",res\n",
    "except:\n",
    "    print \"some issue\"\n",
    "print \"other statements in program\"\n",
    "print \"program ended\""
   ]
  },
  {
   "cell_type": "code",
   "execution_count": 15,
   "metadata": {},
   "outputs": [
    {
     "name": "stdout",
     "output_type": "stream",
     "text": [
      "program started\n",
      "Enter a number:12\n",
      "Enter b number:0\n",
      "a=12, b=0\n",
      "after conversion a=12.0, b=0.0\n",
      "some issue\n",
      "other statements in program\n",
      "program ended\n"
     ]
    }
   ],
   "source": [
    "print \"program started\"\n",
    "a=raw_input(\"Enter a number:\")\n",
    "b=raw_input(\"Enter b number:\")\n",
    "print \"a=%s, b=%s\"%(a,b)\n",
    "try:\n",
    "    a=float(a)\n",
    "    b=float(b)\n",
    "    print \"after conversion a=%s, b=%s\"%(a,b)\n",
    "    res=a/b\n",
    "    print \"res=\",res\n",
    "except:\n",
    "    print \"some issue\"\n",
    "print \"other statements in program\"\n",
    "print \"program ended\""
   ]
  },
  {
   "cell_type": "code",
   "execution_count": null,
   "metadata": {
    "collapsed": true
   },
   "outputs": [],
   "source": [
    "print \"program started\"\n",
    "a=raw_input(\"Enter a number:\")\n",
    "b=raw_input(\"Enter b number:\")\n",
    "print \"a=%s, b=%s\"%(a,b)\n",
    "try:\n",
    "    a=float(a)\n",
    "    b=float(b)\n",
    "    print \"after conversion a=%s, b=%s\"%(a,b)\n",
    "    res=a/b\n",
    "    print \"res=\",res\n",
    "except Exception as err:\n",
    "    print \"some issue\"\n",
    "print \"other statements in program\"\n",
    "print \"program ended\""
   ]
  },
  {
   "cell_type": "code",
   "execution_count": 16,
   "metadata": {},
   "outputs": [
    {
     "ename": "ValueError",
     "evalue": "could not convert string to float: sfdsdf",
     "output_type": "error",
     "traceback": [
      "\u001b[0;31m---------------------------------------------------------------------------\u001b[0m",
      "\u001b[0;31mValueError\u001b[0m                                Traceback (most recent call last)",
      "\u001b[0;32m<ipython-input-16-e7d3eb751a3a>\u001b[0m in \u001b[0;36m<module>\u001b[0;34m()\u001b[0m\n\u001b[0;32m----> 1\u001b[0;31m \u001b[0mfloat\u001b[0m\u001b[0;34m(\u001b[0m\u001b[0;34m\"sfdsdf\"\u001b[0m\u001b[0;34m)\u001b[0m\u001b[0;34m\u001b[0m\u001b[0m\n\u001b[0m",
      "\u001b[0;31mValueError\u001b[0m: could not convert string to float: sfdsdf"
     ]
    }
   ],
   "source": [
    "float(\"sfdsdf\")"
   ]
  },
  {
   "cell_type": "code",
   "execution_count": 17,
   "metadata": {},
   "outputs": [
    {
     "ename": "ZeroDivisionError",
     "evalue": "integer division or modulo by zero",
     "output_type": "error",
     "traceback": [
      "\u001b[0;31m---------------------------------------------------------------------------\u001b[0m",
      "\u001b[0;31mZeroDivisionError\u001b[0m                         Traceback (most recent call last)",
      "\u001b[0;32m<ipython-input-17-3f3354fa4e6a>\u001b[0m in \u001b[0;36m<module>\u001b[0;34m()\u001b[0m\n\u001b[0;32m----> 1\u001b[0;31m \u001b[0;36m21\u001b[0m\u001b[0;34m/\u001b[0m\u001b[0;36m0\u001b[0m\u001b[0;34m\u001b[0m\u001b[0m\n\u001b[0m",
      "\u001b[0;31mZeroDivisionError\u001b[0m: integer division or modulo by zero"
     ]
    }
   ],
   "source": [
    "21/0"
   ]
  },
  {
   "cell_type": "code",
   "execution_count": 18,
   "metadata": {},
   "outputs": [
    {
     "name": "stdout",
     "output_type": "stream",
     "text": [
      "program started\n",
      "Enter a number:12\n",
      "Enter b number:0\n",
      "a=12, b=0\n",
      "after conversion a=12.0, b=0.0\n",
      "some issue\n",
      "ERROR: float division by zero\n",
      "other statements in program\n",
      "program ended\n"
     ]
    }
   ],
   "source": [
    "print \"program started\"\n",
    "a=raw_input(\"Enter a number:\")\n",
    "b=raw_input(\"Enter b number:\")\n",
    "print \"a=%s, b=%s\"%(a,b)\n",
    "try:\n",
    "    a=float(a)\n",
    "    b=float(b)\n",
    "    print \"after conversion a=%s, b=%s\"%(a,b)\n",
    "    res=a/b\n",
    "    print \"res=\",res\n",
    "except Exception as err:\n",
    "    print \"some issue\"\n",
    "    print \"ERROR:\",err\n",
    "print \"other statements in program\"\n",
    "print \"program ended\""
   ]
  },
  {
   "cell_type": "code",
   "execution_count": 19,
   "metadata": {},
   "outputs": [
    {
     "name": "stdout",
     "output_type": "stream",
     "text": [
      "program started\n",
      "Enter a number:qw\n",
      "Enter b number:er\n",
      "a=qw, b=er\n",
      "some issue\n",
      "ERROR: could not convert string to float: qw\n",
      "other statements in program\n",
      "program ended\n"
     ]
    }
   ],
   "source": [
    "print \"program started\"\n",
    "a=raw_input(\"Enter a number:\")\n",
    "b=raw_input(\"Enter b number:\")\n",
    "print \"a=%s, b=%s\"%(a,b)\n",
    "try:\n",
    "    a=float(a)\n",
    "    b=float(b)\n",
    "    print \"after conversion a=%s, b=%s\"%(a,b)\n",
    "    res=a/b\n",
    "    print \"res=\",res\n",
    "except Exception as err:\n",
    "    print \"some issue\"\n",
    "    print \"ERROR:\",err\n",
    "print \"other statements in program\"\n",
    "print \"program ended\""
   ]
  },
  {
   "cell_type": "code",
   "execution_count": 20,
   "metadata": {},
   "outputs": [
    {
     "name": "stdout",
     "output_type": "stream",
     "text": [
      "program started\n",
      "Enter a number:12\n",
      "Enter b number:2\n",
      "a=12, b=2\n",
      "after conversion a=12.0, b=2.0\n",
      "res= 6.0\n",
      "other statements in program\n",
      "program ended\n"
     ]
    }
   ],
   "source": [
    "print \"program started\"\n",
    "a=raw_input(\"Enter a number:\")\n",
    "b=raw_input(\"Enter b number:\")\n",
    "print \"a=%s, b=%s\"%(a,b)\n",
    "try:\n",
    "    a=float(a)\n",
    "    b=float(b)\n",
    "    print \"after conversion a=%s, b=%s\"%(a,b)\n",
    "    res=a/b\n",
    "    print \"res=\",res\n",
    "except Exception as err:\n",
    "    print \"some issue\"\n",
    "    print \"ERROR:\",err\n",
    "print \"other statements in program\"\n",
    "print \"program ended\""
   ]
  },
  {
   "cell_type": "code",
   "execution_count": 21,
   "metadata": {},
   "outputs": [
    {
     "name": "stdout",
     "output_type": "stream",
     "text": [
      "program started\n",
      "Enter a number:12\n",
      "Enter b number:6\n",
      "a=12, b=6\n",
      "after conversion a=12.0, b=6.0\n",
      "res= 2.0\n",
      "other statements in program\n",
      "program ended\n"
     ]
    }
   ],
   "source": [
    "print \"program started\"\n",
    "a=raw_input(\"Enter a number:\")\n",
    "b=raw_input(\"Enter b number:\")\n",
    "print \"a=%s, b=%s\"%(a,b)\n",
    "try:\n",
    "    a=float(a)\n",
    "    b=float(b)\n",
    "    print \"after conversion a=%s, b=%s\"%(a,b)\n",
    "    res=a/b\n",
    "    print \"res=\",res\n",
    "except ZeroDivisionError as err:\n",
    "    print err\n",
    "    print \"b value should not zero.\"\n",
    "except ValueError as err:\n",
    "    print err\n",
    "    print \"expecting only digits got alphabets\"\n",
    "except Exception as err:\n",
    "    print \"some issue\"\n",
    "    print \"ERROR:\",err\n",
    "print \"other statements in program\"\n",
    "print \"program ended\""
   ]
  },
  {
   "cell_type": "code",
   "execution_count": 22,
   "metadata": {},
   "outputs": [
    {
     "name": "stdout",
     "output_type": "stream",
     "text": [
      "program started\n",
      "Enter a number:12\n",
      "Enter b number:0\n",
      "a=12, b=0\n",
      "after conversion a=12.0, b=0.0\n",
      "float division by zero\n",
      "b value should not zero.\n",
      "other statements in program\n",
      "program ended\n"
     ]
    }
   ],
   "source": [
    "print \"program started\"\n",
    "a=raw_input(\"Enter a number:\")\n",
    "b=raw_input(\"Enter b number:\")\n",
    "print \"a=%s, b=%s\"%(a,b)\n",
    "try:\n",
    "    a=float(a)\n",
    "    b=float(b)\n",
    "    print \"after conversion a=%s, b=%s\"%(a,b)\n",
    "    res=a/b\n",
    "    print \"res=\",res\n",
    "except ZeroDivisionError as err:\n",
    "    print err\n",
    "    print \"b value should not zero.\"\n",
    "except ValueError as err:\n",
    "    print err\n",
    "    print \"expecting only digits got alphabets\"\n",
    "except Exception as err:\n",
    "    print \"some issue\"\n",
    "    print \"ERROR:\",err\n",
    "print \"other statements in program\"\n",
    "print \"program ended\""
   ]
  },
  {
   "cell_type": "code",
   "execution_count": 23,
   "metadata": {},
   "outputs": [
    {
     "name": "stdout",
     "output_type": "stream",
     "text": [
      "program started\n",
      "Enter a number:12\n",
      "Enter b number:wert\n",
      "a=12, b=wert\n",
      "could not convert string to float: wert\n",
      "expecting only digits got alphabets\n",
      "other statements in program\n",
      "program ended\n"
     ]
    }
   ],
   "source": [
    "print \"program started\"\n",
    "a=raw_input(\"Enter a number:\")\n",
    "b=raw_input(\"Enter b number:\")\n",
    "print \"a=%s, b=%s\"%(a,b)\n",
    "try:\n",
    "    a=float(a)\n",
    "    b=float(b)\n",
    "    print \"after conversion a=%s, b=%s\"%(a,b)\n",
    "    res=a/b\n",
    "    print \"res=\",res\n",
    "except ZeroDivisionError as err:\n",
    "    print err\n",
    "    print \"b value should not zero.\"\n",
    "except ValueError as err:\n",
    "    print err\n",
    "    print \"expecting only digits got alphabets\"\n",
    "except Exception as err:\n",
    "    print \"some issue\"\n",
    "    print \"ERROR:\",err\n",
    "print \"other statements in program\"\n",
    "print \"program ended\""
   ]
  },
  {
   "cell_type": "code",
   "execution_count": 24,
   "metadata": {},
   "outputs": [
    {
     "name": "stdout",
     "output_type": "stream",
     "text": [
      "program started\n",
      "Enter a number:12\n",
      "Enter b number:6\n",
      "a=12, b=6\n",
      "after conversion a=12.0, b=6.0\n",
      "res= 2.0\n",
      "this is finally\n",
      "other statements in program\n",
      "program ended\n"
     ]
    }
   ],
   "source": [
    "print \"program started\"\n",
    "a=raw_input(\"Enter a number:\")\n",
    "b=raw_input(\"Enter b number:\")\n",
    "print \"a=%s, b=%s\"%(a,b)\n",
    "try:\n",
    "    a=float(a)\n",
    "    b=float(b)\n",
    "    print \"after conversion a=%s, b=%s\"%(a,b)\n",
    "    res=a/b\n",
    "    print \"res=\",res\n",
    "except ZeroDivisionError as err:\n",
    "    print err\n",
    "    print \"b value should not zero.\"\n",
    "except ValueError as err:\n",
    "    print err\n",
    "    print \"expecting only digits got alphabets\"\n",
    "except Exception as err:\n",
    "    print \"some issue\"\n",
    "    print \"ERROR:\",err\n",
    "finally:\n",
    "    print \"this is finally\"\n",
    "print \"other statements in program\"\n",
    "print \"program ended\""
   ]
  },
  {
   "cell_type": "code",
   "execution_count": 25,
   "metadata": {},
   "outputs": [
    {
     "name": "stdout",
     "output_type": "stream",
     "text": [
      "program started\n",
      "Enter a number:12\n",
      "Enter b number:0\n",
      "a=12, b=0\n",
      "after conversion a=12.0, b=0.0\n",
      "float division by zero\n",
      "b value should not zero.\n",
      "this is finally\n",
      "other statements in program\n",
      "program ended\n"
     ]
    }
   ],
   "source": [
    "print \"program started\"\n",
    "a=raw_input(\"Enter a number:\")\n",
    "b=raw_input(\"Enter b number:\")\n",
    "print \"a=%s, b=%s\"%(a,b)\n",
    "try:\n",
    "    a=float(a)\n",
    "    b=float(b)\n",
    "    print \"after conversion a=%s, b=%s\"%(a,b)\n",
    "    res=a/b\n",
    "    print \"res=\",res\n",
    "except ZeroDivisionError as err:\n",
    "    print err\n",
    "    print \"b value should not zero.\"\n",
    "except ValueError as err:\n",
    "    print err\n",
    "    print \"expecting only digits got alphabets\"\n",
    "except Exception as err:\n",
    "    print \"some issue\"\n",
    "    print \"ERROR:\",err\n",
    "finally:\n",
    "    print \"this is finally\"\n",
    "print \"other statements in program\"\n",
    "print \"program ended\""
   ]
  },
  {
   "cell_type": "code",
   "execution_count": 26,
   "metadata": {},
   "outputs": [
    {
     "name": "stdout",
     "output_type": "stream",
     "text": [
      "program started\n",
      "Enter a number:12\n",
      "Enter b number:6\n",
      "a=12, b=6\n",
      "after conversion a=12.0, b=6.0\n",
      "res= 2.0\n",
      "other statements in program\n",
      "program ended\n"
     ]
    }
   ],
   "source": [
    "print \"program started\"\n",
    "a=raw_input(\"Enter a number:\")\n",
    "b=raw_input(\"Enter b number:\")\n",
    "print \"a=%s, b=%s\"%(a,b)\n",
    "f=open(\"res.txt\",\"w\")\n",
    "f.write(\"a=%s, b=%s\\n\"%(a,b))\n",
    "try:\n",
    "    a=float(a)\n",
    "    b=float(b)\n",
    "    print \"after conversion a=%s, b=%s\"%(a,b)\n",
    "    res=a/b\n",
    "    print \"res=\",res\n",
    "    f.write(\"res=%s\"%res)\n",
    "except ZeroDivisionError as err:\n",
    "    print err\n",
    "    print \"b value should not zero.\"\n",
    "except ValueError as err:\n",
    "    print err\n",
    "    print \"expecting only digits got alphabets\"\n",
    "except Exception as err:\n",
    "    print \"some issue\"\n",
    "    print \"ERROR:\",err\n",
    "finally:\n",
    "    f.close()\n",
    "print \"other statements in program\"\n",
    "print \"program ended\""
   ]
  },
  {
   "cell_type": "code",
   "execution_count": 27,
   "metadata": {},
   "outputs": [
    {
     "name": "stdout",
     "output_type": "stream",
     "text": [
      "program started\n",
      "Enter a number:12\n",
      "Enter b number:0\n",
      "a=12, b=0\n",
      "after conversion a=12.0, b=0.0\n",
      "float division by zero\n",
      "b value should not zero.\n",
      "other statements in program\n",
      "program ended\n"
     ]
    }
   ],
   "source": [
    "print \"program started\"\n",
    "a=raw_input(\"Enter a number:\")\n",
    "b=raw_input(\"Enter b number:\")\n",
    "print \"a=%s, b=%s\"%(a,b)\n",
    "f=open(\"res.txt\",\"w\")\n",
    "f.write(\"a=%s, b=%s\\n\"%(a,b))\n",
    "try:\n",
    "    a=float(a)\n",
    "    b=float(b)\n",
    "    print \"after conversion a=%s, b=%s\"%(a,b)\n",
    "    res=a/b\n",
    "    print \"res=\",res\n",
    "    f.write(\"res=%s\"%res)\n",
    "except ZeroDivisionError as err:\n",
    "    print err\n",
    "    print \"b value should not zero.\"\n",
    "except ValueError as err:\n",
    "    print err\n",
    "    print \"expecting only digits got alphabets\"\n",
    "except Exception as err:\n",
    "    print \"some issue\"\n",
    "    print \"ERROR:\",err\n",
    "finally:\n",
    "    f.close()\n",
    "print \"other statements in program\"\n",
    "print \"program ended\""
   ]
  },
  {
   "cell_type": "code",
   "execution_count": 28,
   "metadata": {},
   "outputs": [
    {
     "name": "stdout",
     "output_type": "stream",
     "text": [
      "program started\n",
      "Enter a number:12\n",
      "Enter b number:6\n",
      "a=12, b=6\n",
      "after conversion a=12.0, b=6.0\n",
      "res= 2.0\n",
      "other statements in program\n",
      "program ended\n"
     ]
    }
   ],
   "source": [
    "print \"program started\"\n",
    "a=raw_input(\"Enter a number:\")\n",
    "b=raw_input(\"Enter b number:\")\n",
    "print \"a=%s, b=%s\"%(a,b)\n",
    "f=open(\"res.txt\",\"w\")\n",
    "f.write(\"a=%s, b=%s\\n\"%(a,b))\n",
    "try:\n",
    "    a=float(a)\n",
    "    b=float(b)\n",
    "    print \"after conversion a=%s, b=%s\"%(a,b)\n",
    "    res=a/b\n",
    "    print \"res=\",res\n",
    "    f.write(\"res=%s\"%res)\n",
    "except ZeroDivisionError as err:\n",
    "    print err\n",
    "    print \"b value should not zero.\"\n",
    "except ValueError as err:\n",
    "    print err\n",
    "    print \"expecting only digits got alphabets\"\n",
    "except Exception as err:\n",
    "    print \"some issue\"\n",
    "    print \"ERROR:\",err\n",
    "'''\n",
    "finally:\n",
    "    f.close()\n",
    "'''\n",
    "f.close()\n",
    "print \"other statements in program\"\n",
    "print \"program ended\""
   ]
  },
  {
   "cell_type": "code",
   "execution_count": 29,
   "metadata": {},
   "outputs": [
    {
     "name": "stdout",
     "output_type": "stream",
     "text": [
      "try\n",
      "except\n",
      "finally\n",
      "main blcok\n"
     ]
    }
   ],
   "source": [
    "try:\n",
    "    print \"try\"\n",
    "    print 1/0\n",
    "except:\n",
    "    print \"except\"\n",
    "finally:\n",
    "    print \"finally\"\n",
    "print \"main blcok\""
   ]
  },
  {
   "cell_type": "code",
   "execution_count": 30,
   "metadata": {},
   "outputs": [
    {
     "name": "stdout",
     "output_type": "stream",
     "text": [
      "try\n",
      "finally\n"
     ]
    },
    {
     "ename": "ZeroDivisionError",
     "evalue": "integer division or modulo by zero",
     "output_type": "error",
     "traceback": [
      "\u001b[0;31m---------------------------------------------------------------------------\u001b[0m",
      "\u001b[0;31mZeroDivisionError\u001b[0m                         Traceback (most recent call last)",
      "\u001b[0;32m<ipython-input-30-407598a24db5>\u001b[0m in \u001b[0;36m<module>\u001b[0;34m()\u001b[0m\n\u001b[1;32m      1\u001b[0m \u001b[0;32mtry\u001b[0m\u001b[0;34m:\u001b[0m\u001b[0;34m\u001b[0m\u001b[0m\n\u001b[1;32m      2\u001b[0m     \u001b[0;32mprint\u001b[0m \u001b[0;34m\"try\"\u001b[0m\u001b[0;34m\u001b[0m\u001b[0m\n\u001b[0;32m----> 3\u001b[0;31m     \u001b[0;32mprint\u001b[0m \u001b[0;36m1\u001b[0m\u001b[0;34m/\u001b[0m\u001b[0;36m0\u001b[0m\u001b[0;34m\u001b[0m\u001b[0m\n\u001b[0m\u001b[1;32m      4\u001b[0m \u001b[0;32mfinally\u001b[0m\u001b[0;34m:\u001b[0m\u001b[0;34m\u001b[0m\u001b[0m\n\u001b[1;32m      5\u001b[0m     \u001b[0;32mprint\u001b[0m \u001b[0;34m\"finally\"\u001b[0m\u001b[0;34m\u001b[0m\u001b[0m\n",
      "\u001b[0;31mZeroDivisionError\u001b[0m: integer division or modulo by zero"
     ]
    }
   ],
   "source": [
    "try:\n",
    "    print \"try\"\n",
    "    print 1/0\n",
    "finally:\n",
    "    print \"finally\"\n",
    "print \"main blcok\""
   ]
  },
  {
   "cell_type": "code",
   "execution_count": 31,
   "metadata": {},
   "outputs": [
    {
     "name": "stdout",
     "output_type": "stream",
     "text": [
      "try\n",
      "finally\n",
      "res= 20\n"
     ]
    }
   ],
   "source": [
    "def fun():\n",
    "    try:\n",
    "        print \"try\"\n",
    "        return 20\n",
    "    except:\n",
    "        print \"except\"\n",
    "    finally:\n",
    "        print \"finally\"\n",
    "res=fun()\n",
    "print \"res=\",res"
   ]
  },
  {
   "cell_type": "code",
   "execution_count": 32,
   "metadata": {},
   "outputs": [
    {
     "name": "stdout",
     "output_type": "stream",
     "text": [
      "try\n",
      "finally\n",
      "res= 20\n"
     ]
    }
   ],
   "source": [
    "def fun():\n",
    "    try:\n",
    "        print \"try\"\n",
    "        return 20\n",
    "    except:\n",
    "        print \"except\"\n",
    "    finally:\n",
    "        print \"finally\"\n",
    "    print \"main statements in function\"\n",
    "    return 30\n",
    "res=fun()\n",
    "print \"res=\",res"
   ]
  },
  {
   "cell_type": "code",
   "execution_count": 33,
   "metadata": {},
   "outputs": [
    {
     "name": "stdout",
     "output_type": "stream",
     "text": [
      "try\n",
      "finally\n",
      "res= 40\n"
     ]
    }
   ],
   "source": [
    "def fun():\n",
    "    try:\n",
    "        print \"try\"\n",
    "        return 20\n",
    "    except:\n",
    "        print \"except\"\n",
    "    finally:\n",
    "        print \"finally\"\n",
    "        return 40\n",
    "    print \"main statements in function\"\n",
    "    return 30\n",
    "res=fun()\n",
    "print \"res=\",res"
   ]
  },
  {
   "cell_type": "code",
   "execution_count": 34,
   "metadata": {},
   "outputs": [
    {
     "name": "stdout",
     "output_type": "stream",
     "text": [
      "try\n",
      "finally\n",
      "res= 40\n"
     ]
    }
   ],
   "source": [
    "def fun():\n",
    "    try:\n",
    "        print \"try\"\n",
    "        return 20\n",
    "        print 1/0\n",
    "    except:\n",
    "        print \"except\"\n",
    "        return 30\n",
    "    finally:\n",
    "        print \"finally\"\n",
    "        return 40\n",
    "    print \"main statements in function\"\n",
    "    return 30\n",
    "res=fun()\n",
    "print \"res=\",res"
   ]
  },
  {
   "cell_type": "code",
   "execution_count": 35,
   "metadata": {},
   "outputs": [
    {
     "name": "stdout",
     "output_type": "stream",
     "text": [
      "try\n",
      "except\n",
      "finally\n",
      "res= 40\n"
     ]
    }
   ],
   "source": [
    "def fun():\n",
    "    try:\n",
    "        print \"try\"\n",
    "        print 1/0\n",
    "        return 20\n",
    "    except:\n",
    "        print \"except\"\n",
    "        return 30\n",
    "    finally:\n",
    "        print \"finally\"\n",
    "        return 40\n",
    "    print \"main statements in function\"\n",
    "    return 30\n",
    "res=fun()\n",
    "print \"res=\",res"
   ]
  },
  {
   "cell_type": "code",
   "execution_count": 36,
   "metadata": {},
   "outputs": [
    {
     "name": "stdout",
     "output_type": "stream",
     "text": [
      "try\n",
      "except\n",
      "finally\n",
      "main statements in function\n",
      "res= 30\n"
     ]
    }
   ],
   "source": [
    "def fun():\n",
    "    try:\n",
    "        print \"try\"\n",
    "        print 1/0\n",
    "    except:\n",
    "        print \"except\"\n",
    "    finally:\n",
    "        print \"finally\"\n",
    "    print \"main statements in function\"\n",
    "    return 30\n",
    "res=fun()\n",
    "print \"res=\",res"
   ]
  },
  {
   "cell_type": "code",
   "execution_count": 37,
   "metadata": {},
   "outputs": [
    {
     "name": "stdout",
     "output_type": "stream",
     "text": [
      "try\n",
      "finally\n",
      "main statements in function\n",
      "res= 30\n"
     ]
    }
   ],
   "source": [
    "def fun():\n",
    "    try:\n",
    "        print \"try\"\n",
    "    except:\n",
    "        print \"except\"\n",
    "    finally:\n",
    "        print \"finally\"\n",
    "    print \"main statements in function\"\n",
    "    return 30\n",
    "res=fun()\n",
    "print \"res=\",res"
   ]
  },
  {
   "cell_type": "code",
   "execution_count": 38,
   "metadata": {},
   "outputs": [
    {
     "name": "stdout",
     "output_type": "stream",
     "text": [
      "try\n",
      "else\n",
      "finally\n",
      "main block\n"
     ]
    }
   ],
   "source": [
    "try:\n",
    "    print \"try\"\n",
    "except:\n",
    "    print \"except\"\n",
    "else:\n",
    "    print \"else\"\n",
    "finally:\n",
    "    print \"finally\"\n",
    "print \"main block\""
   ]
  },
  {
   "cell_type": "code",
   "execution_count": 39,
   "metadata": {},
   "outputs": [
    {
     "name": "stdout",
     "output_type": "stream",
     "text": [
      "try\n",
      "except\n",
      "finally\n",
      "main block\n"
     ]
    }
   ],
   "source": [
    "try:\n",
    "    print \"try\"\n",
    "    print 1/0\n",
    "except:\n",
    "    print \"except\"\n",
    "else:\n",
    "    print \"else\"\n",
    "finally:\n",
    "    print \"finally\"\n",
    "print \"main block\""
   ]
  },
  {
   "cell_type": "code",
   "execution_count": 41,
   "metadata": {},
   "outputs": [
    {
     "name": "stdout",
     "output_type": "stream",
     "text": [
      "try for  p\n",
      "end try for  p\n",
      "finally for  p\n",
      "some statements in loop\n",
      "end of loop\n",
      "try for  y\n",
      "end try for  y\n",
      "finally for  y\n",
      "some statements in loop\n",
      "end of loop\n",
      "try for  t\n",
      "finally for  t\n"
     ]
    }
   ],
   "source": [
    "for i in \"python\":\n",
    "    try:\n",
    "        print \"try for \",i\n",
    "        if i==\"t\":\n",
    "            break\n",
    "        print \"end try for \",i\n",
    "    except:\n",
    "        print \"except for \",i\n",
    "    finally:\n",
    "        print \"finally for \",i\n",
    "    print \"some statements in loop\"\n",
    "    print \"end of loop\""
   ]
  },
  {
   "cell_type": "code",
   "execution_count": 1,
   "metadata": {},
   "outputs": [
    {
     "name": "stdout",
     "output_type": "stream",
     "text": [
      "this is op1\n"
     ]
    }
   ],
   "source": [
    "class parent:\n",
    "    def op1(self):\n",
    "        print \"this is op1\"\n",
    "class child(parent):\n",
    "    def op2(self):\n",
    "        self.op1()\n",
    "o2=child()\n",
    "o2.op2()"
   ]
  },
  {
   "cell_type": "code",
   "execution_count": 2,
   "metadata": {},
   "outputs": [
    {
     "name": "stdout",
     "output_type": "stream",
     "text": [
      "this is op1\n",
      "this is op1\n"
     ]
    }
   ],
   "source": [
    "class parent:\n",
    "    def op1(self):\n",
    "        print \"this is op1\"\n",
    "class child(parent):\n",
    "    def op2(self):\n",
    "        self.op1()\n",
    "o2=child()\n",
    "o2.op2()\n",
    "o2.op1()"
   ]
  },
  {
   "cell_type": "code",
   "execution_count": 3,
   "metadata": {},
   "outputs": [
    {
     "name": "stdout",
     "output_type": "stream",
     "text": [
      "this is op1\n"
     ]
    },
    {
     "ename": "TypeError",
     "evalue": "super() argument 1 must be type, not classobj",
     "output_type": "error",
     "traceback": [
      "\u001b[0;31m---------------------------------------------------------------------------\u001b[0m",
      "\u001b[0;31mTypeError\u001b[0m                                 Traceback (most recent call last)",
      "\u001b[0;32m<ipython-input-3-8cd85105075a>\u001b[0m in \u001b[0;36m<module>\u001b[0;34m()\u001b[0m\n\u001b[1;32m      9\u001b[0m         \u001b[0msuper\u001b[0m\u001b[0;34m(\u001b[0m\u001b[0mchild\u001b[0m\u001b[0;34m,\u001b[0m\u001b[0mself\u001b[0m\u001b[0;34m)\u001b[0m\u001b[0;34m.\u001b[0m\u001b[0mop2\u001b[0m\u001b[0;34m(\u001b[0m\u001b[0;34m)\u001b[0m\u001b[0;34m\u001b[0m\u001b[0m\n\u001b[1;32m     10\u001b[0m \u001b[0mo2\u001b[0m\u001b[0;34m=\u001b[0m\u001b[0mchild\u001b[0m\u001b[0;34m(\u001b[0m\u001b[0;34m)\u001b[0m\u001b[0;34m\u001b[0m\u001b[0m\n\u001b[0;32m---> 11\u001b[0;31m \u001b[0mo2\u001b[0m\u001b[0;34m.\u001b[0m\u001b[0mop2\u001b[0m\u001b[0;34m(\u001b[0m\u001b[0;34m)\u001b[0m\u001b[0;34m\u001b[0m\u001b[0m\n\u001b[0m\u001b[1;32m     12\u001b[0m \u001b[0mo2\u001b[0m\u001b[0;34m.\u001b[0m\u001b[0mop1\u001b[0m\u001b[0;34m(\u001b[0m\u001b[0;34m)\u001b[0m\u001b[0;34m\u001b[0m\u001b[0m\n",
      "\u001b[0;32m<ipython-input-3-8cd85105075a>\u001b[0m in \u001b[0;36mop2\u001b[0;34m(self)\u001b[0m\n\u001b[1;32m      7\u001b[0m     \u001b[0;32mdef\u001b[0m \u001b[0mop2\u001b[0m\u001b[0;34m(\u001b[0m\u001b[0mself\u001b[0m\u001b[0;34m)\u001b[0m\u001b[0;34m:\u001b[0m\u001b[0;34m\u001b[0m\u001b[0m\n\u001b[1;32m      8\u001b[0m         \u001b[0mself\u001b[0m\u001b[0;34m.\u001b[0m\u001b[0mop1\u001b[0m\u001b[0;34m(\u001b[0m\u001b[0;34m)\u001b[0m\u001b[0;34m\u001b[0m\u001b[0m\n\u001b[0;32m----> 9\u001b[0;31m         \u001b[0msuper\u001b[0m\u001b[0;34m(\u001b[0m\u001b[0mchild\u001b[0m\u001b[0;34m,\u001b[0m\u001b[0mself\u001b[0m\u001b[0;34m)\u001b[0m\u001b[0;34m.\u001b[0m\u001b[0mop2\u001b[0m\u001b[0;34m(\u001b[0m\u001b[0;34m)\u001b[0m\u001b[0;34m\u001b[0m\u001b[0m\n\u001b[0m\u001b[1;32m     10\u001b[0m \u001b[0mo2\u001b[0m\u001b[0;34m=\u001b[0m\u001b[0mchild\u001b[0m\u001b[0;34m(\u001b[0m\u001b[0;34m)\u001b[0m\u001b[0;34m\u001b[0m\u001b[0m\n\u001b[1;32m     11\u001b[0m \u001b[0mo2\u001b[0m\u001b[0;34m.\u001b[0m\u001b[0mop2\u001b[0m\u001b[0;34m(\u001b[0m\u001b[0;34m)\u001b[0m\u001b[0;34m\u001b[0m\u001b[0m\n",
      "\u001b[0;31mTypeError\u001b[0m: super() argument 1 must be type, not classobj"
     ]
    }
   ],
   "source": [
    "class parent:\n",
    "    def op1(self):\n",
    "        print \"this is op1\"\n",
    "    def op2(self):\n",
    "        print \"op2 in parent\"\n",
    "class child(parent):\n",
    "    def op2(self):\n",
    "        self.op1()\n",
    "        super(child,self).op2()\n",
    "o2=child()\n",
    "o2.op2()\n",
    "o2.op1()"
   ]
  },
  {
   "cell_type": "code",
   "execution_count": null,
   "metadata": {
    "collapsed": true
   },
   "outputs": [],
   "source": [
    "class parent(object):\n",
    "    def op1(self):\n",
    "        print \"this is op1\"\n",
    "    def op2(self):\n",
    "        print \"op2 in parent\"\n",
    "class child(parent):\n",
    "    def op2(self):\n",
    "        self.op1()\n",
    "        super(child,self).op2()\n",
    "o2=child()\n",
    "o2.op2()\n",
    "o2.op1()"
   ]
  }
 ],
 "metadata": {
  "kernelspec": {
   "display_name": "Python 2",
   "language": "python",
   "name": "python2"
  },
  "language_info": {
   "codemirror_mode": {
    "name": "ipython",
    "version": 2
   },
   "file_extension": ".py",
   "mimetype": "text/x-python",
   "name": "python",
   "nbconvert_exporter": "python",
   "pygments_lexer": "ipython2",
   "version": "2.7.14"
  }
 },
 "nbformat": 4,
 "nbformat_minor": 2
}
