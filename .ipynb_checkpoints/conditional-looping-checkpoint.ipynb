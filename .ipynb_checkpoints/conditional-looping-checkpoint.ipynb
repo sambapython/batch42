{
 "cells": [
  {
   "cell_type": "code",
   "execution_count": 1,
   "metadata": {},
   "outputs": [
    {
     "name": "stdout",
     "output_type": "stream",
     "text": [
      "Mobiles avaailable in store:\n",
      "\t1.Android\n",
      "\t2.Windows\n",
      "\t3.Mac\n"
     ]
    }
   ],
   "source": [
    "\"\"\"\n",
    "Mobiles avaailable in store:\n",
    "    1. Android\n",
    "    2. Windows\n",
    "    3. Mac\n",
    "\"\"\"\n",
    "print \"Mobiles avaailable in store:\\n\\t1.Android\\n\\t2.Windows\\n\\t3.Mac\""
   ]
  },
  {
   "cell_type": "code",
   "execution_count": 2,
   "metadata": {},
   "outputs": [
    {
     "name": "stdout",
     "output_type": "stream",
     "text": [
      "Mobiles avaailable in store:\n",
      "\t1.Android\n",
      "\t2.Windows\n",
      "\t3.Mac\n",
      "Select an option:1\n"
     ]
    }
   ],
   "source": [
    "\"\"\"\n",
    "Mobiles avaailable in store:\n",
    "    1. Android\n",
    "    2. Windows\n",
    "    3. Mac\n",
    "\"\"\"\n",
    "print \"Mobiles avaailable in store:\\n\\t1.Android\\n\\t2.Windows\\n\\t3.Mac\"\n",
    "opt=raw_input(\"Select an option:\")"
   ]
  },
  {
   "cell_type": "code",
   "execution_count": 3,
   "metadata": {},
   "outputs": [
    {
     "name": "stdout",
     "output_type": "stream",
     "text": [
      "1\n"
     ]
    }
   ],
   "source": [
    "print opt"
   ]
  },
  {
   "cell_type": "code",
   "execution_count": null,
   "metadata": {
    "collapsed": true
   },
   "outputs": [],
   "source": [
    "\"\"\"\n",
    "Mobiles avaailable in store:\n",
    "    1. Android\n",
    "    2. Windows\n",
    "    3. Mac\n",
    "\"\"\"\n",
    "print \"Welcome\"\n",
    "print \"Mobiles avaailable in store:\\n\\t1.Android\\n\\t2.Windows\\n\\t3.Mac\"\n",
    "opt=raw_input(\"Select an option:\")\n",
    "print \"Goto First floor to buy Android os mobiles\"\n",
    "print \"Goto second floor to buy windows os mobiles\"\n",
    "print \"Goto third floor to buy Mac os mobiles\"\n",
    "print \"Happy shoping\""
   ]
  }
 ],
 "metadata": {
  "kernelspec": {
   "display_name": "Python 2",
   "language": "python",
   "name": "python2"
  },
  "language_info": {
   "codemirror_mode": {
    "name": "ipython",
    "version": 2
   },
   "file_extension": ".py",
   "mimetype": "text/x-python",
   "name": "python",
   "nbconvert_exporter": "python",
   "pygments_lexer": "ipython2",
   "version": "2.7.14"
  }
 },
 "nbformat": 4,
 "nbformat_minor": 2
}
