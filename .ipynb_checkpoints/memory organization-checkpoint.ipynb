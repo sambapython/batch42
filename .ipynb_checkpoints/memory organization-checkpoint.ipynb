{
 "cells": [
  {
   "cell_type": "code",
   "execution_count": 1,
   "metadata": {},
   "outputs": [
    {
     "name": "stdout",
     "output_type": "stream",
     "text": [
      "a= 1000\n",
      "b= 2000\n",
      "c= 1000\n",
      "d= 1000\n"
     ]
    }
   ],
   "source": [
    "a=1000\n",
    "b=2000\n",
    "c=a\n",
    "d=1000\n",
    "print \"a=\",a\n",
    "print \"b=\",b\n",
    "print \"c=\",c\n",
    "print \"d=\",d"
   ]
  },
  {
   "cell_type": "code",
   "execution_count": 2,
   "metadata": {},
   "outputs": [
    {
     "name": "stdout",
     "output_type": "stream",
     "text": [
      "a= 4000\n",
      "b= 2000\n",
      "c= 1000\n",
      "d= 1000\n"
     ]
    }
   ],
   "source": [
    "a=1000\n",
    "b=2000\n",
    "c=a\n",
    "a=4000\n",
    "d=1000\n",
    "print \"a=\",a\n",
    "print \"b=\",b\n",
    "print \"c=\",c\n",
    "print \"d=\",d"
   ]
  },
  {
   "cell_type": "code",
   "execution_count": 4,
   "metadata": {},
   "outputs": [
    {
     "name": "stdout",
     "output_type": "stream",
     "text": [
      "a= 1000 93951984916256\n",
      "b= 2000 93951984916328\n",
      "c= 1000 93951984916256\n",
      "d= 1000 93951984916472\n"
     ]
    }
   ],
   "source": [
    "a=1000\n",
    "b=2000\n",
    "c=a\n",
    "d=1000\n",
    "print \"a=\",a,id(a)\n",
    "print \"b=\",b,id(b)\n",
    "print \"c=\",c,id(c)\n",
    "print \"d=\",d,id(d)"
   ]
  },
  {
   "cell_type": "code",
   "execution_count": null,
   "metadata": {
    "collapsed": true
   },
   "outputs": [],
   "source": [
    "a=1000\n",
    "b=2000\n",
    "c=a\n",
    "d=1000\n",
    "print \"a=\",a,id(a)\n",
    "print \"b=\",b,id(b)\n",
    "print \"c=\",c,id(c)\n",
    "print \"d=\",d,id(d)\n",
    "del d\n",
    "a=4000\n",
    "b=5000"
   ]
  }
 ],
 "metadata": {
  "kernelspec": {
   "display_name": "Python 2",
   "language": "python",
   "name": "python2"
  },
  "language_info": {
   "codemirror_mode": {
    "name": "ipython",
    "version": 2
   },
   "file_extension": ".py",
   "mimetype": "text/x-python",
   "name": "python",
   "nbconvert_exporter": "python",
   "pygments_lexer": "ipython2",
   "version": "2.7.14"
  }
 },
 "nbformat": 4,
 "nbformat_minor": 2
}
