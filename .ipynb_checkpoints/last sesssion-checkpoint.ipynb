{
 "cells": [
  {
   "cell_type": "code",
   "execution_count": 1,
   "metadata": {},
   "outputs": [
    {
     "name": "stdout",
     "output_type": "stream",
     "text": [
      "<function fun at 0x7fd6b0755a28>\n"
     ]
    }
   ],
   "source": [
    "def fun():\n",
    "    print \"this is fun\"\n",
    "print fun "
   ]
  },
  {
   "cell_type": "code",
   "execution_count": 2,
   "metadata": {},
   "outputs": [
    {
     "name": "stdout",
     "output_type": "stream",
     "text": [
      "this is fun\n",
      "None\n"
     ]
    }
   ],
   "source": [
    "def fun():\n",
    "    print \"this is fun\"\n",
    "print fun()"
   ]
  },
  {
   "cell_type": "code",
   "execution_count": 4,
   "metadata": {},
   "outputs": [
    {
     "name": "stdout",
     "output_type": "stream",
     "text": [
      "<function fun at 0x7fd6b0755c08>\n",
      "this is fun\n",
      "None\n"
     ]
    }
   ],
   "source": [
    "def fun():\n",
    "    print \"this is fun\"\n",
    "f=fun\n",
    "print f\n",
    "f1=fun()\n",
    "print f1"
   ]
  },
  {
   "cell_type": "code",
   "execution_count": 5,
   "metadata": {},
   "outputs": [
    {
     "name": "stdout",
     "output_type": "stream",
     "text": [
      "this is fun1\n",
      "this is fun\n",
      "None\n"
     ]
    }
   ],
   "source": [
    "def fun():\n",
    "    print \"this is fun\"\n",
    "def fun1(f2):\n",
    "    print \"this is fun1\"\n",
    "    print f2()\n",
    "f=fun\n",
    "fun1(f)"
   ]
  },
  {
   "cell_type": "code",
   "execution_count": 6,
   "metadata": {},
   "outputs": [
    {
     "name": "stdout",
     "output_type": "stream",
     "text": [
      "<function inner at 0x7fd6b0755cf8>\n"
     ]
    }
   ],
   "source": [
    "def outer(f):\n",
    "    def inner(a,b):\n",
    "        return f(a,b)\n",
    "    return inner\n",
    "def fun(c1,c2):\n",
    "    return c1+c2\n",
    "\n",
    "res=outer(fun)\n",
    "print res"
   ]
  },
  {
   "cell_type": "code",
   "execution_count": 7,
   "metadata": {},
   "outputs": [
    {
     "ename": "TypeError",
     "evalue": "fun() takes no arguments (2 given)",
     "output_type": "error",
     "traceback": [
      "\u001b[0;31m---------------------------------------------------------------------------\u001b[0m",
      "\u001b[0;31mTypeError\u001b[0m                                 Traceback (most recent call last)",
      "\u001b[0;32m<ipython-input-7-4cb85b902397>\u001b[0m in \u001b[0;36m<module>\u001b[0;34m()\u001b[0m\n\u001b[1;32m      7\u001b[0m \u001b[0;34m\u001b[0m\u001b[0m\n\u001b[1;32m      8\u001b[0m \u001b[0mres\u001b[0m\u001b[0;34m=\u001b[0m\u001b[0mouter\u001b[0m\u001b[0;34m(\u001b[0m\u001b[0mf\u001b[0m\u001b[0;34m)\u001b[0m\u001b[0;34m\u001b[0m\u001b[0m\n\u001b[0;32m----> 9\u001b[0;31m \u001b[0mres1\u001b[0m\u001b[0;34m=\u001b[0m\u001b[0mres\u001b[0m\u001b[0;34m(\u001b[0m\u001b[0;36m10\u001b[0m\u001b[0;34m,\u001b[0m\u001b[0;36m20\u001b[0m\u001b[0;34m)\u001b[0m\u001b[0;34m\u001b[0m\u001b[0m\n\u001b[0m",
      "\u001b[0;32m<ipython-input-7-4cb85b902397>\u001b[0m in \u001b[0;36minner\u001b[0;34m(a, b)\u001b[0m\n\u001b[1;32m      1\u001b[0m \u001b[0;32mdef\u001b[0m \u001b[0mouter\u001b[0m\u001b[0;34m(\u001b[0m\u001b[0mf\u001b[0m\u001b[0;34m)\u001b[0m\u001b[0;34m:\u001b[0m\u001b[0;34m\u001b[0m\u001b[0m\n\u001b[1;32m      2\u001b[0m     \u001b[0;32mdef\u001b[0m \u001b[0minner\u001b[0m\u001b[0;34m(\u001b[0m\u001b[0ma\u001b[0m\u001b[0;34m,\u001b[0m\u001b[0mb\u001b[0m\u001b[0;34m)\u001b[0m\u001b[0;34m:\u001b[0m\u001b[0;34m\u001b[0m\u001b[0m\n\u001b[0;32m----> 3\u001b[0;31m         \u001b[0;32mreturn\u001b[0m \u001b[0mf\u001b[0m\u001b[0;34m(\u001b[0m\u001b[0ma\u001b[0m\u001b[0;34m,\u001b[0m\u001b[0mb\u001b[0m\u001b[0;34m)\u001b[0m\u001b[0;34m\u001b[0m\u001b[0m\n\u001b[0m\u001b[1;32m      4\u001b[0m     \u001b[0;32mreturn\u001b[0m \u001b[0minner\u001b[0m\u001b[0;34m\u001b[0m\u001b[0m\n\u001b[1;32m      5\u001b[0m \u001b[0;32mdef\u001b[0m \u001b[0mfun\u001b[0m\u001b[0;34m(\u001b[0m\u001b[0mc1\u001b[0m\u001b[0;34m,\u001b[0m\u001b[0mc2\u001b[0m\u001b[0;34m)\u001b[0m\u001b[0;34m:\u001b[0m\u001b[0;34m\u001b[0m\u001b[0m\n",
      "\u001b[0;31mTypeError\u001b[0m: fun() takes no arguments (2 given)"
     ]
    }
   ],
   "source": [
    "def outer(f):\n",
    "    def inner(a,b):\n",
    "        return f(a,b)\n",
    "    return inner\n",
    "def fun(c1,c2):\n",
    "    return c1+c2\n",
    "\n",
    "res=outer(f)\n",
    "res1=res(10,20)"
   ]
  },
  {
   "cell_type": "code",
   "execution_count": 8,
   "metadata": {},
   "outputs": [
    {
     "name": "stdout",
     "output_type": "stream",
     "text": [
      "30\n"
     ]
    }
   ],
   "source": [
    "def outer(f):\n",
    "    def inner(a,b):\n",
    "        return f(a,b)\n",
    "    return inner\n",
    "def fun(c1,c2):\n",
    "    return c1+c2\n",
    "\n",
    "res=outer(fun)\n",
    "res1=res(10,20)\n",
    "print res1"
   ]
  },
  {
   "cell_type": "code",
   "execution_count": 9,
   "metadata": {},
   "outputs": [
    {
     "name": "stdout",
     "output_type": "stream",
     "text": [
      "result=30\n"
     ]
    }
   ],
   "source": [
    "def outer(f):\n",
    "    def inner(a,b):\n",
    "        return \"result=%s\"%f(a,b)\n",
    "    return inner\n",
    "def fun(c1,c2):\n",
    "    return c1+c2\n",
    "\n",
    "res=outer(fun)\n",
    "res1=res(10,20)\n",
    "print res1"
   ]
  },
  {
   "cell_type": "code",
   "execution_count": 10,
   "metadata": {},
   "outputs": [
    {
     "name": "stdout",
     "output_type": "stream",
     "text": [
      "result=30\n",
      "result=200\n",
      "result=0\n"
     ]
    }
   ],
   "source": [
    "def outer(f):\n",
    "    def inner(a,b):\n",
    "        return \"result=%s\"%f(a,b)\n",
    "    return inner\n",
    "\n",
    "def add(c1,c2):\n",
    "    return c1+c2\n",
    "\n",
    "def mul(c1,c2):\n",
    "    return c1*c2\n",
    "\n",
    "def div(c1,c2):\n",
    "    return c1/c2\n",
    "\n",
    "res=outer(add)\n",
    "res1=res(10,20)\n",
    "print res1\n",
    "\n",
    "res=outer(mul)\n",
    "res1=res(10,20)\n",
    "print res1\n",
    "\n",
    "res=outer(div)\n",
    "res1=res(10,20)\n",
    "print res1\n"
   ]
  },
  {
   "cell_type": "code",
   "execution_count": 11,
   "metadata": {},
   "outputs": [
    {
     "name": "stdout",
     "output_type": "stream",
     "text": [
      "30\n",
      "200\n",
      "0\n"
     ]
    }
   ],
   "source": [
    "def outer(f):\n",
    "    def inner(a,b):\n",
    "        return \"result=%s\"%f(a,b)\n",
    "    return inner\n",
    "\n",
    "def add(c1,c2):\n",
    "    return c1+c2\n",
    "\n",
    "def mul(c1,c2):\n",
    "    return c1*c2\n",
    "\n",
    "def div(c1,c2):\n",
    "    return c1/c2\n",
    "\n",
    "print add(10,20)\n",
    "print mul(10,20)\n",
    "print div(10,20)"
   ]
  },
  {
   "cell_type": "code",
   "execution_count": 12,
   "metadata": {},
   "outputs": [
    {
     "name": "stdout",
     "output_type": "stream",
     "text": [
      "result=30\n",
      "result=200\n",
      "result=0\n"
     ]
    }
   ],
   "source": [
    "def outer(f):\n",
    "    def inner(a,b):\n",
    "        return \"result=%s\"%f(a,b)\n",
    "    return inner\n",
    "@outer\n",
    "def add(c1,c2):\n",
    "    return c1+c2\n",
    "@outer\n",
    "def mul(c1,c2):\n",
    "    return c1*c2\n",
    "@outer\n",
    "def div(c1,c2):\n",
    "    return c1/c2\n",
    "\n",
    "print add(10,20)\n",
    "print mul(10,20)\n",
    "print div(10,20)"
   ]
  },
  {
   "cell_type": "code",
   "execution_count": 13,
   "metadata": {
    "collapsed": true
   },
   "outputs": [],
   "source": [
    "username=\"khyaathi-python\"\n",
    "password=\"pythonkhyaathi\"\n",
    "import paramiko as pmk\n",
    "ssh = pmk.SSHClient()\n",
    "ssh.set_missing_host_key_policy(pmk.AutoAddPolicy())\n",
    "ssh.connect(\"localhost\",username=username,password=password)"
   ]
  },
  {
   "cell_type": "code",
   "execution_count": 14,
   "metadata": {},
   "outputs": [
    {
     "data": {
      "text/plain": [
       "u'/home/khyaathi-python/pythonexamples/batch42'"
      ]
     },
     "execution_count": 14,
     "metadata": {},
     "output_type": "execute_result"
    }
   ],
   "source": [
    "pwd"
   ]
  },
  {
   "cell_type": "code",
   "execution_count": 15,
   "metadata": {
    "collapsed": true
   },
   "outputs": [],
   "source": [
    "inp, outp, errp = ssh.exec_command(\"ls -l\")"
   ]
  },
  {
   "cell_type": "code",
   "execution_count": 16,
   "metadata": {},
   "outputs": [
    {
     "name": "stdout",
     "output_type": "stream",
     "text": [
      "<paramiko.ChannelFile from <paramiko.Channel 0 (closed) -> <paramiko.Transport at 0xb0758210L (cipher aes128-ctr, 128 bits) (active; 0 open channel(s))>>>\n"
     ]
    }
   ],
   "source": [
    "print outp"
   ]
  },
  {
   "cell_type": "code",
   "execution_count": 17,
   "metadata": {},
   "outputs": [
    {
     "name": "stdout",
     "output_type": "stream",
     "text": [
      "total 260\n",
      "drwxr-xr-x 22 khyaathi-python khyaathi-python  4096 Dec  1 09:51 anaconda2\n",
      "drwxr-xr-x  2 khyaathi-python khyaathi-python  4096 Dec 17 08:27 app\n",
      "-rw-r--r--  1 khyaathi-python khyaathi-python     0 Dec 28 09:03 app1.py\n",
      "-rw-r--r--  1 khyaathi-python khyaathi-python    21 Dec 28 09:02 app.py\n",
      "-rw-r--r--  1 khyaathi-python khyaathi-python    19 Jan 24 07:16 a.py\n",
      "-rw-r--r--  1 khyaathi-python khyaathi-python   104 Feb 10 08:24 data1.csv\n",
      "drwxr-xr-x  3 khyaathi-python khyaathi-python  4096 Feb 12 07:04 Desktop\n",
      "drwxr-xr-x  2 khyaathi-python khyaathi-python  4096 Feb 10 08:25 Documents\n",
      "drwxr-xr-x  3 khyaathi-python khyaathi-python 12288 Feb 12 08:24 Downloads\n",
      "-rw-r--r--  1 khyaathi-python khyaathi-python  8980 Nov 29 14:53 examples.desktop\n",
      "-rw-r--r--  1 khyaathi-python khyaathi-python   153 Jan 29 08:46 f1.py\n",
      "-rw-r--r--  1 khyaathi-python khyaathi-python   427 Jan 29 09:00 f1.pyc\n",
      "drwxr-xr-x  2 khyaathi-python khyaathi-python  4096 Dec 17 07:55 f2\n",
      "drwxr-xr-x  2 khyaathi-python khyaathi-python  4096 Dec 17 07:58 f3\n",
      "-rw-r--r--  1 khyaathi-python khyaathi-python    29 Dec 27 07:57 file3.py\n",
      "-rw-r--r--  1 khyaathi-python khyaathi-python   148 Dec 27 07:59 file3.pyc\n",
      "-rw-r--r--  1 khyaathi-python khyaathi-python     0 Dec 20 10:20 first.py\n",
      "-rw-r--r--  1 khyaathi-python khyaathi-python    20 Dec 20 10:17 hello.py\n",
      "-rw-r--r--  1 khyaathi-python khyaathi-python     0 Jan 23 08:33 hr.py\n",
      "drwxrwxr-x  2 khyaathi-python khyaathi-python  4096 Dec 20 09:01 local\n",
      "-rw-r--r--  1 khyaathi-python khyaathi-python     0 Dec  3 09:22 log.py\n",
      "drwxr-xr-x  2 khyaathi-python khyaathi-python  4096 Jan 25 22:01 Madan python\n",
      "drwxr-xr-x  2 khyaathi-python khyaathi-python  4096 Nov 29 15:02 Music\n",
      "-rw-r--r--  1 khyaathi-python khyaathi-python   354 Dec 14 08:37 pgadmin.log\n",
      "drwxr-xr-x  2 khyaathi-python khyaathi-python  4096 Nov 29 15:02 Pictures\n",
      "drwxr-xr-x  4 khyaathi-python khyaathi-python  4096 Feb 11 09:23 proj_batch41\n",
      "-rw-r--r--  1 khyaathi-python khyaathi-python 20232 Feb 11 09:33 proj_batch41.zip\n",
      "drwxr-xr-x  2 khyaathi-python khyaathi-python  4096 Nov 29 15:02 Public\n",
      "-rw-r--r--  1 khyaathi-python khyaathi-python     5 Dec 28 09:04 pur.py\n",
      "drwxr-xr-x  8 khyaathi-python khyaathi-python  4096 Feb 11 09:34 pythonexamples\n",
      "-rw-r--r--  1 khyaathi-python khyaathi-python   269 Dec 20 10:39 readinput.py\n",
      "drwxr-xr-x  2 khyaathi-python khyaathi-python  4096 Dec 20 09:02 remote\n",
      "-rw-r--r--  1 khyaathi-python khyaathi-python     5 Dec 28 09:04 sales.py\n",
      "-rw-r--r--  1 khyaathi-python khyaathi-python     0 Dec  3 08:45 service.py\n",
      "drwxr-xr-x  2 khyaathi-python khyaathi-python  4096 Nov 29 15:02 Templates\n",
      "-rw-r--r--  1 khyaathi-python khyaathi-python   154 Dec  3 07:45 udata.csv\n",
      "-rw-r--r--  1 khyaathi-python khyaathi-python  1486 Dec  8 07:23 Untitled1.ipynb\n",
      "-rw-r--r--  1 khyaathi-python khyaathi-python  8284 Dec  9 08:01 Untitled2.ipynb\n",
      "-rw-r--r--  1 khyaathi-python khyaathi-python 12454 Dec 16 10:50 Untitled3.ipynb\n",
      "-rw-r--r--  1 khyaathi-python khyaathi-python  9783 Dec 17 11:43 Untitled4.ipynb\n",
      "-rw-r--r--  1 khyaathi-python khyaathi-python  6021 Dec 28 09:13 Untitled5.ipynb\n",
      "-rw-r--r--  1 khyaathi-python khyaathi-python  7469 Jan 23 08:27 Untitled6.ipynb\n",
      "-rw-r--r--  1 khyaathi-python khyaathi-python   582 Feb 10 10:40 Untitled7.ipynb\n",
      "-rw-r--r--  1 khyaathi-python khyaathi-python  1753 Feb 10 11:09 Untitled8.ipynb\n",
      "-rw-r--r--  1 khyaathi-python khyaathi-python 31143 Dec  3 14:04 Untitled.ipynb\n",
      "drwxr-xr-x  2 khyaathi-python khyaathi-python  4096 Nov 29 15:02 Videos\n",
      "-rw-r--r--  1 khyaathi-python khyaathi-python     0 Jan 23 08:34 war.py\n",
      "\n"
     ]
    }
   ],
   "source": [
    "print outp.read()"
   ]
  },
  {
   "cell_type": "code",
   "execution_count": 18,
   "metadata": {
    "collapsed": true
   },
   "outputs": [],
   "source": [
    "inp, outp, errp = ssh.exec_command(\"mkdir local\")"
   ]
  },
  {
   "cell_type": "code",
   "execution_count": 19,
   "metadata": {
    "collapsed": true
   },
   "outputs": [],
   "source": [
    "inp, outp, errp = ssh.exec_command(\"mkdir remote\")"
   ]
  },
  {
   "cell_type": "code",
   "execution_count": 20,
   "metadata": {},
   "outputs": [
    {
     "data": {
      "text/plain": [
       "<paramiko.ChannelFile from <paramiko.Channel 2 (closed) -> <paramiko.Transport at 0xb0758210L (cipher aes128-ctr, 128 bits) (active; 0 open channel(s))>>>"
      ]
     },
     "execution_count": 20,
     "metadata": {},
     "output_type": "execute_result"
    }
   ],
   "source": [
    "errp"
   ]
  },
  {
   "cell_type": "code",
   "execution_count": 21,
   "metadata": {},
   "outputs": [
    {
     "data": {
      "text/plain": [
       "'mkdir: cannot create directory \\xe2\\x80\\x98remote\\xe2\\x80\\x99: File exists\\n'"
      ]
     },
     "execution_count": 21,
     "metadata": {},
     "output_type": "execute_result"
    }
   ],
   "source": [
    "errp.read()"
   ]
  },
  {
   "cell_type": "code",
   "execution_count": 22,
   "metadata": {
    "collapsed": true
   },
   "outputs": [],
   "source": [
    "inp, outp, errp = ssh.exec_command(\"mkdir ~/pythonexamples/batch41/local\")"
   ]
  },
  {
   "cell_type": "code",
   "execution_count": 23,
   "metadata": {},
   "outputs": [
    {
     "data": {
      "text/plain": [
       "''"
      ]
     },
     "execution_count": 23,
     "metadata": {},
     "output_type": "execute_result"
    }
   ],
   "source": [
    "errp.read()"
   ]
  },
  {
   "cell_type": "code",
   "execution_count": 24,
   "metadata": {
    "collapsed": true
   },
   "outputs": [],
   "source": [
    "inp, outp, errp = ssh.exec_command(\"mkdir ~/pythonexamples/batch41/remote\")"
   ]
  },
  {
   "cell_type": "code",
   "execution_count": 25,
   "metadata": {},
   "outputs": [
    {
     "data": {
      "text/plain": [
       "''"
      ]
     },
     "execution_count": 25,
     "metadata": {},
     "output_type": "execute_result"
    }
   ],
   "source": [
    "errp.read()"
   ]
  },
  {
   "cell_type": "code",
   "execution_count": 26,
   "metadata": {
    "collapsed": true
   },
   "outputs": [],
   "source": [
    "stdin,stdout,stderr = ssh.exec_command(\"echo %s| sudo -S ls /proc\"%password)"
   ]
  },
  {
   "cell_type": "code",
   "execution_count": 27,
   "metadata": {},
   "outputs": [
    {
     "data": {
      "text/plain": [
       "'1\\n10\\n11\\n113\\n114\\n115\\n12\\n1234\\n1236\\n1263\\n13\\n1381\\n1382\\n1383\\n1384\\n1385\\n14\\n1485\\n15\\n1538\\n154\\n1553\\n1559\\n1584\\n1586\\n15874\\n16\\n1611\\n1615\\n1636\\n1641\\n165\\n1652\\n16528\\n166\\n167\\n1684\\n1687\\n169\\n17\\n1729\\n1773\\n1776\\n1785\\n1786\\n1790\\n1795\\n18\\n1808\\n1819\\n1833\\n1839\\n1845\\n1852\\n1855\\n1858\\n1861\\n1865\\n1880\\n1885\\n1889\\n19\\n190\\n1904\\n191\\n1936\\n1988\\n1989\\n2\\n20\\n2006\\n2017\\n21\\n2106\\n2116\\n2118\\n2139\\n2157\\n2158\\n2177\\n2191\\n22\\n2205\\n2211\\n2213\\n2218\\n2223\\n2225\\n2227\\n2234\\n2237\\n2240\\n2267\\n2273\\n2284\\n229\\n2293\\n23\\n2300\\n2302\\n2303\\n232\\n2327\\n2333\\n2338\\n2347\\n2350\\n2355\\n2359\\n2364\\n2370\\n2381\\n23860\\n2394\\n2397\\n24\\n2403\\n2452\\n2497\\n25\\n2501\\n2509\\n2510\\n253\\n2533\\n2535\\n2539\\n2540\\n2541\\n2542\\n2543\\n2544\\n2545\\n2546\\n2547\\n2548\\n2549\\n26\\n2627\\n26489\\n27\\n27136\\n2715\\n27445\\n27780\\n27789\\n27822\\n27858\\n2798\\n28\\n28738\\n29837\\n29840\\n2986\\n29929\\n29930\\n3\\n3004\\n31577\\n32\\n32562\\n32737\\n33\\n337\\n34\\n3602\\n422\\n5\\n5056\\n5072\\n5073\\n5160\\n5311\\n556\\n599\\n600\\n601\\n634\\n637\\n638\\n640\\n648\\n651\\n656\\n670\\n686\\n7\\n720\\n73\\n734\\n74\\n75\\n76\\n77\\n78\\n79\\n8\\n80\\n81\\n82\\n83\\n836\\n84\\n848\\n85\\n850\\n86\\n892\\n9\\n910\\n914\\n92\\n926\\n9286\\n939\\nacpi\\nasound\\nbuddyinfo\\nbus\\ncgroups\\ncmdline\\nconsoles\\ncpuinfo\\ncrypto\\ndevices\\ndiskstats\\ndma\\ndriver\\nexecdomains\\nfb\\nfilesystems\\nfs\\ninterrupts\\niomem\\nioports\\nirq\\nkallsyms\\nkcore\\nkeys\\nkey-users\\nkmsg\\nkpagecgroup\\nkpagecount\\nkpageflags\\nloadavg\\nlocks\\nmdstat\\nmeminfo\\nmisc\\nmodules\\nmounts\\nmtrr\\nnet\\npagetypeinfo\\npartitions\\nsched_debug\\nschedstat\\nscsi\\nself\\nslabinfo\\nsoftirqs\\nstat\\nswaps\\nsys\\nsysrq-trigger\\nsysvipc\\nthread-self\\ntimer_list\\ntimer_stats\\ntty\\nuptime\\nversion\\nversion_signature\\nvmallocinfo\\nvmstat\\nzoneinfo\\n'"
      ]
     },
     "execution_count": 27,
     "metadata": {},
     "output_type": "execute_result"
    }
   ],
   "source": [
    "stdout.read()"
   ]
  },
  {
   "cell_type": "code",
   "execution_count": 28,
   "metadata": {
    "collapsed": true
   },
   "outputs": [],
   "source": [
    "sftp = ssh.open_sftp()"
   ]
  },
  {
   "cell_type": "code",
   "execution_count": 29,
   "metadata": {},
   "outputs": [
    {
     "data": {
      "text/plain": [
       "<SFTPAttributes: [ size=0 uid=1000 gid=1000 mode=0100664 atime=1518406416 mtime=1518406416 ]>"
      ]
     },
     "execution_count": 29,
     "metadata": {},
     "output_type": "execute_result"
    }
   ],
   "source": [
    "sftp.put(\"/home/khyaathi-python/pythonexamples/batch41/local/a.py\",\"/home/khyaathi-python/pythonexamples/batch41/remote/aremote.py\")"
   ]
  },
  {
   "cell_type": "code",
   "execution_count": 30,
   "metadata": {
    "collapsed": true
   },
   "outputs": [],
   "source": [
    "sftp.get(\"/home/khyaathi-python/pythonexamples/batch41/remote/aremote.py\",\"/home/khyaathi-python/pythonexamples/batch41/local/a.py\")"
   ]
  },
  {
   "cell_type": "code",
   "execution_count": 31,
   "metadata": {
    "collapsed": true
   },
   "outputs": [],
   "source": [
    "sftp.get(\"/home/khyaathi-python/pythonexamples/batch41/remote/aremote.py\",\"/home/khyaathi-python/pythonexamples/batch41/local/a.localpy\")"
   ]
  },
  {
   "cell_type": "code",
   "execution_count": 32,
   "metadata": {},
   "outputs": [
    {
     "name": "stdout",
     "output_type": "stream",
     "text": [
      "Enter source path:/home/khyaathi-python/pythonexamples/batch41/data.csv\n",
      "name,id,age\n",
      "sai,25,10\n",
      "rupa,21,11\n",
      "sai,23,12\n",
      "samba,28,13\n",
      "paramesh,20,14\n",
      "sai,27,15\n",
      "samba,29,16\n",
      "shreya,20,17\n",
      "shyam,21,18\n",
      "shyam,25,19\n",
      "shyam,21,20\n",
      "shanmukh,27,21\n",
      "shreya,20,22\n",
      "paramesh,28,23\n",
      "murali,23,24\n",
      "paramesh,26,25\n",
      "sai,20,26\n",
      "murali,22,27\n",
      "paramesh,23c,28\n",
      "murali,28,29\n",
      "added,34,30\n",
      "\n"
     ]
    }
   ],
   "source": [
    "import os\n",
    "source = raw_input(\"Enter source path:\")\n",
    "if os.path.isfile(source):\n",
    "    data=open(source).read()\n",
    "print data"
   ]
  },
  {
   "cell_type": "code",
   "execution_count": 34,
   "metadata": {},
   "outputs": [
    {
     "name": "stdout",
     "output_type": "stream",
     "text": [
      "Enter source path:/home/khyaathi-python/pythonexamples/batch41/data20.csv\n",
      "file not found\n",
      "\n"
     ]
    }
   ],
   "source": [
    "import os\n",
    "data=\"\"\n",
    "source = raw_input(\"Enter source path:\")\n",
    "if os.path.isfile(source):\n",
    "    data=open(source).read()\n",
    "else:\n",
    "    print \"file not found\"\n",
    "print data"
   ]
  },
  {
   "cell_type": "code",
   "execution_count": 35,
   "metadata": {},
   "outputs": [
    {
     "name": "stdout",
     "output_type": "stream",
     "text": [
      "Enter source path:/home/khyaathi-python/pythonexamples/batch41/data.csv\n",
      "Enter destination path:/home/khyaathi-python/pythonexamples/batch41/data20.csv\n",
      "name,id,age\n",
      "sai,25,10\n",
      "rupa,21,11\n",
      "sai,23,12\n",
      "samba,28,13\n",
      "paramesh,20,14\n",
      "sai,27,15\n",
      "samba,29,16\n",
      "shreya,20,17\n",
      "shyam,21,18\n",
      "shyam,25,19\n",
      "shyam,21,20\n",
      "shanmukh,27,21\n",
      "shreya,20,22\n",
      "paramesh,28,23\n",
      "murali,23,24\n",
      "paramesh,26,25\n",
      "sai,20,26\n",
      "murali,22,27\n",
      "paramesh,23c,28\n",
      "murali,28,29\n",
      "added,34,30\n",
      "\n"
     ]
    }
   ],
   "source": [
    "import os\n",
    "data=\"\"\n",
    "source = raw_input(\"Enter source path:\")\n",
    "if os.path.isfile(source):\n",
    "    data=open(source).read()\n",
    "    destination = raw_input(\"Enter destination path:\")\n",
    "    if os.path.isfile(destination):\n",
    "        print \"File already exist please give other filename\"\n",
    "    else:\n",
    "        f=open(destination,\"w\")\n",
    "        f.write(data)\n",
    "else:\n",
    "    print \"file not found\"\n",
    "print data"
   ]
  },
  {
   "cell_type": "code",
   "execution_count": 36,
   "metadata": {},
   "outputs": [
    {
     "name": "stdout",
     "output_type": "stream",
     "text": [
      "Enter source path:/home/khyaathi-python/pythonexamples/batch41/data.csv\n",
      "Enter destination path:/home/khyaathi-python/pythonexamples/batch41/data20.csv\n",
      "File already exist please give other filename\n",
      "name,id,age\n",
      "sai,25,10\n",
      "rupa,21,11\n",
      "sai,23,12\n",
      "samba,28,13\n",
      "paramesh,20,14\n",
      "sai,27,15\n",
      "samba,29,16\n",
      "shreya,20,17\n",
      "shyam,21,18\n",
      "shyam,25,19\n",
      "shyam,21,20\n",
      "shanmukh,27,21\n",
      "shreya,20,22\n",
      "paramesh,28,23\n",
      "murali,23,24\n",
      "paramesh,26,25\n",
      "sai,20,26\n",
      "murali,22,27\n",
      "paramesh,23c,28\n",
      "murali,28,29\n",
      "added,34,30\n",
      "\n"
     ]
    }
   ],
   "source": [
    "import os\n",
    "data=\"\"\n",
    "source = raw_input(\"Enter source path:\")\n",
    "if os.path.isfile(source):\n",
    "    data=open(source).read()\n",
    "    destination = raw_input(\"Enter destination path:\")\n",
    "    if os.path.isfile(destination):\n",
    "        print \"File already exist please give other filename\"\n",
    "    else:\n",
    "        f=open(destination,\"w\")\n",
    "        f.write(data)\n",
    "else:\n",
    "    print \"file not found\"\n",
    "print data"
   ]
  },
  {
   "cell_type": "code",
   "execution_count": null,
   "metadata": {
    "collapsed": true
   },
   "outputs": [],
   "source": []
  }
 ],
 "metadata": {
  "kernelspec": {
   "display_name": "Python 2",
   "language": "python",
   "name": "python2"
  },
  "language_info": {
   "codemirror_mode": {
    "name": "ipython",
    "version": 2
   },
   "file_extension": ".py",
   "mimetype": "text/x-python",
   "name": "python",
   "nbconvert_exporter": "python",
   "pygments_lexer": "ipython2",
   "version": "2.7.14"
  }
 },
 "nbformat": 4,
 "nbformat_minor": 2
}
