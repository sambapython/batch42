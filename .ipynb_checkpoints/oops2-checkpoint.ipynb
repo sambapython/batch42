{
 "cells": [
  {
   "cell_type": "code",
   "execution_count": 1,
   "metadata": {},
   "outputs": [
    {
     "name": "stdout",
     "output_type": "stream",
     "text": [
      "Default name\n"
     ]
    },
    {
     "ename": "TypeError",
     "evalue": "unbound method get() must be called with Emp instance as first argument (got int instance instead)",
     "output_type": "error",
     "traceback": [
      "\u001b[0;31m---------------------------------------------------------------------------\u001b[0m",
      "\u001b[0;31mTypeError\u001b[0m                                 Traceback (most recent call last)",
      "\u001b[0;32m<ipython-input-1-57c40d667be9>\u001b[0m in \u001b[0;36m<module>\u001b[0;34m()\u001b[0m\n\u001b[1;32m      5\u001b[0m         \u001b[0;32mprint\u001b[0m \u001b[0mb\u001b[0m\u001b[0;34m\u001b[0m\u001b[0m\n\u001b[1;32m      6\u001b[0m \u001b[0;32mprint\u001b[0m \u001b[0mEmp\u001b[0m\u001b[0;34m.\u001b[0m\u001b[0mname\u001b[0m\u001b[0;34m\u001b[0m\u001b[0m\n\u001b[0;32m----> 7\u001b[0;31m \u001b[0;32mprint\u001b[0m \u001b[0mEmp\u001b[0m\u001b[0;34m.\u001b[0m\u001b[0mget\u001b[0m\u001b[0;34m(\u001b[0m\u001b[0;36m10\u001b[0m\u001b[0;34m,\u001b[0m\u001b[0;36m20\u001b[0m\u001b[0;34m)\u001b[0m\u001b[0;34m\u001b[0m\u001b[0m\n\u001b[0m",
      "\u001b[0;31mTypeError\u001b[0m: unbound method get() must be called with Emp instance as first argument (got int instance instead)"
     ]
    }
   ],
   "source": [
    "class Emp:\n",
    "    name=\"Default name\"\n",
    "    def get(a,b):\n",
    "        print a\n",
    "        print b\n",
    "print Emp.name\n",
    "print Emp.get(10,20)"
   ]
  },
  {
   "cell_type": "code",
   "execution_count": 2,
   "metadata": {},
   "outputs": [
    {
     "name": "stdout",
     "output_type": "stream",
     "text": [
      "Default name\n",
      "<__main__.Emp instance at 0x7f3b58807050>\n",
      "20\n",
      "None\n"
     ]
    }
   ],
   "source": [
    "class Emp:\n",
    "    name=\"Default name\"\n",
    "    def get(a,b):\n",
    "        print a\n",
    "        print b\n",
    "print Emp.name\n",
    "anil = Emp()\n",
    "print Emp.get(anil,20)"
   ]
  },
  {
   "cell_type": "code",
   "execution_count": 3,
   "metadata": {},
   "outputs": [
    {
     "name": "stdout",
     "output_type": "stream",
     "text": [
      "Default name\n",
      "<__main__.Emp instance at 0x7f3b587f5248>\n",
      "20\n",
      "None\n",
      "Default name\n"
     ]
    }
   ],
   "source": [
    "class Emp:\n",
    "    name=\"Default name\"\n",
    "    def get(a,b):\n",
    "        print a\n",
    "        print b\n",
    "print Emp.name\n",
    "anil = Emp()\n",
    "print Emp.get(anil,20)\n",
    "print anil.name"
   ]
  },
  {
   "cell_type": "code",
   "execution_count": 4,
   "metadata": {},
   "outputs": [
    {
     "name": "stdout",
     "output_type": "stream",
     "text": [
      "Default name\n",
      "<__main__.Emp instance at 0x7f3b587f5518>\n",
      "20\n",
      "None\n",
      "Default name\n",
      "Default name\n"
     ]
    }
   ],
   "source": [
    "class Emp:\n",
    "    name=\"Default name\"\n",
    "    def get(a,b):\n",
    "        print a\n",
    "        print b\n",
    "print Emp.name\n",
    "anil = Emp()\n",
    "ashok=Emp()\n",
    "print Emp.get(anil,20)\n",
    "print anil.name\n",
    "print ashok.name"
   ]
  },
  {
   "cell_type": "code",
   "execution_count": 5,
   "metadata": {},
   "outputs": [
    {
     "name": "stdout",
     "output_type": "stream",
     "text": [
      "Default name\n",
      "<__main__.Emp instance at 0x7f3b587f57a0>\n",
      "20\n",
      "None\n",
      "Anil kumar\n",
      "Default name\n"
     ]
    }
   ],
   "source": [
    "class Emp:\n",
    "    name=\"Default name\"\n",
    "    def get(a,b):\n",
    "        print a\n",
    "        print b\n",
    "print Emp.name\n",
    "anil = Emp()\n",
    "anil.name=\"Anil kumar\"\n",
    "ashok=Emp()\n",
    "print Emp.get(anil,20)\n",
    "print anil.name\n",
    "print ashok.name"
   ]
  },
  {
   "cell_type": "code",
   "execution_count": 6,
   "metadata": {},
   "outputs": [
    {
     "name": "stdout",
     "output_type": "stream",
     "text": [
      "Default name\n",
      "<__main__.Emp instance at 0x7f3b587f59e0>\n",
      "20\n",
      "None\n",
      "Anil kumar\n",
      "Default name\n"
     ]
    },
    {
     "ename": "AttributeError",
     "evalue": "Emp instance has no attribute 'age'",
     "output_type": "error",
     "traceback": [
      "\u001b[0;31m---------------------------------------------------------------------------\u001b[0m",
      "\u001b[0;31mAttributeError\u001b[0m                            Traceback (most recent call last)",
      "\u001b[0;32m<ipython-input-6-b3b840d1f87e>\u001b[0m in \u001b[0;36m<module>\u001b[0;34m()\u001b[0m\n\u001b[1;32m     11\u001b[0m \u001b[0;32mprint\u001b[0m \u001b[0manil\u001b[0m\u001b[0;34m.\u001b[0m\u001b[0mname\u001b[0m\u001b[0;34m\u001b[0m\u001b[0m\n\u001b[1;32m     12\u001b[0m \u001b[0;32mprint\u001b[0m \u001b[0mashok\u001b[0m\u001b[0;34m.\u001b[0m\u001b[0mname\u001b[0m\u001b[0;34m\u001b[0m\u001b[0m\n\u001b[0;32m---> 13\u001b[0;31m \u001b[0;32mprint\u001b[0m \u001b[0manil\u001b[0m\u001b[0;34m.\u001b[0m\u001b[0mage\u001b[0m\u001b[0;34m\u001b[0m\u001b[0m\n\u001b[0m\u001b[1;32m     14\u001b[0m \u001b[0;32mprint\u001b[0m \u001b[0mashok\u001b[0m\u001b[0;34m.\u001b[0m\u001b[0mage\u001b[0m\u001b[0;34m\u001b[0m\u001b[0m\n",
      "\u001b[0;31mAttributeError\u001b[0m: Emp instance has no attribute 'age'"
     ]
    }
   ],
   "source": [
    "class Emp:\n",
    "    name=\"Default name\"\n",
    "    def get(a,b):\n",
    "        print a\n",
    "        print b\n",
    "print Emp.name\n",
    "anil = Emp()\n",
    "anil.name=\"Anil kumar\"\n",
    "ashok=Emp()\n",
    "print Emp.get(anil,20)\n",
    "print anil.name\n",
    "print ashok.name\n",
    "print anil.age\n",
    "print ashok.age"
   ]
  },
  {
   "cell_type": "code",
   "execution_count": 7,
   "metadata": {},
   "outputs": [
    {
     "name": "stdout",
     "output_type": "stream",
     "text": [
      "Default name\n",
      "<__main__.Emp instance at 0x7f3b587f5f80>\n",
      "20\n",
      "None\n",
      "Anil kumar\n",
      "Default name\n",
      "23\n",
      "23\n"
     ]
    }
   ],
   "source": [
    "class Emp:\n",
    "    name=\"Default name\"\n",
    "    age=23\n",
    "    def get(a,b):\n",
    "        print a\n",
    "        print b\n",
    "print Emp.name\n",
    "anil = Emp()\n",
    "anil.name=\"Anil kumar\"\n",
    "ashok=Emp()\n",
    "print Emp.get(anil,20)\n",
    "print anil.name\n",
    "print ashok.name\n",
    "print anil.age\n",
    "print ashok.age"
   ]
  },
  {
   "cell_type": "code",
   "execution_count": 9,
   "metadata": {},
   "outputs": [
    {
     "name": "stdout",
     "output_type": "stream",
     "text": [
      "Default name\n",
      "<__main__.Emp instance at 0x7f3b5877f5a8>\n",
      "20\n",
      "None\n",
      "Anil kumar\n",
      "Default name\n",
      "23\n",
      "34\n"
     ]
    }
   ],
   "source": [
    "class Emp:\n",
    "    name=\"Default name\"\n",
    "    age=23\n",
    "    def get(a,b):\n",
    "        print a\n",
    "        print b\n",
    "print Emp.name\n",
    "anil = Emp()\n",
    "anil.name=\"Anil kumar\"\n",
    "ashok=Emp()\n",
    "ashok.age=34\n",
    "print Emp.get(anil,20)\n",
    "print anil.name\n",
    "print ashok.name\n",
    "print anil.age\n",
    "print ashok.age"
   ]
  },
  {
   "cell_type": "code",
   "execution_count": 10,
   "metadata": {},
   "outputs": [
    {
     "name": "stdout",
     "output_type": "stream",
     "text": [
      "Default name\n",
      "<__main__.Emp instance at 0x7f3b5877f710>\n",
      "20\n",
      "None\n",
      "Anil kumar\n",
      "Default name\n",
      "23\n",
      "34\n",
      "5.6\n",
      "4.5\n",
      "Default name\n",
      "23\n"
     ]
    },
    {
     "ename": "AttributeError",
     "evalue": "class Emp has no attribute 'height'",
     "output_type": "error",
     "traceback": [
      "\u001b[0;31m---------------------------------------------------------------------------\u001b[0m",
      "\u001b[0;31mAttributeError\u001b[0m                            Traceback (most recent call last)",
      "\u001b[0;32m<ipython-input-10-9d1757398eb3>\u001b[0m in \u001b[0;36m<module>\u001b[0;34m()\u001b[0m\n\u001b[1;32m     21\u001b[0m \u001b[0;32mprint\u001b[0m \u001b[0mEmp\u001b[0m\u001b[0;34m.\u001b[0m\u001b[0mname\u001b[0m\u001b[0;34m\u001b[0m\u001b[0m\n\u001b[1;32m     22\u001b[0m \u001b[0;32mprint\u001b[0m \u001b[0mEmp\u001b[0m\u001b[0;34m.\u001b[0m\u001b[0mage\u001b[0m\u001b[0;34m\u001b[0m\u001b[0m\n\u001b[0;32m---> 23\u001b[0;31m \u001b[0;32mprint\u001b[0m \u001b[0mEmp\u001b[0m\u001b[0;34m.\u001b[0m\u001b[0mheight\u001b[0m\u001b[0;34m\u001b[0m\u001b[0m\n\u001b[0m",
      "\u001b[0;31mAttributeError\u001b[0m: class Emp has no attribute 'height'"
     ]
    }
   ],
   "source": [
    "class Emp:\n",
    "    name=\"Default name\"\n",
    "    age=23\n",
    "    def get(a,b):\n",
    "        print a\n",
    "        print b\n",
    "print Emp.name\n",
    "anil = Emp()\n",
    "anil.name=\"Anil kumar\"\n",
    "anil.height=5.6\n",
    "ashok=Emp()\n",
    "ashok.age=34\n",
    "ashok.height=4.5\n",
    "print Emp.get(anil,20)\n",
    "print anil.name\n",
    "print ashok.name\n",
    "print anil.age\n",
    "print ashok.age\n",
    "print anil.height\n",
    "print ashok.height\n",
    "print Emp.name\n",
    "print Emp.age\n",
    "print Emp.height\n"
   ]
  },
  {
   "cell_type": "code",
   "execution_count": 11,
   "metadata": {},
   "outputs": [
    {
     "name": "stdout",
     "output_type": "stream",
     "text": [
      "<__main__.Emp instance at 0x7f3b5877f200>\n",
      "20\n"
     ]
    }
   ],
   "source": [
    "class Emp:\n",
    "    company_name=\"khyaathi\"\n",
    "    def get(a,b):\n",
    "        pass\n",
    "    def sal_cal(a,b):\n",
    "        print a\n",
    "        print b\n",
    "        \n",
    "emp1=Emp()\n",
    "emp1.name=\"name1\"\n",
    "emp1.age=23\n",
    "emp1.sal=23456\n",
    "Emp.sal_cal(emp1,20)\n",
    "\n"
   ]
  },
  {
   "cell_type": "code",
   "execution_count": 12,
   "metadata": {},
   "outputs": [
    {
     "name": "stdout",
     "output_type": "stream",
     "text": [
      "<__main__.Emp instance at 0x7f3b5877fe60>\n",
      "20\n",
      "<__main__.Emp instance at 0x7f3b5877fe60>\n",
      "20\n"
     ]
    }
   ],
   "source": [
    "class Emp:\n",
    "    company_name=\"khyaathi\"\n",
    "    def get(a,b):\n",
    "        pass\n",
    "    def sal_cal(a,b):\n",
    "        print a\n",
    "        print b\n",
    "        \n",
    "emp1=Emp()\n",
    "emp1.name=\"name1\"\n",
    "emp1.age=23\n",
    "emp1.sal=23456\n",
    "Emp.sal_cal(emp1,20)\n",
    "emp1.sal_cal(20)"
   ]
  },
  {
   "cell_type": "code",
   "execution_count": 13,
   "metadata": {},
   "outputs": [
    {
     "name": "stdout",
     "output_type": "stream",
     "text": [
      "<__main__.Emp instance at 0x7f3b5877fc20>\n",
      "20\n"
     ]
    }
   ],
   "source": [
    "class Emp:\n",
    "    company_name=\"khyaathi\"\n",
    "    def get(a,b):\n",
    "        pass\n",
    "    def sal_cal(a,b):\n",
    "        print a\n",
    "        print b\n",
    "        \n",
    "emp1=Emp()\n",
    "emp1.name=\"name1\"\n",
    "emp1.age=23\n",
    "emp1.sal=23456\n",
    "#Emp.sal_cal(emp1,20)\n",
    "emp1.sal_cal(20)"
   ]
  },
  {
   "cell_type": "code",
   "execution_count": 14,
   "metadata": {},
   "outputs": [
    {
     "name": "stdout",
     "output_type": "stream",
     "text": [
      "<__main__.Emp instance at 0x7f3b58788368>\n",
      "20\n",
      "<__main__.Emp instance at 0x7f3b58788368>\n"
     ]
    }
   ],
   "source": [
    "class Emp:\n",
    "    company_name=\"khyaathi\"\n",
    "    def get(a):\n",
    "        print a\n",
    "    def sal_cal(a,b):\n",
    "        print a\n",
    "        print b\n",
    "        \n",
    "emp1=Emp()\n",
    "emp1.name=\"name1\"\n",
    "emp1.age=23\n",
    "emp1.sal=23456\n",
    "#Emp.sal_cal(emp1,20)\n",
    "emp1.sal_cal(20)\n",
    "emp1.get()"
   ]
  },
  {
   "cell_type": "code",
   "execution_count": null,
   "metadata": {
    "collapsed": true
   },
   "outputs": [],
   "source": [
    "class Emp:\n",
    "    company_name=\"khyaathi\"\n",
    "    def get(a):\n",
    "        print a\n",
    "        print a.name\n",
    "\n",
    "        \n",
    "emp1=Emp()\n",
    "emp1.name=\"name1\"\n",
    "emp1.age=23\n",
    "emp1.sal=23456\n",
    "emp1.get()"
   ]
  },
  {
   "cell_type": "code",
   "execution_count": null,
   "metadata": {
    "collapsed": true
   },
   "outputs": [],
   "source": [
    "class Emp:\n",
    "    company_name=\"khyaathi\"\n",
    "    def get(a):\n",
    "        print a\n",
    "        print a.name\n",
    "\n",
    "        \n",
    "emp1=Emp()\n",
    "emp1.name=\"name1\"\n",
    "emp1.age=23\n",
    "emp1.sal=23456\n",
    "emp1.get()"
   ]
  },
  {
   "cell_type": "code",
   "execution_count": 16,
   "metadata": {},
   "outputs": [
    {
     "name": "stdout",
     "output_type": "stream",
     "text": [
      "<__main__.Emp instance at 0x7f3b58788248>\n",
      "name1\n",
      "23\n",
      "23456\n"
     ]
    }
   ],
   "source": [
    "class Emp:\n",
    "    company_name=\"khyaathi\"\n",
    "    def get(a):\n",
    "        print a\n",
    "        print a.name\n",
    "        print a.age\n",
    "        print a.sal\n",
    "        \n",
    "emp1=Emp()\n",
    "emp1.name=\"name1\"\n",
    "emp1.age=23\n",
    "emp1.sal=23456\n",
    "Emp.get(emp1)"
   ]
  },
  {
   "cell_type": "code",
   "execution_count": 17,
   "metadata": {},
   "outputs": [
    {
     "name": "stdout",
     "output_type": "stream",
     "text": [
      "('name1', 23456, 23)\n"
     ]
    }
   ],
   "source": [
    "class Emp:\n",
    "    company_name=\"khyaathi\"\n",
    "    def get(a):\n",
    "        return a.name, a.sal, a.age\n",
    "        \n",
    "emp1=Emp()\n",
    "emp1.name=\"name1\"\n",
    "emp1.age=23\n",
    "emp1.sal=23456\n",
    "print Emp.get(emp1)"
   ]
  },
  {
   "cell_type": "code",
   "execution_count": 19,
   "metadata": {},
   "outputs": [
    {
     "name": "stdout",
     "output_type": "stream",
     "text": [
      "khyaathi\n"
     ]
    },
    {
     "ename": "NameError",
     "evalue": "global name 'company_name' is not defined",
     "output_type": "error",
     "traceback": [
      "\u001b[0;31m---------------------------------------------------------------------------\u001b[0m",
      "\u001b[0;31mNameError\u001b[0m                                 Traceback (most recent call last)",
      "\u001b[0;32m<ipython-input-19-0535ec27e893>\u001b[0m in \u001b[0;36m<module>\u001b[0;34m()\u001b[0m\n\u001b[1;32m      9\u001b[0m \u001b[0memp1\u001b[0m\u001b[0;34m.\u001b[0m\u001b[0mage\u001b[0m\u001b[0;34m=\u001b[0m\u001b[0;36m23\u001b[0m\u001b[0;34m\u001b[0m\u001b[0m\n\u001b[1;32m     10\u001b[0m \u001b[0memp1\u001b[0m\u001b[0;34m.\u001b[0m\u001b[0msal\u001b[0m\u001b[0;34m=\u001b[0m\u001b[0;36m23456\u001b[0m\u001b[0;34m\u001b[0m\u001b[0m\n\u001b[0;32m---> 11\u001b[0;31m \u001b[0;32mprint\u001b[0m \u001b[0mEmp\u001b[0m\u001b[0;34m.\u001b[0m\u001b[0mget\u001b[0m\u001b[0;34m(\u001b[0m\u001b[0memp1\u001b[0m\u001b[0;34m)\u001b[0m\u001b[0;34m\u001b[0m\u001b[0m\n\u001b[0m",
      "\u001b[0;32m<ipython-input-19-0535ec27e893>\u001b[0m in \u001b[0;36mget\u001b[0;34m(a)\u001b[0m\n\u001b[1;32m      3\u001b[0m     \u001b[0;32mprint\u001b[0m \u001b[0mcompany_name\u001b[0m\u001b[0;34m\u001b[0m\u001b[0m\n\u001b[1;32m      4\u001b[0m     \u001b[0;32mdef\u001b[0m \u001b[0mget\u001b[0m\u001b[0;34m(\u001b[0m\u001b[0ma\u001b[0m\u001b[0;34m)\u001b[0m\u001b[0;34m:\u001b[0m\u001b[0;34m\u001b[0m\u001b[0m\n\u001b[0;32m----> 5\u001b[0;31m         \u001b[0;32mreturn\u001b[0m \u001b[0ma\u001b[0m\u001b[0;34m.\u001b[0m\u001b[0mname\u001b[0m\u001b[0;34m,\u001b[0m \u001b[0ma\u001b[0m\u001b[0;34m.\u001b[0m\u001b[0msal\u001b[0m\u001b[0;34m,\u001b[0m \u001b[0ma\u001b[0m\u001b[0;34m.\u001b[0m\u001b[0mage\u001b[0m\u001b[0;34m,\u001b[0m\u001b[0mcompany_name\u001b[0m\u001b[0;34m\u001b[0m\u001b[0m\n\u001b[0m\u001b[1;32m      6\u001b[0m \u001b[0;34m\u001b[0m\u001b[0m\n\u001b[1;32m      7\u001b[0m \u001b[0memp1\u001b[0m\u001b[0;34m=\u001b[0m\u001b[0mEmp\u001b[0m\u001b[0;34m(\u001b[0m\u001b[0;34m)\u001b[0m\u001b[0;34m\u001b[0m\u001b[0m\n",
      "\u001b[0;31mNameError\u001b[0m: global name 'company_name' is not defined"
     ]
    }
   ],
   "source": [
    "class Emp:\n",
    "    company_name=\"khyaathi\"\n",
    "    print company_name\n",
    "    def get(a):\n",
    "        return a.name, a.sal, a.age,company_name\n",
    "        \n",
    "emp1=Emp()\n",
    "emp1.name=\"name1\"\n",
    "emp1.age=23\n",
    "emp1.sal=23456\n",
    "print Emp.get(emp1)"
   ]
  },
  {
   "cell_type": "code",
   "execution_count": null,
   "metadata": {
    "collapsed": true
   },
   "outputs": [],
   "source": [
    "class Emp:\n",
    "    company_name=\"khyaathi\"\n",
    "    print company_name\n",
    "    def get(a):\n",
    "        return a.name, a.sal, a.age,a.company_name\n",
    "        \n",
    "emp1=Emp()\n",
    "emp1.name=\"name1\"\n",
    "emp1.age=23\n",
    "emp1.sal=23456\n",
    "print Emp.get(emp1)"
   ]
  }
 ],
 "metadata": {
  "kernelspec": {
   "display_name": "Python 2",
   "language": "python",
   "name": "python2"
  },
  "language_info": {
   "codemirror_mode": {
    "name": "ipython",
    "version": 2
   },
   "file_extension": ".py",
   "mimetype": "text/x-python",
   "name": "python",
   "nbconvert_exporter": "python",
   "pygments_lexer": "ipython2",
   "version": "2.7.14"
  }
 },
 "nbformat": 4,
 "nbformat_minor": 2
}
