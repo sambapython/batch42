{
 "cells": [
  {
   "cell_type": "code",
   "execution_count": 1,
   "metadata": {},
   "outputs": [
    {
     "name": "stdout",
     "output_type": "stream",
     "text": [
      "python program\n",
      "                                                     python program                                                     \n"
     ]
    }
   ],
   "source": [
    "s=\"python program\"\n",
    "print s\n",
    "print s.center(120)"
   ]
  },
  {
   "cell_type": "code",
   "execution_count": 2,
   "metadata": {},
   "outputs": [
    {
     "name": "stdout",
     "output_type": "stream",
     "text": [
      "python program\n",
      "#####################################################python program#####################################################\n"
     ]
    }
   ],
   "source": [
    "s=\"python program\"\n",
    "print s\n",
    "print s.center(120,\"#\")"
   ]
  },
  {
   "cell_type": "code",
   "execution_count": 3,
   "metadata": {},
   "outputs": [
    {
     "name": "stdout",
     "output_type": "stream",
     "text": [
      "python program\n",
      "*****************************************************python program*****************************************************\n"
     ]
    }
   ],
   "source": [
    "s=\"python program\"\n",
    "print s\n",
    "print s.center(120,\"*\")"
   ]
  },
  {
   "cell_type": "code",
   "execution_count": 4,
   "metadata": {},
   "outputs": [
    {
     "name": "stdout",
     "output_type": "stream",
     "text": [
      "python program\n",
      "*****************************************************python program*****************************************************\n",
      "python program**********************************************************************************************************\n",
      "**********************************************************************************************************python program\n"
     ]
    }
   ],
   "source": [
    "s=\"python program\"\n",
    "print s\n",
    "print s.center(120,\"*\")\n",
    "print s.ljust(120,\"*\")\n",
    "print s.rjust(120,\"*\")"
   ]
  },
  {
   "cell_type": "code",
   "execution_count": 5,
   "metadata": {},
   "outputs": [
    {
     "name": "stdout",
     "output_type": "stream",
     "text": [
      "python program\n",
      "                                                     python program                                                     \n",
      "python program                                                                                                          \n",
      "                                                                                                          python program\n"
     ]
    }
   ],
   "source": [
    "s=\"python program\"\n",
    "print s\n",
    "print s.center(120)\n",
    "print s.ljust(120)\n",
    "print s.rjust(120)"
   ]
  },
  {
   "cell_type": "code",
   "execution_count": 6,
   "metadata": {},
   "outputs": [
    {
     "name": "stdout",
     "output_type": "stream",
     "text": [
      "python program\n",
      "python program\n",
      "python program\n",
      "python program\n"
     ]
    }
   ],
   "source": [
    "s=\"python program\"\n",
    "print s\n",
    "print s.center(10)\n",
    "print s.ljust(10)\n",
    "print s.rjust(10)"
   ]
  },
  {
   "cell_type": "code",
   "execution_count": 8,
   "metadata": {},
   "outputs": [
    {
     "name": "stdout",
     "output_type": "stream",
     "text": [
      "1\n"
     ]
    }
   ],
   "source": [
    "s=\"python program\"\n",
    "print s.count(\"python\")"
   ]
  },
  {
   "cell_type": "code",
   "execution_count": 9,
   "metadata": {},
   "outputs": [
    {
     "name": "stdout",
     "output_type": "stream",
     "text": [
      "2\n"
     ]
    }
   ],
   "source": [
    "s=\"python program\"\n",
    "print s.count(\"p\")"
   ]
  },
  {
   "cell_type": "code",
   "execution_count": 10,
   "metadata": {},
   "outputs": [
    {
     "name": "stdout",
     "output_type": "stream",
     "text": [
      "2\n"
     ]
    }
   ],
   "source": [
    "s=\"python program\"\n",
    "print s.count(\"o\")"
   ]
  },
  {
   "cell_type": "code",
   "execution_count": 11,
   "metadata": {},
   "outputs": [
    {
     "data": {
      "text/plain": [
       "0"
      ]
     },
     "execution_count": 11,
     "metadata": {},
     "output_type": "execute_result"
    }
   ],
   "source": [
    "s.count(\"z\")"
   ]
  },
  {
   "cell_type": "code",
   "execution_count": 12,
   "metadata": {},
   "outputs": [
    {
     "data": {
      "text/plain": [
       "15"
      ]
     },
     "execution_count": 12,
     "metadata": {},
     "output_type": "execute_result"
    }
   ],
   "source": [
    "s.count(\"\")"
   ]
  },
  {
   "cell_type": "code",
   "execution_count": 14,
   "metadata": {},
   "outputs": [
    {
     "data": {
      "text/plain": [
       "14"
      ]
     },
     "execution_count": 14,
     "metadata": {},
     "output_type": "execute_result"
    }
   ],
   "source": [
    "len(s)"
   ]
  },
  {
   "cell_type": "code",
   "execution_count": 15,
   "metadata": {},
   "outputs": [
    {
     "data": {
      "text/plain": [
       "'python program'"
      ]
     },
     "execution_count": 15,
     "metadata": {},
     "output_type": "execute_result"
    }
   ],
   "source": [
    "s"
   ]
  },
  {
   "cell_type": "code",
   "execution_count": 16,
   "metadata": {},
   "outputs": [
    {
     "name": "stdout",
     "output_type": "stream",
     "text": [
      "PYTHON program\n"
     ]
    }
   ],
   "source": [
    "s1 = s.replace(\"python\",\"PYTHON\")\n",
    "print s1"
   ]
  },
  {
   "cell_type": "code",
   "execution_count": 17,
   "metadata": {},
   "outputs": [
    {
     "name": "stdout",
     "output_type": "stream",
     "text": [
      "zython zrogram\n"
     ]
    }
   ],
   "source": [
    "s=\"python program\"\n",
    "s1 = s.replace(\"p\",\"z\")\n",
    "print s1"
   ]
  },
  {
   "cell_type": "code",
   "execution_count": 18,
   "metadata": {},
   "outputs": [
    {
     "name": "stdout",
     "output_type": "stream",
     "text": [
      "zython program\n"
     ]
    }
   ],
   "source": [
    "s=\"python program\"\n",
    "s1 = s.replace(\"p\",\"z\",1)\n",
    "print s1"
   ]
  },
  {
   "cell_type": "code",
   "execution_count": 19,
   "metadata": {},
   "outputs": [
    {
     "name": "stdout",
     "output_type": "stream",
     "text": [
      "zython prograpmpwrp\n"
     ]
    }
   ],
   "source": [
    "s=\"python prograpmpwrp\"\n",
    "s1 = s.replace(\"p\",\"z\",1)\n",
    "print s1"
   ]
  },
  {
   "cell_type": "code",
   "execution_count": 20,
   "metadata": {},
   "outputs": [
    {
     "name": "stdout",
     "output_type": "stream",
     "text": [
      "zython zrograpmpwrp\n"
     ]
    }
   ],
   "source": [
    "s=\"python prograpmpwrp\"\n",
    "s1 = s.replace(\"p\",\"z\",2)\n",
    "print s1"
   ]
  },
  {
   "cell_type": "code",
   "execution_count": 21,
   "metadata": {},
   "outputs": [
    {
     "name": "stdout",
     "output_type": "stream",
     "text": [
      "zython zrograzmzwrz\n"
     ]
    }
   ],
   "source": [
    "s=\"python prograpmpwrp\"\n",
    "s1 = s.replace(\"p\",\"z\",-2)\n",
    "print s1"
   ]
  },
  {
   "cell_type": "code",
   "execution_count": 22,
   "metadata": {},
   "outputs": [
    {
     "name": "stdout",
     "output_type": "stream",
     "text": [
      "python prograpmpwrp\n"
     ]
    }
   ],
   "source": [
    "s=\"python prograpmpwrp\"\n",
    "s1 = s.replace(\"java\",\"cpp\")\n",
    "print s1"
   ]
  },
  {
   "cell_type": "code",
   "execution_count": 23,
   "metadata": {},
   "outputs": [
    {
     "name": "stdout",
     "output_type": "stream",
     "text": [
      "CPPpCPPyCPPtCPPhCPPoCPPnCPP CPPpCPPrCPPoCPPgCPPrCPPaCPPpCPPmCPPpCPPwCPPrCPPpCPP\n"
     ]
    }
   ],
   "source": [
    "s=\"python prograpmpwrp\"\n",
    "s1 = s.replace(\"\",\"CPP\")\n",
    "print s1"
   ]
  },
  {
   "cell_type": "code",
   "execution_count": 24,
   "metadata": {},
   "outputs": [
    {
     "name": "stdout",
     "output_type": "stream",
     "text": [
      "Enter sub string to count:python\n",
      "1\n"
     ]
    }
   ],
   "source": [
    "s=\"python program\"\n",
    "sub=raw_input(\"Enter sub string to count:\")\n",
    "print s.count(sub)"
   ]
  },
  {
   "cell_type": "code",
   "execution_count": 25,
   "metadata": {},
   "outputs": [
    {
     "name": "stdout",
     "output_type": "stream",
     "text": [
      "Enter sub string to count:java\n",
      "0\n"
     ]
    }
   ],
   "source": [
    "s=\"python program\"\n",
    "sub=raw_input(\"Enter sub string to count:\")\n",
    "print s.count(sub)"
   ]
  },
  {
   "cell_type": "code",
   "execution_count": 26,
   "metadata": {},
   "outputs": [
    {
     "name": "stdout",
     "output_type": "stream",
     "text": [
      "Enter sub string to count:\n",
      "15\n"
     ]
    }
   ],
   "source": [
    "s=\"python program\"\n",
    "sub=raw_input(\"Enter sub string to count:\")\n",
    "print s.count(sub)"
   ]
  },
  {
   "cell_type": "code",
   "execution_count": 28,
   "metadata": {},
   "outputs": [
    {
     "name": "stdout",
     "output_type": "stream",
     "text": [
      "Enter sub string to count:p\n",
      "2\n"
     ]
    }
   ],
   "source": [
    "s=\"python program\"\n",
    "sub=raw_input(\"Enter sub string to count:\")\n",
    "if len(sub)>0:\n",
    "    print s.count(sub)\n",
    "else:\n",
    "    print \"Enter valid string\""
   ]
  },
  {
   "cell_type": "code",
   "execution_count": 29,
   "metadata": {},
   "outputs": [
    {
     "name": "stdout",
     "output_type": "stream",
     "text": [
      "Enter sub string to count:java\n",
      "0\n"
     ]
    }
   ],
   "source": [
    "s=\"python program\"\n",
    "sub=raw_input(\"Enter sub string to count:\")\n",
    "if len(sub)>0:\n",
    "    print s.count(sub)\n",
    "else:\n",
    "    print \"Enter valid string\""
   ]
  },
  {
   "cell_type": "code",
   "execution_count": 30,
   "metadata": {},
   "outputs": [
    {
     "name": "stdout",
     "output_type": "stream",
     "text": [
      "Enter sub string to count:\n",
      "Enter valid string\n"
     ]
    }
   ],
   "source": [
    "s=\"python program\"\n",
    "sub=raw_input(\"Enter sub string to count:\")\n",
    "if len(sub)>0:\n",
    "    print s.count(sub)\n",
    "else:\n",
    "    print \"Enter valid string\""
   ]
  },
  {
   "cell_type": "code",
   "execution_count": 31,
   "metadata": {},
   "outputs": [
    {
     "name": "stdout",
     "output_type": "stream",
     "text": [
      "Enter sub string to count:\n",
      "Enter valid string\n"
     ]
    }
   ],
   "source": [
    "s=\"python program\"\n",
    "sub=raw_input(\"Enter sub string to count:\")\n",
    "if bool(sub):\n",
    "    print s.count(sub)\n",
    "else:\n",
    "    print \"Enter valid string\""
   ]
  },
  {
   "cell_type": "code",
   "execution_count": 32,
   "metadata": {},
   "outputs": [
    {
     "name": "stdout",
     "output_type": "stream",
     "text": [
      "Enter sub string to count:p\n",
      "2\n"
     ]
    }
   ],
   "source": [
    "s=\"python program\"\n",
    "sub=raw_input(\"Enter sub string to count:\")\n",
    "if bool(sub):\n",
    "    print s.count(sub)\n",
    "else:\n",
    "    print \"Enter valid string\""
   ]
  },
  {
   "cell_type": "code",
   "execution_count": 33,
   "metadata": {},
   "outputs": [
    {
     "name": "stdout",
     "output_type": "stream",
     "text": [
      "Enter sub string to count:\n",
      "Enter valid string\n"
     ]
    }
   ],
   "source": [
    "s=\"python program\"\n",
    "sub=raw_input(\"Enter sub string to count:\")\n",
    "if sub:\n",
    "    print s.count(sub)\n",
    "else:\n",
    "    print \"Enter valid string\""
   ]
  },
  {
   "cell_type": "code",
   "execution_count": 34,
   "metadata": {},
   "outputs": [
    {
     "name": "stdout",
     "output_type": "stream",
     "text": [
      "Enter sub string to count:java\n",
      "0\n"
     ]
    }
   ],
   "source": [
    "s=\"python program\"\n",
    "sub=raw_input(\"Enter sub string to count:\")\n",
    "if sub:\n",
    "    print s.count(sub)\n",
    "else:\n",
    "    print \"Enter valid string\""
   ]
  },
  {
   "cell_type": "code",
   "execution_count": 35,
   "metadata": {},
   "outputs": [
    {
     "name": "stdout",
     "output_type": "stream",
     "text": [
      "Enter sub string to count:p\n",
      "2\n"
     ]
    }
   ],
   "source": [
    "s=\"python program\"\n",
    "sub=raw_input(\"Enter sub string to count:\")\n",
    "if sub:\n",
    "    print s.count(sub)\n",
    "else:\n",
    "    print \"Enter valid string\""
   ]
  },
  {
   "cell_type": "code",
   "execution_count": 36,
   "metadata": {},
   "outputs": [
    {
     "data": {
      "text/plain": [
       "'python program'"
      ]
     },
     "execution_count": 36,
     "metadata": {},
     "output_type": "execute_result"
    }
   ],
   "source": [
    "s"
   ]
  },
  {
   "cell_type": "code",
   "execution_count": 37,
   "metadata": {},
   "outputs": [
    {
     "name": "stdout",
     "output_type": "stream",
     "text": [
      "python program\n"
     ]
    }
   ],
   "source": [
    "pwd=\"python program\"\n",
    "pwd_e=pwd.encode()\n",
    "print pwd_e"
   ]
  },
  {
   "cell_type": "code",
   "execution_count": 38,
   "metadata": {},
   "outputs": [
    {
     "name": "stdout",
     "output_type": "stream",
     "text": [
      "cHl0aG9uIHByb2dyYW0=\n",
      "\n"
     ]
    }
   ],
   "source": [
    "pwd=\"python program\"\n",
    "pwd_e=pwd.encode(\"base64\")\n",
    "print pwd_e"
   ]
  },
  {
   "cell_type": "code",
   "execution_count": 39,
   "metadata": {},
   "outputs": [
    {
     "name": "stdout",
     "output_type": "stream",
     "text": [
      "python program\n",
      "cHl0aG9uIHByb2dyYW0=\n",
      "\n",
      "False\n"
     ]
    }
   ],
   "source": [
    "pwd_entered=\"python program\"\n",
    "pwd_e=pwd.encode(\"base64\")\n",
    "print pwd_entered\n",
    "print pwd_e\n",
    "print pwd_e==pwd_entered"
   ]
  },
  {
   "cell_type": "code",
   "execution_count": 41,
   "metadata": {},
   "outputs": [
    {
     "name": "stdout",
     "output_type": "stream",
     "text": [
      "python program\n",
      "cHl0aG9uIHByb2dyYW0=\n",
      "\n",
      "python program\n",
      "True\n"
     ]
    }
   ],
   "source": [
    "pwd_entered=\"python program\"\n",
    "pwd_e=pwd.encode(\"base64\")\n",
    "print pwd_entered\n",
    "print pwd_e\n",
    "pwd_decode = pwd_e.decode(\"base64\")\n",
    "print pwd_decode\n",
    "print pwd_decode==pwd_entered"
   ]
  },
  {
   "cell_type": "code",
   "execution_count": 42,
   "metadata": {},
   "outputs": [
    {
     "name": "stdout",
     "output_type": "stream",
     "text": [
      "python program\n",
      "cHl0aG9uIHByb2dyYW0=\n",
      "\n",
      "python program\n",
      "True\n"
     ]
    }
   ],
   "source": [
    "pwd_entered=\"python program\"\n",
    "pwd_e=pwd.encode(\"base64\")\n",
    "print pwd_entered\n",
    "print pwd_e\n",
    "pwd_decode = pwd_e.decode(\"base64\")\n",
    "print pwd_decode\n",
    "print pwd_e==pwd_entered.encode(\"base64\")"
   ]
  },
  {
   "cell_type": "code",
   "execution_count": 43,
   "metadata": {},
   "outputs": [
    {
     "data": {
      "text/plain": [
       "''"
      ]
     },
     "execution_count": 43,
     "metadata": {},
     "output_type": "execute_result"
    }
   ],
   "source": [
    "\"\".encode(\"base64\")"
   ]
  },
  {
   "cell_type": "code",
   "execution_count": 44,
   "metadata": {},
   "outputs": [
    {
     "data": {
      "text/plain": [
       "'python program'"
      ]
     },
     "execution_count": 44,
     "metadata": {},
     "output_type": "execute_result"
    }
   ],
   "source": [
    "s"
   ]
  },
  {
   "cell_type": "code",
   "execution_count": 45,
   "metadata": {},
   "outputs": [
    {
     "data": {
      "text/plain": [
       "True"
      ]
     },
     "execution_count": 45,
     "metadata": {},
     "output_type": "execute_result"
    }
   ],
   "source": [
    "s.endswith(\"gram\")"
   ]
  },
  {
   "cell_type": "code",
   "execution_count": 46,
   "metadata": {},
   "outputs": [
    {
     "data": {
      "text/plain": [
       "False"
      ]
     },
     "execution_count": 46,
     "metadata": {},
     "output_type": "execute_result"
    }
   ],
   "source": [
    "s.endswith(\"gra\")"
   ]
  },
  {
   "cell_type": "code",
   "execution_count": 47,
   "metadata": {},
   "outputs": [
    {
     "data": {
      "text/plain": [
       "False"
      ]
     },
     "execution_count": 47,
     "metadata": {},
     "output_type": "execute_result"
    }
   ],
   "source": [
    "s.endswith(\"python\")"
   ]
  },
  {
   "cell_type": "code",
   "execution_count": 48,
   "metadata": {},
   "outputs": [
    {
     "data": {
      "text/plain": [
       "True"
      ]
     },
     "execution_count": 48,
     "metadata": {},
     "output_type": "execute_result"
    }
   ],
   "source": [
    "s.endswith(\"\")"
   ]
  },
  {
   "cell_type": "code",
   "execution_count": 49,
   "metadata": {},
   "outputs": [
    {
     "data": {
      "text/plain": [
       "True"
      ]
     },
     "execution_count": 49,
     "metadata": {},
     "output_type": "execute_result"
    }
   ],
   "source": [
    "s.startswith(\"python\")"
   ]
  },
  {
   "cell_type": "code",
   "execution_count": 50,
   "metadata": {},
   "outputs": [
    {
     "data": {
      "text/plain": [
       "True"
      ]
     },
     "execution_count": 50,
     "metadata": {},
     "output_type": "execute_result"
    }
   ],
   "source": [
    "s.startswith(\"pyt\")"
   ]
  },
  {
   "cell_type": "code",
   "execution_count": 51,
   "metadata": {},
   "outputs": [
    {
     "data": {
      "text/plain": [
       "False"
      ]
     },
     "execution_count": 51,
     "metadata": {},
     "output_type": "execute_result"
    }
   ],
   "source": [
    "s.startswith(\"ython\")"
   ]
  },
  {
   "cell_type": "code",
   "execution_count": 52,
   "metadata": {},
   "outputs": [
    {
     "data": {
      "text/plain": [
       "True"
      ]
     },
     "execution_count": 52,
     "metadata": {},
     "output_type": "execute_result"
    }
   ],
   "source": [
    "s.startswith(\"\")"
   ]
  },
  {
   "cell_type": "code",
   "execution_count": 53,
   "metadata": {},
   "outputs": [
    {
     "name": "stdout",
     "output_type": "stream",
     "text": [
      "0\n"
     ]
    }
   ],
   "source": [
    "s=\"python program\"\n",
    "print s.find(\"python\")"
   ]
  },
  {
   "cell_type": "code",
   "execution_count": 54,
   "metadata": {},
   "outputs": [
    {
     "name": "stdout",
     "output_type": "stream",
     "text": [
      "0\n",
      "0\n"
     ]
    }
   ],
   "source": [
    "s=\"python program\"\n",
    "print s.find(\"python\")\n",
    "print s.index(\"python\")"
   ]
  },
  {
   "cell_type": "code",
   "execution_count": 55,
   "metadata": {},
   "outputs": [
    {
     "name": "stdout",
     "output_type": "stream",
     "text": [
      "7\n",
      "7\n"
     ]
    }
   ],
   "source": [
    "s=\"python program\"\n",
    "print s.find(\"program\")\n",
    "print s.index(\"program\")"
   ]
  },
  {
   "cell_type": "code",
   "execution_count": 56,
   "metadata": {},
   "outputs": [
    {
     "name": "stdout",
     "output_type": "stream",
     "text": [
      "10\n",
      "10\n"
     ]
    }
   ],
   "source": [
    "s=\"python program\"\n",
    "print s.find(\"gram\")\n",
    "print s.index(\"gram\")"
   ]
  },
  {
   "cell_type": "code",
   "execution_count": 57,
   "metadata": {},
   "outputs": [
    {
     "name": "stdout",
     "output_type": "stream",
     "text": [
      "4\n",
      "4\n"
     ]
    }
   ],
   "source": [
    "s=\"python program\"\n",
    "print s.find(\"o\")\n",
    "print s.index(\"o\")"
   ]
  },
  {
   "cell_type": "code",
   "execution_count": 58,
   "metadata": {},
   "outputs": [
    {
     "name": "stdout",
     "output_type": "stream",
     "text": [
      "4\n",
      "4\n"
     ]
    }
   ],
   "source": [
    "s=\"python program\"\n",
    "print s.find(\"o\",2)\n",
    "print s.index(\"o\",2)"
   ]
  },
  {
   "cell_type": "code",
   "execution_count": 59,
   "metadata": {
    "collapsed": true
   },
   "outputs": [],
   "source": [
    "s.find?"
   ]
  },
  {
   "cell_type": "code",
   "execution_count": 60,
   "metadata": {},
   "outputs": [
    {
     "name": "stdout",
     "output_type": "stream",
     "text": [
      "7\n",
      "7\n"
     ]
    }
   ],
   "source": [
    "s=\"python program\"\n",
    "print s.find(\"p\",2)\n",
    "print s.index(\"p\",2)"
   ]
  },
  {
   "cell_type": "code",
   "execution_count": 61,
   "metadata": {},
   "outputs": [
    {
     "name": "stdout",
     "output_type": "stream",
     "text": [
      "7\n",
      "7\n"
     ]
    }
   ],
   "source": [
    "s=\"python program\"\n",
    "print s[2:10]\n",
    "print s.find(\"p\",2,10)\n",
    "print s.index(\"p\",2,10)"
   ]
  },
  {
   "cell_type": "code",
   "execution_count": 62,
   "metadata": {},
   "outputs": [
    {
     "name": "stdout",
     "output_type": "stream",
     "text": [
      "0\n",
      "0\n",
      "30\n",
      "30\n"
     ]
    }
   ],
   "source": [
    "s=\"abcd abcd abcd abcd abcd abcd abcd\"\n",
    "print s.find(\"abcd\")\n",
    "print s.index(\"abcd\")\n",
    "print s.rfind(\"abcd\")\n",
    "print s.rindex(\"abcd\")"
   ]
  },
  {
   "cell_type": "code",
   "execution_count": 63,
   "metadata": {},
   "outputs": [
    {
     "name": "stdout",
     "output_type": "stream",
     "text": [
      "-1\n"
     ]
    }
   ],
   "source": [
    "s=\"abcd abcd abcd abcd abcd abcd abcd\"\n",
    "print s.find(\"efgh\")"
   ]
  },
  {
   "cell_type": "code",
   "execution_count": 64,
   "metadata": {},
   "outputs": [
    {
     "ename": "ValueError",
     "evalue": "substring not found",
     "output_type": "error",
     "traceback": [
      "\u001b[0;31m---------------------------------------------------------------------------\u001b[0m",
      "\u001b[0;31mValueError\u001b[0m                                Traceback (most recent call last)",
      "\u001b[0;32m<ipython-input-64-79b5152153cb>\u001b[0m in \u001b[0;36m<module>\u001b[0;34m()\u001b[0m\n\u001b[1;32m      1\u001b[0m \u001b[0ms\u001b[0m\u001b[0;34m=\u001b[0m\u001b[0;34m\"abcd abcd abcd abcd abcd abcd abcd\"\u001b[0m\u001b[0;34m\u001b[0m\u001b[0m\n\u001b[0;32m----> 2\u001b[0;31m \u001b[0;32mprint\u001b[0m \u001b[0ms\u001b[0m\u001b[0;34m.\u001b[0m\u001b[0mindex\u001b[0m\u001b[0;34m(\u001b[0m\u001b[0;34m\"efgh\"\u001b[0m\u001b[0;34m)\u001b[0m\u001b[0;34m\u001b[0m\u001b[0m\n\u001b[0m",
      "\u001b[0;31mValueError\u001b[0m: substring not found"
     ]
    }
   ],
   "source": [
    "s=\"abcd abcd abcd abcd abcd abcd abcd\"\n",
    "print s.index(\"efgh\")"
   ]
  },
  {
   "cell_type": "code",
   "execution_count": 65,
   "metadata": {},
   "outputs": [
    {
     "name": "stdout",
     "output_type": "stream",
     "text": [
      "thon pro\n",
      "7\n"
     ]
    }
   ],
   "source": [
    "s=\"python program\"\n",
    "print s[2:10]\n",
    "print s.find(\"p\",2,10)"
   ]
  },
  {
   "cell_type": "code",
   "execution_count": 66,
   "metadata": {},
   "outputs": [
    {
     "name": "stdout",
     "output_type": "stream",
     "text": [
      "thon\n",
      "-1\n"
     ]
    }
   ],
   "source": [
    "s=\"python program\"\n",
    "print s[2:6]\n",
    "print s.find(\"p\",2,6)"
   ]
  },
  {
   "cell_type": "code",
   "execution_count": 67,
   "metadata": {},
   "outputs": [
    {
     "name": "stdout",
     "output_type": "stream",
     "text": [
      "Name: Anil kumar, Age: 23, Height: 5.6\n"
     ]
    }
   ],
   "source": [
    "name=\"Anil kumar\"\n",
    "age=23\n",
    "height=5.6\n",
    "result = \"Name: %s, Age: %s, Height: %s\"%(name, age, height)\n",
    "print result"
   ]
  },
  {
   "cell_type": "code",
   "execution_count": 68,
   "metadata": {},
   "outputs": [
    {
     "name": "stdout",
     "output_type": "stream",
     "text": [
      "insert into person values('Anil kumar',23,5.6)\n"
     ]
    }
   ],
   "source": [
    "name=\"Anil kumar\"\n",
    "age=23\n",
    "height=5.6\n",
    "q=\"insert into person values('%s',%s,%s)\"%(name,age,height)\n",
    "print q"
   ]
  },
  {
   "cell_type": "code",
   "execution_count": 69,
   "metadata": {},
   "outputs": [
    {
     "name": "stdout",
     "output_type": "stream",
     "text": [
      "insert into person values('Anil kumar',23,5.6)\n",
      "insert into person values('Anil kumar',23,5.6)\n"
     ]
    }
   ],
   "source": [
    "name=\"Anil kumar\"\n",
    "age=23\n",
    "height=5.6\n",
    "q=\"insert into person values('%s',%s,%s)\"%(name,age,height)\n",
    "q1=\"insert into person values('{0}',{1},{2})\".format(name, age, height)\n",
    "print q\n",
    "print q1"
   ]
  },
  {
   "cell_type": "code",
   "execution_count": 70,
   "metadata": {},
   "outputs": [
    {
     "name": "stdout",
     "output_type": "stream",
     "text": [
      "%insert into person values('Anil kumar',23,5.6)\n"
     ]
    },
    {
     "ename": "TypeError",
     "evalue": "%d format: a number is required, not str",
     "output_type": "error",
     "traceback": [
      "\u001b[0;31m---------------------------------------------------------------------------\u001b[0m",
      "\u001b[0;31mTypeError\u001b[0m                                 Traceback (most recent call last)",
      "\u001b[0;32m<ipython-input-70-eecdac5dab6c>\u001b[0m in \u001b[0;36m<module>\u001b[0;34m()\u001b[0m\n\u001b[1;32m      4\u001b[0m \u001b[0mq1\u001b[0m\u001b[0;34m=\u001b[0m\u001b[0;34m\"%insert into person values('{0}',{1},{2})\"\u001b[0m\u001b[0;34m.\u001b[0m\u001b[0mformat\u001b[0m\u001b[0;34m(\u001b[0m\u001b[0mname\u001b[0m\u001b[0;34m,\u001b[0m \u001b[0mage\u001b[0m\u001b[0;34m,\u001b[0m \u001b[0mheight\u001b[0m\u001b[0;34m)\u001b[0m\u001b[0;34m\u001b[0m\u001b[0m\n\u001b[1;32m      5\u001b[0m \u001b[0;32mprint\u001b[0m \u001b[0mq1\u001b[0m\u001b[0;34m\u001b[0m\u001b[0m\n\u001b[0;32m----> 6\u001b[0;31m \u001b[0mq\u001b[0m\u001b[0;34m=\u001b[0m\u001b[0;34m\"%insert into person values('%s',%s,%s)\"\u001b[0m\u001b[0;34m%\u001b[0m\u001b[0;34m(\u001b[0m\u001b[0mname\u001b[0m\u001b[0;34m,\u001b[0m\u001b[0mage\u001b[0m\u001b[0;34m,\u001b[0m\u001b[0mheight\u001b[0m\u001b[0;34m)\u001b[0m\u001b[0;34m\u001b[0m\u001b[0m\n\u001b[0m\u001b[1;32m      7\u001b[0m \u001b[0;32mprint\u001b[0m \u001b[0mq\u001b[0m\u001b[0;34m\u001b[0m\u001b[0m\n",
      "\u001b[0;31mTypeError\u001b[0m: %d format: a number is required, not str"
     ]
    }
   ],
   "source": [
    "name=\"Anil kumar\"\n",
    "age=23\n",
    "height=5.6\n",
    "q1=\"%insert into person values('{0}',{1},{2})\".format(name, age, height)\n",
    "print q1\n",
    "q=\"%insert into person values('%s',%s,%s)\"%(name,age,height)\n",
    "print q"
   ]
  },
  {
   "cell_type": "code",
   "execution_count": 72,
   "metadata": {},
   "outputs": [
    {
     "name": "stdout",
     "output_type": "stream",
     "text": [
      "insert into person values('Anil kumar',Anil kumar,Anil kumar)\n",
      "insert into person values('Anil kumar',Anil kumar,Anil kumar)\n"
     ]
    }
   ],
   "source": [
    "name=\"Anil kumar\"\n",
    "age=23\n",
    "height=5.6\n",
    "q1=\"insert into person values('{0}',{0},{0})\".format(name)\n",
    "print q1\n",
    "q=\"insert into person values('%s',%s,%s)\"%(name,name,name)\n",
    "print q"
   ]
  },
  {
   "cell_type": "code",
   "execution_count": 73,
   "metadata": {},
   "outputs": [
    {
     "name": "stdout",
     "output_type": "stream",
     "text": [
      "insert into person values('Anil kumar',Anil kumar,Anil kumar)\n"
     ]
    },
    {
     "ename": "TypeError",
     "evalue": "not enough arguments for format string",
     "output_type": "error",
     "traceback": [
      "\u001b[0;31m---------------------------------------------------------------------------\u001b[0m",
      "\u001b[0;31mTypeError\u001b[0m                                 Traceback (most recent call last)",
      "\u001b[0;32m<ipython-input-73-902a0829537a>\u001b[0m in \u001b[0;36m<module>\u001b[0;34m()\u001b[0m\n\u001b[1;32m      4\u001b[0m \u001b[0mq1\u001b[0m\u001b[0;34m=\u001b[0m\u001b[0;34m\"insert into person values('{0}',{0},{0})\"\u001b[0m\u001b[0;34m.\u001b[0m\u001b[0mformat\u001b[0m\u001b[0;34m(\u001b[0m\u001b[0mname\u001b[0m\u001b[0;34m)\u001b[0m\u001b[0;34m\u001b[0m\u001b[0m\n\u001b[1;32m      5\u001b[0m \u001b[0;32mprint\u001b[0m \u001b[0mq1\u001b[0m\u001b[0;34m\u001b[0m\u001b[0m\n\u001b[0;32m----> 6\u001b[0;31m \u001b[0mq\u001b[0m\u001b[0;34m=\u001b[0m\u001b[0;34m\"insert into person values('%s',%s,%s)\"\u001b[0m\u001b[0;34m%\u001b[0m\u001b[0;34m(\u001b[0m\u001b[0mname\u001b[0m\u001b[0;34m)\u001b[0m\u001b[0;34m\u001b[0m\u001b[0m\n\u001b[0m\u001b[1;32m      7\u001b[0m \u001b[0;32mprint\u001b[0m \u001b[0mq\u001b[0m\u001b[0;34m\u001b[0m\u001b[0m\n",
      "\u001b[0;31mTypeError\u001b[0m: not enough arguments for format string"
     ]
    }
   ],
   "source": [
    "name=\"Anil kumar\"\n",
    "age=23\n",
    "height=5.6\n",
    "q1=\"insert into person values('{0}',{0},{0})\".format(name)\n",
    "print q1\n",
    "q=\"insert into person values('%s',%s,%s)\"%(name)\n",
    "print q"
   ]
  },
  {
   "cell_type": "code",
   "execution_count": 74,
   "metadata": {},
   "outputs": [
    {
     "name": "stdout",
     "output_type": "stream",
     "text": [
      "12345676788\n"
     ]
    }
   ],
   "source": [
    "a=12345676788\n",
    "print \"{0}\".format(a)"
   ]
  },
  {
   "cell_type": "code",
   "execution_count": 75,
   "metadata": {},
   "outputs": [
    {
     "name": "stdout",
     "output_type": "stream",
     "text": [
      "12345676788\n",
      "1011011111110111000001001111110100\n",
      "12345676788.000000\n",
      "133767011764\n",
      "2dfdc13f4\n"
     ]
    }
   ],
   "source": [
    "a=12345676788\n",
    "print \"{0}\".format(a)\n",
    "print \"{0:b}\".format(a)\n",
    "print \"{0:f}\".format(a)\n",
    "print \"{0:o}\".format(a)\n",
    "print \"{0:x}\".format(a)"
   ]
  },
  {
   "cell_type": "code",
   "execution_count": 77,
   "metadata": {},
   "outputs": [
    {
     "name": "stdout",
     "output_type": "stream",
     "text": [
      "12345676788.2\n",
      "12345676788.23\n",
      "1011011111110111000001001111110100\n",
      "133767011764\n",
      "2dfdc13f4\n"
     ]
    }
   ],
   "source": [
    "a=12345676788.234567\n",
    "\n",
    "print \"{0}\".format(a)\n",
    "print \"{0:.2f}\".format(a)\n",
    "a=int(a)\n",
    "print \"{0:b}\".format(a)\n",
    "\n",
    "print \"{0:o}\".format(a)\n",
    "print \"{0:x}\".format(a)"
   ]
  },
  {
   "cell_type": "code",
   "execution_count": 79,
   "metadata": {},
   "outputs": [
    {
     "ename": "ValueError",
     "evalue": "Unknown format code 's' for object of type 'int'",
     "output_type": "error",
     "traceback": [
      "\u001b[0;31m---------------------------------------------------------------------------\u001b[0m",
      "\u001b[0;31mValueError\u001b[0m                                Traceback (most recent call last)",
      "\u001b[0;32m<ipython-input-79-fb15f748e1fd>\u001b[0m in \u001b[0;36m<module>\u001b[0;34m()\u001b[0m\n\u001b[1;32m      1\u001b[0m \u001b[0ma\u001b[0m\u001b[0;34m=\u001b[0m\u001b[0;36m12345676788\u001b[0m\u001b[0;34m\u001b[0m\u001b[0m\n\u001b[0;32m----> 2\u001b[0;31m \u001b[0;32mprint\u001b[0m \u001b[0;34m\"{0:s}\"\u001b[0m\u001b[0;34m.\u001b[0m\u001b[0mformat\u001b[0m\u001b[0;34m(\u001b[0m\u001b[0ma\u001b[0m\u001b[0;34m)\u001b[0m\u001b[0;34m\u001b[0m\u001b[0m\n\u001b[0m",
      "\u001b[0;31mValueError\u001b[0m: Unknown format code 's' for object of type 'int'"
     ]
    }
   ],
   "source": [
    "a=12345676788\n",
    "print \"{0:s}\".format(a)"
   ]
  },
  {
   "cell_type": "code",
   "execution_count": 80,
   "metadata": {},
   "outputs": [
    {
     "name": "stdout",
     "output_type": "stream",
     "text": [
      "12345676788\n"
     ]
    },
    {
     "ename": "ValueError",
     "evalue": "Unknown format code 's' for object of type 'int'",
     "output_type": "error",
     "traceback": [
      "\u001b[0;31m---------------------------------------------------------------------------\u001b[0m",
      "\u001b[0;31mValueError\u001b[0m                                Traceback (most recent call last)",
      "\u001b[0;32m<ipython-input-80-64bbbde2418c>\u001b[0m in \u001b[0;36m<module>\u001b[0;34m()\u001b[0m\n\u001b[1;32m      1\u001b[0m \u001b[0ma\u001b[0m\u001b[0;34m=\u001b[0m\u001b[0;36m12345676788\u001b[0m\u001b[0;34m\u001b[0m\u001b[0m\n\u001b[1;32m      2\u001b[0m \u001b[0;32mprint\u001b[0m \u001b[0;34m\"%s\"\u001b[0m\u001b[0;34m%\u001b[0m\u001b[0ma\u001b[0m\u001b[0;34m\u001b[0m\u001b[0m\n\u001b[0;32m----> 3\u001b[0;31m \u001b[0;32mprint\u001b[0m \u001b[0;34m\"{0:s}\"\u001b[0m\u001b[0;34m.\u001b[0m\u001b[0mformat\u001b[0m\u001b[0;34m(\u001b[0m\u001b[0ma\u001b[0m\u001b[0;34m)\u001b[0m\u001b[0;34m\u001b[0m\u001b[0m\n\u001b[0m",
      "\u001b[0;31mValueError\u001b[0m: Unknown format code 's' for object of type 'int'"
     ]
    }
   ],
   "source": [
    "a=12345676788\n",
    "print \"%s\"%a\n",
    "print \"{0:s}\".format(a)"
   ]
  },
  {
   "cell_type": "code",
   "execution_count": 81,
   "metadata": {},
   "outputs": [
    {
     "name": "stdout",
     "output_type": "stream",
     "text": [
      "12345676788\n",
      "dsfdsfdsfds\n"
     ]
    }
   ],
   "source": [
    "a=12345676788\n",
    "print \"%s\"%a\n",
    "print \"{0:s}\".format(\"dsfdsfdsfds\")"
   ]
  },
  {
   "cell_type": "code",
   "execution_count": null,
   "metadata": {
    "collapsed": true
   },
   "outputs": [],
   "source": [
    "# format specifires are fast or format is fast?"
   ]
  }
 ],
 "metadata": {
  "kernelspec": {
   "display_name": "Python 2",
   "language": "python",
   "name": "python2"
  },
  "language_info": {
   "codemirror_mode": {
    "name": "ipython",
    "version": 2
   },
   "file_extension": ".py",
   "mimetype": "text/x-python",
   "name": "python",
   "nbconvert_exporter": "python",
   "pygments_lexer": "ipython2",
   "version": "2.7.14"
  }
 },
 "nbformat": 4,
 "nbformat_minor": 2
}
