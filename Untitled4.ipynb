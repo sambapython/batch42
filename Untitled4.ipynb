{
 "cells": [
  {
   "cell_type": "code",
   "execution_count": 1,
   "metadata": {
    "collapsed": true
   },
   "outputs": [],
   "source": [
    "# if if else if elif\n",
    "a=10"
   ]
  },
  {
   "cell_type": "code",
   "execution_count": 2,
   "metadata": {},
   "outputs": [
    {
     "name": "stdout",
     "output_type": "stream",
     "text": [
      "10\n"
     ]
    }
   ],
   "source": [
    "print a"
   ]
  },
  {
   "cell_type": "code",
   "execution_count": 3,
   "metadata": {},
   "outputs": [
    {
     "name": "stdout",
     "output_type": "stream",
     "text": [
      "st1\n",
      "st2\n",
      "st3\n"
     ]
    }
   ],
   "source": [
    "print \"st1\"\n",
    "print \"st2\"\n",
    "print \"st3\""
   ]
  },
  {
   "cell_type": "code",
   "execution_count": 4,
   "metadata": {},
   "outputs": [
    {
     "name": "stdout",
     "output_type": "stream",
     "text": [
      "a is big\n",
      "b is big\n"
     ]
    }
   ],
   "source": [
    "a=10\n",
    "b=20\n",
    "print \"a is big\"\n",
    "print \"b is big\""
   ]
  },
  {
   "cell_type": "code",
   "execution_count": 6,
   "metadata": {},
   "outputs": [
    {
     "name": "stdout",
     "output_type": "stream",
     "text": [
      "b is big\n"
     ]
    }
   ],
   "source": [
    "a=10\n",
    "b=20\n",
    "if a>b:\n",
    "    print \"a is big\"\n",
    "else:\n",
    "    print \"b is big\""
   ]
  },
  {
   "cell_type": "code",
   "execution_count": 7,
   "metadata": {},
   "outputs": [
    {
     "name": "stdout",
     "output_type": "stream",
     "text": [
      "a is big\n"
     ]
    }
   ],
   "source": [
    "a=100\n",
    "b=20\n",
    "if a>b:\n",
    "    print \"a is big\"\n",
    "else:\n",
    "    print \"b is big\""
   ]
  },
  {
   "cell_type": "code",
   "execution_count": 8,
   "metadata": {},
   "outputs": [
    {
     "name": "stdout",
     "output_type": "stream",
     "text": [
      "st1\n",
      "st2\n",
      "st3\n",
      "st4\n",
      "st5\n"
     ]
    }
   ],
   "source": [
    "#looping while for\n",
    "print \"st1\"\n",
    "print \"st2\"\n",
    "print \"st3\"\n",
    "print \"st4\"\n",
    "print \"st5\"\n"
   ]
  },
  {
   "cell_type": "code",
   "execution_count": 9,
   "metadata": {},
   "outputs": [
    {
     "name": "stdout",
     "output_type": "stream",
     "text": [
      "st1\n",
      "st2\n",
      "st3\n",
      "st4\n",
      "st5\n"
     ]
    }
   ],
   "source": [
    "for i in range(1,6):\n",
    "    print \"st%s\"%i"
   ]
  },
  {
   "cell_type": "code",
   "execution_count": 10,
   "metadata": {
    "collapsed": true
   },
   "outputs": [],
   "source": [
    "#datastructures. list. tuple. dict set\n",
    "a=10"
   ]
  },
  {
   "cell_type": "code",
   "execution_count": 11,
   "metadata": {
    "collapsed": true
   },
   "outputs": [],
   "source": [
    "a=[10,1.2,3+3j,\"sfdsd\"]"
   ]
  },
  {
   "cell_type": "code",
   "execution_count": 12,
   "metadata": {},
   "outputs": [
    {
     "name": "stdout",
     "output_type": "stream",
     "text": [
      "program started\n",
      "a=10, b=20\n",
      "res= 30\n",
      "some statements\n",
      "a=100, b=200\n",
      "res= 300\n",
      "some  other statements\n",
      "a=1000, b=2000\n",
      "res= 3000\n",
      "some nore statements\n",
      "a=10000, b=20000\n",
      "res= 30000\n",
      "some statements\n",
      "other statements in porgram\n",
      "proigram ended\n"
     ]
    }
   ],
   "source": [
    "#functions\n",
    "print \"program started\"\n",
    "a=10\n",
    "b=20\n",
    "res=a+b\n",
    "print \"a=%s, b=%s\"%(a,b)\n",
    "print \"res=\",res\n",
    "print \"some statements\"\n",
    "a=100\n",
    "b=200\n",
    "res=a+b\n",
    "print \"a=%s, b=%s\"%(a,b)\n",
    "print \"res=\",res\n",
    "print \"some  other statements\"\n",
    "a=1000\n",
    "b=2000\n",
    "res=a+b\n",
    "print \"a=%s, b=%s\"%(a,b)\n",
    "print \"res=\",res\n",
    "print \"some nore statements\"\n",
    "a=10000\n",
    "b=20000\n",
    "res=a+b\n",
    "print \"a=%s, b=%s\"%(a,b)\n",
    "print \"res=\",res\n",
    "print \"some statements\"\n",
    "print \"other statements in porgram\"\n",
    "print \"proigram ended\""
   ]
  },
  {
   "cell_type": "code",
   "execution_count": 13,
   "metadata": {},
   "outputs": [
    {
     "name": "stdout",
     "output_type": "stream",
     "text": [
      "program started\n",
      "a=10, b=20\n",
      "res= 30\n",
      "some statements\n",
      "a=100, b=200\n",
      "res= 300\n",
      "some  other statements\n",
      "a=1000, b=2000\n",
      "res= 3000\n",
      "some nore statements\n",
      "a=10000, b=20000\n",
      "res= 30000\n",
      "some statements\n",
      "other statements in porgram\n",
      "proigram ended\n"
     ]
    }
   ],
   "source": [
    "def fun(a,b):\n",
    "    print \"a=%s, b=%s\"%(a,b)\n",
    "    res=a+b\n",
    "    print \"res=\",res\n",
    "#functions\n",
    "print \"program started\"\n",
    "fun(10,20)\n",
    "print \"some statements\"\n",
    "fun(100,200)\n",
    "print \"some  other statements\"\n",
    "fun(1000,2000)\n",
    "print \"some nore statements\"\n",
    "fun(10000,20000)\n",
    "print \"some statements\"\n",
    "print \"other statements in porgram\"\n",
    "print \"proigram ended\""
   ]
  },
  {
   "cell_type": "code",
   "execution_count": null,
   "metadata": {
    "collapsed": true
   },
   "outputs": [],
   "source": []
  }
 ],
 "metadata": {
  "kernelspec": {
   "display_name": "Python 2",
   "language": "python",
   "name": "python2"
  },
  "language_info": {
   "codemirror_mode": {
    "name": "ipython",
    "version": 2
   },
   "file_extension": ".py",
   "mimetype": "text/x-python",
   "name": "python",
   "nbconvert_exporter": "python",
   "pygments_lexer": "ipython2",
   "version": "2.7.14"
  }
 },
 "nbformat": 4,
 "nbformat_minor": 2
}
