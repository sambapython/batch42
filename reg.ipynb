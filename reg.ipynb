{
 "cells": [
  {
   "cell_type": "code",
   "execution_count": 1,
   "metadata": {
    "collapsed": true
   },
   "outputs": [],
   "source": [
    "data = open(\"data1.csv\").read()"
   ]
  },
  {
   "cell_type": "code",
   "execution_count": 2,
   "metadata": {},
   "outputs": [
    {
     "name": "stdout",
     "output_type": "stream",
     "text": [
      "name1,9676622023,email1@gmaqil.com\n",
      "9676622024,name2,email2@gmaqil.com\n",
      "email3@gmaqil.com,name3,9676622025\n",
      "NAME4,768543445,Email1@GAMIL.COM\n",
      "\n"
     ]
    }
   ],
   "source": [
    "print data"
   ]
  },
  {
   "cell_type": "code",
   "execution_count": 3,
   "metadata": {
    "collapsed": true
   },
   "outputs": [],
   "source": [
    "import re"
   ]
  },
  {
   "cell_type": "code",
   "execution_count": 4,
   "metadata": {},
   "outputs": [
    {
     "data": {
      "text/plain": [
       "['9676622023', '9676622024', '9676622025']"
      ]
     },
     "execution_count": 4,
     "metadata": {},
     "output_type": "execute_result"
    }
   ],
   "source": [
    "re.findall(\"[0-9]{10}\",data)"
   ]
  },
  {
   "cell_type": "code",
   "execution_count": 5,
   "metadata": {},
   "outputs": [
    {
     "data": {
      "text/plain": [
       "['a', 'a', 'a', 'c', 'a', 'a', 'a', 'c', 'a', 'a', 'c', 'a', 'a']"
      ]
     },
     "execution_count": 5,
     "metadata": {},
     "output_type": "execute_result"
    }
   ],
   "source": [
    "#[]^$.+*?\\\n",
    "re.findall(\"[abc]\",data)"
   ]
  },
  {
   "cell_type": "code",
   "execution_count": 8,
   "metadata": {},
   "outputs": [
    {
     "name": "stdout",
     "output_type": "stream",
     "text": [
      "['a', 'a', 'a', 'c', 'a', 'a', 'a', 'c', 'a', 'a', 'c', 'a', 'A', 'a', 'A', 'C']\n"
     ]
    }
   ],
   "source": [
    "#[]^$.+*?\\\n",
    "print re.findall(\"[abcABC]\",data)"
   ]
  },
  {
   "cell_type": "code",
   "execution_count": 9,
   "metadata": {},
   "outputs": [
    {
     "name": "stdout",
     "output_type": "stream",
     "text": [
      "['a', 'a', 'a', 'c', 'a', 'a', 'a', 'c', 'a', 'a', 'c', 'a', 'A', 'a', 'A', 'C']\n"
     ]
    }
   ],
   "source": [
    "#[]^$.+*?\\\n",
    "print re.findall(\"[abc]\",data,re.I)"
   ]
  },
  {
   "cell_type": "code",
   "execution_count": 10,
   "metadata": {},
   "outputs": [
    {
     "name": "stdout",
     "output_type": "stream",
     "text": [
      "['e1', 'l1', 'e2', 'l2', 'l3', 'e3', 'E4', 'l1']\n"
     ]
    }
   ],
   "source": [
    "#[]^$.+*?\\\n",
    "print re.findall(\"[a-z][0-9]\",data,re.I)"
   ]
  },
  {
   "cell_type": "code",
   "execution_count": 11,
   "metadata": {},
   "outputs": [
    {
     "name": "stdout",
     "output_type": "stream",
     "text": [
      "['1', '9', '6', '7', '6', '6', '2', '2', '0', '2', '3', '1', '9', '6', '7', '6', '6', '2', '2', '0', '2', '4', '2', '2', '3', '3', '9', '6', '7', '6', '6', '2', '2', '0', '2', '5', '4', '7', '6', '8', '5', '4', '3', '4', '4', '5', '1']\n"
     ]
    }
   ],
   "source": [
    "#[]^$.+*?\\\n",
    "print re.findall(\"[0-9]\",data,re.I)"
   ]
  },
  {
   "cell_type": "code",
   "execution_count": 12,
   "metadata": {},
   "outputs": [
    {
     "name": "stdout",
     "output_type": "stream",
     "text": [
      "['9676', '6220', '9676', '6220', '9676', '6220', '7685', '4344']\n"
     ]
    }
   ],
   "source": [
    "#[]^$.+*?\\\n",
    "print re.findall(\"[0-9][0-9][0-9][0-9]\",data,re.I)"
   ]
  },
  {
   "cell_type": "code",
   "execution_count": 13,
   "metadata": {},
   "outputs": [
    {
     "name": "stdout",
     "output_type": "stream",
     "text": [
      "['9676', '6220', '9676', '6220', '9676', '6220', '7685', '4344']\n"
     ]
    }
   ],
   "source": [
    "#[]^$.+*?\\\n",
    "print re.findall(\"[0-9]{4}\",data,re.I)"
   ]
  },
  {
   "cell_type": "code",
   "execution_count": 14,
   "metadata": {},
   "outputs": [
    {
     "name": "stdout",
     "output_type": "stream",
     "text": [
      "['9676622023', '9676622024', '9676622025']\n"
     ]
    }
   ],
   "source": [
    "#[]^$.+*?\\\n",
    "print re.findall(\"[0-9]{10}\",data,re.I)"
   ]
  },
  {
   "cell_type": "code",
   "execution_count": 15,
   "metadata": {},
   "outputs": [
    {
     "name": "stdout",
     "output_type": "stream",
     "text": [
      "['n', 'a', 'm', 'e', 'e', 'm', 'a', 'i', 'l', 'g', 'm', 'a', 'q', 'i', 'l', 'c', 'o', 'm', 'n', 'a', 'm', 'e', 'e', 'm', 'a', 'i', 'l', 'g', 'm', 'a', 'q', 'i', 'l', 'c', 'o', 'm', 'e', 'm', 'a', 'i', 'l', 'g', 'm', 'a', 'q', 'i', 'l', 'c', 'o', 'm', 'n', 'a', 'm', 'e', 'N', 'A', 'M', 'E', 'E', 'm', 'a', 'i', 'l', 'G', 'A', 'M', 'I', 'L', 'C', 'O', 'M']\n"
     ]
    }
   ],
   "source": [
    "#[]^$.+*?\\\n",
    "print re.findall(\"[a-z]\",data,re.I)"
   ]
  },
  {
   "cell_type": "code",
   "execution_count": 16,
   "metadata": {},
   "outputs": [
    {
     "name": "stdout",
     "output_type": "stream",
     "text": [
      "['1', ',', '9', '6', '7', '6', '6', '2', '2', '0', '2', '3', ',', '1', '@', '.', '\\n', '9', '6', '7', '6', '6', '2', '2', '0', '2', '4', ',', '2', ',', '2', '@', '.', '\\n', '3', '@', '.', ',', '3', ',', '9', '6', '7', '6', '6', '2', '2', '0', '2', '5', '\\n', '4', ',', '7', '6', '8', '5', '4', '3', '4', '4', '5', ',', '1', '@', '.', '\\n']\n"
     ]
    }
   ],
   "source": [
    "#[]^$.+*?\\\n",
    "print re.findall(\"[^a-z]\",data,re.I)"
   ]
  },
  {
   "cell_type": "code",
   "execution_count": 17,
   "metadata": {},
   "outputs": [
    {
     "name": "stdout",
     "output_type": "stream",
     "text": [
      "['n']\n"
     ]
    }
   ],
   "source": [
    "#[]^$.+*?\\\n",
    "print re.findall(\"^[a-z]\",data,re.I)"
   ]
  },
  {
   "cell_type": "code",
   "execution_count": 18,
   "metadata": {},
   "outputs": [
    {
     "name": "stdout",
     "output_type": "stream",
     "text": [
      "name1,9676622023,email1@gmaqil.com\n",
      "9676622024,name2,email2@gmaqil.com\n",
      "email3@gmaqil.com,name3,9676622025\n",
      "NAME4,768543445,Email1@GAMIL.COM\n",
      "\n"
     ]
    }
   ],
   "source": [
    "print data"
   ]
  },
  {
   "cell_type": "code",
   "execution_count": 19,
   "metadata": {},
   "outputs": [
    {
     "name": "stdout",
     "output_type": "stream",
     "text": [
      "[]\n"
     ]
    }
   ],
   "source": [
    "#[]^$.+*?\\\n",
    "print re.findall(\"^[0-9]\",data,re.I)"
   ]
  },
  {
   "cell_type": "code",
   "execution_count": 20,
   "metadata": {},
   "outputs": [
    {
     "name": "stdout",
     "output_type": "stream",
     "text": [
      "[]\n"
     ]
    }
   ],
   "source": [
    "#[]^$.+*?\\\n",
    "print re.findall(\"[0-9]$\",data,re.I)"
   ]
  },
  {
   "cell_type": "code",
   "execution_count": 21,
   "metadata": {},
   "outputs": [
    {
     "name": "stdout",
     "output_type": "stream",
     "text": [
      "['M']\n"
     ]
    }
   ],
   "source": [
    "#[]^$.+*?\\\n",
    "print re.findall(\"[a-z]$\",data,re.I)"
   ]
  },
  {
   "cell_type": "code",
   "execution_count": 22,
   "metadata": {},
   "outputs": [
    {
     "name": "stdout",
     "output_type": "stream",
     "text": [
      "name1,9676622023,email1@gmaqil.com\n",
      "9676622024,name2,email2@gmaqil.com\n",
      "email3@gmaqil.com,name3,9676622025\n",
      "NAME4,768543445,Email1@GAMIL.COM\n",
      "\n",
      "['m', 'm', 'M']\n"
     ]
    }
   ],
   "source": [
    "#[]^$.+*?\\\n",
    "print data\n",
    "print re.findall(\"[a-z]$\",data,re.I|re.M)"
   ]
  },
  {
   "cell_type": "code",
   "execution_count": 23,
   "metadata": {},
   "outputs": [
    {
     "name": "stdout",
     "output_type": "stream",
     "text": [
      "name1,9676622023,email1@gmaqil.com\n",
      "9676622024,name2,email2@gmaqil.com\n",
      "email3@gmaqil.com,name3,9676622025\n",
      "NAME4,768543445,Email1@GAMIL.COM\n",
      "\n",
      "['n', 'e', 'N']\n"
     ]
    }
   ],
   "source": [
    "#[]^$.+*?\\\n",
    "print data\n",
    "print re.findall(\"^[a-z]\",data,re.I|re.M)"
   ]
  },
  {
   "cell_type": "code",
   "execution_count": 24,
   "metadata": {},
   "outputs": [
    {
     "name": "stdout",
     "output_type": "stream",
     "text": [
      "name1,9676622023,email1@gmaqil.com\n",
      "9676622024,name2,email2@gmaqil.com\n",
      "email3@gmaqil.com,name3,9676622025\n",
      "NAME4,768543445,Email1@GAMIL.COM\n",
      "\n",
      "['n', 'a', 'm', 'e', '1', ',', '9', '6', '7', '6', '6', '2', '2', '0', '2', '3', ',', 'e', 'm', 'a', 'i', 'l', '1', '@', 'g', 'm', 'a', 'q', 'i', 'l', '.', 'c', 'o', 'm', '9', '6', '7', '6', '6', '2', '2', '0', '2', '4', ',', 'n', 'a', 'm', 'e', '2', ',', 'e', 'm', 'a', 'i', 'l', '2', '@', 'g', 'm', 'a', 'q', 'i', 'l', '.', 'c', 'o', 'm', 'e', 'm', 'a', 'i', 'l', '3', '@', 'g', 'm', 'a', 'q', 'i', 'l', '.', 'c', 'o', 'm', ',', 'n', 'a', 'm', 'e', '3', ',', '9', '6', '7', '6', '6', '2', '2', '0', '2', '5', 'N', 'A', 'M', 'E', '4', ',', '7', '6', '8', '5', '4', '3', '4', '4', '5', ',', 'E', 'm', 'a', 'i', 'l', '1', '@', 'G', 'A', 'M', 'I', 'L', '.', 'C', 'O', 'M']\n"
     ]
    }
   ],
   "source": [
    "#[]^$.+*?\\\n",
    "print data\n",
    "print re.findall(\".\",data,re.I|re.M)"
   ]
  },
  {
   "cell_type": "code",
   "execution_count": 25,
   "metadata": {},
   "outputs": [
    {
     "name": "stdout",
     "output_type": "stream",
     "text": [
      "name1,9676622023,email1@gmaqil.com\n",
      "9676622024,name2,email2@gmaqil.com\n",
      "email3@gmaqil.com,name3,9676622025\n",
      "NAME4,768543445,Email1@GAMIL.COM\n",
      "\n",
      "['n', 'a', 'm', 'e', '1', ',', '9', '6', '7', '6', '6', '2', '2', '0', '2', '3', ',', 'e', 'm', 'a', 'i', 'l', '1', '@', 'g', 'm', 'a', 'q', 'i', 'l', '.', 'c', 'o', 'm', '9', '6', '7', '6', '6', '2', '2', '0', '2', '4', ',', 'n', 'a', 'm', 'e', '2', ',', 'e', 'm', 'a', 'i', 'l', '2', '@', 'g', 'm', 'a', 'q', 'i', 'l', '.', 'c', 'o', 'm', 'e', 'm', 'a', 'i', 'l', '3', '@', 'g', 'm', 'a', 'q', 'i', 'l', '.', 'c', 'o', 'm', ',', 'n', 'a', 'm', 'e', '3', ',', '9', '6', '7', '6', '6', '2', '2', '0', '2', '5', 'N', 'A', 'M', 'E', '4', ',', '7', '6', '8', '5', '4', '3', '4', '4', '5', ',', 'E', 'm', 'a', 'i', 'l', '1', '@', 'G', 'A', 'M', 'I', 'L', '.', 'C', 'O', 'M']\n"
     ]
    },
    {
     "data": {
      "text/plain": [
       "'name1,9676622023,email1@gmaqil.com\\n9676622024,name2,email2@gmaqil.com\\nemail3@gmaqil.com,name3,9676622025\\nNAME4,768543445,Email1@GAMIL.COM\\n'"
      ]
     },
     "execution_count": 25,
     "metadata": {},
     "output_type": "execute_result"
    }
   ],
   "source": [
    "#[]^$.+*?\\\n",
    "print data\n",
    "print re.findall(\".\",data,re.I|re.M)\n",
    "data"
   ]
  },
  {
   "cell_type": "code",
   "execution_count": 26,
   "metadata": {},
   "outputs": [
    {
     "name": "stdout",
     "output_type": "stream",
     "text": [
      "name1,9676622023,email1@gmaqil.com\n",
      "9676622024,name2,email2@gmaqil.com\n",
      "email3@gmaqil.com,name3,9676622025\n",
      "NAME4,768543445,Email1@GAMIL.COM\n",
      "\n",
      "['n', 'a', 'm', 'e', '1', ',', '9', '6', '7', '6', '6', '2', '2', '0', '2', '3', ',', 'e', 'm', 'a', 'i', 'l', '1', '@', 'g', 'm', 'a', 'q', 'i', 'l', '.', 'c', 'o', 'm', '\\n', '9', '6', '7', '6', '6', '2', '2', '0', '2', '4', ',', 'n', 'a', 'm', 'e', '2', ',', 'e', 'm', 'a', 'i', 'l', '2', '@', 'g', 'm', 'a', 'q', 'i', 'l', '.', 'c', 'o', 'm', '\\n', 'e', 'm', 'a', 'i', 'l', '3', '@', 'g', 'm', 'a', 'q', 'i', 'l', '.', 'c', 'o', 'm', ',', 'n', 'a', 'm', 'e', '3', ',', '9', '6', '7', '6', '6', '2', '2', '0', '2', '5', '\\n', 'N', 'A', 'M', 'E', '4', ',', '7', '6', '8', '5', '4', '3', '4', '4', '5', ',', 'E', 'm', 'a', 'i', 'l', '1', '@', 'G', 'A', 'M', 'I', 'L', '.', 'C', 'O', 'M', '\\n']\n"
     ]
    },
    {
     "data": {
      "text/plain": [
       "'name1,9676622023,email1@gmaqil.com\\n9676622024,name2,email2@gmaqil.com\\nemail3@gmaqil.com,name3,9676622025\\nNAME4,768543445,Email1@GAMIL.COM\\n'"
      ]
     },
     "execution_count": 26,
     "metadata": {},
     "output_type": "execute_result"
    }
   ],
   "source": [
    "#[]^$.+*?\\\n",
    "print data\n",
    "print re.findall(\".\",data,re.I|re.M|re.DOTALL)\n",
    "data"
   ]
  },
  {
   "cell_type": "code",
   "execution_count": 27,
   "metadata": {},
   "outputs": [
    {
     "name": "stdout",
     "output_type": "stream",
     "text": [
      "['9676622023', '9676622024', '9676622025']\n"
     ]
    }
   ],
   "source": [
    "#[]^$.+*?\\\n",
    "print re.findall(\"[0-9]{10}\",data,re.I)"
   ]
  },
  {
   "cell_type": "code",
   "execution_count": 29,
   "metadata": {},
   "outputs": [
    {
     "name": "stdout",
     "output_type": "stream",
     "text": [
      "['96766', '22023', '96766', '22024', '96766', '22025', '76854', '3445']\n"
     ]
    }
   ],
   "source": [
    "#[]^$.+*?\\\n",
    "data=open(\"data1.csv\").read()\n",
    "print re.findall(\"[0-9]{3,5}\",data,re.I)"
   ]
  },
  {
   "cell_type": "code",
   "execution_count": 30,
   "metadata": {},
   "outputs": [
    {
     "name": "stdout",
     "output_type": "stream",
     "text": [
      "['96766', '22023', '96766', '22024', '96766', '22025', '76854', '3445', '22', '23', '24']\n"
     ]
    }
   ],
   "source": [
    "#[]^$.+*?\\\n",
    "data=open(\"data1.csv\").read()\n",
    "print re.findall(\"[0-9]{2,5}\",data,re.I)"
   ]
  },
  {
   "cell_type": "code",
   "execution_count": 31,
   "metadata": {},
   "outputs": [
    {
     "name": "stdout",
     "output_type": "stream",
     "text": [
      "['9676622023', '9676622024', '9676622025', '768543445', '22', '23', '24', '34543245675432', '019', '2345643234567']\n"
     ]
    }
   ],
   "source": [
    "#[]^$.+*?\\\n",
    "data=open(\"data1.csv\").read()\n",
    "print re.findall(\"[0-9]{2,}\",data,re.I)"
   ]
  },
  {
   "cell_type": "code",
   "execution_count": 32,
   "metadata": {},
   "outputs": [
    {
     "name": "stdout",
     "output_type": "stream",
     "text": [
      "['1', '9676622023', '1', '9676622024', '2', '2', '3', '3', '9676622025', '4', '768543445', '1', '22', '23', '24', '2', '34543245675432', '019', '2345643234567', '1']\n"
     ]
    }
   ],
   "source": [
    "#[]^$.+*?\\\n",
    "data=open(\"data1.csv\").read()\n",
    "print re.findall(\"[0-9]{1,}\",data,re.I)"
   ]
  },
  {
   "cell_type": "code",
   "execution_count": 33,
   "metadata": {},
   "outputs": [
    {
     "name": "stdout",
     "output_type": "stream",
     "text": [
      "['1', '9676622023', '1', '9676622024', '2', '2', '3', '3', '9676622025', '4', '768543445', '1', '22', '23', '24', '2', '34543245675432', '019', '2345643234567', '1']\n"
     ]
    }
   ],
   "source": [
    "#[]^$.+*?\\\n",
    "data=open(\"data1.csv\").read()\n",
    "print re.findall(\"[0-9]+\",data,re.I)"
   ]
  },
  {
   "cell_type": "code",
   "execution_count": 34,
   "metadata": {},
   "outputs": [
    {
     "name": "stdout",
     "output_type": "stream",
     "text": [
      "name1,9676622023,email1@gmaqil.com\n",
      "9676622024,name2,email2@gmaqil.com\n",
      "email3@gmaqil.com,name3,9676622025\n",
      "NAME4,768543445,Email1@GAMIL.COM\n",
      "22,23,24\n",
      "2.34543245675432E+019,2345643234567,1\n",
      "\n",
      "['', '', '', '', '1', '', '9676622023', '', '', '', '', '', '', '1', '', '', '', '', '', '', '', '', '', '', '', '', '9676622024', '', '', '', '', '', '2', '', '', '', '', '', '', '2', '', '', '', '', '', '', '', '', '', '', '', '', '', '', '', '', '', '3', '', '', '', '', '', '', '', '', '', '', '', '', '', '', '', '', '3', '', '9676622025', '', '', '', '', '', '4', '', '768543445', '', '', '', '', '', '', '1', '', '', '', '', '', '', '', '', '', '', '', '22', '', '23', '', '24', '', '2', '', '34543245675432', '', '', '019', '', '2345643234567', '', '1', '', '']\n"
     ]
    }
   ],
   "source": [
    "#[]^$.+*?\\\n",
    "data=open(\"data1.csv\").read()\n",
    "print data\n",
    "print re.findall(\"[0-9]{0,}\",data,re.I)"
   ]
  },
  {
   "cell_type": "code",
   "execution_count": 35,
   "metadata": {},
   "outputs": [
    {
     "name": "stdout",
     "output_type": "stream",
     "text": [
      "name1,9676622023,email1@gmaqil.com\n",
      "9676622024,name2,email2@gmaqil.com\n",
      "email3@gmaqil.com,name3,9676622025\n",
      "NAME4,768543445,Email1@GAMIL.COM\n",
      "22,23,24\n",
      "2.34543245675432E+019,2345643234567,1\n",
      "\n",
      "['', '', '', '', '1', '', '9676622023', '', '', '', '', '', '', '1', '', '', '', '', '', '', '', '', '', '', '', '', '9676622024', '', '', '', '', '', '2', '', '', '', '', '', '', '2', '', '', '', '', '', '', '', '', '', '', '', '', '', '', '', '', '', '3', '', '', '', '', '', '', '', '', '', '', '', '', '', '', '', '', '3', '', '9676622025', '', '', '', '', '', '4', '', '768543445', '', '', '', '', '', '', '1', '', '', '', '', '', '', '', '', '', '', '', '22', '', '23', '', '24', '', '2', '', '34543245675432', '', '', '019', '', '2345643234567', '', '1', '', '']\n"
     ]
    }
   ],
   "source": [
    "#[]^$.+*?\\\n",
    "data=open(\"data1.csv\").read()\n",
    "print data\n",
    "print re.findall(\"[0-9]*\",data,re.I)"
   ]
  },
  {
   "cell_type": "code",
   "execution_count": 36,
   "metadata": {},
   "outputs": [
    {
     "name": "stdout",
     "output_type": "stream",
     "text": [
      "name1,9676622023,email1@gmaqil.com\n",
      "9676622024,name2,email2@gmaqil.com\n",
      "email3@gmaqil.com,name3,9676622025\n",
      "NAME4,768543445,Email1@GAMIL.COM\n",
      "22,23,24\n",
      "2.34543245675432E+019,2345643234567,1\n",
      "\n",
      "['n', 'a', 'm', 'e', 'e', 'm', 'a', 'i', 'l', 'g', 'm', 'a', 'q', 'i', 'l', 'c', 'o', 'm', 'n', 'a', 'm', 'e', 'e', 'm', 'a', 'i', 'l', 'g', 'm', 'a', 'q', 'i', 'l', 'c', 'o', 'm', 'e', 'm', 'a', 'i', 'l', 'g', 'm', 'a', 'q', 'i', 'l', 'c', 'o', 'm', 'n', 'a', 'm', 'e', 'N', 'A', 'M', 'E', 'E', 'm', 'a', 'i', 'l', 'G', 'A', 'M', 'I', 'L', 'C', 'O', 'M', 'E']\n"
     ]
    }
   ],
   "source": [
    "#[]^$.+*?\\\n",
    "data=open(\"data1.csv\").read()\n",
    "print data\n",
    "print re.findall(\"[a-z]\",data,re.I)"
   ]
  },
  {
   "cell_type": "code",
   "execution_count": 37,
   "metadata": {},
   "outputs": [
    {
     "data": {
      "text/plain": [
       "185"
      ]
     },
     "execution_count": 37,
     "metadata": {},
     "output_type": "execute_result"
    }
   ],
   "source": [
    "len(data)"
   ]
  },
  {
   "cell_type": "code",
   "execution_count": 38,
   "metadata": {
    "collapsed": true
   },
   "outputs": [],
   "source": [
    "data1 = data.replace(\"\\n\",\"\")"
   ]
  },
  {
   "cell_type": "code",
   "execution_count": 39,
   "metadata": {},
   "outputs": [
    {
     "name": "stdout",
     "output_type": "stream",
     "text": [
      "name1,9676622023,email1@gmaqil.com9676622024,name2,email2@gmaqil.comemail3@gmaqil.com,name3,9676622025NAME4,768543445,Email1@GAMIL.COM22,23,242.34543245675432E+019,2345643234567,1\n"
     ]
    }
   ],
   "source": [
    "print data1"
   ]
  },
  {
   "cell_type": "code",
   "execution_count": 43,
   "metadata": {},
   "outputs": [
    {
     "data": {
      "text/plain": [
       "179"
      ]
     },
     "execution_count": 43,
     "metadata": {},
     "output_type": "execute_result"
    }
   ],
   "source": [
    "len(data1)"
   ]
  },
  {
   "cell_type": "code",
   "execution_count": 41,
   "metadata": {},
   "outputs": [
    {
     "name": "stdout",
     "output_type": "stream",
     "text": [
      "name1,9676622023,email1@gmaqil.com\n",
      "9676622024,name2,email2@gmaqil.com\n",
      "email3@gmaqil.com,name3,9676622025\n",
      "NAME4,768543445,Email1@GAMIL.COM\n",
      "22,23,24\n",
      "2.34543245675432E+019,2345643234567,1\n",
      "\n",
      "['n', 'a', 'm', 'e', '1', ',', '9', '6', '7', '6', '6', '2', '2', '0', '2', '3', ',', 'e', 'm', 'a', 'i', 'l', '1', '@', 'g', 'm', 'a', 'q', 'i', 'l', '.', 'c', 'o', 'm', '9', '6', '7', '6', '6', '2', '2', '0', '2', '4', ',', 'n', 'a', 'm', 'e', '2', ',', 'e', 'm', 'a', 'i', 'l', '2', '@', 'g', 'm', 'a', 'q', 'i', 'l', '.', 'c', 'o', 'm', 'e', 'm', 'a', 'i', 'l', '3', '@', 'g', 'm', 'a', 'q', 'i', 'l', '.', 'c', 'o', 'm', ',', 'n', 'a', 'm', 'e', '3', ',', '9', '6', '7', '6', '6', '2', '2', '0', '2', '5', 'N', 'A', 'M', 'E', '4', ',', '7', '6', '8', '5', '4', '3', '4', '4', '5', ',', 'E', 'm', 'a', 'i', 'l', '1', '@', 'G', 'A', 'M', 'I', 'L', '.', 'C', 'O', 'M', '2', '2', ',', '2', '3', ',', '2', '4', '2', '.', '3', '4', '5', '4', '3', '2', '4', '5', '6', '7', '5', '4', '3', '2', 'E', '+', '0', '1', '9', ',', '2', '3', '4', '5', '6', '4', '3', '2', '3', '4', '5', '6', '7', ',', '1']\n"
     ]
    }
   ],
   "source": [
    "#[]^$.+*?\\\n",
    "data=open(\"data1.csv\").read()\n",
    "print data\n",
    "print re.findall(\".\",data,re.I)"
   ]
  },
  {
   "cell_type": "code",
   "execution_count": 42,
   "metadata": {},
   "outputs": [
    {
     "name": "stdout",
     "output_type": "stream",
     "text": [
      "name1,9676622023,email1@gmaqil.com\n",
      "9676622024,name2,email2@gmaqil.com\n",
      "email3@gmaqil.com,name3,9676622025\n",
      "NAME4,768543445,Email1@GAMIL.COM\n",
      "22,23,24\n",
      "2.34543245675432E+019,2345643234567,1\n",
      "\n",
      "179\n"
     ]
    }
   ],
   "source": [
    "#[]^$.+*?\\\n",
    "data=open(\"data1.csv\").read()\n",
    "print data\n",
    "print len(re.findall(\".\",data,re.I))"
   ]
  },
  {
   "cell_type": "code",
   "execution_count": 44,
   "metadata": {},
   "outputs": [
    {
     "name": "stdout",
     "output_type": "stream",
     "text": [
      "name1,9676622023,email1@gmaqil.com\n",
      "9676622024,name2,email2@gmaqil.com\n",
      "email3@gmaqil.com,name3,9676622025\n",
      "NAME4,768543445,Email1@GAMIL.COM\n",
      "22,23,24\n",
      "2.34543245675432E+019,2345643234567,1\n",
      "\n",
      "['', '', '', '', '1', '', '9', '6', '7', '6', '6', '2', '2', '0', '2', '3', '', '', '', '', '', '', '1', '', '', '', '', '', '', '', '', '', '', '', '', '9', '6', '7', '6', '6', '2', '2', '0', '2', '4', '', '', '', '', '', '2', '', '', '', '', '', '', '2', '', '', '', '', '', '', '', '', '', '', '', '', '', '', '', '', '', '3', '', '', '', '', '', '', '', '', '', '', '', '', '', '', '', '', '3', '', '9', '6', '7', '6', '6', '2', '2', '0', '2', '5', '', '', '', '', '', '4', '', '7', '6', '8', '5', '4', '3', '4', '4', '5', '', '', '', '', '', '', '1', '', '', '', '', '', '', '', '', '', '', '', '2', '2', '', '2', '3', '', '2', '4', '', '2', '', '3', '4', '5', '4', '3', '2', '4', '5', '6', '7', '5', '4', '3', '2', '', '', '0', '1', '9', '', '2', '3', '4', '5', '6', '4', '3', '2', '3', '4', '5', '6', '7', '', '1', '', '']\n"
     ]
    }
   ],
   "source": [
    "#[]^$.+*?\\\n",
    "data=open(\"data1.csv\").read()\n",
    "print data\n",
    "print re.findall(\"[0-9]{0,1}\",data,re.I)"
   ]
  },
  {
   "cell_type": "code",
   "execution_count": 45,
   "metadata": {},
   "outputs": [
    {
     "name": "stdout",
     "output_type": "stream",
     "text": [
      "name1,9676622023,email1@gmaqil.com\n",
      "9676622024,name2,email2@gmaqil.com\n",
      "email3@gmaqil.com,name3,9676622025\n",
      "NAME4,768543445,Email1@GAMIL.COM\n",
      "22,23,24\n",
      "2.34543245675432E+019,2345643234567,1\n",
      "\n",
      "['', '', '', '', '1', '', '9', '6', '7', '6', '6', '2', '2', '0', '2', '3', '', '', '', '', '', '', '1', '', '', '', '', '', '', '', '', '', '', '', '', '9', '6', '7', '6', '6', '2', '2', '0', '2', '4', '', '', '', '', '', '2', '', '', '', '', '', '', '2', '', '', '', '', '', '', '', '', '', '', '', '', '', '', '', '', '', '3', '', '', '', '', '', '', '', '', '', '', '', '', '', '', '', '', '3', '', '9', '6', '7', '6', '6', '2', '2', '0', '2', '5', '', '', '', '', '', '4', '', '7', '6', '8', '5', '4', '3', '4', '4', '5', '', '', '', '', '', '', '1', '', '', '', '', '', '', '', '', '', '', '', '2', '2', '', '2', '3', '', '2', '4', '', '2', '', '3', '4', '5', '4', '3', '2', '4', '5', '6', '7', '5', '4', '3', '2', '', '', '0', '1', '9', '', '2', '3', '4', '5', '6', '4', '3', '2', '3', '4', '5', '6', '7', '', '1', '', '']\n"
     ]
    }
   ],
   "source": [
    "#[]^$.+*?\\\n",
    "data=open(\"data1.csv\").read()\n",
    "print data\n",
    "print re.findall(\"[0-9]?\",data,re.I)"
   ]
  },
  {
   "cell_type": "code",
   "execution_count": 47,
   "metadata": {},
   "outputs": [
    {
     "name": "stdout",
     "output_type": "stream",
     "text": [
      "name1,9676622023,email1@gmaqil.co.in\n",
      "9676622024,name2,email2@yahoo.com\n",
      "email3@gmaqil.com,name3,9676622025\n",
      "NAME4,768543445,Email1@GAMIL.COM\n",
      "22,23,24\n",
      "2.34543245675432E+019,2345643234567,1\n",
      "\n",
      "['email1@gmaqil.co.in', 'email2@yahoo.com', 'email3@gmaqil.com', 'Email1@GAMIL.COM']\n"
     ]
    }
   ],
   "source": [
    "#sambapython@gmail.com\n",
    "#username, [a-z0-9]+\n",
    "# @, @\n",
    "#domain name, [a-z]+\n",
    "#., \\.\n",
    "#com,co.in, [comn.]{3,}\n",
    "#[]^$.+*?\\\n",
    "data=open(\"data1.csv\").read()\n",
    "print data\n",
    "print re.findall(\"[a-z0-9]+@[a-z]+\\.[comn.i]{3,}\",data,re.I)"
   ]
  },
  {
   "cell_type": "code",
   "execution_count": 48,
   "metadata": {},
   "outputs": [
    {
     "name": "stdout",
     "output_type": "stream",
     "text": [
      "name1,9676622023,email1@gmaqil.co.in\n",
      "9676622024,name2,email2@yahoo.com\n",
      "email3@gmaqil.com,name3,9676622025\n",
      "NAME4,768543445,Email1@GAMIL.COM\n",
      "22,23,24\n",
      "2.34543245675432E+019,2345643234567,1\n",
      "\n",
      "<callable-iterator object at 0x7f142030d650>\n"
     ]
    }
   ],
   "source": [
    "#sambapython@gmail.com\n",
    "#username, [a-z0-9]+\n",
    "# @, @\n",
    "#domain name, [a-z]+\n",
    "#., \\.\n",
    "#com,co.in, [comn.]{3,}\n",
    "#[]^$.+*?\\\n",
    "data=open(\"data1.csv\").read()\n",
    "print data\n",
    "numbers= re.finditer(\"[a-z0-9]+@[a-z]+\\.[comn.i]{3,}\",data,re.I)\n",
    "print numbers"
   ]
  },
  {
   "cell_type": "code",
   "execution_count": 49,
   "metadata": {},
   "outputs": [
    {
     "name": "stdout",
     "output_type": "stream",
     "text": [
      "name1,9676622023,email1@gmaqil.co.in\n",
      "9676622024,name2,email2@yahoo.com\n",
      "email3@gmaqil.com,name3,9676622025\n",
      "NAME4,768543445,Email1@GAMIL.COM\n",
      "22,23,24\n",
      "2.34543245675432E+019,2345643234567,1\n",
      "\n",
      "<callable-iterator object at 0x7f142030da50>\n",
      "<_sre.SRE_Match object at 0x7f14202e46b0>\n",
      "<_sre.SRE_Match object at 0x7f14202e4718>\n",
      "<_sre.SRE_Match object at 0x7f14202e46b0>\n",
      "<_sre.SRE_Match object at 0x7f14202e4718>\n"
     ]
    }
   ],
   "source": [
    "#sambapython@gmail.com\n",
    "#username, [a-z0-9]+\n",
    "# @, @\n",
    "#domain name, [a-z]+\n",
    "#., \\.\n",
    "#com,co.in, [comn.]{3,}\n",
    "#[]^$.+*?\\\n",
    "data=open(\"data1.csv\").read()\n",
    "print data\n",
    "numbers= re.finditer(\"[a-z0-9]+@[a-z]+\\.[comn.i]{3,}\",data,re.I)\n",
    "print numbers\n",
    "for number in numbers:\n",
    "    print number"
   ]
  },
  {
   "cell_type": "code",
   "execution_count": 50,
   "metadata": {},
   "outputs": [
    {
     "name": "stdout",
     "output_type": "stream",
     "text": [
      "name1,9676622023,email1@gmaqil.co.in\n",
      "9676622024,name2,email2@yahoo.com\n",
      "email3@gmaqil.com,name3,9676622025\n",
      "NAME4,768543445,Email1@GAMIL.COM\n",
      "22,23,24\n",
      "2.34543245675432E+019,2345643234567,1\n",
      "\n",
      "<callable-iterator object at 0x7f142030d350>\n",
      "email1@gmaqil.co.in\n",
      "email2@yahoo.com\n",
      "email3@gmaqil.com\n",
      "Email1@GAMIL.COM\n"
     ]
    }
   ],
   "source": [
    "#sambapython@gmail.com\n",
    "#username, [a-z0-9]+\n",
    "# @, @\n",
    "#domain name, [a-z]+\n",
    "#., \\.\n",
    "#com,co.in, [comn.]{3,}\n",
    "#[]^$.+*?\\\n",
    "data=open(\"data1.csv\").read()\n",
    "print data\n",
    "numbers= re.finditer(\"[a-z0-9]+@[a-z]+\\.[comn.i]{3,}\",data,re.I)\n",
    "print numbers\n",
    "for number in numbers:\n",
    "    print number.group(0)"
   ]
  },
  {
   "cell_type": "code",
   "execution_count": 52,
   "metadata": {},
   "outputs": [
    {
     "name": "stdout",
     "output_type": "stream",
     "text": [
      "name1,9676622023,email1@gmaqil.co.in\n",
      "9676622024,name2,email2@yahoo.com\n",
      "email3@gmaqil.com,name3,9676622025\n",
      "NAME4,768543445,Email1@GAMIL.COM\n",
      "22,23,24\n",
      "2.34543245675432E+019,2345643234567,1\n",
      "\n",
      "None\n"
     ]
    }
   ],
   "source": [
    "#sambapython@gmail.com\n",
    "#username, [a-z0-9]+\n",
    "# @, @\n",
    "#domain name, [a-z]+\n",
    "#., \\.\n",
    "#com,co.in, [comn.]{3,}\n",
    "#[]^$.+*?\\\n",
    "data=open(\"data1.csv\").read()\n",
    "print data\n",
    "print re.match(\"[a-z0-9]+@[a-z]+\\.[comn.i]{3,}\",data,re.I)\n"
   ]
  },
  {
   "cell_type": "code",
   "execution_count": 53,
   "metadata": {},
   "outputs": [
    {
     "name": "stdout",
     "output_type": "stream",
     "text": [
      "name1,9676622023,email1@gmaqil.co.in\n",
      "9676622024,name2,email2@yahoo.com\n",
      "email3@gmaqil.com,name3,9676622025\n",
      "NAME4,768543445,Email1@GAMIL.COM\n",
      "22,23,24\n",
      "2.34543245675432E+019,2345643234567,1\n",
      "\n",
      "<_sre.SRE_Match object at 0x7f14202e4a58>\n"
     ]
    }
   ],
   "source": [
    "#sambapython@gmail.com\n",
    "#username, [a-z0-9]+\n",
    "# @, @\n",
    "#domain name, [a-z]+\n",
    "#., \\.\n",
    "#com,co.in, [comn.]{3,}\n",
    "#[]^$.+*?\\\n",
    "data=open(\"data1.csv\").read()\n",
    "print data\n",
    "print re.search(\"[a-z0-9]+@[a-z]+\\.[comn.i]{3,}\",data,re.I)\n"
   ]
  },
  {
   "cell_type": "code",
   "execution_count": 54,
   "metadata": {},
   "outputs": [
    {
     "name": "stdout",
     "output_type": "stream",
     "text": [
      "name1,9676622023,email1@gmaqil.co.in\n",
      "9676622024,name2,email2@yahoo.com\n",
      "email3@gmaqil.com,name3,9676622025\n",
      "NAME4,768543445,Email1@GAMIL.COM\n",
      "22,23,24\n",
      "2.34543245675432E+019,2345643234567,1\n",
      "\n",
      "<_sre.SRE_Match object at 0x7f14202e4b28>\n"
     ]
    }
   ],
   "source": [
    "#sambapython@gmail.com\n",
    "#username, [a-z0-9]+\n",
    "# @, @\n",
    "#domain name, [a-z]+\n",
    "#., \\.\n",
    "#com,co.in, [comn.]{3,}\n",
    "#[]^$.+*?\\\n",
    "data=open(\"data1.csv\").read()\n",
    "print data\n",
    "print re.match(\"[a-z]\",data,re.I)\n"
   ]
  },
  {
   "cell_type": "code",
   "execution_count": 55,
   "metadata": {},
   "outputs": [
    {
     "name": "stdout",
     "output_type": "stream",
     "text": [
      "name1,9676622023,email1@gmaqil.co.in\n",
      "9676622024,name2,email2@yahoo.com\n",
      "email3@gmaqil.com,name3,9676622025\n",
      "NAME4,768543445,Email1@GAMIL.COM\n",
      "22,23,24\n",
      "2.34543245675432E+019,2345643234567,1\n",
      "\n",
      "n\n"
     ]
    }
   ],
   "source": [
    "#sambapython@gmail.com\n",
    "#username, [a-z0-9]+\n",
    "# @, @\n",
    "#domain name, [a-z]+\n",
    "#., \\.\n",
    "#com,co.in, [comn.]{3,}\n",
    "#[]^$.+*?\\\n",
    "data=open(\"data1.csv\").read()\n",
    "print data\n",
    "print re.match(\"[a-z]\",data,re.I).group(0)\n"
   ]
  },
  {
   "cell_type": "code",
   "execution_count": 56,
   "metadata": {
    "collapsed": true
   },
   "outputs": [],
   "source": [
    "#\\d, \\w, \\D, \\W,\\s, \\S"
   ]
  },
  {
   "cell_type": "code",
   "execution_count": 57,
   "metadata": {},
   "outputs": [
    {
     "name": "stdout",
     "output_type": "stream",
     "text": [
      "name1,9676622023,email1@gmaqil.co.in\n",
      "9676622024,name2,email2@yahoo.com\n",
      "email3@gmaqil.com,name3,9676622025\n",
      "NAME4,768543445,Email1@GAMIL.COM\n",
      "22,23,24\n",
      "2.34543245675432E+019,2345643234567,1\n",
      "\n"
     ]
    },
    {
     "data": {
      "text/plain": [
       "['email1@gmaqil.co.in', 'email2@yahoo.com', 'email3@gmaqil.com']"
      ]
     },
     "execution_count": 57,
     "metadata": {},
     "output_type": "execute_result"
    }
   ],
   "source": [
    "#sambapython@gmail.com\n",
    "#username, [a-z0-9]+\n",
    "# @, @\n",
    "#domain name, [a-z]+\n",
    "#., \\.\n",
    "#com,co.in, [comn.]{3,}\n",
    "#[]^$.+*?\\\n",
    "data=open(\"data1.csv\").read()\n",
    "print data\n",
    "email_reg= re.compile(\"[a-z0-9]+@[a-z]+\\.[comn.i]{3,}\")\n",
    "\n",
    "#sales.py\n",
    "email_reg.findall(data)"
   ]
  },
  {
   "cell_type": "code",
   "execution_count": 58,
   "metadata": {},
   "outputs": [
    {
     "name": "stdout",
     "output_type": "stream",
     "text": [
      "name1,9676622023,email1@gmaqil.co.in\n",
      "9676622024,name2,email2@yahoo.com\n",
      "email3@gmaqil.com,name3,9676622025\n",
      "NAME4,768543445,Email1@GAMIL.COM\n",
      "22,23,24\n",
      "2.34543245675432E+019,2345643234567,1\n",
      "\n",
      "['email1@gmaqil.co.in', 'email2@yahoo.com', 'email3@gmaqil.com']\n",
      "['email1@gmaqil.co.in', 'email2@yahoo.com', 'email3@gmaqil.com']\n"
     ]
    }
   ],
   "source": [
    "#sambapython@gmail.com\n",
    "#username, [a-z0-9]+\n",
    "# @, @\n",
    "#domain name, [a-z]+\n",
    "#., \\.\n",
    "#com,co.in, [comn.]{3,}\n",
    "#[]^$.+*?\\\n",
    "data=open(\"data1.csv\").read()\n",
    "print data\n",
    "email_reg= re.compile(\"[a-z0-9]+@[a-z]+\\.[comn.i]{3,}\")\n",
    "\n",
    "#sales.py\n",
    "print email_reg.findall(data)\n",
    "\n",
    "# pur\n",
    "print email_reg.findall(data)"
   ]
  },
  {
   "cell_type": "code",
   "execution_count": null,
   "metadata": {
    "collapsed": true
   },
   "outputs": [],
   "source": []
  }
 ],
 "metadata": {
  "kernelspec": {
   "display_name": "Python 2",
   "language": "python",
   "name": "python2"
  },
  "language_info": {
   "codemirror_mode": {
    "name": "ipython",
    "version": 2
   },
   "file_extension": ".py",
   "mimetype": "text/x-python",
   "name": "python",
   "nbconvert_exporter": "python",
   "pygments_lexer": "ipython2",
   "version": "2.7.14"
  }
 },
 "nbformat": 4,
 "nbformat_minor": 2
}
