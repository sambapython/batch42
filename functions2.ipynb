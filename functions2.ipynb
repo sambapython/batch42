{
 "cells": [
  {
   "cell_type": "code",
   "execution_count": 1,
   "metadata": {},
   "outputs": [
    {
     "name": "stdout",
     "output_type": "stream",
     "text": [
      "this is fun\n"
     ]
    }
   ],
   "source": [
    "def fun():\n",
    "    print \"this is fun\"\n",
    "fun()"
   ]
  },
  {
   "cell_type": "code",
   "execution_count": 2,
   "metadata": {},
   "outputs": [
    {
     "name": "stdout",
     "output_type": "stream",
     "text": [
      "100\n",
      "200\n",
      "100\n"
     ]
    },
    {
     "ename": "NameError",
     "evalue": "name 'b' is not defined",
     "output_type": "error",
     "traceback": [
      "\u001b[0;31m---------------------------------------------------------------------------\u001b[0m",
      "\u001b[0;31mNameError\u001b[0m                                 Traceback (most recent call last)",
      "\u001b[0;32m<ipython-input-2-00e55ac45123>\u001b[0m in \u001b[0;36m<module>\u001b[0;34m()\u001b[0m\n\u001b[1;32m      6\u001b[0m \u001b[0mfun\u001b[0m\u001b[0;34m(\u001b[0m\u001b[0;34m)\u001b[0m\u001b[0;34m\u001b[0m\u001b[0m\n\u001b[1;32m      7\u001b[0m \u001b[0;32mprint\u001b[0m \u001b[0ma\u001b[0m\u001b[0;34m\u001b[0m\u001b[0m\n\u001b[0;32m----> 8\u001b[0;31m \u001b[0;32mprint\u001b[0m \u001b[0mb\u001b[0m\u001b[0;34m\u001b[0m\u001b[0m\n\u001b[0m",
      "\u001b[0;31mNameError\u001b[0m: name 'b' is not defined"
     ]
    }
   ],
   "source": [
    "a=100\n",
    "def fun():\n",
    "    b=200\n",
    "    print a\n",
    "    print b\n",
    "fun()\n",
    "print a\n",
    "print b"
   ]
  },
  {
   "cell_type": "code",
   "execution_count": 3,
   "metadata": {},
   "outputs": [
    {
     "name": "stdout",
     "output_type": "stream",
     "text": [
      "100\n",
      "200\n",
      "100\n",
      "200\n"
     ]
    }
   ],
   "source": [
    "a=100\n",
    "b=4000\n",
    "def fun():\n",
    "    global b\n",
    "    b=200\n",
    "    print a\n",
    "    print b\n",
    "fun()\n",
    "print a\n",
    "print b"
   ]
  },
  {
   "cell_type": "code",
   "execution_count": 4,
   "metadata": {},
   "outputs": [
    {
     "name": "stdout",
     "output_type": "stream",
     "text": [
      "<function fun at 0x7f9e080385f0>\n"
     ]
    }
   ],
   "source": [
    "print fun"
   ]
  },
  {
   "cell_type": "code",
   "execution_count": 5,
   "metadata": {
    "collapsed": true
   },
   "outputs": [],
   "source": [
    "f1=fun"
   ]
  },
  {
   "cell_type": "code",
   "execution_count": 6,
   "metadata": {},
   "outputs": [
    {
     "name": "stdout",
     "output_type": "stream",
     "text": [
      "100\n",
      "200\n"
     ]
    }
   ],
   "source": [
    "f1()"
   ]
  },
  {
   "cell_type": "code",
   "execution_count": 7,
   "metadata": {},
   "outputs": [
    {
     "name": "stdout",
     "output_type": "stream",
     "text": [
      "100\n",
      "200\n"
     ]
    }
   ],
   "source": [
    "fun()"
   ]
  },
  {
   "cell_type": "code",
   "execution_count": 8,
   "metadata": {},
   "outputs": [
    {
     "name": "stdout",
     "output_type": "stream",
     "text": [
      "<function fun at 0x7f9e080b4aa0>\n"
     ]
    }
   ],
   "source": [
    "def fun():\n",
    "    a=100\n",
    "    b=200\n",
    "    c=a+b\n",
    "    print c\n",
    "print fun"
   ]
  },
  {
   "cell_type": "code",
   "execution_count": 10,
   "metadata": {},
   "outputs": [
    {
     "name": "stdout",
     "output_type": "stream",
     "text": [
      "<function fun at 0x7f9e080b4aa0>\n",
      "c= 300\n"
     ]
    }
   ],
   "source": [
    "def fun():\n",
    "    a=100\n",
    "    b=200\n",
    "    c=a+b\n",
    "    print \"c=\",c\n",
    "print fun\n",
    "fun()"
   ]
  },
  {
   "cell_type": "code",
   "execution_count": 11,
   "metadata": {},
   "outputs": [
    {
     "name": "stdout",
     "output_type": "stream",
     "text": [
      "<function fun at 0x7f9e08038668>\n",
      "<type 'function'>\n",
      "c= 300\n",
      "None\n"
     ]
    }
   ],
   "source": [
    "def fun():\n",
    "    a=100\n",
    "    b=200\n",
    "    c=a+b\n",
    "    print \"c=\",c\n",
    "print fun\n",
    "print type(fun)\n",
    "print fun()"
   ]
  },
  {
   "cell_type": "code",
   "execution_count": 12,
   "metadata": {},
   "outputs": [
    {
     "name": "stdout",
     "output_type": "stream",
     "text": [
      "<function fun at 0x7f9e080b4aa0>\n",
      "<type 'function'>\n",
      "c= 300\n",
      "abcd\n"
     ]
    }
   ],
   "source": [
    "def fun():\n",
    "    a=100\n",
    "    b=200\n",
    "    c=a+b\n",
    "    print \"c=\",c\n",
    "    return \"abcd\"\n",
    "print fun\n",
    "print type(fun)\n",
    "print fun()"
   ]
  },
  {
   "cell_type": "code",
   "execution_count": 13,
   "metadata": {},
   "outputs": [
    {
     "name": "stdout",
     "output_type": "stream",
     "text": [
      "<function fun at 0x7f9e080386e0>\n",
      "<type 'function'>\n",
      "c= 300\n",
      "res1= <function fun at 0x7f9e080386e0>\n",
      "res= abcd\n"
     ]
    }
   ],
   "source": [
    "def fun():\n",
    "    a=100\n",
    "    b=200\n",
    "    c=a+b\n",
    "    print \"c=\",c\n",
    "    return \"abcd\"\n",
    "print fun\n",
    "print type(fun)\n",
    "res1=fun\n",
    "res=fun()\n",
    "print \"res1=\",res1\n",
    "print \"res=\",res"
   ]
  },
  {
   "cell_type": "code",
   "execution_count": 14,
   "metadata": {},
   "outputs": [
    {
     "name": "stdout",
     "output_type": "stream",
     "text": [
      "c= 300\n",
      "res= abcd\n"
     ]
    }
   ],
   "source": [
    "def fun():\n",
    "    a=100\n",
    "    b=200\n",
    "    c=a+b\n",
    "    print \"c=\",c\n",
    "    return \"abcd\"\n",
    "res=fun()\n",
    "print \"res=\",res"
   ]
  },
  {
   "cell_type": "code",
   "execution_count": 15,
   "metadata": {},
   "outputs": [
    {
     "name": "stdout",
     "output_type": "stream",
     "text": [
      "c= 300\n",
      "res= 300\n"
     ]
    }
   ],
   "source": [
    "def fun():\n",
    "    a=100\n",
    "    b=200\n",
    "    c=a+b\n",
    "    print \"c=\",c\n",
    "    return c\n",
    "res=fun()\n",
    "print \"res=\",res"
   ]
  },
  {
   "cell_type": "code",
   "execution_count": 16,
   "metadata": {},
   "outputs": [
    {
     "name": "stdout",
     "output_type": "stream",
     "text": [
      "res= 300\n"
     ]
    }
   ],
   "source": [
    "def fun():\n",
    "    a=100\n",
    "    b=200\n",
    "    c=a+b\n",
    "    return c\n",
    "res=fun()\n",
    "print \"res=\",res"
   ]
  },
  {
   "cell_type": "code",
   "execution_count": 18,
   "metadata": {},
   "outputs": [
    {
     "name": "stdout",
     "output_type": "stream",
     "text": [
      "a=10, b=20\n",
      "res= 30\n"
     ]
    }
   ],
   "source": [
    "def fun(a,b):\n",
    "    print \"a=%s, b=%s\"%(a,b)\n",
    "    c=a+b\n",
    "    return c\n",
    "res=fun(10,20)\n",
    "print \"res=\",res"
   ]
  },
  {
   "cell_type": "code",
   "execution_count": 19,
   "metadata": {},
   "outputs": [
    {
     "name": "stdout",
     "output_type": "stream",
     "text": [
      "a=100.000000, b=200.000000\n",
      "res= None\n"
     ]
    }
   ],
   "source": [
    "def fun(a,b):\n",
    "    print \"a=%f, b=%f\"%(a,b)\n",
    "    c=a+b\n",
    "    \n",
    "res=fun(100,200)\n",
    "print \"res=\",res"
   ]
  },
  {
   "cell_type": "code",
   "execution_count": 20,
   "metadata": {},
   "outputs": [
    {
     "name": "stdout",
     "output_type": "stream",
     "text": [
      "a=100, b=200\n",
      "<type 'int'>\n",
      "<type 'int'>\n",
      "res= None\n"
     ]
    }
   ],
   "source": [
    "def fun(a,b):\n",
    "    print \"a=%s, b=%s\"%(a,b)\n",
    "    print type(a)\n",
    "    print type(b)\n",
    "    c=a+b\n",
    "    \n",
    "res=fun(100,200)\n",
    "print \"res=\",res"
   ]
  },
  {
   "cell_type": "code",
   "execution_count": 21,
   "metadata": {},
   "outputs": [
    {
     "name": "stdout",
     "output_type": "stream",
     "text": [
      "a=100, b=200\n",
      "res= 300\n"
     ]
    }
   ],
   "source": [
    "def fun(a,b):\n",
    "    print \"a=%s, b=%s\"%(a,b)\n",
    "    c=a+b\n",
    "    d=a-b\n",
    "    e=a*b\n",
    "    f=a/b\n",
    "    return c\n",
    "    \n",
    "res=fun(100,200)\n",
    "print \"res=\",res"
   ]
  },
  {
   "cell_type": "code",
   "execution_count": 22,
   "metadata": {},
   "outputs": [
    {
     "name": "stdout",
     "output_type": "stream",
     "text": [
      "a=100, b=200\n",
      "res= (300, -100)\n"
     ]
    }
   ],
   "source": [
    "def fun(a,b):\n",
    "    print \"a=%s, b=%s\"%(a,b)\n",
    "    c=a+b\n",
    "    d=a-b\n",
    "    e=a*b\n",
    "    f=a/b\n",
    "    return c,d\n",
    "    \n",
    "res=fun(100,200)\n",
    "print \"res=\",res"
   ]
  },
  {
   "cell_type": "code",
   "execution_count": 23,
   "metadata": {},
   "outputs": [
    {
     "name": "stdout",
     "output_type": "stream",
     "text": [
      "a=100, b=200\n",
      "res= (300, -100, 20000, 0)\n"
     ]
    }
   ],
   "source": [
    "def fun(a,b):\n",
    "    print \"a=%s, b=%s\"%(a,b)\n",
    "    c=a+b\n",
    "    d=a-b\n",
    "    e=a*b\n",
    "    f=a/b\n",
    "    return c,d,e,f\n",
    "    \n",
    "res=fun(100,200)\n",
    "print \"res=\",res"
   ]
  },
  {
   "cell_type": "code",
   "execution_count": 24,
   "metadata": {},
   "outputs": [
    {
     "name": "stdout",
     "output_type": "stream",
     "text": [
      "a=100, b=200\n",
      "res= 300\n"
     ]
    }
   ],
   "source": [
    "def fun(a,b):\n",
    "    print \"a=%s, b=%s\"%(a,b)\n",
    "    c=a+b\n",
    "    d=a-b\n",
    "    e=a*b\n",
    "    f=a/b\n",
    "    return c\n",
    "    return d\n",
    "    return e\n",
    "    return f\n",
    "    \n",
    "    \n",
    "res=fun(100,200)\n",
    "print \"res=\",res"
   ]
  },
  {
   "cell_type": "code",
   "execution_count": 25,
   "metadata": {},
   "outputs": [
    {
     "name": "stdout",
     "output_type": "stream",
     "text": [
      "st1\n",
      "res= 10\n"
     ]
    }
   ],
   "source": [
    "def fun():\n",
    "    print \"st1\"\n",
    "    return 10\n",
    "    print \"st2\"\n",
    "    return 20\n",
    "    print \"st3\"\n",
    "    return 30\n",
    "res=fun()\n",
    "print \"res=\",res"
   ]
  },
  {
   "cell_type": "code",
   "execution_count": 26,
   "metadata": {},
   "outputs": [
    {
     "name": "stdout",
     "output_type": "stream",
     "text": [
      "res= 300\n",
      "res1= 3000\n",
      "res2= 30000\n"
     ]
    }
   ],
   "source": [
    "def fun(a,b):\n",
    "    c=a+b\n",
    "    return c\n",
    "res=fun(100,200)\n",
    "res1=fun(1000,2000)\n",
    "res2=fun(10000,20000)\n",
    "print \"res=\",res\n",
    "print \"res1=\",res1\n",
    "print \"res2=\",res2"
   ]
  },
  {
   "cell_type": "code",
   "execution_count": 27,
   "metadata": {},
   "outputs": [
    {
     "name": "stdout",
     "output_type": "stream",
     "text": [
      "res= None\n",
      "res1= None\n",
      "res2= None\n"
     ]
    }
   ],
   "source": [
    "def fun(a,b):\n",
    "    c=a+b\n",
    "    #return c\n",
    "res=fun(100,200)\n",
    "res1=fun(1000,2000)\n",
    "res2=fun(10000,20000)\n",
    "print \"res=\",res\n",
    "print \"res1=\",res1\n",
    "print \"res2=\",res2"
   ]
  },
  {
   "cell_type": "code",
   "execution_count": 28,
   "metadata": {},
   "outputs": [
    {
     "name": "stdout",
     "output_type": "stream",
     "text": [
      "res= 300\n"
     ]
    }
   ],
   "source": [
    "def fun(a,b):\n",
    "    c=a+b\n",
    "    return c\n",
    "res=fun(100,200)\n",
    "print \"res=\",res"
   ]
  },
  {
   "cell_type": "code",
   "execution_count": 29,
   "metadata": {},
   "outputs": [
    {
     "ename": "TypeError",
     "evalue": "fun() takes exactly 2 arguments (1 given)",
     "output_type": "error",
     "traceback": [
      "\u001b[0;31m---------------------------------------------------------------------------\u001b[0m",
      "\u001b[0;31mTypeError\u001b[0m                                 Traceback (most recent call last)",
      "\u001b[0;32m<ipython-input-29-e546280c20dd>\u001b[0m in \u001b[0;36m<module>\u001b[0;34m()\u001b[0m\n\u001b[1;32m      2\u001b[0m     \u001b[0mc\u001b[0m\u001b[0;34m=\u001b[0m\u001b[0ma\u001b[0m\u001b[0;34m+\u001b[0m\u001b[0mb\u001b[0m\u001b[0;34m\u001b[0m\u001b[0m\n\u001b[1;32m      3\u001b[0m     \u001b[0;32mreturn\u001b[0m \u001b[0mc\u001b[0m\u001b[0;34m\u001b[0m\u001b[0m\n\u001b[0;32m----> 4\u001b[0;31m \u001b[0mres\u001b[0m\u001b[0;34m=\u001b[0m\u001b[0mfun\u001b[0m\u001b[0;34m(\u001b[0m\u001b[0;36m100\u001b[0m\u001b[0;34m)\u001b[0m\u001b[0;34m\u001b[0m\u001b[0m\n\u001b[0m\u001b[1;32m      5\u001b[0m \u001b[0;32mprint\u001b[0m \u001b[0;34m\"res=\"\u001b[0m\u001b[0;34m,\u001b[0m\u001b[0mres\u001b[0m\u001b[0;34m\u001b[0m\u001b[0m\n",
      "\u001b[0;31mTypeError\u001b[0m: fun() takes exactly 2 arguments (1 given)"
     ]
    }
   ],
   "source": [
    "def fun(a,b):\n",
    "    c=a+b\n",
    "    return c\n",
    "res=fun(100)\n",
    "print \"res=\",res"
   ]
  },
  {
   "cell_type": "code",
   "execution_count": 30,
   "metadata": {},
   "outputs": [
    {
     "ename": "TypeError",
     "evalue": "fun() takes exactly 2 arguments (3 given)",
     "output_type": "error",
     "traceback": [
      "\u001b[0;31m---------------------------------------------------------------------------\u001b[0m",
      "\u001b[0;31mTypeError\u001b[0m                                 Traceback (most recent call last)",
      "\u001b[0;32m<ipython-input-30-0f771b169e91>\u001b[0m in \u001b[0;36m<module>\u001b[0;34m()\u001b[0m\n\u001b[1;32m      2\u001b[0m     \u001b[0mc\u001b[0m\u001b[0;34m=\u001b[0m\u001b[0ma\u001b[0m\u001b[0;34m+\u001b[0m\u001b[0mb\u001b[0m\u001b[0;34m\u001b[0m\u001b[0m\n\u001b[1;32m      3\u001b[0m     \u001b[0;32mreturn\u001b[0m \u001b[0mc\u001b[0m\u001b[0;34m\u001b[0m\u001b[0m\n\u001b[0;32m----> 4\u001b[0;31m \u001b[0mres\u001b[0m\u001b[0;34m=\u001b[0m\u001b[0mfun\u001b[0m\u001b[0;34m(\u001b[0m\u001b[0;36m100\u001b[0m\u001b[0;34m,\u001b[0m\u001b[0;36m200\u001b[0m\u001b[0;34m,\u001b[0m\u001b[0;36m300\u001b[0m\u001b[0;34m)\u001b[0m\u001b[0;34m\u001b[0m\u001b[0m\n\u001b[0m\u001b[1;32m      5\u001b[0m \u001b[0;32mprint\u001b[0m \u001b[0;34m\"res=\"\u001b[0m\u001b[0;34m,\u001b[0m\u001b[0mres\u001b[0m\u001b[0;34m\u001b[0m\u001b[0m\n",
      "\u001b[0;31mTypeError\u001b[0m: fun() takes exactly 2 arguments (3 given)"
     ]
    }
   ],
   "source": [
    "def fun(a,b):\n",
    "    c=a+b\n",
    "    return c\n",
    "res=fun(100,200,300)\n",
    "print \"res=\",res"
   ]
  },
  {
   "cell_type": "code",
   "execution_count": 31,
   "metadata": {},
   "outputs": [
    {
     "name": "stdout",
     "output_type": "stream",
     "text": [
      "a=100, b=200, c=300, d=0,e=0\n",
      "res= 600\n"
     ]
    }
   ],
   "source": [
    "def fun(a,b,c=0,d=0,e=0):\n",
    "    print \"a=%s, b=%s, c=%s, d=%s,e=%s\"%(a,b,c,d,e)\n",
    "    c1=a+b+c+d+e\n",
    "    return c1\n",
    "res=fun(100,200,300)\n",
    "print \"res=\",res"
   ]
  },
  {
   "cell_type": "code",
   "execution_count": 33,
   "metadata": {},
   "outputs": [
    {
     "name": "stdout",
     "output_type": "stream",
     "text": [
      "a=10, b=20, c=0, d=0,e=0\n",
      "a=10, b=20, c=30, d=0,e=0\n",
      "a=10, b=20, c=30, d=40,e=0\n",
      "a=10, b=20, c=30, d=40,e=50\n",
      "res= 30\n",
      "res1= 60\n",
      "res2= 100\n",
      "res3= 150\n"
     ]
    }
   ],
   "source": [
    "def fun(a,b,c=0,d=0,e=0):\n",
    "    print \"a=%s, b=%s, c=%s, d=%s,e=%s\"%(a,b,c,d,e)\n",
    "    c1=a+b+c+d+e\n",
    "    return c1\n",
    "res=fun(10,20)\n",
    "res1=fun(10,20,30)\n",
    "res2=fun(10,20,30,40)\n",
    "res3=fun(10,20,30,40,50)\n",
    "print \"res=\",res\n",
    "print \"res1=\",res1\n",
    "print \"res2=\",res2\n",
    "print \"res3=\",res3"
   ]
  },
  {
   "cell_type": "code",
   "execution_count": 34,
   "metadata": {},
   "outputs": [
    {
     "name": "stdout",
     "output_type": "stream",
     "text": [
      "a=10, b=20, c=0, d=0,e=0\n",
      "a=10, b=20, c=30, d=0,e=0\n",
      "a=10, b=20, c=30, d=40,e=0\n",
      "a=10, b=20, c=30, d=40,e=50\n",
      "res= 30\n",
      "res1= 60\n",
      "res2= 100\n",
      "res3= 150\n"
     ]
    },
    {
     "ename": "TypeError",
     "evalue": "fun() takes at least 2 arguments (1 given)",
     "output_type": "error",
     "traceback": [
      "\u001b[0;31m---------------------------------------------------------------------------\u001b[0m",
      "\u001b[0;31mTypeError\u001b[0m                                 Traceback (most recent call last)",
      "\u001b[0;32m<ipython-input-34-aea4c016d6d6>\u001b[0m in \u001b[0;36m<module>\u001b[0;34m()\u001b[0m\n\u001b[1;32m     11\u001b[0m \u001b[0;32mprint\u001b[0m \u001b[0;34m\"res2=\"\u001b[0m\u001b[0;34m,\u001b[0m\u001b[0mres2\u001b[0m\u001b[0;34m\u001b[0m\u001b[0m\n\u001b[1;32m     12\u001b[0m \u001b[0;32mprint\u001b[0m \u001b[0;34m\"res3=\"\u001b[0m\u001b[0;34m,\u001b[0m\u001b[0mres3\u001b[0m\u001b[0;34m\u001b[0m\u001b[0m\n\u001b[0;32m---> 13\u001b[0;31m \u001b[0mres4\u001b[0m\u001b[0;34m=\u001b[0m\u001b[0mfun\u001b[0m\u001b[0;34m(\u001b[0m\u001b[0;36m10\u001b[0m\u001b[0;34m)\u001b[0m\u001b[0;34m\u001b[0m\u001b[0m\n\u001b[0m\u001b[1;32m     14\u001b[0m \u001b[0;32mprint\u001b[0m \u001b[0;34m\"res4=\"\u001b[0m\u001b[0;34m,\u001b[0m\u001b[0mres4\u001b[0m\u001b[0;34m\u001b[0m\u001b[0m\n",
      "\u001b[0;31mTypeError\u001b[0m: fun() takes at least 2 arguments (1 given)"
     ]
    }
   ],
   "source": [
    "def fun(a,b,c=0,d=0,e=0):\n",
    "    print \"a=%s, b=%s, c=%s, d=%s,e=%s\"%(a,b,c,d,e)\n",
    "    c1=a+b+c+d+e\n",
    "    return c1\n",
    "res=fun(10,20)\n",
    "res1=fun(10,20,30)\n",
    "res2=fun(10,20,30,40)\n",
    "res3=fun(10,20,30,40,50)\n",
    "print \"res=\",res\n",
    "print \"res1=\",res1\n",
    "print \"res2=\",res2\n",
    "print \"res3=\",res3\n",
    "res4=fun(10)\n",
    "print \"res4=\",res4"
   ]
  },
  {
   "cell_type": "code",
   "execution_count": 35,
   "metadata": {},
   "outputs": [
    {
     "name": "stdout",
     "output_type": "stream",
     "text": [
      "a=10, b=20, c=0, d=0,e=0\n",
      "a=10, b=20, c=30, d=0,e=0\n",
      "a=10, b=20, c=30, d=40,e=0\n",
      "a=10, b=20, c=30, d=40,e=50\n",
      "res= 30\n",
      "res1= 60\n",
      "res2= 100\n",
      "res3= 150\n"
     ]
    },
    {
     "ename": "TypeError",
     "evalue": "fun() takes at most 5 arguments (6 given)",
     "output_type": "error",
     "traceback": [
      "\u001b[0;31m---------------------------------------------------------------------------\u001b[0m",
      "\u001b[0;31mTypeError\u001b[0m                                 Traceback (most recent call last)",
      "\u001b[0;32m<ipython-input-35-acdcf320e41a>\u001b[0m in \u001b[0;36m<module>\u001b[0;34m()\u001b[0m\n\u001b[1;32m     11\u001b[0m \u001b[0;32mprint\u001b[0m \u001b[0;34m\"res2=\"\u001b[0m\u001b[0;34m,\u001b[0m\u001b[0mres2\u001b[0m\u001b[0;34m\u001b[0m\u001b[0m\n\u001b[1;32m     12\u001b[0m \u001b[0;32mprint\u001b[0m \u001b[0;34m\"res3=\"\u001b[0m\u001b[0;34m,\u001b[0m\u001b[0mres3\u001b[0m\u001b[0;34m\u001b[0m\u001b[0m\n\u001b[0;32m---> 13\u001b[0;31m \u001b[0mres4\u001b[0m\u001b[0;34m=\u001b[0m\u001b[0mfun\u001b[0m\u001b[0;34m(\u001b[0m\u001b[0;36m10\u001b[0m\u001b[0;34m,\u001b[0m\u001b[0;36m20\u001b[0m\u001b[0;34m,\u001b[0m\u001b[0;36m30\u001b[0m\u001b[0;34m,\u001b[0m\u001b[0;36m40\u001b[0m\u001b[0;34m,\u001b[0m\u001b[0;36m50\u001b[0m\u001b[0;34m,\u001b[0m\u001b[0;36m60\u001b[0m\u001b[0;34m)\u001b[0m\u001b[0;34m\u001b[0m\u001b[0m\n\u001b[0m\u001b[1;32m     14\u001b[0m \u001b[0;32mprint\u001b[0m \u001b[0;34m\"res4=\"\u001b[0m\u001b[0;34m,\u001b[0m\u001b[0mres4\u001b[0m\u001b[0;34m\u001b[0m\u001b[0m\n",
      "\u001b[0;31mTypeError\u001b[0m: fun() takes at most 5 arguments (6 given)"
     ]
    }
   ],
   "source": [
    "#default parameter\n",
    "def fun(a,b,c=0,d=0,e=0):\n",
    "    print \"a=%s, b=%s, c=%s, d=%s,e=%s\"%(a,b,c,d,e)\n",
    "    c1=a+b+c+d+e\n",
    "    return c1\n",
    "res=fun(10,20)\n",
    "res1=fun(10,20,30)\n",
    "res2=fun(10,20,30,40)\n",
    "res3=fun(10,20,30,40,50)\n",
    "print \"res=\",res\n",
    "print \"res1=\",res1\n",
    "print \"res2=\",res2\n",
    "print \"res3=\",res3\n",
    "res4=fun(10,20,30,40,50,60)\n",
    "print \"res4=\",res4"
   ]
  },
  {
   "cell_type": "code",
   "execution_count": 38,
   "metadata": {},
   "outputs": [
    {
     "name": "stdout",
     "output_type": "stream",
     "text": [
      "a=10, b=20, c=0, d=0,e=0\n",
      "a=10, b=20, c=1, d=1,e=1\n",
      "result: (30, 200)\n"
     ]
    }
   ],
   "source": [
    "def fun(a,b,c=0,d=0,e=0):\n",
    "    print \"a=%s, b=%s, c=%s, d=%s,e=%s\"%(a,b,c,d,e)\n",
    "    res=a+b+c+d+e\n",
    "    if c==0:\n",
    "        c=1\n",
    "    if d==0:\n",
    "        d=1\n",
    "    if e==0:\n",
    "        e=1\n",
    "    print \"a=%s, b=%s, c=%s, d=%s,e=%s\"%(a,b,c,d,e)\n",
    "    res1=a*b*c*d*e\n",
    "    return res,res1\n",
    "result=fun(10,20)\n",
    "print \"result:\",result"
   ]
  },
  {
   "cell_type": "code",
   "execution_count": 39,
   "metadata": {},
   "outputs": [
    {
     "name": "stdout",
     "output_type": "stream",
     "text": [
      "a=10, b=20, c=0, d=0,e=0\n",
      "a=10, b=20, c=1, d=1,e=1\n",
      "result: (30, 200)\n"
     ]
    }
   ],
   "source": [
    "def fun(a,b,c=0,d=0,e=0):\n",
    "    print \"a=%s, b=%s, c=%s, d=%s,e=%s\"%(a,b,c,d,e)\n",
    "    res=a+b+c+d+e\n",
    "    if c==0:\n",
    "        c=1\n",
    "    if d==0:\n",
    "        d=1\n",
    "    if e==0:\n",
    "        e=1\n",
    "    print \"a=%s, b=%s, c=%s, d=%s,e=%s\"%(a,b,c,d,e)\n",
    "    res1=a*b*c*d*e\n",
    "    return res,res1\n",
    "result=fun(10,20,0)\n",
    "print \"result:\",result"
   ]
  },
  {
   "cell_type": "code",
   "execution_count": 41,
   "metadata": {},
   "outputs": [
    {
     "name": "stdout",
     "output_type": "stream",
     "text": [
      "a=10, b=20, c=0, d=0,e=0\n",
      "a=10, b=20, c=0, d=1,e=1\n",
      "result: (30, 0)\n"
     ]
    }
   ],
   "source": [
    "def fun(a,b,c=None,d=None,e=None):\n",
    "    c1=c\n",
    "    d1=d\n",
    "    e1=e\n",
    "    if not c1:\n",
    "        c=0\n",
    "    if not d1:\n",
    "        d=0\n",
    "    if not e1:\n",
    "        e=0\n",
    "    print \"a=%s, b=%s, c=%s, d=%s,e=%s\"%(a,b,c,d,e)\n",
    "    res=a+b+c+d+e\n",
    "    if c1!=0 and not c1:\n",
    "        c=1\n",
    "    if d1!=0 and not d1:\n",
    "        d=1\n",
    "    if e1!=0 and not e1:\n",
    "        e=1\n",
    "    print \"a=%s, b=%s, c=%s, d=%s,e=%s\"%(a,b,c,d,e)\n",
    "    res1=a*b*c*d*e\n",
    "    return res,res1\n",
    "result=fun(10,20,0)\n",
    "print \"result:\",result"
   ]
  },
  {
   "cell_type": "code",
   "execution_count": 42,
   "metadata": {},
   "outputs": [
    {
     "name": "stdout",
     "output_type": "stream",
     "text": [
      "None is false\n"
     ]
    }
   ],
   "source": [
    "if None:\n",
    "    print \"None is true\"\n",
    "else:\n",
    "    print \"None is false\""
   ]
  },
  {
   "cell_type": "code",
   "execution_count": 43,
   "metadata": {},
   "outputs": [
    {
     "name": "stdout",
     "output_type": "stream",
     "text": [
      "not None is true\n"
     ]
    }
   ],
   "source": [
    "if not None:\n",
    "    print \"not None is true\"\n",
    "else:\n",
    "    print \"not None is false\""
   ]
  },
  {
   "cell_type": "code",
   "execution_count": 44,
   "metadata": {},
   "outputs": [
    {
     "name": "stdout",
     "output_type": "stream",
     "text": [
      "a=10, b=20, c=0, d=-10,e=0\n",
      "a=10, b=20, c=0, d=-10,e=1\n",
      "result: (20, 0)\n"
     ]
    }
   ],
   "source": [
    "def fun(a,b,c=None,d=None,e=None):\n",
    "    c1=c\n",
    "    d1=d\n",
    "    e1=e\n",
    "    if not c1:\n",
    "        c=0\n",
    "    if not d1:\n",
    "        d=0\n",
    "    if not e1:\n",
    "        e=0\n",
    "    print \"a=%s, b=%s, c=%s, d=%s,e=%s\"%(a,b,c,d,e)\n",
    "    res=a+b+c+d+e\n",
    "    if c1!=0 and not c1:\n",
    "        c=1\n",
    "    if d1!=0 and not d1:\n",
    "        d=1\n",
    "    if e1!=0 and not e1:\n",
    "        e=1\n",
    "    print \"a=%s, b=%s, c=%s, d=%s,e=%s\"%(a,b,c,d,e)\n",
    "    res1=a*b*c*d*e\n",
    "    return res,res1\n",
    "result=fun(10,20,0,-10)\n",
    "print \"result:\",result"
   ]
  },
  {
   "cell_type": "code",
   "execution_count": 45,
   "metadata": {},
   "outputs": [
    {
     "name": "stdout",
     "output_type": "stream",
     "text": [
      "a=10, b=20, c=1, d=-10,e=0\n",
      "a=10, b=20, c=1, d=-10,e=1\n",
      "result: (21, -2000)\n"
     ]
    }
   ],
   "source": [
    "def fun(a,b,c=None,d=None,e=None):\n",
    "    c1=c\n",
    "    d1=d\n",
    "    e1=e\n",
    "    if not c1:\n",
    "        c=0\n",
    "    if not d1:\n",
    "        d=0\n",
    "    if not e1:\n",
    "        e=0\n",
    "    print \"a=%s, b=%s, c=%s, d=%s,e=%s\"%(a,b,c,d,e)\n",
    "    res=a+b+c+d+e\n",
    "    if c1!=0 and not c1:\n",
    "        c=1\n",
    "    if d1!=0 and not d1:\n",
    "        d=1\n",
    "    if e1!=0 and not e1:\n",
    "        e=1\n",
    "    print \"a=%s, b=%s, c=%s, d=%s,e=%s\"%(a,b,c,d,e)\n",
    "    res1=a*b*c*d*e\n",
    "    return res,res1\n",
    "result=fun(10,20,1,-10)\n",
    "print \"result:\",result"
   ]
  },
  {
   "cell_type": "code",
   "execution_count": 46,
   "metadata": {},
   "outputs": [
    {
     "name": "stdout",
     "output_type": "stream",
     "text": [
      "true\n"
     ]
    }
   ],
   "source": [
    "if -10:\n",
    "    print \"true\"\n",
    "else:\n",
    "    print \"false\""
   ]
  },
  {
   "cell_type": "code",
   "execution_count": 47,
   "metadata": {},
   "outputs": [
    {
     "data": {
      "text/plain": [
       "False"
      ]
     },
     "execution_count": 47,
     "metadata": {},
     "output_type": "execute_result"
    }
   ],
   "source": [
    "bool(0)"
   ]
  },
  {
   "cell_type": "code",
   "execution_count": 48,
   "metadata": {},
   "outputs": [
    {
     "data": {
      "text/plain": [
       "False"
      ]
     },
     "execution_count": 48,
     "metadata": {},
     "output_type": "execute_result"
    }
   ],
   "source": [
    "bool(None)"
   ]
  },
  {
   "cell_type": "code",
   "execution_count": 49,
   "metadata": {},
   "outputs": [
    {
     "data": {
      "text/plain": [
       "True"
      ]
     },
     "execution_count": 49,
     "metadata": {},
     "output_type": "execute_result"
    }
   ],
   "source": [
    "bool(1)"
   ]
  },
  {
   "cell_type": "code",
   "execution_count": 50,
   "metadata": {},
   "outputs": [
    {
     "data": {
      "text/plain": [
       "True"
      ]
     },
     "execution_count": 50,
     "metadata": {},
     "output_type": "execute_result"
    }
   ],
   "source": [
    "bool(10)"
   ]
  },
  {
   "cell_type": "code",
   "execution_count": 51,
   "metadata": {},
   "outputs": [
    {
     "data": {
      "text/plain": [
       "True"
      ]
     },
     "execution_count": 51,
     "metadata": {},
     "output_type": "execute_result"
    }
   ],
   "source": [
    "bool(-10)"
   ]
  },
  {
   "cell_type": "code",
   "execution_count": 52,
   "metadata": {
    "collapsed": true
   },
   "outputs": [],
   "source": [
    "if None:\n",
    "    print \"None is true\""
   ]
  },
  {
   "cell_type": "code",
   "execution_count": null,
   "metadata": {
    "collapsed": true
   },
   "outputs": [],
   "source": [
    "if not None:\n",
    "    print \"None is true\""
   ]
  },
  {
   "cell_type": "code",
   "execution_count": 53,
   "metadata": {},
   "outputs": [
    {
     "name": "stdout",
     "output_type": "stream",
     "text": [
      "False\n",
      "False\n",
      "False\n",
      "False\n",
      "False\n",
      "False\n",
      "False\n"
     ]
    }
   ],
   "source": [
    "print bool(0)\n",
    "print bool(0.0)\n",
    "print bool(\"\")\n",
    "print bool(None)\n",
    "print bool([])\n",
    "print bool(())\n",
    "print bool({})"
   ]
  },
  {
   "cell_type": "code",
   "execution_count": 54,
   "metadata": {},
   "outputs": [
    {
     "data": {
      "text/plain": [
       "False"
      ]
     },
     "execution_count": 54,
     "metadata": {},
     "output_type": "execute_result"
    }
   ],
   "source": [
    "0==[]"
   ]
  },
  {
   "cell_type": "code",
   "execution_count": 55,
   "metadata": {},
   "outputs": [
    {
     "data": {
      "text/plain": [
       "False"
      ]
     },
     "execution_count": 55,
     "metadata": {},
     "output_type": "execute_result"
    }
   ],
   "source": [
    "bool()"
   ]
  },
  {
   "cell_type": "code",
   "execution_count": 56,
   "metadata": {},
   "outputs": [
    {
     "data": {
      "text/plain": [
       "False"
      ]
     },
     "execution_count": 56,
     "metadata": {},
     "output_type": "execute_result"
    }
   ],
   "source": [
    "bool(0)"
   ]
  },
  {
   "cell_type": "code",
   "execution_count": 57,
   "metadata": {},
   "outputs": [
    {
     "data": {
      "text/plain": [
       "True"
      ]
     },
     "execution_count": 57,
     "metadata": {},
     "output_type": "execute_result"
    }
   ],
   "source": [
    "bool(10)"
   ]
  },
  {
   "cell_type": "code",
   "execution_count": null,
   "metadata": {
    "collapsed": true
   },
   "outputs": [],
   "source": []
  }
 ],
 "metadata": {
  "kernelspec": {
   "display_name": "Python 2",
   "language": "python",
   "name": "python2"
  },
  "language_info": {
   "codemirror_mode": {
    "name": "ipython",
    "version": 2
   },
   "file_extension": ".py",
   "mimetype": "text/x-python",
   "name": "python",
   "nbconvert_exporter": "python",
   "pygments_lexer": "ipython2",
   "version": "2.7.14"
  }
 },
 "nbformat": 4,
 "nbformat_minor": 2
}
