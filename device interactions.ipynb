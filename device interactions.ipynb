{
 "cells": [
  {
   "cell_type": "code",
   "execution_count": 1,
   "metadata": {
    "collapsed": true
   },
   "outputs": [],
   "source": [
    "import os"
   ]
  },
  {
   "cell_type": "code",
   "execution_count": 2,
   "metadata": {},
   "outputs": [
    {
     "data": {
      "text/plain": [
       "0"
      ]
     },
     "execution_count": 2,
     "metadata": {},
     "output_type": "execute_result"
    }
   ],
   "source": [
    "os.system(\"mkdir f1\")"
   ]
  },
  {
   "cell_type": "code",
   "execution_count": 3,
   "metadata": {},
   "outputs": [
    {
     "data": {
      "text/plain": [
       "0"
      ]
     },
     "execution_count": 3,
     "metadata": {},
     "output_type": "execute_result"
    }
   ],
   "source": [
    "os.system(\"rm -r f1\")"
   ]
  },
  {
   "cell_type": "code",
   "execution_count": 4,
   "metadata": {},
   "outputs": [
    {
     "data": {
      "text/plain": [
       "256"
      ]
     },
     "execution_count": 4,
     "metadata": {},
     "output_type": "execute_result"
    }
   ],
   "source": [
    "os.system(\"rm -r f1\")"
   ]
  },
  {
   "cell_type": "code",
   "execution_count": 5,
   "metadata": {},
   "outputs": [
    {
     "data": {
      "text/plain": [
       "0"
      ]
     },
     "execution_count": 5,
     "metadata": {},
     "output_type": "execute_result"
    }
   ],
   "source": [
    "os.system(\"ls -l\")"
   ]
  },
  {
   "cell_type": "code",
   "execution_count": 6,
   "metadata": {
    "collapsed": true
   },
   "outputs": [],
   "source": [
    "from subprocess import check_output"
   ]
  },
  {
   "cell_type": "code",
   "execution_count": 7,
   "metadata": {},
   "outputs": [
    {
     "data": {
      "text/plain": [
       "'total 1712\\n-rw-r--r-- 1 khyaathi-python khyaathi-python  46156 Feb  4 10:53 1.jpg\\n-rw-r--r-- 1 khyaathi-python khyaathi-python  25750 Feb  4 10:53 2.jpg\\n-rw-r--r-- 1 khyaathi-python khyaathi-python  41968 Feb 20 07:53 5_copy.jpg\\n-rw-r--r-- 1 khyaathi-python khyaathi-python  41968 Feb  7 08:09 5.jpg\\n-rw-r--r-- 1 khyaathi-python khyaathi-python  35279 Feb 12 08:34 6.jpg\\n-rw-r--r-- 1 khyaathi-python khyaathi-python  50047 Feb 16 09:11 7.jpg\\n-rw-r--r-- 1 khyaathi-python khyaathi-python  26372 Feb 16 09:11 8.jpg\\n-rw-r--r-- 1 khyaathi-python khyaathi-python     37 Jan 30 07:23 app.py\\n-rw-r--r-- 1 khyaathi-python khyaathi-python     23 Jan 29 07:47 a.py\\n-rw-r--r-- 1 khyaathi-python khyaathi-python    177 Jan 29 07:50 a.pyc\\n-rw-r--r-- 1 khyaathi-python khyaathi-python  14480 Mar  5 09:07 assignments.txt\\n-rw-r--r-- 1 khyaathi-python khyaathi-python   4700 Feb 10 08:13 buses -checkpoint.ipynb\\n-rw-r--r-- 1 khyaathi-python khyaathi-python  67103 Feb 24 07:56 class1.jpg\\n-rw-r--r-- 1 khyaathi-python khyaathi-python  31793 Feb  5 08:07 conditional-looping.ipynb\\n-rw-r--r-- 1 khyaathi-python khyaathi-python   9944 Feb  3 08:08 conditional statements.ipynb\\n-rw-r--r-- 1 khyaathi-python khyaathi-python    186 Mar  4 07:52 data1.csv\\n-rw-r--r-- 1 khyaathi-python khyaathi-python     70 Feb 20 07:37 data2.csv\\n-rw-r--r-- 1 khyaathi-python khyaathi-python      0 Feb 20 07:25 data3.csv\\n-rw-r--r-- 1 khyaathi-python khyaathi-python  21483 Feb 25 09:49 database interaction .ipynb\\n-rw-r--r-- 1 khyaathi-python khyaathi-python     57 Mar  3 07:59 data.csv\\n-rw-r--r-- 1 khyaathi-python khyaathi-python  32974 Feb 15 08:16 datastructures.ipynb\\n-rw-r--r-- 1 khyaathi-python khyaathi-python  28440 Jan 31 08:07 datatypes2.ipynb\\n-rw-r--r-- 1 khyaathi-python khyaathi-python   7621 Jan 30 08:04 datatypes.ipynb\\n-rw-r--r-- 1 khyaathi-python khyaathi-python   8192 Feb 25 09:16 db1.db\\n-rw-r--r-- 1 khyaathi-python khyaathi-python   2012 Mar 11 07:26 device interactions.ipynb\\n-rw-r--r-- 1 khyaathi-python khyaathi-python  15364 Feb 20 07:23 dictionaries2.ipynb\\n-rw-r--r-- 1 khyaathi-python khyaathi-python  36704 Feb 19 07:58 dictionaries.ipynb\\n-rw-r--r-- 1 khyaathi-python khyaathi-python  45657 Mar  4 10:08 exceptions.ipynb\\n-rw-r--r-- 1 khyaathi-python khyaathi-python 144549 Feb 20 08:06 files.ipynb\\n-rw-r--r-- 1 khyaathi-python khyaathi-python  18442 Feb  3 07:47 format specifiers-raw_input.ipynb\\n-rw-r--r-- 1 khyaathi-python khyaathi-python  29999 Feb  9 08:05 functions2.ipynb\\n-rw-r--r-- 1 khyaathi-python khyaathi-python  20917 Feb 10 08:04 functions3.ipynb\\n-rw-r--r-- 1 khyaathi-python khyaathi-python  18037 Feb 23 08:02 functions adv.ipynb\\n-rw-r--r-- 1 khyaathi-python khyaathi-python   9642 Feb  8 08:07 functions.ipynb\\n-rw-r--r-- 1 khyaathi-python khyaathi-python  66293 Mar  2 09:17 fun_mem.jpg\\n-rw-r--r-- 1 khyaathi-python khyaathi-python  44993 Feb 17 08:27 int memory organization.jpg\\n-rw-r--r-- 1 khyaathi-python khyaathi-python  24258 Feb 12 09:18 last sesssion.ipynb\\n-rw-r--r-- 1 khyaathi-python khyaathi-python  37676 Feb 17 07:59 lists2.ipynb\\n-rw-r--r-- 1 khyaathi-python khyaathi-python  26290 Feb 16 08:00 lists.ipynb\\ndrwxr-xr-x 2 khyaathi-python khyaathi-python   4096 Mar  4 09:49 log_module\\n-rw-r--r-- 1 khyaathi-python khyaathi-python   1695 Mar  4 10:12 log_module.zip\\n-rw-r--r-- 1 khyaathi-python khyaathi-python  28979 Feb  7 08:08 looping statements2.ipynb\\n-rw-r--r-- 1 khyaathi-python khyaathi-python  26740 Feb  6 08:07 looping statements.ipynb\\n-rw-r--r-- 1 khyaathi-python khyaathi-python    620 Feb  2 08:08 mails.txt\\n-rw-r--r-- 1 khyaathi-python khyaathi-python  39130 Jan 25 08:04 mem.jpg\\n-rw-r--r-- 1 khyaathi-python khyaathi-python  23146 Feb  4 08:36 memory organization-backup.ipynb\\n-rw-r--r-- 1 khyaathi-python khyaathi-python   2538 Jan 25 08:01 memory organization.ipynb\\n-rw-r--r-- 1 khyaathi-python khyaathi-python  24382 Feb 25 09:35 oops2.ipynb\\n-rw-r--r-- 1 khyaathi-python khyaathi-python  39544 Feb 27 07:58 oops3.ipynb\\n-rw-r--r-- 1 khyaathi-python khyaathi-python  29416 Mar  1 08:03 oops4.ipynb\\n-rw-r--r-- 1 khyaathi-python khyaathi-python  30180 Mar  2 08:03 oops5.ipynb\\n-rw-r--r-- 1 khyaathi-python khyaathi-python  28212 Mar  3 08:01 oops6.ipynb\\n-rw-r--r-- 1 khyaathi-python khyaathi-python  15337 Feb 24 08:10 oops.ipynb\\n-rw-r--r-- 1 khyaathi-python khyaathi-python  57528 Feb 27 09:21 oops.jpg\\n-rw-r--r-- 1 khyaathi-python khyaathi-python    350 Feb 25 09:33 postgres installation steps.txt\\n-rw-r--r-- 1 khyaathi-python khyaathi-python  26445 Feb  1 07:57 print-formatspecifiers-string.ipynb\\n-rw-r--r-- 1 khyaathi-python khyaathi-python  29700 Feb  2 08:06 printstatements-format specifiers.ipynb\\n-rw-r--r-- 1 khyaathi-python khyaathi-python    616 Feb 25 09:51 project.txt\\ndrwxr-xr-x 3 khyaathi-python khyaathi-python   4096 Feb 23 07:13 py_module\\n-rw-r--r-- 1 khyaathi-python khyaathi-python   4482 Feb 22 08:02 py_module.zip\\n-rw-r--r-- 1 khyaathi-python khyaathi-python  34280 Mar  4 08:05 reg.ipynb\\n-rw-r--r-- 1 khyaathi-python khyaathi-python     17 Mar  4 08:41 res.txt\\n-rw-r--r-- 1 khyaathi-python khyaathi-python     88 Feb  4 08:08 samplefile.py\\ndrwxr-xr-x 3 khyaathi-python khyaathi-python   4096 Mar  5 08:05 socket_programs\\n-rw-r--r-- 1 khyaathi-python khyaathi-python   2881 Mar  5 08:09 socket_programs.zip\\n-rw-r--r-- 1 khyaathi-python khyaathi-python  31360 Feb 13 08:12 string functions2.ipynb\\n-rw-r--r-- 1 khyaathi-python khyaathi-python  34340 Feb 12 08:06 string functions.ipynb\\n-rw-r--r-- 1 khyaathi-python khyaathi-python   3647 Jan 30 07:23 Untitled1.ipynb\\n-rw-r--r-- 1 khyaathi-python khyaathi-python   4032 Feb  9 08:32 Untitled2.ipynb\\n-rw-r--r-- 1 khyaathi-python khyaathi-python     72 Feb 10 07:28 Untitled3.ipynb\\n-rw-r--r-- 1 khyaathi-python khyaathi-python   5892 Feb 15 09:33 Untitled4.ipynb\\n-rw-r--r-- 1 khyaathi-python khyaathi-python   2047 Feb  9 08:14 Untitled5.ipynb\\n-rw-r--r-- 1 khyaathi-python khyaathi-python     72 Mar  4 09:34 Untitled6.ipynb\\n-rw-r--r-- 1 khyaathi-python khyaathi-python   5568 Jan 29 08:10 Untitled.ipynb\\n'"
      ]
     },
     "execution_count": 7,
     "metadata": {},
     "output_type": "execute_result"
    }
   ],
   "source": [
    "check_output([\"ls\",\"-l\"])"
   ]
  },
  {
   "cell_type": "code",
   "execution_count": 8,
   "metadata": {},
   "outputs": [
    {
     "data": {
      "text/plain": [
       "'USER       PID %CPU %MEM    VSZ   RSS TTY      STAT START   TIME COMMAND\\nroot         1  0.0  0.1 137392  7300 ?        Ss   05:48   0:01 /sbin/init splash\\nroot         2  0.0  0.0      0     0 ?        S    05:48   0:00 [kthreadd]\\nroot         3  0.0  0.0      0     0 ?        S    05:48   0:00 [ksoftirqd/0]\\nroot         5  0.0  0.0      0     0 ?        S<   05:48   0:00 [kworker/0:0H]\\nroot         7  0.0  0.0      0     0 ?        S    05:48   0:01 [rcu_sched]\\nroot         8  0.0  0.0      0     0 ?        S    05:48   0:00 [rcu_bh]\\nroot         9  0.0  0.0      0     0 ?        S    05:48   0:00 [migration/0]\\nroot        10  0.0  0.0      0     0 ?        S<   05:48   0:00 [lru-add-drain]\\nroot        11  0.0  0.0      0     0 ?        S    05:48   0:00 [watchdog/0]\\nroot        12  0.0  0.0      0     0 ?        S    05:48   0:00 [cpuhp/0]\\nroot        13  0.0  0.0      0     0 ?        S    05:48   0:00 [kdevtmpfs]\\nroot        14  0.0  0.0      0     0 ?        S<   05:48   0:00 [netns]\\nroot        15  0.0  0.0      0     0 ?        S    05:48   0:00 [khungtaskd]\\nroot        16  0.0  0.0      0     0 ?        S    05:48   0:00 [oom_reaper]\\nroot        17  0.0  0.0      0     0 ?        S<   05:48   0:00 [writeback]\\nroot        18  0.0  0.0      0     0 ?        S    05:48   0:00 [kcompactd0]\\nroot        19  0.0  0.0      0     0 ?        SN   05:48   0:00 [ksmd]\\nroot        20  0.0  0.0      0     0 ?        SN   05:48   0:01 [khugepaged]\\nroot        21  0.0  0.0      0     0 ?        S<   05:48   0:00 [crypto]\\nroot        22  0.0  0.0      0     0 ?        S<   05:48   0:00 [kintegrityd]\\nroot        23  0.0  0.0      0     0 ?        S<   05:48   0:00 [bioset]\\nroot        24  0.0  0.0      0     0 ?        S<   05:48   0:00 [kblockd]\\nroot        25  0.0  0.0      0     0 ?        S<   05:48   0:00 [ata_sff]\\nroot        26  0.0  0.0      0     0 ?        S<   05:48   0:00 [md]\\nroot        27  0.0  0.0      0     0 ?        S<   05:48   0:00 [devfreq_wq]\\nroot        28  0.0  0.0      0     0 ?        S<   05:48   0:00 [watchdogd]\\nroot        32  0.0  0.0      0     0 ?        S    05:48   0:00 [kswapd0]\\nroot        33  0.0  0.0      0     0 ?        S<   05:48   0:00 [vmstat]\\nroot        34  0.0  0.0      0     0 ?        S    05:48   0:00 [ecryptfs-kthrea]\\nroot        73  0.0  0.0      0     0 ?        S<   05:48   0:00 [kthrotld]\\nroot        74  0.0  0.0      0     0 ?        S<   05:48   0:00 [acpi_thermal_pm]\\nroot        75  0.0  0.0      0     0 ?        S<   05:48   0:00 [bioset]\\nroot        76  0.0  0.0      0     0 ?        S<   05:48   0:00 [bioset]\\nroot        77  0.0  0.0      0     0 ?        S<   05:48   0:00 [bioset]\\nroot        78  0.0  0.0      0     0 ?        S<   05:48   0:00 [bioset]\\nroot        79  0.0  0.0      0     0 ?        S<   05:48   0:00 [bioset]\\nroot        80  0.0  0.0      0     0 ?        S<   05:48   0:00 [bioset]\\nroot        81  0.0  0.0      0     0 ?        S<   05:48   0:00 [bioset]\\nroot        82  0.0  0.0      0     0 ?        S<   05:48   0:00 [bioset]\\nroot        83  0.0  0.0      0     0 ?        S    05:48   0:00 [scsi_eh_0]\\nroot        84  0.0  0.0      0     0 ?        S<   05:48   0:00 [scsi_tmf_0]\\nroot        85  0.0  0.0      0     0 ?        S    05:48   0:00 [scsi_eh_1]\\nroot        86  0.0  0.0      0     0 ?        S<   05:48   0:00 [scsi_tmf_1]\\nroot        92  0.0  0.0      0     0 ?        S<   05:48   0:00 [ipv6_addrconf]\\nroot       113  0.0  0.0      0     0 ?        S<   05:48   0:00 [deferwq]\\nroot       114  0.0  0.0      0     0 ?        S<   05:48   0:00 [charger_manager]\\nroot       115  0.0  0.0      0     0 ?        S<   05:48   0:00 [bioset]\\nroot       157  0.0  0.0      0     0 ?        S<   05:48   0:00 [kpsmoused]\\nroot       166  0.0  0.0      0     0 ?        S<   05:48   0:00 [kworker/0:1H]\\nroot       167  0.0  0.0      0     0 ?        S    05:48   0:00 [scsi_eh_2]\\nroot       168  0.0  0.0      0     0 ?        S<   05:48   0:00 [scsi_tmf_2]\\nroot       169  0.0  0.0      0     0 ?        S<   05:48   0:00 [bioset]\\nroot       191  0.0  0.0      0     0 ?        S    05:48   0:00 [jbd2/sda1-8]\\nroot       192  0.0  0.0      0     0 ?        S<   05:48   0:00 [ext4-rsv-conver]\\nroot       232  0.0  0.1  41100  5864 ?        Ss   05:48   0:00 /lib/systemd/systemd-journald\\nroot       233  0.0  0.0      0     0 ?        S    05:48   0:00 [kauditd]\\nroot       253  0.0  0.1  45772  4648 ?        Ss   05:48   0:00 /lib/systemd/systemd-udevd\\nroot       340  0.0  0.0      0     0 ?        S<   05:48   0:00 [iprt-VBoxWQueue]\\nroot       395  0.0  0.0      0     0 ?        S<   05:48   0:00 [ttm_swap]\\nroot       597  0.0  0.1  95788  7744 ?        Ss   05:48   0:00 /usr/sbin/cupsd -l\\nroot       598  0.0  0.0  30088  1620 ?        Ss   05:48   0:00 /sbin/cgmanager -m name=systemd\\nsyslog     602  0.0  0.0 256404  3460 ?        Ssl  05:48   0:00 /usr/sbin/rsyslogd -n\\nroot       605  0.0  0.1  44412  4708 ?        Ss   05:48   0:00 /lib/systemd/systemd-logind\\nroot       615  0.0  0.0  31100  3144 ?        Ss   05:48   0:00 /usr/sbin/cron -f\\nmessage+   616  0.0  0.1  44592  5340 ?        Ss   05:48   0:01 /usr/bin/dbus-daemon --system --address=systemd: --nofork --nopidfile --systemd-activation\\nroot       641  0.0  0.4 474604 17732 ?        Ssl  05:48   0:00 /usr/sbin/NetworkManager --no-daemon\\nroot       644  0.0  0.2 293980  8416 ?        Ssl  05:48   0:00 /usr/lib/accountsservice/accounts-daemon\\nroot       653  0.0  0.0   4384  1328 ?        Ss   05:48   0:00 /usr/sbin/acpid\\nroot       654  0.0  0.2 346828  9304 ?        Ssl  05:48   0:00 /usr/sbin/ModemManager\\nwhoopsie   656  0.0  0.3 529412 13420 ?        Ssl  05:48   0:00 /usr/bin/whoopsie -f\\navahi      661  0.0  0.0  45136  3588 ?        Ss   05:48   0:00 avahi-daemon: running [khyaathipython.local]\\navahi      668  0.0  0.0  45008   344 ?        S    05:48   0:00 avahi-daemon: chroot helper\\nroot       669  0.0  0.4 207780 19852 ?        Ssl  05:48   0:00 /usr/lib/snapd/snapd\\nroot       694  0.0  0.2 282216  9720 ?        Ssl  05:48   0:00 /usr/sbin/cups-browsed\\nroot       729  0.0  0.2 304640 11196 ?        Ssl  05:48   0:00 /usr/lib/policykit-1/polkitd --no-debug\\nlp         825  0.0  0.1  81652  5860 ?        S    05:48   0:00 /usr/lib/cups/notifier/dbus dbus://\\nroot       828  0.0  0.0 248720  2208 ?        Sl   05:48   0:00 /usr/sbin/VBoxService\\nlp         836  0.0  0.1  81652  5824 ?        S    05:48   0:00 /usr/lib/cups/notifier/dbus dbus://\\nsystemd+   847  0.0  0.1  47552  4156 ?        Ss   05:48   0:00 /lib/systemd/systemd-resolved\\nroot       853  0.0  0.1  67820  5520 ?        Ss   05:48   0:00 /usr/sbin/sshd -D\\nroot       862  0.0  0.2 303372  8468 ?        SLsl 05:48   0:00 /usr/sbin/lightdm\\nroot       911  3.0  2.6 386392 106396 tty7    Ss+  05:48   3:01 /usr/lib/xorg/Xorg -core :0 -seat seat0 -auth /var/run/lightdm/root/:0 -nolisten tcp vt7 -novtswitch\\nroot       921  0.0  0.0  16060  1832 tty1     Ss+  05:48   0:00 /sbin/agetty --noclear tty1 linux\\npostgres   929  0.0  0.5 296984 24212 ?        S    05:48   0:00 /usr/lib/postgresql/9.5/bin/postgres -D /var/lib/postgresql/9.5/main -c config_file=/etc/postgresql/9.5/main/postgresql.conf\\nnobody     942  0.0  0.1  53084  4240 ?        S    05:48   0:00 /usr/sbin/dnsmasq --no-resolv --keep-in-foreground --no-hosts --bind-interfaces --pid-file=/var/run/NetworkManager/dnsmasq.pid --listen-address=127.0.1.1 --cache-size=0 --conf-file=/dev/null --proxy-dnssec --enable-dbus=org.freedesktop.NetworkManager.dnsmasq --conf-dir=/etc/NetworkManager/dnsmasq.d\\npostgres  1245  0.0  0.0 296984  3960 ?        Ss   05:48   0:00 postgres: 9.5/main: checkpointer process   \\npostgres  1246  0.0  0.1 296984  5576 ?        Ss   05:48   0:00 postgres: 9.5/main: writer process   \\npostgres  1247  0.0  0.0 296984  3960 ?        Ss   05:48   0:00 postgres: 9.5/main: wal writer process   \\npostgres  1248  0.0  0.1 297276  5108 ?        Ss   05:48   0:00 postgres: 9.5/main: autovacuum launcher process   \\npostgres  1249  0.0  0.0 151968  3328 ?        Ss   05:48   0:00 postgres: 9.5/main: stats collector process   \\nsnmp      1355  0.0  0.1  59624  7692 ?        S    05:48   0:01 /usr/sbin/snmpd -Lsd -Lf /dev/null -u snmp -g snmp -I -smux mteTrigger mteTriggerConf -p /run/snmpd.pid\\nroot      1365  0.0  0.3 702120 12336 ?        Sl   05:48   0:02 /opt/teamviewer/tv_bin/teamviewerd -d\\nroot      1394  0.0  0.1  71576  4596 ?        Ss   05:48   0:00 /usr/sbin/apache2 -k start\\nwww-data  1396  0.0  0.1 360736  6132 ?        Sl   05:48   0:00 /usr/sbin/apache2 -k start\\nwww-data  1397  0.0  0.1 360736  6132 ?        Sl   05:48   0:00 /usr/sbin/apache2 -k start\\nroot      1522  0.0  0.2 354156 10264 ?        Ssl  05:48   0:00 /usr/lib/upower/upowerd\\nrtkit     1540  0.0  0.0 183760  2924 ?        SNsl 05:48   0:00 /usr/lib/rtkit/rtkit-daemon\\ncolord    1554  0.0  0.4 323912 18396 ?        Ssl  05:48   0:00 /usr/lib/colord/colord\\nroot      1558  0.0  0.1 245700  6672 ?        Sl   05:48   0:00 lightdm --session-child 12 19\\nroot      1569  0.0  0.1 260976  4928 ?        Sl   05:48   0:00 /usr/lib/x86_64-linux-gnu/unity-greeter-session-broadcast/unity-greeter-session-broadcast-service\\nkhyaath+  1583  0.0  0.1  63080  6764 ?        Ss   05:48   0:00 /lib/systemd/systemd --user\\nkhyaath+  1586  0.0  0.0  89268  2276 ?        S    05:48   0:00 (sd-pam)\\nkhyaath+  1784  0.0  0.1  44168  5020 ?        Ss   05:48   0:01 /usr/bin/dbus-daemon --session --address=systemd: --nofork --nopidfile --systemd-activation\\nkhyaath+  1814  0.0  0.1 283588  6584 ?        Ssl  05:48   0:00 /usr/lib/gvfs/gvfsd\\nkhyaath+  1819  0.0  0.2 428864  9228 ?        Sl   05:48   0:00 /usr/lib/gvfs/gvfsd-fuse /run/user/1000/gvfs -f -o big_writes\\nkhyaath+  1830  0.0  0.1 187676  5292 ?        Sl   05:48   0:00 /usr/lib/dconf/dconf-service\\nkhyaath+  1872  0.0  0.2 214356  8368 ?        Sl   05:48   0:00 /usr/bin/gnome-keyring-daemon --daemonize --login\\nkhyaath+  1875  0.0  0.1  47100  5280 ?        Ss   05:48   0:01 /sbin/upstart --user\\nkhyaath+  1917  0.0  0.1  82260  5340 ?        S    05:48   0:02 /usr/bin/xbrlapi -q\\nkhyaath+  1961  0.0  0.0  49720   916 ?        S    05:48   0:00 /usr/bin/VBoxClient --clipboard\\nkhyaath+  1964  0.0  0.0  49720   864 ?        S    05:48   0:00 /usr/bin/VBoxClient --checkhostversion\\nkhyaath+  1973  0.0  0.0  49720   380 ?        S    05:48   0:00 /usr/bin/VBoxClient --display\\nkhyaath+  1974  0.0  0.0  49856  2960 ?        S    05:48   0:00 /usr/bin/VBoxClient --display\\nkhyaath+  1978  0.0  0.0  49720   860 ?        S    05:48   0:00 /usr/bin/VBoxClient --seamless\\nkhyaath+  1983  0.0  0.0  49720   900 ?        S    05:48   0:00 /usr/bin/VBoxClient --draganddrop\\nkhyaath+  1998  0.0  0.8 493608 33196 ?        Sl   05:48   0:00 /usr/lib/x86_64-linux-gnu/notify-osd\\nkhyaath+  2013  0.0  0.2 362656  8464 ?        Ssl  05:48   0:00 /usr/lib/at-spi2-core/at-spi-bus-launcher\\nkhyaath+  2028  0.0  0.0  33084   280 ?        S    05:48   0:00 upstart-udev-bridge --daemon --user\\nkhyaath+  2037  0.0  0.0  43128  4008 ?        S    05:48   0:00 /usr/bin/dbus-daemon --config-file=/usr/share/defaults/at-spi2/accessibility.conf --nofork --print-address 3\\nkhyaath+  2038  0.0  0.0   7280   752 ?        Ss   05:48   0:00 sleep infinity\\nkhyaath+  2044  0.0  0.1 213960  5528 ?        Sl   05:48   0:00 /usr/lib/at-spi2-core/at-spi2-registryd --use-gnome-session\\nkhyaath+  2045  0.0  0.0   4492   708 ?        Ss   05:48   0:00 /bin/sh -e /proc/self/fd/9\\nkhyaath+  2055  0.0  0.2 160344  9784 ?        Ssl  05:48   0:00 /usr/lib/x86_64-linux-gnu/hud/window-stack-bridge\\nkhyaath+  2059  0.0  0.4 518704 17056 ?        Sl   05:48   0:00 /usr/lib/x86_64-linux-gnu/url-dispatcher/url-dispatcher\\nkhyaath+  2063  0.0  0.6 449848 27440 ?        Ssl  05:48   0:01 /usr/lib/x86_64-linux-gnu/bamf/bamfdaemon\\nkhyaath+  2083  0.0  0.0  33404  2060 ?        S    05:48   0:00 upstart-dbus-bridge --daemon --system --user --bus-name system\\nkhyaath+  2088  0.0  0.0  33140  1824 ?        S    05:48   0:00 upstart-dbus-bridge --daemon --session --user --bus-name session\\nkhyaath+  2106  0.0  0.0  41776  1804 ?        S    05:48   0:00 upstart-file-bridge --daemon --user\\nkhyaath+  2173  0.0  0.8 930764 33460 ?        Ssl  05:48   0:00 /usr/lib/unity-settings-daemon/unity-settings-daemon\\nkhyaath+  2191  0.1  0.2 369668 11356 ?        Ssl  05:48   0:07 /usr/bin/ibus-daemon --daemonize --xim --address unix:tmpdir=/tmp/ibus\\nkhyaath+  2193  0.0  0.4 647964 16220 ?        Ssl  05:48   0:00 /usr/lib/gnome-session/gnome-session-binary --session=ubuntu\\nkhyaath+  2241  0.0  0.2 286400  8264 ?        Sl   05:48   0:00 /usr/lib/ibus/ibus-dconf\\nkhyaath+  2246  0.0  0.7 477664 30572 ?        Sl   05:48   0:03 /usr/lib/ibus/ibus-ui-gtk3\\nkhyaath+  2249  0.0  0.5 356648 22456 ?        Sl   05:48   0:00 /usr/lib/ibus/ibus-x11 --kill-daemon\\nkhyaath+  2282  0.0  0.1 210528  7920 ?        Sl   05:49   0:01 /usr/lib/ibus/ibus-engine-simple\\nkhyaath+  2303  7.1  7.1 1369180 290272 ?      Ssl  05:49   7:02 /usr/bin/compiz\\nkhyaath+  2316  0.0  0.2 566288 11436 ?        S<l  05:49   0:00 /usr/bin/pulseaudio --start --log-target=syslog\\nkhyaath+  2323  0.0  0.8 643356 33892 ?        Ssl  05:49   0:00 /usr/lib/x86_64-linux-gnu/unity/unity-panel-service\\nkhyaath+  2344  0.0  0.7 674336 31936 ?        Sl   05:49   0:00 nm-applet\\nkhyaath+  2350  0.0  0.5 405180 22556 ?        Ssl  05:49   0:00 /usr/lib/x86_64-linux-gnu/hud/hud-service\\nkhyaath+  2356  0.0  0.5 436448 21160 ?        Sl   05:49   0:00 /usr/lib/policykit-1-gnome/polkit-gnome-authentication-agent-1\\nkhyaath+  2366  0.0  0.5 581776 21228 ?        Sl   05:49   0:00 /usr/lib/unity-settings-daemon/unity-fallback-mount-helper\\nkhyaath+  2368  0.0  0.0   7280   696 ?        Ss   05:49   0:00 sleep infinity\\nkhyaath+  2375  0.0  2.4 990172 97208 ?        Sl   05:49   0:02 /usr/bin/gnome-software --gapplication-service\\nkhyaath+  2379  0.1  1.4 1019884 57532 ?       Sl   05:49   0:07 nautilus -n\\nkhyaath+  2382  0.0  0.2 377140  9504 ?        Ssl  05:49   0:00 /usr/lib/x86_64-linux-gnu/indicator-messages/indicator-messages-service\\nkhyaath+  2385  0.0  0.1 357992  7816 ?        Ssl  05:49   0:00 /usr/lib/x86_64-linux-gnu/indicator-bluetooth/indicator-bluetooth-service\\nkhyaath+  2390  0.0  0.2 362368  8276 ?        Ssl  05:49   0:00 /usr/lib/x86_64-linux-gnu/indicator-power/indicator-power-service\\nkhyaath+  2394  0.0  0.7 923588 30524 ?        Ssl  05:49   0:00 /usr/lib/x86_64-linux-gnu/indicator-datetime/indicator-datetime-service\\nkhyaath+  2397  0.0  0.6 665920 27184 ?        Ssl  05:49   0:00 /usr/lib/x86_64-linux-gnu/indicator-keyboard/indicator-keyboard-service --use-gtk\\nkhyaath+  2398  0.0  0.3 682868 12684 ?        Ssl  05:49   0:00 /usr/lib/x86_64-linux-gnu/indicator-sound/indicator-sound-service\\nkhyaath+  2402  0.0  0.6 554492 24972 ?        Ssl  05:49   0:00 /usr/lib/x86_64-linux-gnu/indicator-printers/indicator-printers-service\\nkhyaath+  2406  0.0  0.2 645292  8832 ?        Ssl  05:49   0:00 /usr/lib/x86_64-linux-gnu/indicator-session/indicator-session-service\\nkhyaath+  2422  0.0  0.3 481192 12876 ?        Ssl  05:49   0:00 /usr/lib/x86_64-linux-gnu/indicator-application/indicator-application-service\\nkhyaath+  2451  0.0  0.6 730640 25376 ?        Ssl  05:49   0:00 /usr/lib/evolution/evolution-source-registry\\nkhyaath+  2500  0.0  0.8 852312 33740 ?        Ssl  05:49   0:00 /usr/lib/evolution/evolution-calendar-factory\\nroot      2517  0.0  0.8 655812 33772 ?        Sl   05:49   0:00 /usr/lib/x86_64-linux-gnu/fwupd/fwupd\\nkhyaath+  2521  0.0  0.2 303428  9940 ?        Ssl  05:49   0:00 /usr/lib/gvfs/gvfs-udisks2-volume-monitor\\nroot      2527  0.0  0.2 389304 11912 ?        Ssl  05:49   0:00 /usr/lib/udisks2/udisksd --no-debug\\nkhyaath+  2535  0.0  0.1 278532  5488 ?        Ssl  05:49   0:00 /usr/lib/gvfs/gvfs-gphoto2-volume-monitor\\nkhyaath+  2539  0.0  0.1 266420  5220 ?        Ssl  05:49   0:00 /usr/lib/gvfs/gvfs-goa-volume-monitor\\nkhyaath+  2543  0.0  0.2 412724 11400 ?        Ssl  05:49   0:00 /usr/lib/gvfs/gvfs-afc-volume-monitor\\nkhyaath+  2548  0.0  0.1 266332  4860 ?        Ssl  05:49   0:00 /usr/lib/gvfs/gvfs-mtp-volume-monitor\\nkhyaath+  2553  0.0  0.2 373104  9276 ?        Sl   05:49   0:00 /usr/lib/gvfs/gvfsd-trash --spawner :1.6 /org/gtk/gvfs/exec_spaw/0\\nkhyaath+  2569  0.0  0.6 812104 24528 ?        Sl   05:49   0:00 /usr/lib/evolution/evolution-calendar-factory-subprocess --factory contacts --bus-name org.gnome.evolution.dataserver.Subprocess.Backend.Calendarx2500x2 --own-path /org/gnome/evolution/dataserver/Subprocess/Backend/Calendar/2500/2\\nkhyaath+  2584  0.0  0.5 784728 21136 ?        Sl   05:49   0:00 /usr/lib/evolution/evolution-calendar-factory-subprocess --factory local --bus-name org.gnome.evolution.dataserver.Subprocess.Backend.Calendarx2500x3 --own-path /org/gnome/evolution/dataserver/Subprocess/Backend/Calendar/2500/3\\nkhyaath+  2588  0.0  0.6 716532 24388 ?        Ssl  05:49   0:00 /usr/lib/evolution/evolution-addressbook-factory\\nkhyaath+  2605  0.0  0.6 802396 24304 ?        Sl   05:49   0:00 /usr/lib/evolution/evolution-addressbook-factory-subprocess --factory local --bus-name org.gnome.evolution.dataserver.Subprocess.Backend.AddressBookx2588x2 --own-path /org/gnome/evolution/dataserver/Subprocess/Backend/AddressBook/2588/2\\nkhyaath+  2628  0.0  0.1 193100  5948 ?        Ssl  05:49   0:00 /usr/lib/gvfs/gvfsd-metadata\\nkhyaath+  2694  0.0  0.4 429904 17476 ?        Sl   05:49   0:00 zeitgeist-datahub\\nkhyaath+  2701  0.0  0.0   4492   752 ?        S    05:49   0:00 /bin/sh -c /usr/lib/x86_64-linux-gnu/zeitgeist/zeitgeist-maybe-vacuum; /usr/bin/zeitgeist-daemon\\nkhyaath+  2705  0.0  0.2 367840 10584 ?        Sl   05:49   0:00 /usr/bin/zeitgeist-daemon\\nkhyaath+  2713  0.0  0.4 329396 16824 ?        Sl   05:49   0:00 /usr/lib/x86_64-linux-gnu/zeitgeist-fts\\nkhyaath+  2793  0.0  0.1  68160  5540 ?        S    05:49   0:00 /usr/lib/x86_64-linux-gnu/gconf/gconfd-2\\nkhyaath+  2859  0.0  0.2 422872 10252 ?        Sl   05:49   0:00 /usr/lib/gvfs/gvfsd-http --spawner :1.6 /org/gtk/gvfs/exec_spaw/1\\nkhyaath+  2963  0.0  0.6 610316 28204 ?        Sl   05:50   0:00 update-notifier\\nkhyaath+  3055  0.0  0.2 597900  9060 ?        Sl   05:51   0:00 /usr/lib/x86_64-linux-gnu/deja-dup/deja-dup-monitor\\nroot      3592  0.0  0.0      0     0 ?        S    06:01   0:00 [kworker/0:0]\\nroot      5758  0.0  0.0      0     0 ?        S    06:43   0:00 [kworker/u2:0]\\nkhyaath+  6492  0.0  0.2 373184  8700 ?        Sl   06:56   0:00 /usr/lib/gvfs/gvfsd-network --spawner :1.6 /org/gtk/gvfs/exec_spaw/2\\nkhyaath+  6513  0.0  0.1 376920  7020 ?        Sl   06:56   0:00 /usr/lib/gvfs/gvfsd-dnssd --spawner :1.6 /org/gtk/gvfs/exec_spaw/4\\nroot      7831  0.0  0.0      0     0 ?        S    07:15   0:00 [kworker/u2:1]\\nroot      8004  0.0  0.0      0     0 ?        S    07:19   0:00 [kworker/0:2]\\nroot      8161  0.0  0.0  16104  3712 ?        S    07:20   0:00 /sbin/dhclient -d -q -sf /usr/lib/NetworkManager/nm-dhcp-helper -pf /var/run/dhclient-enp0s3.pid -lf /var/lib/NetworkManager/dhclient-95f3ca14-4e16-3f87-8f42-7af863a75f0d-enp0s3.lease -cf /var/lib/NetworkManager/dhclient-enp0s3.conf enp0s3\\nroot      8536  0.0  0.3 322156 12524 ?        Ssl  07:20   0:00 /usr/lib/packagekit/packagekitd\\nkhyaath+  8723  1.9  3.5 821660 142076 ?       SNl  07:23   0:04 /usr/bin/python3 /usr/bin/update-manager --no-update --no-focus-on-map\\nkhyaath+  8800  0.2  0.9 741952 38652 ?        Ssl  07:23   0:00 /usr/lib/gnome-terminal/gnome-terminal-server\\nkhyaath+  8809  0.0  0.1  22680  5480 pts/4    Ss   07:23   0:00 bash\\nkhyaath+  8830  0.5  1.5 358636 62640 pts/4    Sl+  07:24   0:00 /home/khyaathi-python/anaconda2/bin/python /home/khyaathi-python/anaconda2/bin/ipython notebook\\nkhyaath+  8846 10.8  8.5 2065456 345048 ?      Rl   07:24   0:18 /usr/lib/firefox/firefox http://localhost:8888/tree?token=d563b323b0061224efc99e10f7e1eb456bfe864b2c884010\\nkhyaath+  8910  0.3  1.1 633840 46280 ?        Ssl  07:24   0:00 /home/khyaathi-python/anaconda2/bin/python -m ipykernel_launcher -f /run/user/1000/jupyter/kernel-d2270d2c-5a07-479d-bd7f-4fc508025011.json\\nkhyaath+  8993  0.0  0.5 668568 21744 ?        Sl   07:25   0:00 /usr/lib/x86_64-linux-gnu/unity-scope-home/unity-scope-home\\nkhyaath+  9003  0.1  0.5 657788 23988 ?        Sl   07:25   0:00 /usr/bin/unity-scope-loader applications/applications.scope applications/scopes.scope commands.scope\\nkhyaath+  9004  0.0  0.3 640116 14508 ?        Sl   07:25   0:00 /usr/lib/x86_64-linux-gnu/unity-lens-files/unity-files-daemon\\nroot      9063  0.0  0.0      0     0 ?        S    07:25   0:00 [kworker/0:1]\\nkhyaath+  9088  0.0  0.1  22608  5208 pts/6    Ss+  07:25   0:00 bash\\nkhyaath+  9174  0.0  0.0  37604  3388 ?        R    07:27   0:00 ps -aux\\n'"
      ]
     },
     "execution_count": 8,
     "metadata": {},
     "output_type": "execute_result"
    }
   ],
   "source": [
    "check_output([\"ps\",\"-aux\"])"
   ]
  },
  {
   "cell_type": "code",
   "execution_count": 9,
   "metadata": {
    "collapsed": true
   },
   "outputs": [],
   "source": [
    "from github import Github\n",
    "g=Github(\"gs9783@gmail.com\",\"samba1234\")"
   ]
  },
  {
   "cell_type": "code",
   "execution_count": 10,
   "metadata": {},
   "outputs": [
    {
     "data": {
      "text/plain": [
       "AuthenticatedUser(login=None)"
      ]
     },
     "execution_count": 10,
     "metadata": {},
     "output_type": "execute_result"
    }
   ],
   "source": [
    "g.get_user()"
   ]
  },
  {
   "cell_type": "code",
   "execution_count": 11,
   "metadata": {
    "collapsed": true
   },
   "outputs": [],
   "source": [
    "g.get_user().name"
   ]
  },
  {
   "cell_type": "code",
   "execution_count": 12,
   "metadata": {
    "collapsed": true
   },
   "outputs": [],
   "source": [
    "user = g.get_user()"
   ]
  },
  {
   "cell_type": "code",
   "execution_count": 13,
   "metadata": {},
   "outputs": [
    {
     "data": {
      "text/plain": [
       "['CHECK_AFTER_INIT_FLAG',\n",
       " '_CompletableGithubObject__complete',\n",
       " '_CompletableGithubObject__completed',\n",
       " '_GithubObject__makeSimpleAttribute',\n",
       " '_GithubObject__makeSimpleListAttribute',\n",
       " '_GithubObject__makeTransformedAttribute',\n",
       " '__class__',\n",
       " '__delattr__',\n",
       " '__dict__',\n",
       " '__doc__',\n",
       " '__eq__',\n",
       " '__format__',\n",
       " '__getattribute__',\n",
       " '__hash__',\n",
       " '__init__',\n",
       " '__module__',\n",
       " '__ne__',\n",
       " '__new__',\n",
       " '__reduce__',\n",
       " '__reduce_ex__',\n",
       " '__repr__',\n",
       " '__setattr__',\n",
       " '__sizeof__',\n",
       " '__str__',\n",
       " '__subclasshook__',\n",
       " '__weakref__',\n",
       " '_avatar_url',\n",
       " '_bio',\n",
       " '_blog',\n",
       " '_collaborators',\n",
       " '_company',\n",
       " '_completeIfNeeded',\n",
       " '_completeIfNotSet',\n",
       " '_created_at',\n",
       " '_disk_usage',\n",
       " '_email',\n",
       " '_events_url',\n",
       " '_followers',\n",
       " '_followers_url',\n",
       " '_following',\n",
       " '_following_url',\n",
       " '_gists_url',\n",
       " '_gravatar_id',\n",
       " '_headers',\n",
       " '_hireable',\n",
       " '_html_url',\n",
       " '_id',\n",
       " '_initAttributes',\n",
       " '_location',\n",
       " '_login',\n",
       " '_makeBoolAttribute',\n",
       " '_makeClassAttribute',\n",
       " '_makeDatetimeAttribute',\n",
       " '_makeDictAttribute',\n",
       " '_makeDictOfStringsToClassesAttribute',\n",
       " '_makeIntAttribute',\n",
       " '_makeListOfClassesAttribute',\n",
       " '_makeListOfIntsAttribute',\n",
       " '_makeListOfListOfStringsAttribute',\n",
       " '_makeListOfStringsAttribute',\n",
       " '_makeStringAttribute',\n",
       " '_makeTimestampAttribute',\n",
       " '_name',\n",
       " '_organizations_url',\n",
       " '_owned_private_repos',\n",
       " '_parentUrl',\n",
       " '_plan',\n",
       " '_private_gists',\n",
       " '_public_gists',\n",
       " '_public_repos',\n",
       " '_rawData',\n",
       " '_received_events_url',\n",
       " '_repos_url',\n",
       " '_requester',\n",
       " '_site_admin',\n",
       " '_starred_url',\n",
       " '_storeAndUseAttributes',\n",
       " '_subscriptions_url',\n",
       " '_total_private_repos',\n",
       " '_type',\n",
       " '_updated_at',\n",
       " '_url',\n",
       " '_useAttributes',\n",
       " 'accept_invitation',\n",
       " 'add_to_emails',\n",
       " 'add_to_following',\n",
       " 'add_to_starred',\n",
       " 'add_to_subscriptions',\n",
       " 'add_to_watched',\n",
       " 'avatar_url',\n",
       " 'bio',\n",
       " 'blog',\n",
       " 'collaborators',\n",
       " 'company',\n",
       " 'create_authorization',\n",
       " 'create_fork',\n",
       " 'create_gist',\n",
       " 'create_key',\n",
       " 'create_repo',\n",
       " 'created_at',\n",
       " 'disk_usage',\n",
       " 'edit',\n",
       " 'email',\n",
       " 'etag',\n",
       " 'events_url',\n",
       " 'followers',\n",
       " 'followers_url',\n",
       " 'following',\n",
       " 'following_url',\n",
       " 'get__repr__',\n",
       " 'get_authorization',\n",
       " 'get_authorizations',\n",
       " 'get_emails',\n",
       " 'get_events',\n",
       " 'get_followers',\n",
       " 'get_following',\n",
       " 'get_gists',\n",
       " 'get_issues',\n",
       " 'get_key',\n",
       " 'get_keys',\n",
       " 'get_notification',\n",
       " 'get_notifications',\n",
       " 'get_organization_events',\n",
       " 'get_orgs',\n",
       " 'get_repo',\n",
       " 'get_repos',\n",
       " 'get_starred',\n",
       " 'get_starred_gists',\n",
       " 'get_subscriptions',\n",
       " 'get_teams',\n",
       " 'get_user_issues',\n",
       " 'get_watched',\n",
       " 'gists_url',\n",
       " 'gravatar_id',\n",
       " 'has_in_following',\n",
       " 'has_in_starred',\n",
       " 'has_in_subscriptions',\n",
       " 'has_in_watched',\n",
       " 'hireable',\n",
       " 'html_url',\n",
       " 'id',\n",
       " 'last_modified',\n",
       " 'location',\n",
       " 'login',\n",
       " 'name',\n",
       " 'organizations_url',\n",
       " 'owned_private_repos',\n",
       " 'plan',\n",
       " 'private_gists',\n",
       " 'public_gists',\n",
       " 'public_repos',\n",
       " 'raw_data',\n",
       " 'raw_headers',\n",
       " 'received_events_url',\n",
       " 'remove_from_emails',\n",
       " 'remove_from_following',\n",
       " 'remove_from_starred',\n",
       " 'remove_from_subscriptions',\n",
       " 'remove_from_watched',\n",
       " 'repos_url',\n",
       " 'setCheckAfterInitFlag',\n",
       " 'site_admin',\n",
       " 'starred_url',\n",
       " 'subscriptions_url',\n",
       " 'total_private_repos',\n",
       " 'type',\n",
       " 'update',\n",
       " 'updated_at',\n",
       " 'url']"
      ]
     },
     "execution_count": 13,
     "metadata": {},
     "output_type": "execute_result"
    }
   ],
   "source": [
    "dir(user)"
   ]
  },
  {
   "cell_type": "code",
   "execution_count": 14,
   "metadata": {},
   "outputs": [
    {
     "name": "stdout",
     "output_type": "stream",
     "text": [
      "Organization(name=None, id=34699715)\n",
      "Organization(name=None, id=34699732)\n"
     ]
    }
   ],
   "source": [
    "for org in user.get_orgs():\n",
    "    print org"
   ]
  },
  {
   "cell_type": "code",
   "execution_count": 15,
   "metadata": {},
   "outputs": [
    {
     "name": "stdout",
     "output_type": "stream",
     "text": [
      "None\n",
      "None\n"
     ]
    }
   ],
   "source": [
    "for org in user.get_orgs():\n",
    "    print org.name"
   ]
  },
  {
   "cell_type": "code",
   "execution_count": 16,
   "metadata": {},
   "outputs": [
    {
     "data": {
      "text/plain": [
       "['CHECK_AFTER_INIT_FLAG',\n",
       " '_CompletableGithubObject__complete',\n",
       " '_CompletableGithubObject__completed',\n",
       " '_GithubObject__makeSimpleAttribute',\n",
       " '_GithubObject__makeSimpleListAttribute',\n",
       " '_GithubObject__makeTransformedAttribute',\n",
       " '__class__',\n",
       " '__delattr__',\n",
       " '__dict__',\n",
       " '__doc__',\n",
       " '__eq__',\n",
       " '__format__',\n",
       " '__getattribute__',\n",
       " '__hash__',\n",
       " '__init__',\n",
       " '__module__',\n",
       " '__ne__',\n",
       " '__new__',\n",
       " '__reduce__',\n",
       " '__reduce_ex__',\n",
       " '__repr__',\n",
       " '__setattr__',\n",
       " '__sizeof__',\n",
       " '__str__',\n",
       " '__subclasshook__',\n",
       " '__weakref__',\n",
       " '_avatar_url',\n",
       " '_billing_email',\n",
       " '_blog',\n",
       " '_collaborators',\n",
       " '_company',\n",
       " '_completeIfNeeded',\n",
       " '_completeIfNotSet',\n",
       " '_created_at',\n",
       " '_disk_usage',\n",
       " '_email',\n",
       " '_events_url',\n",
       " '_followers',\n",
       " '_following',\n",
       " '_gravatar_id',\n",
       " '_headers',\n",
       " '_html_url',\n",
       " '_id',\n",
       " '_initAttributes',\n",
       " '_location',\n",
       " '_login',\n",
       " '_makeBoolAttribute',\n",
       " '_makeClassAttribute',\n",
       " '_makeDatetimeAttribute',\n",
       " '_makeDictAttribute',\n",
       " '_makeDictOfStringsToClassesAttribute',\n",
       " '_makeIntAttribute',\n",
       " '_makeListOfClassesAttribute',\n",
       " '_makeListOfIntsAttribute',\n",
       " '_makeListOfListOfStringsAttribute',\n",
       " '_makeListOfStringsAttribute',\n",
       " '_makeStringAttribute',\n",
       " '_makeTimestampAttribute',\n",
       " '_members_url',\n",
       " '_name',\n",
       " '_owned_private_repos',\n",
       " '_parentUrl',\n",
       " '_plan',\n",
       " '_private_gists',\n",
       " '_public_gists',\n",
       " '_public_members_url',\n",
       " '_public_repos',\n",
       " '_rawData',\n",
       " '_repos_url',\n",
       " '_requester',\n",
       " '_storeAndUseAttributes',\n",
       " '_total_private_repos',\n",
       " '_type',\n",
       " '_updated_at',\n",
       " '_url',\n",
       " '_useAttributes',\n",
       " 'add_to_public_members',\n",
       " 'avatar_url',\n",
       " 'billing_email',\n",
       " 'blog',\n",
       " 'collaborators',\n",
       " 'company',\n",
       " 'create_fork',\n",
       " 'create_repo',\n",
       " 'create_team',\n",
       " 'created_at',\n",
       " 'disk_usage',\n",
       " 'edit',\n",
       " 'email',\n",
       " 'etag',\n",
       " 'events_url',\n",
       " 'followers',\n",
       " 'following',\n",
       " 'get__repr__',\n",
       " 'get_events',\n",
       " 'get_issues',\n",
       " 'get_members',\n",
       " 'get_public_members',\n",
       " 'get_repo',\n",
       " 'get_repos',\n",
       " 'get_team',\n",
       " 'get_teams',\n",
       " 'gravatar_id',\n",
       " 'has_in_members',\n",
       " 'has_in_public_members',\n",
       " 'html_url',\n",
       " 'id',\n",
       " 'last_modified',\n",
       " 'location',\n",
       " 'login',\n",
       " 'members_url',\n",
       " 'name',\n",
       " 'owned_private_repos',\n",
       " 'plan',\n",
       " 'private_gists',\n",
       " 'public_gists',\n",
       " 'public_members_url',\n",
       " 'public_repos',\n",
       " 'raw_data',\n",
       " 'raw_headers',\n",
       " 'remove_from_members',\n",
       " 'remove_from_public_members',\n",
       " 'repos_url',\n",
       " 'setCheckAfterInitFlag',\n",
       " 'total_private_repos',\n",
       " 'type',\n",
       " 'update',\n",
       " 'updated_at',\n",
       " 'url']"
      ]
     },
     "execution_count": 16,
     "metadata": {},
     "output_type": "execute_result"
    }
   ],
   "source": [
    "dir(org)"
   ]
  },
  {
   "cell_type": "code",
   "execution_count": 17,
   "metadata": {},
   "outputs": [
    {
     "name": "stdout",
     "output_type": "stream",
     "text": [
      "khyaathirepo1\n",
      "khyaathirepo2\n",
      "python_repo\n",
      "repo410\n",
      "repo_api\n",
      "repo411\n",
      "django\n",
      "python\n",
      "r1234\n",
      "repo1\n",
      "repo123\n"
     ]
    }
   ],
   "source": [
    "for repo in g.get_user().get_repos():\n",
    "    print(repo.name)"
   ]
  },
  {
   "cell_type": "code",
   "execution_count": 18,
   "metadata": {},
   "outputs": [
    {
     "name": "stdout",
     "output_type": "stream",
     "text": [
      "None\n",
      "None\n"
     ]
    }
   ],
   "source": [
    "for repo in g.get_user().get_orgs():\n",
    "    print(repo.name)"
   ]
  },
  {
   "cell_type": "code",
   "execution_count": 19,
   "metadata": {},
   "outputs": [
    {
     "name": "stdout",
     "output_type": "stream",
     "text": [
      "Organization(name=None, id=34699715)\n",
      "Organization(name=None, id=34699732)\n"
     ]
    }
   ],
   "source": [
    "for repo in g.get_user().get_orgs():\n",
    "    print(repo)"
   ]
  },
  {
   "cell_type": "code",
   "execution_count": 20,
   "metadata": {},
   "outputs": [
    {
     "data": {
      "text/plain": [
       "['CHECK_AFTER_INIT_FLAG',\n",
       " '_CompletableGithubObject__complete',\n",
       " '_CompletableGithubObject__completed',\n",
       " '_GithubObject__makeSimpleAttribute',\n",
       " '_GithubObject__makeSimpleListAttribute',\n",
       " '_GithubObject__makeTransformedAttribute',\n",
       " '__class__',\n",
       " '__delattr__',\n",
       " '__dict__',\n",
       " '__doc__',\n",
       " '__eq__',\n",
       " '__format__',\n",
       " '__getattribute__',\n",
       " '__hash__',\n",
       " '__init__',\n",
       " '__module__',\n",
       " '__ne__',\n",
       " '__new__',\n",
       " '__reduce__',\n",
       " '__reduce_ex__',\n",
       " '__repr__',\n",
       " '__setattr__',\n",
       " '__sizeof__',\n",
       " '__str__',\n",
       " '__subclasshook__',\n",
       " '__weakref__',\n",
       " '_avatar_url',\n",
       " '_billing_email',\n",
       " '_blog',\n",
       " '_collaborators',\n",
       " '_company',\n",
       " '_completeIfNeeded',\n",
       " '_completeIfNotSet',\n",
       " '_created_at',\n",
       " '_disk_usage',\n",
       " '_email',\n",
       " '_events_url',\n",
       " '_followers',\n",
       " '_following',\n",
       " '_gravatar_id',\n",
       " '_headers',\n",
       " '_html_url',\n",
       " '_id',\n",
       " '_initAttributes',\n",
       " '_location',\n",
       " '_login',\n",
       " '_makeBoolAttribute',\n",
       " '_makeClassAttribute',\n",
       " '_makeDatetimeAttribute',\n",
       " '_makeDictAttribute',\n",
       " '_makeDictOfStringsToClassesAttribute',\n",
       " '_makeIntAttribute',\n",
       " '_makeListOfClassesAttribute',\n",
       " '_makeListOfIntsAttribute',\n",
       " '_makeListOfListOfStringsAttribute',\n",
       " '_makeListOfStringsAttribute',\n",
       " '_makeStringAttribute',\n",
       " '_makeTimestampAttribute',\n",
       " '_members_url',\n",
       " '_name',\n",
       " '_owned_private_repos',\n",
       " '_parentUrl',\n",
       " '_plan',\n",
       " '_private_gists',\n",
       " '_public_gists',\n",
       " '_public_members_url',\n",
       " '_public_repos',\n",
       " '_rawData',\n",
       " '_repos_url',\n",
       " '_requester',\n",
       " '_storeAndUseAttributes',\n",
       " '_total_private_repos',\n",
       " '_type',\n",
       " '_updated_at',\n",
       " '_url',\n",
       " '_useAttributes',\n",
       " 'add_to_public_members',\n",
       " 'avatar_url',\n",
       " 'billing_email',\n",
       " 'blog',\n",
       " 'collaborators',\n",
       " 'company',\n",
       " 'create_fork',\n",
       " 'create_repo',\n",
       " 'create_team',\n",
       " 'created_at',\n",
       " 'disk_usage',\n",
       " 'edit',\n",
       " 'email',\n",
       " 'etag',\n",
       " 'events_url',\n",
       " 'followers',\n",
       " 'following',\n",
       " 'get__repr__',\n",
       " 'get_events',\n",
       " 'get_issues',\n",
       " 'get_members',\n",
       " 'get_public_members',\n",
       " 'get_repo',\n",
       " 'get_repos',\n",
       " 'get_team',\n",
       " 'get_teams',\n",
       " 'gravatar_id',\n",
       " 'has_in_members',\n",
       " 'has_in_public_members',\n",
       " 'html_url',\n",
       " 'id',\n",
       " 'last_modified',\n",
       " 'location',\n",
       " 'login',\n",
       " 'members_url',\n",
       " 'name',\n",
       " 'owned_private_repos',\n",
       " 'plan',\n",
       " 'private_gists',\n",
       " 'public_gists',\n",
       " 'public_members_url',\n",
       " 'public_repos',\n",
       " 'raw_data',\n",
       " 'raw_headers',\n",
       " 'remove_from_members',\n",
       " 'remove_from_public_members',\n",
       " 'repos_url',\n",
       " 'setCheckAfterInitFlag',\n",
       " 'total_private_repos',\n",
       " 'type',\n",
       " 'update',\n",
       " 'updated_at',\n",
       " 'url']"
      ]
     },
     "execution_count": 20,
     "metadata": {},
     "output_type": "execute_result"
    }
   ],
   "source": [
    "dir(repo)"
   ]
  },
  {
   "cell_type": "code",
   "execution_count": 21,
   "metadata": {},
   "outputs": [
    {
     "name": "stdout",
     "output_type": "stream",
     "text": [
      "Organization(name=None, id=34699732)\n",
      "Organization(name=None, id=34699732)\n"
     ]
    }
   ],
   "source": [
    "for org in g.get_user().get_orgs():\n",
    "    print(repo)"
   ]
  },
  {
   "cell_type": "code",
   "execution_count": 22,
   "metadata": {},
   "outputs": [
    {
     "data": {
      "text/plain": [
       "Repository(full_name=\"tcloud123/newrepo\")"
      ]
     },
     "execution_count": 22,
     "metadata": {},
     "output_type": "execute_result"
    }
   ],
   "source": [
    "org.create_repo(\"newrepo\")"
   ]
  },
  {
   "cell_type": "code",
   "execution_count": 23,
   "metadata": {},
   "outputs": [
    {
     "data": {
      "text/plain": [
       "AuthenticatedUser(login=None)"
      ]
     },
     "execution_count": 23,
     "metadata": {},
     "output_type": "execute_result"
    }
   ],
   "source": [
    "user"
   ]
  },
  {
   "cell_type": "code",
   "execution_count": 24,
   "metadata": {},
   "outputs": [
    {
     "data": {
      "text/plain": [
       "['CHECK_AFTER_INIT_FLAG',\n",
       " '_CompletableGithubObject__complete',\n",
       " '_CompletableGithubObject__completed',\n",
       " '_GithubObject__makeSimpleAttribute',\n",
       " '_GithubObject__makeSimpleListAttribute',\n",
       " '_GithubObject__makeTransformedAttribute',\n",
       " '__class__',\n",
       " '__delattr__',\n",
       " '__dict__',\n",
       " '__doc__',\n",
       " '__eq__',\n",
       " '__format__',\n",
       " '__getattribute__',\n",
       " '__hash__',\n",
       " '__init__',\n",
       " '__module__',\n",
       " '__ne__',\n",
       " '__new__',\n",
       " '__reduce__',\n",
       " '__reduce_ex__',\n",
       " '__repr__',\n",
       " '__setattr__',\n",
       " '__sizeof__',\n",
       " '__str__',\n",
       " '__subclasshook__',\n",
       " '__weakref__',\n",
       " '_avatar_url',\n",
       " '_bio',\n",
       " '_blog',\n",
       " '_collaborators',\n",
       " '_company',\n",
       " '_completeIfNeeded',\n",
       " '_completeIfNotSet',\n",
       " '_created_at',\n",
       " '_disk_usage',\n",
       " '_email',\n",
       " '_events_url',\n",
       " '_followers',\n",
       " '_followers_url',\n",
       " '_following',\n",
       " '_following_url',\n",
       " '_gists_url',\n",
       " '_gravatar_id',\n",
       " '_headers',\n",
       " '_hireable',\n",
       " '_html_url',\n",
       " '_id',\n",
       " '_initAttributes',\n",
       " '_location',\n",
       " '_login',\n",
       " '_makeBoolAttribute',\n",
       " '_makeClassAttribute',\n",
       " '_makeDatetimeAttribute',\n",
       " '_makeDictAttribute',\n",
       " '_makeDictOfStringsToClassesAttribute',\n",
       " '_makeIntAttribute',\n",
       " '_makeListOfClassesAttribute',\n",
       " '_makeListOfIntsAttribute',\n",
       " '_makeListOfListOfStringsAttribute',\n",
       " '_makeListOfStringsAttribute',\n",
       " '_makeStringAttribute',\n",
       " '_makeTimestampAttribute',\n",
       " '_name',\n",
       " '_organizations_url',\n",
       " '_owned_private_repos',\n",
       " '_parentUrl',\n",
       " '_plan',\n",
       " '_private_gists',\n",
       " '_public_gists',\n",
       " '_public_repos',\n",
       " '_rawData',\n",
       " '_received_events_url',\n",
       " '_repos_url',\n",
       " '_requester',\n",
       " '_site_admin',\n",
       " '_starred_url',\n",
       " '_storeAndUseAttributes',\n",
       " '_subscriptions_url',\n",
       " '_total_private_repos',\n",
       " '_type',\n",
       " '_updated_at',\n",
       " '_url',\n",
       " '_useAttributes',\n",
       " 'accept_invitation',\n",
       " 'add_to_emails',\n",
       " 'add_to_following',\n",
       " 'add_to_starred',\n",
       " 'add_to_subscriptions',\n",
       " 'add_to_watched',\n",
       " 'avatar_url',\n",
       " 'bio',\n",
       " 'blog',\n",
       " 'collaborators',\n",
       " 'company',\n",
       " 'create_authorization',\n",
       " 'create_fork',\n",
       " 'create_gist',\n",
       " 'create_key',\n",
       " 'create_repo',\n",
       " 'created_at',\n",
       " 'disk_usage',\n",
       " 'edit',\n",
       " 'email',\n",
       " 'etag',\n",
       " 'events_url',\n",
       " 'followers',\n",
       " 'followers_url',\n",
       " 'following',\n",
       " 'following_url',\n",
       " 'get__repr__',\n",
       " 'get_authorization',\n",
       " 'get_authorizations',\n",
       " 'get_emails',\n",
       " 'get_events',\n",
       " 'get_followers',\n",
       " 'get_following',\n",
       " 'get_gists',\n",
       " 'get_issues',\n",
       " 'get_key',\n",
       " 'get_keys',\n",
       " 'get_notification',\n",
       " 'get_notifications',\n",
       " 'get_organization_events',\n",
       " 'get_orgs',\n",
       " 'get_repo',\n",
       " 'get_repos',\n",
       " 'get_starred',\n",
       " 'get_starred_gists',\n",
       " 'get_subscriptions',\n",
       " 'get_teams',\n",
       " 'get_user_issues',\n",
       " 'get_watched',\n",
       " 'gists_url',\n",
       " 'gravatar_id',\n",
       " 'has_in_following',\n",
       " 'has_in_starred',\n",
       " 'has_in_subscriptions',\n",
       " 'has_in_watched',\n",
       " 'hireable',\n",
       " 'html_url',\n",
       " 'id',\n",
       " 'last_modified',\n",
       " 'location',\n",
       " 'login',\n",
       " 'name',\n",
       " 'organizations_url',\n",
       " 'owned_private_repos',\n",
       " 'plan',\n",
       " 'private_gists',\n",
       " 'public_gists',\n",
       " 'public_repos',\n",
       " 'raw_data',\n",
       " 'raw_headers',\n",
       " 'received_events_url',\n",
       " 'remove_from_emails',\n",
       " 'remove_from_following',\n",
       " 'remove_from_starred',\n",
       " 'remove_from_subscriptions',\n",
       " 'remove_from_watched',\n",
       " 'repos_url',\n",
       " 'setCheckAfterInitFlag',\n",
       " 'site_admin',\n",
       " 'starred_url',\n",
       " 'subscriptions_url',\n",
       " 'total_private_repos',\n",
       " 'type',\n",
       " 'update',\n",
       " 'updated_at',\n",
       " 'url']"
      ]
     },
     "execution_count": 24,
     "metadata": {},
     "output_type": "execute_result"
    }
   ],
   "source": [
    "dir(user)"
   ]
  },
  {
   "cell_type": "code",
   "execution_count": 25,
   "metadata": {
    "collapsed": true
   },
   "outputs": [],
   "source": [
    "user.company"
   ]
  },
  {
   "cell_type": "code",
   "execution_count": 26,
   "metadata": {
    "collapsed": true
   },
   "outputs": [],
   "source": [
    "import requests"
   ]
  },
  {
   "cell_type": "code",
   "execution_count": 27,
   "metadata": {
    "collapsed": true
   },
   "outputs": [],
   "source": [
    "resp = requests.get(\"https://api.github.com/users/octocat/orgs\")"
   ]
  },
  {
   "cell_type": "code",
   "execution_count": 28,
   "metadata": {},
   "outputs": [
    {
     "name": "stdout",
     "output_type": "stream",
     "text": [
      "<Response [200]>\n"
     ]
    }
   ],
   "source": [
    "print resp"
   ]
  },
  {
   "cell_type": "code",
   "execution_count": 29,
   "metadata": {},
   "outputs": [
    {
     "data": {
      "text/plain": [
       "[]"
      ]
     },
     "execution_count": 29,
     "metadata": {},
     "output_type": "execute_result"
    }
   ],
   "source": [
    "resp.json()"
   ]
  },
  {
   "cell_type": "code",
   "execution_count": 34,
   "metadata": {
    "collapsed": true
   },
   "outputs": [],
   "source": [
    "resp = requests.get(\"https://api.github.com/orgs/tcloud123/repos\",auth=(\"gs9783@gmail.com\",\"samba1234\"))"
   ]
  },
  {
   "cell_type": "code",
   "execution_count": 35,
   "metadata": {},
   "outputs": [
    {
     "data": {
      "text/plain": [
       "[{u'archive_url': u'https://api.github.com/repos/tcloud123/repo411/{archive_format}{/ref}',\n",
       "  u'archived': False,\n",
       "  u'assignees_url': u'https://api.github.com/repos/tcloud123/repo411/assignees{/user}',\n",
       "  u'blobs_url': u'https://api.github.com/repos/tcloud123/repo411/git/blobs{/sha}',\n",
       "  u'branches_url': u'https://api.github.com/repos/tcloud123/repo411/branches{/branch}',\n",
       "  u'clone_url': u'https://github.com/tcloud123/repo411.git',\n",
       "  u'collaborators_url': u'https://api.github.com/repos/tcloud123/repo411/collaborators{/collaborator}',\n",
       "  u'comments_url': u'https://api.github.com/repos/tcloud123/repo411/comments{/number}',\n",
       "  u'commits_url': u'https://api.github.com/repos/tcloud123/repo411/commits{/sha}',\n",
       "  u'compare_url': u'https://api.github.com/repos/tcloud123/repo411/compare/{base}...{head}',\n",
       "  u'contents_url': u'https://api.github.com/repos/tcloud123/repo411/contents/{+path}',\n",
       "  u'contributors_url': u'https://api.github.com/repos/tcloud123/repo411/contributors',\n",
       "  u'created_at': u'2018-02-11T02:03:43Z',\n",
       "  u'default_branch': u'master',\n",
       "  u'deployments_url': u'https://api.github.com/repos/tcloud123/repo411/deployments',\n",
       "  u'description': None,\n",
       "  u'downloads_url': u'https://api.github.com/repos/tcloud123/repo411/downloads',\n",
       "  u'events_url': u'https://api.github.com/repos/tcloud123/repo411/events',\n",
       "  u'fork': False,\n",
       "  u'forks': 0,\n",
       "  u'forks_count': 0,\n",
       "  u'forks_url': u'https://api.github.com/repos/tcloud123/repo411/forks',\n",
       "  u'full_name': u'tcloud123/repo411',\n",
       "  u'git_commits_url': u'https://api.github.com/repos/tcloud123/repo411/git/commits{/sha}',\n",
       "  u'git_refs_url': u'https://api.github.com/repos/tcloud123/repo411/git/refs{/sha}',\n",
       "  u'git_tags_url': u'https://api.github.com/repos/tcloud123/repo411/git/tags{/sha}',\n",
       "  u'git_url': u'git://github.com/tcloud123/repo411.git',\n",
       "  u'has_downloads': True,\n",
       "  u'has_issues': True,\n",
       "  u'has_pages': False,\n",
       "  u'has_projects': True,\n",
       "  u'has_wiki': True,\n",
       "  u'homepage': None,\n",
       "  u'hooks_url': u'https://api.github.com/repos/tcloud123/repo411/hooks',\n",
       "  u'html_url': u'https://github.com/tcloud123/repo411',\n",
       "  u'id': 121073617,\n",
       "  u'issue_comment_url': u'https://api.github.com/repos/tcloud123/repo411/issues/comments{/number}',\n",
       "  u'issue_events_url': u'https://api.github.com/repos/tcloud123/repo411/issues/events{/number}',\n",
       "  u'issues_url': u'https://api.github.com/repos/tcloud123/repo411/issues{/number}',\n",
       "  u'keys_url': u'https://api.github.com/repos/tcloud123/repo411/keys{/key_id}',\n",
       "  u'labels_url': u'https://api.github.com/repos/tcloud123/repo411/labels{/name}',\n",
       "  u'language': None,\n",
       "  u'languages_url': u'https://api.github.com/repos/tcloud123/repo411/languages',\n",
       "  u'license': None,\n",
       "  u'merges_url': u'https://api.github.com/repos/tcloud123/repo411/merges',\n",
       "  u'milestones_url': u'https://api.github.com/repos/tcloud123/repo411/milestones{/number}',\n",
       "  u'mirror_url': None,\n",
       "  u'name': u'repo411',\n",
       "  u'notifications_url': u'https://api.github.com/repos/tcloud123/repo411/notifications{?since,all,participating}',\n",
       "  u'open_issues': 0,\n",
       "  u'open_issues_count': 0,\n",
       "  u'owner': {u'avatar_url': u'https://avatars1.githubusercontent.com/u/34699732?v=4',\n",
       "   u'events_url': u'https://api.github.com/users/tcloud123/events{/privacy}',\n",
       "   u'followers_url': u'https://api.github.com/users/tcloud123/followers',\n",
       "   u'following_url': u'https://api.github.com/users/tcloud123/following{/other_user}',\n",
       "   u'gists_url': u'https://api.github.com/users/tcloud123/gists{/gist_id}',\n",
       "   u'gravatar_id': u'',\n",
       "   u'html_url': u'https://github.com/tcloud123',\n",
       "   u'id': 34699732,\n",
       "   u'login': u'tcloud123',\n",
       "   u'organizations_url': u'https://api.github.com/users/tcloud123/orgs',\n",
       "   u'received_events_url': u'https://api.github.com/users/tcloud123/received_events',\n",
       "   u'repos_url': u'https://api.github.com/users/tcloud123/repos',\n",
       "   u'site_admin': False,\n",
       "   u'starred_url': u'https://api.github.com/users/tcloud123/starred{/owner}{/repo}',\n",
       "   u'subscriptions_url': u'https://api.github.com/users/tcloud123/subscriptions',\n",
       "   u'type': u'Organization',\n",
       "   u'url': u'https://api.github.com/users/tcloud123'},\n",
       "  u'permissions': {u'admin': True, u'pull': True, u'push': True},\n",
       "  u'private': False,\n",
       "  u'pulls_url': u'https://api.github.com/repos/tcloud123/repo411/pulls{/number}',\n",
       "  u'pushed_at': u'2018-02-11T02:03:44Z',\n",
       "  u'releases_url': u'https://api.github.com/repos/tcloud123/repo411/releases{/id}',\n",
       "  u'size': 0,\n",
       "  u'ssh_url': u'git@github.com:tcloud123/repo411.git',\n",
       "  u'stargazers_count': 0,\n",
       "  u'stargazers_url': u'https://api.github.com/repos/tcloud123/repo411/stargazers',\n",
       "  u'statuses_url': u'https://api.github.com/repos/tcloud123/repo411/statuses/{sha}',\n",
       "  u'subscribers_url': u'https://api.github.com/repos/tcloud123/repo411/subscribers',\n",
       "  u'subscription_url': u'https://api.github.com/repos/tcloud123/repo411/subscription',\n",
       "  u'svn_url': u'https://github.com/tcloud123/repo411',\n",
       "  u'tags_url': u'https://api.github.com/repos/tcloud123/repo411/tags',\n",
       "  u'teams_url': u'https://api.github.com/repos/tcloud123/repo411/teams',\n",
       "  u'trees_url': u'https://api.github.com/repos/tcloud123/repo411/git/trees{/sha}',\n",
       "  u'updated_at': u'2018-02-11T02:03:43Z',\n",
       "  u'url': u'https://api.github.com/repos/tcloud123/repo411',\n",
       "  u'watchers': 0,\n",
       "  u'watchers_count': 0},\n",
       " {u'archive_url': u'https://api.github.com/repos/tcloud123/newrepo/{archive_format}{/ref}',\n",
       "  u'archived': False,\n",
       "  u'assignees_url': u'https://api.github.com/repos/tcloud123/newrepo/assignees{/user}',\n",
       "  u'blobs_url': u'https://api.github.com/repos/tcloud123/newrepo/git/blobs{/sha}',\n",
       "  u'branches_url': u'https://api.github.com/repos/tcloud123/newrepo/branches{/branch}',\n",
       "  u'clone_url': u'https://github.com/tcloud123/newrepo.git',\n",
       "  u'collaborators_url': u'https://api.github.com/repos/tcloud123/newrepo/collaborators{/collaborator}',\n",
       "  u'comments_url': u'https://api.github.com/repos/tcloud123/newrepo/comments{/number}',\n",
       "  u'commits_url': u'https://api.github.com/repos/tcloud123/newrepo/commits{/sha}',\n",
       "  u'compare_url': u'https://api.github.com/repos/tcloud123/newrepo/compare/{base}...{head}',\n",
       "  u'contents_url': u'https://api.github.com/repos/tcloud123/newrepo/contents/{+path}',\n",
       "  u'contributors_url': u'https://api.github.com/repos/tcloud123/newrepo/contributors',\n",
       "  u'created_at': u'2018-03-11T02:07:43Z',\n",
       "  u'default_branch': u'master',\n",
       "  u'deployments_url': u'https://api.github.com/repos/tcloud123/newrepo/deployments',\n",
       "  u'description': None,\n",
       "  u'downloads_url': u'https://api.github.com/repos/tcloud123/newrepo/downloads',\n",
       "  u'events_url': u'https://api.github.com/repos/tcloud123/newrepo/events',\n",
       "  u'fork': False,\n",
       "  u'forks': 0,\n",
       "  u'forks_count': 0,\n",
       "  u'forks_url': u'https://api.github.com/repos/tcloud123/newrepo/forks',\n",
       "  u'full_name': u'tcloud123/newrepo',\n",
       "  u'git_commits_url': u'https://api.github.com/repos/tcloud123/newrepo/git/commits{/sha}',\n",
       "  u'git_refs_url': u'https://api.github.com/repos/tcloud123/newrepo/git/refs{/sha}',\n",
       "  u'git_tags_url': u'https://api.github.com/repos/tcloud123/newrepo/git/tags{/sha}',\n",
       "  u'git_url': u'git://github.com/tcloud123/newrepo.git',\n",
       "  u'has_downloads': True,\n",
       "  u'has_issues': True,\n",
       "  u'has_pages': False,\n",
       "  u'has_projects': True,\n",
       "  u'has_wiki': True,\n",
       "  u'homepage': None,\n",
       "  u'hooks_url': u'https://api.github.com/repos/tcloud123/newrepo/hooks',\n",
       "  u'html_url': u'https://github.com/tcloud123/newrepo',\n",
       "  u'id': 124715271,\n",
       "  u'issue_comment_url': u'https://api.github.com/repos/tcloud123/newrepo/issues/comments{/number}',\n",
       "  u'issue_events_url': u'https://api.github.com/repos/tcloud123/newrepo/issues/events{/number}',\n",
       "  u'issues_url': u'https://api.github.com/repos/tcloud123/newrepo/issues{/number}',\n",
       "  u'keys_url': u'https://api.github.com/repos/tcloud123/newrepo/keys{/key_id}',\n",
       "  u'labels_url': u'https://api.github.com/repos/tcloud123/newrepo/labels{/name}',\n",
       "  u'language': None,\n",
       "  u'languages_url': u'https://api.github.com/repos/tcloud123/newrepo/languages',\n",
       "  u'license': None,\n",
       "  u'merges_url': u'https://api.github.com/repos/tcloud123/newrepo/merges',\n",
       "  u'milestones_url': u'https://api.github.com/repos/tcloud123/newrepo/milestones{/number}',\n",
       "  u'mirror_url': None,\n",
       "  u'name': u'newrepo',\n",
       "  u'notifications_url': u'https://api.github.com/repos/tcloud123/newrepo/notifications{?since,all,participating}',\n",
       "  u'open_issues': 0,\n",
       "  u'open_issues_count': 0,\n",
       "  u'owner': {u'avatar_url': u'https://avatars1.githubusercontent.com/u/34699732?v=4',\n",
       "   u'events_url': u'https://api.github.com/users/tcloud123/events{/privacy}',\n",
       "   u'followers_url': u'https://api.github.com/users/tcloud123/followers',\n",
       "   u'following_url': u'https://api.github.com/users/tcloud123/following{/other_user}',\n",
       "   u'gists_url': u'https://api.github.com/users/tcloud123/gists{/gist_id}',\n",
       "   u'gravatar_id': u'',\n",
       "   u'html_url': u'https://github.com/tcloud123',\n",
       "   u'id': 34699732,\n",
       "   u'login': u'tcloud123',\n",
       "   u'organizations_url': u'https://api.github.com/users/tcloud123/orgs',\n",
       "   u'received_events_url': u'https://api.github.com/users/tcloud123/received_events',\n",
       "   u'repos_url': u'https://api.github.com/users/tcloud123/repos',\n",
       "   u'site_admin': False,\n",
       "   u'starred_url': u'https://api.github.com/users/tcloud123/starred{/owner}{/repo}',\n",
       "   u'subscriptions_url': u'https://api.github.com/users/tcloud123/subscriptions',\n",
       "   u'type': u'Organization',\n",
       "   u'url': u'https://api.github.com/users/tcloud123'},\n",
       "  u'permissions': {u'admin': True, u'pull': True, u'push': True},\n",
       "  u'private': False,\n",
       "  u'pulls_url': u'https://api.github.com/repos/tcloud123/newrepo/pulls{/number}',\n",
       "  u'pushed_at': u'2018-03-11T02:07:44Z',\n",
       "  u'releases_url': u'https://api.github.com/repos/tcloud123/newrepo/releases{/id}',\n",
       "  u'size': 0,\n",
       "  u'ssh_url': u'git@github.com:tcloud123/newrepo.git',\n",
       "  u'stargazers_count': 0,\n",
       "  u'stargazers_url': u'https://api.github.com/repos/tcloud123/newrepo/stargazers',\n",
       "  u'statuses_url': u'https://api.github.com/repos/tcloud123/newrepo/statuses/{sha}',\n",
       "  u'subscribers_url': u'https://api.github.com/repos/tcloud123/newrepo/subscribers',\n",
       "  u'subscription_url': u'https://api.github.com/repos/tcloud123/newrepo/subscription',\n",
       "  u'svn_url': u'https://github.com/tcloud123/newrepo',\n",
       "  u'tags_url': u'https://api.github.com/repos/tcloud123/newrepo/tags',\n",
       "  u'teams_url': u'https://api.github.com/repos/tcloud123/newrepo/teams',\n",
       "  u'trees_url': u'https://api.github.com/repos/tcloud123/newrepo/git/trees{/sha}',\n",
       "  u'updated_at': u'2018-03-11T02:07:43Z',\n",
       "  u'url': u'https://api.github.com/repos/tcloud123/newrepo',\n",
       "  u'watchers': 0,\n",
       "  u'watchers_count': 0}]"
      ]
     },
     "execution_count": 35,
     "metadata": {},
     "output_type": "execute_result"
    }
   ],
   "source": [
    "resp.json()"
   ]
  },
  {
   "cell_type": "code",
   "execution_count": 36,
   "metadata": {},
   "outputs": [
    {
     "name": "stdout",
     "output_type": "stream",
     "text": [
      "repo411\n",
      "newrepo\n"
     ]
    }
   ],
   "source": [
    "for repo in resp.json():\n",
    "    print repo.get(\"name\")"
   ]
  },
  {
   "cell_type": "code",
   "execution_count": 41,
   "metadata": {
    "collapsed": true
   },
   "outputs": [],
   "source": [
    "import paramiko as pmk"
   ]
  },
  {
   "cell_type": "code",
   "execution_count": 42,
   "metadata": {},
   "outputs": [],
   "source": [
    "host=\"localhost\"\n",
    "username=\"khyaathi-python\"\n",
    "password=\"pythonkhyaathi\"\n",
    "ssh = pmk.SSHClient()\n",
    "ssh.set_missing_host_key_policy(pmk.AutoAddPolicy())\n",
    "ssh.connect(host, username=username,password=password)"
   ]
  },
  {
   "cell_type": "code",
   "execution_count": 43,
   "metadata": {},
   "outputs": [
    {
     "data": {
      "text/plain": [
       "(<paramiko.ChannelFile from <paramiko.Channel 0 (closed) -> <paramiko.Transport at 0x1cc602d0L (cipher aes128-ctr, 128 bits) (active; 0 open channel(s))>>>,\n",
       " <paramiko.ChannelFile from <paramiko.Channel 0 (closed) -> <paramiko.Transport at 0x1cc602d0L (cipher aes128-ctr, 128 bits) (active; 0 open channel(s))>>>,\n",
       " <paramiko.ChannelFile from <paramiko.Channel 0 (closed) -> <paramiko.Transport at 0x1cc602d0L (cipher aes128-ctr, 128 bits) (active; 0 open channel(s))>>>)"
      ]
     },
     "execution_count": 43,
     "metadata": {},
     "output_type": "execute_result"
    }
   ],
   "source": [
    "ssh.exec_command(\"mkdir f1\")"
   ]
  },
  {
   "cell_type": "code",
   "execution_count": 44,
   "metadata": {
    "collapsed": true
   },
   "outputs": [],
   "source": [
    "inp,outp,err=ssh.exec_command(\"rm f1\")"
   ]
  },
  {
   "cell_type": "code",
   "execution_count": 45,
   "metadata": {},
   "outputs": [
    {
     "data": {
      "text/plain": [
       "\"rm: cannot remove 'f1': Is a directory\\n\""
      ]
     },
     "execution_count": 45,
     "metadata": {},
     "output_type": "execute_result"
    }
   ],
   "source": [
    "err.read()"
   ]
  },
  {
   "cell_type": "code",
   "execution_count": 46,
   "metadata": {},
   "outputs": [
    {
     "name": "stdout",
     "output_type": "stream",
     "text": [
      "\n"
     ]
    }
   ],
   "source": [
    "inp,outp,err=ssh.exec_command(\"rm -r f1\")\n",
    "print err.read()"
   ]
  },
  {
   "cell_type": "code",
   "execution_count": 47,
   "metadata": {},
   "outputs": [
    {
     "name": "stdout",
     "output_type": "stream",
     "text": [
      "\n"
     ]
    }
   ],
   "source": [
    "inp,outp,err=ssh.exec_command(\"mkdir remote\")\n",
    "print err.read()"
   ]
  },
  {
   "cell_type": "code",
   "execution_count": 48,
   "metadata": {},
   "outputs": [
    {
     "name": "stdout",
     "output_type": "stream",
     "text": [
      "\n"
     ]
    }
   ],
   "source": [
    "inp,outp,err=ssh.exec_command(\"mkdir local\")\n",
    "print err.read()"
   ]
  },
  {
   "cell_type": "code",
   "execution_count": 49,
   "metadata": {
    "collapsed": true
   },
   "outputs": [],
   "source": [
    "sftp = ssh.open_sftp()"
   ]
  },
  {
   "cell_type": "code",
   "execution_count": 50,
   "metadata": {},
   "outputs": [
    {
     "data": {
      "text/plain": [
       "<SFTPAttributes: [ size=18 uid=1000 gid=1000 mode=0100664 atime=1520735778 mtime=1520735778 ]>"
      ]
     },
     "execution_count": 50,
     "metadata": {},
     "output_type": "execute_result"
    }
   ],
   "source": [
    "sftp.put(\"/home/khyaathi-python/local/a.py\",\"/home/khyaathi-python/remote/b.py\")"
   ]
  },
  {
   "cell_type": "code",
   "execution_count": 51,
   "metadata": {
    "collapsed": true
   },
   "outputs": [],
   "source": [
    "sftp.get(\"/home/khyaathi-python/remote/b.py\",\"/home/khyaathi-python/local/c.py\")"
   ]
  },
  {
   "cell_type": "code",
   "execution_count": 52,
   "metadata": {},
   "outputs": [
    {
     "name": "stdout",
     "output_type": "stream",
     "text": [
      "[sudo] password for khyaathi-python: \n"
     ]
    }
   ],
   "source": [
    "inp,outp,err=ssh.exec_command(\"echo %s | sudo -S ls /proc\"%password)\n",
    "print err.read()"
   ]
  },
  {
   "cell_type": "code",
   "execution_count": 53,
   "metadata": {},
   "outputs": [
    {
     "name": "stdout",
     "output_type": "stream",
     "text": [
      "[sudo] password for khyaathi-python: \n",
      "1\n",
      "10\n",
      "10187\n",
      "10462\n",
      "11\n",
      "113\n",
      "11394\n",
      "11395\n",
      "114\n",
      "115\n",
      "11521\n",
      "11524\n",
      "11565\n",
      "11758\n",
      "11820\n",
      "12\n",
      "12022\n",
      "12118\n",
      "12262\n",
      "12344\n",
      "12362\n",
      "12364\n",
      "12369\n",
      "12370\n",
      "1245\n",
      "1246\n",
      "1247\n",
      "1248\n",
      "1249\n",
      "13\n",
      "1355\n",
      "1365\n",
      "1394\n",
      "14\n",
      "15\n",
      "1522\n",
      "1540\n",
      "1554\n",
      "1558\n",
      "1569\n",
      "157\n",
      "1583\n",
      "1586\n",
      "16\n",
      "166\n",
      "167\n",
      "168\n",
      "169\n",
      "17\n",
      "1784\n",
      "18\n",
      "1814\n",
      "1819\n",
      "1830\n",
      "1872\n",
      "1875\n",
      "19\n",
      "191\n",
      "1917\n",
      "192\n",
      "1961\n",
      "1964\n",
      "1973\n",
      "1974\n",
      "1978\n",
      "1983\n",
      "1998\n",
      "2\n",
      "20\n",
      "2013\n",
      "2028\n",
      "2037\n",
      "2038\n",
      "2044\n",
      "2045\n",
      "2055\n",
      "2059\n",
      "2063\n",
      "2083\n",
      "2088\n",
      "21\n",
      "2106\n",
      "2173\n",
      "2191\n",
      "2193\n",
      "22\n",
      "2241\n",
      "2246\n",
      "2249\n",
      "2282\n",
      "23\n",
      "2303\n",
      "2316\n",
      "232\n",
      "2323\n",
      "233\n",
      "2344\n",
      "2350\n",
      "2356\n",
      "2366\n",
      "2368\n",
      "2375\n",
      "2379\n",
      "2382\n",
      "2385\n",
      "2390\n",
      "2394\n",
      "2397\n",
      "2398\n",
      "24\n",
      "2402\n",
      "2406\n",
      "2422\n",
      "2451\n",
      "25\n",
      "2500\n",
      "2517\n",
      "2521\n",
      "2527\n",
      "253\n",
      "2535\n",
      "2539\n",
      "2543\n",
      "2548\n",
      "2553\n",
      "2569\n",
      "2584\n",
      "2588\n",
      "26\n",
      "2605\n",
      "2628\n",
      "2694\n",
      "27\n",
      "2701\n",
      "2705\n",
      "2713\n",
      "2793\n",
      "28\n",
      "2859\n",
      "2963\n",
      "3\n",
      "3055\n",
      "32\n",
      "33\n",
      "34\n",
      "340\n",
      "395\n",
      "5\n",
      "598\n",
      "602\n",
      "605\n",
      "615\n",
      "616\n",
      "641\n",
      "644\n",
      "6492\n",
      "6513\n",
      "653\n",
      "654\n",
      "656\n",
      "661\n",
      "668\n",
      "669\n",
      "7\n",
      "729\n",
      "73\n",
      "74\n",
      "75\n",
      "76\n",
      "77\n",
      "78\n",
      "79\n",
      "8\n",
      "80\n",
      "81\n",
      "8161\n",
      "82\n",
      "828\n",
      "83\n",
      "84\n",
      "847\n",
      "85\n",
      "853\n",
      "8536\n",
      "86\n",
      "862\n",
      "8800\n",
      "8809\n",
      "8830\n",
      "8846\n",
      "8910\n",
      "8993\n",
      "9\n",
      "9003\n",
      "9004\n",
      "9088\n",
      "911\n",
      "92\n",
      "921\n",
      "929\n",
      "942\n",
      "9800\n",
      "9801\n",
      "9840\n",
      "9841\n",
      "acpi\n",
      "asound\n",
      "buddyinfo\n",
      "bus\n",
      "cgroups\n",
      "cmdline\n",
      "consoles\n",
      "cpuinfo\n",
      "crypto\n",
      "devices\n",
      "diskstats\n",
      "dma\n",
      "driver\n",
      "execdomains\n",
      "fb\n",
      "filesystems\n",
      "fs\n",
      "interrupts\n",
      "iomem\n",
      "ioports\n",
      "irq\n",
      "kallsyms\n",
      "kcore\n",
      "keys\n",
      "key-users\n",
      "kmsg\n",
      "kpagecgroup\n",
      "kpagecount\n",
      "kpageflags\n",
      "loadavg\n",
      "locks\n",
      "mdstat\n",
      "meminfo\n",
      "misc\n",
      "modules\n",
      "mounts\n",
      "mtrr\n",
      "net\n",
      "pagetypeinfo\n",
      "partitions\n",
      "sched_debug\n",
      "schedstat\n",
      "scsi\n",
      "self\n",
      "slabinfo\n",
      "softirqs\n",
      "stat\n",
      "swaps\n",
      "sys\n",
      "sysrq-trigger\n",
      "sysvipc\n",
      "thread-self\n",
      "timer_list\n",
      "timer_stats\n",
      "tty\n",
      "uptime\n",
      "version\n",
      "version_signature\n",
      "vmallocinfo\n",
      "vmstat\n",
      "zoneinfo\n",
      "\n"
     ]
    }
   ],
   "source": [
    "inp,outp,err=ssh.exec_command(\"echo %s | sudo -S ls /proc\"%password)\n",
    "print err.read()\n",
    "print outp.read()"
   ]
  },
  {
   "cell_type": "code",
   "execution_count": null,
   "metadata": {
    "collapsed": true
   },
   "outputs": [],
   "source": []
  }
 ],
 "metadata": {
  "kernelspec": {
   "display_name": "Python 2",
   "language": "python",
   "name": "python2"
  },
  "language_info": {
   "codemirror_mode": {
    "name": "ipython",
    "version": 2
   },
   "file_extension": ".py",
   "mimetype": "text/x-python",
   "name": "python",
   "nbconvert_exporter": "python",
   "pygments_lexer": "ipython2",
   "version": "2.7.14"
  }
 },
 "nbformat": 4,
 "nbformat_minor": 2
}
