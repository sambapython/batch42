{
 "cells": [
  {
   "cell_type": "code",
   "execution_count": 2,
   "metadata": {},
   "outputs": [
    {
     "name": "stdout",
     "output_type": "stream",
     "text": [
      "('Anilkumar', 1000, 1100.0)\n"
     ]
    }
   ],
   "source": [
    "class Emp:\n",
    "    compname=\"Khyaathi\"\n",
    "    def __init__(self,name,sal,incp):\n",
    "        self.name=name\n",
    "        self.sal=sal\n",
    "        self.incp=incp\n",
    "        self.usal = self.sal_cal()\n",
    "    def sal_cal(self):\n",
    "        return self.sal+(self.sal/float(self.incp))\n",
    "    def get(self):\n",
    "        return self.name, self.sal,self.usal\n",
    "anil=Emp(\"Anilkumar\",1000,10)\n",
    "print anil.get()"
   ]
  },
  {
   "cell_type": "code",
   "execution_count": 7,
   "metadata": {},
   "outputs": [
    {
     "name": "stdout",
     "output_type": "stream",
     "text": [
      "10\n",
      "('Anilkumar', 1000, 1100.0)\n",
      "30\n",
      "('Anilkumar', 1000, 1300.0)\n"
     ]
    }
   ],
   "source": [
    "class Emp:\n",
    "    compname=\"Khyaathi\"\n",
    "    def __init__(self,name,sal,incp):\n",
    "        self.name=name\n",
    "        self.sal=sal\n",
    "        self.incp=incp\n",
    "    def sal_cal(self):\n",
    "        print self.incp\n",
    "        return self.sal+(self.sal*(self.incp/100.0))\n",
    "    def get(self):\n",
    "        self.usal = self.sal_cal()\n",
    "        return self.name, self.sal,self.usal\n",
    "anil=Emp(\"Anilkumar\",1000,10)\n",
    "print anil.get()\n",
    "anil.incp=30\n",
    "print anil.get()"
   ]
  },
  {
   "cell_type": "code",
   "execution_count": 9,
   "metadata": {},
   "outputs": [
    {
     "name": "stdout",
     "output_type": "stream",
     "text": [
      "10\n",
      "('Anilkumar', 1000, 1100.0)\n",
      "10\n",
      "('Anilkumar', 1000, 1100.0)\n"
     ]
    }
   ],
   "source": [
    "class Emp:\n",
    "    compname=\"Khyaathi\"\n",
    "    def __init__(self,name,sal,incp):\n",
    "        self.name=name\n",
    "        self.sal=sal\n",
    "        self.__incp=incp\n",
    "    def sal_cal(self):\n",
    "        print self.__incp\n",
    "        return self.sal+(self.sal*(self.__incp/100.0))\n",
    "    def get(self):\n",
    "        self.usal = self.sal_cal()\n",
    "        return self.name, self.sal,self.usal\n",
    "anil=Emp(\"Anilkumar\",1000,10)\n",
    "print anil.get()\n",
    "anil.__incp=30\n",
    "print anil.get()"
   ]
  },
  {
   "cell_type": "code",
   "execution_count": 10,
   "metadata": {},
   "outputs": [
    {
     "name": "stdout",
     "output_type": "stream",
     "text": [
      "10\n",
      "('Anilkumar', 1000, 1100.0)\n",
      "modification through attribute outside the class\n",
      "10\n",
      "('Anilkumar', 1000, 1100.0)\n",
      "modification through function call\n",
      "30\n",
      "('Anilkumar', 1000, 1300.0)\n"
     ]
    }
   ],
   "source": [
    "class Emp:\n",
    "    compname=\"Khyaathi\"\n",
    "    def __init__(self,name,sal,incp):\n",
    "        self.name=name\n",
    "        self.sal=sal\n",
    "        self.__incp=incp\n",
    "    def sal_cal(self):\n",
    "        print self.__incp\n",
    "        return self.sal+(self.sal*(self.__incp/100.0))\n",
    "    def get(self):\n",
    "        self.usal = self.sal_cal()\n",
    "        return self.name, self.sal,self.usal\n",
    "    def change_incp(self,per):\n",
    "        \n",
    "        self.__incp=per\n",
    "anil=Emp(\"Anilkumar\",1000,10)\n",
    "print anil.get()\n",
    "print \"modification through attribute outside the class\"\n",
    "anil.__incp=30\n",
    "print anil.get()\n",
    "print \"modification through function call\"\n",
    "anil.change_incp(30)\n",
    "print anil.get()"
   ]
  },
  {
   "cell_type": "code",
   "execution_count": 11,
   "metadata": {},
   "outputs": [
    {
     "name": "stdout",
     "output_type": "stream",
     "text": [
      "10\n",
      "1100.0\n"
     ]
    }
   ],
   "source": [
    "class Emp:\n",
    "    compname=\"Khyaathi\"\n",
    "    def __init__(self,name,sal,incp):\n",
    "        self.name=name\n",
    "        self.sal=sal\n",
    "        self.__incp=incp\n",
    "    def sal_cal(self):\n",
    "        print self.__incp\n",
    "        return self.sal+(self.sal*(self.__incp/100.0))\n",
    "    def get(self):\n",
    "        self.usal = self.sal_cal()\n",
    "        return self.name, self.sal,self.usal\n",
    "    def change_incp(self,per):\n",
    "        \n",
    "        self.__incp=per\n",
    "anil=Emp(\"Anilkumar\",1000,10)\n",
    "print anil.sal_cal()"
   ]
  },
  {
   "cell_type": "code",
   "execution_count": 14,
   "metadata": {},
   "outputs": [
    {
     "name": "stdout",
     "output_type": "stream",
     "text": [
      "10\n",
      "('Anilkumar', 1000, 1100.0)\n"
     ]
    }
   ],
   "source": [
    "class Emp:\n",
    "    compname=\"Khyaathi\"\n",
    "    def __init__(self,name,sal,incp):\n",
    "        self.name=name\n",
    "        self.sal=sal\n",
    "        self.__incp=incp\n",
    "    def __sal_cal(self):\n",
    "        print self.__incp\n",
    "        return self.sal+(self.sal*(self.__incp/100.0))\n",
    "    def get(self):\n",
    "        self.usal = self.__sal_cal()\n",
    "        return self.name, self.sal,self.usal\n",
    "    def change_incp(self,per):\n",
    "        \n",
    "        self.__incp=per\n",
    "anil=Emp(\"Anilkumar\",1000,10)\n",
    "print anil.get()\n",
    "#print anil.__sal_cal()"
   ]
  },
  {
   "cell_type": "code",
   "execution_count": 15,
   "metadata": {},
   "outputs": [
    {
     "name": "stdout",
     "output_type": "stream",
     "text": [
      "10\n",
      "('Anilkumar', 1000, 1100.0)\n"
     ]
    },
    {
     "ename": "AttributeError",
     "evalue": "Emp instance has no attribute '__sal_cal'",
     "output_type": "error",
     "traceback": [
      "\u001b[0;31m---------------------------------------------------------------------------\u001b[0m",
      "\u001b[0;31mAttributeError\u001b[0m                            Traceback (most recent call last)",
      "\u001b[0;32m<ipython-input-15-135346fdf72a>\u001b[0m in \u001b[0;36m<module>\u001b[0;34m()\u001b[0m\n\u001b[1;32m     16\u001b[0m \u001b[0manil\u001b[0m\u001b[0;34m=\u001b[0m\u001b[0mEmp\u001b[0m\u001b[0;34m(\u001b[0m\u001b[0;34m\"Anilkumar\"\u001b[0m\u001b[0;34m,\u001b[0m\u001b[0;36m1000\u001b[0m\u001b[0;34m,\u001b[0m\u001b[0;36m10\u001b[0m\u001b[0;34m)\u001b[0m\u001b[0;34m\u001b[0m\u001b[0m\n\u001b[1;32m     17\u001b[0m \u001b[0;32mprint\u001b[0m \u001b[0manil\u001b[0m\u001b[0;34m.\u001b[0m\u001b[0mget\u001b[0m\u001b[0;34m(\u001b[0m\u001b[0;34m)\u001b[0m\u001b[0;34m\u001b[0m\u001b[0m\n\u001b[0;32m---> 18\u001b[0;31m \u001b[0;32mprint\u001b[0m \u001b[0manil\u001b[0m\u001b[0;34m.\u001b[0m\u001b[0m__sal_cal\u001b[0m\u001b[0;34m(\u001b[0m\u001b[0;34m)\u001b[0m\u001b[0;34m\u001b[0m\u001b[0m\n\u001b[0m",
      "\u001b[0;31mAttributeError\u001b[0m: Emp instance has no attribute '__sal_cal'"
     ]
    }
   ],
   "source": [
    "class Emp:\n",
    "    compname=\"Khyaathi\"\n",
    "    def __init__(self,name,sal,incp):\n",
    "        self.name=name\n",
    "        self.sal=sal\n",
    "        self.__incp=incp\n",
    "    def __sal_cal(self):\n",
    "        print self.__incp\n",
    "        return self.sal+(self.sal*(self.__incp/100.0))\n",
    "    def get(self):\n",
    "        self.usal = self.__sal_cal()\n",
    "        return self.name, self.sal,self.usal\n",
    "    def change_incp(self,per):\n",
    "        \n",
    "        self.__incp=per\n",
    "anil=Emp(\"Anilkumar\",1000,10)\n",
    "print anil.get()\n",
    "print anil.__sal_cal()"
   ]
  },
  {
   "cell_type": "code",
   "execution_count": 16,
   "metadata": {},
   "outputs": [
    {
     "name": "stdout",
     "output_type": "stream",
     "text": [
      "Emp constructor\n"
     ]
    }
   ],
   "source": [
    "# method oveerloading, method over riding, operator overloading\n",
    "#method overriding\n",
    "class Person:\n",
    "    def __init__(self,name,age,address):\n",
    "        print \"person constructor\"\n",
    "        self.name=name\n",
    "        self.age=age\n",
    "        self.address=address\n",
    "class Emp(Person):\n",
    "    def __init__(self,name,age,address,sal,emp_id):\n",
    "        print \"Emp constructor\"\n",
    "        pass\n",
    "anil=Emp(\"anil\",23,\"HYD\",234567,234)"
   ]
  },
  {
   "cell_type": "code",
   "execution_count": 19,
   "metadata": {},
   "outputs": [
    {
     "name": "stdout",
     "output_type": "stream",
     "text": [
      "{'emp_id': 234, 'age': 23, 'sal': 234567, 'name': 'anil', 'address': 'HYD'}\n"
     ]
    }
   ],
   "source": [
    "# method oveerloading, method over riding, operator overloading\n",
    "#method overriding\n",
    "class Person:\n",
    "    def __init__(self,name,age,address):\n",
    "        self.name=name\n",
    "        self.age=age\n",
    "        self.address=address\n",
    "class Emp(Person):\n",
    "    def __init__(self,name,age,address,sal,emp_id):\n",
    "        Person.__init__(self,name,age,address)\n",
    "        self.sal=sal\n",
    "        self.emp_id=emp_id\n",
    "    def get(self):\n",
    "        return self.__dict__\n",
    "anil=Emp(\"anil\",23,\"HYD\",234567,234)\n",
    "print anil.get()"
   ]
  },
  {
   "cell_type": "code",
   "execution_count": 22,
   "metadata": {},
   "outputs": [
    {
     "name": "stdout",
     "output_type": "stream",
     "text": [
      "{'age': 28, 'name': 'samba', 'address': 'Moosapet'}\n"
     ]
    },
    {
     "ename": "TypeError",
     "evalue": "__init__() takes exactly 4 arguments (8 given)",
     "output_type": "error",
     "traceback": [
      "\u001b[0;31m---------------------------------------------------------------------------\u001b[0m",
      "\u001b[0;31mTypeError\u001b[0m                                 Traceback (most recent call last)",
      "\u001b[0;32m<ipython-input-22-742499cbaf30>\u001b[0m in \u001b[0;36m<module>\u001b[0;34m()\u001b[0m\n\u001b[1;32m      9\u001b[0m \u001b[0msamba\u001b[0m\u001b[0;34m=\u001b[0m\u001b[0mPerson\u001b[0m\u001b[0;34m(\u001b[0m\u001b[0;34m\"samba\"\u001b[0m\u001b[0;34m,\u001b[0m\u001b[0;36m28\u001b[0m\u001b[0;34m,\u001b[0m\u001b[0;34m\"Moosapet\"\u001b[0m\u001b[0;34m)\u001b[0m\u001b[0;34m\u001b[0m\u001b[0m\n\u001b[1;32m     10\u001b[0m \u001b[0;32mprint\u001b[0m \u001b[0msamba\u001b[0m\u001b[0;34m.\u001b[0m\u001b[0mget\u001b[0m\u001b[0;34m(\u001b[0m\u001b[0;34m)\u001b[0m\u001b[0;34m\u001b[0m\u001b[0m\n\u001b[0;32m---> 11\u001b[0;31m \u001b[0manil\u001b[0m\u001b[0;34m=\u001b[0m\u001b[0mPerson\u001b[0m\u001b[0;34m(\u001b[0m\u001b[0;34m\"anil\"\u001b[0m\u001b[0;34m,\u001b[0m\u001b[0;36m23\u001b[0m\u001b[0;34m,\u001b[0m\u001b[0;34m\"ameerpet\"\u001b[0m\u001b[0;34m,\u001b[0m\u001b[0;36m9676622023\u001b[0m\u001b[0;34m,\u001b[0m\u001b[0;36m23456\u001b[0m\u001b[0;34m,\u001b[0m\u001b[0;36m123456\u001b[0m\u001b[0;34m,\u001b[0m\u001b[0;36m345678\u001b[0m\u001b[0;34m)\u001b[0m\u001b[0;34m\u001b[0m\u001b[0m\n\u001b[0m",
      "\u001b[0;31mTypeError\u001b[0m: __init__() takes exactly 4 arguments (8 given)"
     ]
    }
   ],
   "source": [
    "#method oveerloading\n",
    "class Person:\n",
    "    def __init__(self,name,age,address):\n",
    "        self.name=name\n",
    "        self.age=age\n",
    "        self.address=address\n",
    "    def get(self):\n",
    "        return self.__dict__\n",
    "samba=Person(\"samba\",28,\"Moosapet\")\n",
    "print samba.get()\n",
    "anil=Person(\"anil\",23,\"ameerpet\",9676622023,23456,123456,345678)"
   ]
  },
  {
   "cell_type": "code",
   "execution_count": 23,
   "metadata": {},
   "outputs": [
    {
     "name": "stdout",
     "output_type": "stream",
     "text": [
      "{'name': 'samba', 'age': 28, 'cell': None, 'adhar': None, 'passport': None, 'address': 'Moosapet', 'pan': None}\n"
     ]
    }
   ],
   "source": [
    "#method oveerloading\n",
    "class Person:\n",
    "    def __init__(self,name,age,address,cell=None,adhar=None,pan=None,passport=None):\n",
    "        self.name=name\n",
    "        self.age=age\n",
    "        self.address=address\n",
    "        self.cell=cell\n",
    "        self.adhar=adhar\n",
    "        self.pan=pan\n",
    "        self.passport=passport\n",
    "    def get(self):\n",
    "        return self.__dict__\n",
    "    \n",
    "\n",
    "samba=Person(\"samba\",28,\"Moosapet\")\n",
    "print samba.get()\n",
    "anil=Person(\"anil\",23,\"ameerpet\",9676622023,23456,123456,345678)"
   ]
  },
  {
   "cell_type": "code",
   "execution_count": 24,
   "metadata": {},
   "outputs": [
    {
     "name": "stdout",
     "output_type": "stream",
     "text": [
      "{'name': 'samba', 'age': 28, 'cell': None, 'adhar': None, 'passport': None, 'address': 'Moosapet', 'pan': None}\n",
      "{'name': 'anil', 'age': 23, 'cell': 9676622023, 'adhar': 23456, 'passport': 345678, 'address': 'ameerpet', 'pan': 123456}\n"
     ]
    }
   ],
   "source": [
    "#method oveerloading\n",
    "class Person:\n",
    "    def __init__(self,name,age,address,cell=None,adhar=None,pan=None,passport=None):\n",
    "        self.name=name\n",
    "        self.age=age\n",
    "        self.address=address\n",
    "        self.cell=cell\n",
    "        self.adhar=adhar\n",
    "        self.pan=pan\n",
    "        self.passport=passport\n",
    "    def get(self):\n",
    "        return self.__dict__\n",
    "samba=Person(\"samba\",28,\"Moosapet\")\n",
    "print samba.get()\n",
    "anil=Person(\"anil\",23,\"ameerpet\",9676622023,23456,123456,345678)\n",
    "print anil.get()"
   ]
  },
  {
   "cell_type": "code",
   "execution_count": 25,
   "metadata": {},
   "outputs": [
    {
     "name": "stdout",
     "output_type": "stream",
     "text": [
      "{'name': 'samba', 'age': 28, 'cell': None, 'adhar': None, 'passport': None, 'address': 'Moosapet', 'pan': None}\n",
      "{'name': 'anil', 'age': 23, 'cell': 9676622023, 'adhar': 23456, 'passport': 345678, 'address': 'ameerpet', 'pan': 123456}\n",
      "{'name': 'Ashok', 'age': 29, 'cell': 9875678856, 'adhar': None, 'passport': None, 'address': 'Maithrivanam', 'pan': None}\n"
     ]
    }
   ],
   "source": [
    "#method oveerloading\n",
    "class Person:\n",
    "    def __init__(self,name,age,address,cell=None,adhar=None,pan=None,passport=None):\n",
    "        self.name=name\n",
    "        self.age=age\n",
    "        self.address=address\n",
    "        self.cell=cell\n",
    "        self.adhar=adhar\n",
    "        self.pan=pan\n",
    "        self.passport=passport\n",
    "    def get(self):\n",
    "        return self.__dict__\n",
    "samba=Person(\"samba\",28,\"Moosapet\")\n",
    "print samba.get()\n",
    "anil=Person(\"anil\",23,\"ameerpet\",9676622023,23456,123456,345678)\n",
    "print anil.get()\n",
    "ashok=Person(\"Ashok\",29,\"Maithrivanam\",9875678856)\n",
    "print ashok.get()"
   ]
  },
  {
   "cell_type": "code",
   "execution_count": 27,
   "metadata": {},
   "outputs": [
    {
     "name": "stdout",
     "output_type": "stream",
     "text": [
      "{'name': 'samba', 'age': 28, 'cell': 1111111111, 'adhar': '', 'passport': '', 'address': 'Moosapet', 'pan': ''}\n",
      "{'name': 'anil', 'age': 23, 'cell': 9676622023, 'adhar': 345678, 'passport': 123456, 'address': 'ameerpet', 'pan': 23456}\n",
      "{'name': 'Ashok', 'age': 29, 'cell': 9875678856, 'adhar': '', 'passport': '', 'address': 'Maithrivanam', 'pan': ''}\n"
     ]
    }
   ],
   "source": [
    "#method oveerloading\n",
    "class Person:\n",
    "    def __init__(self,**kwargs):\n",
    "        self.name=kwargs.get('name','')\n",
    "        self.age=kwargs.get('age',6)\n",
    "        self.address=kwargs.get('address','')\n",
    "        self.cell=kwargs.get('cell',1111111111)\n",
    "        self.adhar=kwargs.get('adhar','')\n",
    "        self.pan=kwargs.get('pan','')\n",
    "        self.passport=kwargs.get('passport','')\n",
    "    def get(self):\n",
    "        return self.__dict__\n",
    "samba=Person(name=\"samba\",age=28,address=\"Moosapet\")\n",
    "print samba.get()\n",
    "anil=Person(name=\"anil\",age=23,address=\"ameerpet\",cell=9676622023,pan=23456,passport=123456,adhar=345678)\n",
    "print anil.get()\n",
    "ashok=Person(name=\"Ashok\",age=29,address=\"Maithrivanam\",cell=9875678856)\n",
    "print ashok.get()"
   ]
  },
  {
   "cell_type": "code",
   "execution_count": 28,
   "metadata": {},
   "outputs": [
    {
     "name": "stdout",
     "output_type": "stream",
     "text": [
      "30\n",
      "str1str2\n",
      "(4+6j)\n"
     ]
    }
   ],
   "source": [
    "#operator overloading\n",
    "print 10 + 20\n",
    "print \"str1\" + \"str2\"\n",
    "print 1+2j + 3+4j\n"
   ]
  },
  {
   "cell_type": "code",
   "execution_count": null,
   "metadata": {
    "collapsed": true
   },
   "outputs": [],
   "source": [
    "class Person:\n",
    "    def __init__(self,**kwargs):\n",
    "        self.name=kwargs.get('name','')\n",
    "        self.age=kwargs.get('age',6)\n",
    "        self.address=kwargs.get('address','')\n",
    "        self.cell=kwargs.get('cell',1111111111)\n",
    "        self.adhar=kwargs.get('adhar','')\n",
    "        self.pan=kwargs.get('pan','')\n",
    "        self.passport=kwargs.get('passport','')\n",
    "    def get(self):\n",
    "        return self.__dict__\n",
    "samba=Person(name=\"samba\",age=28,address=\"Moosapet\")\n",
    "anil=Person(name=\"anil\",age=23,address=\"ameerpet\",cell=9676622023,pan=23456,passport=123456,adhar=345678)"
   ]
  },
  {
   "cell_type": "code",
   "execution_count": 29,
   "metadata": {},
   "outputs": [
    {
     "data": {
      "text/plain": [
       "1"
      ]
     },
     "execution_count": 29,
     "metadata": {},
     "output_type": "execute_result"
    }
   ],
   "source": [
    "l=[1,2,3,4]\n",
    "l.count(1)"
   ]
  },
  {
   "cell_type": "code",
   "execution_count": 30,
   "metadata": {},
   "outputs": [
    {
     "name": "stdout",
     "output_type": "stream",
     "text": [
      "30\n"
     ]
    },
    {
     "ename": "TypeError",
     "evalue": "unsupported operand type(s) for +: 'instance' and 'instance'",
     "output_type": "error",
     "traceback": [
      "\u001b[0;31m---------------------------------------------------------------------------\u001b[0m",
      "\u001b[0;31mTypeError\u001b[0m                                 Traceback (most recent call last)",
      "\u001b[0;32m<ipython-input-30-01662a5912b5>\u001b[0m in \u001b[0;36m<module>\u001b[0;34m()\u001b[0m\n\u001b[1;32m     15\u001b[0m \u001b[0mb\u001b[0m\u001b[0;34m=\u001b[0m\u001b[0;36m20\u001b[0m\u001b[0;34m\u001b[0m\u001b[0m\n\u001b[1;32m     16\u001b[0m \u001b[0;32mprint\u001b[0m \u001b[0ma\u001b[0m\u001b[0;34m+\u001b[0m\u001b[0mb\u001b[0m\u001b[0;34m\u001b[0m\u001b[0m\n\u001b[0;32m---> 17\u001b[0;31m \u001b[0;32mprint\u001b[0m \u001b[0manil\u001b[0m\u001b[0;34m+\u001b[0m\u001b[0msamba\u001b[0m\u001b[0;34m\u001b[0m\u001b[0m\n\u001b[0m",
      "\u001b[0;31mTypeError\u001b[0m: unsupported operand type(s) for +: 'instance' and 'instance'"
     ]
    }
   ],
   "source": [
    "class Person:\n",
    "    def __init__(self,**kwargs):\n",
    "        self.name=kwargs.get('name','')\n",
    "        self.age=kwargs.get('age',6)\n",
    "        self.address=kwargs.get('address','')\n",
    "        self.cell=kwargs.get('cell',1111111111)\n",
    "        self.adhar=kwargs.get('adhar','')\n",
    "        self.pan=kwargs.get('pan','')\n",
    "        self.passport=kwargs.get('passport','')\n",
    "    def get(self):\n",
    "        return self.__dict__\n",
    "samba=Person(name=\"samba\",age=28,address=\"Moosapet\")\n",
    "anil=Person(name=\"anil\",age=23,address=\"ameerpet\",cell=9676622023,pan=23456,passport=123456,adhar=345678)\n",
    "a=10\n",
    "b=20\n",
    "print a+b\n",
    "print anil+samba"
   ]
  },
  {
   "cell_type": "code",
   "execution_count": 31,
   "metadata": {},
   "outputs": [
    {
     "ename": "TypeError",
     "evalue": "unsupported operand type(s) for +: 'dict' and 'dict'",
     "output_type": "error",
     "traceback": [
      "\u001b[0;31m---------------------------------------------------------------------------\u001b[0m",
      "\u001b[0;31mTypeError\u001b[0m                                 Traceback (most recent call last)",
      "\u001b[0;32m<ipython-input-31-0cc183cfea5c>\u001b[0m in \u001b[0;36m<module>\u001b[0;34m()\u001b[0m\n\u001b[1;32m      1\u001b[0m \u001b[0md1\u001b[0m\u001b[0;34m=\u001b[0m\u001b[0;34m{\u001b[0m\u001b[0;36m1\u001b[0m\u001b[0;34m:\u001b[0m\u001b[0;36m2\u001b[0m\u001b[0;34m}\u001b[0m\u001b[0;34m\u001b[0m\u001b[0m\n\u001b[1;32m      2\u001b[0m \u001b[0md2\u001b[0m\u001b[0;34m=\u001b[0m\u001b[0;34m{\u001b[0m\u001b[0;36m3\u001b[0m\u001b[0;34m:\u001b[0m\u001b[0;36m4\u001b[0m\u001b[0;34m}\u001b[0m\u001b[0;34m\u001b[0m\u001b[0m\n\u001b[0;32m----> 3\u001b[0;31m \u001b[0;32mprint\u001b[0m \u001b[0md1\u001b[0m\u001b[0;34m+\u001b[0m\u001b[0md2\u001b[0m\u001b[0;34m\u001b[0m\u001b[0m\n\u001b[0m",
      "\u001b[0;31mTypeError\u001b[0m: unsupported operand type(s) for +: 'dict' and 'dict'"
     ]
    }
   ],
   "source": [
    "d1={1:2}\n",
    "d2={3:4}\n",
    "print d1+d2"
   ]
  },
  {
   "cell_type": "code",
   "execution_count": 32,
   "metadata": {},
   "outputs": [
    {
     "name": "stdout",
     "output_type": "stream",
     "text": [
      "30\n"
     ]
    }
   ],
   "source": [
    "a=10\n",
    "b=20\n",
    "print a+b"
   ]
  },
  {
   "cell_type": "code",
   "execution_count": 33,
   "metadata": {},
   "outputs": [
    {
     "name": "stdout",
     "output_type": "stream",
     "text": [
      "30\n",
      "Hi +. Give some definition\n"
     ]
    }
   ],
   "source": [
    "class Person:\n",
    "    def __init__(self,**kwargs):\n",
    "        self.name=kwargs.get('name','')\n",
    "        self.age=kwargs.get('age',6)\n",
    "        self.address=kwargs.get('address','')\n",
    "        self.cell=kwargs.get('cell',1111111111)\n",
    "        self.adhar=kwargs.get('adhar','')\n",
    "        self.pan=kwargs.get('pan','')\n",
    "        self.passport=kwargs.get('passport','')\n",
    "    def get(self):\n",
    "        return self.__dict__\n",
    "    def __add__(self1,self2):\n",
    "        return \"Hi +. Give some definition\"\n",
    "        \n",
    "samba=Person(name=\"samba\",age=28,address=\"Moosapet\")\n",
    "anil=Person(name=\"anil\",age=23,address=\"ameerpet\",cell=9676622023,pan=23456,passport=123456,adhar=345678)\n",
    "a=10\n",
    "b=20\n",
    "print a+b\n",
    "print anil+samba"
   ]
  },
  {
   "cell_type": "code",
   "execution_count": 34,
   "metadata": {},
   "outputs": [
    {
     "name": "stdout",
     "output_type": "stream",
     "text": [
      "30\n",
      "anilsamba\n"
     ]
    }
   ],
   "source": [
    "class Person:\n",
    "    def __init__(self,**kwargs):\n",
    "        self.name=kwargs.get('name','')\n",
    "        self.age=kwargs.get('age',6)\n",
    "        self.address=kwargs.get('address','')\n",
    "        self.cell=kwargs.get('cell',1111111111)\n",
    "        self.adhar=kwargs.get('adhar','')\n",
    "        self.pan=kwargs.get('pan','')\n",
    "        self.passport=kwargs.get('passport','')\n",
    "    def get(self):\n",
    "        return self.__dict__\n",
    "    def __add__(self1,self2):\n",
    "        return self1.name+self2.name\n",
    "        \n",
    "samba=Person(name=\"samba\",age=28,address=\"Moosapet\")\n",
    "anil=Person(name=\"anil\",age=23,address=\"ameerpet\",cell=9676622023,pan=23456,passport=123456,adhar=345678)\n",
    "a=10\n",
    "b=20\n",
    "print a+b\n",
    "print anil+samba"
   ]
  },
  {
   "cell_type": "code",
   "execution_count": 35,
   "metadata": {},
   "outputs": [
    {
     "name": "stdout",
     "output_type": "stream",
     "text": [
      "30\n",
      "('anilsamba', (23, 28))\n"
     ]
    }
   ],
   "source": [
    "class Person:\n",
    "    def __init__(self,**kwargs):\n",
    "        self.name=kwargs.get('name','')\n",
    "        self.age=kwargs.get('age',6)\n",
    "        self.address=kwargs.get('address','')\n",
    "        self.cell=kwargs.get('cell',1111111111)\n",
    "        self.adhar=kwargs.get('adhar','')\n",
    "        self.pan=kwargs.get('pan','')\n",
    "        self.passport=kwargs.get('passport','')\n",
    "    def get(self):\n",
    "        return self.__dict__\n",
    "    def __add__(self1,self2):\n",
    "        return self1.name+self2.name,(self1.age,self2.age)\n",
    "        \n",
    "samba=Person(name=\"samba\",age=28,address=\"Moosapet\")\n",
    "anil=Person(name=\"anil\",age=23,address=\"ameerpet\",cell=9676622023,pan=23456,passport=123456,adhar=345678)\n",
    "a=10\n",
    "b=20\n",
    "print a+b\n",
    "print anil+samba"
   ]
  },
  {
   "cell_type": "code",
   "execution_count": 36,
   "metadata": {},
   "outputs": [
    {
     "name": "stdout",
     "output_type": "stream",
     "text": [
      "30\n",
      "('anilsamba', (23, 28))\n",
      "p\n",
      "y\n",
      "t\n",
      "h\n",
      "o\n"
     ]
    }
   ],
   "source": [
    "class Person:\n",
    "    def __init__(self,**kwargs):\n",
    "        self.name=kwargs.get('name','')\n",
    "        self.age=kwargs.get('age',6)\n",
    "        self.address=kwargs.get('address','')\n",
    "        self.cell=kwargs.get('cell',1111111111)\n",
    "        self.adhar=kwargs.get('adhar','')\n",
    "        self.pan=kwargs.get('pan','')\n",
    "        self.passport=kwargs.get('passport','')\n",
    "    def get(self):\n",
    "        return self.__dict__\n",
    "    def __add__(self1,self2):\n",
    "        return self1.name+self2.name,(self1.age,self2.age)\n",
    "        \n",
    "samba=Person(name=\"samba\",age=28,address=\"Moosapet\")\n",
    "anil=Person(name=\"anil\",age=23,address=\"ameerpet\",cell=9676622023,pan=23456,passport=123456,adhar=345678)\n",
    "a=10\n",
    "b=20\n",
    "print a+b\n",
    "print anil+samba\n",
    "for i in \"pytho\":\n",
    "    print i"
   ]
  },
  {
   "cell_type": "code",
   "execution_count": 37,
   "metadata": {},
   "outputs": [
    {
     "name": "stdout",
     "output_type": "stream",
     "text": [
      "30\n",
      "('anilsamba', (23, 28))\n",
      "p\n",
      "y\n",
      "t\n",
      "h\n",
      "o\n"
     ]
    },
    {
     "ename": "TypeError",
     "evalue": "iteration over non-sequence",
     "output_type": "error",
     "traceback": [
      "\u001b[0;31m---------------------------------------------------------------------------\u001b[0m",
      "\u001b[0;31mTypeError\u001b[0m                                 Traceback (most recent call last)",
      "\u001b[0;32m<ipython-input-37-baa8fe06ac6a>\u001b[0m in \u001b[0;36m<module>\u001b[0;34m()\u001b[0m\n\u001b[1;32m     21\u001b[0m \u001b[0;32mfor\u001b[0m \u001b[0mi\u001b[0m \u001b[0;32min\u001b[0m \u001b[0;34m\"pytho\"\u001b[0m\u001b[0;34m:\u001b[0m\u001b[0;34m\u001b[0m\u001b[0m\n\u001b[1;32m     22\u001b[0m     \u001b[0;32mprint\u001b[0m \u001b[0mi\u001b[0m\u001b[0;34m\u001b[0m\u001b[0m\n\u001b[0;32m---> 23\u001b[0;31m \u001b[0;32mfor\u001b[0m \u001b[0mi\u001b[0m \u001b[0;32min\u001b[0m \u001b[0msamba\u001b[0m\u001b[0;34m:\u001b[0m\u001b[0;34m\u001b[0m\u001b[0m\n\u001b[0m\u001b[1;32m     24\u001b[0m     \u001b[0;32mprint\u001b[0m \u001b[0mi\u001b[0m\u001b[0;34m\u001b[0m\u001b[0m\n",
      "\u001b[0;31mTypeError\u001b[0m: iteration over non-sequence"
     ]
    }
   ],
   "source": [
    "class Person:\n",
    "    def __init__(self,**kwargs):\n",
    "        self.name=kwargs.get('name','')\n",
    "        self.age=kwargs.get('age',6)\n",
    "        self.address=kwargs.get('address','')\n",
    "        self.cell=kwargs.get('cell',1111111111)\n",
    "        self.adhar=kwargs.get('adhar','')\n",
    "        self.pan=kwargs.get('pan','')\n",
    "        self.passport=kwargs.get('passport','')\n",
    "    def get(self):\n",
    "        return self.__dict__\n",
    "    def __add__(self1,self2):\n",
    "        return self1.name+self2.name,(self1.age,self2.age)\n",
    "        \n",
    "samba=Person(name=\"samba\",age=28,address=\"Moosapet\")\n",
    "anil=Person(name=\"anil\",age=23,address=\"ameerpet\",cell=9676622023,pan=23456,passport=123456,adhar=345678)\n",
    "a=10\n",
    "b=20\n",
    "print a+b\n",
    "print anil+samba\n",
    "for i in \"pytho\":\n",
    "    print i\n",
    "for i in samba:\n",
    "    print i"
   ]
  },
  {
   "cell_type": "code",
   "execution_count": 38,
   "metadata": {},
   "outputs": [
    {
     "ename": "TypeError",
     "evalue": "'int' object is not iterable",
     "output_type": "error",
     "traceback": [
      "\u001b[0;31m---------------------------------------------------------------------------\u001b[0m",
      "\u001b[0;31mTypeError\u001b[0m                                 Traceback (most recent call last)",
      "\u001b[0;32m<ipython-input-38-dae0df8168f7>\u001b[0m in \u001b[0;36m<module>\u001b[0;34m()\u001b[0m\n\u001b[0;32m----> 1\u001b[0;31m \u001b[0;32mfor\u001b[0m \u001b[0mi\u001b[0m \u001b[0;32min\u001b[0m \u001b[0;36m10\u001b[0m\u001b[0;34m:\u001b[0m\u001b[0;34m\u001b[0m\u001b[0m\n\u001b[0m\u001b[1;32m      2\u001b[0m     \u001b[0;32mprint\u001b[0m \u001b[0mi\u001b[0m\u001b[0;34m\u001b[0m\u001b[0m\n",
      "\u001b[0;31mTypeError\u001b[0m: 'int' object is not iterable"
     ]
    }
   ],
   "source": [
    "for i in 10:\n",
    "    print i"
   ]
  },
  {
   "cell_type": "code",
   "execution_count": null,
   "metadata": {
    "collapsed": true
   },
   "outputs": [],
   "source": []
  }
 ],
 "metadata": {
  "kernelspec": {
   "display_name": "Python 2",
   "language": "python",
   "name": "python2"
  },
  "language_info": {
   "codemirror_mode": {
    "name": "ipython",
    "version": 2
   },
   "file_extension": ".py",
   "mimetype": "text/x-python",
   "name": "python",
   "nbconvert_exporter": "python",
   "pygments_lexer": "ipython2",
   "version": "2.7.14"
  }
 },
 "nbformat": 4,
 "nbformat_minor": 2
}
