{
 "cells": [
  {
   "cell_type": "code",
   "execution_count": 1,
   "metadata": {},
   "outputs": [
    {
     "name": "stdout",
     "output_type": "stream",
     "text": [
      "100 200\n",
      "result= 300\n"
     ]
    }
   ],
   "source": [
    "def fun(a,b):\n",
    "    print a,b\n",
    "    return a+b\n",
    "    res = a-b\n",
    "    return res\n",
    "result = fun(100,200)\n",
    "print \"result=\",result"
   ]
  },
  {
   "cell_type": "code",
   "execution_count": 2,
   "metadata": {},
   "outputs": [
    {
     "name": "stdout",
     "output_type": "stream",
     "text": [
      "st1\n",
      "10\n"
     ]
    }
   ],
   "source": [
    "def fun():\n",
    "    print \"st1\"\n",
    "    return  10\n",
    "    print \"st2\"\n",
    "    return 20\n",
    "    print \"st3\"\n",
    "    return 30\n",
    "    print \"st4\"\n",
    "    return 40\n",
    "print fun()"
   ]
  },
  {
   "cell_type": "code",
   "execution_count": 3,
   "metadata": {},
   "outputs": [
    {
     "name": "stdout",
     "output_type": "stream",
     "text": [
      "<generator object fun at 0x7f5060503870>\n"
     ]
    }
   ],
   "source": [
    "def fun():\n",
    "    print \"st1\"\n",
    "    yield  10\n",
    "    print \"st2\"\n",
    "    yield 20\n",
    "    print \"st3\"\n",
    "    yield 30\n",
    "    print \"st4\"\n",
    "    yield 40\n",
    "print fun()"
   ]
  },
  {
   "cell_type": "code",
   "execution_count": 4,
   "metadata": {},
   "outputs": [
    {
     "name": "stdout",
     "output_type": "stream",
     "text": [
      "res= <generator object fun at 0x7f5060503780>\n"
     ]
    }
   ],
   "source": [
    "def fun():\n",
    "    print \"st1\"\n",
    "    yield  10\n",
    "    print \"st2\"\n",
    "    yield 20\n",
    "    print \"st3\"\n",
    "    yield 30\n",
    "    print \"st4\"\n",
    "    yield 40\n",
    "res = fun()\n",
    "print \"res=\",res"
   ]
  },
  {
   "cell_type": "code",
   "execution_count": 5,
   "metadata": {},
   "outputs": [
    {
     "name": "stdout",
     "output_type": "stream",
     "text": [
      "st1\n",
      "r1= 10\n"
     ]
    }
   ],
   "source": [
    "r1=res.next()\n",
    "print \"r1=\",r1"
   ]
  },
  {
   "cell_type": "code",
   "execution_count": 6,
   "metadata": {},
   "outputs": [
    {
     "name": "stdout",
     "output_type": "stream",
     "text": [
      "st2\n",
      "r2= 20\n"
     ]
    }
   ],
   "source": [
    "r2=res.next()\n",
    "print \"r2=\",r2"
   ]
  },
  {
   "cell_type": "code",
   "execution_count": 7,
   "metadata": {},
   "outputs": [
    {
     "name": "stdout",
     "output_type": "stream",
     "text": [
      "st3\n",
      "r3= 30\n"
     ]
    }
   ],
   "source": [
    "r3=res.next()\n",
    "print \"r3=\",r3"
   ]
  },
  {
   "cell_type": "code",
   "execution_count": 8,
   "metadata": {},
   "outputs": [
    {
     "name": "stdout",
     "output_type": "stream",
     "text": [
      "st4\n",
      "r4= 40\n"
     ]
    }
   ],
   "source": [
    "r4=res.next()\n",
    "print \"r4=\",r4"
   ]
  },
  {
   "cell_type": "code",
   "execution_count": 9,
   "metadata": {},
   "outputs": [
    {
     "ename": "StopIteration",
     "evalue": "",
     "output_type": "error",
     "traceback": [
      "\u001b[0;31m---------------------------------------------------------------------------\u001b[0m",
      "\u001b[0;31mStopIteration\u001b[0m                             Traceback (most recent call last)",
      "\u001b[0;32m<ipython-input-9-8f8ef2ee3d93>\u001b[0m in \u001b[0;36m<module>\u001b[0;34m()\u001b[0m\n\u001b[0;32m----> 1\u001b[0;31m \u001b[0mr5\u001b[0m\u001b[0;34m=\u001b[0m\u001b[0mres\u001b[0m\u001b[0;34m.\u001b[0m\u001b[0mnext\u001b[0m\u001b[0;34m(\u001b[0m\u001b[0;34m)\u001b[0m\u001b[0;34m\u001b[0m\u001b[0m\n\u001b[0m\u001b[1;32m      2\u001b[0m \u001b[0;32mprint\u001b[0m \u001b[0;34m\"r5=\"\u001b[0m\u001b[0;34m,\u001b[0m\u001b[0mr5\u001b[0m\u001b[0;34m\u001b[0m\u001b[0m\n",
      "\u001b[0;31mStopIteration\u001b[0m: "
     ]
    }
   ],
   "source": [
    "r5=res.next()\n",
    "print \"r5=\",r5"
   ]
  },
  {
   "cell_type": "code",
   "execution_count": 10,
   "metadata": {},
   "outputs": [
    {
     "name": "stdout",
     "output_type": "stream",
     "text": [
      "st1\n",
      "i= 10\n",
      "st2\n",
      "i= 20\n",
      "st3\n",
      "i= 30\n",
      "st4\n",
      "i= 40\n"
     ]
    }
   ],
   "source": [
    "def fun():\n",
    "    print \"st1\"\n",
    "    yield  10\n",
    "    print \"st2\"\n",
    "    yield 20\n",
    "    print \"st3\"\n",
    "    yield 30\n",
    "    print \"st4\"\n",
    "    yield 40\n",
    "generator = fun()\n",
    "for i in generator:\n",
    "    print \"i=\",i"
   ]
  },
  {
   "cell_type": "code",
   "execution_count": 1,
   "metadata": {},
   "outputs": [
    {
     "data": {
      "text/plain": [
       "[0, 1, 2, 3, 4, 5, 6, 7, 8, 9]"
      ]
     },
     "execution_count": 1,
     "metadata": {},
     "output_type": "execute_result"
    }
   ],
   "source": [
    "range(10)"
   ]
  },
  {
   "cell_type": "code",
   "execution_count": 2,
   "metadata": {},
   "outputs": [
    {
     "ename": "MemoryError",
     "evalue": "",
     "output_type": "error",
     "traceback": [
      "\u001b[0;31m---------------------------------------------------------------------------\u001b[0m",
      "\u001b[0;31mMemoryError\u001b[0m                               Traceback (most recent call last)",
      "\u001b[0;32m<ipython-input-2-824c33af1116>\u001b[0m in \u001b[0;36m<module>\u001b[0;34m()\u001b[0m\n\u001b[0;32m----> 1\u001b[0;31m \u001b[0mrange\u001b[0m\u001b[0;34m(\u001b[0m\u001b[0;36m13220000000\u001b[0m\u001b[0;34m)\u001b[0m\u001b[0;34m\u001b[0m\u001b[0m\n\u001b[0m",
      "\u001b[0;31mMemoryError\u001b[0m: "
     ]
    }
   ],
   "source": [
    "range(13220000000)"
   ]
  },
  {
   "cell_type": "code",
   "execution_count": 3,
   "metadata": {},
   "outputs": [
    {
     "data": {
      "text/plain": [
       "xrange(13220000000)"
      ]
     },
     "execution_count": 3,
     "metadata": {},
     "output_type": "execute_result"
    }
   ],
   "source": [
    "xrange(13220000000)"
   ]
  },
  {
   "cell_type": "code",
   "execution_count": 4,
   "metadata": {},
   "outputs": [
    {
     "name": "stdout",
     "output_type": "stream",
     "text": [
      "0\n",
      "1\n",
      "2\n",
      "3\n",
      "4\n",
      "5\n",
      "6\n",
      "7\n",
      "8\n",
      "9\n"
     ]
    }
   ],
   "source": [
    "for i in xrange(10):\n",
    "    print i"
   ]
  },
  {
   "cell_type": "code",
   "execution_count": 5,
   "metadata": {},
   "outputs": [
    {
     "name": "stdout",
     "output_type": "stream",
     "text": [
      "[2, 3, 4, 5, 6, 7, 8, 9]\n"
     ]
    }
   ],
   "source": [
    "def own_range(start, stop, step=1):\n",
    "    l=[]\n",
    "    while start<stop:\n",
    "        l.append(start)\n",
    "        start = start+step\n",
    "    return l\n",
    "res = own_range(2,10)\n",
    "print res"
   ]
  },
  {
   "cell_type": "code",
   "execution_count": 6,
   "metadata": {},
   "outputs": [
    {
     "name": "stdout",
     "output_type": "stream",
     "text": [
      "<generator object own_xrange at 0x7f02ec4a9d20>\n"
     ]
    }
   ],
   "source": [
    "def own_xrange(start, stop, step=1):\n",
    "    while start<stop:\n",
    "        yield start\n",
    "        start = start+step\n",
    "        \n",
    "res = own_xrange(2,10)\n",
    "print res"
   ]
  },
  {
   "cell_type": "code",
   "execution_count": 7,
   "metadata": {},
   "outputs": [
    {
     "name": "stdout",
     "output_type": "stream",
     "text": [
      "2\n"
     ]
    }
   ],
   "source": [
    "print res.next()"
   ]
  },
  {
   "cell_type": "code",
   "execution_count": 8,
   "metadata": {},
   "outputs": [
    {
     "name": "stdout",
     "output_type": "stream",
     "text": [
      "3\n"
     ]
    }
   ],
   "source": [
    "print res.next()"
   ]
  },
  {
   "cell_type": "code",
   "execution_count": 9,
   "metadata": {},
   "outputs": [
    {
     "name": "stdout",
     "output_type": "stream",
     "text": [
      "r3= 4\n"
     ]
    }
   ],
   "source": [
    "r3=res.next()\n",
    "print \"r3=\",r3"
   ]
  },
  {
   "cell_type": "code",
   "execution_count": 10,
   "metadata": {},
   "outputs": [
    {
     "name": "stdout",
     "output_type": "stream",
     "text": [
      "2\n",
      "3\n",
      "4\n",
      "5\n",
      "6\n",
      "7\n",
      "8\n",
      "9\n"
     ]
    }
   ],
   "source": [
    "def own_xrange(start, stop, step=1):\n",
    "    \n",
    "    while start<stop:\n",
    "        \n",
    "        yield start\n",
    "        start = start+step\n",
    "        \n",
    "for i in own_xrange(2,10):\n",
    "    print i\n",
    "    "
   ]
  },
  {
   "cell_type": "code",
   "execution_count": 11,
   "metadata": {},
   "outputs": [
    {
     "name": "stdout",
     "output_type": "stream",
     "text": [
      "a=10, b=20, c=0, d=0\n",
      "30\n",
      "a=100, b=200, c=300, d=0\n",
      "600\n",
      "a=1000, b=2000, c=3000, d=4000\n",
      "10000\n"
     ]
    }
   ],
   "source": [
    "def fun(a,b,c=0,d=0):\n",
    "    print \"a=%s, b=%s, c=%s, d=%s\"%(a,b,c,d)\n",
    "    return a+b+c+d\n",
    "print fun(10,20)\n",
    "print fun(100,200,300)\n",
    "print fun(1000,2000,3000,4000)"
   ]
  },
  {
   "cell_type": "code",
   "execution_count": 12,
   "metadata": {},
   "outputs": [
    {
     "name": "stdout",
     "output_type": "stream",
     "text": [
      "a=10, b=20, c=30, d=0\n",
      "60\n"
     ]
    }
   ],
   "source": [
    "def fun(a,b,c=0,d=0):\n",
    "    print \"a=%s, b=%s, c=%s, d=%s\"%(a,b,c,d)\n",
    "    return a+b+c+d\n",
    "print fun(10,20,30)"
   ]
  },
  {
   "cell_type": "code",
   "execution_count": 13,
   "metadata": {},
   "outputs": [
    {
     "name": "stdout",
     "output_type": "stream",
     "text": [
      "a=10, b=20, c=0, d=30\n",
      "60\n"
     ]
    }
   ],
   "source": [
    "def fun(a,b,c=0,d=0):\n",
    "    print \"a=%s, b=%s, c=%s, d=%s\"%(a,b,c,d)\n",
    "    return a+b+c+d\n",
    "print fun(10,20,0,30)"
   ]
  },
  {
   "cell_type": "code",
   "execution_count": 14,
   "metadata": {},
   "outputs": [
    {
     "name": "stdout",
     "output_type": "stream",
     "text": [
      "a=10, b=20, c=0, d=30\n",
      "60\n"
     ]
    }
   ],
   "source": [
    "#keyword arguments\n",
    "def fun(a,b,c=0,d=0):\n",
    "    print \"a=%s, b=%s, c=%s, d=%s\"%(a,b,c,d)\n",
    "    return a+b+c+d\n",
    "print fun(10,20,d=30)"
   ]
  },
  {
   "cell_type": "code",
   "execution_count": 15,
   "metadata": {},
   "outputs": [
    {
     "ename": "TypeError",
     "evalue": "fun() got an unexpected keyword argument 'e'",
     "output_type": "error",
     "traceback": [
      "\u001b[0;31m---------------------------------------------------------------------------\u001b[0m",
      "\u001b[0;31mTypeError\u001b[0m                                 Traceback (most recent call last)",
      "\u001b[0;32m<ipython-input-15-baf8f166a765>\u001b[0m in \u001b[0;36m<module>\u001b[0;34m()\u001b[0m\n\u001b[1;32m      3\u001b[0m     \u001b[0;32mprint\u001b[0m \u001b[0;34m\"a=%s, b=%s, c=%s, d=%s\"\u001b[0m\u001b[0;34m%\u001b[0m\u001b[0;34m(\u001b[0m\u001b[0ma\u001b[0m\u001b[0;34m,\u001b[0m\u001b[0mb\u001b[0m\u001b[0;34m,\u001b[0m\u001b[0mc\u001b[0m\u001b[0;34m,\u001b[0m\u001b[0md\u001b[0m\u001b[0;34m)\u001b[0m\u001b[0;34m\u001b[0m\u001b[0m\n\u001b[1;32m      4\u001b[0m     \u001b[0;32mreturn\u001b[0m \u001b[0ma\u001b[0m\u001b[0;34m+\u001b[0m\u001b[0mb\u001b[0m\u001b[0;34m+\u001b[0m\u001b[0mc\u001b[0m\u001b[0;34m+\u001b[0m\u001b[0md\u001b[0m\u001b[0;34m\u001b[0m\u001b[0m\n\u001b[0;32m----> 5\u001b[0;31m \u001b[0;32mprint\u001b[0m \u001b[0mfun\u001b[0m\u001b[0;34m(\u001b[0m\u001b[0;36m10\u001b[0m\u001b[0;34m,\u001b[0m\u001b[0;36m20\u001b[0m\u001b[0;34m,\u001b[0m\u001b[0md\u001b[0m\u001b[0;34m=\u001b[0m\u001b[0;36m30\u001b[0m\u001b[0;34m,\u001b[0m\u001b[0me\u001b[0m\u001b[0;34m=\u001b[0m\u001b[0;36m40\u001b[0m\u001b[0;34m)\u001b[0m\u001b[0;34m\u001b[0m\u001b[0m\n\u001b[0m",
      "\u001b[0;31mTypeError\u001b[0m: fun() got an unexpected keyword argument 'e'"
     ]
    }
   ],
   "source": [
    "#keyword arguments\n",
    "def fun(a,b,c=0,d=0):\n",
    "    print \"a=%s, b=%s, c=%s, d=%s\"%(a,b,c,d)\n",
    "    return a+b+c+d\n",
    "print fun(10,20,d=30,e=40)"
   ]
  },
  {
   "cell_type": "code",
   "execution_count": 16,
   "metadata": {},
   "outputs": [
    {
     "name": "stdout",
     "output_type": "stream",
     "text": [
      "a=20, b=30, c=0, d=40\n",
      "90\n"
     ]
    }
   ],
   "source": [
    "#keyword arguments\n",
    "def fun(a,b,c=0,d=0):\n",
    "    print \"a=%s, b=%s, c=%s, d=%s\"%(a,b,c,d)\n",
    "    return a+b+c+d\n",
    "print fun(d=40,b=30,a=20)"
   ]
  },
  {
   "cell_type": "code",
   "execution_count": 17,
   "metadata": {},
   "outputs": [
    {
     "ename": "TypeError",
     "evalue": "fun() takes at least 3 arguments (3 given)",
     "output_type": "error",
     "traceback": [
      "\u001b[0;31m---------------------------------------------------------------------------\u001b[0m",
      "\u001b[0;31mTypeError\u001b[0m                                 Traceback (most recent call last)",
      "\u001b[0;32m<ipython-input-17-b7f0ae1ef06d>\u001b[0m in \u001b[0;36m<module>\u001b[0;34m()\u001b[0m\n\u001b[1;32m      3\u001b[0m     \u001b[0;32mprint\u001b[0m \u001b[0;34m\"a=%s, b=%s, c=%s, d=%s\"\u001b[0m\u001b[0;34m%\u001b[0m\u001b[0;34m(\u001b[0m\u001b[0ma\u001b[0m\u001b[0;34m,\u001b[0m\u001b[0mb\u001b[0m\u001b[0;34m,\u001b[0m\u001b[0mc\u001b[0m\u001b[0;34m,\u001b[0m\u001b[0md\u001b[0m\u001b[0;34m)\u001b[0m\u001b[0;34m\u001b[0m\u001b[0m\n\u001b[1;32m      4\u001b[0m     \u001b[0;32mreturn\u001b[0m \u001b[0ma\u001b[0m\u001b[0;34m+\u001b[0m\u001b[0mb\u001b[0m\u001b[0;34m+\u001b[0m\u001b[0mc\u001b[0m\u001b[0;34m+\u001b[0m\u001b[0md\u001b[0m\u001b[0;34m\u001b[0m\u001b[0m\n\u001b[0;32m----> 5\u001b[0;31m \u001b[0;32mprint\u001b[0m \u001b[0mfun\u001b[0m\u001b[0;34m(\u001b[0m\u001b[0md\u001b[0m\u001b[0;34m=\u001b[0m\u001b[0;36m40\u001b[0m\u001b[0;34m,\u001b[0m\u001b[0mb\u001b[0m\u001b[0;34m=\u001b[0m\u001b[0;36m30\u001b[0m\u001b[0;34m,\u001b[0m\u001b[0ma\u001b[0m\u001b[0;34m=\u001b[0m\u001b[0;36m20\u001b[0m\u001b[0;34m)\u001b[0m\u001b[0;34m\u001b[0m\u001b[0m\n\u001b[0m",
      "\u001b[0;31mTypeError\u001b[0m: fun() takes at least 3 arguments (3 given)"
     ]
    }
   ],
   "source": [
    "#keyword arguments\n",
    "def fun(a,b,c,d=0):\n",
    "    print \"a=%s, b=%s, c=%s, d=%s\"%(a,b,c,d)\n",
    "    return a+b+c+d\n",
    "print fun(d=40,b=30,a=20)"
   ]
  },
  {
   "cell_type": "code",
   "execution_count": 18,
   "metadata": {},
   "outputs": [
    {
     "name": "stdout",
     "output_type": "stream",
     "text": [
      "a=20, b=30, c=40, d=0\n",
      "90\n"
     ]
    }
   ],
   "source": [
    "#keyword arguments\n",
    "def fun(a,b,c,d=0):\n",
    "    print \"a=%s, b=%s, c=%s, d=%s\"%(a,b,c,d)\n",
    "    return a+b+c+d\n",
    "print fun(c=40,b=30,a=20)"
   ]
  },
  {
   "cell_type": "code",
   "execution_count": 19,
   "metadata": {},
   "outputs": [
    {
     "name": "stdout",
     "output_type": "stream",
     "text": [
      "a=20, b=30, c=40, d=50\n",
      "140\n",
      "a=20, b=30, c=40, d=60\n",
      "150\n"
     ]
    }
   ],
   "source": [
    "#keyword arguments\n",
    "def fun(a,b,c,d=0):\n",
    "    print \"a=%s, b=%s, c=%s, d=%s\"%(a,b,c,d)\n",
    "    return a+b+c+d\n",
    "print fun(c=40,b=30,a=20,d=50)\n",
    "print fun(c=40,b=30,a=20,d=60)"
   ]
  },
  {
   "cell_type": "code",
   "execution_count": 2,
   "metadata": {},
   "outputs": [
    {
     "name": "stdout",
     "output_type": "stream",
     "text": [
      "Do you want to Enter values: (q quit:)y\n",
      "enter a value:12\n",
      "Enter b value:34\n",
      "12 34\n",
      "a=12, b=34\n",
      "result=46\n",
      "Do you want to Enter values: (q quit:)q\n",
      "bye, Use me again\n"
     ]
    }
   ],
   "source": [
    "def fun(a,b):\n",
    "    print a,b\n",
    "    print \"a=%s, b=%s\"%(a,b)\n",
    "    return a+b\n",
    "while True:\n",
    "    opt = raw_input(\"Do you want to Enter values: (q quit:)\")\n",
    "    if opt==\"y\":\n",
    "        a=raw_input(\"enter a value:\")\n",
    "        b=raw_input(\"Enter b value:\")\n",
    "        a=int(a)\n",
    "        b=int(b)\n",
    "        print \"result=%s\"%fun(a,b)\n",
    "    else:\n",
    "        print \"bye, Use me again\"\n",
    "        break\n",
    "    \n",
    "    "
   ]
  },
  {
   "cell_type": "code",
   "execution_count": 4,
   "metadata": {},
   "outputs": [
    {
     "name": "stdout",
     "output_type": "stream",
     "text": [
      "Python program\n"
     ]
    }
   ],
   "source": [
    "s=\"python program\"\n",
    "print s.capitalize()"
   ]
  },
  {
   "cell_type": "code",
   "execution_count": 5,
   "metadata": {},
   "outputs": [
    {
     "name": "stdout",
     "output_type": "stream",
     "text": [
      "Python program\n"
     ]
    }
   ],
   "source": [
    "s=\"python proGRAM\"\n",
    "print s.capitalize()"
   ]
  },
  {
   "cell_type": "code",
   "execution_count": 6,
   "metadata": {},
   "outputs": [
    {
     "name": "stdout",
     "output_type": "stream",
     "text": [
      "Python $%^%^program123\n"
     ]
    }
   ],
   "source": [
    "s=\"python $%^%^proGRAM123\"\n",
    "print s.capitalize()"
   ]
  },
  {
   "cell_type": "code",
   "execution_count": 7,
   "metadata": {},
   "outputs": [
    {
     "name": "stdout",
     "output_type": "stream",
     "text": [
      "123python $%^%^program123\n"
     ]
    }
   ],
   "source": [
    "s=\"123python $%^%^proGRAM123\"\n",
    "print s.capitalize()"
   ]
  },
  {
   "cell_type": "code",
   "execution_count": 8,
   "metadata": {},
   "outputs": [
    {
     "name": "stdout",
     "output_type": "stream",
     "text": [
      "\n"
     ]
    }
   ],
   "source": [
    "s=\"\"\n",
    "print s.capitalize()"
   ]
  },
  {
   "cell_type": "code",
   "execution_count": 9,
   "metadata": {},
   "outputs": [
    {
     "name": "stdout",
     "output_type": "stream",
     "text": [
      "    \n"
     ]
    }
   ],
   "source": [
    "s=\"    \"\n",
    "print s.capitalize()"
   ]
  },
  {
   "cell_type": "code",
   "execution_count": 10,
   "metadata": {},
   "outputs": [
    {
     "name": "stdout",
     "output_type": "stream",
     "text": [
      "PYTHON PROGRAM\n"
     ]
    }
   ],
   "source": [
    "s=\"python program\"\n",
    "print s.upper()"
   ]
  },
  {
   "cell_type": "code",
   "execution_count": 11,
   "metadata": {},
   "outputs": [
    {
     "name": "stdout",
     "output_type": "stream",
     "text": [
      "\n"
     ]
    }
   ],
   "source": [
    "s=\"\"\n",
    "print s.upper()"
   ]
  },
  {
   "cell_type": "code",
   "execution_count": 12,
   "metadata": {},
   "outputs": [
    {
     "name": "stdout",
     "output_type": "stream",
     "text": [
      "PYTHON PROGRAM\n"
     ]
    }
   ],
   "source": [
    "s=\"python PROGRAM\"\n",
    "print s.upper()"
   ]
  },
  {
   "cell_type": "code",
   "execution_count": 13,
   "metadata": {},
   "outputs": [
    {
     "name": "stdout",
     "output_type": "stream",
     "text": [
      "PYTHON PROGRAM\n"
     ]
    }
   ],
   "source": [
    "s=\"PYTHON PROGRAM\"\n",
    "print s.upper()"
   ]
  },
  {
   "cell_type": "code",
   "execution_count": 14,
   "metadata": {},
   "outputs": [
    {
     "name": "stdout",
     "output_type": "stream",
     "text": [
      "PYTHON PROGRAM1234\n"
     ]
    }
   ],
   "source": [
    "\n",
    "s=\"PYTHON PROGRAM1234\"\n",
    "print s.upper()"
   ]
  },
  {
   "cell_type": "code",
   "execution_count": 15,
   "metadata": {},
   "outputs": [
    {
     "name": "stdout",
     "output_type": "stream",
     "text": [
      "PYTHON PROGRAM23@#$%^&\n"
     ]
    }
   ],
   "source": [
    "s=\"PYTHON PROGRAM23@#$%^&\"\n",
    "print s.upper()"
   ]
  },
  {
   "cell_type": "code",
   "execution_count": 16,
   "metadata": {},
   "outputs": [
    {
     "name": "stdout",
     "output_type": "stream",
     "text": [
      "\n"
     ]
    }
   ],
   "source": [
    "s=\"\"\n",
    "print s.upper()"
   ]
  },
  {
   "cell_type": "code",
   "execution_count": null,
   "metadata": {
    "collapsed": true
   },
   "outputs": [],
   "source": []
  }
 ],
 "metadata": {
  "kernelspec": {
   "display_name": "Python 2",
   "language": "python",
   "name": "python2"
  },
  "language_info": {
   "codemirror_mode": {
    "name": "ipython",
    "version": 2
   },
   "file_extension": ".py",
   "mimetype": "text/x-python",
   "name": "python",
   "nbconvert_exporter": "python",
   "pygments_lexer": "ipython2",
   "version": "2.7.14"
  }
 },
 "nbformat": 4,
 "nbformat_minor": 2
}
