{
 "cells": [
  {
   "cell_type": "code",
   "execution_count": 2,
   "metadata": {},
   "outputs": [
    {
     "name": "stdout",
     "output_type": "stream",
     "text": [
      "[10, 20, 30, 40, 50, 60, 70, 80, 90, 20]\n"
     ]
    }
   ],
   "source": [
    "l=[10,20,30,[40,50,60],70,[80,90,20]]\n",
    "l1=[]\n",
    "for i in l:\n",
    "    if isinstance(i,list):\n",
    "        l1.extend(i)\n",
    "    else:\n",
    "        l1.append(i)\n",
    "print l1"
   ]
  },
  {
   "cell_type": "code",
   "execution_count": 4,
   "metadata": {},
   "outputs": [
    {
     "name": "stdout",
     "output_type": "stream",
     "text": [
      "[10, 20, 30, 40, 50, 60, 70, 80, [900, [10000, 20000, 300000], 11000], 20]\n"
     ]
    }
   ],
   "source": [
    "l=[10,20,30,[40,50,60],70,[80,[900,[10000,20000,300000],11000],20]]\n",
    "l1=[]\n",
    "for i in l:\n",
    "    if isinstance(i,list):\n",
    "        l1.extend(i)\n",
    "    else:\n",
    "        l1.append(i)\n",
    "print l1"
   ]
  },
  {
   "cell_type": "code",
   "execution_count": 5,
   "metadata": {},
   "outputs": [
    {
     "name": "stdout",
     "output_type": "stream",
     "text": [
      "[10, 20, 30, 40, 50, 60, 70, 80, 900, 10000, 20000, 300000, 11000, 20]\n"
     ]
    }
   ],
   "source": [
    "l=[10,20,30,[40,50,60],70,[80,[900,[10000,20000,300000],11000],20]]\n",
    "l1=[]\n",
    "def fun(l):\n",
    "    for i in l:\n",
    "        if isinstance(i,list):\n",
    "            fun(i)\n",
    "        else:\n",
    "            l1.append(i)\n",
    "fun(l)\n",
    "print l1"
   ]
  },
  {
   "cell_type": "code",
   "execution_count": 6,
   "metadata": {},
   "outputs": [
    {
     "name": "stdout",
     "output_type": "stream",
     "text": [
      "6\n",
      "28\n"
     ]
    }
   ],
   "source": [
    "start=1\n",
    "end=100\n",
    "for i in range(start,end):\n",
    "    factors=[]\n",
    "    for j in range(1,i):\n",
    "        if i%j==0:\n",
    "            factors.append(j)\n",
    "    sum_factors=sum(factors)\n",
    "    if sum_factors==i:\n",
    "        print i"
   ]
  },
  {
   "cell_type": "code",
   "execution_count": 7,
   "metadata": {},
   "outputs": [
    {
     "name": "stdout",
     "output_type": "stream",
     "text": [
      "[2, 3, 2, 3, 4, 1, 3, 4]\n",
      "[2, 2, 3, 4, 1, 3, 4]\n",
      "[2, 2, 4, 1, 3, 4]\n",
      "[2, 2, 4, 3, 4]\n",
      "[2, 2, 3, 4]\n",
      "[2, 2, 3, 4]\n"
     ]
    }
   ],
   "source": [
    "l=[1,2,3,2,3,4,1,3,4]\n",
    "for i in l:\n",
    "    if l.count(i)>0:\n",
    "       l.remove(i)\n",
    "    print l\n",
    "print l"
   ]
  },
  {
   "cell_type": "code",
   "execution_count": 9,
   "metadata": {},
   "outputs": [
    {
     "name": "stdout",
     "output_type": "stream",
     "text": [
      "[2, 2, 1, 3, 4]\n"
     ]
    }
   ],
   "source": [
    "l=[1,2,3,2,3,4,1,3,4]\n",
    "l=[1,2,3,2,3,4,1,3,4]\n",
    "for i in l:\n",
    "    while l.count(i)>1:\n",
    "        l.remove(i)\n",
    "print l"
   ]
  },
  {
   "cell_type": "code",
   "execution_count": 13,
   "metadata": {},
   "outputs": [
    {
     "name": "stdout",
     "output_type": "stream",
     "text": [
      "[2, 1, 3, 4]\n"
     ]
    }
   ],
   "source": [
    "l=[1,2,3,2,3,4,1,3,4]\n",
    "l=[1,2,3,2,3,4,1,3,4]\n",
    "j=0\n",
    "while j<len(l):\n",
    "    while l.count(l[j])>1:\n",
    "        l.remove(l[j])\n",
    "    j=j+1\n",
    "print l"
   ]
  },
  {
   "cell_type": "code",
   "execution_count": null,
   "metadata": {
    "collapsed": true
   },
   "outputs": [],
   "source": []
  }
 ],
 "metadata": {
  "kernelspec": {
   "display_name": "Python 2",
   "language": "python",
   "name": "python2"
  },
  "language_info": {
   "codemirror_mode": {
    "name": "ipython",
    "version": 2
   },
   "file_extension": ".py",
   "mimetype": "text/x-python",
   "name": "python",
   "nbconvert_exporter": "python",
   "pygments_lexer": "ipython2",
   "version": "2.7.14"
  }
 },
 "nbformat": 4,
 "nbformat_minor": 2
}
