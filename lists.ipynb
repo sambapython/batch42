{
 "cells": [
  {
   "cell_type": "code",
   "execution_count": 1,
   "metadata": {},
   "outputs": [
    {
     "name": "stdout",
     "output_type": "stream",
     "text": [
      "[10, 2, 3, 4]\n"
     ]
    }
   ],
   "source": [
    "l=[1,2,3,4]\n",
    "l[0]=10\n",
    "print l"
   ]
  },
  {
   "cell_type": "code",
   "execution_count": 2,
   "metadata": {},
   "outputs": [
    {
     "name": "stdout",
     "output_type": "stream",
     "text": [
      "[10, 'b', 'c', 'd']\n",
      "[10, 'b', 'c', 'd']\n"
     ]
    }
   ],
   "source": [
    "l1=[\"a\",\"b\",\"c\",\"d\"]\n",
    "l2=l1\n",
    "l1[0]=10\n",
    "print l1\n",
    "print l2"
   ]
  },
  {
   "cell_type": "code",
   "execution_count": 3,
   "metadata": {},
   "outputs": [
    {
     "name": "stdout",
     "output_type": "stream",
     "text": [
      "[10, 'b', 'c', 'd']\n",
      "[10, 'b', 'c', 'd']\n",
      "['a', 'b', 'c', 'd']\n"
     ]
    }
   ],
   "source": [
    "l1=[\"a\",\"b\",\"c\",\"d\"]\n",
    "l2=l1\n",
    "l3=l1[:]\n",
    "l1[0]=10\n",
    "print l1\n",
    "print l2\n",
    "print l3"
   ]
  },
  {
   "cell_type": "code",
   "execution_count": 4,
   "metadata": {
    "collapsed": true
   },
   "outputs": [],
   "source": [
    "l=[\"a\",\"b\",\"c\",\"d\"]\n",
    "print "
   ]
  },
  {
   "cell_type": "code",
   "execution_count": 5,
   "metadata": {},
   "outputs": [
    {
     "name": "stdout",
     "output_type": "stream",
     "text": [
      "140612240631280\n",
      "140612240631280\n",
      "140612275119816\n"
     ]
    }
   ],
   "source": [
    "l1=[\"a\",\"b\",\"c\",\"d\"]\n",
    "l2=l1\n",
    "l3=l1[:]\n",
    "print id(l1)\n",
    "print id(l2)\n",
    "print id(l3)"
   ]
  },
  {
   "cell_type": "code",
   "execution_count": 6,
   "metadata": {},
   "outputs": [
    {
     "name": "stdout",
     "output_type": "stream",
     "text": [
      "['a', 'b', 'c', 'd', 'e']\n"
     ]
    }
   ],
   "source": [
    "l=[\"a\",\"b\",\"c\",\"d\"]\n",
    "print l+[\"e\"]"
   ]
  },
  {
   "cell_type": "code",
   "execution_count": 7,
   "metadata": {},
   "outputs": [
    {
     "ename": "TypeError",
     "evalue": "can only concatenate list (not \"str\") to list",
     "output_type": "error",
     "traceback": [
      "\u001b[0;31m---------------------------------------------------------------------------\u001b[0m",
      "\u001b[0;31mTypeError\u001b[0m                                 Traceback (most recent call last)",
      "\u001b[0;32m<ipython-input-7-e15e80acca9b>\u001b[0m in \u001b[0;36m<module>\u001b[0;34m()\u001b[0m\n\u001b[1;32m      1\u001b[0m \u001b[0ml\u001b[0m\u001b[0;34m=\u001b[0m\u001b[0;34m[\u001b[0m\u001b[0;34m\"a\"\u001b[0m\u001b[0;34m,\u001b[0m\u001b[0;34m\"b\"\u001b[0m\u001b[0;34m,\u001b[0m\u001b[0;34m\"c\"\u001b[0m\u001b[0;34m,\u001b[0m\u001b[0;34m\"d\"\u001b[0m\u001b[0;34m]\u001b[0m\u001b[0;34m\u001b[0m\u001b[0m\n\u001b[0;32m----> 2\u001b[0;31m \u001b[0;32mprint\u001b[0m \u001b[0ml\u001b[0m\u001b[0;34m+\u001b[0m\u001b[0;34m\"e\"\u001b[0m\u001b[0;34m\u001b[0m\u001b[0m\n\u001b[0m",
      "\u001b[0;31mTypeError\u001b[0m: can only concatenate list (not \"str\") to list"
     ]
    }
   ],
   "source": [
    "l=[\"a\",\"b\",\"c\",\"d\"]\n",
    "print l+\"e\""
   ]
  },
  {
   "cell_type": "code",
   "execution_count": 8,
   "metadata": {},
   "outputs": [
    {
     "name": "stdout",
     "output_type": "stream",
     "text": [
      "None\n",
      "['a', 'b', 'c', 'd', 'e']\n"
     ]
    }
   ],
   "source": [
    "l=[\"a\",\"b\",\"c\",\"d\"]\n",
    "print l.append(\"e\")\n",
    "print l"
   ]
  },
  {
   "cell_type": "code",
   "execution_count": 9,
   "metadata": {},
   "outputs": [
    {
     "name": "stdout",
     "output_type": "stream",
     "text": [
      "['a', 'b', 'c', 'd']\n",
      "['a', 'b', 'c', 'd', 'e']\n"
     ]
    }
   ],
   "source": [
    "l=[\"a\",\"b\",\"c\",\"d\"]\n",
    "l1=l+[\"e\"]\n",
    "print l\n",
    "print l1"
   ]
  },
  {
   "cell_type": "code",
   "execution_count": null,
   "metadata": {
    "collapsed": true
   },
   "outputs": [],
   "source": [
    "l=[\"a\",\"b\",\"c\",\"d\"]\n",
    "l1=l.append(\"e\")\n",
    "print l\n",
    "print l1"
   ]
  },
  {
   "cell_type": "code",
   "execution_count": 10,
   "metadata": {},
   "outputs": [
    {
     "name": "stdout",
     "output_type": "stream",
     "text": [
      "res= None\n"
     ]
    }
   ],
   "source": [
    "def fun(a,b):\n",
    "    c=a+b\n",
    "res=fun(10,20)\n",
    "print \"res=\",res"
   ]
  },
  {
   "cell_type": "code",
   "execution_count": 11,
   "metadata": {},
   "outputs": [
    {
     "name": "stdout",
     "output_type": "stream",
     "text": [
      "res= 30\n"
     ]
    }
   ],
   "source": [
    "def fun(a,b):\n",
    "    c=a+b\n",
    "    return c\n",
    "res=fun(10,20)\n",
    "print \"res=\",res"
   ]
  },
  {
   "cell_type": "code",
   "execution_count": 12,
   "metadata": {},
   "outputs": [
    {
     "name": "stdout",
     "output_type": "stream",
     "text": [
      "['a', 'b', 'c', 'd', 'e']\n",
      "None\n"
     ]
    }
   ],
   "source": [
    "l=[\"a\",\"b\",\"c\",\"d\"]\n",
    "l1=l.append(\"e\")\n",
    "print l\n",
    "print l1"
   ]
  },
  {
   "cell_type": "code",
   "execution_count": 13,
   "metadata": {},
   "outputs": [
    {
     "name": "stdout",
     "output_type": "stream",
     "text": [
      "['a', 'b', 'c', 'd', 'python']\n"
     ]
    }
   ],
   "source": [
    "l=[\"a\",\"b\",\"c\",\"d\"]\n",
    "l.append(\"python\")\n",
    "print l"
   ]
  },
  {
   "cell_type": "code",
   "execution_count": 14,
   "metadata": {},
   "outputs": [
    {
     "name": "stdout",
     "output_type": "stream",
     "text": [
      "['a', 'b', 'c', 'd', 'p', 'y', 't', 'h', 'o', 'n']\n"
     ]
    }
   ],
   "source": [
    "l=[\"a\",\"b\",\"c\",\"d\"]\n",
    "l.extend(\"python\")\n",
    "print l"
   ]
  },
  {
   "cell_type": "code",
   "execution_count": 15,
   "metadata": {},
   "outputs": [
    {
     "name": "stdout",
     "output_type": "stream",
     "text": [
      "['a', 'b', 'c', 'd', 10]\n"
     ]
    }
   ],
   "source": [
    "l=[\"a\",\"b\",\"c\",\"d\"]\n",
    "l.append(10)\n",
    "print l"
   ]
  },
  {
   "cell_type": "code",
   "execution_count": 16,
   "metadata": {},
   "outputs": [
    {
     "ename": "TypeError",
     "evalue": "'int' object is not iterable",
     "output_type": "error",
     "traceback": [
      "\u001b[0;31m---------------------------------------------------------------------------\u001b[0m",
      "\u001b[0;31mTypeError\u001b[0m                                 Traceback (most recent call last)",
      "\u001b[0;32m<ipython-input-16-8a42591fbd7a>\u001b[0m in \u001b[0;36m<module>\u001b[0;34m()\u001b[0m\n\u001b[1;32m      1\u001b[0m \u001b[0ml\u001b[0m\u001b[0;34m=\u001b[0m\u001b[0;34m[\u001b[0m\u001b[0;34m\"a\"\u001b[0m\u001b[0;34m,\u001b[0m\u001b[0;34m\"b\"\u001b[0m\u001b[0;34m,\u001b[0m\u001b[0;34m\"c\"\u001b[0m\u001b[0;34m,\u001b[0m\u001b[0;34m\"d\"\u001b[0m\u001b[0;34m]\u001b[0m\u001b[0;34m\u001b[0m\u001b[0m\n\u001b[0;32m----> 2\u001b[0;31m \u001b[0ml\u001b[0m\u001b[0;34m.\u001b[0m\u001b[0mextend\u001b[0m\u001b[0;34m(\u001b[0m\u001b[0;36m10\u001b[0m\u001b[0;34m)\u001b[0m\u001b[0;34m\u001b[0m\u001b[0m\n\u001b[0m\u001b[1;32m      3\u001b[0m \u001b[0;32mprint\u001b[0m \u001b[0ml\u001b[0m\u001b[0;34m\u001b[0m\u001b[0m\n",
      "\u001b[0;31mTypeError\u001b[0m: 'int' object is not iterable"
     ]
    }
   ],
   "source": [
    "l=[\"a\",\"b\",\"c\",\"d\"]\n",
    "l.extend(10)\n",
    "print l"
   ]
  },
  {
   "cell_type": "code",
   "execution_count": 17,
   "metadata": {},
   "outputs": [
    {
     "name": "stdout",
     "output_type": "stream",
     "text": [
      "['a', 'e', 'c', 'd']\n"
     ]
    }
   ],
   "source": [
    "l=[\"a\",\"b\",\"c\",\"d\"]\n",
    "l[1]=\"e\"\n",
    "print l"
   ]
  },
  {
   "cell_type": "code",
   "execution_count": 18,
   "metadata": {},
   "outputs": [
    {
     "name": "stdout",
     "output_type": "stream",
     "text": [
      "['a', 'e', 'b', 'c', 'd']\n",
      "None\n"
     ]
    }
   ],
   "source": [
    "l=[\"a\",\"b\",\"c\",\"d\"]\n",
    "l1=l.insert(1,\"e\")\n",
    "print l\n",
    "print l1"
   ]
  },
  {
   "cell_type": "code",
   "execution_count": 19,
   "metadata": {},
   "outputs": [
    {
     "name": "stdout",
     "output_type": "stream",
     "text": [
      "['a', 'b', 'c', 'e', 'd']\n",
      "None\n"
     ]
    }
   ],
   "source": [
    "l=[\"a\",\"b\",\"c\",\"d\"]\n",
    "l1=l.insert(-1,\"e\")\n",
    "print l\n",
    "print l1"
   ]
  },
  {
   "cell_type": "code",
   "execution_count": 20,
   "metadata": {},
   "outputs": [
    {
     "name": "stdout",
     "output_type": "stream",
     "text": [
      "['a', 'b', 'c', 'd', 'e']\n",
      "None\n"
     ]
    }
   ],
   "source": [
    "l=[\"a\",\"b\",\"c\",\"d\"]\n",
    "l1=l.insert(30,\"e\")\n",
    "print l\n",
    "print l1"
   ]
  },
  {
   "cell_type": "code",
   "execution_count": 21,
   "metadata": {},
   "outputs": [
    {
     "name": "stdout",
     "output_type": "stream",
     "text": [
      "['a', 'b', 'c', 'd', ' ', ' ', 'e']\n"
     ]
    }
   ],
   "source": [
    "l=[\"a\",\"b\",\"c\",\"d\"]\n",
    "#[a, b, c, d,  , , e]\n",
    "l.extend(\"  e\")\n",
    "print l"
   ]
  },
  {
   "cell_type": "code",
   "execution_count": 22,
   "metadata": {},
   "outputs": [
    {
     "name": "stdout",
     "output_type": "stream",
     "text": [
      "['a', 'b', 'c', 'd', 'a', 'b', 'c']\n",
      "d\n"
     ]
    }
   ],
   "source": [
    "l=[\"a\",\"b\",\"c\",\"d\",\"a\",\"b\",\"c\",\"d\"]\n",
    "l1=l.pop()\n",
    "print l\n",
    "print l1"
   ]
  },
  {
   "cell_type": "code",
   "execution_count": 23,
   "metadata": {},
   "outputs": [
    {
     "name": "stdout",
     "output_type": "stream",
     "text": [
      "['a', 'b', 'd', 'a', 'b', 'c', 'd']\n",
      "c\n"
     ]
    }
   ],
   "source": [
    "l=[\"a\",\"b\",\"c\",\"d\",\"a\",\"b\",\"c\",\"d\"]\n",
    "l1=l.pop(2)\n",
    "print l\n",
    "print l1"
   ]
  },
  {
   "cell_type": "code",
   "execution_count": 24,
   "metadata": {},
   "outputs": [
    {
     "ename": "IndexError",
     "evalue": "pop index out of range",
     "output_type": "error",
     "traceback": [
      "\u001b[0;31m---------------------------------------------------------------------------\u001b[0m",
      "\u001b[0;31mIndexError\u001b[0m                                Traceback (most recent call last)",
      "\u001b[0;32m<ipython-input-24-516ee7dfbd09>\u001b[0m in \u001b[0;36m<module>\u001b[0;34m()\u001b[0m\n\u001b[1;32m      1\u001b[0m \u001b[0ml\u001b[0m\u001b[0;34m=\u001b[0m\u001b[0;34m[\u001b[0m\u001b[0;34m\"a\"\u001b[0m\u001b[0;34m,\u001b[0m\u001b[0;34m\"b\"\u001b[0m\u001b[0;34m,\u001b[0m\u001b[0;34m\"c\"\u001b[0m\u001b[0;34m,\u001b[0m\u001b[0;34m\"d\"\u001b[0m\u001b[0;34m,\u001b[0m\u001b[0;34m\"a\"\u001b[0m\u001b[0;34m,\u001b[0m\u001b[0;34m\"b\"\u001b[0m\u001b[0;34m,\u001b[0m\u001b[0;34m\"c\"\u001b[0m\u001b[0;34m,\u001b[0m\u001b[0;34m\"d\"\u001b[0m\u001b[0;34m]\u001b[0m\u001b[0;34m\u001b[0m\u001b[0m\n\u001b[0;32m----> 2\u001b[0;31m \u001b[0ml1\u001b[0m\u001b[0;34m=\u001b[0m\u001b[0ml\u001b[0m\u001b[0;34m.\u001b[0m\u001b[0mpop\u001b[0m\u001b[0;34m(\u001b[0m\u001b[0;36m20\u001b[0m\u001b[0;34m)\u001b[0m\u001b[0;34m\u001b[0m\u001b[0m\n\u001b[0m\u001b[1;32m      3\u001b[0m \u001b[0;32mprint\u001b[0m \u001b[0ml\u001b[0m\u001b[0;34m\u001b[0m\u001b[0m\n\u001b[1;32m      4\u001b[0m \u001b[0;32mprint\u001b[0m \u001b[0ml1\u001b[0m\u001b[0;34m\u001b[0m\u001b[0m\n",
      "\u001b[0;31mIndexError\u001b[0m: pop index out of range"
     ]
    }
   ],
   "source": [
    "l=[\"a\",\"b\",\"c\",\"d\",\"a\",\"b\",\"c\",\"d\"]\n",
    "l1=l.pop(20)\n",
    "print l\n",
    "print l1"
   ]
  },
  {
   "cell_type": "code",
   "execution_count": 25,
   "metadata": {},
   "outputs": [
    {
     "ename": "ValueError",
     "evalue": "list.remove(x): x not in list",
     "output_type": "error",
     "traceback": [
      "\u001b[0;31m---------------------------------------------------------------------------\u001b[0m",
      "\u001b[0;31mValueError\u001b[0m                                Traceback (most recent call last)",
      "\u001b[0;32m<ipython-input-25-1f75c635fcdf>\u001b[0m in \u001b[0;36m<module>\u001b[0;34m()\u001b[0m\n\u001b[1;32m      1\u001b[0m \u001b[0ml\u001b[0m\u001b[0;34m=\u001b[0m\u001b[0;34m[\u001b[0m\u001b[0;34m\"a\"\u001b[0m\u001b[0;34m,\u001b[0m\u001b[0;34m\"b\"\u001b[0m\u001b[0;34m,\u001b[0m\u001b[0;34m\"c\"\u001b[0m\u001b[0;34m,\u001b[0m\u001b[0;34m\"d\"\u001b[0m\u001b[0;34m,\u001b[0m\u001b[0;34m\"a\"\u001b[0m\u001b[0;34m,\u001b[0m\u001b[0;34m\"b\"\u001b[0m\u001b[0;34m,\u001b[0m\u001b[0;34m\"c\"\u001b[0m\u001b[0;34m,\u001b[0m\u001b[0;34m\"d\"\u001b[0m\u001b[0;34m]\u001b[0m\u001b[0;34m\u001b[0m\u001b[0m\n\u001b[0;32m----> 2\u001b[0;31m \u001b[0ml1\u001b[0m\u001b[0;34m=\u001b[0m\u001b[0ml\u001b[0m\u001b[0;34m.\u001b[0m\u001b[0mremove\u001b[0m\u001b[0;34m(\u001b[0m\u001b[0;36m3\u001b[0m\u001b[0;34m)\u001b[0m\u001b[0;34m\u001b[0m\u001b[0m\n\u001b[0m\u001b[1;32m      3\u001b[0m \u001b[0;32mprint\u001b[0m \u001b[0ml\u001b[0m\u001b[0;34m\u001b[0m\u001b[0m\n\u001b[1;32m      4\u001b[0m \u001b[0;32mprint\u001b[0m \u001b[0ml1\u001b[0m\u001b[0;34m\u001b[0m\u001b[0m\n",
      "\u001b[0;31mValueError\u001b[0m: list.remove(x): x not in list"
     ]
    }
   ],
   "source": [
    "l=[\"a\",\"b\",\"c\",\"d\",\"a\",\"b\",\"c\",\"d\"]\n",
    "l1=l.remove(3)\n",
    "print l\n",
    "print l1"
   ]
  },
  {
   "cell_type": "code",
   "execution_count": 26,
   "metadata": {},
   "outputs": [
    {
     "name": "stdout",
     "output_type": "stream",
     "text": [
      "['a', 'b', 'd', 'a', 'b', 'c', 'd']\n",
      "None\n"
     ]
    }
   ],
   "source": [
    "l=[\"a\",\"b\",\"c\",\"d\",\"a\",\"b\",\"c\",\"d\"]\n",
    "l1=l.remove(\"c\")\n",
    "print l\n",
    "print l1"
   ]
  },
  {
   "cell_type": "code",
   "execution_count": null,
   "metadata": {
    "collapsed": true
   },
   "outputs": [],
   "source": [
    "# how to remove all occurances of the given element in a list\n",
    "l=[1,2,3,4,1,2,3,4,1,2,3,4,1,2,3,4,1,2,3,4]\n"
   ]
  },
  {
   "cell_type": "code",
   "execution_count": 27,
   "metadata": {},
   "outputs": [
    {
     "name": "stdout",
     "output_type": "stream",
     "text": [
      "1\n"
     ]
    }
   ],
   "source": [
    "l=[\"a\",\"b\",\"c\",\"d\",\"a\",\"b\",\"c\",\"d\"]\n",
    "l1=l.index(\"b\")\n",
    "print l1"
   ]
  },
  {
   "cell_type": "code",
   "execution_count": 28,
   "metadata": {},
   "outputs": [
    {
     "name": "stdout",
     "output_type": "stream",
     "text": [
      "3\n"
     ]
    }
   ],
   "source": [
    "l=[\"a\",\"b\",\"c\",\"d\",\"a\",\"b\",\"c\",\"d\"]\n",
    "l1=l.index(\"d\")\n",
    "print l1"
   ]
  },
  {
   "cell_type": "code",
   "execution_count": 29,
   "metadata": {},
   "outputs": [
    {
     "ename": "ValueError",
     "evalue": "'e' is not in list",
     "output_type": "error",
     "traceback": [
      "\u001b[0;31m---------------------------------------------------------------------------\u001b[0m",
      "\u001b[0;31mValueError\u001b[0m                                Traceback (most recent call last)",
      "\u001b[0;32m<ipython-input-29-e323af39cb60>\u001b[0m in \u001b[0;36m<module>\u001b[0;34m()\u001b[0m\n\u001b[1;32m      1\u001b[0m \u001b[0ml\u001b[0m\u001b[0;34m=\u001b[0m\u001b[0;34m[\u001b[0m\u001b[0;34m\"a\"\u001b[0m\u001b[0;34m,\u001b[0m\u001b[0;34m\"b\"\u001b[0m\u001b[0;34m,\u001b[0m\u001b[0;34m\"c\"\u001b[0m\u001b[0;34m,\u001b[0m\u001b[0;34m\"d\"\u001b[0m\u001b[0;34m,\u001b[0m\u001b[0;34m\"a\"\u001b[0m\u001b[0;34m,\u001b[0m\u001b[0;34m\"b\"\u001b[0m\u001b[0;34m,\u001b[0m\u001b[0;34m\"c\"\u001b[0m\u001b[0;34m,\u001b[0m\u001b[0;34m\"d\"\u001b[0m\u001b[0;34m]\u001b[0m\u001b[0;34m\u001b[0m\u001b[0m\n\u001b[0;32m----> 2\u001b[0;31m \u001b[0ml1\u001b[0m\u001b[0;34m=\u001b[0m\u001b[0ml\u001b[0m\u001b[0;34m.\u001b[0m\u001b[0mindex\u001b[0m\u001b[0;34m(\u001b[0m\u001b[0;34m\"e\"\u001b[0m\u001b[0;34m)\u001b[0m\u001b[0;34m\u001b[0m\u001b[0m\n\u001b[0m\u001b[1;32m      3\u001b[0m \u001b[0;32mprint\u001b[0m \u001b[0ml1\u001b[0m\u001b[0;34m\u001b[0m\u001b[0m\n",
      "\u001b[0;31mValueError\u001b[0m: 'e' is not in list"
     ]
    }
   ],
   "source": [
    "l=[\"a\",\"b\",\"c\",\"d\",\"a\",\"b\",\"c\",\"d\"]\n",
    "l1=l.index(\"e\")\n",
    "print l1"
   ]
  },
  {
   "cell_type": "code",
   "execution_count": 30,
   "metadata": {},
   "outputs": [
    {
     "ename": "ValueError",
     "evalue": "'A' is not in list",
     "output_type": "error",
     "traceback": [
      "\u001b[0;31m---------------------------------------------------------------------------\u001b[0m",
      "\u001b[0;31mValueError\u001b[0m                                Traceback (most recent call last)",
      "\u001b[0;32m<ipython-input-30-846e55e64ab0>\u001b[0m in \u001b[0;36m<module>\u001b[0;34m()\u001b[0m\n\u001b[1;32m      1\u001b[0m \u001b[0ml\u001b[0m\u001b[0;34m=\u001b[0m\u001b[0;34m[\u001b[0m\u001b[0;34m\"a\"\u001b[0m\u001b[0;34m,\u001b[0m\u001b[0;34m\"b\"\u001b[0m\u001b[0;34m,\u001b[0m\u001b[0;34m\"c\"\u001b[0m\u001b[0;34m,\u001b[0m\u001b[0;34m\"d\"\u001b[0m\u001b[0;34m,\u001b[0m\u001b[0;34m\"a\"\u001b[0m\u001b[0;34m,\u001b[0m\u001b[0;34m\"b\"\u001b[0m\u001b[0;34m,\u001b[0m\u001b[0;34m\"c\"\u001b[0m\u001b[0;34m,\u001b[0m\u001b[0;34m\"d\"\u001b[0m\u001b[0;34m]\u001b[0m\u001b[0;34m\u001b[0m\u001b[0m\n\u001b[0;32m----> 2\u001b[0;31m \u001b[0ml1\u001b[0m\u001b[0;34m=\u001b[0m\u001b[0ml\u001b[0m\u001b[0;34m.\u001b[0m\u001b[0mindex\u001b[0m\u001b[0;34m(\u001b[0m\u001b[0;34m\"A\"\u001b[0m\u001b[0;34m)\u001b[0m\u001b[0;34m\u001b[0m\u001b[0m\n\u001b[0m\u001b[1;32m      3\u001b[0m \u001b[0;32mprint\u001b[0m \u001b[0ml1\u001b[0m\u001b[0;34m\u001b[0m\u001b[0m\n",
      "\u001b[0;31mValueError\u001b[0m: 'A' is not in list"
     ]
    }
   ],
   "source": [
    "l=[\"a\",\"b\",\"c\",\"d\",\"a\",\"b\",\"c\",\"d\"]\n",
    "l1=l.index(\"A\")\n",
    "print l1"
   ]
  },
  {
   "cell_type": "code",
   "execution_count": 31,
   "metadata": {},
   "outputs": [
    {
     "name": "stdout",
     "output_type": "stream",
     "text": [
      "0\n"
     ]
    }
   ],
   "source": [
    "l=[\"a\",\"b\",\"c\",\"d\",\"a\",\"b\",\"c\",\"d\"]\n",
    "l1=l.count(\"A\")\n",
    "print l1"
   ]
  },
  {
   "cell_type": "code",
   "execution_count": 32,
   "metadata": {},
   "outputs": [
    {
     "name": "stdout",
     "output_type": "stream",
     "text": [
      "2\n"
     ]
    }
   ],
   "source": [
    "l=[\"a\",\"b\",\"c\",\"d\",\"a\",\"b\",\"c\",\"d\"]\n",
    "l1=l.count(\"a\")\n",
    "print l1"
   ]
  },
  {
   "cell_type": "code",
   "execution_count": 33,
   "metadata": {},
   "outputs": [
    {
     "ename": "AttributeError",
     "evalue": "'list' object has no attribute 'lower'",
     "output_type": "error",
     "traceback": [
      "\u001b[0;31m---------------------------------------------------------------------------\u001b[0m",
      "\u001b[0;31mAttributeError\u001b[0m                            Traceback (most recent call last)",
      "\u001b[0;32m<ipython-input-33-48fb8602bcf1>\u001b[0m in \u001b[0;36m<module>\u001b[0;34m()\u001b[0m\n\u001b[1;32m      1\u001b[0m \u001b[0ml\u001b[0m\u001b[0;34m=\u001b[0m\u001b[0;34m[\u001b[0m\u001b[0;34m\"a\"\u001b[0m\u001b[0;34m,\u001b[0m\u001b[0;34m\"b\"\u001b[0m\u001b[0;34m,\u001b[0m\u001b[0;34m\"c\"\u001b[0m\u001b[0;34m,\u001b[0m\u001b[0;34m\"d\"\u001b[0m\u001b[0;34m,\u001b[0m\u001b[0;34m\"a\"\u001b[0m\u001b[0;34m,\u001b[0m\u001b[0;34m\"b\"\u001b[0m\u001b[0;34m,\u001b[0m\u001b[0;34m\"c\"\u001b[0m\u001b[0;34m,\u001b[0m\u001b[0;34m\"d\"\u001b[0m\u001b[0;34m]\u001b[0m\u001b[0;34m\u001b[0m\u001b[0m\n\u001b[0;32m----> 2\u001b[0;31m \u001b[0ml\u001b[0m\u001b[0;34m.\u001b[0m\u001b[0mlower\u001b[0m\u001b[0;34m(\u001b[0m\u001b[0;34m)\u001b[0m\u001b[0;34m\u001b[0m\u001b[0m\n\u001b[0m",
      "\u001b[0;31mAttributeError\u001b[0m: 'list' object has no attribute 'lower'"
     ]
    }
   ],
   "source": [
    "l=[\"a\",\"b\",\"c\",\"d\",\"a\",\"b\",\"c\",\"d\"]\n",
    "l.lower()"
   ]
  },
  {
   "cell_type": "code",
   "execution_count": 34,
   "metadata": {},
   "outputs": [
    {
     "name": "stdout",
     "output_type": "stream",
     "text": [
      "a\n",
      "b\n",
      "c\n",
      "d\n",
      "a\n",
      "b\n",
      "c\n",
      "d\n"
     ]
    }
   ],
   "source": [
    "l=[\"a\",\"b\",\"c\",\"d\",\"a\",\"b\",\"c\",\"d\"]\n",
    "for i in l:\n",
    "    print i\n"
   ]
  },
  {
   "cell_type": "code",
   "execution_count": 35,
   "metadata": {},
   "outputs": [
    {
     "name": "stdout",
     "output_type": "stream",
     "text": [
      "a <type 'str'>\n",
      "b <type 'str'>\n",
      "c <type 'str'>\n",
      "d <type 'str'>\n",
      "a <type 'str'>\n",
      "b <type 'str'>\n",
      "c <type 'str'>\n",
      "d <type 'str'>\n"
     ]
    }
   ],
   "source": [
    "l=[\"a\",\"b\",\"c\",\"d\",\"a\",\"b\",\"c\",\"d\"]\n",
    "for i in l:\n",
    "    print i,type(i)"
   ]
  },
  {
   "cell_type": "code",
   "execution_count": 36,
   "metadata": {},
   "outputs": [
    {
     "name": "stdout",
     "output_type": "stream",
     "text": [
      "a A\n",
      "b B\n",
      "c C\n",
      "d D\n",
      "a A\n",
      "b B\n",
      "c C\n",
      "d D\n"
     ]
    }
   ],
   "source": [
    "l=[\"a\",\"b\",\"c\",\"d\",\"a\",\"b\",\"c\",\"d\"]\n",
    "for i in l:\n",
    "    print i,i.upper()"
   ]
  },
  {
   "cell_type": "code",
   "execution_count": 37,
   "metadata": {},
   "outputs": [
    {
     "name": "stdout",
     "output_type": "stream",
     "text": [
      "['A', 'B', 'C', 'D', 'A', 'B', 'C', 'D']\n"
     ]
    }
   ],
   "source": [
    "l=[\"a\",\"b\",\"c\",\"d\",\"a\",\"b\",\"c\",\"d\"]\n",
    "u_l=[]\n",
    "for i in l:\n",
    "    u_l.append(i.upper())\n",
    "print u_l"
   ]
  },
  {
   "cell_type": "code",
   "execution_count": 38,
   "metadata": {},
   "outputs": [
    {
     "name": "stdout",
     "output_type": "stream",
     "text": [
      "Enter an element:a\n",
      "2\n"
     ]
    }
   ],
   "source": [
    "l=[\"a\",\"b\",\"c\",\"d\",\"a\",\"b\",\"c\",\"d\"]\n",
    "u_l=[]\n",
    "for i in l:\n",
    "    u_l.append(i.upper())\n",
    "elem = raw_input(\"Enter an element:\")\n",
    "elem_u = elem.upper()\n",
    "print u_l.count(elem_u)"
   ]
  },
  {
   "cell_type": "code",
   "execution_count": 39,
   "metadata": {},
   "outputs": [
    {
     "name": "stdout",
     "output_type": "stream",
     "text": [
      "Enter an element:A\n",
      "2\n"
     ]
    }
   ],
   "source": [
    "l=[\"a\",\"b\",\"c\",\"d\",\"a\",\"b\",\"c\",\"d\"]\n",
    "u_l=[]\n",
    "for i in l:\n",
    "    u_l.append(i.upper())\n",
    "elem = raw_input(\"Enter an element:\")\n",
    "elem_u = elem.upper()\n",
    "print u_l.count(elem_u)"
   ]
  },
  {
   "cell_type": "code",
   "execution_count": 40,
   "metadata": {},
   "outputs": [
    {
     "name": "stdout",
     "output_type": "stream",
     "text": [
      "['A', 'B', 'C', 'D', 'A', 'B', 'C', 'D']\n",
      "Enter an element:a\n",
      "2\n"
     ]
    }
   ],
   "source": [
    "l=[\"a\",\"b\",\"c\",\"d\",\"a\",\"b\",\"c\",\"d\"]\n",
    "'''\n",
    "u_l=[]\n",
    "for i in l:\n",
    "    u_l.append(i.upper())\n",
    "'''\n",
    "u_l=[i.upper() for i in l]\n",
    "print u_l\n",
    "elem = raw_input(\"Enter an element:\")\n",
    "elem_u = elem.upper()\n",
    "print u_l.count(elem_u)"
   ]
  },
  {
   "cell_type": "code",
   "execution_count": 41,
   "metadata": {},
   "outputs": [
    {
     "name": "stdout",
     "output_type": "stream",
     "text": [
      "['A', 'B', 'C', 'D', 'A', 'B', 'C', 'D']\n",
      "Enter an element:A\n",
      "2\n"
     ]
    }
   ],
   "source": [
    "l=[\"a\",\"b\",\"c\",\"d\",\"a\",\"b\",\"c\",\"d\"]\n",
    "'''\n",
    "u_l=[]\n",
    "for i in l:\n",
    "    u_l.append(i.upper())\n",
    "'''\n",
    "u_l=[i.upper() for i in l]\n",
    "print u_l\n",
    "elem = raw_input(\"Enter an element:\")\n",
    "elem_u = elem.upper()\n",
    "print u_l.count(elem_u)"
   ]
  },
  {
   "cell_type": "code",
   "execution_count": 43,
   "metadata": {},
   "outputs": [
    {
     "name": "stdout",
     "output_type": "stream",
     "text": [
      "1518748153.56\n",
      "1518748153.82\n"
     ]
    }
   ],
   "source": [
    "import time\n",
    "t1=time.time()\n",
    "l=[]\n",
    "for i in range(1000000):\n",
    "    l.append(i)\n",
    "t2=time.time()\n",
    "print t1\n",
    "print t2"
   ]
  },
  {
   "cell_type": "code",
   "execution_count": 44,
   "metadata": {},
   "outputs": [
    {
     "name": "stdout",
     "output_type": "stream",
     "text": [
      "1518748182.04\n",
      "1518748182.21\n"
     ]
    }
   ],
   "source": [
    "import time\n",
    "t1=time.time()\n",
    "l=[i for i in range(1000000)]\n",
    "t2=time.time()\n",
    "print t1\n",
    "print t2"
   ]
  },
  {
   "cell_type": "code",
   "execution_count": 45,
   "metadata": {},
   "outputs": [
    {
     "name": "stdout",
     "output_type": "stream",
     "text": [
      "0.161603927612\n"
     ]
    }
   ],
   "source": [
    "import time\n",
    "t1=time.time()\n",
    "l=[i for i in range(1000000)]\n",
    "t2=time.time()\n",
    "print t2-t1"
   ]
  },
  {
   "cell_type": "code",
   "execution_count": 46,
   "metadata": {},
   "outputs": [
    {
     "name": "stdout",
     "output_type": "stream",
     "text": [
      "0.261258125305\n"
     ]
    }
   ],
   "source": [
    "import time\n",
    "t1=time.time()\n",
    "l=[]\n",
    "for i in range(1000000):\n",
    "    l.append(i)\n",
    "t2=time.time()\n",
    "print t2-t1"
   ]
  },
  {
   "cell_type": "code",
   "execution_count": null,
   "metadata": {
    "collapsed": true
   },
   "outputs": [],
   "source": []
  }
 ],
 "metadata": {
  "kernelspec": {
   "display_name": "Python 2",
   "language": "python",
   "name": "python2"
  },
  "language_info": {
   "codemirror_mode": {
    "name": "ipython",
    "version": 2
   },
   "file_extension": ".py",
   "mimetype": "text/x-python",
   "name": "python",
   "nbconvert_exporter": "python",
   "pygments_lexer": "ipython2",
   "version": "2.7.14"
  }
 },
 "nbformat": 4,
 "nbformat_minor": 2
}
