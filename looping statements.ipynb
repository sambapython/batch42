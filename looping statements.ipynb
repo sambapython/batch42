{
 "cells": [
  {
   "cell_type": "code",
   "execution_count": 1,
   "metadata": {},
   "outputs": [
    {
     "name": "stdout",
     "output_type": "stream",
     "text": [
      "program started\n",
      "0\n",
      "1\n",
      "2\n",
      "other statements in program\n",
      "program ended\n"
     ]
    }
   ],
   "source": [
    "print \"program started\"\n",
    "i=0\n",
    "while i<3:\n",
    "    print i\n",
    "    i=i+1\n",
    "print \"other statements in program\"\n",
    "print \"program ended\""
   ]
  },
  {
   "cell_type": "code",
   "execution_count": 2,
   "metadata": {},
   "outputs": [
    {
     "name": "stdout",
     "output_type": "stream",
     "text": [
      "program started\n",
      "p\n",
      "y\n",
      "t\n",
      "h\n",
      "o\n",
      "n\n",
      "other statements in program\n",
      "program ended\n"
     ]
    }
   ],
   "source": [
    "print \"program started\"\n",
    "for i in \"python\":\n",
    "    print i\n",
    "\n",
    "print \"other statements in program\"\n",
    "print \"program ended\""
   ]
  },
  {
   "cell_type": "code",
   "execution_count": 3,
   "metadata": {},
   "outputs": [
    {
     "name": "stdout",
     "output_type": "stream",
     "text": [
      "program started\n",
      "p\n",
      "y\n",
      "t\n",
      "h\n",
      "o\n",
      "n\n",
      "other statements in program\n",
      "program ended\n"
     ]
    }
   ],
   "source": [
    "print \"program started\"\n",
    "s=\"python\"\n",
    "i=0\n",
    "while i<len(s):\n",
    "    print s[i]\n",
    "    i=i+1\n",
    "\n",
    "print \"other statements in program\"\n",
    "print \"program ended\""
   ]
  },
  {
   "cell_type": "code",
   "execution_count": 4,
   "metadata": {},
   "outputs": [
    {
     "name": "stdout",
     "output_type": "stream",
     "text": [
      "program started\n",
      "iteration started\n",
      "a\n",
      "iteration ended\n",
      "iteration started\n",
      "b\n",
      "iteration ended\n",
      "iteration started\n",
      "c\n",
      "iteration ended\n",
      "other statements in program\n",
      "program ended\n"
     ]
    }
   ],
   "source": [
    "print \"program started\"\n",
    "for i in \"abc\":\n",
    "    print \"iteration started\"\n",
    "    print i\n",
    "    print \"iteration ended\"\n",
    "\n",
    "print \"other statements in program\"\n",
    "print \"program ended\""
   ]
  },
  {
   "cell_type": "code",
   "execution_count": 5,
   "metadata": {},
   "outputs": [
    {
     "name": "stdout",
     "output_type": "stream",
     "text": [
      "program started\n",
      "Enter a value to iteratepython program\n",
      "p\n",
      "y\n",
      "t\n",
      "h\n",
      "o\n",
      "n\n",
      " \n",
      "p\n",
      "r\n",
      "o\n",
      "g\n",
      "r\n",
      "a\n",
      "m\n",
      "other statements in program\n",
      "program ended\n"
     ]
    }
   ],
   "source": [
    "print \"program started\"\n",
    "s=raw_input(\"Enter a value to iterate\")\n",
    "for i in s:\n",
    "    print i\n",
    "\n",
    "print \"other statements in program\"\n",
    "print \"program ended\""
   ]
  },
  {
   "cell_type": "code",
   "execution_count": 6,
   "metadata": {},
   "outputs": [
    {
     "name": "stdout",
     "output_type": "stream",
     "text": [
      "program started\n",
      "Enter a value to iterateabcd\n",
      "a\n",
      "b\n",
      "c\n",
      "d\n",
      "other statements in program\n",
      "program ended\n"
     ]
    }
   ],
   "source": [
    "#<space>\n",
    "print \"program started\"\n",
    "s=raw_input(\"Enter a value to iterate\")\n",
    "for i in s:\n",
    "    if s==\" \":\n",
    "        print \"<space>\"\n",
    "    else:\n",
    "        print i\n",
    "\n",
    "print \"other statements in program\"\n",
    "print \"program ended\""
   ]
  },
  {
   "cell_type": "code",
   "execution_count": 8,
   "metadata": {},
   "outputs": [
    {
     "name": "stdout",
     "output_type": "stream",
     "text": [
      "program started\n",
      "Enter a value to iterateab cd ef gh\n",
      "a\n",
      "b\n",
      "<space>\n",
      "c\n",
      "d\n",
      "<space>\n",
      "e\n",
      "f\n",
      "<space>\n",
      "g\n",
      "h\n",
      "other statements in program\n",
      "program ended\n"
     ]
    }
   ],
   "source": [
    "#<space>\n",
    "print \"program started\"\n",
    "s=raw_input(\"Enter a value to iterate\")\n",
    "for i in s:\n",
    "    if i==\" \":\n",
    "        print \"<space>\"\n",
    "    else:\n",
    "        print i\n",
    "\n",
    "print \"other statements in program\"\n",
    "print \"program ended\""
   ]
  },
  {
   "cell_type": "code",
   "execution_count": 9,
   "metadata": {},
   "outputs": [
    {
     "name": "stdout",
     "output_type": "stream",
     "text": [
      "program started\n",
      "Enter a value to iteratea b c d\n",
      "iteration started\n",
      "a\n",
      "iteration ended\n",
      "iteration started\n",
      "<space>\n",
      "iteration ended\n",
      "iteration started\n",
      "b\n",
      "iteration ended\n",
      "iteration started\n",
      "<space>\n",
      "iteration ended\n",
      "iteration started\n",
      "c\n",
      "iteration ended\n",
      "iteration started\n",
      "<space>\n",
      "iteration ended\n",
      "iteration started\n",
      "d\n",
      "iteration ended\n",
      "other statements in program\n",
      "program ended\n"
     ]
    }
   ],
   "source": [
    "#<space>\n",
    "print \"program started\"\n",
    "s=raw_input(\"Enter a value to iterate\")\n",
    "for i in s:\n",
    "    print \"iteration started\"\n",
    "    if i==\" \":\n",
    "        print \"<space>\"\n",
    "    else:\n",
    "        print i\n",
    "    print \"iteration ended\"\n",
    "\n",
    "print \"other statements in program\"\n",
    "print \"program ended\""
   ]
  },
  {
   "cell_type": "code",
   "execution_count": 10,
   "metadata": {},
   "outputs": [
    {
     "name": "stdout",
     "output_type": "stream",
     "text": [
      "program started\n",
      "Enter a value to iteratea b c d\n",
      "iteration started\n",
      "a\n",
      "iteration ended\n",
      "iteration started\n",
      "iteration ended\n",
      "iteration started\n",
      "b\n",
      "iteration ended\n",
      "iteration started\n",
      "iteration ended\n",
      "iteration started\n",
      "c\n",
      "iteration ended\n",
      "iteration started\n",
      "iteration ended\n",
      "iteration started\n",
      "d\n",
      "iteration ended\n",
      "other statements in program\n",
      "program ended\n"
     ]
    }
   ],
   "source": [
    "#<space>\n",
    "print \"program started\"\n",
    "s=raw_input(\"Enter a value to iterate\")\n",
    "for i in s:\n",
    "    print \"iteration started\"\n",
    "    if i!=\" \":\n",
    "        print i\n",
    "    print \"iteration ended\"\n",
    "\n",
    "print \"other statements in program\"\n",
    "print \"program ended\""
   ]
  },
  {
   "cell_type": "code",
   "execution_count": 11,
   "metadata": {},
   "outputs": [
    {
     "name": "stdout",
     "output_type": "stream",
     "text": [
      "program started\n",
      "Enter a value to iterateabcd\n",
      "iteration started\n",
      "a\n",
      "iteration ended\n",
      "iteration started\n",
      "b\n",
      "iteration ended\n",
      "iteration started\n",
      "c\n",
      "iteration ended\n",
      "iteration started\n",
      "d\n",
      "iteration ended\n",
      "other statements in program\n",
      "program ended\n"
     ]
    }
   ],
   "source": [
    "#<space>\n",
    "print \"program started\"\n",
    "s=raw_input(\"Enter a value to iterate\")\n",
    "for i in s:\n",
    "    print \"iteration started\"\n",
    "    if i==\" \":\n",
    "        break\n",
    "    print i\n",
    "    print \"iteration ended\"\n",
    "\n",
    "print \"other statements in program\"\n",
    "print \"program ended\""
   ]
  },
  {
   "cell_type": "code",
   "execution_count": 12,
   "metadata": {},
   "outputs": [
    {
     "name": "stdout",
     "output_type": "stream",
     "text": [
      "program started\n",
      "Enter a value to iterate: ab cd ef gh\n",
      "iteration started\n",
      "a\n",
      "iteration ended\n",
      "iteration started\n",
      "b\n",
      "iteration ended\n",
      "iteration started\n",
      "other statements in program\n",
      "program ended\n"
     ]
    }
   ],
   "source": [
    "#<space>\n",
    "print \"program started\"\n",
    "s=raw_input(\"Enter a value to iterate: \")\n",
    "for i in s:\n",
    "    print \"iteration started\"\n",
    "    if i==\" \":\n",
    "        break\n",
    "    print i\n",
    "    print \"iteration ended\"\n",
    "\n",
    "print \"other statements in program\"\n",
    "print \"program ended\""
   ]
  },
  {
   "cell_type": "code",
   "execution_count": 13,
   "metadata": {},
   "outputs": [
    {
     "name": "stdout",
     "output_type": "stream",
     "text": [
      "program started\n",
      "Enter some numbers: 13246789\n",
      "1\n",
      "3\n",
      "2\n",
      "4\n",
      "6\n",
      "7\n",
      "8\n",
      "9\n",
      "other statements in program\n",
      "program ended\n"
     ]
    }
   ],
   "source": [
    "#<space>\n",
    "print \"program started\"\n",
    "s=raw_input(\"Enter some numbers: \")\n",
    "for i in s:\n",
    "    print i\n",
    "\n",
    "\n",
    "print \"other statements in program\"\n",
    "print \"program ended\""
   ]
  },
  {
   "cell_type": "code",
   "execution_count": 14,
   "metadata": {},
   "outputs": [
    {
     "name": "stdout",
     "output_type": "stream",
     "text": [
      "program started\n",
      "Enter some numbers: 246835689\n",
      "2 <type 'str'>\n",
      "4 <type 'str'>\n",
      "6 <type 'str'>\n",
      "8 <type 'str'>\n",
      "3 <type 'str'>\n",
      "5 <type 'str'>\n",
      "6 <type 'str'>\n",
      "8 <type 'str'>\n",
      "9 <type 'str'>\n",
      "other statements in program\n",
      "program ended\n"
     ]
    }
   ],
   "source": [
    "#<space>\n",
    "print \"program started\"\n",
    "s=raw_input(\"Enter some numbers: \")\n",
    "for i in s:\n",
    "    print i,type(i)\n",
    "print \"other statements in program\"\n",
    "print \"program ended\""
   ]
  },
  {
   "cell_type": "code",
   "execution_count": 15,
   "metadata": {},
   "outputs": [
    {
     "name": "stdout",
     "output_type": "stream",
     "text": [
      "program started\n",
      "Enter some numbers: 234567\n",
      "2 <type 'int'>\n",
      "3 <type 'int'>\n",
      "4 <type 'int'>\n",
      "5 <type 'int'>\n",
      "6 <type 'int'>\n",
      "7 <type 'int'>\n",
      "other statements in program\n",
      "program ended\n"
     ]
    }
   ],
   "source": [
    "#<space>\n",
    "print \"program started\"\n",
    "s=raw_input(\"Enter some numbers: \")\n",
    "for i in s:\n",
    "    i=int(i)\n",
    "    print i,type(i)\n",
    "print \"other statements in program\"\n",
    "print \"program ended\""
   ]
  },
  {
   "cell_type": "code",
   "execution_count": 16,
   "metadata": {},
   "outputs": [
    {
     "ename": "TypeError",
     "evalue": "'int' object is not iterable",
     "output_type": "error",
     "traceback": [
      "\u001b[0;31m---------------------------------------------------------------------------\u001b[0m",
      "\u001b[0;31mTypeError\u001b[0m                                 Traceback (most recent call last)",
      "\u001b[0;32m<ipython-input-16-fadf14133441>\u001b[0m in \u001b[0;36m<module>\u001b[0;34m()\u001b[0m\n\u001b[0;32m----> 1\u001b[0;31m \u001b[0;32mfor\u001b[0m \u001b[0mi\u001b[0m \u001b[0;32min\u001b[0m \u001b[0;36m100\u001b[0m\u001b[0;34m:\u001b[0m\u001b[0;34m\u001b[0m\u001b[0m\n\u001b[0m\u001b[1;32m      2\u001b[0m     \u001b[0;32mprint\u001b[0m \u001b[0mi\u001b[0m\u001b[0;34m\u001b[0m\u001b[0m\n",
      "\u001b[0;31mTypeError\u001b[0m: 'int' object is not iterable"
     ]
    }
   ],
   "source": [
    "for i in 100:\n",
    "    print i"
   ]
  },
  {
   "cell_type": "code",
   "execution_count": 18,
   "metadata": {},
   "outputs": [
    {
     "name": "stdout",
     "output_type": "stream",
     "text": [
      "1\n",
      "0\n",
      "0\n"
     ]
    }
   ],
   "source": [
    "for i in \"100\":\n",
    "    print i"
   ]
  },
  {
   "cell_type": "code",
   "execution_count": 19,
   "metadata": {},
   "outputs": [
    {
     "name": "stdout",
     "output_type": "stream",
     "text": [
      "program started\n",
      "Enter some numbers: 246835680\n",
      "2 <type 'int'>\n",
      "2\n",
      "4 <type 'int'>\n",
      "4\n",
      "6 <type 'int'>\n",
      "6\n",
      "8 <type 'int'>\n",
      "8\n",
      "3 <type 'int'>\n",
      "Got the odd number so going out from the loop\n",
      "other statements in program\n",
      "program ended\n"
     ]
    }
   ],
   "source": [
    "print \"program started\"\n",
    "s=raw_input(\"Enter some numbers: \")\n",
    "for i in s:\n",
    "    i=int(i)\n",
    "    print i,type(i)\n",
    "    if i%2==1:\n",
    "        print \"Got the odd number so going out from the loop\"\n",
    "        break\n",
    "    else:\n",
    "        print i\n",
    "print \"other statements in program\"\n",
    "print \"program ended\""
   ]
  },
  {
   "cell_type": "code",
   "execution_count": 20,
   "metadata": {},
   "outputs": [
    {
     "name": "stdout",
     "output_type": "stream",
     "text": [
      "program started\n",
      "Enter some numbers: abcd\n",
      "a\n",
      "b\n",
      "c\n",
      "d\n",
      "other statements in program\n",
      "program ended\n"
     ]
    }
   ],
   "source": [
    "print \"program started\"\n",
    "s=raw_input(\"Enter some numbers: \")\n",
    "for i in s:\n",
    "    print i\n",
    "    continue\n",
    "print \"other statements in program\"\n",
    "print \"program ended\""
   ]
  },
  {
   "cell_type": "code",
   "execution_count": 21,
   "metadata": {},
   "outputs": [
    {
     "name": "stdout",
     "output_type": "stream",
     "text": [
      "program started\n",
      "Enter some numbers: abcd\n",
      "a\n",
      "b\n",
      "c\n",
      "d\n",
      "other statements in program\n",
      "program ended\n"
     ]
    }
   ],
   "source": [
    "print \"program started\"\n",
    "s=raw_input(\"Enter some numbers: \")\n",
    "for i in s:\n",
    "    print i\n",
    "    continue\n",
    "    print \"end of the iteration\"\n",
    "print \"other statements in program\"\n",
    "print \"program ended\""
   ]
  },
  {
   "cell_type": "code",
   "execution_count": 22,
   "metadata": {},
   "outputs": [
    {
     "name": "stdout",
     "output_type": "stream",
     "text": [
      "program started\n",
      "Enter some numbers: ab cd ef gh\n",
      "iteration started\n",
      "a\n",
      "iteration ended\n",
      "iteration started\n",
      "b\n",
      "iteration ended\n",
      "iteration started\n",
      "iteration started\n",
      "c\n",
      "iteration ended\n",
      "iteration started\n",
      "d\n",
      "iteration ended\n",
      "iteration started\n",
      "iteration started\n",
      "e\n",
      "iteration ended\n",
      "iteration started\n",
      "f\n",
      "iteration ended\n",
      "iteration started\n",
      "iteration started\n",
      "g\n",
      "iteration ended\n",
      "iteration started\n",
      "h\n",
      "iteration ended\n",
      "other statements in program\n",
      "program ended\n"
     ]
    }
   ],
   "source": [
    "print \"program started\"\n",
    "s=raw_input(\"Enter some numbers: \")\n",
    "for i in s:\n",
    "    print \"iteration started\"\n",
    "    if i==\" \":\n",
    "        continue\n",
    "    print i\n",
    "    print \"iteration ended\"\n",
    "print \"other statements in program\"\n",
    "print \"program ended\""
   ]
  },
  {
   "cell_type": "code",
   "execution_count": 23,
   "metadata": {},
   "outputs": [
    {
     "name": "stdout",
     "output_type": "stream",
     "text": [
      "p\n",
      "t\n",
      "o\n",
      " \n",
      "r\n",
      "g\n",
      "a\n"
     ]
    }
   ],
   "source": [
    "s=\"python program\"\n",
    "s1=s[::2]\n",
    "for i in s1:\n",
    "    print i"
   ]
  },
  {
   "cell_type": "code",
   "execution_count": 24,
   "metadata": {},
   "outputs": [
    {
     "name": "stdout",
     "output_type": "stream",
     "text": [
      "program started\n",
      "Enter some numbers: abcd\n",
      "p\n",
      "y\n",
      "t\n",
      "h\n",
      "o\n",
      "n\n",
      "this is an else block\n",
      "other statements in program\n",
      "program ended\n"
     ]
    }
   ],
   "source": [
    "print \"program started\"\n",
    "s=raw_input(\"Enter some numbers: \")\n",
    "for i in \"python\":\n",
    "    print i\n",
    "else:\n",
    "    print \"this is an else block\"\n",
    "    \n",
    "print \"other statements in program\"\n",
    "print \"program ended\""
   ]
  },
  {
   "cell_type": "code",
   "execution_count": 25,
   "metadata": {},
   "outputs": [
    {
     "name": "stdout",
     "output_type": "stream",
     "text": [
      "program started\n",
      "Enter some numbers: abcd\n",
      "p\n",
      "other statements in program\n",
      "program ended\n"
     ]
    }
   ],
   "source": [
    "print \"program started\"\n",
    "s=raw_input(\"Enter some numbers: \")\n",
    "for i in \"python\":\n",
    "    print i\n",
    "    break\n",
    "else:\n",
    "    print \"this is an else block\"\n",
    "    \n",
    "print \"other statements in program\"\n",
    "print \"program ended\""
   ]
  },
  {
   "cell_type": "code",
   "execution_count": 27,
   "metadata": {},
   "outputs": [
    {
     "name": "stdout",
     "output_type": "stream",
     "text": [
      "program started\n",
      "Enter some numbers: p\n",
      "p\n",
      "this is an else block\n",
      "other statements in program\n",
      "program ended\n"
     ]
    }
   ],
   "source": [
    "print \"program started\"\n",
    "s=raw_input(\"Enter some numbers: \")\n",
    "for i in s:\n",
    "    print i\n",
    "    \n",
    "else:\n",
    "    print \"this is an else block\"\n",
    "    \n",
    "print \"other statements in program\"\n",
    "print \"program ended\""
   ]
  },
  {
   "cell_type": "code",
   "execution_count": 28,
   "metadata": {},
   "outputs": [
    {
     "name": "stdout",
     "output_type": "stream",
     "text": [
      "program started\n",
      "Enter some numbers: abcd\n",
      "a\n",
      "b\n",
      "c\n",
      "d\n",
      "this is an else block\n",
      "other statements in program\n",
      "program ended\n"
     ]
    }
   ],
   "source": [
    "print \"program started\"\n",
    "s=raw_input(\"Enter some numbers: \")\n",
    "for i in s:\n",
    "    if i==\" \":\n",
    "        break\n",
    "    else:\n",
    "        print i\n",
    "else:\n",
    "    print \"this is an else block\"\n",
    "    \n",
    "print \"other statements in program\"\n",
    "print \"program ended\""
   ]
  },
  {
   "cell_type": "code",
   "execution_count": 29,
   "metadata": {},
   "outputs": [
    {
     "name": "stdout",
     "output_type": "stream",
     "text": [
      "program started\n",
      "Enter some numbers: ab cd\n",
      "a\n",
      "b\n",
      "other statements in program\n",
      "program ended\n"
     ]
    }
   ],
   "source": [
    "print \"program started\"\n",
    "s=raw_input(\"Enter some numbers: \")\n",
    "for i in s:\n",
    "    if i==\" \":\n",
    "        break\n",
    "    else:\n",
    "        print i\n",
    "else:\n",
    "    print \"this is an else block\"\n",
    "    \n",
    "print \"other statements in program\"\n",
    "print \"program ended\""
   ]
  },
  {
   "cell_type": "code",
   "execution_count": 30,
   "metadata": {},
   "outputs": [
    {
     "name": "stdout",
     "output_type": "stream",
     "text": [
      "program started\n",
      "Enter some numbers: 234689\n",
      "ITs an even number\n",
      "entered odd number\n",
      "ITs an even number\n",
      "ITs an even number\n",
      "ITs an even number\n",
      "entered odd number\n",
      "other statements in program\n",
      "program ended\n"
     ]
    }
   ],
   "source": [
    "print \"program started\"\n",
    "s=raw_input(\"Enter some numbers: \")\n",
    "for i in s:\n",
    "    i=int(i)\n",
    "    if i%2==1:\n",
    "        print \"entered odd number\"\n",
    "    else:\n",
    "        print \"ITs an even number\"\n",
    "print \"other statements in program\"\n",
    "print \"program ended\""
   ]
  },
  {
   "cell_type": "code",
   "execution_count": 31,
   "metadata": {},
   "outputs": [
    {
     "name": "stdout",
     "output_type": "stream",
     "text": [
      "program started\n",
      "Enter some numbers: 2468\n",
      "0\n",
      "No odd numbers\n",
      "other statements in program\n",
      "program ended\n"
     ]
    }
   ],
   "source": [
    "print \"program started\"\n",
    "s=raw_input(\"Enter some numbers: \")\n",
    "flag=0\n",
    "for i in s:\n",
    "    i=int(i)\n",
    "    if i%2==1:\n",
    "        flag=flag+1\n",
    "print flag\n",
    "if flag==0:\n",
    "    print \"No odd numbers\"\n",
    "else:\n",
    "    print \"there is odd numbers\"\n",
    "    \n",
    "print \"other statements in program\"\n",
    "print \"program ended\""
   ]
  },
  {
   "cell_type": "code",
   "execution_count": 32,
   "metadata": {},
   "outputs": [
    {
     "name": "stdout",
     "output_type": "stream",
     "text": [
      "program started\n",
      "Enter some numbers: 246892468924689\n",
      "3\n",
      "there is odd numbers\n",
      "other statements in program\n",
      "program ended\n"
     ]
    }
   ],
   "source": [
    "print \"program started\"\n",
    "s=raw_input(\"Enter some numbers: \")\n",
    "flag=0\n",
    "for i in s:\n",
    "    i=int(i)\n",
    "    if i%2==1:\n",
    "        flag=flag+1\n",
    "print flag\n",
    "if flag==0:\n",
    "    print \"No odd numbers\"\n",
    "else:\n",
    "    print \"there is odd numbers\"\n",
    "    \n",
    "print \"other statements in program\"\n",
    "print \"program ended\""
   ]
  },
  {
   "cell_type": "code",
   "execution_count": 33,
   "metadata": {},
   "outputs": [
    {
     "name": "stdout",
     "output_type": "stream",
     "text": [
      "program started\n",
      "Enter some numbers: 246892468924689\n",
      "2\n",
      "4\n",
      "6\n",
      "8\n",
      "9\n",
      "2\n",
      "4\n",
      "6\n",
      "8\n",
      "9\n",
      "2\n",
      "4\n",
      "6\n",
      "8\n",
      "9\n",
      "3\n",
      "there is odd numbers\n",
      "other statements in program\n",
      "program ended\n"
     ]
    }
   ],
   "source": [
    "print \"program started\"\n",
    "s=raw_input(\"Enter some numbers: \")\n",
    "flag=0\n",
    "for i in s:\n",
    "    print i\n",
    "    i=int(i)\n",
    "    if i%2==1:\n",
    "        flag=flag+1\n",
    "print flag\n",
    "if flag==0:\n",
    "    print \"No odd numbers\"\n",
    "else:\n",
    "    print \"there is odd numbers\"\n",
    "    \n",
    "print \"other statements in program\"\n",
    "print \"program ended\""
   ]
  },
  {
   "cell_type": "code",
   "execution_count": 34,
   "metadata": {},
   "outputs": [
    {
     "name": "stdout",
     "output_type": "stream",
     "text": [
      "program started\n",
      "Enter some numbers: 246892468924689\n",
      "2\n",
      "4\n",
      "6\n",
      "8\n",
      "9\n",
      "1\n",
      "there is odd numbers\n",
      "other statements in program\n",
      "program ended\n"
     ]
    }
   ],
   "source": [
    "print \"program started\"\n",
    "s=raw_input(\"Enter some numbers: \")\n",
    "flag=0\n",
    "for i in s:\n",
    "    print i\n",
    "    i=int(i)\n",
    "    if i%2==1:\n",
    "        flag=flag+1\n",
    "        break\n",
    "print flag\n",
    "if flag==0:\n",
    "    print \"No odd numbers\"\n",
    "else:\n",
    "    print \"there is odd numbers\"\n",
    "    \n",
    "print \"other statements in program\"\n",
    "print \"program ended\""
   ]
  },
  {
   "cell_type": "code",
   "execution_count": null,
   "metadata": {
    "collapsed": true
   },
   "outputs": [],
   "source": [
    "print \"program started\"\n",
    "s=raw_input(\"Enter some numbers: \")\n",
    "flag=0\n",
    "for i in s:\n",
    "    print i\n",
    "    i=int(i)\n",
    "    if i%2==1:\n",
    "        flag=flag+1\n",
    "        break\n",
    "print flag\n",
    "if flag==0:\n",
    "    print \"No odd numbers\"\n",
    "else:\n",
    "    print \"there is odd numbers\"\n",
    "    \n",
    "print \"other statements in program\"\n",
    "print \"program ended\""
   ]
  },
  {
   "cell_type": "code",
   "execution_count": 35,
   "metadata": {},
   "outputs": [
    {
     "data": {
      "text/plain": [
       "[0, 1, 2, 3, 4, 5, 6, 7, 8, 9]"
      ]
     },
     "execution_count": 35,
     "metadata": {},
     "output_type": "execute_result"
    }
   ],
   "source": [
    "range(10)"
   ]
  },
  {
   "cell_type": "code",
   "execution_count": 36,
   "metadata": {},
   "outputs": [
    {
     "data": {
      "text/plain": [
       "[0, 1, 2, 3, 4, 5, 6, 7, 8, 9]"
      ]
     },
     "execution_count": 36,
     "metadata": {},
     "output_type": "execute_result"
    }
   ],
   "source": [
    "range(0,10)"
   ]
  },
  {
   "cell_type": "code",
   "execution_count": 37,
   "metadata": {},
   "outputs": [
    {
     "data": {
      "text/plain": [
       "[0, 2, 4, 6, 8]"
      ]
     },
     "execution_count": 37,
     "metadata": {},
     "output_type": "execute_result"
    }
   ],
   "source": [
    "range(0,10,2)"
   ]
  },
  {
   "cell_type": "code",
   "execution_count": 38,
   "metadata": {},
   "outputs": [
    {
     "data": {
      "text/plain": [
       "[1, 3, 5, 7, 9]"
      ]
     },
     "execution_count": 38,
     "metadata": {},
     "output_type": "execute_result"
    }
   ],
   "source": [
    "range(1,10,2)"
   ]
  },
  {
   "cell_type": "code",
   "execution_count": null,
   "metadata": {
    "collapsed": true
   },
   "outputs": [],
   "source": []
  }
 ],
 "metadata": {
  "kernelspec": {
   "display_name": "Python 2",
   "language": "python",
   "name": "python2"
  },
  "language_info": {
   "codemirror_mode": {
    "name": "ipython",
    "version": 2
   },
   "file_extension": ".py",
   "mimetype": "text/x-python",
   "name": "python",
   "nbconvert_exporter": "python",
   "pygments_lexer": "ipython2",
   "version": "2.7.14"
  }
 },
 "nbformat": 4,
 "nbformat_minor": 2
}
