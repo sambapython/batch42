{
 "cells": [
  {
   "cell_type": "code",
   "execution_count": 1,
   "metadata": {},
   "outputs": [
    {
     "name": "stdout",
     "output_type": "stream",
     "text": [
      "a=10, b=20, c=0, d=0\n",
      "30\n",
      "a=10, b=20, c=30, d=0\n",
      "60\n",
      "a=10, b=20, c=30, d=40\n",
      "100\n"
     ]
    }
   ],
   "source": [
    "def fun(a,b,c=0,d=0):\n",
    "    print \"a=%s, b=%s, c=%s, d=%s\"%(a,b,c,d)\n",
    "    return a+b+c+d\n",
    "print fun(10,20)\n",
    "print fun(10,20,30)\n",
    "print fun(10,20,30,40)"
   ]
  },
  {
   "cell_type": "code",
   "execution_count": 2,
   "metadata": {},
   "outputs": [
    {
     "name": "stdout",
     "output_type": "stream",
     "text": [
      "() <type 'tuple'>\n",
      "(1,) <type 'tuple'>\n",
      "(2, 3) <type 'tuple'>\n",
      "(4, 5, 6) <type 'tuple'>\n",
      "(7, 8, 9, 10) <type 'tuple'>\n"
     ]
    }
   ],
   "source": [
    "# *args\n",
    "def fun(*k):\n",
    "    print k,type(k)\n",
    "fun()\n",
    "fun(1)\n",
    "fun(2,3)\n",
    "fun(4,5,6)\n",
    "fun(7,8,9,10)"
   ]
  },
  {
   "cell_type": "code",
   "execution_count": 3,
   "metadata": {},
   "outputs": [
    {
     "name": "stdout",
     "output_type": "stream",
     "text": [
      "() <type 'tuple'>\n",
      "(1,) <type 'tuple'>\n",
      "(2, 3) <type 'tuple'>\n",
      "(4, 5, 6) <type 'tuple'>\n",
      "(7, 8, 9, 10) <type 'tuple'>\n"
     ]
    },
    {
     "ename": "TypeError",
     "evalue": "fun() got an unexpected keyword argument 'a'",
     "output_type": "error",
     "traceback": [
      "\u001b[0;31m---------------------------------------------------------------------------\u001b[0m",
      "\u001b[0;31mTypeError\u001b[0m                                 Traceback (most recent call last)",
      "\u001b[0;32m<ipython-input-3-62083e0cc868>\u001b[0m in \u001b[0;36m<module>\u001b[0;34m()\u001b[0m\n\u001b[1;32m      7\u001b[0m \u001b[0mfun\u001b[0m\u001b[0;34m(\u001b[0m\u001b[0;36m4\u001b[0m\u001b[0;34m,\u001b[0m\u001b[0;36m5\u001b[0m\u001b[0;34m,\u001b[0m\u001b[0;36m6\u001b[0m\u001b[0;34m)\u001b[0m\u001b[0;34m\u001b[0m\u001b[0m\n\u001b[1;32m      8\u001b[0m \u001b[0mfun\u001b[0m\u001b[0;34m(\u001b[0m\u001b[0;36m7\u001b[0m\u001b[0;34m,\u001b[0m\u001b[0;36m8\u001b[0m\u001b[0;34m,\u001b[0m\u001b[0;36m9\u001b[0m\u001b[0;34m,\u001b[0m\u001b[0;36m10\u001b[0m\u001b[0;34m)\u001b[0m\u001b[0;34m\u001b[0m\u001b[0m\n\u001b[0;32m----> 9\u001b[0;31m \u001b[0mfun\u001b[0m\u001b[0;34m(\u001b[0m\u001b[0ma\u001b[0m\u001b[0;34m=\u001b[0m\u001b[0;36m10\u001b[0m\u001b[0;34m,\u001b[0m\u001b[0mb\u001b[0m\u001b[0;34m=\u001b[0m\u001b[0;36m20\u001b[0m\u001b[0;34m,\u001b[0m\u001b[0mc\u001b[0m\u001b[0;34m=\u001b[0m\u001b[0;36m30\u001b[0m\u001b[0;34m,\u001b[0m\u001b[0md\u001b[0m\u001b[0;34m=\u001b[0m\u001b[0;36m40\u001b[0m\u001b[0;34m)\u001b[0m\u001b[0;34m\u001b[0m\u001b[0m\n\u001b[0m",
      "\u001b[0;31mTypeError\u001b[0m: fun() got an unexpected keyword argument 'a'"
     ]
    }
   ],
   "source": [
    "# *args\n",
    "def fun(*k):\n",
    "    print k,type(k)\n",
    "fun()\n",
    "fun(1)\n",
    "fun(2,3)\n",
    "fun(4,5,6)\n",
    "fun(7,8,9,10)\n",
    "fun(a=10,b=20,c=30,d=40)"
   ]
  },
  {
   "cell_type": "code",
   "execution_count": 4,
   "metadata": {},
   "outputs": [
    {
     "name": "stdout",
     "output_type": "stream",
     "text": [
      "{'a': 100} <type 'dict'>\n",
      "{'a': 10, 'c': 30, 'b': 20, 'd': 40} <type 'dict'>\n",
      "{'x': 300} <type 'dict'>\n",
      "{'y': 400, 'z': 500} <type 'dict'>\n"
     ]
    }
   ],
   "source": [
    "# **kwargs\n",
    "def fun(**k):\n",
    "    print k,type(k)\n",
    "fun(a=100)\n",
    "fun(a=10,b=20,c=30,d=40)\n",
    "fun(x=300)\n",
    "fun(y=400,z=500)"
   ]
  },
  {
   "cell_type": "code",
   "execution_count": 5,
   "metadata": {},
   "outputs": [
    {
     "name": "stdout",
     "output_type": "stream",
     "text": [
      "(10, 20, 30)\n",
      "{}\n"
     ]
    }
   ],
   "source": [
    "def fun(*args, **kwargs):\n",
    "    print args\n",
    "    print kwargs\n",
    "fun(10,20,30)"
   ]
  },
  {
   "cell_type": "code",
   "execution_count": 6,
   "metadata": {},
   "outputs": [
    {
     "name": "stdout",
     "output_type": "stream",
     "text": [
      "(10, 20, 30)\n",
      "{}\n",
      "()\n",
      "{'y': 20, 'x': 10, 'z': 30}\n"
     ]
    }
   ],
   "source": [
    "def fun(*args, **kwargs):\n",
    "    print args\n",
    "    print kwargs\n",
    "fun(10,20,30)\n",
    "fun(x=10,y=20,z=30)"
   ]
  },
  {
   "cell_type": "code",
   "execution_count": 7,
   "metadata": {},
   "outputs": [
    {
     "name": "stdout",
     "output_type": "stream",
     "text": [
      "(10, 20, 30)\n",
      "{}\n",
      "()\n",
      "{'y': 20, 'x': 10, 'z': 30}\n",
      "(10, 20)\n",
      "{'a': 200, 'b': 300}\n"
     ]
    }
   ],
   "source": [
    "def fun(*args, **kwargs):\n",
    "    print args\n",
    "    print kwargs\n",
    "fun(10,20,30)\n",
    "fun(x=10,y=20,z=30)\n",
    "fun(10,20,a=200,b=300)"
   ]
  },
  {
   "cell_type": "code",
   "execution_count": 8,
   "metadata": {},
   "outputs": [
    {
     "ename": "SyntaxError",
     "evalue": "non-keyword arg after keyword arg (<ipython-input-8-a0854935f735>, line 7)",
     "output_type": "error",
     "traceback": [
      "\u001b[0;36m  File \u001b[0;32m\"<ipython-input-8-a0854935f735>\"\u001b[0;36m, line \u001b[0;32m7\u001b[0m\n\u001b[0;31m    fun(100,z=300,400,d=500)\u001b[0m\n\u001b[0;31mSyntaxError\u001b[0m\u001b[0;31m:\u001b[0m non-keyword arg after keyword arg\n"
     ]
    }
   ],
   "source": [
    "def fun(*args, **kwargs):\n",
    "    print args\n",
    "    print kwargs\n",
    "fun(10,20,30)\n",
    "fun(x=10,y=20,z=30)\n",
    "fun(10,20,a=200,b=300)\n",
    "fun(100,z=300,400,d=500)"
   ]
  },
  {
   "cell_type": "code",
   "execution_count": 9,
   "metadata": {},
   "outputs": [
    {
     "ename": "SyntaxError",
     "evalue": "non-keyword arg after keyword arg (<ipython-input-9-fe735249f5ca>, line 7)",
     "output_type": "error",
     "traceback": [
      "\u001b[0;36m  File \u001b[0;32m\"<ipython-input-9-fe735249f5ca>\"\u001b[0;36m, line \u001b[0;32m7\u001b[0m\n\u001b[0;31m    fun(z=300,d=500,600,700)\u001b[0m\n\u001b[0;31mSyntaxError\u001b[0m\u001b[0;31m:\u001b[0m non-keyword arg after keyword arg\n"
     ]
    }
   ],
   "source": [
    "def fun(*args, **kwargs):\n",
    "    print args\n",
    "    print kwargs\n",
    "fun(10,20,30)\n",
    "fun(x=10,y=20,z=30)\n",
    "fun(10,20,a=200,b=300)\n",
    "fun(z=300,d=500,600,700)"
   ]
  },
  {
   "cell_type": "code",
   "execution_count": 10,
   "metadata": {},
   "outputs": [
    {
     "ename": "SyntaxError",
     "evalue": "invalid syntax (<ipython-input-10-b02eb672ef76>, line 1)",
     "output_type": "error",
     "traceback": [
      "\u001b[0;36m  File \u001b[0;32m\"<ipython-input-10-b02eb672ef76>\"\u001b[0;36m, line \u001b[0;32m1\u001b[0m\n\u001b[0;31m    def fun(**kwargs, *args):\u001b[0m\n\u001b[0m                    ^\u001b[0m\n\u001b[0;31mSyntaxError\u001b[0m\u001b[0;31m:\u001b[0m invalid syntax\n"
     ]
    }
   ],
   "source": [
    "def fun(**kwargs, *args):\n",
    "    print args\n",
    "    print kwargs\n",
    "fun(10,20,30)\n",
    "fun(x=10,y=20,z=30)\n",
    "fun(10,20,a=200,b=300)\n",
    "fun(z=300,d=500,600,700)"
   ]
  },
  {
   "cell_type": "code",
   "execution_count": 11,
   "metadata": {},
   "outputs": [
    {
     "name": "stdout",
     "output_type": "stream",
     "text": [
      "outer\n"
     ]
    }
   ],
   "source": [
    "#closure\n",
    "def outer():\n",
    "    print \"outer\"\n",
    "    def inner():\n",
    "        print \"inner\"\n",
    "outer()"
   ]
  },
  {
   "cell_type": "code",
   "execution_count": 12,
   "metadata": {},
   "outputs": [
    {
     "name": "stdout",
     "output_type": "stream",
     "text": [
      "outer\n",
      "inner\n"
     ]
    }
   ],
   "source": [
    "#closure\n",
    "def outer():\n",
    "    print \"outer\"\n",
    "    def inner():\n",
    "        print \"inner\"\n",
    "    inner()\n",
    "outer()"
   ]
  },
  {
   "cell_type": "code",
   "execution_count": 13,
   "metadata": {},
   "outputs": [
    {
     "name": "stdout",
     "output_type": "stream",
     "text": [
      "outer\n"
     ]
    },
    {
     "ename": "NameError",
     "evalue": "name 'inner' is not defined",
     "output_type": "error",
     "traceback": [
      "\u001b[0;31m---------------------------------------------------------------------------\u001b[0m",
      "\u001b[0;31mNameError\u001b[0m                                 Traceback (most recent call last)",
      "\u001b[0;32m<ipython-input-13-a26b159caa29>\u001b[0m in \u001b[0;36m<module>\u001b[0;34m()\u001b[0m\n\u001b[1;32m      6\u001b[0m \u001b[0;34m\u001b[0m\u001b[0m\n\u001b[1;32m      7\u001b[0m \u001b[0mouter\u001b[0m\u001b[0;34m(\u001b[0m\u001b[0;34m)\u001b[0m\u001b[0;34m\u001b[0m\u001b[0m\n\u001b[0;32m----> 8\u001b[0;31m \u001b[0minner\u001b[0m\u001b[0;34m(\u001b[0m\u001b[0;34m)\u001b[0m\u001b[0;34m\u001b[0m\u001b[0m\n\u001b[0m",
      "\u001b[0;31mNameError\u001b[0m: name 'inner' is not defined"
     ]
    }
   ],
   "source": [
    "#closure\n",
    "def outer():\n",
    "    print \"outer\"\n",
    "    def inner():\n",
    "        print \"inner\"\n",
    "    \n",
    "outer()\n",
    "inner()"
   ]
  },
  {
   "cell_type": "code",
   "execution_count": 14,
   "metadata": {},
   "outputs": [
    {
     "name": "stdout",
     "output_type": "stream",
     "text": [
      "outer\n",
      "<function inner at 0x7f17088f56e0>\n"
     ]
    }
   ],
   "source": [
    "#closure\n",
    "def outer():\n",
    "    print \"outer\"\n",
    "    def inner():\n",
    "        print \"inner\"\n",
    "    return inner\n",
    "    \n",
    "res = outer()\n",
    "print res"
   ]
  },
  {
   "cell_type": "code",
   "execution_count": 15,
   "metadata": {},
   "outputs": [
    {
     "name": "stdout",
     "output_type": "stream",
     "text": [
      "outer\n",
      "<function inner at 0x7f17088f5938>\n",
      "inner\n"
     ]
    }
   ],
   "source": [
    "#closure\n",
    "def outer():\n",
    "    print \"outer\"\n",
    "    def inner():\n",
    "        print \"inner\"\n",
    "    return inner\n",
    "    \n",
    "res = outer()\n",
    "print res\n",
    "res()"
   ]
  },
  {
   "cell_type": "code",
   "execution_count": 16,
   "metadata": {},
   "outputs": [
    {
     "name": "stdout",
     "output_type": "stream",
     "text": [
      "this is fun\n",
      "f1= None\n"
     ]
    }
   ],
   "source": [
    "def fun():\n",
    "    print \"this is fun\"\n",
    "    \n",
    "f1=fun()\n",
    "print \"f1=\",f1"
   ]
  },
  {
   "cell_type": "code",
   "execution_count": 17,
   "metadata": {},
   "outputs": [
    {
     "name": "stdout",
     "output_type": "stream",
     "text": [
      "this is fun\n",
      "f1= 10\n"
     ]
    }
   ],
   "source": [
    "def fun():\n",
    "    print \"this is fun\"\n",
    "    return 10\n",
    "    \n",
    "f1=fun()\n",
    "print \"f1=\",f1"
   ]
  },
  {
   "cell_type": "code",
   "execution_count": 19,
   "metadata": {},
   "outputs": [
    {
     "name": "stdout",
     "output_type": "stream",
     "text": [
      "f2= <function fun at 0x7f170916ee60>\n",
      "this is fun\n",
      "10\n",
      "this is fun\n",
      "10\n",
      "this is fun\n",
      "f1= 10\n"
     ]
    }
   ],
   "source": [
    "def fun():\n",
    "    print \"this is fun\"\n",
    "    return 10\n",
    "\n",
    "f2=fun\n",
    "print \"f2=\",f2\n",
    "print fun()\n",
    "print f2()\n",
    "f1=fun()\n",
    "print \"f1=\",f1"
   ]
  },
  {
   "cell_type": "code",
   "execution_count": 20,
   "metadata": {},
   "outputs": [
    {
     "name": "stdout",
     "output_type": "stream",
     "text": [
      "outer\n",
      "<function inner at 0x7f17088f58c0>\n",
      "inner\n"
     ]
    }
   ],
   "source": [
    "#closure\n",
    "def outer():\n",
    "    print \"outer\"\n",
    "    def inner():\n",
    "        print \"inner\"\n",
    "        \n",
    "    return inner\n",
    "    \n",
    "res = outer()\n",
    "print res\n",
    "res()"
   ]
  },
  {
   "cell_type": "code",
   "execution_count": 21,
   "metadata": {},
   "outputs": [
    {
     "name": "stdout",
     "output_type": "stream",
     "text": [
      "outer\n",
      "inner\n",
      "res= None\n"
     ]
    }
   ],
   "source": [
    "#closure\n",
    "def outer():\n",
    "    print \"outer\"\n",
    "    def inner():\n",
    "        print \"inner\"\n",
    "    return inner()\n",
    "res = outer()\n",
    "print \"res=\",res"
   ]
  },
  {
   "cell_type": "code",
   "execution_count": 22,
   "metadata": {},
   "outputs": [
    {
     "name": "stdout",
     "output_type": "stream",
     "text": [
      "this is fun\n",
      "None\n"
     ]
    }
   ],
   "source": [
    "def fun():\n",
    "    print \"this is fun\"\n",
    "res=fun()\n",
    "print res"
   ]
  },
  {
   "cell_type": "code",
   "execution_count": 23,
   "metadata": {},
   "outputs": [
    {
     "name": "stdout",
     "output_type": "stream",
     "text": [
      "this is fun\n",
      "None\n"
     ]
    }
   ],
   "source": [
    "def fun():\n",
    "    print \"this is fun\"\n",
    "print fun()"
   ]
  },
  {
   "cell_type": "code",
   "execution_count": 24,
   "metadata": {},
   "outputs": [
    {
     "name": "stdout",
     "output_type": "stream",
     "text": [
      "this is fun\n",
      "10\n"
     ]
    }
   ],
   "source": [
    "def fun():\n",
    "    print \"this is fun\"\n",
    "    return 10\n",
    "print fun()"
   ]
  },
  {
   "cell_type": "code",
   "execution_count": 25,
   "metadata": {},
   "outputs": [
    {
     "name": "stdout",
     "output_type": "stream",
     "text": [
      "30\n"
     ]
    }
   ],
   "source": [
    "def fun(a,b):\n",
    "    return a+b\n",
    "print fun(10,20)"
   ]
  },
  {
   "cell_type": "code",
   "execution_count": 26,
   "metadata": {},
   "outputs": [
    {
     "name": "stdout",
     "output_type": "stream",
     "text": [
      "None\n"
     ]
    }
   ],
   "source": [
    "def fun(a,b):\n",
    "    c= a+b\n",
    "print fun(10,20)"
   ]
  },
  {
   "cell_type": "code",
   "execution_count": 27,
   "metadata": {},
   "outputs": [
    {
     "name": "stdout",
     "output_type": "stream",
     "text": [
      "res= None\n"
     ]
    }
   ],
   "source": [
    "def fun(a,b):\n",
    "    c= a+b\n",
    "def fun1():\n",
    "    return fun(100,200)\n",
    "res=fun1()\n",
    "print \"res=\",res"
   ]
  },
  {
   "cell_type": "code",
   "execution_count": 28,
   "metadata": {},
   "outputs": [
    {
     "name": "stdout",
     "output_type": "stream",
     "text": [
      "res= 300\n"
     ]
    }
   ],
   "source": [
    "def fun(a,b):\n",
    "    c= a+b\n",
    "    return c\n",
    "def fun1():\n",
    "    return fun(100,200)\n",
    "res=fun1()\n",
    "print \"res=\",res"
   ]
  },
  {
   "cell_type": "code",
   "execution_count": 29,
   "metadata": {},
   "outputs": [
    {
     "name": "stdout",
     "output_type": "stream",
     "text": [
      "res= <function fun at 0x7f17088f5848>\n"
     ]
    }
   ],
   "source": [
    "def fun(a,b):\n",
    "    c= a+b\n",
    "    return c\n",
    "def fun1():\n",
    "    return fun\n",
    "res=fun1()\n",
    "print \"res=\",res"
   ]
  },
  {
   "cell_type": "code",
   "execution_count": 30,
   "metadata": {},
   "outputs": [
    {
     "name": "stdout",
     "output_type": "stream",
     "text": [
      "res= <function fun at 0x7f17088f5a28>\n",
      "30\n",
      "300\n"
     ]
    }
   ],
   "source": [
    "def fun(a,b):\n",
    "    c= a+b\n",
    "    return c\n",
    "def fun1():\n",
    "    return fun\n",
    "res=fun1()\n",
    "print \"res=\",res\n",
    "print fun(10,20)\n",
    "print res(100,200)"
   ]
  },
  {
   "cell_type": "code",
   "execution_count": 31,
   "metadata": {},
   "outputs": [
    {
     "name": "stdout",
     "output_type": "stream",
     "text": [
      "<function inner at 0x7f170916eb90>\n"
     ]
    }
   ],
   "source": [
    "#closure\n",
    "def outer():\n",
    "    def inner():\n",
    "        print \"inner\"\n",
    "        return 20\n",
    "    return inner\n",
    "res=outer()\n",
    "print res"
   ]
  },
  {
   "cell_type": "code",
   "execution_count": 32,
   "metadata": {},
   "outputs": [
    {
     "name": "stdout",
     "output_type": "stream",
     "text": [
      "<function inner at 0x7f17088f5668>\n",
      "inner\n",
      "result= 20\n"
     ]
    }
   ],
   "source": [
    "#closure\n",
    "def outer():\n",
    "    def inner():\n",
    "        print \"inner\"\n",
    "        return 20\n",
    "    return inner\n",
    "res=outer()\n",
    "print res\n",
    "result=res()\n",
    "print \"result=\",result"
   ]
  },
  {
   "cell_type": "code",
   "execution_count": 33,
   "metadata": {},
   "outputs": [
    {
     "name": "stdout",
     "output_type": "stream",
     "text": [
      "outer\n",
      "some other statements in outer\n",
      "inner\n",
      "res= 20\n"
     ]
    }
   ],
   "source": [
    "#closure\n",
    "def outer():\n",
    "    print \"outer\"\n",
    "    def inner():\n",
    "        print \"inner\"\n",
    "        return 20\n",
    "    print \"some other statements in outer\"\n",
    "    return inner()\n",
    "res=outer()\n",
    "print \"res=\",res\n"
   ]
  },
  {
   "cell_type": "code",
   "execution_count": null,
   "metadata": {
    "collapsed": true
   },
   "outputs": [],
   "source": []
  }
 ],
 "metadata": {
  "kernelspec": {
   "display_name": "Python 2",
   "language": "python",
   "name": "python2"
  },
  "language_info": {
   "codemirror_mode": {
    "name": "ipython",
    "version": 2
   },
   "file_extension": ".py",
   "mimetype": "text/x-python",
   "name": "python",
   "nbconvert_exporter": "python",
   "pygments_lexer": "ipython2",
   "version": "2.7.14"
  }
 },
 "nbformat": 4,
 "nbformat_minor": 2
}
