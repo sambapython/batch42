{
 "cells": [
  {
   "cell_type": "code",
   "execution_count": 1,
   "metadata": {
    "collapsed": true
   },
   "outputs": [],
   "source": [
    "f=open(\"data2.csv\",\"w\")"
   ]
  },
  {
   "cell_type": "code",
   "execution_count": 3,
   "metadata": {},
   "outputs": [
    {
     "ename": "IOError",
     "evalue": "[Errno 2] No such file or directory: 'data4.csv'",
     "output_type": "error",
     "traceback": [
      "\u001b[0;31m---------------------------------------------------------------------------\u001b[0m",
      "\u001b[0;31mIOError\u001b[0m                                   Traceback (most recent call last)",
      "\u001b[0;32m<ipython-input-3-82c576b19f49>\u001b[0m in \u001b[0;36m<module>\u001b[0;34m()\u001b[0m\n\u001b[0;32m----> 1\u001b[0;31m \u001b[0mf\u001b[0m\u001b[0;34m=\u001b[0m\u001b[0mopen\u001b[0m\u001b[0;34m(\u001b[0m\u001b[0;34m\"data4.csv\"\u001b[0m\u001b[0;34m,\u001b[0m\u001b[0;34m\"r\"\u001b[0m\u001b[0;34m)\u001b[0m\u001b[0;34m\u001b[0m\u001b[0m\n\u001b[0m",
      "\u001b[0;31mIOError\u001b[0m: [Errno 2] No such file or directory: 'data4.csv'"
     ]
    }
   ],
   "source": [
    "f=open(\"data4.csv\",\"r\")"
   ]
  },
  {
   "cell_type": "code",
   "execution_count": 4,
   "metadata": {
    "collapsed": true
   },
   "outputs": [],
   "source": [
    "f=open(\"data2.csv\",\"w\")"
   ]
  },
  {
   "cell_type": "code",
   "execution_count": 5,
   "metadata": {
    "collapsed": true
   },
   "outputs": [],
   "source": [
    "f.write(\"python is pure object oriented programing language\")"
   ]
  },
  {
   "cell_type": "code",
   "execution_count": 6,
   "metadata": {
    "collapsed": true
   },
   "outputs": [],
   "source": [
    "f.close()"
   ]
  },
  {
   "cell_type": "code",
   "execution_count": 7,
   "metadata": {},
   "outputs": [
    {
     "data": {
      "text/plain": [
       "file"
      ]
     },
     "execution_count": 7,
     "metadata": {},
     "output_type": "execute_result"
    }
   ],
   "source": [
    "type(f)"
   ]
  },
  {
   "cell_type": "code",
   "execution_count": 8,
   "metadata": {
    "collapsed": true
   },
   "outputs": [],
   "source": [
    "f=open(\"data2.csv\",\"w\")"
   ]
  },
  {
   "cell_type": "code",
   "execution_count": 9,
   "metadata": {
    "collapsed": true
   },
   "outputs": [],
   "source": [
    "f.write(\"python is pure object oriented programing language\")"
   ]
  },
  {
   "cell_type": "code",
   "execution_count": 10,
   "metadata": {
    "collapsed": true
   },
   "outputs": [],
   "source": [
    "f.close()"
   ]
  },
  {
   "cell_type": "code",
   "execution_count": 11,
   "metadata": {
    "collapsed": true
   },
   "outputs": [],
   "source": [
    "f=open(\"data2.csv\",\"w\")\n",
    "f.write(\"python is pure object oriented programing language\")\n",
    "f.close()"
   ]
  },
  {
   "cell_type": "code",
   "execution_count": 12,
   "metadata": {
    "collapsed": true
   },
   "outputs": [],
   "source": [
    "f=open(\"data2.csv\",\"a\")\n",
    "f.write(\"\\npython is pure object oriented programing language\")\n",
    "f.close()"
   ]
  },
  {
   "cell_type": "code",
   "execution_count": 13,
   "metadata": {
    "collapsed": true
   },
   "outputs": [],
   "source": [
    "f=open(\"data2.csv\",\"a\")\n",
    "f.write(\"\\npython is pure object oriented programing language\")\n",
    "f.close()"
   ]
  },
  {
   "cell_type": "code",
   "execution_count": 14,
   "metadata": {
    "collapsed": true
   },
   "outputs": [],
   "source": [
    "f=open(\"data2.csv\",\"a\")\n",
    "f.write(\"\\npython is pure object oriented programing language\")\n",
    "f.close()"
   ]
  },
  {
   "cell_type": "code",
   "execution_count": 15,
   "metadata": {
    "collapsed": true
   },
   "outputs": [],
   "source": [
    "f=open(\"data2.csv\",\"w\")\n",
    "f.write(\"\\npython is pure object oriented programing language\")\n",
    "f.close()"
   ]
  },
  {
   "cell_type": "code",
   "execution_count": 16,
   "metadata": {},
   "outputs": [
    {
     "ename": "ValueError",
     "evalue": "I/O operation on closed file",
     "output_type": "error",
     "traceback": [
      "\u001b[0;31m---------------------------------------------------------------------------\u001b[0m",
      "\u001b[0;31mValueError\u001b[0m                                Traceback (most recent call last)",
      "\u001b[0;32m<ipython-input-16-d992bc247207>\u001b[0m in \u001b[0;36m<module>\u001b[0;34m()\u001b[0m\n\u001b[1;32m      2\u001b[0m \u001b[0mf\u001b[0m\u001b[0;34m.\u001b[0m\u001b[0mwrite\u001b[0m\u001b[0;34m(\u001b[0m\u001b[0;34m\"\\npython is pure object oriented programing language\"\u001b[0m\u001b[0;34m)\u001b[0m\u001b[0;34m\u001b[0m\u001b[0m\n\u001b[1;32m      3\u001b[0m \u001b[0mf\u001b[0m\u001b[0;34m.\u001b[0m\u001b[0mclose\u001b[0m\u001b[0;34m(\u001b[0m\u001b[0;34m)\u001b[0m\u001b[0;34m\u001b[0m\u001b[0m\n\u001b[0;32m----> 4\u001b[0;31m \u001b[0mf\u001b[0m\u001b[0;34m.\u001b[0m\u001b[0mwrite\u001b[0m\u001b[0;34m(\u001b[0m\u001b[0;34m\"\\n after close\"\u001b[0m\u001b[0;34m)\u001b[0m\u001b[0;34m\u001b[0m\u001b[0m\n\u001b[0m",
      "\u001b[0;31mValueError\u001b[0m: I/O operation on closed file"
     ]
    }
   ],
   "source": [
    "f=open(\"data2.csv\",\"w\")\n",
    "f.write(\"\\npython is pure object oriented programing language\")\n",
    "f.close()\n",
    "f.write(\"\\n after close\")"
   ]
  },
  {
   "cell_type": "code",
   "execution_count": 21,
   "metadata": {
    "collapsed": true
   },
   "outputs": [],
   "source": [
    "f=open(\"data2.csv\",\"w\")\n",
    "f.write(\"python is pure object oriented programing language\")\n",
    "f.flush()\n",
    "f.write(\"after flush\")\n",
    "f.close()"
   ]
  },
  {
   "cell_type": "code",
   "execution_count": 22,
   "metadata": {
    "collapsed": true
   },
   "outputs": [],
   "source": [
    "f=open(\"data2.csv\",\"w\")\n",
    "f.write(\"python is pure object oriented programing language\")\n",
    "f.flush()\n",
    "f.write(\"after flush\")"
   ]
  },
  {
   "cell_type": "code",
   "execution_count": 23,
   "metadata": {
    "collapsed": true
   },
   "outputs": [],
   "source": [
    "f.close()"
   ]
  },
  {
   "cell_type": "code",
   "execution_count": 24,
   "metadata": {
    "collapsed": true
   },
   "outputs": [],
   "source": [
    "f=open(\"data2.csv\",\"w\")\n",
    "f.write(\"python is pure object oriented programing language\")\n",
    "f.flush()\n",
    "f.write(\"after flush\")\n",
    "f.flush()\n",
    "f.close()"
   ]
  },
  {
   "cell_type": "code",
   "execution_count": 25,
   "metadata": {},
   "outputs": [
    {
     "name": "stdout",
     "output_type": "stream",
     "text": [
      "['name:0', 'name:1', 'name:2', 'name:3', 'name:4', 'name:5', 'name:6', 'name:7', 'name:8', 'name:9']\n"
     ]
    }
   ],
   "source": [
    "names=map(lambda x:\"name:%s\"%x,range(10))\n",
    "print names"
   ]
  },
  {
   "cell_type": "code",
   "execution_count": 26,
   "metadata": {},
   "outputs": [
    {
     "ename": "TypeError",
     "evalue": "expected a string or other character buffer object",
     "output_type": "error",
     "traceback": [
      "\u001b[0;31m---------------------------------------------------------------------------\u001b[0m",
      "\u001b[0;31mTypeError\u001b[0m                                 Traceback (most recent call last)",
      "\u001b[0;32m<ipython-input-26-7b2088c6d8a4>\u001b[0m in \u001b[0;36m<module>\u001b[0;34m()\u001b[0m\n\u001b[1;32m      1\u001b[0m \u001b[0mnames\u001b[0m\u001b[0;34m=\u001b[0m\u001b[0mmap\u001b[0m\u001b[0;34m(\u001b[0m\u001b[0;32mlambda\u001b[0m \u001b[0mx\u001b[0m\u001b[0;34m:\u001b[0m\u001b[0;34m\"name:%s\"\u001b[0m\u001b[0;34m%\u001b[0m\u001b[0mx\u001b[0m\u001b[0;34m,\u001b[0m\u001b[0mrange\u001b[0m\u001b[0;34m(\u001b[0m\u001b[0;36m10\u001b[0m\u001b[0;34m)\u001b[0m\u001b[0;34m)\u001b[0m\u001b[0;34m\u001b[0m\u001b[0m\n\u001b[1;32m      2\u001b[0m \u001b[0mf\u001b[0m\u001b[0;34m=\u001b[0m\u001b[0mopen\u001b[0m\u001b[0;34m(\u001b[0m\u001b[0;34m\"data2.csv\"\u001b[0m\u001b[0;34m,\u001b[0m\u001b[0;34m\"w\"\u001b[0m\u001b[0;34m)\u001b[0m\u001b[0;34m\u001b[0m\u001b[0m\n\u001b[0;32m----> 3\u001b[0;31m \u001b[0mf\u001b[0m\u001b[0;34m.\u001b[0m\u001b[0mwrite\u001b[0m\u001b[0;34m(\u001b[0m\u001b[0mnames\u001b[0m\u001b[0;34m)\u001b[0m\u001b[0;34m\u001b[0m\u001b[0m\n\u001b[0m\u001b[1;32m      4\u001b[0m \u001b[0mf\u001b[0m\u001b[0;34m.\u001b[0m\u001b[0mclose\u001b[0m\u001b[0;34m(\u001b[0m\u001b[0;34m)\u001b[0m\u001b[0;34m\u001b[0m\u001b[0m\n",
      "\u001b[0;31mTypeError\u001b[0m: expected a string or other character buffer object"
     ]
    }
   ],
   "source": [
    "names=map(lambda x:\"name:%s\"%x,range(10))\n",
    "f=open(\"data2.csv\",\"w\")\n",
    "f.write(names)\n",
    "f.close()"
   ]
  },
  {
   "cell_type": "code",
   "execution_count": 27,
   "metadata": {
    "collapsed": true
   },
   "outputs": [],
   "source": [
    "names=map(lambda x:\"name:%s\"%x,range(10))\n",
    "f=open(\"data2.csv\",\"w\")\n",
    "f.writelines(names)\n",
    "f.close()"
   ]
  },
  {
   "cell_type": "code",
   "execution_count": 28,
   "metadata": {
    "collapsed": true
   },
   "outputs": [],
   "source": [
    "names=map(lambda x:\"name:%s\\n\"%x,range(10))\n",
    "f=open(\"data2.csv\",\"w\")\n",
    "f.writelines(names)\n",
    "f.close()"
   ]
  },
  {
   "cell_type": "code",
   "execution_count": 29,
   "metadata": {},
   "outputs": [
    {
     "name": "stdout",
     "output_type": "stream",
     "text": [
      "name:0\n",
      "name:1\n",
      "name:2\n",
      "name:3\n",
      "name:4\n",
      "name:5\n",
      "name:6\n",
      "name:7\n",
      "name:8\n",
      "name:9\n",
      "\n"
     ]
    }
   ],
   "source": [
    "f=open(\"data2.csv\",\"r\")\n",
    "data=f.read()\n",
    "print data"
   ]
  },
  {
   "cell_type": "code",
   "execution_count": 30,
   "metadata": {
    "collapsed": true
   },
   "outputs": [],
   "source": [
    "f.close()"
   ]
  },
  {
   "cell_type": "code",
   "execution_count": 32,
   "metadata": {},
   "outputs": [
    {
     "name": "stdout",
     "output_type": "stream",
     "text": [
      "name:0\n",
      "name:1\n",
      "name:2\n",
      "name:3\n",
      "name:4\n",
      "name:5\n",
      "name:6\n",
      "name:7\n",
      "name:8\n",
      "name:9\n",
      "\n"
     ]
    }
   ],
   "source": [
    "f=open(\"data2.csv\",\"r\")\n",
    "data=f.read()\n",
    "print data\n",
    "f.close()"
   ]
  },
  {
   "cell_type": "code",
   "execution_count": 33,
   "metadata": {},
   "outputs": [
    {
     "name": "stdout",
     "output_type": "stream",
     "text": [
      "name:0\n",
      "name:1\n",
      "name:2\n",
      "name:3\n",
      "name:4\n",
      "name:5\n",
      "name:6\n",
      "name:7\n",
      "name:8\n",
      "name:9\n",
      "\n",
      "data1= \n"
     ]
    }
   ],
   "source": [
    "f=open(\"data2.csv\",\"r\")\n",
    "data=f.read()\n",
    "print data\n",
    "data1=f.read()\n",
    "print \"data1=\",data1\n",
    "f.close()"
   ]
  },
  {
   "cell_type": "code",
   "execution_count": 34,
   "metadata": {},
   "outputs": [
    {
     "name": "stdout",
     "output_type": "stream",
     "text": [
      "open in a readmode: 0\n",
      "name:0\n",
      "name:1\n",
      "name:2\n",
      "name:3\n",
      "name:4\n",
      "name:5\n",
      "name:6\n",
      "name:7\n",
      "name:8\n",
      "name:9\n",
      "\n",
      "after first read: 70\n",
      "data1= \n",
      "after second read: 70\n"
     ]
    }
   ],
   "source": [
    "f=open(\"data2.csv\",\"r\")\n",
    "print \"open in a readmode:\",f.tell()\n",
    "data=f.read()\n",
    "print data\n",
    "print \"after first read:\",f.tell()\n",
    "data1=f.read()\n",
    "print \"data1=\",data1\n",
    "print \"after second read:\",f.tell()\n",
    "f.close()"
   ]
  },
  {
   "cell_type": "code",
   "execution_count": 35,
   "metadata": {},
   "outputs": [
    {
     "name": "stdout",
     "output_type": "stream",
     "text": [
      "open in a readmode: 0\n",
      "name:0\n",
      "name:1\n",
      "name:2\n",
      "after first read: 20\n",
      "data1= \n",
      "name:3\n",
      "name:4\n",
      "name:5\n",
      "name:6\n",
      "name:7\n",
      "name:8\n",
      "name:9\n",
      "\n",
      "after second read: 70\n"
     ]
    }
   ],
   "source": [
    "f=open(\"data2.csv\",\"r\")\n",
    "print \"open in a readmode:\",f.tell()\n",
    "data=f.read(20)\n",
    "print data\n",
    "print \"after first read:\",f.tell()\n",
    "data1=f.read()\n",
    "print \"data1=\",data1\n",
    "print \"after second read:\",f.tell()\n",
    "f.close()"
   ]
  },
  {
   "cell_type": "code",
   "execution_count": 36,
   "metadata": {},
   "outputs": [
    {
     "name": "stdout",
     "output_type": "stream",
     "text": [
      "open in a readmode: 0\n",
      "name:0\n",
      "name:1\n",
      "name:2\n",
      "after first read: 20\n",
      "data1= \n",
      "name:3\n",
      "name:4\n",
      "name:5\n",
      "name:6\n",
      "name:7\n",
      "name:8\n",
      "name:9\n",
      "\n",
      "after second read: 70\n",
      "data2: \n"
     ]
    }
   ],
   "source": [
    "f=open(\"data2.csv\",\"r\")\n",
    "print \"open in a readmode:\",f.tell()\n",
    "data=f.read(20)\n",
    "print data\n",
    "print \"after first read:\",f.tell()\n",
    "data1=f.read()\n",
    "print \"data1=\",data1\n",
    "print \"after second read:\",f.tell()\n",
    "data2=f.read()\n",
    "print \"data2:\",data2\n",
    "f.close()"
   ]
  },
  {
   "cell_type": "code",
   "execution_count": 37,
   "metadata": {},
   "outputs": [
    {
     "name": "stdout",
     "output_type": "stream",
     "text": [
      "open in a readmode: 0\n",
      "name:0\n",
      "name:1\n",
      "name:2\n",
      "after first read: 20\n",
      "data1= \n",
      "name:3\n",
      "name:4\n",
      "name:5\n",
      "name:6\n",
      "name:7\n",
      "name:8\n",
      "name:9\n",
      "\n",
      "after second read: 70\n",
      "afterr seeking to : 0 0\n",
      "data2: name:0\n",
      "name:1\n",
      "name:2\n",
      "name:3\n",
      "name:4\n",
      "name:5\n",
      "name:6\n",
      "name:7\n",
      "name:8\n",
      "name:9\n",
      "\n"
     ]
    }
   ],
   "source": [
    "f=open(\"data2.csv\",\"r\")\n",
    "print \"open in a readmode:\",f.tell()\n",
    "data=f.read(20)\n",
    "print data\n",
    "print \"after first read:\",f.tell()\n",
    "data1=f.read()\n",
    "print \"data1=\",data1\n",
    "print \"after second read:\",f.tell()\n",
    "f.seek(0)\n",
    "print \"afterr seeking to : 0\",f.tell()\n",
    "data2=f.read()\n",
    "print \"data2:\",data2\n",
    "f.close()"
   ]
  },
  {
   "cell_type": "code",
   "execution_count": 38,
   "metadata": {},
   "outputs": [
    {
     "name": "stdout",
     "output_type": "stream",
     "text": [
      "open in a readmode: 0\n",
      "name:0\n",
      "name:1\n",
      "name:2\n",
      "after first read: 20\n",
      "data1= \n",
      "name:3\n",
      "name:4\n",
      "name:5\n",
      "name:6\n",
      "name:7\n",
      "name:8\n",
      "name:9\n",
      "\n",
      "after second read: 70\n",
      "afterr seeking to : 50 50\n",
      "data2: ame:7\n",
      "name:8\n",
      "name:9\n",
      "\n"
     ]
    }
   ],
   "source": [
    "f=open(\"data2.csv\",\"r\")\n",
    "print \"open in a readmode:\",f.tell()\n",
    "data=f.read(20)\n",
    "print data\n",
    "print \"after first read:\",f.tell()\n",
    "data1=f.read()\n",
    "print \"data1=\",data1\n",
    "print \"after second read:\",f.tell()\n",
    "f.seek(50)\n",
    "print \"afterr seeking to : 50\",f.tell()\n",
    "data2=f.read()\n",
    "print \"data2:\",data2\n",
    "f.close()"
   ]
  },
  {
   "cell_type": "code",
   "execution_count": 39,
   "metadata": {},
   "outputs": [
    {
     "name": "stdout",
     "output_type": "stream",
     "text": [
      "name:0\n",
      "\n"
     ]
    }
   ],
   "source": [
    "f=open(\"data2.csv\",\"r\")\n",
    "print f.readline()"
   ]
  },
  {
   "cell_type": "code",
   "execution_count": 40,
   "metadata": {},
   "outputs": [
    {
     "data": {
      "text/plain": [
       "'name:1\\n'"
      ]
     },
     "execution_count": 40,
     "metadata": {},
     "output_type": "execute_result"
    }
   ],
   "source": [
    "f.readline()"
   ]
  },
  {
   "cell_type": "code",
   "execution_count": 41,
   "metadata": {},
   "outputs": [
    {
     "data": {
      "text/plain": [
       "'name:2\\n'"
      ]
     },
     "execution_count": 41,
     "metadata": {},
     "output_type": "execute_result"
    }
   ],
   "source": [
    "f.readline()"
   ]
  },
  {
   "cell_type": "code",
   "execution_count": 42,
   "metadata": {},
   "outputs": [
    {
     "data": {
      "text/plain": [
       "['name:3\\n',\n",
       " 'name:4\\n',\n",
       " 'name:5\\n',\n",
       " 'name:6\\n',\n",
       " 'name:7\\n',\n",
       " 'name:8\\n',\n",
       " 'name:9\\n']"
      ]
     },
     "execution_count": 42,
     "metadata": {},
     "output_type": "execute_result"
    }
   ],
   "source": [
    "f.readlines()"
   ]
  },
  {
   "cell_type": "code",
   "execution_count": 43,
   "metadata": {},
   "outputs": [
    {
     "name": "stdout",
     "output_type": "stream",
     "text": [
      "['name:0\\n', 'name:1\\n', 'name:2\\n', 'name:3\\n', 'name:4\\n', 'name:5\\n', 'name:6\\n', 'name:7\\n', 'name:8\\n', 'name:9\\n']\n"
     ]
    }
   ],
   "source": [
    "f=open(\"data2.csv\",\"r\")\n",
    "print f.readlines()"
   ]
  },
  {
   "cell_type": "code",
   "execution_count": 44,
   "metadata": {},
   "outputs": [
    {
     "name": "stdout",
     "output_type": "stream",
     "text": [
      "name:0\n",
      "\n",
      "name:1\n",
      "\n",
      "name:2\n",
      "\n",
      "name:3\n",
      "\n",
      "name:4\n",
      "\n",
      "name:5\n",
      "\n",
      "name:6\n",
      "\n",
      "name:7\n",
      "\n",
      "name:8\n",
      "\n",
      "name:9\n",
      "\n"
     ]
    }
   ],
   "source": [
    "f=open(\"data2.csv\",\"r\")\n",
    "for row in f.readlines():\n",
    "    print row"
   ]
  },
  {
   "cell_type": "code",
   "execution_count": 45,
   "metadata": {},
   "outputs": [
    {
     "name": "stdout",
     "output_type": "stream",
     "text": [
      "name:0\n",
      "\n",
      "name:1\n",
      "\n",
      "name:2\n",
      "\n",
      "name:3\n",
      "\n",
      "name:4\n",
      "\n",
      "name:5\n",
      "\n",
      "name:6\n",
      "\n",
      "name:7\n",
      "\n",
      "name:8\n",
      "\n",
      "name:9\n",
      "\n"
     ]
    }
   ],
   "source": [
    "f=open(\"data2.csv\",\"r\")\n",
    "for row in f:\n",
    "    print row"
   ]
  },
  {
   "cell_type": "code",
   "execution_count": 46,
   "metadata": {},
   "outputs": [
    {
     "name": "stdout",
     "output_type": "stream",
     "text": [
      "����\u0000\u0010JFIF\u0000\u0001\u0001\u0000\u0000\u0001\u0000\u0001\u0000\u0000��\u0000C\u0000\u0005\u0003\u0004\u0004\u0004\u0003\u0005\u0004\u0004\u0004\u0005\u0005\u0005\u0006\u0007\f",
      "\b\u0007\u0007\u0007\u0007\u000f\u000b",
      "\u000b",
      "\t\f",
      "\u0011\u000f\u0012\u0012\u0011\u000f\u0011\u0011\u0013\u0016\u001c",
      "\u0017\u0013\u0014\u001a\u0015\u0011\u0011\u0018!\u0018\u001a\u001d",
      "\u001d",
      "\u001f\u001f\u001f\u0013\u0017\"$\"\u001e",
      "$\u001c",
      "\u001e",
      "\u001f\u001e",
      "��\u0000C\u0001\u0005\u0005\u0005\u0007\u0006\u0007\u000e\b\b\u000e\u001e",
      "\u0014\u0011\u0014\u001e",
      "\u001e",
      "\u001e",
      "\u001e",
      "\u001e",
      "\u001e",
      "\u001e",
      "\u001e",
      "\u001e",
      "\u001e",
      "\u001e",
      "\u001e",
      "\u001e",
      "\u001e",
      "\u001e",
      "\u001e",
      "\u001e",
      "\u001e",
      "\u001e",
      "\u001e",
      "\u001e",
      "\u001e",
      "\u001e",
      "\u001e",
      "\u001e",
      "\u001e",
      "\u001e",
      "\u001e",
      "\u001e",
      "\u001e",
      "\u001e",
      "\u001e",
      "\u001e",
      "\u001e",
      "\u001e",
      "\u001e",
      "\u001e",
      "\u001e",
      "\u001e",
      "\u001e",
      "\u001e",
      "\u001e",
      "\u001e",
      "\u001e",
      "\u001e",
      "\u001e",
      "\u001e",
      "\u001e",
      "\u001e",
      "\u001e",
      "��\u0000\u0011\b\u0002X\u0003 \u0003\u0001\"\u0000\u0002\u0011\u0001\u0003\u0011\u0001��\u0000\u001f\u0000\u0000\u0001\u0005\u0001\u0001\u0001\u0001\u0001\u0001\u0000\u0000\u0000\u0000\u0000\u0000\u0000\u0000\u0001\u0002\u0003\u0004\u0005\u0006\u0007\b\t\n",
      "\u000b",
      "��\u0000�\u0010\u0000\u0002\u0001\u0003\u0003\u0002\u0004\u0003\u0005\u0005\u0004\u0004\u0000\u0000\u0001}\u0001\u0002\u0003\u0000\u0004\u0011\u0005\u0012!1A\u0006\u0013Qa\u0007\"q\u00142���\b#B��\u0015R��$3br�\t\n",
      "\u0016\u0017\u0018\u0019\u001a%&'()*456789:CDEFGHIJSTUVWXYZcdefghijstuvwxyz���������������������������������������������������������������������������\u0000\u001f\u0001\u0000\u0003\u0001\u0001\u0001\u0001\u0001\u0001\u0001\u0001\u0001\u0000\u0000\u0000\u0000\u0000\u0000\u0001\u0002\u0003\u0004\u0005\u0006\u0007\b\t\n",
      "\u000b",
      "��\u0000�\u0011\u0000\u0002\u0001\u0002\u0004\u0004\u0003\u0004\u0007\u0005\u0004\u0004\u0000\u0001\u0002w\u0000\u0001\u0002\u0003\u0011\u0004\u0005!1\u0006\u0012AQ\u0007aq\u0013\"2�\b\u0014B����\t#3R�\u0015br�\n",
      "\u0016$4�%�\u0017\u0018\u0019\u001a&'()*56789:CDEFGHIJSTUVWXYZcdefghijstuvwxyz��������������������������������������������������������������������������\u0000\f",
      "\u0003\u0001\u0000\u0002\u0011\u0003\u0011\u0000?\u0000�.�(�\u0002�(�\u0002�(�\u0002�(�\u0002�(�\u0002�(�\u0002�(�\u0002�(�\u0002�(�\u0002�(�\u0002�(�\u0002�(�\u0002�(�\u0002�(�\u0002�(�\u0002�(�\u0002�(�\u0002�(�\u0002�(�\u0002�(�\u0002�(�\u0002�(�\u0002�(�\u0002�(�\u0002�(�\u0002�(�\u0002�(�\u0002�(�\u0002�(�\u0002�(�\u0002�(�\u0002�(�\u0002�(�\u0002�(�\u0002�(�\u0002�(�\u0002�(�\u0002�(�\u0002�(�\u0002�(�\u0002�(�\u0002�(�\u0002�(�\u0002�(�\u0002�(�\u0002�(�\u0002�(�\u0002�(�\u0002�(�\u0002�(�\u0002�(�\u0002�(�\u0002�(�\u0002�(�\u0002�(�\u0002�(�\u0002�(�\u0002�(�\u0002�(�\u0002�(�\u0002�(�\u0002�(�\u0002�(�\u0002�(�\u0002�(�\u0002�(�\u0002�(�\u0002�(�\u0002�(�\u0002�(�\u0002�(�\u0002�(�\u0002�(�\u0002�(�\u0002�(�\u0002�(�\u0002�(�\u0002�(�\u0002�(�\u0002�(�\u0002�(�\u0002�(�\u0002�(�\u0002�(�\u0002�(�\u0002�(�\u0002�(�\u0002�(�\u0002�(�\u0002�(�\u0002�(�\u0002�(�\u0002�(�\u0002�(�\u0002�(�\u0002�(�\u0002�(�\u0002�(�\u0002�(�\u0002�(�\u0002�*���Xhz\u001d",
      "���O�{\r",
      ">�K��v3yqF������\u0004�\u0002}(\u0002�\u0015�v\u001f�E��������\u0017V�1,�O\u000f���*0ʺ��\f",
      "�\u0010A\u001c",
      "\u0010jo�_��E~3�/�\u0000�h\u0003٨�\u0019�\u0000���\u0000TW�7�\u0012�\u0000����_��E~3�/�\u0000�h\u0003٨�\u0019�\u0000���\u0000TW�7�\u0012�\u0000����_��E~3�/�\u0000�h\u0003٨�\u0019�\u0000���\u0000TW�7�\u0012�\u0000����_��E~3�/�\u0000�h\u0003٨�\u0019�\u0000���\u0000TW�7�\u0012�\u0000����_��E~3�/�\u0000�h\u0003٨�\u0019�\u0000���\u0000TW�7�\u0012�\u0000����_��E~3�/�\u0000�h\u0003٨�\u0019�\u0000���\u0000TW�7�\u0012�\u0000����_��E~3�/�\u0000�h\u0003٨�\u0019�\u0000���\u0000TW�7�\u0012�\u0000����_��E~3�/�\u0000�h\u0003٨�\u0019�\u0000���\u0000TW�7�\u0012�\u0000����_��E~3�/�\u0000�h\u0003٨�\u0019�\u0000���\u0000TW�7�\u0012�\u0000����_��E~3�/�\u0000�h\u0003٨�\u0019�\u0000���\u0000TW�7�\u0012�\u0000����_��E~3�/�\u0000�h\u0003٨�\u0019�\u0000���\u0000TW�7�\u0012�\u0000����_��E~3�/�\u0000�h\u0003٨�\u0019�\u0000���\u0000TW�7�\u0012�\u0000����_��E~3�/�\u0000�h\u0003٨�\u0019�\u0000���\u0000TW�7�\u0012�\u0000����_��E~3�/�\u0000�h\u0003٨�\u0019�\u0000���\u0000TW�7�\u0012�\u0000����_��E~3�/�\u0000�h\u0003٨�\u0019�\u0000���\u0000TW�7�\u0012�\u0000����_��E~3�/�\u0000�h\u0003٨�\u0019�\u0000���\u0000TW�7�\u0012�\u0000����_��E~3�/�\u0000�h\u0003٨�\u0019�\u0000���\u0000TW�7�\u0012�\u0000����_��E~3�/�\u0000�h\u0003٨�\u0019�\u0000���\u0000TW�7�\u0012�\u0000����_��E~3�/�\u0000�h\u0003٨�?�O�WJ���k�]��|M���_g�m��d�ү����\u0003���O p�Fs^�@\u0005\u0014Q@\u0005\u0014Q@\u0005\u0014Q@\u0005\u0014Q@\u0005\u0014Q@\u0005\u0014Q@\u0005\u0014Q@\u0005\u0014Q@\u0005\u0014Q@\u0005\u0014Q@\u0005\u0014Q@\u0005\u0014Q@\u0005\u0014Q@\u0005y_�~5�:g�&𗃴-S�>'���t�\u001e",
      "U��\u0000��>x�A�G�\u001d",
      "�oLд�\u0007xJ���'�}��,g\u001d",
      "mb�g���\u0013��\u0016\u0004t��ᗁ�?���\u001d",
      "���\f",
      "ct�0\u0006[�q�K#\u0013\u0013�t\u0018\u0000\n",
      "\u0000��տi�Py�^\u0012�u��nD:��qs\"�\u0016��?�/�e?�Q���W�Q@\u001e",
      "3�\u0000\u0019O�\u0000Tg�\u0000*T�S�\u0000�\u0019�\u0000ʕ{5\u0014\u0001�?��\u0000�F�G�e?�Q���W�Q@\u001e",
      "3�\u0000\u0019O�\u0000Tg�\u0000*T�S�\u0000�\u0019�\u0000ʕ{5\u0014\u0001�?��\u0000�F�G�e?�Q���W�Q@\u001e",
      "3�\u0000\u0019O�\u0000Tg�\u0000*T�S�\u0000�\u0019�\u0000ʕ{5\u0014\u0001�?��\u0000�F�G�e?�Q���W�Q@\u001e",
      "3�\u0000\u0019O�\u0000Tg�\u0000*T�S�\u0000�\u0019�\u0000ʕ{5\u0014\u0001�?��\u0000�F�G�e?�Q���W�Q@\u001e",
      "3�\u0000\u0019O�\u0000Tg�\u0000*T�S�\u0000�\u0019�\u0000ʕ{5\u0014\u0001�?��\u0000�F�G�e?�Q���W�Q@\u001e",
      "3�\u0000\u0019O�\u0000Tg�\u0000*T�S�\u0000�\u0019�\u0000ʕ{5\u0014\u0001�?��\u0000�F�G�e?�Q���W�Q@\u001e",
      "3�\u0000\u0019O�\u0000Tg�\u0000*T��\u0007�!��;S�\u000f�|K\u0012��蚬��\u0011�\u001fh\u0004gڽ��\u0000��\u0000\u0018<;��jO\f",
      "���^\u0018�T+�]\u0013X�ɝ��ў�/\u0004�y��\u0000�G�\u000b",
      "�_�{\u000f�~\u001a�����\u001b\u0003��\u0017V����yR\u0018s��7\u000fNz�B|\u0002�׏>\u001bYꚤ\"�[��M?X�\f",
      "ywp��\f",
      "\u000e���v(\u0003��3���\u000f\u001e",
      "ط��\u0000�4���\u0019���H��?�[��J\u0000>\u0004�\u0000�\u0010�\u001f��zw��G]�q�\u0002�x\u000f�Ž;�\u0000I��΀\n",
      "(��\n",
      "(��\n",
      "(��\n",
      "(��\n",
      "(��\n",
      "(��\n",
      "(��\n",
      "(��\n",
      "(��\n",
      "(��\n",
      "(��\n",
      "(��\n",
      "(��\n",
      "(��\n",
      "(��\n",
      "(��\n",
      "(��\n",
      "(��<g�/�����\u0000���\u0013׳W��%�\u0000�����\u0000p\u000f�\"z�j\u0000(��\u0000(��\u0000(��\u0000(��\u0000(��\u0000(��\u0000(��\u0000(��\u0000(��\u0000(��\u0000(��\u0000(��\u0000(��\u0000�x\r",
      "O���ݔ�2h�\u000e�ԡ\u0007�^k�\u0003\u0011�\u0000\u0001\u0018�g�\u0019�\u0000���\u0000�m�\u0000�*�j\u0000��=���wP�-N�J�[H\"��Ǔ\u0004�HW|�\b\r",
      "�A<�w�Y5I|\u0007�˭x�N�\u0016�����\u0015E��$����1��8�\u0007J������W������1�]8IP8\f",
      "�1S��\u0010\b=��\u001e",
      "��HԿc\u000f\t��\u0012׼Wd�}�m7EWk� �0\u000b",
      "�\u0007S�@\u001fEיx�▣���|\u000b",
      "�\u0006�x��1�}��\u0005���\u001bHI���\u001b��\u000b",
      "��\u001c",
      "���\u0017��x�M��o�:|_��/!h�'��˅��;獠�}�{?ÿ�\u000f�\u001b�m��\u0004�Q�t�\u0010�\u0006HR5G+�\u0003p~�\u0001��\u0000\b��|E�k6V�:}͵ԖZ���<�K��\u000f\u001bc���\u000fpGC�;\n",
      "��0��Z���ڰ}.�\u0000�WF�E���'s��;����\u0000(��\u0000(��\u0000(��\u0000(��\u0000(��\u0000(��\u0000(��\u0000(��\u0000(��\u0000(��\u0000(��\u0000+�>\u0005���\u0019�=\u0017�\u0004:���\u0014t�wn]��TW�׌�%�\u0000�����\u0000p\u000f�\"z\u0000�j�>;�\u0010����z���I]�q�\u001d",
      "��x��ŽG�\u0000I��\u0003�O��\u000f\u0001�\u0000ط��4u��\u0019�'�H���\u0000�[ӿ�:��\\��~ 閶:n�'���F���V\u0017Q�>��\u0005O\u0019���`d�`�s�����jV:>�w��wQ��Y��\\M!�Ɗ2�~�Rm%v4�vE�+ʼ%���> ״�-��\u0013h�kLWG��t�\u0005��GA\u000b",
      "�9$r7\u0001��Q^�Ugk�u{\u0005\u0014QHaE\u0014P\u0001E\u0014P\u0001E\u0014P\u0001E\u0014P\u0001E\u0014P\u0001E\u0014P\u0001E\u0014P\u0001E\u0014P\u0001E\u0014P\u0001E\u0014P\u0001E\u0014P\u0001E\u0014P\u0001E\u0014P\u0001E\u0014P\u0001E\u0014P\u0007��%�\u0000�����\u0000p\u000f�\"z�j񟄿�s�\u001b�\u0000�\u0001�\u0000�O^�@\u0005\u0014Q@\u0005\u0014Q@\u0005\u0014Q@\u0005\u0014Q@\u0005\u0014Q@\u0005\u0014Q@\u0005\u0014Q@\u0005\u0014Q@\u0005\u0014Q@\u0005\u0014Q@\u0005\u0014Q@\u0005\u0014Q@\u0005\u0014Q@\u001e",
      "3�\u00007��\u0000t��\u0000rU���?�{��M��%^�@\u0019�'���\u0012hw:.��/ct�'H.�gS�w���=\b�\b�9\u0015[�~\u0017�<\u001b�à�~\u001b�}:#��'����\u0018\u0003j\u0019]��\u0003�\u0007\u0003�95�w+Ak,�\u0004�\r",
      "\u001a3,Qm�!\u0003;Wq\u0003'��\u0003Ԋ�\u0016|G��\t�j?\u000e�]\u0016��6{�ș�7Eq:\u0015�F��\\,+?\u0000�����d\u0003��\u0004d\u0010{q\\��/�~\u0006���������\u0013Z��N%�\u0019QOU�\u001b+m?�'\u001e",
      "Ց�?k����|1�hڜ�=����\r",
      "�W72<����]��8��\u001c",
      "m�\u001e",
      "�H\u0003'��\f",
      "�\f",
      "h:7�4;m\u000f��m���ڮ�m�\\*���I$�O$��ү�m�w�s�\u001e",
      "\u0003�?��\u000b",
      "x�N��-\"{��t\t4��[�[n]�����\u0003p��c�k�>\u001e",
      "x���>\u0005�<Sm\u0019�-R�+�,��e�\u0016L����(\u0003z�ᵯ�>\u001a��e��5��^�\u0019��\u001a\u001c",
      "_hh���dE\u000f��u��\u0013R����ڞ��%����&�mv._h\u0019U.\u0014\u0002�\u001d",
      "\u0006@'\u0019=h\u0003r���\u0000\u0012~%x�㶭�O\u001bhv~\u001f�\u001a\u0017�����I<\n",
      "fDO2@yb\u000b",
      "\u00128�G\u0003\u0015s�>&�ߌ~5�\u000e<\r",
      "�k\n",
      "Zx{N��SԎ�\u001d",
      "��6\f",
      "q*I��A'�Z\u0000��+�g�\u001d",
      "k>1�u�;�\u000b",
      "m�\u0000\t\u0017��y�FKu�\u001c",
      "�\u0019�eU�g�PH�8�@�\u0015���\u0000��\u001b\u001b\u001b������(.\u0015�����pG#\u0004���\u0014\u0001z���⇆5\u000f\tk?\ttT�%�W����\u001e",
      ")�1x\u0004k��f�2�?.1���F��d>#�^��x�\\���\u0016v�k�JK\u0016Ue��'r#Wf\\\u0016p\t��\u0014\u0001�4W�7Ư\r",
      "��^�\u0013B�\\�~�h��x4�\u0010��wfH\u0018��\u0017ke�^2\t\u001c",
      "կ\u0012|^���/\u000e���M�%�u�{a\u0005����(%;�!���\u001c",
      "��8�\u000fC��\u0019x�K�֥����Pյ�D;Zi�tJ�ȉ���eDA��;(��ɥ�\u0007�4�\u0019&�\u001d",
      "�\u0017�:��s�]GO��Gqk&2\u0003\u0005,�\u0011�eb\u000fc@\u001d",
      "=\u0014Q@\u0005\u0014Q@\u0005\u0014Q@\u0005\u0014Q@\u0005\u0014Q@\u0005x��_�9ߍ�\u0000�\u0000�\u0000�'�f�\u0019�K�\u0000';���\u001f�D�\u0001���|v�\u0000�!���\u0016�\u001f�&��:�>;�\u0010����z���I@\u0007���\"\u001e",
      "\u0003�\u0000�oN�\u0000�h����l�\u0002xD��-u,ۥf\u0005��A\u0000�\u0017�8\u0018���O��\u000f\u0001�\u0000ط��4u\u0006�����╟�6�G�!Ԭ�ͬ6�����\u0001 �X0\u0017!��;�\f",
      "�G\u0014GI���)�̈́��^��O�>|���\u0001X�S�mu_��\u0000\u0014|={\u001c",
      "�%�t��\u0016��b����\u0018��5_Yմ�[�N��'�� ��Ɖ\u001c",
      "��q>��4�/�\u001e",
      "�M��+�k�Z���:Γw��v��X�B�\\C �Ȍ0��\u0006���'\u000e��\u0000/��%�\u0014�;�=~Ҿ@�7��+g�?�����/�|����?J�B���\u0002<#��{J�\u001fV�>�\u0016�Ŵ{\r",
      "WR��t�z\u0018�h�\u0003���0=\u0005z�m9)s>�%�\u0018�.6]�_s�\u0014QEAaE\u0014P\u0001E\u0014P\u0001E\u0014P\u0001E\u0014P\u0001E\u0014P\u0001E\u0014P\u0001E\u0014P\u0001E\u0014P\u0001E\u0014P\u0001E\u0014P\u0001E\u0014P\u0001E\u0014P\u0001E\u0014P\u0001E\u0014P\u0001E\u0014P\u0007��%�\u0000�����\u0000p\u000f�\"z�j񟄿�s�\u001b�\u0000�\u0001�\u0000�O^�@\u0005\u0014Q@\u0005\u0014Q@\u0005\u0014Q@\u0005\u0014Q@\u0005\u0014Q@\u0005\u0014Q@\u0005\u0014Q@\u0005\u0014Q@\u0005\u0014Q@\u0005\u0014Q@\u0005\u0014Q@\u0005\u0014Q@\u0005\u0014Q@\u001e",
      "3�\u00007��\u0000t��\u0000rU���?�{��M��%^�@\u0014��\b5=*���{�!�p�Z�Io*�s��2\u0019O\u001d",
      "A\u0015����\\�|<����M�=nK���]�!tȃ<k02|�b��<�X\u0017��\u001fMQ@\u0019^\u0018�m<=b�vwz��o)����Oy $\u0001��;0^>�8�OsZ�(td=\u0018\u0010ih�\u000f�|)��?��\u0001�[�c\\��W�q������e+���\u001b�R�UJ�����=�{���\u0019���<h�\r",
      "�S��\u0003K�\u001b�kp�:Iò�S�\u001b#� r\b5�P\u0007���\u000f�\u001f�ZtZw���|[��q��Z\u0018�����^5\u0010J�X�ݫ��u�\u001d",
      "o�H�t�7�rZjPySFï\u0000�a��H=�kQ@\u001e",
      "\u001b���k��$E�\u0000�)Y:����#���[�o\u0019<�\u001e",
      "\u001d",
      "�n�j�����XV�\u0005\u0011�,QI\f",
      "@,>�־���<K�O��\u0016����.l\"�o��5\u001b\b.#)'�r|�e<���\u0000\u001e",
      "�W��E\u0000|��Q��ö\u001f\u0013�\u0013��k�]��\u001e",
      "#K���DkhH\u0000I '�N\u000f�p85��hj�R~͚�d\u000e���a\u0006u���DO��~�\u0016�<\f",
      "�m��8/\u001a�o�π�\"O\f",
      "\\������{G��fI�0:\u0005VRA;�\\\u000e�WϞ:�5?�'��M����ˣ��\u0010\u0018�5��Ȳ\tI\u0018�\u0005O�#=�_Rx��>\u0011�����O\u0015hz,��x�P�\"�i\u0014\u001c",
      "\u0012��d}*���\u0017����C�h�;�}9\"\u001bk]Z\te��I\n",
      "�Ğ\u0001<\u000e�\u0001��\u0015�Hӿh\u001d",
      "\u0013�\u0017�.�S�m[�cO�Y�5+�\"����T�����:��IRN�#�~\r",
      "Z�8����o\u0000\r",
      "J�K�\u0000��GU����K�P�\u0002�r��\u0015\u0004�a8\f",
      "���zEs���<+���M�����z�\"��ʑ��)c�\u0005*�\u0002~b(\u0003���(\u0000��(\u0000��(\u0000��(\u0000��(\u0000�\u0019�K�\u0000';���\u001f�D����?\t��~7�\u0000�\u0003�\u0000H��=��ώ��D<y�\u0000bޣ�\u0000��Wg\\g�o�\"\u001e",
      "<�\u0000�oQ�\u0000�i(\u0000�\u0013�\u0000$C��-���M\u001d",
      "X����[�\u001e",
      "M�h.�\u0003�\b\u0010�-�iWJ�\u001f��2��{\t�>��\t5_�O��\u000f\u0001�\u0000ط��4u�_�6�?�ߋ~\u0013��gl�}�O��g�\u0017&YY\f",
      "��Ǭ�\u0014�i/�[i��/��t���]��W����\u000b",
      "�;_���\u001e",
      "�\u000f\u000f\\����k9�x%Ln\u001b\u0015\u000b",
      "8\u0019ꠎ\u000f<\u001c",
      "y?�/\u001e",
      "Y��[�W�{O\u0017j�\u001e",
      "\u0015֖�yl�e�8\u0007��\u0019\u0015\t�6F�weJ��?Y�/>\u001b��O��M+��Э,�t\u0007�IV+�}��Y$'�W��V������'i\u0004j��ڤq�\u001c",
      "*���\u0007�U\u0015�E߭�i5/��ב2zIy7�j��~h�/\u0002|G�O�[PO\u000b",
      "���ɧ0[��RE$Y�\tY\u0015N\u000e\u000f c޹߆7\u001aG���s>��#Z���<�C�\u0006��?�@̸�\u000er28\u001d",
      "�N'��\u0013���>�U2xB՟\u0003\u001b�O��S�\n",
      "?g2?�9����͏�\u0000�֥ZJ���\u0000\t(�\u0000�\u001c",
      "�\u0017o�/�-��emr����j�#��d�Q�\u0012�j\u0017%�c�f\u0003s��B��\u0002��\u0007⇁u�f�Hӵ��W����i<1^\u0005\u0019>D�\"��\u001c",
      "���WΚe��}�\n",
      "��\r",
      "\u0011&��+Ǚ!��\u0005��(\u001f�\u0000���z%���/\u0015�^\t���1꺍����ލh���\u0000��*E�\u001bd��v��z��j��Z������wi�~������\u0011�5�?\u00125=\u0015�\"�/F������}��\u0016�h�WT]��r�\u0010\u0017�?x�|\u0011����\u0000\u001e",
      "H�\u0000���k��w_�\"�����7����L���C�;��^�&�a%׈��ᴽ\u0016\u0013u:\u001f�i���#(��\u0000\u0018�\t�����-3��:X�vyl[��\u001e",
      "�\u000e?w8�㐯\u001d",
      "�\u000eNCV/��N~\u001d",
      "i��\u001e",
      "'�t<1�C��<?\u000f���wq\u001a�b�r��Ս%��_pޛju�>��C�g�7:\u0016�p�\\qi�1y�\u0012L�,`)#�\u0004���y�s�w���|K𦫫kz$:%柫M���r\u0017�cT'q?�\u000b",
      "\u0010~��\u0016�\u0010���um*�\u0004ȲF�r\u0019H�#؊��\u0000�\r",
      "w�w�\u0002\u0003��5Ԇ�z�5n�����X��b����\u0000�Ϲ���+XѼI�\u0006xo�w>\t���в^�0���\u000f���W�A��\u0018\u0013��W���/\u0005'�|/��\u001a�z}��<��\u0016eb�I\"�\u0010�\u0007\u0004g\u0004�\u0000{�ϟ\r",
      "<[��\u0000\u0004~��:�_��K;\u001f\u0010�R�v/�M(Y�]�2�~g\f",
      "Xr\u0001\u001c",
      "\u001a����/\u0002�\u0017�g�|G�Ϸ�dX\u0013N����x��,�~S��\u0003w\u0018�\u0015QJ�j�ϟ2w�-�➒��\u0000�տ��=��(�\u0018QE\u0014\u0000QE\u0014\u0000QE\u0014\u0000QE\u0014\u0000QE\u0014\u0000QE\u0014\u0000QE\u0014\u0000QE\u0014\u0000QE\u0014\u0000QE\u0014\u0001�?\t��~7�\u0000�\u0003�\u0000H����g�/�����\u0000���\u0013׳P\u0001E\u0014P\u0001E\u0014P\u0001E\u0014P\u0001E\u0014P\u0001E\u0014P\u0001E\u0014P\u0001E\u0014P\u0001E\u0014P\u0001E\u0014P\u0001E\u0014P\u0001E\u0014P\u0001E\u0014P\u0001E\u0014P\u0007��\u0000���6�\u0000ܕ{5x������o��W�P\u0001E\u0014P\u0001E\u0014P\u0001^o�Nx�Q�_��\u0013��H���\"�Hm�_�\u0013K*E�{��G�\u0015�\u0015��f�b|B�a��=�[w�m��+\f",
      "�J�\u001e",
      "2q�z�}�@\u001e",
      "\u0003�_\u0007i�\u0005�\u001e",
      ">����\u0013��V:�y,�ڱ΄�eVb\tʒ0\u00063�1�\u0013<�\u001f�~&:o��\u000f^x�O�\u0012O�\b���y�ScFǌ\u000es޸[�\t|W��|\r",
      "�\u001b�R�@�|3}o�j\t�Gq��%��E�4��6I;��`�_\u0013>\u000b",
      "i�;�1׮�m�\u001e",
      "C\u0002C�m#UX ����co�瓚\u0000����\u001f\u0010<Fu_�I�\u0014]�S��m���������cj.ރ���������\u0000Fݩ�G\u0017�\u0000\u0019����-;��U6�0���m�w��Ԗ$s�G�]��^z\n",
      "�?��/�*\u001f\u0015?�~��f�0?h�,�Uo�?�^\u0012ԡ�Q����\u0000B�w��\u0012\u000b",
      "f�\n",
      "�[K6�\u000f\\\f",
      "�K�5Z|'���\u0000\u0010��\u0007��?\u0010$q6��kFQrb\u0004�r\u0000�:�˞T�\u0019�+��N��\tx�Q�?�?\u0014���+�]bx��{\u000b",
      ".7%�\u0000� �'�A����k�/\u0017�_\u001a����1����ͤ����)x�2�aô��|�$p\u0001<\u001e",
      "z\u0002@=��(�\u000f\n",
      "���(�\u0015i3Ȅ��I`Ī\u0016l\u0006l�\u0000I�\u000e�����\u0013���-'J�I�\u0012����[������\"F-o��sD��U��\u0007\u0019\u0003ҳ�\u0000j�\u000f��Ş\u0010�tO\n",
      "xb�X�=^��i#���8�\u0016$��eBX�\u000289#��u�K\u0004z̚3iZ���\u001f��`Rs�FΤn\u0001��E\u0000x(�I�5?\u001b��?��[K\u001b�\u0014Z\u000e��׷���|��I�\u0006!���0y5g�\u001d",
      "�]�h�#u\u0018!&���A�j\b�\u001a�ᇏn>\u0003x����\u0007]KǗ� ��\u0005Υn�P_<:yr3�\u0017�\u0001Dn#Q�s���x�L��?�z՟��q��4�K����î�DAT}�\f",
      "A\\�q�9' \u0000i��\u0012�Q}�[Ğ\u0001��\u001a�u\r",
      "\u0012�\t��b�Iuy$���\u0002�\u0018U^\u0014����w��.͠����\r",
      "���Ǉ5��)u-N�]�\u000b",
      "g`�/��:��\u0017�\u0002�\u001c",
      ")95���^\"�Ϳ�4=S�z�ϙ�\u0000\u0014��\r",
      "ݴ\u001fa\u0006$�H�A2�{\u0010���\u0006;Ժ���{�_\u001d",
      "�c�\u0017�b�ź���c�5�9n��k�\\7�#�O�~�\u0018��=I\u0000\u001d",
      "\u000f�߉�Ǘ�'�.�4[��\u0000\u000e�E\u0013���y�W�J���<�m?+\u0006]͂:����\u001d",
      "�x�T7W\u001e",
      "!��>\u001f�\u0004\u0016�5���1�y��\u001b\u0014}�\u0005f�q]\r",
      "\u0000\u0014QE\u0000\u0014QE\u0000\u0014QE\u0000\u0015�?\t��~7�\u0000�\u0003�\u0000H����g�/�����\u0000���\u0013�\u0007�W\u0019���H��?�[��J�����\u0000$Cǟ�-�?�M%\u0000\u001f\u0002�x\u000f�Ž;�\u0000I���TҴ�Um�T�l��u��\\��\b�_�\"�\u0007k\u000e�9\u0015�|\t�\u0000�!�?�\u0016���&��:\u0000�y�i���z��gqybY�.%�^Kr�\f",
      "cb2�\u001c",
      "\u001c",
      "c\"�u\u0005�;X�#�5\t�:��\u001e",
      "ݗ�ZtR̻~�\u001d",
      "���nx��(\u0003\u0001<\u0013�����\u0002xG@]aٝ�ƛ\b�f`C\u0013&�ĐH<�O�{�\u001d",
      "8].��\f",
      "�\u000b",
      "Ȍ\u0017B\r",
      "*\u0004��$\u0012�����8<q]5\u0014[�y�ׇ�\u0001�OT���4�\r",
      "h:��~o��`��[�L��\u0010\u0002�ry��j�����\u0017��ז^\u0010���Õ�|�[�<�z�0�,Oֹ�GZѤ���\n",
      "�\u0000�\u0011l&�=ņ��*\\B\b\f",
      "�\u0018\u0004�a� �p0k��&�\u0017��\u0000i�\u0000\u001biZ��t\u001d",
      "cM��l��\u000b",
      "�D������\"\u0018\u0018H��2\u001d",
      "�*\u0006㌂-���o�_����@씯�ߍ���\u0000��б:K\u001a�\u0013�����r\u0018\u001e",
      "�\u001fJ�I��:߉�a�&��MK^�\u0012�ɨZ[�t�!�p\\�'�\u00035�A\u0014V�G\u0004\u0011$QF�\u0011\u0011@UP0\u0000\u0003�\u0002��Qִi?i}#B��D_�\t�Oqa��ʗ\u0010�\u0003\"�\u00018%�e�#�\f",
      "\u001a4sIy�\t��E����z�\u0000\u0000\u0000\u0000\u000e�Q^C�o�zG�|S���\u0000|C�e�p�u���-��Pr�d\u0019\u001c",
      "��\u001a����;�>\t�|U\u000f��gc\u000e���g{��wW?.�ܠr\u001fӨ�iǛ�㵟/S�*���i\u001a4w\u0011��U���3���kn�\teo�#\u0005\u0003s\u001c",
      "\f",
      "��׋�Nh_�K�*�?��c~�\u001aխ�\u0000��\n",
      "�j�\u0000\u0010|[�m\u000e����?�E��\u0012�d�\"\u0018�\f",
      "]�[���\u001e",
      "�ѭמ�����������xKº��\u0016��xgE��aǕ{=�O:c��\n",
      "�\u0018�5wS�t�Q��S�,���a=���d0�::n\u0007k\u000fQ�y��yt\b<\t���S��$��\u000f��\u0017կZ{��T\u001f�\u0001�Z<�|�\u0007-��~\u0019��U�_��5�g���\u0017���>�zs,[X�NB�\u00103�\u001d",
      "\u001a�Y�t���{���\u001d",
      "-\u0014QHaE\u0014P\u0001E\u0014P\u0001E\u0014P\u0001E\u0014P\u0001E\u0014P\u0001E\u0014P\u0001E\u0014P\u0001E\u0014P\u0001E\u0014P\u0001E\u0014P\u0007��%�\u0000�����\u0000p\u000f�\"z�j񟄿�s�\u001b�\u0000�\u0001�\u0000�O^�@\u0005\u0014Q@\u0005\u0014Q@\u0005\u0014Q@\u0005\u0014Q@\u0005\u0014Q@\u0005\u0014Q@\u0005\u0014Q@\u0005\u0014Q@\u0005\u0014Q@\u0005\u0014Q@\u0005\u0014Q@\u0005\u0014Q@\u0005\u0014Q@\u001e",
      "3�\u00007��\u0000t��\u0000rU���?�{��M��%^�@\u0005\u0014Q@\u0005\u0014Q@\u0005U�.n,����K)/� ���6\n",
      "Ӻ�!\u0001<\u0002�c'֭W/�in��Y��k-J�M���g����@��G\u0019q�A�H��8�(\u0002�\u0000��}K^𞝫��\r",
      "Ɓu\u0016���\u0003�nr~R@\u0019��\u000f<�kf�3M����(�_\\�\u0000��\u0007��Y�-\u001e",
      "]{U�n�f���nw3t��O\u000f���\u0012��|R��\u001e",
      "\u0010���W��F�V�\u0016\u0019�\u0010�\u0005�dz�\u0007�>+�&��M\u001aMgĚ�����B��2\u0005\\��z��9��]������V\u0013�ŝ�)<\u0012�ݒ6\u0001���\u0004\u001a����~\u001b��\u001ak�-���t]\u0016��=Zf\u0010��g��\u000e\u000b",
      "���+��-�\u0000$w��\u0000��\u0000�t�\u000e��(�\u0002�(�\u0002�(�\u0002�(�\u0002�(�\u0002�(�\u0002�(�\u0002�(�\u0002�(�\u0002�g�/�����\u0000���\u0013׳W��%�\u0000�����\u0000p\u000f�\"z\u0000�j�>;�\u0010����z���I]�q�\u001d",
      "��x��ŽG�\u0000I��\u0003�O��\u000f\u0001�\u0000ط��4u��\u0019�'�H���\u0000�[ӿ�:��\u0000��(\u0000��(\u0003�|G-����?�.��\t4�]\u0006m>k��[��I�2/�#)�\u001e",
      "[;Gr0h�{=����<�e�|C\u0005��geoey>�w\u0015��\u00020�y�\u0018@\u0001�Ā�m'\"���!���_��XK����o�A^#�9nG�m��Qt_\u0010I���3i�_G��=�O$��|�\u0019L`���;��^�E\u000b",
      "I)v���A�\u0017\u001e",
      "��\u001a��>6�k�SZ�M���|r��4ۇ\r",
      "\u0006��\u001c",
      "s-��\u0006��@[�OAֵ�)��\u001a_�u�\u001bW��w����E���RD�yی�Ð���\u0015�\u0014RJ���ۼ��\b�\u0000�C���GR�\u0000�r/�=[�<�5O\u0007���z�׀o<[k\u0016��W\u001a֗f�\u001a���\u0013��?�ߩ#89�}f�w}?�\u001a�Ee����\u001e",
      "#�+F�\u0015���$|H�����k�+���tk�X�aF\u001b�3�w'��9�b}'ៈ�O\u0015�:�\\�|/�{���鷧2ŵ�\u0004�)�\u0003<��񮖙<����\"B�w;\u00002N\u0000�$\u000fƚ�%�$��OV�V�c�o��1��5�xI���ne�o\r",
      "�����X�`3�V�Ⱦ���\u0000��RZ���(��\u0000(��\u0000(��\u0000(��\u0000(��\u0000(��\u0000(��\u0000(��\u0000(��\u0000(��\u0000񟄿�s�\u001b�\u0000�\u0001�\u0000�O^�^3��Nw���?��٨\u0000��(\u0000��(\u0000��(\u0000��(\u0000��(\u0000��(\u0000��(\u0000��(\u0000��(\u0000��(\u0000��(\u0000��(\u0000��(\u0003������J���g�o{����٨\u0000����\u000b",
      "[innf�\b!C$�H�U\u0014\f",
      "�$�\u0000\u001c",
      "�הk�\u0019<\u0012�?�t�?�G�a�b����'\u001a��G.\u0000�\u001bpŏ�Y�L)\u0007\u0011\u000eǐ\u000f[�����4�\u0000\u0016x\u0016mv��\u001a^�q�k�m�bv�m���\b�T�\n",
      "Ġ\u001d",
      "��[ҳ>\u0016|u��������9a~��vMy\u0016�2yq] �c%\u0014����\u0004��(\u0003�+\u0013ǚ=�\u0000�|\u001f�hZv�m�M�[=���ծ\u0015\u0011ԫ\u001d",
      "�D$�\u001d",
      "�\u0007\u001c",
      "\u001e",
      "��\\�\u0000�<k�o\b�\u0019�\u0006�mg,�Am�%���8P\u0017s�h\u0003\u0017�\u000e��\u001aw��Zto\u0015�i�0���h\u0006��H�prw\f",
      "\u000e�\u0003\u00196�\u0016�2������τ!�'\u000f\u001c",
      "������\u0010Bd\u0010{տ\u001b����\f",
      "�t�+�\u0015̶Zr\"\u001c",
      "4,efo�\u0018Lgy<`�=qX�\u0003�&Y|T�߈,t��*;]BK\u0016��3r*1$\u000e�\u0018�@\u001b\u0013<1�\u0000\t��5�\n",
      "}��\u001fڶok��+��\f",
      "nۑ��W<\u0017��\u0000�7��\u0017��i�W�^�\u0005���g��Ʃ�nN3�8�ǩ�$վ>ޢ����R�<\u0017�]����E\u0014m��\u0012�00�*.~���>��\u001e",
      "�c�h�Zƙ:�X�[�ż���u\f",
      "��\u0004P\u0005�+���}�\u000b",
      "-/N_\u0005ZX�u��m<���4V��O�1D�\t�0~�:��_�b��F���k>\t���*-G����\u0011&�\u000b",
      "���o\u0018�]��@\u001e",
      "�Eq~\u0000�]�\u001a�\"���>���<6���L�[Ƀ\u001c",
      "n��yh\u001f��'�lC�\u001f\b�mgu\u0017�t9 �������\u0011K�wm��;�ͻ��'<P\u0006�\u0015BMoF�Z�D�W�MVT2Gd�('u\u0003%�y�@\u001c",
      "�\u0015[_�W��=<\u0010k�$��n?ԥ��p4��P�3�P\u0006�\u0014��讌\u0019Xd\u0010r\b���\u0002�(�\u0002�(�\u0002�(�\u0002�(�\u0002�(�\u0002�g�/�����\u0000���\u0013׳W��%�\u0000�����\u0000p\u000f�\"z\u0000�j�>;�\u0010����z���I]�q�\u001d",
      "��x��ŽG�\u0000I��\u0003�O��\u000f\u0001�\u0000ط��4u��\u0019�'�H���\u0000�[ӿ�:��\u0000��(\u0000��(\u0000��(\u0000��(\u0000�%\u0014x��\u0019|A�o\u000f�Rx{J�Ŭ\r",
      "ymo\f",
      "�W7\u0013)dD��\u0011Trv\u0012O�z�y/�~\u001fx�G��}�\u0013�Ρ�y�ʹv�Η�\u0019R\u0019�c\t*I\u001a�+��\n",
      "��ׅ����ﶟ�{t\u001f�v�O�_����g�GC��?�5��!<m�k�����I\u0015��?1�f\u0002�J�����ڵ�|O�\u0005|`�<\u0011����)���Ͼ���.-.�]�\\@���A\u0018�A�z��O��,�8�ϊ'�4KO\u001axr�\u0010��'��W�rIr\u0018\u000f��\u0002;-K\u000f��M�|M�|�\u001f�hf�l�FҴ��&�M(��,�\u001a\u0012H�\u0000G�^H棺����m-����aK�/m=o�[�M78/\u0007��\u0000\u0018�Y��\u0000�\u0012��&�O��޹{eo$~\u001f���\u0004R\u0014�b\u0015\u000fјd�ǁX�\u0011�I�\u001f\u001d",
      "|\u0017�A�y���*�X�&�\u0005�Vq�崾c�l:1ʴa��S�T�c��\u001b�\u001b��\u001a�> [���b[�\u0012�Z���V��m8\n",
      "c��� (\u0019�\u0001��h�\\��\u001d",
      "���\u0011�\u000f\u0006�߇-�A�=b\r",
      "F�_�M-�Љ��s�+!>a\u0018\n",
      "�w�<(i�~����\u0017��A-y�ם}�\u0000\u000f��f���\u001bx?�G�]\u0005<es�i�ޡ=�����Y�\u000b",
      "\u0019q��\u0015@�\u0000\u0015T������:�ī��6_\u0001�^3��t��\u000e6�\u0016tT��>x��ϖ~\u000f�N�O�x5k�~\u0010���_\u0017x\u0017�&��\n",
      "�\u001b���x���PL]6lS�f�\u0003\u0007q�m\u0018��o\u0007�Ϳh��!\u001b_\u000f�\u00194C���S\u001b��o7���}��\u001b7���DV�����]?�m��$�v��m�_��\u001d",
      "�x��4~\n",
      "���j>'��׼\u0011$�m��\u0000fƦ�?!�P�\f",
      " o�\u0019������\u0000�<u����\f",
      "�Λ�\u0018�K����\t\r",
      "�Nn\f",
      "�0�dmN�x^�c\u0015��_��-����<F�\u001d",
      "���`�c�K<֧�1\u0000U�@�\f",
      "[;�\b�\u000er05υ\u0015�o�ZoÛ��\u0006\u0003�Kh-�V{�����\u0015����6�\u0019�pO�\u0010z��������\u0000�]BK{����I�S�6�g�KL�y��jzZ��ڞ����$���G�dq�\u0012G RNIwB�`u5��?��-�5?\u0013h�$��.l�ۈ����:$�k��\"�CF�ތ\b%UA�8\u001d",
      "��|[y�\u000f�_��4};�V�\u0006�P���Il��c���\u0007\u0005[$6�x�\u0018�v�\u000e�ƥ�n<aq�)p���KI\u0019!�w3K&\u000b",
      "���\n",
      "\u0006;�h��_�O��O;�z���k��+v:*(���\u0014Q@\u0005\u0014Q@\u0005\u0014Q@\u0005\u0014Q@\u0005\u0014Q@\u0005\u0014Q@\u0005\u0014Q@\u001e",
      "3��Nw���?��٫�~\u0012�\u0000���o�\u0000�\u0007��={5\u0000\u0014QE\u0000\u0014QE\u0000\u0014QE\u0000\u0014QE\u0000\u0014QE\u0000\u0014QE\u0000\u0014QE\u0000\u0014QE\u0000\u0014QE\u0000\u0014QE\u0000\u0014QE\u0000\u0014QE\u0000\u0014QE\u0000x������o��W�W��\u0000���6�\u0000ܕ{5\u0000S֣ԥҮ#�.,��q\f",
      "�p4Щ��\"�\u0016\u0018�\u0001�|�}a�\u0010i:��k\u001e",
      "\u0015���c�\u0006\u0013\u0016�2����Q�����ˎ�\\\u0010���xn\u001b~�`\u0019J��`�U���\u001b\u0014�\u0012�L�\u0015ѡht���\n",
      "�!~�\u0000���\n",
      "�\u0012��[=\u001aK/\u0010ɡ]�\u001d",
      "�4�9�a�v�\u0011�吓���0@ǯ�x~\u0018��\u0000m�f\b\"H���Ъ\"(UP.S\u0000\u0001�W��\u001c",
      ">\u0011��>8�����u��E��~t�t\u0001�\u0004ٻ`��9\u0003>�\u0001��c��!j�V#���V0F�u\u001bE�[\\^'\u0018X�JI䞼����^���\u0003Z�o��C욿�.�\u000f�\u001b��[�\u0010\u0003$���\u001a�3��=\u0007��~�d�5\u000b",
      "+=F�[-B�\u000b",
      "�Y�l��\u0018tq�T�Gր\u0016{{KĈ�\u0004\u0017\b���]\u0003�aцz\u0011؊�\u001f��3xG�J�\f",
      "|m��}\u000f���m��\b�4�(�\"\".\u0015T\f",
      "\u0000\u0000�\u0000�o\u0006�G��\u000f������(o勵�_:I<����˱#8\u001c",
      "\f",
      "\u0001�P\u0007�?\u0005����؛Ɩ:���u�E�Yj\u0011��d�`�Q��D����ٮ����'���q���[�V\u001b�\u001f�\t\u0014�\u0000\u0010|\u0016�]����K�x>��S�E�g2H���I\u0012��C��s޻�UU\n",
      "�*��\u0000�\n",
      "\u0000Z��\u000b",
      "��x���KO�\u0018��5�i�\u0000\u000b",
      "|\u001ba�I<gkm���/\u0012ݶ�|�E\u0007\"6V��F\u000e0�\u0015\u0018\u0018\u001c",
      "P\u0007��|�΁����\t\u0012�\u0000H���F]N+�\u0011�{���J�#\f",
      "\u0017A�6�A\f",
      "�\u0018$\u0016~�>\u0015�ǆ,~\u0018���i�T1|Bӈ�=��#WiY���T�\u000e\u0006\u0006@�S�\r",
      "�'�\u0011���Y��$�4���x5��o�n\u0018c\u001a�*�\u0016\u001c",
      "\u0012\u0000$u�jx�\u001e",
      "�&��m2-KN���R3)\f",
      "�*��C+\u000fPA�\u000f+�}��\u001f�'�na��)�4-@�\"F\u0003JB�\u000b",
      "\u0011�`\u0000\u0006{W)�K�\u001f��O�ag��/\u0016�'�nl/��}\u0002Kۅ�\n",
      "\u0016\u0005V[���n��\t��\u001e",
      "�i��v����[�7q�X+kx5[�;i �v�s*�ck�\u0018��\t\u00157�~\u0016x\u000fľ �\u0000��V�A�Lb7�����IPtY\f",
      ".��\u0000\u0018l�\u0000�\t~\u000e�Zo\u0004�7�<'>����Z=����$m��sc`!1����+��:\u000e���:E����[��\u0016���@��$�\u0007rI$�$�j�\u0000\u0014QE\u0000\u0014QE\u0000\u0014QE\u0000\u0014QE\u0000\u0014QE\u0000\u0015�?\t��~7�\u0000�\u0003�\u0000H����g�/�����\u0000���\u0013�\u0007�W\u0019���H��?�[��J�����\u0000$Cǟ�-�?�M%\u0000\u001f\u0002�x\u000f�Ž;�\u0000I��θρ?�D<\u0007�\u0000bޝ�\u0000���g@\u0005\u0014Q@\u0005\u0014Q@\u001c",
      "ޡs�E���Z��T�\u0012{I\u001a��IX]G8����\u0015<g�ߑ����?W������\t�\u0012\u0007��Գn��\u0016\u0012\u0005\u0004\u0002H^\u0000�b���o��\u0005c�O]��~;�Q���s��M��Z۝���\u0017�c\u0007��ԩi\u001f;�\u0012hmk/+~)3�MY��J�}.(e�X\u001c",
      "�G3\u0015���v�#�\t�Mgx\u0016\u0013\\�OO��6V\u0016Z�ś�,��(�<)$���y�&�\u001f�}ǅ|K�7���@񇍭����]��Ko\"�̪��v�\u0002GC޺_����4��g�w�\b��>%���n��[Ķ\u0005\u000ew6� q�\u0019�V�/5�r�7��\u0012S�/���X��nm�X�)\u001e",
      "&�\"��P�\u0010:\u001a�'�H��m\u0014j�-��G;a�F��>������k��~)��k�'�$�G��;���v6֢mf\u0018Ɵ&\u0018\u0014R[��\u0012r��^��Pxg���\u0000\t�U�+�\"��V��n����0�\u0002�����'�sY�n4����_�\u0019��)�*��v�m�/��>\u001c",
      "լ��\u0003O�4�v��-�����b���#��\u0015~��\u0000�\u001f�F�\u0019�\u0000`+?�\u0012��V�b�9Etf4��\u0005'�\u0005\u0014QY�\u0014QE\u0000\u0014QE\u0000\u0014QE\u0000\u0014QE\u0000\u0014QE\u0000\u0014QE\u0000\u0014QE\u0000\u0014QE\u0000\u0014QE\u0000\u0014QE\u0000\u0014QE\u0000x��_�9ߍ�\u0000�\u0000�\u0000�'�f�\u0019�K�\u0000';���\u001f�D���\u0000QE\u0014\u0000QE\u0014\u0000QE\u0014\u0000QE\u0014\u0000QE\u0014\u0000QE\u0014\u0000QE\u0014\u0000QE\u0014\u0000QE\u0014\u0000QE\u0014\u0000QE\u0014\u0000QE\u0014\u0000QE\u0014\u0001�?�{��M��%^�^3�\u00007��\u0000t��\u0000rU��\u0000QE\u0014\u0000QE\u0014\u0000T\u001a��kaqs\u001d",
      "��\u000f\f",
      "M\"�\u0018��@'h�=\u0005OE\u0000xG��\u0000�?\u0012�C��V𧍴;?\u000f�\r",
      "\u000b",
      "�R�LB$�\u00053\"'� <�\u0005�\u001c",
      "c#���� �n�a�\u001f\u0010\u001d",
      "\u0003ž'��Ԅ+7��\u000b",
      "�~F�Ӻ8�{\u001e",
      "�����|\u001a���\u0011�JV��\u000f�eԼVn|\f",
      "�\u0000\u000e���tP5�i^��\u0019����oLs�@\u001b�\u0000����ǧR\u001e",
      "\u0013�\u001f���d\u001fh��\u0000B��ˏ�����z\u001e",
      "\u0006Mr���\u0002�y�\u0000�M��\u0000\u0019�O�Z\u0017ŭ4�\u001f�?����m��%������E�t����\u001f�K�_�?�\u0005q�\u0000�h\u0003g�\u000f��}Z����8��\u001e",
      "\u001c",
      "��=�ö�>�\u001c",
      "�-�iw2\\(�>^�Mt�\u0003���è��?\u00184���Rl��M>��\u0004�q��h\t\f",
      "H+��z�>)���h�\u000e�\u000f�\u001e",
      "\u0019�VM:����\u00136����\u0000y!ۖ�㌌\u00029�\u0005f�\u0011M7Z���S���?e�,�,6�\\Ajm�oo���\u001a�����X\u000e��\u0000{$\u0003�(��<7��k�;�Z6�����{��idͧj�\u0016����z�F�N\u0007�FGb+���\u0016V\u001f\u0012|=k��\u0000\u0019x�\u001b�\u0012����_k���wvE^ \n",
      "�#Ǒ+!\u0019�\\�ͩ��6Ѵ�J��9�5�9E�Ҩi!F>cm'%\u0000#'���Z�\u0005x'�:V��7�\u001d",
      "��\u0012�i��\u0006�䭥�o�\u001c",
      "\u0014\u0018f����\u0014\u0001�{���v�U�\u0006��\u000b",
      "�\f",
      "�_\u001b\u001b�v��&��@�I*d\u0013\u0015\u0005�ܱ��\u0019�/�֖c���;�@\t����\u001e",
      "A+\u0015t[l�\u0006v��y\u0003�yO�|Sq�_٧ź���E5��\u000b",
      "H��SO�A\u001e",
      "���\u000f�F��T\u0006/+l�\u0000\u0000k����/\b?ď��i�\r",
      "���yE�E\"F�\b��v\u0014\u0016\u0005A=H#��\u000fU�7�='G׵�\u0016�B����\u000e�.u��be�GR��\"nb����qڭ�\u001f\u00124;\u00184%����mG^�\u0017zv�c\n",
      "�̐�\f",
      "d`̩\u001a��,�\u0006N\u0001&�c���l�a�\u000f\u0014�G��~\u000e���\u0014����*x�$(�\u000f��L���Q�*I\u001d",
      "�?\u001c",
      "�6��\u0010>&[k\u001aN���F-:��L���M*�\u0000x����]c$�7\u0012\t��܀\u000fw�\u0007�4�\u0019&�\u001d",
      "�\u0017�:��s�]GO��Gqk&2\u0003\u0005,�\u0011�eb\u000fc]=y���_�\u001f�z���\u0001�]��s��77�)x�\u001c",
      " Y�Y� ��'\u0001�\u0013�\u000fH�\u0002�(�\u0002�(�\u0002�(�\u0002�g�/�����\u0000���\u0013׳W��%�\u0000�����\u0000p\u000f�\"z\u0000�j�>;�\u0010����z���I]�q�\u001d",
      "��x��ŽG�\u0000I��\u0003�O��\u000f\u0001�\u0000ط��4u��\u0019�'�H���\u0000�[ӿ�:�_����B�\u0015χ�O\u0015�ê��e��RI\u001d",
      "@ `lS��|�-��`\u001aWC���\\E�ů�\u0017�\f",
      "�񍷋l\u000e�k'�qr���'dh�\u0007\f",
      "{)\\��\u001e",
      "��ᶭ�ǧi�+���M7�LF��\n",
      "�m\r",
      "���C�����#�oK�\u0000]/�j/����;�+��\u0019���^\u001f�[{�{�w�\"�\u0006�p�W�UՐ�ǒ��1\n",
      "A\u0000\u0001�8�\u0000_�����QҬ-�eg$���g�����ڌ�6��>V!���J��}?\u0010n�}5�\u000b",
      "z��kk�V\u0010��\u001e",
      " �R��6��G�_�,\u0004��`�\\�#$��3�\u001c",
      "Wu^_�/�z>��z?\u0001�iڻ�i�ysq\u0006�wp�����E\u001b\u0017B\u000b",
      "�@\n",
      "�\u0000�r+ӣq$j�0\u0004d\u0010#ȥ\u001f�[m7��\u0000�P\u0013��\u0000�?��g��A�?\r",
      "�hm�^�����=���\b�\f",
      "\u0007��� ����\u001e",
      "j��o\b[�\u0017�6~\u0018�յ-J��Dv��\"�\u000e\u0010\u0018�@@�\t�J�~$jz+|E�^�7��\u001d",
      "\u0003T�i�-.�X���O��� /�~��^�#Ѩ�ͮ���?�p��>���7�c\u000b",
      "�^\u0010��5mkU�t��k�\"�Q�Α��@ 6\u0019�^��\u0000T�7�헋�#��cR��+=N��{v\u000b",
      "\"�\f",
      "\u0012��\u0000�A��)4��{l4�w[��\u0015ѭ|9�3��2M%��i\u0015�/1\u0005�#P��\u0000\u0002p9�\u0015�E\u0015M�;�RIY\u0005\u0014QHaE\u0014P\u0001E\u0014P\u0001E\u0014P\u0001E\u0014P\u0001E\u0014P\u0001E\u0014P\u0001E\u0014P\u0001E\u0014P\u0001E\u0014P\u0001E\u0014P\u0001E\u0014P\u0007��%�\u0000�����\u0000p\u000f�\"z�j񟄿�s�\u001b�\u0000�\u0001�\u0000�O^�@\u0005\u0014Q@\u0005\u0014Q@\u0005\u0014Q@\u0005\u0014Q@\u0005\u0014Q@\u0005\u0014Q@\u0005\u0014Q@\u0005\u0014Q@\u0005\u0014Q@\u0005\u0014Q@\u0005\u0014Q@\u0005\u0014Q@\u0005\u0014Q@\u001e",
      "3�\u00007��\u0000t��\u0000rU���?�{��M��%^�@\u0005\u0014Q@\u0005\u0014Q@\u0005V�/�4�2�S��m��!y畺G\u001a)fc�\u0000&��=�'QԴ\u0001kz��mauuge-����Y�m\u0019<\u0003�Q@\u0017|)�\r",
      "\u001f�^\u001d",
      "��\u000e�z��e�y�󪲇\\�р#�F\b\u0007�ԯ,��|I�\u0000\f",
      "���\u0018x{���ޫweo �tم�J\u001f�ye�mU\u001c",
      "����+�b���m��\u0000g�B��Y�%�>!��HX\u0002����ǵ\u0000{}\u0015�\u0011~\u0013�\u001e",
      ",��׋~\"��\u0000�V\u001av�]\u001aI$���q̗\u0012:�\f",
      "q��\u0006\u0006:�VG�i&�7�5ɼ��|0������vi\u0005� &\u000b",
      "s� �=�P\u0007�QE\u0014\u0000QE\u0014\u0000QE\u0014\u0000QE\u0014\u0000QE\u0014\u0000QE\u0014\u0000QE\u0014\u0000QE\u0014\u0000QE\u0014\u0000W��%�\u0000�����\u0000p\u000f�\"z�j񟄿�s�\u001b�\u0000�\u0001�\u0000�O@\u001e",
      "�\\g�o�\"\u001e",
      "<�\u0000�oQ�\u0000�i+��3���\u000f\u001e",
      "ط��\u0000�4�\u0000|\t�\u0000�!�?�\u0016���&����\"��ն2:&|\b�n s���3]����\"\u001e",
      "\u0003�\u0000�oN�\u0000�h��<U��K�?��\u001e",
      "!�~\u0018���H�1�����h���'\u0011I.�\u00123�\\-\u0011�$~�K_�K�r��I��*��^������͍��<<m��\u000f�\u0013�-��\n",
      "��2�#�{׬~��v�o�3�\u0012�ck\u0013�\u001e",
      "\u0019\u0003$J\bg@]���y'�z�.�-ይ\u0001|=u��\u001e",
      "}\u0019q�O��6�\u00189\u0018���\u001e",
      "zSt�\txWK�ntM7�:-��u��Y[��\u001c",
      "\u0013d`�T+d\u0000\u000eGAD}�8��}��\u0000?�I\u0004��)??������\u0001�HG�1��9\u001fs]�r�_��\u001f�1g�\u001fj�h��\u001c",
      "�f1��y?�{�\u001f\u000e�\u001fA��i�x\u0013��X�2�Ųi0,S2�id\u000b",
      "�#'\u0004�2i��<�\u0004�U��?��1.�l�%���0\u0018bf��T+�'\u0003$\u000eqN>�^\\��'�������\u0000���y��e���Z{���j��\u001d",
      "㉦p��]�*\t�p\t�+�\u0011��:0ea�A�\"���\u0019��B+\b��)��ǧ ��gӢqj�\u0018X�_�p8\\t��UU\n",
      "�*��\u0000�\n",
      "KH������A�&���I~��|y#�\u0017'���\r",
      "�������\u0013��\u0010j\t���\u0011�5k��\"\\^���\"�9\u00003� \u0002O\u0015�Dt����\u0012�\u0002Z��V�[�B�(�\u0002�(�\u0002�(�\u0002�(�\u0002�(�\u0002�(�\u0002�(�\u0002�(�\u0002�(�\u0002�(�\u0002�(�\u0002�(�\u0002�(�\u0002�(�\u000f\u0019�K�\u0000';���\u001f�D����?\t��~7�\u0000�\u0003�\u0000H����\n",
      "(��\n",
      "(��\n",
      "(��\n",
      "(��\n",
      "(��\n",
      "(��\n",
      "(��\n",
      "(��\n",
      "(��\n",
      "(��\n",
      "(��\n",
      "(��\n",
      "(��<g�o{����٫������J���\n",
      "(�\r",
      "k�f��:\u000f��������O3��~�o\n",
      "\f",
      "Ɍ\u001c",
      "�I\"@8���\u0010\r",
      "�+��}�C��\u000en-��mf��KC�o��VD�����9���\n",
      "��(è�|;��t�*�T���浂�\t\"Ff�\n",
      "\u0003�]\u0014\u0001��s�p\t��\u0010�r�S��\u0000\u0010O��2����A\u0015¤2�\u001c",
      "\u000f�m�DB�s�\f",
      "�\u001d",
      "�Э����+�i��\t�I\u001c",
      "��eu#!�\u001c",
      "\u0010G9�\u000f#�?��K]��tO\u0000x�|E�\u001b�>�\u000b",
      "y䰿�'-\u0010\u0007trF�.�<s���pM\r",
      "/�o�4�N��>%|N���I�sk�ѹV\u0007k\u000f+�8�\u001e",
      "����ą`�N\u000e\u000fC�@\u001f;|y����\u001d",
      "��\u000f�W�'��3\u001b��\u001e",
      " ��\u001a��U��,��j�\u00020\u0014\u0012��x�[�O�x��\u0000�L�*�$\u001e",
      "\n",
      "��_\"�O�P��\f",
      "\n",
      "�����Q����}�GM񗅵?\u0015��SO�ln��\b�ۻ(��$+�\tlp9e\u0018��g|C���_��k\u001f��C\u0006�5�-\u0004\")&��um��6���cހ:�+7�\u001a���m\u000e�\\�5\u001b}GM�]��@ە�p~�\u0010A\u0007�F\r",
      "M�j0h�%��r�<\u0016V�\\ȱ�X�)b\u0000$\f",
      "�w\"�.Q^Gw����\u001f\r",
      "�s���ѧ��8�rWO�\u0000IgP�1��� �����9��\u001a޷�?���\u000fQ�~�n�Ԅ\u0019\"efB�\f",
      "�)\u0018S��\u0000u�QE\u0000\u0014QE\u0000\u0014QE\u0000\u0014QE\u0000\u0014QE\u0000\u0014QE\u0000\u0014QE\u0000\u0015�?\t��~7�\u0000�\u0003�\u0000H����g�/�����\u0000���\u0013�\u0007�W\u0019���H��?�[��J�����\u0000$Cǟ�-�?�M%\u0000\u001f\u0002�x\u000f�Ž;�\u0000I��θρ?�D<\u0007�\u0000bޝ�\u0000���g@\u0005\u0014Q@\u0005\u0014Q@\u0005\u0014Q@\u0005\u0014Q@\u0005\u0014Q@\u0005\u0014Q@\u0005\u0014Q@\u0005\u0014Q@\u0005\u0014Q@\u0005\u0014Q@\u0005\u0014Q@\u0005\u0014Q@\u0005\u0014Q@\u0005\u0014Q@\u0005\u0014Q@\u0005\u0014Q@\u0005\u0014Q@\u0005\u0014Q@\u001e",
      "3��Nw���?��٫�~\u0012�\u0000���o�\u0000�\u0007��={5\u0000\u0014QE\u0000\u0014QE\u0000\u0014QE\u0000\u0014QE\u0000\u0014QE\u0000\u0014QE\u0000\u0014QE\u0000\u0014QE\u0000\u0014QE\u0000\u0014QE\u0000\u0014QE\u0000\u0014QE\u0000\u0014QE\u0000x������o��W�W��\u0000���6�\u0000ܕ{5\u0000g��W�B��;\r",
      "CPo(���$X�$�\u0007�ft\n",
      "��;�\u0018��N�\u0012�s�}kM���T���<9����K���qIVF�qg��? �\u001f�A$e��\u0003\u0002T�88��qz7��-:��6�P��/\u000eK-�\u001d",
      "\u0007�]Ԉ�ӿ�fY[\u0003��P\u0004\u001f\u0005�=e��\u0000\u000e������\u001a(�v�g�j��F�+D�y�$;���0\u0016��)\u001c",
      "\u0012�\u0015��\u001c",
      "\u001c",
      "g\u0014\u0001��Ż\u001f\n",
      "�\u001b�\u001a����\u0011�|Q�O;�ӖF�L�6�w;�%\u0011G!��#���D��5��?\u00044�;L��Y��zd\u0016���@�r�\u0015[in�98�8\u0018\u0000�+�|=�\u0017ↁ�jZ��������on�𥼳�{\u0006��-�v\\�\u001d",
      "��y��a�XYjڡ�o�H�o�\u0002\u001f��\u0014\u0006�b�\u0017q���f�<��\u001a���\u0019�׾\"��$c�#��\u001aɧ�E��0[��\u0012�\u0010>��:7�t-\u0013�2xsD�]3O�$R��C�����Is��$��~0�g��_\u0004qx�D��h�a��l�\u001fX�\\<g�H5g�z ����bj���\u001a;4r�W>|ʧ�y�n`;\u0016��&�<\u000f�/�<=�?��W���l���?\u0005��<�#�#\\��fbIc�q[\u000f\u0007��\u0000l��7�\u001e",
      "}7IӭlK���x��/�-���}g��\u0000��\u0000\u001c",
      "/�&k��^��O�>͍�e\u000f�y��鍻\u001a�����GS�����^2��\u001e",
      "!���\u0017�\u000b",
      "\b�!��\u001c",
      "�蜁�N0��\u0000�\u0000r��g�&��[D�P�]�����k�\"�N�_@6�\u0015���\u001c",
      "�<R��\u001b�WF\u0019\f",
      "\u000fPGq\\��?\u0000i�\u000e�*�5��Ρssu%�s�6��B7���t\u0000\u000e�\u000e�$�\u0014\u0001៴|q��\u000b",
      "�0Ʊƞ)EDQ��(\u0000\u0001�U�\u0000���:G�M{��\u001e",
      "�5-\u0007S��\u0019�ӤX^�\u0019�0�8]�\u0001؍���qZ�\u0000\u0016~\u001b����+�εc��/J�×�go6��-$Ã�8�L�\u0003��z�Ƕ�Ɵ\u0002j�\u0011�\u001b�x5|Ae�-�_]\u001d",
      "5�/���\u0000v�r�� �_�:�@\u001c",
      "���)�M\u0003ᗍ�W'��\u0015�j\u0012�~K�E�b��xby\u0007��~�\u000f�\b�b\u0007.I�r�\u0000\u0012��\u0011��.|=�5��u�MI�����^2�ߜ\"\u000ee����C;�s^�/���|\u0007u�\u0013^[ޛ�)l�沶kdx�Y>Tg���{��:\u000f-��\u0007��Q�_a�\u001bω�-��5���\u001d",
      "\t7*@�ƒ�\\�\u0000\u0003*S�9�\u0003◊��K㝇Í6�ė\u001a]��ڽ�:\u0005�\u0016�w,��h�if��k��n\u0018�\u0003�5�|\r",
      "���W�'��U��o�%�R�zMf�����u>lR<R�HF\u0003if$��qŏ\u001c",
      "|3���A���K�9�<g�Z�Vԭ�D��Q7/\u001c",
      "���)���~W=I�\u001d",
      "7��o\u0010i��\u0011��m~�� \u0001l㵷�.�ƹ`N�K;\u0013��b�:\u001a(��\n",
      "(��\n",
      "(��\n",
      "(��\n",
      "(��\n",
      "񟄿�s�\u001b�\u0000�\u0001�\u0000�O^�^3��Nw���?��\u0003٫����\u0000$Cǟ�-�?�M%vu�|v�\u0000�!���\u0016�\u001f�&��\u000f�?�D<\u0007�\u0000bޝ�\u0000���g\\g���\"\u001e",
      "\u0003�\u0000�oN�\u0000�h볠\u0002�(�\u0002�(�\u0002�(�\u0002�(�\u0002�(�\u0002�(�\u0002�(�\u0002�(�\u0002�(�\u0002�(�\u0002�(�\u0002�(�\u0002�(�\u0002�(�\u0002�(�\u0002�(�\u0002�(�\u0002�(�\u000f\u0019�K�\u0000';���\u001f�D����?\t��~7�\u0000�\u0003�\u0000H����\n",
      "(��\n",
      "(��\n",
      "(��\n",
      "(��\n",
      "(��\n",
      "(��\n",
      "(��\n",
      "(��\n",
      "(��\n",
      "(��\n",
      "(��\n",
      "(��\n",
      "(��<g�o{����٫������J���\n",
      "(��\n",
      "(��8O�_\u0012m�\u001e",
      "�iQǣ��ֵx,��2��\u001a�S�.�\"���z�:����\u0000����\u0006���\u0000�<\u001bq�?\u0011���m��|w�����Ye@9\u0007<c����\"��þ\n",
      "��U�X�+?�ci\f",
      "~m��ǤP���ӁԐ9�\u0013��\u0000�u�G�\u000e��gǟg���\u000b",
      "Ae��\u0010�$\u001a]�m�\u001d",
      "�\r",
      "#\u001e",
      "I\u001c",
      "\f",
      "�\\\u0000\u000fb��\"�W�~\u001c",
      "K�Z[�������{3Iso\u0005Ǖ3\u00179t�\u001bI�{\u001a���G�\u0019t��|{������\u0011�._�=�n|�}���@\u001fGא��⯍t�\u001a��|\u0019��\\�m������Y�\u0013n�6ȇ?t�'��/�\u001f��x�K���t��g2^B��O\u0005Ǘ\u000b",
      "\u0007\u0018w�\u001bA��\n",
      "�\u000b",
      "�\u0000\u0003��&���)#���iW2XX��/C�6�QlF�$��%~r@S����\u0000�\u000fP�\u0016���^\u0018��|M��Ω#8�NkԺ1\u0000�)�\u0010\u0000r\u0000=8�+nq)�A\u0003�JT�gR�\u001b\u001c",
      "\u0012\u0001\u0019\u0019���#��<S�x��\u001a�kڔ��h��֙i�8\u001b�`�n�\u0018�\u0018��n��&�~�<C�ǌ>,����2�\u0006��#�LX\u0019�\u001f���<\u0013�\u001fm\u001b:t���{�\u0011kPx&]W�[i:\u001d",
      "���\u0013Kͭ�F��G �]�\u001d",
      "B�,z׉�9��\u001b|r���_��M6�%��\u00046�\u0014��8\u0005̑;��>B�\u0019��>!G��w_\n",
      "�\u001b���|_\u0006\u001fG�/���9m�_6i_\u0007(\u0000�\u001b\u0019�8\u00034\u0001�v:֙�\u000e�\b��K��1�픱��\u0013���#К�f�\u0017�^)�A\u0017��[�Gsx���5�G\u001c",
      "*#�gQ��(\u0001W��k��5\u0016�i�K|P��WO�y�4���\u0019`�cn~nY�yl\f",
      "�\n",
      "�>\u0017x~�ſ��ׅ����έ�\\Z�v�+�5�\u0000��#�v\n",
      "�z5\u0000}\u0013��\u0016xW�r�\u000f��M��\u0012@3*X�E9�g\u001f0F8�hO\u0016�U�����6���$\u001d",
      "<_DnA\u001d",
      "w�w�^\f",
      "�&�&�'�tmo�\u0016ZOĝ#�3�a��ҳZ�٩!Z4�\t\u0000!H'��\u000e\r",
      "O\u0005|6��u�;�Z\u001b\u001f\u001axSKӖ\u001bmJ;�o\u000eHo-�c!�v��`�\u001c",
      "8w�3�p;\u0000};E\"���x�K@\u0005\u0014Q@\u0005\u0014Q@\u0005\u0014Q@\u0005\u0014Q@\u0005x��_�9ߍ�\u0000�\u0000�\u0000�'�f�\u0019�K�\u0000';���\u001f�D�\u0001���|v�\u0000�!���\u0016�\u001f�&��:�>;�\u0010����z���I@\u0007���\"\u001e",
      "\u0003�\u0000�oN�\u0000�h볮3�O��\u000f\u0001�\u0000ط��4u��\u0001E\u0014P\u0001E\u0014P\u0001E\u0014P\u0001E\u0014P\u0001E\u0014P\u0001E\u0014P\u0001E\u0014P\u0001E\u0014P\u0001E\u0014P\u0001E\u0014P\u0001E\u0014P\u0001E\u0014P\u0001E\u0014P\u0001E\u0014P\u0001E\u0014P\u0001E\u0014P\u0001E\u0014P\u0001E\u0014P\u0007��%�\u0000�����\u0000p\u000f�\"z�j񟄿�s�\u001b�\u0000�\u0001�\u0000�O^�@\u0005\u0014Q@\u0005\u0014Q@\u0005\u0014Q@\u0005\u0014Q@\u0005\u0014Q@\u0005\u0014Q@\u0005\u0014Q@\u0005\u0014Q@\u0005\u0014Q@\u0005\u0014Q@\u0005\u0014Q@\u0005\u0014Q@\u0005\u0014Q@\u001e",
      "3�\u00007��\u0000t��\u0000rU���?�{��M��%^�@\u0005\u0014Q@\u0005\u0014Q@\u001c",
      "_�υ�\u0003���\r",
      "�]\u000b",
      "�T��Ak��<>^����:�;\u0017�zU/�_\u0005�\u001a|=�d�<\u001f���BKv�y��q6cb�Wl�0��3�f�ї�\u000eM\u0017@��ig�)�/5�Qk&��\tr\u001f\u0011�$ܠ)$��H\u0019\u0002��%�Z�}�����ƞ �˚�6��~�<��H\u0004�4`9#�(\u0003������\u0000��\u0000��>�\b�<'��\u001d",
      "H��\b~�s\u0017ȸ�wI\u001a�q޸\u001f�\u001a�Ɵ\u000exK��\u0000\u00105o\u001ah�\u001b�M��L�\u0005�\u0017\u0010���lY&o�y���׀\u000f����¯\u0000x�T�T�7�����/$\\�q-��\u001f�\u0019�u,��\u001b#���.�s�\u000f\u0004�z��X��:|\u0017R�6s\u000b",
      "I\u0018b���8�h\u0003?Ú&���\u0016�Eд�m;N�]����Q\u0007Sǩ$�z�I5~E\u000f\u001b#\u0016\u0001�\u0007k\u0010\u00029\u0014�P\u0007\u001b�߆>\u000f�~�y�x~�T���s%�˭^�-˟�%��ۓ�`H�\u0006��_�\r",
      "��m:�\\��k�2S5��\u00172��n�`��&W\\�2\u0001���t\u0014P\u0007\u0017m��V���c����W������W���P\b\u0005��@g\u0019'y���s�A��\"�\u0006��K�\n",
      "�i\u0017cE��'{I5[�\u0015%W�\u001e",
      "2�\u001bo��B��\u0013�\n",
      "��\u000e{��\u000b",
      "�熮��t�)���\\^]�Mwq*/�C,��Td�s��\\�_\u0005�\u0018E��y\u001f��O7�-��o���;���\u0000$�\u0000�\u0015�4P\u00008\u0018\u0014QE\u0000\u0014QE\u0000\u0014QE\u0000\u0014QE\u0000\u0014QE\u0000\u0015�?\t��~7�\u0000�\u0003�\u0000H����g�/�����\u0000���\u0013�\u0007�W\u0019���H��?�[��J�����\u0000$Cǟ�-�?�M%\u0000\u001f\u0002�x\u000f�Ž;�\u0000I��θρ?�D<\u0007�\u0000bޝ�\u0000���g@\u0005\u0014Q@\u0005\u0014Q@\u0005\u0014Q@\u0005\u0014Q@\u0005\u0014Q@\u0005\u0014Q@\u0005\u0014Q@\u0005\u0014Q@\u0005\u0014Q@\u0005\u0014Q@\u0005\u0014Q@\u0005\u0014Q@\u0005\u0014Q@\u0005\u0014Q@\u0005\u0014Q@\u0005\u0014Q@\u0005\u0014Q@\u0005\u0014Q@\u001e",
      "3��Nw���?��٫�~\u0012�\u0000���o�\u0000�\u0007��={5\u0000\u0014QE\u0000\u0014QE\u0000\u0014QE\u0000\u0014QE\u0000\u0014QE\u0000\u0014QE\u0000\u0014QE\u0000\u0014QE\u0000\u0014QE\u0000\u0014QE\u0000\u0014QE\u0000\u0014QE\u0000\u0014QE\u0000x������o��W�W��\u0000���6�\u0000ܕ{5\u0000\u0014QY����i����]�\u0014��%x�#\b�dd��n��\u0001T�p3�Ԋ\u0000Т��\r",
      "kM�mg���\r",
      "�0]Mhﱔy�9�@2\u0006�\u0019H���h�\u0007�~�\u001a��a�\b�_jvV��\u0015��\u00029�Tc\u0014nwɂs�r2�\u0006Fk����|I�\u0013�\u0017�\u0000\f",
      "n�\u0005>����[���7`�Dѣ\u0002�y�y�B�\u0000�/�>\u001f�ͦ��\\���\u001d",
      "6��:��[J�>a��Z5\u001bz���~?��\f",
      "�\u0016~-𦩡�R�L��\u001d",
      "�Q�-��\u000ea�\u0019\u0011\u0015Y\u000b",
      "��\u0001�r3��\u0014\u0001��1>\"?\u000e�<|[���C���\u0001�\r",
      "��\u001b��\u001c",
      "g5�QE\u0000\u0014QQ��\u0005���73G\u0004\u0010��I$`��\u0006K\u0012x\u0000\u000erh\u0002J+��\u0000�����_�?�{m�\u0000��߆|U�\u0013���\u0012h��ە\u0013�>�;�\u0011l�ݱ�3���\u001a\u0000آ�(\u0000��(\u0000��(\u0000��(\u0000��(\u0000��(\u0000��(\u0000�\u0019�K�\u0000';���\u001f�D����?\t��~7�\u0000�\u0003�\u0000H��=��ώ��D<y�\u0000bޣ�\u0000��Wg\\g�o�\"\u001e",
      "<�\u0000�oQ�\u0000�i(\u0000�\u0013�\u0000$C��-���M\u001d",
      "vu�|\t�\u0000�!�?�\u0016���&��:\u0000(��\u0000(��\u0000(��\u0000(��\u0000(��\u0000(��\u0000(��\u0000(��\u0000(��\u0000(��\u0000(��\u0000(��\u0000(��\u0000(��\u0000(��\u0000(��\u0000(��\u0000(��\u0000񟄿�s�\u001b�\u0000�\u0001�\u0000�O^�^3��Nw���?��٨\u0000��(\u0000��(\u0000��(\u0000��(\u0000��(\u0000��(\u0000��(\u0000��(\u0000��(\u0000��(\u0000��(\u0000��(\u0000��(\u0003������J���g�o{����٨\u0002��u\u000b",
      "m+D��.�+\r",
      "2(b$��8X!=\u0015��_�$\u0010�L���ğ\u0013�H�Q���|P�_{q�-�4��b���\u0004�A\n",
      "}������,�.06�~��CD�щ\u0001\u001ft�5�\u001a7��T�^\u0010��m,�\r",
      "fm�,��7'̖8��ʲ�`��#ր4?g�g��4:r��¾(��U�;�\u000e3�����I�Ȯ�\\7\u0001:��F=&�\u0014QĻb�#\u0004�\n",
      "�\u0014�\u0000�?����\u0013��oP�\u000e��k\u0010u���Fդi�6N�\u0016$YC\ba�\u001b��8�\u0003\u001e",
      "�\u0000���?\u0006�%ҵψzռ\u0012���ڗ۷�NQU��\u000e��x�9�\u0015�>(���5/\u0006���֯�-#�몙�m|J����1�I´��C�A��:�9�\u001f\u0001xR/\u000f|5�|\u001b��\u001e",
      "�\u001d",
      "��\u0015��2\u0006I��\u0007�l��p\u000flP\u0007=\u001f�<w��ռ\u0015�h�m:P\n",
      "k\u001e",
      "#�\u0016S�QZ!�\u001b�G��}\r",
      "uz&���\u0019����/��\f",
      "�2��ۤH$#�\u00028�\n",
      "��N:�k���m��+]|=׵\u000f\u0006NIckk���'��I>E�\u0000�F3�]w�ǈ�GT�SiO�+���h�a����J��r��4\u0001�?\u0006t�\u0016x{���t�\u0015x��ķ��Qo�%pc�d{����\u0007j����w�U�ODӾ.��>,�ǌ���Þ\u0012�-R�M\u00172E\u0013\\N�F��0%�%G=�v�o�|C\u000f�Q���M?n�?�����Ό�N�Sf���\u0004�{�W�<5�\u0007|l�>#x\u001f�0x���:tV���u\u0018��xp#�^O���\u0001\u001d",
      "z�\u0003e\r",
      "SP[\u001f\u001ax\"����/\tx��N���B�}�'�Fc�ۆ�\b\u001d",
      "\u0000�b�,-�]\"�K�\f",
      "m� {yv�\u001d",
      "��N\u000fc�k��\u0000g�\u0002�^\u000e�u�K�\r",
      "m�\u0000\t\u0017�uy�}B;v�\u001c",
      "\r",
      "!�bV�g�R@�\u0019�N�\u000f��:��~�⯁�.�\u0000K;\u001f\u0011Ck\n",
      "�O����'�\u0000V�\u0000�[�C�G��O�;��V�q�]��j�P�@�c\"\u0018�q�\u001b����ׁ���\u0000\u001f�o\u0017�~=�\u0005��\u0017�j�~\u001c",
      "�\u0017R�����5�0\u0001Hĳ�\u0017\u0018�\u0014t�?i�\u0017ľ0�#��k�^\u001b��5MY`\u000b",
      "\b���[m�9\u000f��J��H�\u000b",
      "s��\u0000A�x����\u001f\u0015x��\u0000��\u0014����N��@�R�0\b��$�~R�T\u0010\u0013�\u0004�y�j���*x�E�\u001f��\u001f��~�,��zy�#�K�6�\u0011�\u0000�@��,�y���]_���&��Kaq���Eŀ���g��&�\u00160��\u001c",
      "��\u001e",
      "\u000fc�x���/�WZ��<?�3���t)t��a�Z���ٔo���*�Ô�x�\u0000z'�_���\u001a�ޛ�k=_�z>�ud��:��r#���6�\u0001w��G`p��\u0001I��\u0006�N><��>�uq����v�(��\u0000F�̲��U-\u001c",
      "��i�X2�l\u0011��_�<5�;\u001f�\u001a?ſ\bh?�SM�ek:\r",
      "��P\\yE��d�q�z�\u0004n���9��/\u0007j^)�\r",
      "�ǈ|3\u000f��\u0001\u0005�\r",
      "~�7\f",
      "y�d���\u001fw\u0001Y��\u001c",
      "P\u0007CE\u0014P\u0001E\u0014P\u0001E\u0014P\u0001E\u0014P\u0001E\u0014P\u0001^3��Nw���?��٫�~\u0012�\u0000���o�\u0000�\u0007��=\u0000{5q�\u001d",
      "��x��ŽG�\u0000I��θώ��D<y�\u0000bޣ�\u0000��P\u0001�'�H���\u0000�[ӿ�:���\u0013�\u0000$C��-���M\u001d",
      "vt\u0000QE\u0014\u0000QE\u0014\u0000QE\u0014\u0000QE\u0014\u0000QE\u0014\u0000QE\u0014\u0000QE\u0014\u0000QE\u0014\u0000QE\u0014\u0000QE\u0014\u0000QE\u0014\u0000QE\u0014\u0000QE\u0014\u0000QE\u0014\u0000QE\u0014\u0000QE\u0014\u0000QE\u0014\u0000QE\u0014\u0001�?\t��~7�\u0000�\u0003�\u0000H����g�/�����\u0000���\u0013׳P\u0001E\u0014P\u0001E\u0014P\u0001E\u0014P\u0001E\u0014P\u0001E\u0014P\u0001E\u0014P\u0001E\u0014P\u0001E\u0014P\u0001E\u0014P\u0001E\u0014P\u0001E\u0014P\u0001E\u0014P\u0001E\u0014P\u0007��\u0000���6�\u0000ܕ{5x������o��W�P\u0001E\u0014P\u0001E\u0014P\u0001P�]��YO{{q\u0015���m,�J�R4Q��O\u0000\u00003���x�F�<A��h�͜w�}�yw\u0010>vȾ�\u001d",
      "�\u0003���o�^(�`��O\u0015��_��\u0016��o4+pW���EY?�$�_4|iK��\r",
      "4O\u0011h0x_��F�\u0002�����ᦝ\u0000� u�M�6�?����#c㿈�G������\u0007�|\u000b",
      "o�X��*�M��@Ns&�Rpޞ�\u0001��W�|\n",
      "�\u0006��7���9h\u001e",
      "8�lC�,t�!�\u0003|߽}�7\u000fc�\u0015����������$��\u0000�(\u0003�\u000f�_\u0011�\u0019�����\u0000�z��]�ܦ\u0018\u001f��M���\u0018�\u0018�=j��?��\u0001��-�^\u000b",
      "׿�\u001e",
      "�Q�G�'�`|��\u0000Z���=3Ҽ�Ś�5��zχ�4�\u001a�YMs5֮�Ae!{v�gq\u0018�2��Q�1�s]\u0017�?\u001d",
      "���Tվ\u0019x�K��֭���-/ta\"�\\ۖ\bAI\tep�ԃϧ \u001e",
      "�^o�/�0��\u0011a�\u001f� �,���`{�O���ʹ�>�Ir�\u0000��\u0005<t�H���(O�����\n",
      "�A�l�\u001b�᫰�]޵�dol��\u001c",
      "�\u0011鷟j\u0000�\u001f\u0006��/\u0010��T��ǆ��\u0007S�m���-H[���\\!V�i\u0001�6�\"�\n",
      "�[k�\u0000\u0017����ڿ��\r",
      "7�\u001a�w�\u0016�ڭ�+$6v�W�*���7>�a�7N���~ ���*|0�@׼e�k�h��&��6��-�q4\u0011\\�d��`QUH#\u0019\u0014\u0001�\u001e",
      "\u000b",
      "��s��N�O�.�:�d�\u00046�y�x���6�*�\u0017�\u000f�={b������\u0000�����\u0019���q�����|7ֵ6�v��|G�?��1�\f",
      "j�3�ws1ҵ�\u0004�|�dW\u0010m(UG\u001b�?��P\u0007�tW͚_�<U�'Z�����?��L��4} xsW�����\u0000�$\u000fs\u0013�#3\u0006!Ր\f",
      "\u0001޽���2�ᶍ�\u0000\u000b",
      "\u0006�Z��!h��I\u001b�evUrc%2�\u0015�\u000e2ON�\u0001�QE\u0014\u0000QE\u0014\u0000QE\u0014\u0000QE\u0014\u0000W��%�\u0000�����\u0000p\u000f�\"z�j񟄿�s�\u001b�\u0000�\u0001�\u0000�O@\u001e",
      "�\\g�o�\"\u001e",
      "<�\u0000�oQ�\u0000�i+��3���\u000f\u001e",
      "ط��\u0000�4�\u0000|\t�\u0000�!�?�\u0016���&��:�>\u0004�\u0000�\u0010�\u001f��zw��G]�\u0000\u0014QE\u0000\u0014QE\u0000\u0014QE\u0000\u0014QE\u0000\u0014QE\u0000\u0014QE\u0000\u0014QE\u0000\u0014QE\u0000\u0014QE\u0000\u0014QE\u0000\u0014QE\u0000\u0014QE\u0000\u0014QE\u0000\u0014QE\u0000\u0014QE\u0000\u0014QE\u0000\u0014QE\u0000\u0014QE\u0000x��_�9ߍ�\u0000�\u0000�\u0000�'�f�\u0019�K�\u0000';���\u001f�D���\u0000QE\u0014\u0000QE\u0014\u0000QE\u0014\u0000QE\u0014\u0000QE\u0014\u0000QE\u0014\u0000QE\u0014\u0000QE\u0014\u0000QE\u0014\u0000QEb��\u0016�uo\u0013�~&�,|�[A�G�l�s���I~PB��\u0000|��(\u0003j�(�\u0002�(�\u0002�(�\u000f\u0019�\u0000���\u0000�m�\u0000�*�j����������f�\u0002�(�\u0002�(�\u0002�~!xWN��?\n",
      "��<vz�>[�\u000b",
      "m�2\bee>��>�V�gx���|;�M\u0016�i�L-�\u0011^�cɂB�+�H\u0004\u0006� �h\u0003�tς\u001a�ޡ��㿉��*Ѽ5<w:n���\u0015�2�1\u001bM\"�4�G�3ϩϤ���~\u0007�\u0016����\u000f\u0006xwW��\u0013�\u0017�d3ɴt]Τ�d�G�Y5I|\u0007�˭x�N�\u0016�����\u0015E��$����1��8�\u0007J�\u0003\u0007��\n",
      "�o������-\u0003I�T~]��t�`����F����W�*���M<\u0019�\u0000�+o�\"��H��_\n",
      "\\k���0VXm�`\u0019��w8�\u0018׻1��=\u0001��\u0000�\u001f\u0010-�%�)|Mk���n��ky�Yգl\u001e",
      "W��\u0001S��\u0000\r",
      "����\u0005<)�K���\u000fLd�$���Ƥa�{�\u001d",
      "\b\u0003�1��_\u000e>\u0019���\u0017�6�\u001f�'�?�u(\u0012�KֵKh��R\b�(����\t$��=��P\u0001^_�?��&Ծ4i�\u0011�<]�ڝ2�쭬%��\u0018_�� �\\�I�\u0005\u0000q�\u001c",
      "��\u0014\u0001�|_�-�ď����/�&���#-�J\u0019�tuum��\u0019Q��g�ֹ�\u0012|3�f��xC�W�:��\u0000�<1<��\u0017A\"�}��bщ��#��oL(��P\u0007��{�ǈt�~%�׋4��Cm\u001d",
      "�͜:;��$H�\u0011IM�a�AbT��\u0002状?\n",
      "5�����e\u0016���N�\u001b�=#��\u0017\u0013M\n",
      "�����}�s��Sq��Z�\u0000���Y�h�4�|E�\u000f\u001b7�\"�f�N���i�{o%�y�ˡ��S�\u0004��\u0007��sO���h,��{�b�74��*��1c򢪨\u0019�\u0000p\u0000\u001c",
      "��\u001a(\u0000��(\u0000��(\u0000��(\u0000��(\u0000�\u0019�K�\u0000';���\u001f�D����?\t��~7�\u0000�\u0003�\u0000H��=��ώ��D<y�\u0000bޣ�\u0000��Wg\\g�o�\"\u001e",
      "<�\u0000�oQ�\u0000�i(\u0000�\u0013�\u0000$C��-���M\u001d",
      "vu�|\t�\u0000�!�?�\u0016���&��:\u0000(��\u0000(��\u0000(��\u0000(��\u0000(��\u0000(��\u0000(��\u0000(��\u0000(��\u0000(��\u0000(��\u0000(��\u0000(��\u0000(��\u0000(��\u0000(��\u0000(��\u0000(��\u0000񟄿�s�\u001b�\u0000�\u0001�\u0000�O^�^3��Nw���?��٨\u0000��(\u0000��(\u0000��(\u0000��(\u0000��(\u0000��(\u0000��(\u0000��(\u0000��(\u0000��(\u0000��(\u0000��(\u0000��(\u0003������J���g�o{����٨\u0000��\t\u0000�H\u0019�{�\u0001E\u0000�2\b=���\n",
      "�~0ZZ�|*�T7���F4��\t*\u0007\u0001�&*p{�\u0001\u0007�\u0015�Vo��=;Ě\u001d",
      "΋�-���&��\u000b",
      "�m���]�2�\u000fB3�2\u000eE\u0000x4\u0016\u001aF��\u0018xN�\\��&��i�*�\\�\u0004a�^p:�j��\u000b",
      "�G�^&����>/�̗��w\u0013�q����\u001d",
      "���y>¾��W��_\u0006�1h^\u001f���N���\u0019�f��\u0000ڦWb�1\u0000�\u0003�[T\u0001�<U���BO�����-{D��h�\u001d",
      "�DК��K�\u0010\u0019n��(g\\�P2\u0017\u0004�j��!��\u0000h|/Դ��Z�욬�����d\u0013y��lm���n\u001c",
      "\te��\u001a��\u0013�/\u000fx/E:7�t�\u0000�X��1y�I��9c�by=��\u0000ܢ�(\u0000��(\u0000��(\u0000��(\u0000��(\u0000��(\u0000��(\u0000��(\u0000��(\u0000�\u0019�K�\u0000';���\u001f�D����?\t��~7�\u0000�\u0003�\u0000H��=��ώ��D<y�\u0000bޣ�\u0000��Wg\\g�o�\"\u001e",
      "<�\u0000�oQ�\u0000�i(\u0000�\u0013�\u0000$C��-���M\u001d",
      "vu�|\t�\u0000�!�?�\u0016���&��:\u0000(��\u0000(��\u0000(��\u0000(��\u0000(��\u0000(��\u0000(��\u0000(��\u0000(��\u0000(��\u0000(��\u0000(��\u0000(��\u0000(��\u0000(��\u0000(��\u0000(��\u0000(��\u0000񟄿�s�\u001b�\u0000�\u0001�\u0000�O^�^3��Nw���?��٨\u0000��(\u0000��(\u0000��(\u0000��(\u0000��(\u0000��(\u0000��(\u0000��(\u0000��(\u0000��(\u0000��(\u0000��(\u0000��(\u0003������J���g�o{����٨\u0002;�Z\u000b",
      "YfH%�hљb�n�\b\u0019ڻ�\u0019=\u0006H\u001e",
      "�W�x��=��@MkQ�u���\u0005i��^D�a�+�Ьr6.��aY�\u0004��>�#>߭�A��W\u001673��\f",
      "�����KyT\u0003�����x�\b��t�\u0000�V�������o\u0019�r_߬���\u000b",
      "�D\u0019�Y���s\u0014v�����\u0004m\u0018\u0000�O���^\u001f\u0004����cF���料0m�������J�I��\u0010�o\u001d",
      "@�j��ƃi��\u0017����n�yL��\u001d",
      "J{�\u0001 \f",
      "\u0007�ق��A�r{�ѹ\u0012���\u0006U��\b[�lpO�@\u001e",
      "\r",
      "�H�]�G�cլ>\u001d",
      "-��xr�/��눼ح�F\t\r",
      "���W-��*�׶xb�mC�Z]��S5͜3H@���\t����\u000f�W��5�\u001b�z�f������H�sy�_A%��wr�:\u0013!fU��v��\u0005\u001c",
      "W��\u001b�ߌ�\u0003i�\u001a��Yot����\u0012\u0006\f",
      "[Y�l�\t�\u001c",
      "�w\f",
      "\u0011@\u0017u��>\u001a��e��5��^�\u0019��\u001a\u001c",
      "_hh���dE\u000f��u��\u0013R����ڞ��%����&�mv._h\u0019U.\u0014\u0002�\u001d",
      "\u0006@'\u0019=k�Ѵ\u001f�?\u000e���\r",
      "â�����\u0011X�1��/��j ��\u0000��g�Wy�=l��:߾���\u0012oh�Ԡ򦍇^\u0001*�є�{\u001a\u0000���\u0000\u0012~%x�㶭�O\u001bhv~\u001f�\u001a\u0017�����I<\n",
      "fDO2@yb\u000b",
      "\u00128�G\u0003\u0015s�>&�ߌ~5�\u000e<\r",
      "�k\n",
      "Zx{N��SԎ�\u001d",
      "��6\f",
      "q*I��A'�Z�F�\u0000���?�H��\u0000JR�u-oM�G�Mx���2y�<;��2��5!o$���\n",
      "#hX��\u0018�X}G�\u0000w_�ώ��\u0018�:ޝⅶ�\u0000���Z��F�%��v������3Ǩ$`\u001c",
      "W�x����\u0000������Z]�Z�\u0014\u0017\n",
      "�LN�B�#��A���\u000f�?K�Z�ƾ7�����ž#��l ����e��ݔ�3��\u0000z\u0011^�@\u001f4|P�ơ�-g�.��3����V\u001a���:�/\u0000�w�\f",
      "�&['��3]����|\f",
      "��~+�uO\u0016�\u001b�6����s�Ibʬ�\u0013$�Dj�˂�\u00018\u001e",
      "���ڏĞ\u001d",
      "������^��f��\u001a]^G5�#[B@\u0002I\u0001?\"p~c�����CWғ�lו�; u\u0015��\b3�n��\"������\u0019�g�\u0000t\r",
      "��a׵\u0004мW&���-�^\r",
      ")�7p\u001d",
      "ْ\u0006$oE��~\u0017��G5kğ\u0017�9��\u000b",
      "þ4��u�t�}-��Aj��y�\n",
      "\tN�~q�G88�*o\u001a�o�π�\"O\f",
      "\\������{G��fI�0:\u0005VRA;�\\\u000e�WϞ:�5?�'��M����ˣ��\u0010\u0018�5��Ȳ\tI\u0018�\u0005O�#=�@\u001fLx���_��-?G6����j!��LӢW�DO��s*\"\f",
      "���FN\u0006M/�<q�x�5(�`���4����:}�B;�Y1�\u0018)e �C+\u0010{\u001a�_��iߴ\u000e��\u000b",
      "ėz��6�ᱧì�\u001a��\u0011Z����^[WV�H�$�'?Ñ�?\u0006�~\u001c",
      "i����\u0006�w%�\u0000�Σ����\\��(p�f�f�\n",
      "�s��\u0006PO@\u0000=\"�(�\u0002�(�\u0002�(�\u0002�(�\u0002�(�\u0002�g�/�����\u0000���\u0013׳W��%�\u0000�����\u0000p\u000f�\"z\u0000�j�>;�\u0010����z���I]�q�\u001d",
      "��x��ŽG�\u0000I��\u0003�O��\u000f\u0001�\u0000ط��4u��\u0019�'�H���\u0000�[ӿ�:��\u0000��(\u0000��(\u0000��(\u0000��(\u0000��(\u0000��(\u0000��(\u0000��(\u0000��(\u0000��(\u0000��(\u0000��(\u0000��(\u0000��(\u0000��(\u0000��(\u0000��(\u0000��(\u0003�~\u0012�\u0000���o�\u0000�\u0007��={5x��_�9ߍ�\u0000�\u0000�\u0000�'�f�\u0002�(�\u0002�(�\u0002�(�\u0002�(�\u0002�(�\u0002�(�\u0002�(�\u0002�(�\u0002�(�\u0002�(�\u0002�(�\u0002�(�\u0002�(�\u000f\u0019�\u0000���\u0000�m�\u0000�*�j����������f�\u0002�(�\u0002�(�\u0002�+;ĺޙ�\u0002�^�n��O������*����u$�@\u001a4W�w�\u001e",
      "0��2�.���{����\u001a̩e��̱�i��\f",
      "+\"\u0003�+�.��\u0003�b���g��#�o��M����\u0016i�BI��\u0016�\u001d",
      "��9�lh���{�\u0007�Q^o���\u001f\u0010<Fu_�I�\u0014]�S��m���������cj.ރ���������\u0000Fݩ�G\u0017�\u0000\u0019�\u000fw��i��$��U��x�!xKR�\u001d",
      "F��K�\n",
      "����H-�l*�m,���0=p3]/��i�G��C�x\u001f����@��ڞ��\u0019EɈ\u0013��\u0003H�S.yS�g��\u000fq�[V����I�g�u_\u001e",
      "xZ��ݶMms��\u0014���+8 �k����(�v��_x/Q�a�x\u0007��Յ���R\u0012]���(�~��=��>/��x�5�\u0013[{p\f",
      "˧��pc\u00078-��3���V�y'���]R�Ɵ\u0012�\u001d",
      "�+��r':4V\u000f!�k�lģ\u0014�\u0010�I��\u0018g\n",
      ";�Um�#��E����\u000b",
      "x��3t<O\u0014�Km>9\"���H��d\r",
      ",�E<��\u0013�O�\u0000z\u0017�<q�_\u0011x�U����%ާ��7ЬR/�\u0018��1P�;OBk��\u0017�|v�տ\u0014�\tƗ��\u000f���\u000f�ω�6��mc���g��U6���\u0016O�-6�H���!�.�\u0000�|�A�\u0000��+�5��\u0006��\u001e",
      "'��<S�\r",
      "\u0006\u001f\u000f\\�����1>�q\u0018ˈ�K\u0019�0� ���\u0007�+��\u000fx���'�m\u001b�6֦�u\u0018Y�\u0002ۼ�\u0011�\u001d",
      "A�\u0003+`�\u0018�\u000e��(�\u0002�(�\u0002�(�\u0002�(�\u0002�g�/�����\u0000���\u0013׳W��%�\u0000�����\u0000p\u000f�\"z\u0000�j�>;�\u0010����z���I]�q�\u001d",
      "��x��ŽG�\u0000I��\u0003�O��\u000f\u0001�\u0000ط��4u��\u0019�'�H���\u0000�[ӿ�:��\u0000��(\u0000��(\u0000��(\u0000��(\u0000��(\u0000��(\u0000��(\u0000��(\u0000��(\u0000��(\u0000��(\u0000��(\u0000��(\u0000��(\u0000��(\u0000��(\u0000��(\u0000��(\u0003�~\u0012�\u0000���o�\u0000�\u0007��={5x��_�9ߍ�\u0000�\u0000�\u0000�'�f�\u0002�(�\u0002�(�\u0002�(�\u0002�(�\u0002�(�\u0002�(�\u0002�(�\u0002�(�\u0002�(�\u0002�(�\u0002�(�\u0002�(�\u0002�(�\u000f\u0019�\u0000���\u0000�m�\u0000�*�j����������f�\u0002�(�\u0002�(�\u0002��~\u0007��\"x.��ޡigs$R4�2*L�7W]����Gj�*��sqe�^^ZYIq\u0004\u000f,V��V��I\b\t�\u0016#\u0019>�\u0001�g��\u0000g�\u0010��\u0004\\i\u001e",
      ";���X[�Hڍ��\u0000��y����� ,�U��\u001d",
      "��\u0000�3�_�m3�~%�ݻ�ty<����F��A��ʹ��1�'5�x\u001fWԵ�\t�ھ���h\u0017�Qo�N��<��'�$\u0001�^���\u0006�h\u0003��\u001a�\"Ӽ\n",
      "uSi�\u000f\u0019�\u001f�V�g�mIg�G?4xE���砮C�\u0019�B�\u0000���S�\u0000\u0007��\u0000�k�������B�\u001f�g��\u0000��%�f0���\\#}Ӻ8�yǭu>\u0005�o��o�\u0011�_P����\u0019�)��\"�Q����0A\u001c",
      "�\u0000��S����^\u001f�\u000f��+�9���X�?���ˍ�r�*H9��\u0010}�s~\u001a�K���ƭc⿌tx<:�i)�i�J^%̫\u0018p�$��&I\u001c",
      "\u0000O\u0007���b��\n",
      "�?\u0017i\u001e",
      "1�����\u0000��\u000f�^h:V�6�-�WvJdyI!�\u001e",
      "um�w9\u0001�8\u0007��e\u0014\u0001��\u001b�1�\u001d",
      "W�G�t��rE���&\u000fn�ݧm�e\u0006A�;���}�@��X�^�\u0017�>\u001ak>\u0018�S&��xz�yu\u000b",
      "8ol��2C�y���9�3!s�*;�\u0007E\u0000xσ��\u0019Z��ω��v�e��V��7�]Y�����s�N�\u0015�6�I��\u000b",
      "�0S��)�'�<\u0011��\n",
      "<\u001f�2�)�G��wl�j\u0011*\u0011,H�H�'���E]���_BQ@\u001e",
      "%�-\u0007�\u0007��\u0017x��C��g�5�VM^���\u0018m���\\y�ȳ\u0010\u00192\u0006\n",
      "�@\u001d",
      "\t<z�&�n4h'��,u\u0017����\\\u0019�!��]�Wq۷'\u0000g8�h�\u0002�(�\u0002�(�\u0002�(�\u0002�(�\u0002�g�/�����\u0000���\u0013׳W��%�\u0000�����\u0000p\u000f�\"z\u0000�j�>;�\u0010����z���I]�q�\u001d",
      "��x��ŽG�\u0000I��\u0003�O��\u000f\u0001�\u0000ط��4u��\u0019�'�H���\u0000�[ӿ�:��\u0000��(\u0000��(\u0000��(\u0000��(\u0000��(\u0000��(\u0000��(\u0000��(\u0000��(\u0000��(\u0000��(\u0000��(\u0000��(\u0000��(\u0000��(\u0000��(\u0000��(\u0000��(\u0003�~\u0012�\u0000���o�\u0000�\u0007��={5x��_�9ߍ�\u0000�\u0000�\u0000�'�f�\u0002�(�\u0002�(�\u0002�(�\u0002�(�\u0002�(�\u0002�(�\u0002�(�\u0002�(�\u0002�(�\u0002�(�\u0002�(�\u0002�(�\u0002�(�\u000f\u0019�\u0000���\u0000�m�\u0000�*�j����������f�\u0002�(�\u0002�(�\u0002��Ku�\u0000\n",
      "��sYjW�m;�=�W\u0016�\u0004�\u001a8ˌ\u0012\u000e2F\u000e9�q]Ebx�G��\u000f��M\u000b",
      "N�-��\u000b",
      "g�7\u0013ڵ¢:�c�H��\u0013��\u0000�Ҁ<�M����(�_\\�\u0000��\u0007��Y�-\u001e",
      "]{U�n�f���nw3t��O\u000f���\u0012��|R��\u001e",
      "\u0010���W��F�V�\u0016\u0019�\u0010�\u0005�dz׺x\u000f�ݶ���N�\u0017�N��\r",
      ">4�\u0011>�\u00127�\u0000پ)\u001e",
      "P�\u000eN��\u0000c&ݷ�߆V�\u0011�[�9�3D��=\u0012�Y\u0018\u001c",
      "�\bL�\u000fz\u0000��SB��\u001f�_\u0019k\u001e",
      "\u0012Ѽ>���v�\u001c",
      ":���4\f",
      "bY7F�\u0016\u0018��,H\u0003\u001d",
      "\u000ek��\t��~ xB���J�Jմ�Jm/R���D�\u0011cq���C\u0003�NG8ɭ��\u001e",
      "%���ߋ|\u0017�\u0012��\u0017Z��[���`����\u0018I\u0011\u001d",
      "�F�q��}:�w�/�t��>\u0013���n.o$��K��˒\f",
      "�W\u0012c|��\u0006p\u0006;\u0000:� \u001d",
      "u\u0014Q@\u0005\u0014Q@\u0005\u0014Q@\u0005\u0014Q@\u0005\u0014Q@\u0005\u0014Q@\u0005\u0014Q@\u0005\u0014Q@\u0005\u0014Q@\u0005x��_�9ߍ�\u0000�\u0000�\u0000�'�f�\u0019�K�\u0000';���\u001f�D�\u0001���|v�\u0000�!���\u0016�\u001f�&��:�>;�\u0010����z���I@\u0007���\"\u001e",
      "\u0003�\u0000�oN�\u0000�h볮3�O��\u000f\u0001�\u0000ط��4u��\u0001E\u0014P\u0001E\u0014P\u0001E\u0014P\u0001E\u0014P\u0001E\u0014P\u0001E\u0014P\u0001E\u0014P\u0001E\u0014P\u0001E\u0014P\u0001E\u0014P\u0001E\u0014P\u0001E\u0014P\u0001E\u0014P\u0001E\u0014P\u0001E\u0014P\u0001E\u0014P\u0001E\u0014P\u0001E\u0014P\u0007��%�\u0000�����\u0000p\u000f�\"z�j񟄿�s�\u001b�\u0000�\u0001�\u0000�O^�@\u0005\u0014Q@\u0005\u0014Q@\u0005\u0014Q@\u0005\u0014Q@\u0005\u0014Q@\u0005\u0014Q@\u0005\u0014Q@\u0005\u0014Q@\u0005\u0014Q@\u0005\u0014Q@\u0005\u0014Q@\u0005\u0014Q@\u0005\u0014Q@\u001e",
      "3�\u00007��\u0000t��\u0000rU���?�{��M��%^�@\u0011��\u0005���73G\u0004\u0010��I$`��\u0006K\u0012x\u0000\u000erk�5ό�\t\u001f�:v��#°�1[\\�꓍V٣�\u0000G\r",
      "�b��,�&\u0014���cϧ�Q�R�W\u0011�\u0017\u0016v�̸�K�\u001ahT���]\u000b",
      "\f",
      "g�¾g���߈4�B�5�\n",
      "������\t�D�_�py���~�vG��q.\bb|ϼ7\r",
      "�\u001d",
      "���0Z/��o�\u0001�t�\u0012�X����e��A�!�V6��\u0014\f",
      "ca\u001e",
      "\u0001�\tʷ�\u001a\u001e",
      "\u0005���W\\�\u0016�i��\u0013�@�.rfԏ�-�\u0004\u000b",
      "��>Z�f��ǿ�G�[A�?\u0000�O�x��^\u001bҒxR\u0011�Y��[[E�0��2H��# ���O\u0015�\u000f�φ�4�i�h_\u0010|E�O�I�ht��\r",
      "B�Oou\u0004�n�\u0018�\u000b",
      "\u0010\\�6`\u0000W�r\u0001�}s�0񯅼#\u001c",
      "g�\u001aյ��q\u0005�L�\u0013�H�@]ϲ��\u001f�z?�-Z��x\u001f\\��\bݎ�h�\u000b",
      "k���\u000b",
      "\u0015�I<�ם�9��ֹ�\u0000k_\r",
      "�\u001b�}�W��ׁ�CvvKu�\u0000d����Pft�'��3��\u0014\u0001�\u001e",
      "7񷇼\u0019��<W�+�l��D8hX���v0���x��zⱾ\u0007|L����K�\u0010X�7�Tv���-\u0005�\u001e",
      "f�TbH\u001d",
      ">�1�\u0006�y��/\u0012#<\u0010\\\":�\u0011t\u000e\u0015�F\u0019�Gb+�c���\u001f\u001d",
      "*�1�\u0001�?��\u0007��\u001foQu�w@�u�k�\u000b",
      "�.��Q�\"��6�d\tZ\u0018\u0018n�\u0017?{p�Z�]\u000fS�ִ[-cL�n,o����U��S��+�\u001f���ZO�M�K\u001d",
      "RX��\"�,�\b�l2\\0p���\"]@��{?��gya�\u0013�v���8�ab��+\r",
      "�\u000f�\u0004�\u0000���}�\u000b",
      "-/N_\u0005ZX�u��m<���4V��O�1D�\t�0~�:��_�b��F���k>\t���*-G����\u0011&�\u000b",
      "���o\u0018�]��^�^\u001d",
      "�o�=O\u0018ةi�\u0000�\u0012�;�\u0000x��_\r",
      "i\u0011x�}\u001fE�]�\u001bNYD&O-���7vr<�\u000f��Ҷ!�f�����:\u001c",
      "�_O�{IWP��Ļ��q��f��ѓ�+�>>xg@�ho���ZK��.�\u0015�\b½�il�c��\u000b",
      "��\u001bI �a�\u0012\u000b",
      "?h�\n",
      "�c�\u0016?\f",
      "WBд�*\u0018�!i�}��c\u0011����`|�[\u0007\u0003\u0003 q@\u001e",
      "�&��G�G�I��&�*\u0019#�k�\u0013����<� \u000es�������\u001e",
      "�\b5�\u0000\u0012h�L�\u001f�R��8\u001aN�(v\u0019�+�|_ik\u0007��[�m��{�\u000b",
      "P3ȑ�Ґ�\u0002�r�\u0000\u0001���|%��G�/\u0013�XY�\u000b",
      "ũI�\u001b�\u000b",
      "�}_@���l",
      "�U�� !ۻj�<�rs�\u0007�\b�讌\u0019Xd\u0010r\b���G��O�}#�s��\u0000�ͥ�ۋ�+�ޢFڛw66\u0002\u0013\u001b���Һ�\u0000(��\u0000(��\u0000(��\u0000(��\u0000(��\u0000+�~\u0012�\u0000���o�\u0000�\u0007��={5x��_�9ߍ�\u0000�\u0000�\u0000�'�\u000ff�3���\u000f\u001e",
      "ط��\u0000�4���\u0019���H��?�[��J\u0000>\u0004�\u0000�\u0010�\u001f��zw��G]�q�\u0002�x\u000f�Ž;�\u0000I��΀\n",
      "(��\n",
      "(��\n",
      "(��\n",
      "(��\n",
      "(��\n",
      "(��\n",
      "(��\n",
      "(��\n",
      "(��\n",
      "(��\n",
      "(��\n",
      "(��\n",
      "(��\n",
      "(��\n",
      "(��\n",
      "(��\n",
      "(��\n",
      "(��<g�/�����\u0000���\u0013׳W��%�\u0000�����\u0000p\u000f�\"z�j\u0000(��\u0000(��\u0000(��\u0000(��\u0000(��\u0000(��\u0000(��\u0000(��\u0000(��\u0000(��\u0000(��\u0000(��\u0000(��\u0000����������f�\u0019�\u0000���\u0000�m�\u0000�*�j\u0000F\u0001���F\r",
      "eX�kA�M!-4�!]\u001a\u0016�N\n",
      "\u000e-��B\u0017�\f",
      "�:֢�+j�}���\\隝�7�WQ�S�2\u0006I\u0010�\u0015 �\u0015��/��\u0000Ï\u0007k)��{�\u0010�_Ć8g��k��OQ\u001f��#\u001c",
      "���EwtP\u0001Pj\u0016Vz���Z��\u0017v�.�a�0��Щ��O\\7��\u0010j�\u0015�7�\u0010�_dԬ����yj�\u001fp\u0000�`T��\r",
      "\u0000v���o\u0004pA\u001aE\u0014j\u0011\u0011\u0017\n",
      "�\u0006\u0000\u0000t\u0000V7�|#��\u0007��Z�wO�\u00147���ܯ�$�d�c{�ؑ�\u000e\u0006\u0000�+��\u0017E��kk\u001e",
      "��Ch~)K@_Q�m��(���6����� �\u0003�;�Y�\u0007�w�\u000f\u0000���\u001e",
      "-�?�v�!Y���\\��6v�������\t<A�[�v���.���+�NY\u0016Y��\"�3��$J�9\u000f�)�z��UT*��\u0006\u0000\u0003�+��\u0007�/�\u001e",
      "=:���\u0000�� �E��\u0015�^\\|�߼�s��2k��\u0000���\u0013�\u0000C��Ro��\u0000{5qZ��\u0006�x�O\u0019��j�Kķm��9�Aȍ��*у�!\u0005F\u0006\u0007\u0015�|a�ޯ�Y|>�\u001e",
      ";�Ö\u001e",
      "'��v�'��\u0005�v�.�K�\u001bG��i���rx�Xu\u001b�g�\u0006��\u001a�M��ɧ�[@��3�-\u0001!�\u0005x=1�@\u001b�+�o�?\u0014x���Z;�&���\u0016S���[}�p�\u0018�)UP��\u0001#�kSƞ\u0014����\t4\u001f\u0013i�jZt��b��He9VVR\u0019Xz�\r",
      "mW��m��߅�\u0000\u0010�c7��Pua4׺SY���\b��%\u0002D\"ID||���\u0000\u0017�\u0000z-��_\u0001���^�o��Ǫ�`����n��U��̪q���c#\u0018$T�)�Y�?\u0012���\u0012\r",
      "[A\u0007U1�����kY%A�d0��\u0018\u0000a��\u0002��\t�f�IѼ\u0017�\u0002�Ğ/����~լ��j���j\r",
      "-�۲\u0006w\u001b�F�\u0002��\u0006/�?�ׄ�Xts�h�*��S�XL륖���~\u0016gV*��\tU\u0004�\n",
      "�\u0006E\u0000zN���z\u000e�o�h�\u0016�}��\"+x\u0010\".I'�ܒI=I$��\\\u000f��+h> ��Ec�k�\u0007�����m��\u0000I2�\u0010��Չ��3�\u0004a�\u0000\u0019��>(�V��e��y���ѯQZ\b�7\u001239D�cB۝�`('�ր;z+���č7S�t^\u0014ԴMsú�ͫ]���ƿk�O�ch�u��J�\u0018\u000eq]�\u0000\u0014QE\u0000\u0014QE\u0000\u0014QE\u0000\u0014QE\u0000\u0015�?\t��~7�\u0000�\u0003�\u0000H����g�/�����\u0000���\u0013�\u0007�W\u0019���H��?�[��J�����\u0000$Cǟ�-�?�M%\u0000\u001f\u0002�x\u000f�Ž;�\u0000I��θρ?�D<\u0007�\u0000bޝ�\u0000���g@\u0005\u0014Q@\u0005\u0014Q@\u0005\u0014Q@\u0005\u0014Q@\u0005\u0014Q@\u0005\u0014Q@\u0005\u0014Q@\u0005\u0014Q@\u0005\u0014Q@\u0005\u0014Q@\u0005\u0014Q@\u0005\u0014Q@\u0005\u0014Q@\u0005\u0014Q@\u0005\u0014Q@\u0005\u0014Q@\u0005\u0014Q@\u0005\u0014Q@\u001e",
      "3��Nw���?��٫�~\u0012�\u0000���o�\u0000�\u0007��={5\u0000\u0014QE\u0000\u0014QE\u0000\u0014QE\u0000\u0014QE\u0000\u0014QE\u0000\u0014QE\u0000\u0014QE\u0000\u0014QE\u0000\u0014QE\u0000\u0014QE\u0000\u0014QE\u0000\u0014QE\u0000\u0014QE\u0000x������o��W�W��\u0000���6�\u0000ܕ{5\u0000\u0014QE\u0000\u0014U\u000f\u0011k:w��;�kV��=��FY��X�=\u0015A$��\u0000I'\u0002�\u000e��M�)�?\u0015�mJ��;ɢ\u0011��\u0014�ꄶ0\t1�\u0019�\u0019�\u0000h�\u0015������/�m�\u001d",
      "C_�kPg��%��\u0003�`��@\u0019���\u0003�v�P\u0007����<i㯅��\u0015�\"�S�uH�u9���\u0005��\u0012�p�@$���NN�Ϫ|W��\u0000�]K�f�����i\u001fgE\u0003\\���|��ܬl6��>��P\u0007��*о-i�X�\u0000���\u0004Dֻl?�-�O����r.S�L��#�\u0010�\u0000�[�z�\u0019�\u0000�+��3_D�@\u001e",
      "\u0013�M4m\u0013D�w�|`��\u001a�i�./�tș��>v@\u0003�\u000eܴG\u001c",
      "d`\u0011�P+7�i���\u001f�\u0017|>��/�e�a���\u000b",
      "Sok{|\u001d",
      "N�ԅ\f",
      "Uw\u0002�u'��?DTw3�km-����\u0004(d�I\u0018*���Ğ\u0000\u0003��\u0000������t�;�\u0007�m�\r",
      "F��k�6��9�Tk�2\u000e�\u0004�\u0000�\f",
      "�\n",
      "��l|,�\u0000�����\u001e",
      "��u��\u0015x_��;�kĚ>���D�O���D[;wlc���>��9�~$��\u0006t\u001d",
      "a5�-��=\"�;��v�L\f",
      "��uw�\u0014��F;�\u000b",
      "�\u000f�]��};O��l罴��k�x�V�\u0010�2�.��w\u0001����{�\u0014\u0001�W�\u0012h�\u0015��\u0012���[��&���Y�.d���1��\u001a�K���8�\\�6r��\u0000�/�=OE[�j�ºͽ�e�ܰ�X�y<��&\u000e�(un\b`\u000e�1��\u0012�\u0000�_\u0001K�_�\u001e",
      "9е�\f",
      "j\u001a�E��w\u0013ꚥ�W���g�#$;�ˇ�$�\u0006z{U\u0014P\u0001E\u0014P\u0001E\u0014P\u0001E\u0014P\u0001E\u0014P\u0001^3��Nw���?��٫�~\u0012�\u0000���o�\u0000�\u0007��=\u0000{5q�\u001d",
      "��x��ŽG�\u0000I��θώ��D<y�\u0000bޣ�\u0000��P\u0001�'�H���\u0000�[ӿ�:���\u0013�\u0000$C��-���M\u001d",
      "vt\u0000QE\u0014\u0000QE\u0014\u0000QE\u0014\u0000QE\u0014\u0000QE\u0014\u0000QE\u0014\u0000QE\u0014\u0000QE\u0014\u0000QE\u0014\u0000QE\u0014\u0000QE\u0014\u0000QE\u0014\u0000QE\u0014\u0000QE\u0014\u0000QE\u0014\u0000QE\u0014\u0000QE\u0014\u0000QE\u0014\u0001�?\t��~7�\u0000�\u0003�\u0000H����g�/�����\u0000���\u0013׳P\u0001E\u0014P\u0001E\u0014P\u0001E\u0014P\u0001E\u0014P\u0001E\u0014P\u0001E\u0014P\u0001E\u0014P\u0001E\u0014P\u0001E\u0014P\u0001E\u0014P\u0001E\u0014P\u0001E\u0014P\u0001E\u0014P\u0007��\u0000���6�\u0000ܕ{5x������o��W�P\u0001E\u0014P\u0007�\u0016|tu�\u0015i^\u0018�����4y�\u001f���ﲥ�,�\u001d",
      "Ë��ZQ\u0018�\u0002\u0016�\u001e",
      "�A���u�Kľ+�|@�<�.�.�u$�Zu��\u000b",
      "�mn\r",
      "�\u000e��M�FH\u0012a���O9a����\u0010�\u0005�ߎ�k\u000b",
      "[4Ե\r",
      ">\u001d",
      "#Cfe�0�%�>��M!�R!OZ�?�i�\u0016�e����oel���P\bDP�g�\u0005\u0000|M��\u000b",
      "��\u0015��?�~\u001fx�Svկ?���8�E��n�&�/E)����\u000f<W�Z׊�/�\u0005�\u0013�Z����\u0014\u0011ȷd�C\u001b`!\\\u0002[9\\c$�W�x�M���\u000b",
      "]�g?�4;��<��x�\u000b",
      "�m�\u0016�F�v�\u0003�\u0012\u0005'�:��}��~\u0018��<\u0003��Bp�����C`�|a�e�0�e9\u001c",
      "�8�\u000eZ?\u0016x�ű�x+����t�\u0014�<G�,����C�7\\�1��\u001a��M3]�|35�߈_Y�\u0019de���H�HG�\u0004q�\u0015\u0001�\u001c",
      "�u$�/7��m&V��{�j\u001e",
      "\f",
      "�����\u0013��O]֒|��\u0000l�g޺�\t�\u0011����ҟRWei4�\"�\"�\u0000\u000b",
      "m|�'���h\u0003�~\f",
      "�~,���_��\u001e",
      "*��og��\\J��\u0002��\u0011���\u000e�U\u0003\u0003\u0018��8�z���|]��|Y�\u0019%���<%�Z���.d�&��D�3l`K\u0000J�{\n",
      "�4�\b��\u001fڣU�~�\u0002\u000b",
      "Ga\u0015ߝ\u0019�8�X�����\t�\u0018���\u0014xk�^\u000e�٪|F�?�`�]��t�u=8�1��\u0014��G*��)]�\u0002:��\u0006��\u001a���>4�E����^\u0012�\u001d",
      "Ɲa=ą��.O��Ǔ�\r",
      "�\u0010:\u0001^ŬX[�E�v\u0018��@���8;\u001d",
      "J�\u001e",
      "�\u0004ם��\u001e",
      "\u0005ּ\u001d",
      "��z��\u001a��\u0012/\u0012�����v�8\u001aC�ĭ�h�>���3^�@\u001f?�u���\u000f�_\u00034]>\u0000�v>\"��\u0015<�-#UPO~\u0000��\u0000����\u000b",
      "x��w���.�P�� �\u0006�4�6�D1\u0018�@77�9˯\u0003��U�?h�/��{�\u000b",
      "�\u000f�/Tլ�9�.�yq\r",
      "ݜk\"`\u0002��gF.1�(��j~Ӛ/�|a�GS�׆�7{�j���\u0016\u0011qm\u0010��,r\u001f1��W���\u0016�ۚ\u0000�Z�o��+�>*�]�\u0000��)kac��GL����`\u0011\u0019�I����� '�\t���\u000f\u001b�T�v��?��?���\u000eY����G8�dmr#�\u0000T���Y���ֻ�wL��w�M[B���E��4��\u0001\u0005���\u000b",
      "<M\u0018,awB9\u0007�<\u001e",
      "Ǌ�O\u0013x_⮵�>x�g��E��R����X�+s\u001d",
      "�(�\u0017ώUs�)��\u0000�O��\u0015�5�7��z���}B�ɯ�u-~�Gik\bm�\u0002�C,���C�\u0002�S|\r",
      "��|y�}\u0012��E�����Q=��7�e{\u0014�Z9#�6��e��#���\u001axk�v?\u00164�~\u0010����F���t\u001b��������&�\u0016�n\b݃��s��^\u000eԼS�\u001b��\u0010�f\u001f\u000f�\u0002\u000b",
      "X\u001a�nn\u0018��半>�\u0002�w�8�\u000e��(�\u0002�(�\u0002�(�\u0002�(�\u0002�(�\u0002�g�/�����\u0000���\u0013׳W��%�\u0000�����\u0000p\u000f�\"z\u0000�j�>;�\u0010����z���I]�q�\u001d",
      "��x��ŽG�\u0000I��\u0003�O��\u000f\u0001�\u0000ط��4u��\u0019�'�H���\u0000�[ӿ�:��\u0000��(\u0000��(\u0000��(\u0000��(\u0000��(\u0000��(\u0000��(\u0000��(\u0000��(\u0000��(\u0000��(\u0000��(\u0000��(\u0000��(\u0000��(\u0000��(\u0000��(\u0000��(\u0003�~\u0012�\u0000���o�\u0000�\u0007��={5x��_�9ߍ�\u0000�\u0000�\u0000�'�f�\u0002�(�\u0002�(�\u0002�(�\u0002�(�\u0002�(�\u0002�(�\u0002�(�\u0002�(�\u0002�(�\u0002�(�\u0002�(�\u0002�(�\u0002�(�\u000f\u0019�\u0000���\u0000�m�\u0000�*�j����������f�\u0002�(�\u0002�(�\u0002�|S�i^\u0018���5˿�i�1\u0019�f��� �v�,\u0000kJ��\u0000���5m{��t}\u000e�[�F��˂�,n��\\��l�\u0005\u000f\u0007|�I�\u000f\u0012��sþ,�n�z̶�g]G��,~g�(�I����˟\u001c",
      "x��>(�}��|?�DмE{\u001e",
      "�\u0001ҚSu���ybV�Aؕ\u000b",
      "ПL����?\u0011�~;6�_�\u0001��\u0002���6�ʾ�m�\u0013�ɹԜ7��\u0000{�\u0015��\u0002�A���\u001f�?�Z\u0007�<�\u0010�\u000b",
      "\u001d",
      ">\b~��7�_b�����y��&�3�\u0000���g�\t-?��\u0000�C�W�o\u0006|8������ow)�\u0007�4�op2F#F#�Z���ⷀ~$�}\u0017����G�Tk��I��\u001f;֢�;OL�9�f��z��\u001e",
      "���3Ʒ�S\\�u��\u0010YH^ݣY�F8L�;Ts�q��E���~%?\u00155o�^9��85�m95KK�\u0018H��6�\u0010RBY\\1� ���\u0007�ז���V�����R>\n",
      "�m���,�\u001d",
      "B�,���=���ܬ�>u�/z�*��ڊ����x����/6��b\u0005��,qԟZ\u0000�������*���(�\u0007�!�m2��Z\u0018eT��9�\u001d",
      "���\u0001Q��C�/��Rj�\b|3\u0000�����\n",
      "�`��X��lZ�\u0001h˫\u0005lq�\u001a�ٓE�o��\u001e",
      "�k�z���\u0015I-���E�\u001e",
      "T��ʇ�-����RN�\n",
      "�/R@>���\u000b",
      "�\u0005޽��?��g}�~y�\u0014�v�W�]﹆(\u0012=����\u001c",
      "\u001c",
      "�\u0000|�F\t�`E�\u0017Śo���K;�J��>*�-�2��@I,��\u001af\be*�T�\u0000\t�F(\u0003��+�|\u001bc�\u000b",
      "L���>��x���\u00176�E�/�u�[�.`���\u001d",
      "�2�%��U��\u000e;�j�\u0002�(�\u0002�(�\u0002�(�\u0002�(�\u0002�g�/�����\u0000���\u0013׳W��%�\u0000�����\u0000p\u000f�\"z\u0000�j�>;�\u0010����z���I]�q�\u001d",
      "��x��ŽG�\u0000I��\u0003�O��\u000f\u0001�\u0000ط��4u��\u0019�'�H���\u0000�[ӿ�:��\u0000��(\u0000��(\u0000��(\u0000��(\u0000��(\u0000��(\u0000��(\u0000��(\u0000��(\u0000��(\u0000��(\u0000��(\u0000��(\u0000��(\u0000��(\u0000��(\u0000��(\u0000��(\u0003�~\u0012�\u0000���o�\u0000�\u0007��={5x��_�9ߍ�\u0000�\u0000�\u0000�'�f�\u0002�(�\u0002�(�\u0002�(�\u0002�(�\u0002�(�\u0002�(�\u0002�(�\u0002�(�\u0002�(�\u0002�(�\u0002�(�\u0002�(�\u0002�(�\u000f\u0019�\u0000���\u0000�m�\u0000�*�j����������f�\u0002�(�\u0002�(�\u0002�<y�_\u0018xCR����ݤ7��f{Y\f",
      "r������\b\u0007��\u0006��\u000f!�~\u000fkw~#����\u0000�W^,��Ԃ}*�i��(�\u0000\u0016Y�Y���\u0004\u001e",
      "9\u0019�s�x��~\u0007�\u0016����\u000f\u0006xwW��\u0013�\u0017�d3ɴt]Τ�d�]\u0015\u0014\u0001���\u0000\u0005x7��i��𖁤��?.��:t0y���أp��k+�\u0015?���&�\f",
      "�\u0000�\u0015��\u0000\u0011]�\u0014\u0001�x�\u0000�zޟ���5�|\u0019}�錚d�}�\u001bxԌ4oo�\u0000q�?:����9|;��W��#�$�'�N�\u0002ZIz֩m\u00146�A\u0011E\u0012�\u0014\u0012\u0001$��\u0007�}\u0012�\u0000+�����SǾ\u0004�𞟮Y���1�n�Ok�1�p�K\u0018V�\u001c",
      "��\u001d",
      "��gE\u0000s\u001e",
      "\u0013��E��\u0002���iwZ���Z�ލ-�\u0010��P�>y,p9ċ��V?��\u0000j�\r",
      "<\u0017\u001f�.�Cg�Y���k$zkZȦI\u001e",
      "G�L�\u0006��\\\u0001�s�E\u0000yM��}cH�|\\�\u0007�\u001e",
      "�D�M���v\u000f���Cq2�G�R�\u0001�����U��\u0000�0K�KO�g�\u000f\u0010\u001b�왖m+U��6��Ȅ�ra��\u0017\u0005�\u0012\b\u0005N0\u000f5��P\u0007\u0013�?\f",
      "x��P���?�i5�-\u0001�om�Ef�\u0004�Pf!��3�)A�\t\u001c",
      "b�j(�\u0002�(�\u0002�(�\u0002�(�\u0002�(�\u0002�g�/�����\u0000���\u0013׳W��%�\u0000�����\u0000p\u000f�\"z\u0000�j�>;�\u0010����z���I]�q�\u001d",
      "��x��ŽG�\u0000I��\u0003�O��\u000f\u0001�\u0000ط��4u��\u0019�'�H���\u0000�[ӿ�:��\u0000��(\u0000��(\u0000��(\u0000��(\u0000��(\u0000��(\u0000��(\u0000��(\u0000��(\u0000��(\u0000��(\u0000��(\u0000��(\u0000��(\u0000��(\u0000��(\u0000��(\u0000��(\u0003�~\u0012�\u0000���o�\u0000�\u0007��={5x��_�9ߍ�\u0000�\u0000�\u0000�'�f�\u0002�(�\u0002�(�\u0002�(�\u0002�(�\u0002�(�\u0002�(�\u0002�(�\u0002�(�\u0002�(�\u0002�(�\u0002�(�\u0002�(�\u0002�(�\u000f\u0019�\u0000���\u0000�m�\u0000�*�j����������f�\u0002�(�\u0002�(�\u0002�(�\u0002�(�\u0002�(�\u0002�(�\u0002�(�\u0002�(�\u0002�(�\u0002�(�\u0002�(�\u0002�(�\u0002�(�\u0002�(�\u0002�g�/�����\u0000���\u0013׳W��%�\u0000�����\u0000p\u000f�\"z\u0000�j�>;�\u0010����z���I]�q�\u001d",
      "��x��ŽG�\u0000I��\u0003�O��\u000f\u0001�\u0000ط��4u��\u0019�'�H���\u0000�[ӿ�:��\u0000��(\u0000��(\u0000��(\u0000��(\u0000��(\u0000��(\u0000��(\u0000��(\u0000��(\u0000��(\u0000��(\u0000��(\u0000��(\u0000��(\u0000��(\u0000��(\u0000��(\u0000��(\u0003�~\u0012�\u0000���o�\u0000�\u0007��={5x��_�9ߍ�\u0000�\u0000�\u0000�'�f�\u0002�(�\u0002�(�\u0002�(�\u0002�(�\u0002�(�\u0002�(�\u0002�(�\u0002�(�\u0002�(�\u0002�(�\u0002�(�\u0002�(�\u0002�(�\u000f\u0019�\u0000���\u0000�m�\u0000�*�j����������f�\u0002�(�\u0002�(�\u0002�(�\u0002�(�\u0002�(�\u0002�(�\u0002�(�\u0002�(�\u0002�(�\u0002�(�\u0002�(�\u0002�(�\u0002�(�\u0002�(�\u0002�g�/�����\u0000���\u0013׳W��%�\u0000�����\u0000p\u000f�\"z\u0000�j�>;�\u0010����z���I]�cx�B�\u0000������~��O�}6���\u001e",
      "^�\u0000+͉�~܍�ݜdg\u001d",
      "E\u0000b�\t�\u0000�!�?�\u0016���&��:��\u000b",
      "�?�}\u000fC��4��\u000f��\u001a}�v���\u001bh�\\Q�T\\��p�\f",
      "�O�]�\u0000�w����/�\u0000,�/�*�=����W\u001d",
      "����\u0000�ʲ�\u0000��\u0000�w����/�\u0000,�/�*�=����W\u001d",
      "����\u0000�ʲ�\u0000��\u0000�w����/�\u0000,�/�*�=����W\u001d",
      "����\u0000�ʲ�\u0000��\u0000�w����/�\u0000,�/�*�=����W\u001d",
      "����\u0000�ʲ�\u0000��\u0000�w����/�\u0000,�/�*�=����W\u001d",
      "����\u0000�ʲ�\u0000��\u0000�w����/�\u0000,�/�*�=����W\u001d",
      "����\u0000�ʲ�\u0000��\u0000�w����/�\u0000,�/�*�=����W\u001d",
      "����\u0000�ʲ�\u0000��\u0000�w����/�\u0000,�/�*�=����W\u001d",
      "����\u0000�ʲ�\u0000��\u0000�w����/�\u0000,�/�*�=����W\u001d",
      "����\u0000�ʲ�\u0000��\u0000�w����/�\u0000,�/�*�=����W\u001d",
      "����\u0000�ʲ�\u0000��\u0000�w����/�\u0000,�/�*�=����W\u001d",
      "����\u0000�ʲ�\u0000��\u0000�w����/�\u0000,�/�*�=����W\u001d",
      "����\u0000�ʲ�\u0000��\u0000�w����/�\u0000,�/�*�=����W\u001d",
      "����\u0000�ʲ�\u0000��\u0000�w����/�\u0000,�/�*�=����W\u001d",
      "����\u0000�ʲ�\u0000��\u0000�w����/�\u0000,�/�*�=����W\u001d",
      "����\u0000�ʲ�\u0000��\u0000�w����/�\u0000,�/�*�=����W\u001d",
      "����\u0000�ʲ�\u0000��\u0000�w����/�\u0000,�/�*�=����W\u001d",
      "����\u0000�ʲ�\u0000��\u0000�w����/�\u0000,�/�*�=����W\u001d",
      "����\u0000�ʲ�\u0000��\u0000�w����/�\u0000,�/�*�\u000f���s�\u001b�\u0000�\u0001�\u0000�O^�^g�oᦻ�\u0013����&��%���~����줲��dt_�\u001c",
      "�ʲ�\u0002���צP\u0001E\u0014P\u0001E\u0014P\u0001E\u0014P\u0001E\u0014P\u0001E\u0014P\u0001E\u0014P\u0001E\u0014P\u0001E\u0014P\u0001E\u0014P\u0001E\u0014P\u0001E\u0014P\u0001E\u0014P\u0001E\u0014P\u0007��\u0000���6�\u0000ܕ{5x������o�\u0000�*�j\u0000(��\u0000(��\u0000(��\u0000(��\u0000(��\u0000(��\u0000(��\u0000(��\u0000(��\u0000(��\u0000(��\u0000(��\u0000(��\u0000(��\u0000+�~\u0012�\u0000���o�\u0000�\u0007��={5x��O�9ύ��H?��\u0003٨��\u0000(��\u0000(��\u0000(��\u0000(��\u0000(��\u0000(��\u0000(��\u0000(��\u0000(��\u0000(��\u0000(��\u0000(��\u0000(��\u0000(��\u0000(��\u0000(��\u0000(��\u0000(��\u0000(��\u0000(��\u0000(��\u0000(��\u0000(��\u0000(��\u0000(��\u0000(��\u0000(��\u0000(��\u0000(��\u0000(��\u0000(��\u0000(��\u0000(��\u0000�o\u001e",
      "8��\u0000�]�\u001d",
      "z��^ѯ4\u0013!�#\t�S���z����7�\f",
      "�A�;�w���Օ�z��|:��Ds\u001b}\u000f*}���V\u0007�ߌz~�r<#�ď;�\u0002;�:��ir�<�w?,��@\u0004��@�@=b�(�\u0002�(�\u0002�(�\u0002�(�\u0002�(�\u0002�(�\u0002�(�\u0002�(�\u0002�(�\u0002�(�\u0002�(�\u0002�(�\u0002�(�\u0002�)\u001d",
      "�4gvUE\u0019f'\u0000\u000fS@\u000b",
      "^/�8���m�W��|ֺ��ō�����!\u0010u�S���\u001a��w�I�Iu?���ǭ���L7z��n�Ѣn\u001e",
      "i%\u001f)p3�A'>�)�~\u000f�<\u0005�]'�ZNZ�O�'��\r",
      "+�Y�ovb���\u0007GE\u0014P\u0001E\u0014P\u0001E\u0014P\u0001E\u0014P\u0001E\u0014P\u0001E\u0014P\u0001E\u0014P\u0001E\u0014P\u0001E\u0014P\u0001E\u0014P\u0001E\u0014P\u0001E\u0014P\u0001E\u0014P\u0001E\u0014P\u0001E\u0014P\u0001E\u0014P\u0001E\u0014P\u0001E\u0014P\u0001E\u0014P\u0001E\u0014P\u0001E\u0014P\u0001E\u0014P\u0001E\u0014P\u0001E\u0014P\u0001E\u0014P\u0001E\u0014P\u0001E\u0014P\u0001E\u0014P\u0001E\u0014P\u0001E\u0014P\u0001E\u0014P\u0001E\u0014P\u0001E\u0014P\u0001E\u0014P\u0001\\\r",
      "�\u000f\u001c",
      "���ž\u001e",
      "���\\�fx�x��c�2�H���\u0000���<3f<�\u000e���/��\u001fv\r",
      "+�RG\u001a�@\u001c",
      "1�i�A�j���\u0000�G�\u0000j�f��<g�\u0014\u0017�V����T��?�A�j���\u0000�G�\u0000j�f��<g�\u0014\u0017�V����T��?�A�j���\u0000�G�\u0000j�f��<g�\u0014\u0017�V����T��?�A�j���\u0000�G�\u0000j�f��<g�\u0014\u0017�V����T��?�A�j���\u0000�G�\u0000j�f��<g�\u0014\u0017�V����T��?�A�j���\u0000�G�\u0000j�f��<g�\u0014\u0017�V����T��?�A�j���\u0000�G�\u0000j�f��<g�\u0014\u0017�V����T��?�A�j���\u0000�G�\u0000j�f��<g�\u0014\u0017�V����T��?�A�j���\u0000�G�\u0000j�f��<g�\u0014\u0017�V����T��?�A�j���\u0000�G�\u0000j�f��<g�\u0014\u0017�V����T��?�A�j���\u0000�G�\u0000j�f��<g�\u0014\u0017�V����T��?�A�j���\u0000�G�\u0000j�f��<g�\u0014\u0017�V����T��?�A�j���\u0000�G�\u0000j�f��<g�\u0014\u0017�V����T��\u0007����_�I�C�\u0016D\u000eL:ο,�~�6W�Q@\u0019>\u0014�χ�'����\u001a�I�S�&�\u0010���\u001c",
      "r���ֵ\u0014P\u0001E\u0014P\u0001E\u0014P\u0001E\u0014P\u0001E\u0014P\u0001E\u0014P\u0001E\u0014P\u0001E\u0014P\u0001E\u0014P\u0001E\u0014P\u0001E\u0014P\u0001E\u0014P\u0001E\u0014P\u0001E\u0014P\u0001E\u0014P\u0001E\u0014P\u0001E\u0014P\u0001E\u0014P\u0001E\u0014P\u0001E\u0014P\u0001E\u0014P\u0001E\u0014P\u0001E\u0014P\u0001E\u0014P\u0001E\u0014P\u0001E\u0014P\u0001E\u0014P\u0001E\u0014P\u0001E\u0014P\u0001E\u0014P\u0001E\u0014P\u0001E\u0014P\u0001E\u0014P\u0001E\u0014P\u0001E\u0014P\u0001E\u0014P\u0001E\u0014P\u0001E\u0014P\u0001E\u0014P\u0001E\u0014P\u0001E\u0014P\u0001E\u0014P\u0001E\u0014P\u0001E\u0014P\u0001E\u0014P\u0001E\u0014P\u0001E\u0014P\u0001E\u0014P\u0001E\u0014P\u0001E\u0014P\u0001E\u0014P\u0001E\u0014P\u0001E\u0014P\u0001E\u0014P\u0001E\u0014P\u0001E\u0014P\u0001E\u0014P\u0001E\u0014P\u0001E\u0014P\u0001E\u0014P\u0001E\u0014P\u0001E\u0014P\u0001E\u0014P\u0001E\u0014P\u0001E\u0014P\u0001E\u0014P\u0001E\u0014P\u0001E\u0014P\u0001E\u0014P\u0001E\u0014P\u0001E\u0014P\u0001E\u0014P\u0001E\u0014P\u0001E\u0014P\u0001E\u0014P\u0001E\u0014P\u0001E\u0014P\u0001E\u0014P\u0001E\u0014P\u0001E\u0014P\u0001E\u0014P\u0001E\u0014P\u0001E\u0014P\u0001E\u0014P\u0001E\u0014P\u0001E\u0014P\u0001E\u0014P\u0001E\u0014P\u0001E\u0014P\u0001E\u0014P\u0001E\u0014P\u0001E\u0014P\u0001E\u0014P\u0001E\u0014P\u0001E\u0014P\u0001E\u0014P\u0001E\u0014P\u0001E\u0014P\u0001E\u0014P\u0001E\u0014P\u0001E\u0014P\u0007��\n"
     ]
    }
   ],
   "source": [
    "f=open(\"5.jpg\",\"r\")\n",
    "print f.read()"
   ]
  },
  {
   "cell_type": "code",
   "execution_count": 47,
   "metadata": {
    "collapsed": true
   },
   "outputs": [],
   "source": [
    "f=open(\"5.jpg\",\"r\")\n",
    "data = f.read()\n",
    "f.close()\n",
    "f=open(\"5_copy.jpg\",\"w\")\n",
    "f.write(data)\n",
    "f.close()"
   ]
  },
  {
   "cell_type": "code",
   "execution_count": 48,
   "metadata": {
    "collapsed": true
   },
   "outputs": [],
   "source": [
    "f=open(\"5.jpg\",\"rb\")\n",
    "data = f.read()\n",
    "f.close()\n",
    "f=open(\"5_copy.jpg\",\"wb\")\n",
    "f.write(data)\n",
    "f.close()"
   ]
  },
  {
   "cell_type": "code",
   "execution_count": 49,
   "metadata": {},
   "outputs": [
    {
     "name": "stdout",
     "output_type": "stream",
     "text": [
      "[10, 12, 14, 16, 18, 20, 22, 24, 26, 28]\n"
     ]
    }
   ],
   "source": [
    "def fun(a,b):\n",
    "    return a+b\n",
    "print map(fun,range(10),range(10,20))"
   ]
  },
  {
   "cell_type": "code",
   "execution_count": 50,
   "metadata": {},
   "outputs": [
    {
     "ename": "TypeError",
     "evalue": "filter expected 2 arguments, got 3",
     "output_type": "error",
     "traceback": [
      "\u001b[0;31m---------------------------------------------------------------------------\u001b[0m",
      "\u001b[0;31mTypeError\u001b[0m                                 Traceback (most recent call last)",
      "\u001b[0;32m<ipython-input-50-e5065ae910e7>\u001b[0m in \u001b[0;36m<module>\u001b[0;34m()\u001b[0m\n\u001b[1;32m      1\u001b[0m \u001b[0;32mdef\u001b[0m \u001b[0mfun\u001b[0m\u001b[0;34m(\u001b[0m\u001b[0ma\u001b[0m\u001b[0;34m,\u001b[0m\u001b[0mb\u001b[0m\u001b[0;34m)\u001b[0m\u001b[0;34m:\u001b[0m\u001b[0;34m\u001b[0m\u001b[0m\n\u001b[1;32m      2\u001b[0m     \u001b[0;32mreturn\u001b[0m \u001b[0ma\u001b[0m\u001b[0;34m+\u001b[0m\u001b[0mb\u001b[0m\u001b[0;34m\u001b[0m\u001b[0m\n\u001b[0;32m----> 3\u001b[0;31m \u001b[0;32mprint\u001b[0m \u001b[0mfilter\u001b[0m\u001b[0;34m(\u001b[0m\u001b[0mfun\u001b[0m\u001b[0;34m,\u001b[0m\u001b[0mrange\u001b[0m\u001b[0;34m(\u001b[0m\u001b[0;36m10\u001b[0m\u001b[0;34m)\u001b[0m\u001b[0;34m,\u001b[0m\u001b[0mrange\u001b[0m\u001b[0;34m(\u001b[0m\u001b[0;36m10\u001b[0m\u001b[0;34m,\u001b[0m\u001b[0;36m20\u001b[0m\u001b[0;34m)\u001b[0m\u001b[0;34m)\u001b[0m\u001b[0;34m\u001b[0m\u001b[0m\n\u001b[0m",
      "\u001b[0;31mTypeError\u001b[0m: filter expected 2 arguments, got 3"
     ]
    }
   ],
   "source": [
    "def fun(a,b):\n",
    "    return a+b\n",
    "print filter(fun,range(10),range(10,20))"
   ]
  },
  {
   "cell_type": "code",
   "execution_count": 51,
   "metadata": {},
   "outputs": [
    {
     "name": "stdout",
     "output_type": "stream",
     "text": [
      "[1, 2, 3, 4]\n"
     ]
    }
   ],
   "source": [
    "l=[1,2,None,3,None,4,None]\n",
    "print filter(None,l)"
   ]
  },
  {
   "cell_type": "code",
   "execution_count": 52,
   "metadata": {},
   "outputs": [
    {
     "data": {
      "text/plain": [
       "[0, 1, 2, 3, 4, 5, 6, 7, 8, 9, 10, 11, 12, 13, 14, 15, 16, 17, 18, 19]"
      ]
     },
     "execution_count": 52,
     "metadata": {},
     "output_type": "execute_result"
    }
   ],
   "source": [
    "range(20)"
   ]
  },
  {
   "cell_type": "code",
   "execution_count": 53,
   "metadata": {},
   "outputs": [
    {
     "name": "stdout",
     "output_type": "stream",
     "text": [
      "[True, False, True, False, True, False, True, False, True, False, True, False, True, False, True, False, True, False, True, False]\n"
     ]
    }
   ],
   "source": [
    "def fun(n):\n",
    "    return n%2==0\n",
    "print map(fun,range(20))"
   ]
  },
  {
   "cell_type": "code",
   "execution_count": 54,
   "metadata": {},
   "outputs": [
    {
     "name": "stdout",
     "output_type": "stream",
     "text": [
      "[True, False, True, False, True, False, True, False, True, False, True, False, True, False, True, False, True, False, True, False]\n",
      "[0, 2, 4, 6, 8, 10, 12, 14, 16, 18]\n"
     ]
    }
   ],
   "source": [
    "def fun(n):\n",
    "    return n%2==0\n",
    "print map(fun,range(20))\n",
    "print filter(fun,range(20))"
   ]
  },
  {
   "cell_type": "code",
   "execution_count": 55,
   "metadata": {},
   "outputs": [
    {
     "name": "stdout",
     "output_type": "stream",
     "text": [
      "[True, False, True, False, True, False, True, False, True, False, True, False, True, False, True, False, True, False, True, False]\n",
      "[0, 2, 4, 6, 8, 10, 12, 14, 16, 18]\n"
     ]
    }
   ],
   "source": [
    "print map(lambda x:x%2==0,range(20))\n",
    "print filter(lambda x:x%2==0,range(20))"
   ]
  },
  {
   "cell_type": "code",
   "execution_count": 56,
   "metadata": {},
   "outputs": [
    {
     "name": "stdout",
     "output_type": "stream",
     "text": [
      "a=1,b=3\n",
      "a=4,b=5\n",
      "a=9,b=7\n",
      "a=16,b=9\n",
      "25\n"
     ]
    }
   ],
   "source": [
    "def fun(a,b):\n",
    "    print \"a=%s,b=%s\"%(a,b)\n",
    "    return a+b\n",
    "print reduce(fun,[1,3,5,7,9])"
   ]
  },
  {
   "cell_type": "code",
   "execution_count": 57,
   "metadata": {},
   "outputs": [
    {
     "name": "stdout",
     "output_type": "stream",
     "text": [
      "a=1,b=3\n",
      "a=-2,b=5\n",
      "a=-7,b=7\n",
      "a=-14,b=9\n",
      "-23\n"
     ]
    }
   ],
   "source": [
    "def fun(a,b):\n",
    "    print \"a=%s,b=%s\"%(a,b)\n",
    "    return a-b\n",
    "print reduce(fun,[1,3,5,7,9])"
   ]
  },
  {
   "cell_type": "code",
   "execution_count": 58,
   "metadata": {},
   "outputs": [
    {
     "name": "stdout",
     "output_type": "stream",
     "text": [
      "45\n"
     ]
    }
   ],
   "source": [
    "l=[1,3,6,8,23,45,8,9,26]\n",
    "def fun(a,b):\n",
    "    return a if a>b else b\n",
    "print reduce(fun,l)"
   ]
  },
  {
   "cell_type": "code",
   "execution_count": 59,
   "metadata": {},
   "outputs": [
    {
     "name": "stdout",
     "output_type": "stream",
     "text": [
      "45\n"
     ]
    }
   ],
   "source": [
    "l=[1,3,6,8,23,45,8,9,26]\n",
    "print reduce(lambda x,y: x if x>y else y,l)"
   ]
  },
  {
   "cell_type": "code",
   "execution_count": null,
   "metadata": {
    "collapsed": true
   },
   "outputs": [],
   "source": []
  }
 ],
 "metadata": {
  "kernelspec": {
   "display_name": "Python 2",
   "language": "python",
   "name": "python2"
  },
  "language_info": {
   "codemirror_mode": {
    "name": "ipython",
    "version": 2
   },
   "file_extension": ".py",
   "mimetype": "text/x-python",
   "name": "python",
   "nbconvert_exporter": "python",
   "pygments_lexer": "ipython2",
   "version": "2.7.14"
  }
 },
 "nbformat": 4,
 "nbformat_minor": 2
}
