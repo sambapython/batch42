{
 "cells": [
  {
   "cell_type": "code",
   "execution_count": 1,
   "metadata": {},
   "outputs": [
    {
     "name": "stdout",
     "output_type": "stream",
     "text": [
      "30\n",
      "-10\n",
      "200\n"
     ]
    }
   ],
   "source": [
    "# databinding\n",
    "# inheritance\n",
    "# polymorphism\n",
    "# encapsulation\n",
    "def add(a,b):\n",
    "    c=a+b\n",
    "    return a+b\n",
    "def sub(a,b):\n",
    "    return a-b\n",
    "def mul(a,b):\n",
    "    return a*b\n",
    "print add(10,20)\n",
    "print sub(10,20)\n",
    "print mul(10,20)"
   ]
  },
  {
   "cell_type": "code",
   "execution_count": 2,
   "metadata": {},
   "outputs": [
    {
     "name": "stdout",
     "output_type": "stream",
     "text": [
      "this is class\n"
     ]
    }
   ],
   "source": [
    "def fun():\n",
    "    print \"this is fun\"\n",
    "class ClassName:\n",
    "    print \"this is class\""
   ]
  },
  {
   "cell_type": "code",
   "execution_count": 3,
   "metadata": {},
   "outputs": [
    {
     "name": "stdout",
     "output_type": "stream",
     "text": [
      "this is class\n"
     ]
    }
   ],
   "source": [
    "def fun():\n",
    "    print \"this is fun\"\n",
    "class ClassName:\n",
    "    print \"this is class\"\n",
    "    def method():\n",
    "        print \"this is method in class\""
   ]
  },
  {
   "cell_type": "code",
   "execution_count": 4,
   "metadata": {},
   "outputs": [
    {
     "name": "stdout",
     "output_type": "stream",
     "text": [
      "this is class\n",
      "this is method in class\n"
     ]
    }
   ],
   "source": [
    "def fun():\n",
    "    print \"this is fun\"\n",
    "class ClassName:\n",
    "    print \"this is class\"\n",
    "    def method():\n",
    "        print \"this is method in class\"\n",
    "    method()"
   ]
  },
  {
   "cell_type": "code",
   "execution_count": 5,
   "metadata": {},
   "outputs": [
    {
     "name": "stdout",
     "output_type": "stream",
     "text": [
      "this is class\n"
     ]
    },
    {
     "ename": "NameError",
     "evalue": "name 'a' is not defined",
     "output_type": "error",
     "traceback": [
      "\u001b[0;31m---------------------------------------------------------------------------\u001b[0m",
      "\u001b[0;31mNameError\u001b[0m                                 Traceback (most recent call last)",
      "\u001b[0;32m<ipython-input-5-883694a2dd2e>\u001b[0m in \u001b[0;36m<module>\u001b[0;34m()\u001b[0m\n\u001b[1;32m      6\u001b[0m         \u001b[0;32mprint\u001b[0m \u001b[0;34m\"this is method in class\"\u001b[0m\u001b[0;34m\u001b[0m\u001b[0m\n\u001b[1;32m      7\u001b[0m \u001b[0;34m\u001b[0m\u001b[0m\n\u001b[0;32m----> 8\u001b[0;31m \u001b[0;32mprint\u001b[0m \u001b[0ma\u001b[0m\u001b[0;34m,\u001b[0m\u001b[0mb\u001b[0m\u001b[0;34m\u001b[0m\u001b[0m\n\u001b[0m",
      "\u001b[0;31mNameError\u001b[0m: name 'a' is not defined"
     ]
    }
   ],
   "source": [
    "class ClassName:\n",
    "    print \"this is class\"\n",
    "    a=10\n",
    "    b=20\n",
    "    def method():\n",
    "        print \"this is method in class\"\n",
    "    \n",
    "print a,b"
   ]
  },
  {
   "cell_type": "code",
   "execution_count": 6,
   "metadata": {},
   "outputs": [
    {
     "name": "stdout",
     "output_type": "stream",
     "text": [
      "this is class\n",
      "10 20\n"
     ]
    }
   ],
   "source": [
    "class ClassName:\n",
    "    print \"this is class\"\n",
    "    a=10\n",
    "    b=20\n",
    "    def method():\n",
    "        print \"this is method in class\"\n",
    "    \n",
    "print ClassName.a,ClassName.b"
   ]
  },
  {
   "cell_type": "code",
   "execution_count": 7,
   "metadata": {},
   "outputs": [
    {
     "name": "stdout",
     "output_type": "stream",
     "text": [
      "this is class\n",
      "10 20\n"
     ]
    },
    {
     "ename": "TypeError",
     "evalue": "unbound method op1() must be called with ClassName instance as first argument (got int instance instead)",
     "output_type": "error",
     "traceback": [
      "\u001b[0;31m---------------------------------------------------------------------------\u001b[0m",
      "\u001b[0;31mTypeError\u001b[0m                                 Traceback (most recent call last)",
      "\u001b[0;32m<ipython-input-7-7e1b298b79ed>\u001b[0m in \u001b[0;36m<module>\u001b[0;34m()\u001b[0m\n\u001b[1;32m      9\u001b[0m \u001b[0;34m\u001b[0m\u001b[0m\n\u001b[1;32m     10\u001b[0m \u001b[0;32mprint\u001b[0m \u001b[0mClassName\u001b[0m\u001b[0;34m.\u001b[0m\u001b[0ma\u001b[0m\u001b[0;34m,\u001b[0m\u001b[0mClassName\u001b[0m\u001b[0;34m.\u001b[0m\u001b[0mb\u001b[0m\u001b[0;34m\u001b[0m\u001b[0m\n\u001b[0;32m---> 11\u001b[0;31m \u001b[0mClassName\u001b[0m\u001b[0;34m.\u001b[0m\u001b[0mop1\u001b[0m\u001b[0;34m(\u001b[0m\u001b[0;36m10\u001b[0m\u001b[0;34m,\u001b[0m\u001b[0;36m20\u001b[0m\u001b[0;34m)\u001b[0m\u001b[0;34m\u001b[0m\u001b[0m\n\u001b[0m",
      "\u001b[0;31mTypeError\u001b[0m: unbound method op1() must be called with ClassName instance as first argument (got int instance instead)"
     ]
    }
   ],
   "source": [
    "class ClassName:\n",
    "    print \"this is class\"\n",
    "    a=10\n",
    "    b=20\n",
    "    def method():\n",
    "        print \"this is method in class\"\n",
    "    def op1(x,y):\n",
    "        print \"this is op1 in class\"\n",
    "    \n",
    "print ClassName.a,ClassName.b\n",
    "ClassName.op1(10,20)"
   ]
  },
  {
   "cell_type": "code",
   "execution_count": 8,
   "metadata": {},
   "outputs": [
    {
     "name": "stdout",
     "output_type": "stream",
     "text": [
      "this is class\n",
      "10 20\n"
     ]
    },
    {
     "ename": "TypeError",
     "evalue": "unbound method op1() must be called with ClassName instance as first argument (got int instance instead)",
     "output_type": "error",
     "traceback": [
      "\u001b[0;31m---------------------------------------------------------------------------\u001b[0m",
      "\u001b[0;31mTypeError\u001b[0m                                 Traceback (most recent call last)",
      "\u001b[0;32m<ipython-input-8-361164af119c>\u001b[0m in \u001b[0;36m<module>\u001b[0;34m()\u001b[0m\n\u001b[1;32m     11\u001b[0m \u001b[0;31m#ClassName.op1(10,20)\u001b[0m\u001b[0;34m\u001b[0m\u001b[0;34m\u001b[0m\u001b[0m\n\u001b[1;32m     12\u001b[0m \u001b[0minst1\u001b[0m \u001b[0;34m=\u001b[0m \u001b[0mClassName\u001b[0m\u001b[0;34m(\u001b[0m\u001b[0;34m)\u001b[0m\u001b[0;34m\u001b[0m\u001b[0m\n\u001b[0;32m---> 13\u001b[0;31m \u001b[0mClassName\u001b[0m\u001b[0;34m.\u001b[0m\u001b[0mop1\u001b[0m\u001b[0;34m(\u001b[0m\u001b[0;36m10\u001b[0m\u001b[0;34m,\u001b[0m\u001b[0;36m20\u001b[0m\u001b[0;34m)\u001b[0m\u001b[0;34m\u001b[0m\u001b[0m\n\u001b[0m",
      "\u001b[0;31mTypeError\u001b[0m: unbound method op1() must be called with ClassName instance as first argument (got int instance instead)"
     ]
    }
   ],
   "source": [
    "class ClassName:\n",
    "    print \"this is class\"\n",
    "    a=10\n",
    "    b=20\n",
    "    def method():\n",
    "        print \"this is method in class\"\n",
    "    def op1(x,y):\n",
    "        print \"this is op1 in class\"\n",
    "    \n",
    "print ClassName.a,ClassName.b\n",
    "#ClassName.op1(10,20)\n",
    "inst1 = ClassName()\n",
    "ClassName.op1(10,20)"
   ]
  },
  {
   "cell_type": "code",
   "execution_count": 9,
   "metadata": {},
   "outputs": [
    {
     "name": "stdout",
     "output_type": "stream",
     "text": [
      "this is class\n",
      "10 20\n",
      "this is op1 in class\n"
     ]
    }
   ],
   "source": [
    "class ClassName:\n",
    "    print \"this is class\"\n",
    "    a=10\n",
    "    b=20\n",
    "    def method():\n",
    "        print \"this is method in class\"\n",
    "    def op1(x,y):\n",
    "        print \"this is op1 in class\"\n",
    "    \n",
    "print ClassName.a,ClassName.b\n",
    "#ClassName.op1(10,20)\n",
    "inst1 = ClassName()\n",
    "ClassName.op1(inst1,20)"
   ]
  },
  {
   "cell_type": "code",
   "execution_count": 10,
   "metadata": {},
   "outputs": [
    {
     "name": "stdout",
     "output_type": "stream",
     "text": [
      "this is class\n"
     ]
    }
   ],
   "source": [
    "class emp:\n",
    "    print \"this is class\"\n"
   ]
  },
  {
   "cell_type": "code",
   "execution_count": 11,
   "metadata": {
    "collapsed": true
   },
   "outputs": [],
   "source": [
    "anil=emp()\n",
    "ashok=emp()\n",
    "ajay=emp()"
   ]
  },
  {
   "cell_type": "code",
   "execution_count": 12,
   "metadata": {},
   "outputs": [
    {
     "name": "stdout",
     "output_type": "stream",
     "text": [
      "this is class\n"
     ]
    }
   ],
   "source": [
    "class emp:\n",
    "    print \"this is class\"\n",
    "anil=emp()\n",
    "ashok=emp()\n",
    "ajay=emp()"
   ]
  },
  {
   "cell_type": "code",
   "execution_count": 13,
   "metadata": {},
   "outputs": [
    {
     "name": "stdout",
     "output_type": "stream",
     "text": [
      "this is class\n"
     ]
    }
   ],
   "source": [
    "class emp:\n",
    "    print \"this is class\"\n",
    "    def op1(a,b):\n",
    "        print \"this is op1\"\n",
    "anil=emp()\n",
    "ashok=emp()\n",
    "ajay=emp()"
   ]
  },
  {
   "cell_type": "code",
   "execution_count": 14,
   "metadata": {},
   "outputs": [
    {
     "name": "stdout",
     "output_type": "stream",
     "text": [
      "this is class\n"
     ]
    },
    {
     "ename": "TypeError",
     "evalue": "unbound method op1() must be called with emp instance as first argument (got int instance instead)",
     "output_type": "error",
     "traceback": [
      "\u001b[0;31m---------------------------------------------------------------------------\u001b[0m",
      "\u001b[0;31mTypeError\u001b[0m                                 Traceback (most recent call last)",
      "\u001b[0;32m<ipython-input-14-d26ffad7bdde>\u001b[0m in \u001b[0;36m<module>\u001b[0;34m()\u001b[0m\n\u001b[1;32m      6\u001b[0m \u001b[0mashok\u001b[0m\u001b[0;34m=\u001b[0m\u001b[0memp\u001b[0m\u001b[0;34m(\u001b[0m\u001b[0;34m)\u001b[0m\u001b[0;34m\u001b[0m\u001b[0m\n\u001b[1;32m      7\u001b[0m \u001b[0majay\u001b[0m\u001b[0;34m=\u001b[0m\u001b[0memp\u001b[0m\u001b[0;34m(\u001b[0m\u001b[0;34m)\u001b[0m\u001b[0;34m\u001b[0m\u001b[0m\n\u001b[0;32m----> 8\u001b[0;31m \u001b[0memp\u001b[0m\u001b[0;34m.\u001b[0m\u001b[0mop1\u001b[0m\u001b[0;34m(\u001b[0m\u001b[0;36m10\u001b[0m\u001b[0;34m,\u001b[0m\u001b[0;36m20\u001b[0m\u001b[0;34m)\u001b[0m\u001b[0;34m\u001b[0m\u001b[0m\n\u001b[0m",
      "\u001b[0;31mTypeError\u001b[0m: unbound method op1() must be called with emp instance as first argument (got int instance instead)"
     ]
    }
   ],
   "source": [
    "class emp:\n",
    "    print \"this is class\"\n",
    "    def op1(a,b):\n",
    "        print \"this is op1\"\n",
    "anil=emp()\n",
    "ashok=emp()\n",
    "ajay=emp()\n",
    "emp.op1(10,20)"
   ]
  },
  {
   "cell_type": "code",
   "execution_count": 15,
   "metadata": {},
   "outputs": [
    {
     "name": "stdout",
     "output_type": "stream",
     "text": [
      "this is class\n",
      "this is op1\n"
     ]
    }
   ],
   "source": [
    "class emp:\n",
    "    print \"this is class\"\n",
    "    def op1(a,b):\n",
    "        print \"this is op1\"\n",
    "anil=emp()\n",
    "ashok=emp()\n",
    "ajay=emp()\n",
    "emp.op1(anil,20)"
   ]
  },
  {
   "cell_type": "code",
   "execution_count": 16,
   "metadata": {},
   "outputs": [
    {
     "name": "stdout",
     "output_type": "stream",
     "text": [
      "this is class\n",
      "this is op1\n"
     ]
    }
   ],
   "source": [
    "class emp:\n",
    "    print \"this is class\"\n",
    "    a=100\n",
    "    b=200\n",
    "    def op1(a,b):\n",
    "        print \"this is op1\"\n",
    "anil=emp()\n",
    "ashok=emp()\n",
    "ajay=emp()\n",
    "emp.op1(anil,20)\n",
    "anil.name=\"Anil\""
   ]
  },
  {
   "cell_type": "code",
   "execution_count": 17,
   "metadata": {},
   "outputs": [
    {
     "name": "stdout",
     "output_type": "stream",
     "text": [
      "this is class\n",
      "this is op1\n",
      "<__main__.emp instance at 0x7fefb95840e0>\n",
      "20\n",
      "Anil\n",
      "100\n",
      "200\n",
      "this is op1\n",
      "<__main__.emp instance at 0x7fefb95840e0>\n",
      "20\n"
     ]
    }
   ],
   "source": [
    "class emp:\n",
    "    print \"this is class\"\n",
    "    a=100\n",
    "    b=200\n",
    "    def op1(a,b):\n",
    "        print \"this is op1\"\n",
    "        print a\n",
    "        print b\n",
    "anil=emp()\n",
    "ashok=emp()\n",
    "emp.op1(anil,20)\n",
    "anil.name=\"Anil\"\n",
    "print anil.name\n",
    "print anil.a\n",
    "print anil.b\n",
    "anil.op1(20)"
   ]
  },
  {
   "cell_type": "code",
   "execution_count": 18,
   "metadata": {},
   "outputs": [
    {
     "name": "stdout",
     "output_type": "stream",
     "text": [
      "this is class\n",
      "this is op1\n",
      "<__main__.emp instance at 0x7fefb9584680>\n",
      "20\n",
      "Anil\n",
      "100\n",
      "200\n"
     ]
    },
    {
     "ename": "TypeError",
     "evalue": "op1() takes exactly 2 arguments (3 given)",
     "output_type": "error",
     "traceback": [
      "\u001b[0;31m---------------------------------------------------------------------------\u001b[0m",
      "\u001b[0;31mTypeError\u001b[0m                                 Traceback (most recent call last)",
      "\u001b[0;32m<ipython-input-18-28b4be3f4ad1>\u001b[0m in \u001b[0;36m<module>\u001b[0;34m()\u001b[0m\n\u001b[1;32m     14\u001b[0m \u001b[0;32mprint\u001b[0m \u001b[0manil\u001b[0m\u001b[0;34m.\u001b[0m\u001b[0ma\u001b[0m\u001b[0;34m\u001b[0m\u001b[0m\n\u001b[1;32m     15\u001b[0m \u001b[0;32mprint\u001b[0m \u001b[0manil\u001b[0m\u001b[0;34m.\u001b[0m\u001b[0mb\u001b[0m\u001b[0;34m\u001b[0m\u001b[0m\n\u001b[0;32m---> 16\u001b[0;31m \u001b[0manil\u001b[0m\u001b[0;34m.\u001b[0m\u001b[0mop1\u001b[0m\u001b[0;34m(\u001b[0m\u001b[0manil\u001b[0m\u001b[0;34m,\u001b[0m\u001b[0;36m20\u001b[0m\u001b[0;34m)\u001b[0m\u001b[0;34m\u001b[0m\u001b[0m\n\u001b[0m",
      "\u001b[0;31mTypeError\u001b[0m: op1() takes exactly 2 arguments (3 given)"
     ]
    }
   ],
   "source": [
    "class emp:\n",
    "    print \"this is class\"\n",
    "    a=100\n",
    "    b=200\n",
    "    def op1(a,b):\n",
    "        print \"this is op1\"\n",
    "        print a\n",
    "        print b\n",
    "anil=emp()\n",
    "ashok=emp()\n",
    "emp.op1(anil,20)\n",
    "anil.name=\"Anil\"\n",
    "print anil.name\n",
    "print anil.a\n",
    "print anil.b\n",
    "anil.op1(anil,20)\n",
    "#emp.op1(anil,anil,20)\n",
    "anil.op1(20)\n",
    "#emp.op1(anil,20)"
   ]
  },
  {
   "cell_type": "code",
   "execution_count": null,
   "metadata": {
    "collapsed": true
   },
   "outputs": [],
   "source": []
  }
 ],
 "metadata": {
  "kernelspec": {
   "display_name": "Python 2",
   "language": "python",
   "name": "python2"
  },
  "language_info": {
   "codemirror_mode": {
    "name": "ipython",
    "version": 2
   },
   "file_extension": ".py",
   "mimetype": "text/x-python",
   "name": "python",
   "nbconvert_exporter": "python",
   "pygments_lexer": "ipython2",
   "version": "2.7.14"
  }
 },
 "nbformat": 4,
 "nbformat_minor": 2
}
