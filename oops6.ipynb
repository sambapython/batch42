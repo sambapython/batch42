{
 "cells": [
  {
   "cell_type": "code",
   "execution_count": 1,
   "metadata": {},
   "outputs": [
    {
     "ename": "TypeError",
     "evalue": "iteration over non-sequence",
     "output_type": "error",
     "traceback": [
      "\u001b[0;31m---------------------------------------------------------------------------\u001b[0m",
      "\u001b[0;31mTypeError\u001b[0m                                 Traceback (most recent call last)",
      "\u001b[0;32m<ipython-input-1-b414b630d238>\u001b[0m in \u001b[0;36m<module>\u001b[0;34m()\u001b[0m\n\u001b[1;32m      5\u001b[0m         \u001b[0mself\u001b[0m\u001b[0;34m.\u001b[0m\u001b[0msal\u001b[0m\u001b[0;34m=\u001b[0m\u001b[0msal\u001b[0m\u001b[0;34m\u001b[0m\u001b[0m\n\u001b[1;32m      6\u001b[0m \u001b[0manil\u001b[0m \u001b[0;34m=\u001b[0m \u001b[0mEmp\u001b[0m\u001b[0;34m(\u001b[0m\u001b[0;34m\"anil\"\u001b[0m\u001b[0;34m,\u001b[0m\u001b[0;36m23\u001b[0m\u001b[0;34m,\u001b[0m\u001b[0;36m234567\u001b[0m\u001b[0;34m)\u001b[0m\u001b[0;34m\u001b[0m\u001b[0m\n\u001b[0;32m----> 7\u001b[0;31m \u001b[0;32mfor\u001b[0m \u001b[0mi\u001b[0m \u001b[0;32min\u001b[0m \u001b[0manil\u001b[0m\u001b[0;34m:\u001b[0m\u001b[0;34m\u001b[0m\u001b[0m\n\u001b[0m\u001b[1;32m      8\u001b[0m     \u001b[0;32mprint\u001b[0m \u001b[0mi\u001b[0m\u001b[0;34m\u001b[0m\u001b[0m\n",
      "\u001b[0;31mTypeError\u001b[0m: iteration over non-sequence"
     ]
    }
   ],
   "source": [
    "class Emp:\n",
    "    def __init__(self, name, age, sal):\n",
    "        self.name=name\n",
    "        self.age=age\n",
    "        self.sal=sal\n",
    "anil = Emp(\"anil\",23,234567)\n",
    "for i in anil:\n",
    "    print i"
   ]
  },
  {
   "cell_type": "code",
   "execution_count": 2,
   "metadata": {},
   "outputs": [
    {
     "name": "stdout",
     "output_type": "stream",
     "text": [
      "('age', 23)\n",
      "('name', 'anil')\n",
      "('sal', 234567)\n"
     ]
    }
   ],
   "source": [
    "class Emp:\n",
    "    def __init__(self, name, age, sal):\n",
    "        self.name=name\n",
    "        self.age=age\n",
    "        self.sal=sal\n",
    "    def __iter__(self):\n",
    "        for k,v in self.__dict__.viewitems():\n",
    "            yield k,v\n",
    "        \n",
    "anil = Emp(\"anil\",23,234567)\n",
    "for i in anil:\n",
    "    print i"
   ]
  },
  {
   "cell_type": "code",
   "execution_count": 3,
   "metadata": {
    "collapsed": true
   },
   "outputs": [],
   "source": [
    "class User:\n",
    "    def __init__(self,username,password):\n",
    "        self.username=username\n",
    "        self.password=password\n",
    "user1=User(\"user1\",\"pwd1\")\n",
    "user2=User(\"user2\",\"pwd2\")\n",
    "user3=User(\"user3\",\"pwd3\")"
   ]
  },
  {
   "cell_type": "code",
   "execution_count": 4,
   "metadata": {},
   "outputs": [
    {
     "name": "stdout",
     "output_type": "stream",
     "text": [
      "class\n",
      "constructor\n",
      "constructor\n",
      "constructor\n"
     ]
    }
   ],
   "source": [
    "class User:\n",
    "    print \"class\"\n",
    "    def __init__(self,username,password):\n",
    "        print \"constructor\"\n",
    "        self.username=username\n",
    "        self.password=password\n",
    "user1=User(\"user1\",\"pwd1\")\n",
    "user2=User(\"user2\",\"pwd2\")\n",
    "user3=User(\"user3\",\"pwd3\")"
   ]
  },
  {
   "cell_type": "code",
   "execution_count": 8,
   "metadata": {},
   "outputs": [
    {
     "name": "stdout",
     "output_type": "stream",
     "text": [
      "class\n",
      "constructor\n",
      "constructor\n",
      "constructor\n",
      "3\n"
     ]
    }
   ],
   "source": [
    "class User:\n",
    "    print \"class\"\n",
    "    count=0\n",
    "    def __init__(self,username,password):\n",
    "        print \"constructor\"\n",
    "        self.username=username\n",
    "        self.password=password\n",
    "        self.inc_count()\n",
    "        \n",
    "    @classmethod\n",
    "    def inc_count(cls):\n",
    "        cls.count=cls.count+1\n",
    "        \n",
    "    @classmethod\n",
    "    def get_count(cls):\n",
    "        return cls.count\n",
    "user1=User(\"user1\",\"pwd1\")\n",
    "user2=User(\"user2\",\"pwd2\")\n",
    "user3=User(\"user3\",\"pwd3\")\n",
    "print user1.get_count()"
   ]
  },
  {
   "cell_type": "code",
   "execution_count": 9,
   "metadata": {},
   "outputs": [
    {
     "name": "stdout",
     "output_type": "stream",
     "text": [
      "class\n"
     ]
    }
   ],
   "source": [
    "class User(object):\n",
    "    print \"class\"\n",
    "    count=0\n",
    "    def __new__(cls,username,password):\n",
    "        return None\n",
    "        \n",
    "    def __init__(self,username,password):\n",
    "        print \"constructor\"\n",
    "        self.username=username\n",
    "        self.password=password\n",
    "        self.inc_count()\n",
    "user1=User(\"user1\",\"pwd1\")\n",
    "user2=User(\"user2\",\"pwd2\")\n",
    "user3=User(\"user3\",\"pwd3\")\n"
   ]
  },
  {
   "cell_type": "code",
   "execution_count": 10,
   "metadata": {},
   "outputs": [
    {
     "name": "stdout",
     "output_type": "stream",
     "text": [
      "None\n"
     ]
    }
   ],
   "source": [
    "print user1"
   ]
  },
  {
   "cell_type": "code",
   "execution_count": 12,
   "metadata": {},
   "outputs": [
    {
     "name": "stdout",
     "output_type": "stream",
     "text": [
      "class\n"
     ]
    },
    {
     "ename": "AttributeError",
     "evalue": "'NoneType' object has no attribute 'get'",
     "output_type": "error",
     "traceback": [
      "\u001b[0;31m---------------------------------------------------------------------------\u001b[0m",
      "\u001b[0;31mAttributeError\u001b[0m                            Traceback (most recent call last)",
      "\u001b[0;32m<ipython-input-12-c8991ab7cdcc>\u001b[0m in \u001b[0;36m<module>\u001b[0;34m()\u001b[0m\n\u001b[1;32m     15\u001b[0m \u001b[0muser2\u001b[0m\u001b[0;34m=\u001b[0m\u001b[0mUser\u001b[0m\u001b[0;34m(\u001b[0m\u001b[0;34m\"user2\"\u001b[0m\u001b[0;34m,\u001b[0m\u001b[0;34m\"pwd2\"\u001b[0m\u001b[0;34m)\u001b[0m\u001b[0;34m\u001b[0m\u001b[0m\n\u001b[1;32m     16\u001b[0m \u001b[0muser3\u001b[0m\u001b[0;34m=\u001b[0m\u001b[0mUser\u001b[0m\u001b[0;34m(\u001b[0m\u001b[0;34m\"user3\"\u001b[0m\u001b[0;34m,\u001b[0m\u001b[0;34m\"pwd3\"\u001b[0m\u001b[0;34m)\u001b[0m\u001b[0;34m\u001b[0m\u001b[0m\n\u001b[0;32m---> 17\u001b[0;31m \u001b[0;32mprint\u001b[0m \u001b[0muser1\u001b[0m\u001b[0;34m.\u001b[0m\u001b[0mget\u001b[0m\u001b[0;34m(\u001b[0m\u001b[0;34m)\u001b[0m\u001b[0;34m\u001b[0m\u001b[0m\n\u001b[0m",
      "\u001b[0;31mAttributeError\u001b[0m: 'NoneType' object has no attribute 'get'"
     ]
    }
   ],
   "source": [
    "class User(object):\n",
    "    print \"class\"\n",
    "    count=0\n",
    "    def __new__(cls,username,password):\n",
    "        \n",
    "        return None\n",
    "        \n",
    "    def __init__(self,username,password):\n",
    "        print \"constructor\"\n",
    "        self.username=username\n",
    "        self.password=password\n",
    "        self.inc_count()\n",
    "    def get(self):\n",
    "        return self.__dict__\n",
    "user1=User(\"user1\",\"pwd1\")\n",
    "user2=User(\"user2\",\"pwd2\")\n",
    "user3=User(\"user3\",\"pwd3\")\n",
    "print user1.get()"
   ]
  },
  {
   "cell_type": "code",
   "execution_count": 14,
   "metadata": {},
   "outputs": [
    {
     "name": "stdout",
     "output_type": "stream",
     "text": [
      "class\n",
      "constructor\n",
      "constructor\n",
      "constructor\n",
      "{'username': 'user1', 'password': 'pwd1'}\n"
     ]
    },
    {
     "name": "stderr",
     "output_type": "stream",
     "text": [
      "/home/khyaathi-python/anaconda2/lib/python2.7/site-packages/ipykernel_launcher.py:5: DeprecationWarning: object() takes no parameters\n",
      "  \"\"\"\n"
     ]
    }
   ],
   "source": [
    "class User(object):\n",
    "    print \"class\"\n",
    "    count=0\n",
    "    def __new__(cls,username,password):\n",
    "        obj = object.__new__(cls,username,password)\n",
    "        return obj\n",
    "        \n",
    "    def __init__(self,username,password):\n",
    "        print \"constructor\"\n",
    "        self.username=username\n",
    "        self.password=password\n",
    "        \n",
    "    def get(self):\n",
    "        return self.__dict__\n",
    "user1=User(\"user1\",\"pwd1\")\n",
    "user2=User(\"user2\",\"pwd2\")\n",
    "user3=User(\"user3\",\"pwd3\")\n",
    "print user1.get()"
   ]
  },
  {
   "cell_type": "code",
   "execution_count": 16,
   "metadata": {},
   "outputs": [
    {
     "name": "stdout",
     "output_type": "stream",
     "text": [
      "class\n",
      "constructor\n",
      "constructor\n",
      "constructor\n",
      "{'username': 'user1', 'password': 'pwd1'}\n",
      "{'username': 'user2', 'password': 'pwd2'}\n",
      "{'username': 'user3', 'password': 'pwd3'}\n"
     ]
    }
   ],
   "source": [
    "class User(object):\n",
    "    print \"class\"\n",
    "    count=0\n",
    "    def __new__(cls,username,password):\n",
    "        obj = object.__new__(cls)\n",
    "        return obj\n",
    "        \n",
    "    def __init__(self,username,password):\n",
    "        print \"constructor\"\n",
    "        self.username=username\n",
    "        self.password=password\n",
    "        \n",
    "    def get(self):\n",
    "        return self.__dict__\n",
    "user1=User(\"user1\",\"pwd1\")\n",
    "user2=User(\"user2\",\"pwd2\")\n",
    "user3=User(\"user3\",\"pwd3\")\n",
    "print user1.get()\n",
    "print user2.get()\n",
    "print user3.get()"
   ]
  },
  {
   "cell_type": "code",
   "execution_count": 17,
   "metadata": {},
   "outputs": [
    {
     "name": "stdout",
     "output_type": "stream",
     "text": [
      "class\n"
     ]
    },
    {
     "ename": "AttributeError",
     "evalue": "'NoneType' object has no attribute 'get'",
     "output_type": "error",
     "traceback": [
      "\u001b[0;31m---------------------------------------------------------------------------\u001b[0m",
      "\u001b[0;31mAttributeError\u001b[0m                            Traceback (most recent call last)",
      "\u001b[0;32m<ipython-input-17-dfe8ec6a5308>\u001b[0m in \u001b[0;36m<module>\u001b[0;34m()\u001b[0m\n\u001b[1;32m     16\u001b[0m \u001b[0muser2\u001b[0m\u001b[0;34m=\u001b[0m\u001b[0mUser\u001b[0m\u001b[0;34m(\u001b[0m\u001b[0;34m\"user2\"\u001b[0m\u001b[0;34m,\u001b[0m\u001b[0;34m\"pwd2\"\u001b[0m\u001b[0;34m)\u001b[0m\u001b[0;34m\u001b[0m\u001b[0m\n\u001b[1;32m     17\u001b[0m \u001b[0muser3\u001b[0m\u001b[0;34m=\u001b[0m\u001b[0mUser\u001b[0m\u001b[0;34m(\u001b[0m\u001b[0;34m\"user3\"\u001b[0m\u001b[0;34m,\u001b[0m\u001b[0;34m\"pwd3\"\u001b[0m\u001b[0;34m)\u001b[0m\u001b[0;34m\u001b[0m\u001b[0m\n\u001b[0;32m---> 18\u001b[0;31m \u001b[0;32mprint\u001b[0m \u001b[0muser1\u001b[0m\u001b[0;34m.\u001b[0m\u001b[0mget\u001b[0m\u001b[0;34m(\u001b[0m\u001b[0;34m)\u001b[0m\u001b[0;34m\u001b[0m\u001b[0m\n\u001b[0m\u001b[1;32m     19\u001b[0m \u001b[0;32mprint\u001b[0m \u001b[0muser2\u001b[0m\u001b[0;34m.\u001b[0m\u001b[0mget\u001b[0m\u001b[0;34m(\u001b[0m\u001b[0;34m)\u001b[0m\u001b[0;34m\u001b[0m\u001b[0m\n\u001b[1;32m     20\u001b[0m \u001b[0;32mprint\u001b[0m \u001b[0muser3\u001b[0m\u001b[0;34m.\u001b[0m\u001b[0mget\u001b[0m\u001b[0;34m(\u001b[0m\u001b[0;34m)\u001b[0m\u001b[0;34m\u001b[0m\u001b[0m\n",
      "\u001b[0;31mAttributeError\u001b[0m: 'NoneType' object has no attribute 'get'"
     ]
    }
   ],
   "source": [
    "class User(object):\n",
    "    print \"class\"\n",
    "    count=0\n",
    "    def __new__(cls,username,password):\n",
    "        obj = object.__new__(cls)\n",
    "        return None\n",
    "        \n",
    "    def __init__(self,username,password):\n",
    "        print \"constructor\"\n",
    "        self.username=username\n",
    "        self.password=password\n",
    "        \n",
    "    def get(self):\n",
    "        return self.__dict__\n",
    "user1=User(\"user1\",\"pwd1\")\n",
    "user2=User(\"user2\",\"pwd2\")\n",
    "user3=User(\"user3\",\"pwd3\")\n",
    "print user1.get()\n",
    "print user2.get()\n",
    "print user3.get()"
   ]
  },
  {
   "cell_type": "code",
   "execution_count": 18,
   "metadata": {},
   "outputs": [
    {
     "name": "stdout",
     "output_type": "stream",
     "text": [
      "class\n",
      "constructor\n",
      "{'username': 'user1', 'password': 'pwd1'}\n"
     ]
    }
   ],
   "source": [
    "class User(object):\n",
    "    print \"class\"\n",
    "    count=0\n",
    "    def __new__(cls,username,password):\n",
    "        if cls.count<1:\n",
    "            obj = object.__new__(cls)\n",
    "            cls.count=cls.count+1\n",
    "            return obj\n",
    "        else:\n",
    "            print \"Can create only one object belongs to class User\"\n",
    "        \n",
    "    def __init__(self,username,password):\n",
    "        print \"constructor\"\n",
    "        self.username=username\n",
    "        self.password=password\n",
    "        \n",
    "    def get(self):\n",
    "        return self.__dict__\n",
    "user1=User(\"user1\",\"pwd1\")\n",
    "print user1.get()\n"
   ]
  },
  {
   "cell_type": "code",
   "execution_count": 19,
   "metadata": {},
   "outputs": [
    {
     "name": "stdout",
     "output_type": "stream",
     "text": [
      "class\n",
      "constructor\n",
      "{'username': 'user1', 'password': 'pwd1'}\n",
      "Can create only one object belongs to class User\n"
     ]
    }
   ],
   "source": [
    "class User(object):\n",
    "    print \"class\"\n",
    "    count=0\n",
    "    def __new__(cls,username,password):\n",
    "        if cls.count<1:\n",
    "            obj = object.__new__(cls)\n",
    "            cls.count=cls.count+1\n",
    "            return obj\n",
    "        else:\n",
    "            print \"Can create only one object belongs to class User\"\n",
    "        \n",
    "    def __init__(self,username,password):\n",
    "        print \"constructor\"\n",
    "        self.username=username\n",
    "        self.password=password\n",
    "        \n",
    "    def get(self):\n",
    "        return self.__dict__\n",
    "user1=User(\"user1\",\"pwd1\")\n",
    "print user1.get()\n",
    "user2=User(\"user2\",\"pwd2\")"
   ]
  },
  {
   "cell_type": "code",
   "execution_count": 20,
   "metadata": {},
   "outputs": [
    {
     "data": {
      "text/plain": [
       "8"
      ]
     },
     "execution_count": 20,
     "metadata": {},
     "output_type": "execute_result"
    }
   ],
   "source": [
    "len(\"sfsdfdsf\")"
   ]
  },
  {
   "cell_type": "code",
   "execution_count": 21,
   "metadata": {},
   "outputs": [
    {
     "name": "stdout",
     "output_type": "stream",
     "text": [
      "class\n",
      "constructor\n",
      "{'username': 'user1', 'password': 'pwd1'}\n"
     ]
    },
    {
     "ename": "TypeError",
     "evalue": "object of type 'User' has no len()",
     "output_type": "error",
     "traceback": [
      "\u001b[0;31m---------------------------------------------------------------------------\u001b[0m",
      "\u001b[0;31mTypeError\u001b[0m                                 Traceback (most recent call last)",
      "\u001b[0;32m<ipython-input-21-2e684b859ae1>\u001b[0m in \u001b[0;36m<module>\u001b[0;34m()\u001b[0m\n\u001b[1;32m     19\u001b[0m \u001b[0muser1\u001b[0m\u001b[0;34m=\u001b[0m\u001b[0mUser\u001b[0m\u001b[0;34m(\u001b[0m\u001b[0;34m\"user1\"\u001b[0m\u001b[0;34m,\u001b[0m\u001b[0;34m\"pwd1\"\u001b[0m\u001b[0;34m)\u001b[0m\u001b[0;34m\u001b[0m\u001b[0m\n\u001b[1;32m     20\u001b[0m \u001b[0;32mprint\u001b[0m \u001b[0muser1\u001b[0m\u001b[0;34m.\u001b[0m\u001b[0mget\u001b[0m\u001b[0;34m(\u001b[0m\u001b[0;34m)\u001b[0m\u001b[0;34m\u001b[0m\u001b[0m\n\u001b[0;32m---> 21\u001b[0;31m \u001b[0mlen\u001b[0m\u001b[0;34m(\u001b[0m\u001b[0muser1\u001b[0m\u001b[0;34m)\u001b[0m\u001b[0;34m\u001b[0m\u001b[0m\n\u001b[0m",
      "\u001b[0;31mTypeError\u001b[0m: object of type 'User' has no len()"
     ]
    }
   ],
   "source": [
    "class User(object):\n",
    "    print \"class\"\n",
    "    count=0\n",
    "    def __new__(cls,username,password):\n",
    "        if cls.count<1:\n",
    "            obj = object.__new__(cls)\n",
    "            cls.count=cls.count+1\n",
    "            return obj\n",
    "        else:\n",
    "            print \"Can create only one object belongs to class User\"\n",
    "        \n",
    "    def __init__(self,username,password):\n",
    "        print \"constructor\"\n",
    "        self.username=username\n",
    "        self.password=password\n",
    "        \n",
    "    def get(self):\n",
    "        return self.__dict__\n",
    "user1=User(\"user1\",\"pwd1\")\n",
    "print user1.get()\n",
    "len(user1)"
   ]
  },
  {
   "cell_type": "code",
   "execution_count": 23,
   "metadata": {},
   "outputs": [
    {
     "name": "stdout",
     "output_type": "stream",
     "text": [
      "class\n",
      "constructor\n",
      "{'username': 'user1', 'password': 'pwd1'}\n",
      "2\n"
     ]
    }
   ],
   "source": [
    "class User(object):\n",
    "    print \"class\"\n",
    "    count=0\n",
    "    def __new__(cls,username,password):\n",
    "        if cls.count<1:\n",
    "            obj = object.__new__(cls)\n",
    "            cls.count=cls.count+1\n",
    "            return obj\n",
    "        else:\n",
    "            print \"Can create only one object belongs to class User\"\n",
    "        \n",
    "    def __init__(self,username,password):\n",
    "        print \"constructor\"\n",
    "        self.username=username\n",
    "        self.password=password\n",
    "    def __len__(self):\n",
    "        return len(self.__dict__.keys())\n",
    "        \n",
    "    def get(self):\n",
    "        return self.__dict__\n",
    "user1=User(\"user1\",\"pwd1\")\n",
    "print user1.get()\n",
    "print len(user1)"
   ]
  },
  {
   "cell_type": "code",
   "execution_count": 24,
   "metadata": {
    "collapsed": true
   },
   "outputs": [],
   "source": [
    "s=\"fsdfdsfsdfdsf\""
   ]
  },
  {
   "cell_type": "code",
   "execution_count": 25,
   "metadata": {},
   "outputs": [
    {
     "data": {
      "text/plain": [
       "13"
      ]
     },
     "execution_count": 25,
     "metadata": {},
     "output_type": "execute_result"
    }
   ],
   "source": [
    "len(s)"
   ]
  },
  {
   "cell_type": "code",
   "execution_count": 26,
   "metadata": {},
   "outputs": [
    {
     "ename": "TypeError",
     "evalue": "expected a string or other character buffer object",
     "output_type": "error",
     "traceback": [
      "\u001b[0;31m---------------------------------------------------------------------------\u001b[0m",
      "\u001b[0;31mTypeError\u001b[0m                                 Traceback (most recent call last)",
      "\u001b[0;32m<ipython-input-26-c6056033b23f>\u001b[0m in \u001b[0;36m<module>\u001b[0;34m()\u001b[0m\n\u001b[1;32m      1\u001b[0m \u001b[0mf\u001b[0m\u001b[0;34m=\u001b[0m\u001b[0mopen\u001b[0m\u001b[0;34m(\u001b[0m\u001b[0;34m\"data.csv\"\u001b[0m\u001b[0;34m,\u001b[0m\u001b[0;34m\"w\"\u001b[0m\u001b[0;34m)\u001b[0m\u001b[0;34m\u001b[0m\u001b[0m\n\u001b[1;32m      2\u001b[0m \u001b[0mf\u001b[0m\u001b[0;34m.\u001b[0m\u001b[0mwrite\u001b[0m\u001b[0;34m(\u001b[0m\u001b[0;34m\"dsfsdf\"\u001b[0m\u001b[0;34m)\u001b[0m\u001b[0;34m\u001b[0m\u001b[0m\n\u001b[0;32m----> 3\u001b[0;31m \u001b[0mf\u001b[0m\u001b[0;34m.\u001b[0m\u001b[0mwrite\u001b[0m\u001b[0;34m(\u001b[0m\u001b[0;36m123\u001b[0m\u001b[0;34m)\u001b[0m\u001b[0;34m\u001b[0m\u001b[0m\n\u001b[0m\u001b[1;32m      4\u001b[0m \u001b[0mf\u001b[0m\u001b[0;34m.\u001b[0m\u001b[0mclose\u001b[0m\u001b[0;34m(\u001b[0m\u001b[0;34m)\u001b[0m\u001b[0;34m\u001b[0m\u001b[0m\n",
      "\u001b[0;31mTypeError\u001b[0m: expected a string or other character buffer object"
     ]
    }
   ],
   "source": [
    "f=open(\"data.csv\",\"w\")\n",
    "f.write(\"dsfsdf\")\n",
    "f.write(123)\n",
    "f.close()"
   ]
  },
  {
   "cell_type": "code",
   "execution_count": 27,
   "metadata": {
    "collapsed": true
   },
   "outputs": [],
   "source": [
    "f=open(\"data.csv\",\"w\")\n",
    "f.write(\"dsfsdf\")\n",
    "f.write(str(123))\n",
    "f.close()"
   ]
  },
  {
   "cell_type": "code",
   "execution_count": 28,
   "metadata": {},
   "outputs": [
    {
     "name": "stdout",
     "output_type": "stream",
     "text": [
      "['dsfsdf123']\n"
     ]
    }
   ],
   "source": [
    "data=open(\"data.csv\").readlines()\n",
    "print data"
   ]
  },
  {
   "cell_type": "code",
   "execution_count": 29,
   "metadata": {
    "collapsed": true
   },
   "outputs": [],
   "source": [
    "f=open(\"data.csv\",\"w\")\n",
    "f.write(\"dsfsdf\\n\")\n",
    "f.write(str(123))\n",
    "f.close()"
   ]
  },
  {
   "cell_type": "code",
   "execution_count": 30,
   "metadata": {},
   "outputs": [
    {
     "name": "stdout",
     "output_type": "stream",
     "text": [
      "['dsfsdf\\n', '123']\n"
     ]
    }
   ],
   "source": [
    "data=open(\"data.csv\").readlines()\n",
    "print data"
   ]
  },
  {
   "cell_type": "code",
   "execution_count": 31,
   "metadata": {
    "collapsed": true
   },
   "outputs": [],
   "source": [
    "data=[{\"name\":\"anil\"},{\"name\":\"ashok\"}]\n",
    "f=open(\"data.csv\",\"w\")\n",
    "f.write(str(data))\n",
    "f.close()"
   ]
  },
  {
   "cell_type": "code",
   "execution_count": 32,
   "metadata": {},
   "outputs": [
    {
     "name": "stdout",
     "output_type": "stream",
     "text": [
      "[\"[{'name': 'anil'}, {'name': 'ashok'}]\"]\n"
     ]
    }
   ],
   "source": [
    "data=open(\"data.csv\").readlines()\n",
    "print data"
   ]
  },
  {
   "cell_type": "code",
   "execution_count": 33,
   "metadata": {},
   "outputs": [
    {
     "ename": "AttributeError",
     "evalue": "'list' object has no attribute 'write'",
     "output_type": "error",
     "traceback": [
      "\u001b[0;31m---------------------------------------------------------------------------\u001b[0m",
      "\u001b[0;31mAttributeError\u001b[0m                            Traceback (most recent call last)",
      "\u001b[0;32m<ipython-input-33-89df157ee8ab>\u001b[0m in \u001b[0;36m<module>\u001b[0;34m()\u001b[0m\n\u001b[1;32m      2\u001b[0m \u001b[0mf\u001b[0m\u001b[0;34m=\u001b[0m\u001b[0mopen\u001b[0m\u001b[0;34m(\u001b[0m\u001b[0;34m\"data.csv\"\u001b[0m\u001b[0;34m,\u001b[0m\u001b[0;34m\"w\"\u001b[0m\u001b[0;34m)\u001b[0m\u001b[0;34m\u001b[0m\u001b[0m\n\u001b[1;32m      3\u001b[0m \u001b[0mdata\u001b[0m\u001b[0;34m=\u001b[0m\u001b[0;34m[\u001b[0m\u001b[0;34m{\u001b[0m\u001b[0;34m\"name\"\u001b[0m\u001b[0;34m:\u001b[0m\u001b[0;34m\"anil\"\u001b[0m\u001b[0;34m}\u001b[0m\u001b[0;34m,\u001b[0m\u001b[0;34m{\u001b[0m\u001b[0;34m\"name\"\u001b[0m\u001b[0;34m:\u001b[0m\u001b[0;34m\"ashok\"\u001b[0m\u001b[0;34m}\u001b[0m\u001b[0;34m]\u001b[0m\u001b[0;34m\u001b[0m\u001b[0m\n\u001b[0;32m----> 4\u001b[0;31m \u001b[0mpickle\u001b[0m\u001b[0;34m.\u001b[0m\u001b[0mdump\u001b[0m\u001b[0;34m(\u001b[0m\u001b[0mf\u001b[0m\u001b[0;34m,\u001b[0m\u001b[0mdata\u001b[0m\u001b[0;34m)\u001b[0m\u001b[0;34m\u001b[0m\u001b[0m\n\u001b[0m\u001b[1;32m      5\u001b[0m \u001b[0mf\u001b[0m\u001b[0;34m.\u001b[0m\u001b[0mclose\u001b[0m\u001b[0;34m(\u001b[0m\u001b[0;34m)\u001b[0m\u001b[0;34m\u001b[0m\u001b[0m\n",
      "\u001b[0;32m/home/khyaathi-python/anaconda2/lib/python2.7/pickle.pyc\u001b[0m in \u001b[0;36mdump\u001b[0;34m(obj, file, protocol)\u001b[0m\n\u001b[1;32m   1374\u001b[0m \u001b[0;34m\u001b[0m\u001b[0m\n\u001b[1;32m   1375\u001b[0m \u001b[0;32mdef\u001b[0m \u001b[0mdump\u001b[0m\u001b[0;34m(\u001b[0m\u001b[0mobj\u001b[0m\u001b[0;34m,\u001b[0m \u001b[0mfile\u001b[0m\u001b[0;34m,\u001b[0m \u001b[0mprotocol\u001b[0m\u001b[0;34m=\u001b[0m\u001b[0mNone\u001b[0m\u001b[0;34m)\u001b[0m\u001b[0;34m:\u001b[0m\u001b[0;34m\u001b[0m\u001b[0m\n\u001b[0;32m-> 1376\u001b[0;31m     \u001b[0mPickler\u001b[0m\u001b[0;34m(\u001b[0m\u001b[0mfile\u001b[0m\u001b[0;34m,\u001b[0m \u001b[0mprotocol\u001b[0m\u001b[0;34m)\u001b[0m\u001b[0;34m.\u001b[0m\u001b[0mdump\u001b[0m\u001b[0;34m(\u001b[0m\u001b[0mobj\u001b[0m\u001b[0;34m)\u001b[0m\u001b[0;34m\u001b[0m\u001b[0m\n\u001b[0m\u001b[1;32m   1377\u001b[0m \u001b[0;34m\u001b[0m\u001b[0m\n\u001b[1;32m   1378\u001b[0m \u001b[0;32mdef\u001b[0m \u001b[0mdumps\u001b[0m\u001b[0;34m(\u001b[0m\u001b[0mobj\u001b[0m\u001b[0;34m,\u001b[0m \u001b[0mprotocol\u001b[0m\u001b[0;34m=\u001b[0m\u001b[0mNone\u001b[0m\u001b[0;34m)\u001b[0m\u001b[0;34m:\u001b[0m\u001b[0;34m\u001b[0m\u001b[0m\n",
      "\u001b[0;32m/home/khyaathi-python/anaconda2/lib/python2.7/pickle.pyc\u001b[0m in \u001b[0;36m__init__\u001b[0;34m(self, file, protocol)\u001b[0m\n\u001b[1;32m    201\u001b[0m         \u001b[0;32melif\u001b[0m \u001b[0;32mnot\u001b[0m \u001b[0;36m0\u001b[0m \u001b[0;34m<=\u001b[0m \u001b[0mprotocol\u001b[0m \u001b[0;34m<=\u001b[0m \u001b[0mHIGHEST_PROTOCOL\u001b[0m\u001b[0;34m:\u001b[0m\u001b[0;34m\u001b[0m\u001b[0m\n\u001b[1;32m    202\u001b[0m             \u001b[0;32mraise\u001b[0m \u001b[0mValueError\u001b[0m\u001b[0;34m(\u001b[0m\u001b[0;34m\"pickle protocol must be <= %d\"\u001b[0m \u001b[0;34m%\u001b[0m \u001b[0mHIGHEST_PROTOCOL\u001b[0m\u001b[0;34m)\u001b[0m\u001b[0;34m\u001b[0m\u001b[0m\n\u001b[0;32m--> 203\u001b[0;31m         \u001b[0mself\u001b[0m\u001b[0;34m.\u001b[0m\u001b[0mwrite\u001b[0m \u001b[0;34m=\u001b[0m \u001b[0mfile\u001b[0m\u001b[0;34m.\u001b[0m\u001b[0mwrite\u001b[0m\u001b[0;34m\u001b[0m\u001b[0m\n\u001b[0m\u001b[1;32m    204\u001b[0m         \u001b[0mself\u001b[0m\u001b[0;34m.\u001b[0m\u001b[0mmemo\u001b[0m \u001b[0;34m=\u001b[0m \u001b[0;34m{\u001b[0m\u001b[0;34m}\u001b[0m\u001b[0;34m\u001b[0m\u001b[0m\n\u001b[1;32m    205\u001b[0m         \u001b[0mself\u001b[0m\u001b[0;34m.\u001b[0m\u001b[0mproto\u001b[0m \u001b[0;34m=\u001b[0m \u001b[0mint\u001b[0m\u001b[0;34m(\u001b[0m\u001b[0mprotocol\u001b[0m\u001b[0;34m)\u001b[0m\u001b[0;34m\u001b[0m\u001b[0m\n",
      "\u001b[0;31mAttributeError\u001b[0m: 'list' object has no attribute 'write'"
     ]
    }
   ],
   "source": [
    "import pickle\n",
    "f=open(\"data.csv\",\"w\")\n",
    "data=[{\"name\":\"anil\"},{\"name\":\"ashok\"}]\n",
    "pickle.dump(f,data)\n",
    "f.close()"
   ]
  },
  {
   "cell_type": "code",
   "execution_count": 34,
   "metadata": {
    "collapsed": true
   },
   "outputs": [],
   "source": [
    "import pickle\n",
    "f=open(\"data.csv\",\"w\")\n",
    "data=[{\"name\":\"anil\"},{\"name\":\"ashok\"}]\n",
    "pickle.dump(data,f)\n",
    "f.close()"
   ]
  },
  {
   "cell_type": "code",
   "execution_count": 35,
   "metadata": {},
   "outputs": [
    {
     "name": "stdout",
     "output_type": "stream",
     "text": [
      "(lp0\n",
      "(dp1\n",
      "S'name'\n",
      "p2\n",
      "S'anil'\n",
      "p3\n",
      "sa(dp4\n",
      "g2\n",
      "S'ashok'\n",
      "p5\n",
      "sa.\n"
     ]
    }
   ],
   "source": [
    "import pickle\n",
    "data=open(\"data.csv\").read()\n",
    "print data"
   ]
  },
  {
   "cell_type": "code",
   "execution_count": 36,
   "metadata": {},
   "outputs": [
    {
     "name": "stdout",
     "output_type": "stream",
     "text": [
      "[{'name': 'anil'}, {'name': 'ashok'}]\n",
      "<type 'list'>\n"
     ]
    }
   ],
   "source": [
    "import pickle\n",
    "f=open(\"data.csv\")\n",
    "data = pickle.load(f)\n",
    "print data\n",
    "print type(data)"
   ]
  },
  {
   "cell_type": "code",
   "execution_count": null,
   "metadata": {
    "collapsed": true
   },
   "outputs": [],
   "source": []
  }
 ],
 "metadata": {
  "kernelspec": {
   "display_name": "Python 2",
   "language": "python",
   "name": "python2"
  },
  "language_info": {
   "codemirror_mode": {
    "name": "ipython",
    "version": 2
   },
   "file_extension": ".py",
   "mimetype": "text/x-python",
   "name": "python",
   "nbconvert_exporter": "python",
   "pygments_lexer": "ipython2",
   "version": "2.7.14"
  }
 },
 "nbformat": 4,
 "nbformat_minor": 2
}
