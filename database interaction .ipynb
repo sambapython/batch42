{
 "cells": [
  {
   "cell_type": "code",
   "execution_count": 1,
   "metadata": {
    "collapsed": true
   },
   "outputs": [],
   "source": [
    "import sqlite3"
   ]
  },
  {
   "cell_type": "code",
   "execution_count": 2,
   "metadata": {
    "collapsed": true
   },
   "outputs": [],
   "source": [
    "con = sqlite3.connect(\"db1.db\")"
   ]
  },
  {
   "cell_type": "code",
   "execution_count": 3,
   "metadata": {
    "collapsed": true
   },
   "outputs": [],
   "source": [
    "cur=con.cursor()"
   ]
  },
  {
   "cell_type": "code",
   "execution_count": 4,
   "metadata": {},
   "outputs": [
    {
     "data": {
      "text/plain": [
       "<sqlite3.Cursor at 0x7f2152d98a40>"
      ]
     },
     "execution_count": 4,
     "metadata": {},
     "output_type": "execute_result"
    }
   ],
   "source": [
    "query=\"create table customer(id int,name varchar(250))\"\n",
    "cur.execute(query)"
   ]
  },
  {
   "cell_type": "code",
   "execution_count": 5,
   "metadata": {},
   "outputs": [
    {
     "data": {
      "text/plain": [
       "<sqlite3.Cursor at 0x7f2152d98a40>"
      ]
     },
     "execution_count": 5,
     "metadata": {},
     "output_type": "execute_result"
    }
   ],
   "source": [
    "q=\"insert into customer values(1,'anil')\"\n",
    "cur.execute(q)"
   ]
  },
  {
   "cell_type": "code",
   "execution_count": 6,
   "metadata": {},
   "outputs": [
    {
     "data": {
      "text/plain": [
       "<sqlite3.Cursor at 0x7f2152d98a40>"
      ]
     },
     "execution_count": 6,
     "metadata": {},
     "output_type": "execute_result"
    }
   ],
   "source": [
    "q=\"insert into customer values(2,'ashok')\"\n",
    "cur.execute(q)"
   ]
  },
  {
   "cell_type": "code",
   "execution_count": 7,
   "metadata": {
    "collapsed": true
   },
   "outputs": [],
   "source": [
    "con.commit()"
   ]
  },
  {
   "cell_type": "code",
   "execution_count": 8,
   "metadata": {},
   "outputs": [
    {
     "data": {
      "text/plain": [
       "<sqlite3.Cursor at 0x7f2152d98a40>"
      ]
     },
     "execution_count": 8,
     "metadata": {},
     "output_type": "execute_result"
    }
   ],
   "source": [
    "q=\"update customer set name='anil kumar' where id=1\"\n",
    "cur.execute(q)"
   ]
  },
  {
   "cell_type": "code",
   "execution_count": 9,
   "metadata": {
    "collapsed": true
   },
   "outputs": [],
   "source": [
    "con.commit()"
   ]
  },
  {
   "cell_type": "code",
   "execution_count": 10,
   "metadata": {},
   "outputs": [
    {
     "data": {
      "text/plain": [
       "<sqlite3.Cursor at 0x7f2152d98a40>"
      ]
     },
     "execution_count": 10,
     "metadata": {},
     "output_type": "execute_result"
    }
   ],
   "source": [
    "q=\"select * from customer\"\n",
    "cur.execute(q)"
   ]
  },
  {
   "cell_type": "code",
   "execution_count": 11,
   "metadata": {},
   "outputs": [
    {
     "data": {
      "text/plain": [
       "[(1, u'anil kumar'), (2, u'ashok')]"
      ]
     },
     "execution_count": 11,
     "metadata": {},
     "output_type": "execute_result"
    }
   ],
   "source": [
    "cur.fetchall()"
   ]
  },
  {
   "cell_type": "code",
   "execution_count": 12,
   "metadata": {},
   "outputs": [
    {
     "data": {
      "text/plain": [
       "[]"
      ]
     },
     "execution_count": 12,
     "metadata": {},
     "output_type": "execute_result"
    }
   ],
   "source": [
    "cur.fetchall()"
   ]
  },
  {
   "cell_type": "code",
   "execution_count": 14,
   "metadata": {},
   "outputs": [
    {
     "data": {
      "text/plain": [
       "<sqlite3.Cursor at 0x7f2152d98a40>"
      ]
     },
     "execution_count": 14,
     "metadata": {},
     "output_type": "execute_result"
    }
   ],
   "source": [
    "q=\"delete from customer where id=1\"\n",
    "cur.execute(q)"
   ]
  },
  {
   "cell_type": "code",
   "execution_count": 15,
   "metadata": {
    "collapsed": true
   },
   "outputs": [],
   "source": [
    "con.commit()"
   ]
  },
  {
   "cell_type": "code",
   "execution_count": 17,
   "metadata": {
    "collapsed": true
   },
   "outputs": [],
   "source": [
    "q=\"delete from customer where id=2\"\n",
    "cur.execute(q)\n",
    "con.commit()"
   ]
  },
  {
   "cell_type": "code",
   "execution_count": 18,
   "metadata": {},
   "outputs": [
    {
     "name": "stdout",
     "output_type": "stream",
     "text": [
      "Enter id:1\n",
      "Enter name:anil\n",
      "insert into customer values(1,'anil')\n"
     ]
    }
   ],
   "source": [
    "p_id=raw_input(\"Enter id:\")\n",
    "p_name=raw_input(\"Enter name:\")\n",
    "q=\"insert into customer values(%s,'%s')\"%(p_id, p_name)\n",
    "print q"
   ]
  },
  {
   "cell_type": "code",
   "execution_count": 19,
   "metadata": {},
   "outputs": [
    {
     "name": "stdout",
     "output_type": "stream",
     "text": [
      "Enter id:1\n",
      "Enter name:anil\n",
      "insert into customer values(1,'anil')\n"
     ]
    }
   ],
   "source": [
    "p_id=raw_input(\"Enter id:\")\n",
    "p_name=raw_input(\"Enter name:\")\n",
    "q=\"insert into customer values(%s,'%s')\"%(p_id, p_name)\n",
    "print q\n",
    "cur.execute(q)\n",
    "con.commit()"
   ]
  },
  {
   "cell_type": "code",
   "execution_count": 20,
   "metadata": {
    "collapsed": true
   },
   "outputs": [],
   "source": [
    "import random\n",
    "names=[\"anil\",\"pavan\",\"rajesh\",\"jayaram\",\"santhosh\",\"sampath\"]\n",
    "for i in range(2,101):\n",
    "    q=\"insert into customer values(%s,'%s')\"%(i, random.choice(names))\n",
    "    cur.execute(q)\n",
    "con.commit()"
   ]
  },
  {
   "cell_type": "code",
   "execution_count": 21,
   "metadata": {},
   "outputs": [
    {
     "name": "stdout",
     "output_type": "stream",
     "text": [
      "[(5, u'santhosh'), (7, u'santhosh'), (13, u'santhosh'), (23, u'santhosh'), (27, u'santhosh'), (33, u'santhosh'), (36, u'santhosh'), (44, u'santhosh'), (45, u'santhosh'), (54, u'santhosh'), (57, u'santhosh'), (62, u'santhosh'), (66, u'santhosh'), (69, u'santhosh'), (71, u'santhosh'), (75, u'santhosh'), (98, u'santhosh'), (100, u'santhosh')]\n"
     ]
    }
   ],
   "source": [
    "q=\"select * from customer where name='santhosh'\"\n",
    "cur.execute(q)\n",
    "print cur.fetchall()"
   ]
  },
  {
   "cell_type": "code",
   "execution_count": 22,
   "metadata": {},
   "outputs": [
    {
     "name": "stdout",
     "output_type": "stream",
     "text": [
      "Enter name to search:rajesh\n",
      "[(11, u'rajesh'), (15, u'rajesh'), (16, u'rajesh'), (26, u'rajesh'), (31, u'rajesh'), (32, u'rajesh'), (43, u'rajesh'), (52, u'rajesh'), (55, u'rajesh'), (65, u'rajesh'), (68, u'rajesh'), (81, u'rajesh'), (83, u'rajesh'), (84, u'rajesh'), (85, u'rajesh'), (93, u'rajesh')]\n"
     ]
    }
   ],
   "source": [
    "p_name=raw_input(\"Enter name to search:\")\n",
    "q=\"select * from customer where name='%s'\"%p_name\n",
    "cur.execute(q)\n",
    "print cur.fetchall()"
   ]
  },
  {
   "cell_type": "code",
   "execution_count": 23,
   "metadata": {},
   "outputs": [
    {
     "name": "stdout",
     "output_type": "stream",
     "text": [
      "Enter name to search:samba\n",
      "[]\n"
     ]
    }
   ],
   "source": [
    "p_name=raw_input(\"Enter name to search:\")\n",
    "q=\"select * from customer where name='%s'\"%p_name\n",
    "cur.execute(q)\n",
    "print cur.fetchall()"
   ]
  },
  {
   "cell_type": "code",
   "execution_count": 24,
   "metadata": {
    "collapsed": true
   },
   "outputs": [],
   "source": [
    "con.close()"
   ]
  },
  {
   "cell_type": "code",
   "execution_count": 25,
   "metadata": {
    "collapsed": true
   },
   "outputs": [],
   "source": [
    "import psycopg2\n",
    "con = psycopg2.connect(host=\"localhost\",user=\"postgres\",password=\"root\",database=\"db1\")\n",
    "cur = con.cursor()\n",
    "query=\"create table customer(id int,name varchar(250))\"\n",
    "cur.execute(query)\n",
    "import random\n",
    "names=[\"anil\",\"pavan\",\"rajesh\",\"jayaram\",\"santhosh\",\"sampath\"]\n",
    "for i in range(1,101):\n",
    "    q=\"insert into customer values(%s,'%s')\"%(i, random.choice(names))\n",
    "    cur.execute(q)\n",
    "con.commit()"
   ]
  },
  {
   "cell_type": "code",
   "execution_count": 26,
   "metadata": {},
   "outputs": [
    {
     "name": "stdout",
     "output_type": "stream",
     "text": [
      "Enter name to search:anil\n",
      "[(1, 'anil'), (3, 'anil'), (19, 'anil'), (29, 'anil'), (31, 'anil'), (32, 'anil'), (36, 'anil'), (38, 'anil'), (48, 'anil'), (50, 'anil'), (53, 'anil'), (56, 'anil'), (72, 'anil'), (82, 'anil'), (85, 'anil')]\n"
     ]
    }
   ],
   "source": [
    "p_name=raw_input(\"Enter name to search:\")\n",
    "q=\"select * from customer where name='%s'\"%p_name\n",
    "cur.execute(q)\n",
    "print cur.fetchall()"
   ]
  },
  {
   "cell_type": "code",
   "execution_count": 27,
   "metadata": {},
   "outputs": [
    {
     "name": "stdout",
     "output_type": "stream",
     "text": [
      "Enter name to search:anil\n",
      "[(15L,)]\n"
     ]
    }
   ],
   "source": [
    "p_name=raw_input(\"Enter name to search:\")\n",
    "q=\"select count(*) from customer where name='%s'\"%p_name\n",
    "cur.execute(q)\n",
    "print cur.fetchall()"
   ]
  },
  {
   "cell_type": "code",
   "execution_count": 28,
   "metadata": {},
   "outputs": [
    {
     "name": "stdout",
     "output_type": "stream",
     "text": [
      "Enter name to search:rajesh\n",
      "[(15L,)]\n"
     ]
    }
   ],
   "source": [
    "p_name=raw_input(\"Enter name to search:\")\n",
    "q=\"select count(*) from customer where name='%s'\"%p_name\n",
    "cur.execute(q)\n",
    "print cur.fetchall()"
   ]
  },
  {
   "cell_type": "code",
   "execution_count": 29,
   "metadata": {},
   "outputs": [
    {
     "name": "stdout",
     "output_type": "stream",
     "text": [
      "Enter name to search:santhosh\n",
      "[(14L,)]\n"
     ]
    }
   ],
   "source": [
    "p_name=raw_input(\"Enter name to search:\")\n",
    "q=\"select count(*) from customer where name='%s'\"%p_name\n",
    "cur.execute(q)\n",
    "print cur.fetchall()"
   ]
  },
  {
   "cell_type": "code",
   "execution_count": 30,
   "metadata": {},
   "outputs": [
    {
     "name": "stdout",
     "output_type": "stream",
     "text": [
      "Enter name to search:santhosh\n",
      "14\n"
     ]
    }
   ],
   "source": [
    "p_name=raw_input(\"Enter name to search:\")\n",
    "q=\"select * from customer where name='%s'\"%p_name\n",
    "cur.execute(q)\n",
    "data = cur.fetchall()\n",
    "print len(data)\n"
   ]
  },
  {
   "cell_type": "code",
   "execution_count": 31,
   "metadata": {},
   "outputs": [
    {
     "name": "stdout",
     "output_type": "stream",
     "text": [
      "Enter name to search:anil\n",
      "(1, 'anil')\n",
      "(3, 'anil')\n",
      "(19, 'anil')\n",
      "(29, 'anil')\n",
      "(31, 'anil')\n",
      "(32, 'anil')\n",
      "(36, 'anil')\n",
      "(38, 'anil')\n",
      "(48, 'anil')\n",
      "(50, 'anil')\n",
      "(53, 'anil')\n",
      "(56, 'anil')\n",
      "(72, 'anil')\n",
      "(82, 'anil')\n",
      "(85, 'anil')\n"
     ]
    }
   ],
   "source": [
    "p_name=raw_input(\"Enter name to search:\")\n",
    "q=\"select * from customer\"\n",
    "cur.execute(q)\n",
    "data = cur.fetchall()\n",
    "for row in data:\n",
    "    if row[1]==p_name:\n",
    "        print row\n"
   ]
  },
  {
   "cell_type": "code",
   "execution_count": 32,
   "metadata": {},
   "outputs": [
    {
     "name": "stdout",
     "output_type": "stream",
     "text": [
      "1.Register\n",
      "2.Login\n"
     ]
    }
   ],
   "source": [
    "print \"1.Register\\n2.Login\"\n"
   ]
  },
  {
   "cell_type": "code",
   "execution_count": 33,
   "metadata": {},
   "outputs": [
    {
     "name": "stdout",
     "output_type": "stream",
     "text": [
      "1.Register\n",
      "2.Login:1\n"
     ]
    }
   ],
   "source": [
    "flag = raw_input(\"1.Register\\n2.Login:\")\n"
   ]
  },
  {
   "cell_type": "code",
   "execution_count": 34,
   "metadata": {},
   "outputs": [
    {
     "data": {
      "text/plain": [
       "'1'"
      ]
     },
     "execution_count": 34,
     "metadata": {},
     "output_type": "execute_result"
    }
   ],
   "source": [
    "flag"
   ]
  },
  {
   "cell_type": "code",
   "execution_count": 35,
   "metadata": {},
   "outputs": [
    {
     "name": "stdout",
     "output_type": "stream",
     "text": [
      "1.Register\n",
      "2.Login:1\n",
      "Enter customer id:101\n",
      "Enter customer name:costomer101\n"
     ]
    }
   ],
   "source": [
    "flag = raw_input(\"1.Register\\n2.Login:\")\n",
    "if flag==\"1\":\n",
    "    p_id=raw_input(\"Enter customer id:\")\n",
    "    p_name=raw_input(\"Enter customer name:\")\n",
    "    q=\"insert into customer values(%s,'%s')\"%(p_id, p_name)\n",
    "    cur.execute(q)\n",
    "    con.commit()\n"
   ]
  },
  {
   "cell_type": "code",
   "execution_count": 38,
   "metadata": {},
   "outputs": [
    {
     "name": "stdout",
     "output_type": "stream",
     "text": [
      "1.Register\n",
      "2.Login:2\n",
      "Enter name to login:santhosh\n",
      "login successfully\n"
     ]
    }
   ],
   "source": [
    "flag = raw_input(\"1.Register\\n2.Login:\")\n",
    "if flag==\"1\":\n",
    "    p_id=raw_input(\"Enter customer id:\")\n",
    "    p_name=raw_input(\"Enter customer name:\")\n",
    "    q=\"insert into customer values(%s,'%s')\"%(p_id, p_name)\n",
    "    cur.execute(q)\n",
    "    con.commit()\n",
    "elif flag==\"2\":\n",
    "    p_name=raw_input(\"Enter name to login:\")\n",
    "    q=\"select * from customer where name='%s'\"%p_name\n",
    "    cur.execute(q)\n",
    "    data = cur.fetchall()\n",
    "    if data:\n",
    "        print \"login successfully\"\n",
    "    else:\n",
    "        print \"not able to find the user with the name\"\n",
    "    "
   ]
  },
  {
   "cell_type": "code",
   "execution_count": 39,
   "metadata": {},
   "outputs": [
    {
     "name": "stdout",
     "output_type": "stream",
     "text": [
      "1.Register\n",
      "2.Login:2\n",
      "Enter name to login:samba\n",
      "not able to find the user with the name\n"
     ]
    }
   ],
   "source": [
    "flag = raw_input(\"1.Register\\n2.Login:\")\n",
    "if flag==\"1\":\n",
    "    p_id=raw_input(\"Enter customer id:\")\n",
    "    p_name=raw_input(\"Enter customer name:\")\n",
    "    q=\"insert into customer values(%s,'%s')\"%(p_id, p_name)\n",
    "    cur.execute(q)\n",
    "    con.commit()\n",
    "elif flag==\"2\":\n",
    "    p_name=raw_input(\"Enter name to login:\")\n",
    "    q=\"select * from customer where name='%s'\"%p_name\n",
    "    cur.execute(q)\n",
    "    data = cur.fetchall()\n",
    "    if data:\n",
    "        print \"login successfully\"\n",
    "    else:\n",
    "        print \"not able to find the user with the name\"\n",
    "    "
   ]
  },
  {
   "cell_type": "code",
   "execution_count": 40,
   "metadata": {},
   "outputs": [
    {
     "name": "stdout",
     "output_type": "stream",
     "text": [
      "1.Register\n",
      "2.Login\n",
      "q.quit:1\n",
      "Enter customer id:samba\n",
      "Enter customer name:samba\n"
     ]
    },
    {
     "ename": "ProgrammingError",
     "evalue": "column \"samba\" does not exist\nLINE 1: insert into customer values(samba,'samba')\n                                    ^\n",
     "output_type": "error",
     "traceback": [
      "\u001b[0;31m---------------------------------------------------------------------------\u001b[0m",
      "\u001b[0;31mProgrammingError\u001b[0m                          Traceback (most recent call last)",
      "\u001b[0;32m<ipython-input-40-54f534e986a7>\u001b[0m in \u001b[0;36m<module>\u001b[0;34m()\u001b[0m\n\u001b[1;32m      7\u001b[0m         \u001b[0mp_name\u001b[0m\u001b[0;34m=\u001b[0m\u001b[0mraw_input\u001b[0m\u001b[0;34m(\u001b[0m\u001b[0;34m\"Enter customer name:\"\u001b[0m\u001b[0;34m)\u001b[0m\u001b[0;34m\u001b[0m\u001b[0m\n\u001b[1;32m      8\u001b[0m         \u001b[0mq\u001b[0m\u001b[0;34m=\u001b[0m\u001b[0;34m\"insert into customer values(%s,'%s')\"\u001b[0m\u001b[0;34m%\u001b[0m\u001b[0;34m(\u001b[0m\u001b[0mp_id\u001b[0m\u001b[0;34m,\u001b[0m \u001b[0mp_name\u001b[0m\u001b[0;34m)\u001b[0m\u001b[0;34m\u001b[0m\u001b[0m\n\u001b[0;32m----> 9\u001b[0;31m         \u001b[0mcur\u001b[0m\u001b[0;34m.\u001b[0m\u001b[0mexecute\u001b[0m\u001b[0;34m(\u001b[0m\u001b[0mq\u001b[0m\u001b[0;34m)\u001b[0m\u001b[0;34m\u001b[0m\u001b[0m\n\u001b[0m\u001b[1;32m     10\u001b[0m         \u001b[0mcon\u001b[0m\u001b[0;34m.\u001b[0m\u001b[0mcommit\u001b[0m\u001b[0;34m(\u001b[0m\u001b[0;34m)\u001b[0m\u001b[0;34m\u001b[0m\u001b[0m\n\u001b[1;32m     11\u001b[0m     \u001b[0;32melif\u001b[0m \u001b[0mflag\u001b[0m\u001b[0;34m==\u001b[0m\u001b[0;34m\"2\"\u001b[0m\u001b[0;34m:\u001b[0m\u001b[0;34m\u001b[0m\u001b[0m\n",
      "\u001b[0;31mProgrammingError\u001b[0m: column \"samba\" does not exist\nLINE 1: insert into customer values(samba,'samba')\n                                    ^\n"
     ]
    }
   ],
   "source": [
    "while True:\n",
    "    flag = raw_input(\"1.Register\\n2.Login\\nq.quit:\")\n",
    "    if flag==\"q\":\n",
    "        break\n",
    "    if flag==\"1\":\n",
    "        p_id=raw_input(\"Enter customer id:\")\n",
    "        p_name=raw_input(\"Enter customer name:\")\n",
    "        q=\"insert into customer values(%s,'%s')\"%(p_id, p_name)\n",
    "        cur.execute(q)\n",
    "        con.commit()\n",
    "    elif flag==\"2\":\n",
    "        p_name=raw_input(\"Enter name to login:\")\n",
    "        q=\"select * from customer where name='%s'\"%p_name\n",
    "        cur.execute(q)\n",
    "        data = cur.fetchall()\n",
    "        if data:\n",
    "            print \"login successfully\"\n",
    "        else:\n",
    "            print \"not able to find the user with the name\"\n"
   ]
  },
  {
   "cell_type": "code",
   "execution_count": 41,
   "metadata": {},
   "outputs": [
    {
     "name": "stdout",
     "output_type": "stream",
     "text": [
      "1.Register\n",
      "2.Login\n",
      "q.quit:1\n",
      "Enter customer id:103\n",
      "Enter customer name:samba\n"
     ]
    },
    {
     "ename": "InternalError",
     "evalue": "current transaction is aborted, commands ignored until end of transaction block\n",
     "output_type": "error",
     "traceback": [
      "\u001b[0;31m---------------------------------------------------------------------------\u001b[0m",
      "\u001b[0;31mInternalError\u001b[0m                             Traceback (most recent call last)",
      "\u001b[0;32m<ipython-input-41-54f534e986a7>\u001b[0m in \u001b[0;36m<module>\u001b[0;34m()\u001b[0m\n\u001b[1;32m      7\u001b[0m         \u001b[0mp_name\u001b[0m\u001b[0;34m=\u001b[0m\u001b[0mraw_input\u001b[0m\u001b[0;34m(\u001b[0m\u001b[0;34m\"Enter customer name:\"\u001b[0m\u001b[0;34m)\u001b[0m\u001b[0;34m\u001b[0m\u001b[0m\n\u001b[1;32m      8\u001b[0m         \u001b[0mq\u001b[0m\u001b[0;34m=\u001b[0m\u001b[0;34m\"insert into customer values(%s,'%s')\"\u001b[0m\u001b[0;34m%\u001b[0m\u001b[0;34m(\u001b[0m\u001b[0mp_id\u001b[0m\u001b[0;34m,\u001b[0m \u001b[0mp_name\u001b[0m\u001b[0;34m)\u001b[0m\u001b[0;34m\u001b[0m\u001b[0m\n\u001b[0;32m----> 9\u001b[0;31m         \u001b[0mcur\u001b[0m\u001b[0;34m.\u001b[0m\u001b[0mexecute\u001b[0m\u001b[0;34m(\u001b[0m\u001b[0mq\u001b[0m\u001b[0;34m)\u001b[0m\u001b[0;34m\u001b[0m\u001b[0m\n\u001b[0m\u001b[1;32m     10\u001b[0m         \u001b[0mcon\u001b[0m\u001b[0;34m.\u001b[0m\u001b[0mcommit\u001b[0m\u001b[0;34m(\u001b[0m\u001b[0;34m)\u001b[0m\u001b[0;34m\u001b[0m\u001b[0m\n\u001b[1;32m     11\u001b[0m     \u001b[0;32melif\u001b[0m \u001b[0mflag\u001b[0m\u001b[0;34m==\u001b[0m\u001b[0;34m\"2\"\u001b[0m\u001b[0;34m:\u001b[0m\u001b[0;34m\u001b[0m\u001b[0m\n",
      "\u001b[0;31mInternalError\u001b[0m: current transaction is aborted, commands ignored until end of transaction block\n"
     ]
    }
   ],
   "source": [
    "while True:\n",
    "    flag = raw_input(\"1.Register\\n2.Login\\nq.quit:\")\n",
    "    if flag==\"q\":\n",
    "        break\n",
    "    if flag==\"1\":\n",
    "        p_id=raw_input(\"Enter customer id:\")\n",
    "        p_name=raw_input(\"Enter customer name:\")\n",
    "        q=\"insert into customer values(%s,'%s')\"%(p_id, p_name)\n",
    "        cur.execute(q)\n",
    "        con.commit()\n",
    "    elif flag==\"2\":\n",
    "        p_name=raw_input(\"Enter name to login:\")\n",
    "        q=\"select * from customer where name='%s'\"%p_name\n",
    "        cur.execute(q)\n",
    "        data = cur.fetchall()\n",
    "        if data:\n",
    "            print \"login successfully\"\n",
    "        else:\n",
    "            print \"not able to find the user with the name\"\n"
   ]
  },
  {
   "cell_type": "code",
   "execution_count": null,
   "metadata": {
    "collapsed": true
   },
   "outputs": [],
   "source": []
  }
 ],
 "metadata": {
  "kernelspec": {
   "display_name": "Python 2",
   "language": "python",
   "name": "python2"
  },
  "language_info": {
   "codemirror_mode": {
    "name": "ipython",
    "version": 2
   },
   "file_extension": ".py",
   "mimetype": "text/x-python",
   "name": "python",
   "nbconvert_exporter": "python",
   "pygments_lexer": "ipython2",
   "version": "2.7.14"
  }
 },
 "nbformat": 4,
 "nbformat_minor": 2
}
