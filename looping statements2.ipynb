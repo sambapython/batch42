{
 "cells": [
  {
   "cell_type": "code",
   "execution_count": 1,
   "metadata": {},
   "outputs": [
    {
     "name": "stdout",
     "output_type": "stream",
     "text": [
      "[0, 1, 2, 3, 4, 5, 6, 7, 8, 9]\n"
     ]
    }
   ],
   "source": [
    "# 9-> 1,9  2,8\n",
    "#number=int(raw_input(\"Enter number:\"))\n",
    "print range(10)"
   ]
  },
  {
   "cell_type": "code",
   "execution_count": 2,
   "metadata": {},
   "outputs": [
    {
     "data": {
      "text/plain": [
       "[2, 3, 4, 5, 6, 7, 8, 9]"
      ]
     },
     "execution_count": 2,
     "metadata": {},
     "output_type": "execute_result"
    }
   ],
   "source": [
    "range(2,10)"
   ]
  },
  {
   "cell_type": "code",
   "execution_count": 3,
   "metadata": {},
   "outputs": [
    {
     "data": {
      "text/plain": [
       "[1, 3, 5, 7, 9]"
      ]
     },
     "execution_count": 3,
     "metadata": {},
     "output_type": "execute_result"
    }
   ],
   "source": [
    "range(1,10,2)"
   ]
  },
  {
   "cell_type": "code",
   "execution_count": 4,
   "metadata": {},
   "outputs": [
    {
     "data": {
      "text/plain": [
       "[-10, -9, -8, -7, -6, -5, -4, -3, -2, -1, 0, 1]"
      ]
     },
     "execution_count": 4,
     "metadata": {},
     "output_type": "execute_result"
    }
   ],
   "source": [
    "range(-10,2)"
   ]
  },
  {
   "cell_type": "code",
   "execution_count": 5,
   "metadata": {},
   "outputs": [
    {
     "data": {
      "text/plain": [
       "[]"
      ]
     },
     "execution_count": 5,
     "metadata": {},
     "output_type": "execute_result"
    }
   ],
   "source": [
    "range(10,2)"
   ]
  },
  {
   "cell_type": "code",
   "execution_count": 6,
   "metadata": {},
   "outputs": [
    {
     "data": {
      "text/plain": [
       "[10, 9, 8, 7, 6, 5, 4, 3]"
      ]
     },
     "execution_count": 6,
     "metadata": {},
     "output_type": "execute_result"
    }
   ],
   "source": [
    "range(10,2,-1)"
   ]
  },
  {
   "cell_type": "code",
   "execution_count": 7,
   "metadata": {},
   "outputs": [
    {
     "ename": "TypeError",
     "evalue": "range() integer step argument expected, got float.",
     "output_type": "error",
     "traceback": [
      "\u001b[0;31m---------------------------------------------------------------------------\u001b[0m",
      "\u001b[0;31mTypeError\u001b[0m                                 Traceback (most recent call last)",
      "\u001b[0;32m<ipython-input-7-b0aa0abbe3db>\u001b[0m in \u001b[0;36m<module>\u001b[0;34m()\u001b[0m\n\u001b[0;32m----> 1\u001b[0;31m \u001b[0mrange\u001b[0m\u001b[0;34m(\u001b[0m\u001b[0;36m1\u001b[0m\u001b[0;34m,\u001b[0m\u001b[0;36m2\u001b[0m\u001b[0;34m,\u001b[0m\u001b[0;36m0.1\u001b[0m\u001b[0;34m)\u001b[0m\u001b[0;34m\u001b[0m\u001b[0m\n\u001b[0m",
      "\u001b[0;31mTypeError\u001b[0m: range() integer step argument expected, got float."
     ]
    }
   ],
   "source": [
    "range(1,2,0.1)"
   ]
  },
  {
   "cell_type": "code",
   "execution_count": 8,
   "metadata": {},
   "outputs": [
    {
     "ename": "TypeError",
     "evalue": "range() integer end argument expected, got str.",
     "output_type": "error",
     "traceback": [
      "\u001b[0;31m---------------------------------------------------------------------------\u001b[0m",
      "\u001b[0;31mTypeError\u001b[0m                                 Traceback (most recent call last)",
      "\u001b[0;32m<ipython-input-8-1be13b9a583f>\u001b[0m in \u001b[0;36m<module>\u001b[0;34m()\u001b[0m\n\u001b[0;32m----> 1\u001b[0;31m \u001b[0mrange\u001b[0m\u001b[0;34m(\u001b[0m\u001b[0;34m\"a\"\u001b[0m\u001b[0;34m,\u001b[0m\u001b[0;34m\"z\"\u001b[0m\u001b[0;34m)\u001b[0m\u001b[0;34m\u001b[0m\u001b[0m\n\u001b[0m",
      "\u001b[0;31mTypeError\u001b[0m: range() integer end argument expected, got str."
     ]
    }
   ],
   "source": [
    "range(\"a\",\"z\")"
   ]
  },
  {
   "cell_type": "code",
   "execution_count": 9,
   "metadata": {},
   "outputs": [
    {
     "data": {
      "text/plain": [
       "[0, 1, 2, 3, 4, 5, 6, 7, 8, 9]"
      ]
     },
     "execution_count": 9,
     "metadata": {},
     "output_type": "execute_result"
    }
   ],
   "source": [
    "range(10)"
   ]
  },
  {
   "cell_type": "code",
   "execution_count": 10,
   "metadata": {},
   "outputs": [
    {
     "ename": "MemoryError",
     "evalue": "",
     "output_type": "error",
     "traceback": [
      "\u001b[0;31m---------------------------------------------------------------------------\u001b[0m",
      "\u001b[0;31mMemoryError\u001b[0m                               Traceback (most recent call last)",
      "\u001b[0;32m<ipython-input-10-989f3f930a9c>\u001b[0m in \u001b[0;36m<module>\u001b[0;34m()\u001b[0m\n\u001b[0;32m----> 1\u001b[0;31m \u001b[0mrange\u001b[0m\u001b[0;34m(\u001b[0m\u001b[0;36m1320000000\u001b[0m\u001b[0;34m)\u001b[0m\u001b[0;34m\u001b[0m\u001b[0m\n\u001b[0m",
      "\u001b[0;31mMemoryError\u001b[0m: "
     ]
    }
   ],
   "source": [
    "range(1320000000)"
   ]
  },
  {
   "cell_type": "code",
   "execution_count": 11,
   "metadata": {},
   "outputs": [
    {
     "data": {
      "text/plain": [
       "xrange(10)"
      ]
     },
     "execution_count": 11,
     "metadata": {},
     "output_type": "execute_result"
    }
   ],
   "source": [
    "xrange(10)"
   ]
  },
  {
   "cell_type": "code",
   "execution_count": 12,
   "metadata": {},
   "outputs": [
    {
     "data": {
      "text/plain": [
       "[0, 1, 2, 3, 4, 5, 6, 7, 8, 9]"
      ]
     },
     "execution_count": 12,
     "metadata": {},
     "output_type": "execute_result"
    }
   ],
   "source": [
    "range(10)"
   ]
  },
  {
   "cell_type": "code",
   "execution_count": 13,
   "metadata": {},
   "outputs": [
    {
     "name": "stdout",
     "output_type": "stream",
     "text": [
      "0\n",
      "1\n",
      "2\n",
      "3\n",
      "4\n",
      "5\n",
      "6\n",
      "7\n",
      "8\n",
      "9\n"
     ]
    }
   ],
   "source": [
    "for i in range(10):\n",
    "    print i"
   ]
  },
  {
   "cell_type": "code",
   "execution_count": 14,
   "metadata": {},
   "outputs": [
    {
     "name": "stdout",
     "output_type": "stream",
     "text": [
      "0\n",
      "1\n",
      "2\n",
      "3\n",
      "4\n",
      "5\n",
      "6\n",
      "7\n",
      "8\n",
      "9\n"
     ]
    }
   ],
   "source": [
    "for i in xrange(10):\n",
    "    print i"
   ]
  },
  {
   "cell_type": "code",
   "execution_count": 15,
   "metadata": {},
   "outputs": [
    {
     "name": "stdout",
     "output_type": "stream",
     "text": [
      "Enter a number:9\n",
      "2\n",
      "3\n",
      "4\n",
      "5\n",
      "6\n",
      "7\n",
      "8\n"
     ]
    }
   ],
   "source": [
    "number=int(raw_input(\"Enter a number:\"))\n",
    "for i in xrange(2,number):\n",
    "    print i"
   ]
  },
  {
   "cell_type": "code",
   "execution_count": 16,
   "metadata": {},
   "outputs": [
    {
     "name": "stdout",
     "output_type": "stream",
     "text": [
      "0\n",
      "1\n",
      "2\n",
      "3\n",
      "4\n",
      "5\n",
      "6\n",
      "7\n",
      "8\n",
      "9\n",
      "i out side loop: 9\n"
     ]
    }
   ],
   "source": [
    "for i in range(10):\n",
    "    print i\n",
    "print \"i out side loop:\",i"
   ]
  },
  {
   "cell_type": "code",
   "execution_count": 17,
   "metadata": {},
   "outputs": [
    {
     "name": "stdout",
     "output_type": "stream",
     "text": [
      "0\n",
      "i out side loop: 0\n"
     ]
    }
   ],
   "source": [
    "for i in range(10):\n",
    "    print i\n",
    "    break\n",
    "print \"i out side loop:\",i"
   ]
  },
  {
   "cell_type": "code",
   "execution_count": 18,
   "metadata": {},
   "outputs": [
    {
     "name": "stdout",
     "output_type": "stream",
     "text": [
      "0\n"
     ]
    }
   ],
   "source": [
    "i=0\n",
    "while i<10:\n",
    "    break\n",
    "    i=i+1\n",
    "print i"
   ]
  },
  {
   "cell_type": "code",
   "execution_count": 19,
   "metadata": {},
   "outputs": [
    {
     "name": "stdout",
     "output_type": "stream",
     "text": [
      "1\n"
     ]
    }
   ],
   "source": [
    "i=0\n",
    "while i<10:\n",
    "    i=i+1\n",
    "    break\n",
    "print i"
   ]
  },
  {
   "cell_type": "code",
   "execution_count": 20,
   "metadata": {},
   "outputs": [
    {
     "name": "stdout",
     "output_type": "stream",
     "text": [
      "10\n"
     ]
    }
   ],
   "source": [
    "i=0\n",
    "while i<10:\n",
    "    i=i+1\n",
    "print i"
   ]
  },
  {
   "cell_type": "code",
   "execution_count": 21,
   "metadata": {},
   "outputs": [
    {
     "name": "stdout",
     "output_type": "stream",
     "text": [
      "10\n"
     ]
    }
   ],
   "source": [
    "i=0\n",
    "while i<10:\n",
    "    i=i+1\n",
    "    continue\n",
    "print i"
   ]
  },
  {
   "cell_type": "code",
   "execution_count": null,
   "metadata": {
    "collapsed": true
   },
   "outputs": [],
   "source": [
    "i=0\n",
    "while i<10:\n",
    "    continue\n",
    "    i=i+1\n",
    "print i"
   ]
  },
  {
   "cell_type": "code",
   "execution_count": null,
   "metadata": {
    "collapsed": true
   },
   "outputs": [],
   "source": [
    "i=0\n",
    "while i<10:\n",
    "    if i==5:\n",
    "        continue\n",
    "    i=i+1\n",
    "print i"
   ]
  },
  {
   "cell_type": "code",
   "execution_count": 22,
   "metadata": {},
   "outputs": [
    {
     "name": "stdout",
     "output_type": "stream",
     "text": [
      "10\n"
     ]
    }
   ],
   "source": [
    "i=0\n",
    "while i<10:\n",
    "    i=i+1\n",
    "    if i==5:\n",
    "        continue\n",
    "print i"
   ]
  },
  {
   "cell_type": "code",
   "execution_count": 23,
   "metadata": {},
   "outputs": [
    {
     "name": "stdout",
     "output_type": "stream",
     "text": [
      "5\n"
     ]
    }
   ],
   "source": [
    "i=0\n",
    "while i<10:\n",
    "    i=i+1\n",
    "    if i==5:\n",
    "        break\n",
    "print i"
   ]
  },
  {
   "cell_type": "code",
   "execution_count": 25,
   "metadata": {},
   "outputs": [
    {
     "name": "stdout",
     "output_type": "stream",
     "text": [
      "enter a number:9\n",
      "it's a prime number\n"
     ]
    }
   ],
   "source": [
    "# check whether given number prime or not\n",
    "factor_count=0\n",
    "number = int(raw_input(\"enter a number:\"))\n",
    "for i in xrange(2,number):\n",
    "    if number%i==0:\n",
    "        factor_count = factor_count+1\n",
    "if factor_count>1:\n",
    "    print \"it's not a priume number\"\n",
    "else:\n",
    "    print \"it's a prime number\"\n",
    "    "
   ]
  },
  {
   "cell_type": "code",
   "execution_count": 26,
   "metadata": {},
   "outputs": [
    {
     "name": "stdout",
     "output_type": "stream",
     "text": [
      "enter a number:31\n",
      "it's a prime number\n"
     ]
    }
   ],
   "source": [
    "# check whether given number prime or not\n",
    "factor_count=0\n",
    "number = int(raw_input(\"enter a number:\"))\n",
    "for i in xrange(2,number):\n",
    "    if number%i==0:\n",
    "        factor_count = factor_count+1\n",
    "if factor_count>1:\n",
    "    print \"it's not a priume number\"\n",
    "else:\n",
    "    print \"it's a prime number\"\n",
    "    "
   ]
  },
  {
   "cell_type": "code",
   "execution_count": 27,
   "metadata": {},
   "outputs": [
    {
     "name": "stdout",
     "output_type": "stream",
     "text": [
      "enter a number:12\n",
      "2\n",
      "3\n",
      "4\n",
      "5\n",
      "6\n",
      "7\n",
      "8\n",
      "9\n",
      "10\n",
      "11\n",
      "it's not a priume number\n"
     ]
    }
   ],
   "source": [
    "# check whether given number prime or not\n",
    "factor_count=0\n",
    "number = int(raw_input(\"enter a number:\"))\n",
    "for i in xrange(2,number):\n",
    "    print i\n",
    "    if number%i==0:\n",
    "        factor_count = factor_count+1\n",
    "if factor_count>1:\n",
    "    print \"it's not a priume number\"\n",
    "else:\n",
    "    print \"it's a prime number\"\n",
    "    "
   ]
  },
  {
   "cell_type": "code",
   "execution_count": 28,
   "metadata": {},
   "outputs": [
    {
     "name": "stdout",
     "output_type": "stream",
     "text": [
      "enter a number:9\n",
      "2\n",
      "3\n",
      "4\n",
      "5\n",
      "6\n",
      "7\n",
      "8\n",
      "it's a prime number\n"
     ]
    }
   ],
   "source": [
    "# check whether given number prime or not\n",
    "factor_count=0\n",
    "number = int(raw_input(\"enter a number:\"))\n",
    "for i in xrange(2,number):\n",
    "    print i\n",
    "    if number%i==0:\n",
    "        factor_count = factor_count+1\n",
    "if factor_count>1:\n",
    "    print \"it's not a priume number\"\n",
    "else:\n",
    "    print \"it's a prime number\"\n",
    "    "
   ]
  },
  {
   "cell_type": "code",
   "execution_count": 29,
   "metadata": {},
   "outputs": [
    {
     "name": "stdout",
     "output_type": "stream",
     "text": [
      "enter a number:10\n",
      "2\n",
      "3\n",
      "4\n",
      "5\n",
      "6\n",
      "7\n",
      "8\n",
      "9\n",
      "it's not a priume number\n"
     ]
    }
   ],
   "source": [
    "# check whether given number prime or not\n",
    "factor_count=0\n",
    "number = int(raw_input(\"enter a number:\"))\n",
    "for i in xrange(2,number):\n",
    "    print i\n",
    "    if number%i==0:\n",
    "        factor_count = factor_count+1\n",
    "if factor_count>1:\n",
    "    print \"it's not a priume number\"\n",
    "else:\n",
    "    print \"it's a prime number\"\n",
    "    "
   ]
  },
  {
   "cell_type": "code",
   "execution_count": 31,
   "metadata": {},
   "outputs": [
    {
     "name": "stdout",
     "output_type": "stream",
     "text": [
      "enter a number:1320000000\n",
      "2\n",
      "it's not a priume number\n"
     ]
    }
   ],
   "source": [
    "# check whether given number prime or not\n",
    "factor_count=0\n",
    "number = int(raw_input(\"enter a number:\"))\n",
    "for i in xrange(2,number):\n",
    "    print i\n",
    "    if number%i==0:\n",
    "        factor_count = factor_count+1\n",
    "        break\n",
    "if factor_count>0:\n",
    "    print \"it's not a priume number\"\n",
    "else:\n",
    "    print \"it's a prime number\"\n",
    "    "
   ]
  },
  {
   "cell_type": "code",
   "execution_count": 32,
   "metadata": {},
   "outputs": [
    {
     "name": "stdout",
     "output_type": "stream",
     "text": [
      "enter a number:12\n",
      "2\n",
      "it's not a prime number.\n"
     ]
    }
   ],
   "source": [
    "# check whether given number prime or not\n",
    "\n",
    "number = int(raw_input(\"enter a number:\"))\n",
    "for i in xrange(2,number):\n",
    "    print i\n",
    "    if number%i==0:\n",
    "        print \"it's not a prime number.\"\n",
    "        break\n",
    "else:\n",
    "    print \"it's a prime number\"\n",
    "    \n",
    "    "
   ]
  },
  {
   "cell_type": "code",
   "execution_count": 33,
   "metadata": {},
   "outputs": [
    {
     "name": "stdout",
     "output_type": "stream",
     "text": [
      "enter a number:13\n",
      "2\n",
      "3\n",
      "4\n",
      "5\n",
      "6\n",
      "7\n",
      "8\n",
      "9\n",
      "10\n",
      "11\n",
      "12\n",
      "it's a prime number\n"
     ]
    }
   ],
   "source": [
    "# check whether given number prime or not\n",
    "\n",
    "number = int(raw_input(\"enter a number:\"))\n",
    "for i in xrange(2,number):\n",
    "    print i\n",
    "    if number%i==0:\n",
    "        print \"it's not a prime number.\"\n",
    "        break\n",
    "else:\n",
    "    print \"it's a prime number\"\n",
    "    \n",
    "    "
   ]
  },
  {
   "cell_type": "code",
   "execution_count": 34,
   "metadata": {},
   "outputs": [
    {
     "name": "stdout",
     "output_type": "stream",
     "text": [
      "enter a number:13\n",
      "2\n",
      "3\n",
      "4\n",
      "5\n",
      "it's a prime number\n"
     ]
    }
   ],
   "source": [
    "# check whether given number prime or not\n",
    "\n",
    "number = int(raw_input(\"enter a number:\"))\n",
    "for i in xrange(2,number/2):\n",
    "    print i\n",
    "    if number%i==0:\n",
    "        print \"it's not a prime number.\"\n",
    "        break\n",
    "else:\n",
    "    print \"it's a prime number\"\n",
    "    \n",
    "    "
   ]
  },
  {
   "cell_type": "code",
   "execution_count": 35,
   "metadata": {},
   "outputs": [
    {
     "name": "stdout",
     "output_type": "stream",
     "text": [
      "enter a number:51\n",
      "2\n",
      "3\n",
      "it's not a prime number.\n"
     ]
    }
   ],
   "source": [
    "# check whether given number prime or not\n",
    "\n",
    "number = int(raw_input(\"enter a number:\"))\n",
    "for i in xrange(2,number/2):\n",
    "    print i\n",
    "    if number%i==0:\n",
    "        print \"it's not a prime number.\"\n",
    "        break\n",
    "else:\n",
    "    print \"it's a prime number\"\n",
    "    \n",
    "    "
   ]
  },
  {
   "cell_type": "code",
   "execution_count": 36,
   "metadata": {},
   "outputs": [
    {
     "name": "stdout",
     "output_type": "stream",
     "text": [
      "enter a number:97\n",
      "2\n",
      "3\n",
      "4\n",
      "5\n",
      "6\n",
      "7\n",
      "8\n",
      "9\n",
      "10\n",
      "11\n",
      "12\n",
      "13\n",
      "14\n",
      "15\n",
      "16\n",
      "17\n",
      "18\n",
      "19\n",
      "20\n",
      "21\n",
      "22\n",
      "23\n",
      "24\n",
      "25\n",
      "26\n",
      "27\n",
      "28\n",
      "29\n",
      "30\n",
      "31\n",
      "32\n",
      "33\n",
      "34\n",
      "35\n",
      "36\n",
      "37\n",
      "38\n",
      "39\n",
      "40\n",
      "41\n",
      "42\n",
      "43\n",
      "44\n",
      "45\n",
      "46\n",
      "47\n",
      "it's a prime number\n"
     ]
    }
   ],
   "source": [
    "# check whether given number prime or not\n",
    "\n",
    "number = int(raw_input(\"enter a number:\"))\n",
    "for i in xrange(2,number/2):\n",
    "    print i\n",
    "    if number%i==0:\n",
    "        print \"it's not a prime number.\"\n",
    "        break\n",
    "else:\n",
    "    print \"it's a prime number\""
   ]
  },
  {
   "cell_type": "code",
   "execution_count": 38,
   "metadata": {},
   "outputs": [
    {
     "name": "stdout",
     "output_type": "stream",
     "text": [
      "enter a number:5,500\n"
     ]
    },
    {
     "ename": "ValueError",
     "evalue": "invalid literal for int() with base 10: '5,500'",
     "output_type": "error",
     "traceback": [
      "\u001b[0;31m---------------------------------------------------------------------------\u001b[0m",
      "\u001b[0;31mValueError\u001b[0m                                Traceback (most recent call last)",
      "\u001b[0;32m<ipython-input-38-3630a68c769f>\u001b[0m in \u001b[0;36m<module>\u001b[0;34m()\u001b[0m\n\u001b[1;32m      1\u001b[0m \u001b[0;31m# check whether given number prime or not\u001b[0m\u001b[0;34m\u001b[0m\u001b[0;34m\u001b[0m\u001b[0m\n\u001b[1;32m      2\u001b[0m \u001b[0;34m\u001b[0m\u001b[0m\n\u001b[0;32m----> 3\u001b[0;31m \u001b[0mstart\u001b[0m \u001b[0;34m=\u001b[0m \u001b[0mint\u001b[0m\u001b[0;34m(\u001b[0m\u001b[0mraw_input\u001b[0m\u001b[0;34m(\u001b[0m\u001b[0;34m\"enter a number:\"\u001b[0m\u001b[0;34m)\u001b[0m\u001b[0;34m)\u001b[0m\u001b[0;34m\u001b[0m\u001b[0m\n\u001b[0m\u001b[1;32m      4\u001b[0m \u001b[0mprime_number\u001b[0m\u001b[0;34m=\u001b[0m\u001b[0mNone\u001b[0m\u001b[0;34m\u001b[0m\u001b[0m\n\u001b[1;32m      5\u001b[0m \u001b[0mend\u001b[0m \u001b[0;34m=\u001b[0m \u001b[0mint\u001b[0m\u001b[0;34m(\u001b[0m\u001b[0mraw_input\u001b[0m\u001b[0;34m(\u001b[0m\u001b[0;34m\"enter a number:\"\u001b[0m\u001b[0;34m)\u001b[0m\u001b[0;34m)\u001b[0m\u001b[0;34m\u001b[0m\u001b[0m\n",
      "\u001b[0;31mValueError\u001b[0m: invalid literal for int() with base 10: '5,500'"
     ]
    }
   ],
   "source": [
    "# check whether given number prime or not\n",
    "\n",
    "start = int(raw_input(\"enter a number:\"))\n",
    "prime_number=None\n",
    "end = int(raw_input(\"enter a number:\"))\n",
    "if end<=2:\n",
    "    if end==2:\n",
    "        print \"2\"\n",
    "    else:\n",
    "        print \"please give a range correctly\"\n",
    "    \n",
    "for number in xrange(start,end+1):\n",
    "    for i in xrange(2,number/2):\n",
    "        print i\n",
    "        if number%i==0:\n",
    "            print \"it's not a prime number.\"\n",
    "            break\n",
    "    else:\n",
    "        prime_number=number\n",
    "        print \"it's a prime number\"\n",
    "if prime_number:\n",
    "    print \"biggest prime number in the given range:\",prime_number"
   ]
  },
  {
   "cell_type": "code",
   "execution_count": 41,
   "metadata": {},
   "outputs": [
    {
     "name": "stdout",
     "output_type": "stream",
     "text": [
      "enter a number:5\n",
      "enter a number:500\n",
      "biggest prime number in the given range: 499\n"
     ]
    }
   ],
   "source": [
    "# check whether given number prime or not\n",
    "\n",
    "start = int(raw_input(\"enter a number:\"))\n",
    "prime_number=None\n",
    "end = int(raw_input(\"enter a number:\"))\n",
    "if end<=2:\n",
    "    if end==2:\n",
    "        print \"2\"\n",
    "    else:\n",
    "        print \"please give a range correctly\"\n",
    "    \n",
    "for number in xrange(start,end+1):\n",
    "    for i in xrange(2,number/2):\n",
    "        if number%i==0:  \n",
    "            break\n",
    "    else:\n",
    "        prime_number=number\n",
    "        \n",
    "if prime_number:\n",
    "    print \"biggest prime number in the given range:\",prime_number"
   ]
  },
  {
   "cell_type": "code",
   "execution_count": 42,
   "metadata": {},
   "outputs": [
    {
     "data": {
      "text/plain": [
       "False"
      ]
     },
     "execution_count": 42,
     "metadata": {},
     "output_type": "execute_result"
    }
   ],
   "source": [
    "bool(0)"
   ]
  },
  {
   "cell_type": "code",
   "execution_count": 43,
   "metadata": {},
   "outputs": [
    {
     "data": {
      "text/plain": [
       "True"
      ]
     },
     "execution_count": 43,
     "metadata": {},
     "output_type": "execute_result"
    }
   ],
   "source": [
    "bool(1)"
   ]
  },
  {
   "cell_type": "code",
   "execution_count": 44,
   "metadata": {},
   "outputs": [
    {
     "data": {
      "text/plain": [
       "True"
      ]
     },
     "execution_count": 44,
     "metadata": {},
     "output_type": "execute_result"
    }
   ],
   "source": [
    "bool(10)"
   ]
  },
  {
   "cell_type": "code",
   "execution_count": 45,
   "metadata": {},
   "outputs": [
    {
     "data": {
      "text/plain": [
       "True"
      ]
     },
     "execution_count": 45,
     "metadata": {},
     "output_type": "execute_result"
    }
   ],
   "source": [
    "bool(\"python\")"
   ]
  },
  {
   "cell_type": "code",
   "execution_count": 46,
   "metadata": {},
   "outputs": [
    {
     "data": {
      "text/plain": [
       "False"
      ]
     },
     "execution_count": 46,
     "metadata": {},
     "output_type": "execute_result"
    }
   ],
   "source": [
    "bool(\"\")"
   ]
  },
  {
   "cell_type": "code",
   "execution_count": 47,
   "metadata": {},
   "outputs": [
    {
     "data": {
      "text/plain": [
       "True"
      ]
     },
     "execution_count": 47,
     "metadata": {},
     "output_type": "execute_result"
    }
   ],
   "source": [
    "bool([1,2,3,4])"
   ]
  },
  {
   "cell_type": "code",
   "execution_count": 48,
   "metadata": {},
   "outputs": [
    {
     "data": {
      "text/plain": [
       "False"
      ]
     },
     "execution_count": 48,
     "metadata": {},
     "output_type": "execute_result"
    }
   ],
   "source": [
    "bool([])"
   ]
  },
  {
   "cell_type": "code",
   "execution_count": 49,
   "metadata": {},
   "outputs": [
    {
     "data": {
      "text/plain": [
       "True"
      ]
     },
     "execution_count": 49,
     "metadata": {},
     "output_type": "execute_result"
    }
   ],
   "source": [
    "bool((1,2,3,4))"
   ]
  },
  {
   "cell_type": "code",
   "execution_count": 50,
   "metadata": {},
   "outputs": [
    {
     "data": {
      "text/plain": [
       "False"
      ]
     },
     "execution_count": 50,
     "metadata": {},
     "output_type": "execute_result"
    }
   ],
   "source": [
    "bool(())"
   ]
  },
  {
   "cell_type": "code",
   "execution_count": 51,
   "metadata": {},
   "outputs": [
    {
     "data": {
      "text/plain": [
       "False"
      ]
     },
     "execution_count": 51,
     "metadata": {},
     "output_type": "execute_result"
    }
   ],
   "source": [
    "bool(0)"
   ]
  },
  {
   "cell_type": "code",
   "execution_count": 52,
   "metadata": {},
   "outputs": [
    {
     "data": {
      "text/plain": [
       "False"
      ]
     },
     "execution_count": 52,
     "metadata": {},
     "output_type": "execute_result"
    }
   ],
   "source": [
    "bool(0.0)"
   ]
  },
  {
   "cell_type": "code",
   "execution_count": 53,
   "metadata": {},
   "outputs": [
    {
     "data": {
      "text/plain": [
       "True"
      ]
     },
     "execution_count": 53,
     "metadata": {},
     "output_type": "execute_result"
    }
   ],
   "source": [
    "bool(0.1)"
   ]
  },
  {
   "cell_type": "code",
   "execution_count": 54,
   "metadata": {},
   "outputs": [
    {
     "data": {
      "text/plain": [
       "True"
      ]
     },
     "execution_count": 54,
     "metadata": {},
     "output_type": "execute_result"
    }
   ],
   "source": [
    "bool(\"0\")"
   ]
  },
  {
   "cell_type": "code",
   "execution_count": 55,
   "metadata": {},
   "outputs": [
    {
     "data": {
      "text/plain": [
       "False"
      ]
     },
     "execution_count": 55,
     "metadata": {},
     "output_type": "execute_result"
    }
   ],
   "source": [
    "bool(None)"
   ]
  },
  {
   "cell_type": "code",
   "execution_count": 57,
   "metadata": {},
   "outputs": [
    {
     "name": "stdout",
     "output_type": "stream",
     "text": [
      "10 is true\n"
     ]
    }
   ],
   "source": [
    "if bool(10):\n",
    "    print \"10 is true\"\n",
    "else:\n",
    "    print \"10 is false\""
   ]
  },
  {
   "cell_type": "code",
   "execution_count": 58,
   "metadata": {},
   "outputs": [
    {
     "name": "stdout",
     "output_type": "stream",
     "text": [
      "0 is false\n"
     ]
    }
   ],
   "source": [
    "if bool(0):\n",
    "    print \"0 is true\"\n",
    "else:\n",
    "    print \"0 is false\""
   ]
  },
  {
   "cell_type": "code",
   "execution_count": 59,
   "metadata": {},
   "outputs": [
    {
     "name": "stdout",
     "output_type": "stream",
     "text": [
      "0 is false\n"
     ]
    }
   ],
   "source": [
    "if 0:\n",
    "    print \"0 is true\"\n",
    "else:\n",
    "    print \"0 is false\""
   ]
  },
  {
   "cell_type": "code",
   "execution_count": 60,
   "metadata": {},
   "outputs": [
    {
     "name": "stdout",
     "output_type": "stream",
     "text": [
      "None is false\n"
     ]
    }
   ],
   "source": [
    "if None:\n",
    "    print \"None is true\"\n",
    "else:\n",
    "    print \"None is false\""
   ]
  },
  {
   "cell_type": "code",
   "execution_count": 62,
   "metadata": {},
   "outputs": [
    {
     "name": "stdout",
     "output_type": "stream",
     "text": [
      "enter a number:5\n",
      "enter a number:5000\n",
      "biggest prime number in the given range: 4999\n"
     ]
    }
   ],
   "source": [
    "# check whether given number prime or not\n",
    "\n",
    "start = int(raw_input(\"enter a number:\"))\n",
    "prime_number=None\n",
    "end = int(raw_input(\"enter a number:\"))\n",
    "if end<=2:\n",
    "    if end==2:\n",
    "        print \"2\"\n",
    "    else:\n",
    "        print \"please give a range correctly\"\n",
    "    \n",
    "for number in xrange(start,end+1):\n",
    "    for i in xrange(2,number/2):\n",
    "        if number%i==0:  \n",
    "            break\n",
    "    else:\n",
    "        prime_number=number\n",
    "        \n",
    "if prime_number:\n",
    "    print \"biggest prime number in the given range:\",prime_number"
   ]
  },
  {
   "cell_type": "code",
   "execution_count": null,
   "metadata": {
    "collapsed": true
   },
   "outputs": [],
   "source": []
  }
 ],
 "metadata": {
  "kernelspec": {
   "display_name": "Python 2",
   "language": "python",
   "name": "python2"
  },
  "language_info": {
   "codemirror_mode": {
    "name": "ipython",
    "version": 2
   },
   "file_extension": ".py",
   "mimetype": "text/x-python",
   "name": "python",
   "nbconvert_exporter": "python",
   "pygments_lexer": "ipython2",
   "version": "2.7.14"
  }
 },
 "nbformat": 4,
 "nbformat_minor": 2
}
